{
 "cells": [
  {
   "cell_type": "markdown",
   "metadata": {},
   "source": [
    "# Streaming ASR\n",
    "In this tutorial, we will look at one way to use one of NeMo's pretrained Conformer-CTC models for streaming inference. We will first look at some use cases where we may need streaming inference and then we will work towards developing a method for transcribing a long audio file using streaming."
   ]
  },
  {
   "cell_type": "markdown",
   "metadata": {
    "id": "v1Jk9etFlRzf"
   },
   "source": [
    "# Why Stream?\n",
    "Streaming inference may be needed in one of the following scenarios:\n",
    "* Real-time or close to real-time inference for live transcriptions\n",
    "* Offline transcriptions of very long audio\n",
    "\n",
    "In this tutorial, we will mainly focus on streaming for handling long form audio and close to real-time inference with CTC based models. For training ASR models we usually use short segments of audio (<20s) that may be smaller chunks of a long audio that is aligned with the transcriptions and segmented into smaller chunks (see [tools/](https://github.com/NVIDIA/NeMo/tree/main/tools) for some great tools to do this). For running inference on long audio files we are restricted by the available GPU memory that dictates the maximum length of audio that can be transcribed in one inference call. We will take a look at one of the ways to overcome this restriction using NeMo's Conformer-CTC ASR model."
   ]
  },
  {
   "cell_type": "markdown",
   "metadata": {},
   "source": [
    "# Conformer-CTC\n",
    "Conformer-CTC models distributed with NeMo use a combination of self-attention and convolution modules to achieve the best of the two approaches, the self-attention layers can learn the global interaction while the convolutions efficiently capture the local correlations. Use of self-attention layers comes with a cost of increased memory usage at a quadratic rate with the sequence length. That means that transcribing long audio files with Conformer-CTC models needs streaming inference to break up the audio into smaller chunks. We will develop one method to do such inference through the course of this tutorial."
   ]
  },
  {
   "cell_type": "markdown",
   "metadata": {},
   "source": [
    "# Data\n",
    "To demonstrate transcribing a long audio file we will use utterances from the dev-clean set of the [mini Librispeech corpus](https://www.openslr.org/31/).  "
   ]
  },
  {
   "cell_type": "markdown",
   "metadata": {},
   "source": [
    "Let's create a long audio that is about 15 minutes long by concatenating audio from dev-clean  and also create the corresponding concatenated transcript."
   ]
  },
  {
   "cell_type": "code",
   "execution_count": 1,
   "metadata": {},
   "outputs": [
    {
     "name": "stdout",
     "output_type": "stream",
     "text": [
      "Requirement already satisfied: moviepy in /external/anaconda3/envs/nemo/lib/python3.10/site-packages (1.0.3)\n",
      "Requirement already satisfied: decorator<5.0,>=4.0.2 in /external/anaconda3/envs/nemo/lib/python3.10/site-packages (from moviepy) (4.4.2)\n",
      "Requirement already satisfied: tqdm<5.0,>=4.11.2 in /external/anaconda3/envs/nemo/lib/python3.10/site-packages (from moviepy) (4.66.4)\n",
      "Requirement already satisfied: requests<3.0,>=2.8.1 in /external/anaconda3/envs/nemo/lib/python3.10/site-packages (from moviepy) (2.32.3)\n",
      "Requirement already satisfied: proglog<=1.0.0 in /external/anaconda3/envs/nemo/lib/python3.10/site-packages (from moviepy) (0.1.10)\n",
      "Requirement already satisfied: numpy>=1.17.3 in /external/anaconda3/envs/nemo/lib/python3.10/site-packages (from moviepy) (1.22.0)\n",
      "Requirement already satisfied: imageio<3.0,>=2.5 in /external/anaconda3/envs/nemo/lib/python3.10/site-packages (from moviepy) (2.34.2)\n",
      "Requirement already satisfied: imageio-ffmpeg>=0.2.0 in /external/anaconda3/envs/nemo/lib/python3.10/site-packages (from moviepy) (0.5.1)\n",
      "Requirement already satisfied: pillow>=8.3.2 in /external/anaconda3/envs/nemo/lib/python3.10/site-packages (from imageio<3.0,>=2.5->moviepy) (10.4.0)\n",
      "Requirement already satisfied: setuptools in /external/anaconda3/envs/nemo/lib/python3.10/site-packages (from imageio-ffmpeg>=0.2.0->moviepy) (69.5.1)\n",
      "Requirement already satisfied: charset-normalizer<4,>=2 in /external/anaconda3/envs/nemo/lib/python3.10/site-packages (from requests<3.0,>=2.8.1->moviepy) (3.3.2)\n",
      "Requirement already satisfied: idna<4,>=2.5 in /external/anaconda3/envs/nemo/lib/python3.10/site-packages (from requests<3.0,>=2.8.1->moviepy) (3.7)\n",
      "Requirement already satisfied: urllib3<3,>=1.21.1 in /external/anaconda3/envs/nemo/lib/python3.10/site-packages (from requests<3.0,>=2.8.1->moviepy) (2.2.2)\n",
      "Requirement already satisfied: certifi>=2017.4.17 in /external/anaconda3/envs/nemo/lib/python3.10/site-packages (from requests<3.0,>=2.8.1->moviepy) (2024.7.4)\n"
     ]
    }
   ],
   "source": [
    "!pip install moviepy\n"
   ]
  },
  {
   "cell_type": "code",
   "execution_count": 24,
   "metadata": {},
   "outputs": [],
   "source": [
    "# new_duration, ref_transcript = concat_audio(manifest, 15*60)\n",
    "\n",
    "concat_audio_path = \"/external2/datasets/soccer/final.wav\"\n",
    "\n",
    "# !ffmpeg -t {new_duration} -safe 0 -f concat -i concat_file.txt -c copy -t {new_duration} {concat_audio_path} -y\n",
    "# print(\"Finished concatenating audio file!\")"
   ]
  },
  {
   "cell_type": "markdown",
   "metadata": {},
   "source": [
    "# Streaming with CTC based models\n",
    "Now let's try to transcribe the long audio file created above using a conformer-large model."
   ]
  },
  {
   "cell_type": "code",
   "execution_count": 25,
   "metadata": {},
   "outputs": [],
   "source": [
    "import torch\n",
    "import nemo.collections.asr as nemo_asr\n",
    "import contextlib\n",
    "import gc"
   ]
  },
  {
   "cell_type": "code",
   "execution_count": 26,
   "metadata": {},
   "outputs": [],
   "source": [
    "device = 'cpu'"
   ]
  },
  {
   "cell_type": "markdown",
   "metadata": {},
   "source": [
    "We are mainly concerned about decoding on the GPU in this tutorial. CPU decoding may be able to handle longer files but would also not be as fast as GPU decoding. Let's check if we can run transcribe() on the long audio file that we created above."
   ]
  },
  {
   "cell_type": "code",
   "execution_count": 47,
   "metadata": {},
   "outputs": [
    {
     "name": "stdout",
     "output_type": "stream",
     "text": [
      "[NeMo I 2024-07-22 11:14:40 mixins:172] Tokenizer SentencePieceTokenizer initialized with 2500 tokens\n"
     ]
    },
    {
     "name": "stderr",
     "output_type": "stream",
     "text": [
      "[NeMo W 2024-07-22 11:14:41 modelPT:165] If you intend to do training or fine-tuning, please call the ModelPT.setup_training_data() method and provide a valid configuration file to setup the train data loader.\n",
      "    Train config : \n",
      "    manifest_filepath: /external2/datasets/text/synthetic/processed_r3/train.json\n",
      "    sample_rate: 16000\n",
      "    batch_size: 16\n",
      "    shuffle: true\n",
      "    num_workers: 8\n",
      "    pin_memory: true\n",
      "    use_start_end_token: false\n",
      "    trim_silence: false\n",
      "    max_duration: 20.0\n",
      "    min_duration: 0.1\n",
      "    shuffle_n: 2048\n",
      "    is_tarred: false\n",
      "    tarred_audio_filepaths: null\n",
      "    \n",
      "[NeMo W 2024-07-22 11:14:41 modelPT:172] If you intend to do validation, please call the ModelPT.setup_validation_data() or ModelPT.setup_multiple_validation_data() method and provide a valid configuration file to setup the validation data loader(s). \n",
      "    Validation config : \n",
      "    manifest_filepath: /external2/datasets/text/synthetic/processed_r3/valid.json\n",
      "    sample_rate: 16000\n",
      "    batch_size: 16\n",
      "    shuffle: false\n",
      "    num_workers: 8\n",
      "    pin_memory: true\n",
      "    use_start_end_token: false\n",
      "    is_tarred: false\n",
      "    tarred_audio_filepaths: na\n",
      "    \n",
      "[NeMo W 2024-07-22 11:14:41 modelPT:178] Please call the ModelPT.setup_test_data() or ModelPT.setup_multiple_test_data() method and provide a valid configuration file to setup the test data loader(s).\n",
      "    Test config : \n",
      "    manifest_filepath: /external2/datasets/text/synthetic/processed_r3/valid.json\n",
      "    sample_rate: 16000\n",
      "    batch_size: 16\n",
      "    shuffle: false\n",
      "    num_workers: 8\n",
      "    pin_memory: true\n",
      "    use_start_end_token: false\n",
      "    is_tarred: false\n",
      "    tarred_audio_filepaths: na\n",
      "    \n"
     ]
    },
    {
     "name": "stdout",
     "output_type": "stream",
     "text": [
      "[NeMo I 2024-07-22 11:14:41 features:289] PADDING: 0\n",
      "[NeMo I 2024-07-22 11:14:42 save_restore_connector:249] Model EncDecCTCModelBPE was successfully restored from /external2/karan_exp/experiments/finetune-alllang-130k-ctc-r3/2024-07-22_01-37-14/checkpoints/finetune-alllang-130k-ctc-r3.nemo.\n"
     ]
    }
   ],
   "source": [
    "# Clear up memory\n",
    "torch.cuda.empty_cache()\n",
    "gc.collect()\n",
    "map_location = torch.device('cpu')\n",
    "\n",
    "model = nemo_asr.models.ASRModel.restore_from(\"/external2/karan_exp/experiments/finetune-alllang-130k-ctc-r3/2024-07-22_01-37-14/checkpoints/finetune-alllang-130k-ctc-r3.nemo\", map_location=map_location)\n",
    "# device = 'cpu'  # You can transcribe even longer samples on the CPU, though it will take much longer !\n",
    "model = model.to(device)"
   ]
  },
  {
   "cell_type": "markdown",
   "metadata": {},
   "source": [
    "The call to transcribe() below should fail with a \"CUDA out of memory\" error when run on a GPU with 32 GB memory."
   ]
  },
  {
   "cell_type": "markdown",
   "metadata": {},
   "source": [
    "# Buffer mechanism for streaming long audio files\n",
    "One way to transcribe long audio with a Conformer-CTC model would be to split the audio into consecutive smaller chunks and running inference on each chunk. Care should be taken to have enough context for audio at either edges for accurate transcription. Let's introduce some terminology here to help us navigate the rest of this tutorial. \n",
    "\n",
    "* Buffer size is the length of audio on which inference is run\n",
    "* Chunk size is the length of new audio that is added to the buffer.\n",
    "\n",
    "An audio buffer is made up of a chunk of audio with some padded audio from previous chunk. In order to make the best predictions with enough context for the beginning and end portions of the buffer, we only collect tokens for the middle portion of the buffer of length equal to the size of each chunk.  \n",
    "\n",
    "Let's suppose that the maximum length of audio that can be transcribed with conformer-large model is 20s, then we can use 20s as the buffer size and use 15s (for example) as the chunk size, so one hour of audio is broken into 240 chunks of 15s each. Let's take a look at a few audio buffers that may be created for this audio."
   ]
  },
  {
   "cell_type": "code",
   "execution_count": 28,
   "metadata": {},
   "outputs": [],
   "source": [
    "# A simple iterator class to return successive chunks of samples\n",
    "class AudioChunkIterator():\n",
    "    def __init__(self, samples, frame_len, sample_rate):\n",
    "        self._samples = samples\n",
    "        self._chunk_len = chunk_len_in_secs*sample_rate\n",
    "        self._start = 0\n",
    "        self.output=True\n",
    "   \n",
    "    def __iter__(self):\n",
    "        return self\n",
    "    \n",
    "    def __next__(self):\n",
    "        if not self.output:\n",
    "            raise StopIteration\n",
    "        last = int(self._start + self._chunk_len)\n",
    "        if last <= len(self._samples):\n",
    "            chunk = self._samples[self._start: last]\n",
    "            self._start = last\n",
    "        else:\n",
    "            chunk = np.zeros([int(self._chunk_len)], dtype='float32')\n",
    "            samp_len = len(self._samples) - self._start\n",
    "            chunk[0:samp_len] = self._samples[self._start:len(self._samples)]\n",
    "            self.output = False\n",
    "   \n",
    "        return chunk"
   ]
  },
  {
   "cell_type": "code",
   "execution_count": 38,
   "metadata": {},
   "outputs": [],
   "source": [
    "# a helper function for extracting samples as a numpy array from the audio file\n",
    "import soundfile as sf\n",
    "def get_samples(audio_file, target_sr=16000):\n",
    "    with sf.SoundFile(audio_file, 'r') as f:\n",
    "        sample_rate = f.samplerate\n",
    "        samples = f.read()\n",
    "        if sample_rate != target_sr:\n",
    "            samples = librosa.core.resample(samples, orig_sr=sample_rate, target_sr=target_sr)\n",
    "        samples = samples.transpose()\n",
    "        return samples\n"
   ]
  },
  {
   "cell_type": "markdown",
   "metadata": {},
   "source": [
    "Let's take a look at each chunk of speech that is used for decoding."
   ]
  },
  {
   "cell_type": "code",
   "execution_count": 39,
   "metadata": {},
   "outputs": [],
   "source": [
    "import matplotlib.pyplot as plt\n",
    "samples = get_samples(concat_audio_path)\n",
    "sample_rate  = model.preprocessor._cfg['sample_rate'] \n",
    "chunk_len_in_secs = 1            \n",
    "chunk_reader = AudioChunkIterator(samples, chunk_len_in_secs, sample_rate)\n",
    "count = 0\n",
    "for chunk in chunk_reader:\n",
    "    count +=1\n",
    "    #plt.plot(chunk)\n",
    "    #plt.show()\n",
    "    if count >= 100:\n",
    "        break\n"
   ]
  },
  {
   "cell_type": "markdown",
   "metadata": {},
   "source": [
    "Now, let's plot the actual buffers at each stage after a new chunk is added to the buffer. Audio buffer can be thought of as a fixed size queue with each incoming chunk added at the end of the buffer and the oldest samples removed from the beginning."
   ]
  },
  {
   "cell_type": "code",
   "execution_count": 41,
   "metadata": {},
   "outputs": [],
   "source": [
    "import numpy as np\n",
    "context_len_in_secs = 5\n",
    "\n",
    "buffer_len_in_secs = chunk_len_in_secs + 2* context_len_in_secs\n",
    "\n",
    "buffer_len = sample_rate*buffer_len_in_secs\n",
    "sampbuffer = np.zeros([buffer_len], dtype=np.float32)\n",
    "\n",
    "chunk_reader = AudioChunkIterator(samples, chunk_len_in_secs, sample_rate)\n",
    "chunk_len = sample_rate*chunk_len_in_secs\n",
    "count = 0\n",
    "for chunk in chunk_reader:\n",
    "    count +=1\n",
    "    sampbuffer[:-chunk_len] = sampbuffer[chunk_len:]\n",
    "    sampbuffer[-chunk_len:] = chunk\n",
    "    #plt.plot(sampbuffer)\n",
    "    #plt.show()\n",
    "    if count >= 100:\n",
    "        break"
   ]
  },
  {
   "cell_type": "markdown",
   "metadata": {},
   "source": [
    "Now that we have a method to split the long audio into smaller chunks, we can now work on transcribing the individual buffers and merging the outputs to get the transcription of the whole audio.\n",
    "First, we implement some helper functions to help load the buffers into the data layer."
   ]
  },
  {
   "cell_type": "code",
   "execution_count": 42,
   "metadata": {},
   "outputs": [],
   "source": [
    "from nemo.core.classes import IterableDataset\n",
    "\n",
    "def speech_collate_fn(batch):\n",
    "    \"\"\"collate batch of audio sig, audio len\n",
    "    Args:\n",
    "        batch (FloatTensor, LongTensor):  A tuple of tuples of signal, signal lengths.\n",
    "        This collate func assumes the signals are 1d torch tensors (i.e. mono audio).\n",
    "    \"\"\"\n",
    "\n",
    "    _, audio_lengths = zip(*batch)\n",
    "\n",
    "    max_audio_len = 0\n",
    "    has_audio = audio_lengths[0] is not None\n",
    "    if has_audio:\n",
    "        max_audio_len = max(audio_lengths).item()\n",
    "   \n",
    "    \n",
    "    audio_signal= []\n",
    "    for sig, sig_len in batch:\n",
    "        if has_audio:\n",
    "            sig_len = sig_len.item()\n",
    "            if sig_len < max_audio_len:\n",
    "                pad = (0, max_audio_len - sig_len)\n",
    "                sig = torch.nn.functional.pad(sig, pad)\n",
    "            audio_signal.append(sig)\n",
    "        \n",
    "    if has_audio:\n",
    "        audio_signal = torch.stack(audio_signal)\n",
    "        audio_lengths = torch.stack(audio_lengths)\n",
    "    else:\n",
    "        audio_signal, audio_lengths = None, None\n",
    "\n",
    "    return audio_signal, audio_lengths\n",
    "\n",
    "# simple data layer to pass audio signal\n",
    "class AudioBuffersDataLayer(IterableDataset):\n",
    "    \n",
    "\n",
    "    def __init__(self):\n",
    "        super().__init__()\n",
    "\n",
    "        \n",
    "    def __iter__(self):\n",
    "        return self\n",
    "    \n",
    "    def __next__(self):\n",
    "        if self._buf_count == len(self.signal) :\n",
    "            raise StopIteration\n",
    "        self._buf_count +=1\n",
    "        return torch.as_tensor(self.signal[self._buf_count-1], dtype=torch.float32), \\\n",
    "               torch.as_tensor(self.signal_shape[0], dtype=torch.int64)\n",
    "        \n",
    "    def set_signal(self, signals):\n",
    "        self.signal = signals\n",
    "        self.signal_shape = self.signal[0].shape\n",
    "        self._buf_count = 0\n",
    "\n",
    "    def __len__(self):\n",
    "        return 1\n",
    "    "
   ]
  },
  {
   "cell_type": "markdown",
   "metadata": {},
   "source": [
    "Next we implement a class that implements transcribing audio buffers and merging the tokens corresponding to a chunk of audio within each buffer. \n",
    "\n",
    "For each buffer, we pick tokens corresponding to one chunk length of audio. The chunk within each buffer is chosen such that there is equal left and right context available to the audio within the chunk.\n",
    "\n",
    "For example, if the chunk size is 1s and buffer size is 3s, we collect tokens corresponding to audio starting from 1s to 2s within each buffer. Conformer-CTC models have a model stride of 4, i.e., a token is produced for every 4 feature vectors in the time domain. MelSpectrogram features are generated once every 10 ms, so a token is produced for every 40 ms of audio.\n",
    "\n",
    "**Note:** The inherent assumption here is that the output tokens from the model are well aligned with corresponding audio segments. This may not always be true for models trained with CTC loss, so this method of streaming inference may not always work with CTC based models. "
   ]
  },
  {
   "cell_type": "code",
   "execution_count": 43,
   "metadata": {},
   "outputs": [],
   "source": [
    "import torch\n",
    "import math\n",
    "import matplotlib.pyplot as plt\n",
    "import cv2\n",
    "import numpy as np\n",
    "from torch.utils.data import DataLoader\n",
    "\n",
    "\n",
    "class ChunkBufferDecoder:\n",
    "\n",
    "    def __init__(self, asr_model, stride, chunk_len_in_secs=1, buffer_len_in_secs=3):\n",
    "        self.asr_model = asr_model\n",
    "        self.asr_model.eval()\n",
    "        self.data_layer = AudioBuffersDataLayer()\n",
    "        self.data_loader = DataLoader(self.data_layer, batch_size=1, collate_fn=speech_collate_fn)\n",
    "        self.buffers = []\n",
    "        self.all_preds = []\n",
    "        self.chunk_len = chunk_len_in_secs\n",
    "        self.buffer_len = buffer_len_in_secs\n",
    "        assert(chunk_len_in_secs <= buffer_len_in_secs)\n",
    "        \n",
    "        feature_stride = asr_model._cfg.preprocessor['window_stride']\n",
    "        self.model_stride_in_secs = feature_stride * stride\n",
    "        self.n_tokens_per_chunk = math.ceil(self.chunk_len / self.model_stride_in_secs)\n",
    "        self.blank_id = len(asr_model.decoder.vocabulary)\n",
    "        self.plot = False\n",
    "        self.frames = []\n",
    "\n",
    "    @torch.no_grad()\n",
    "    def transcribe_buffers(self, buffers, merge=True, plot=False):\n",
    "        self.plot = plot\n",
    "        self.buffers = buffers\n",
    "        self.data_layer.set_signal(buffers[:])\n",
    "        self._get_batch_preds()\n",
    "        result = self.decode_final(merge)\n",
    "        if plot:\n",
    "            self.save_video('output_video.mp4')\n",
    "        return result\n",
    "    \n",
    "    def _get_batch_preds(self):\n",
    "        device = self.asr_model.device\n",
    "        for batch in iter(self.data_loader):\n",
    "            audio_signal, audio_signal_len = batch\n",
    "            audio_signal, audio_signal_len = audio_signal.to(device), audio_signal_len.to(device)\n",
    "            log_probs, encoded_len, predictions = self.asr_model(input_signal=audio_signal, input_signal_length=audio_signal_len)\n",
    "            preds = torch.unbind(predictions)\n",
    "            for pred in preds:\n",
    "                self.all_preds.append(pred.cpu().numpy())\n",
    "    \n",
    "    def decode_final(self, merge=True, extra=0):\n",
    "        self.unmerged = []\n",
    "        self.toks_unmerged = []\n",
    "        delay = math.ceil((self.chunk_len + (self.buffer_len - self.chunk_len) / 2) / self.model_stride_in_secs)\n",
    "        decoded_frames = []\n",
    "        all_toks = []\n",
    "        for pred in self.all_preds:\n",
    "            ids, toks = self._greedy_decoder(pred, self.asr_model.tokenizer)\n",
    "            decoded_frames.append(ids)\n",
    "            all_toks.append(toks)\n",
    "\n",
    "        for decoded in decoded_frames:\n",
    "            self.unmerged += decoded[len(decoded) - 1 - delay:len(decoded) - 1 - delay + self.n_tokens_per_chunk]\n",
    "        if self.plot:\n",
    "            for i, tok in enumerate(all_toks):\n",
    "                self.plot_and_save_frame(self.buffers[i], tok[len(tok) - 1 - delay:len(tok) - 1 - delay + self.n_tokens_per_chunk])\n",
    "            print(\"\\nTokens collected from successive buffers before CTC merge\")\n",
    "            print(self.toks_unmerged)\n",
    "        \n",
    "        if not merge:\n",
    "            return self.unmerged\n",
    "        return self.greedy_merge(self.unmerged)\n",
    "    \n",
    "    def _greedy_decoder(self, preds, tokenizer):\n",
    "        s = []\n",
    "        ids = []\n",
    "        for i in range(preds.shape[0]):\n",
    "            if preds[i] == self.blank_id:\n",
    "                s.append(\"_\")\n",
    "            else:\n",
    "                pred = preds[i]\n",
    "                s.append(tokenizer.ids_to_tokens([pred.item()])[0])\n",
    "            ids.append(preds[i])\n",
    "        return ids, s\n",
    "    \n",
    "    def greedy_merge(self, preds):\n",
    "        decoded_prediction = []\n",
    "        previous = self.blank_id\n",
    "        for p in preds:\n",
    "            if (p != previous or previous == self.blank_id) and p != self.blank_id:\n",
    "                decoded_prediction.append(p.item())\n",
    "            previous = p\n",
    "        hypothesis = self.asr_model.tokenizer.ids_to_text(decoded_prediction)\n",
    "        return hypothesis\n",
    "\n",
    "    def plot_and_save_frame(self, buffer, tokens):\n",
    "        plt.figure()\n",
    "        plt.plot(buffer)\n",
    "        plt.title(' '.join(tokens))\n",
    "        plt.xlabel('Time')\n",
    "        plt.ylabel('Amplitude')\n",
    "        \n",
    "        plt.savefig('frame.png')\n",
    "        plt.close()\n",
    "        \n",
    "        frame = cv2.imread('frame.png')\n",
    "        self.frames.append(frame)\n",
    "        self.toks_unmerged += tokens\n",
    "    \n",
    "    def save_video(self, filename, fps=1):\n",
    "        height, width, _ = self.frames[0].shape\n",
    "        fourcc = cv2.VideoWriter_fourcc(*'mp4v')\n",
    "        video = cv2.VideoWriter(filename, fourcc, fps, (width, height))\n",
    "        for frame in self.frames:\n",
    "            video.write(frame)\n",
    "        video.release()\n"
   ]
  },
  {
   "cell_type": "markdown",
   "metadata": {},
   "source": [
    "To see how this chunk based decoder comes together, let's call the decoder with a few buffers we create from our long audio file.\n",
    "Some interesting experiments to try would be to see how changing sizes of the chunk and the context affects transcription accuracy.  "
   ]
  },
  {
   "cell_type": "code",
   "execution_count": 44,
   "metadata": {},
   "outputs": [],
   "source": [
    "\n",
    "chunk_len_in_secs = 4\n",
    "context_len_in_secs = 5\n",
    "\n",
    "buffer_len_in_secs = chunk_len_in_secs + 2* context_len_in_secs\n",
    "\n",
    "n_buffers = 100\n",
    "\n",
    "buffer_len = sample_rate*buffer_len_in_secs\n",
    "sampbuffer = np.zeros([buffer_len], dtype=np.float32)\n",
    "\n",
    "chunk_reader = AudioChunkIterator(samples, chunk_len_in_secs, sample_rate)\n",
    "chunk_len = sample_rate*chunk_len_in_secs\n",
    "count = 0\n",
    "buffer_list = []\n",
    "for chunk in chunk_reader:\n",
    "    count +=1\n",
    "    sampbuffer[:-chunk_len] = sampbuffer[chunk_len:]\n",
    "    sampbuffer[-chunk_len:] = chunk\n",
    "    buffer_list.append(np.array(sampbuffer))\n",
    "   \n",
    "    if count >= n_buffers:\n",
    "        break\n"
   ]
  },
  {
   "cell_type": "code",
   "execution_count": 48,
   "metadata": {},
   "outputs": [
    {
     "name": "stderr",
     "output_type": "stream",
     "text": [
      "[NeMo W 2024-07-22 11:16:08 nemo_logging:349] /tmp/ipykernel_1696276/3477953648.py:102: UserWarning: Glyph 2360 (\\N{DEVANAGARI LETTER SA}) missing from current font.\n",
      "      plt.savefig('frame.png')\n",
      "    \n",
      "[NeMo W 2024-07-22 11:16:08 nemo_logging:349] /tmp/ipykernel_1696276/3477953648.py:102: UserWarning: Matplotlib currently does not support Devanagari natively.\n",
      "      plt.savefig('frame.png')\n",
      "    \n",
      "[NeMo W 2024-07-22 11:16:08 nemo_logging:349] /tmp/ipykernel_1696276/3477953648.py:102: UserWarning: Glyph 2375 (\\N{DEVANAGARI VOWEL SIGN E}) missing from current font.\n",
      "      plt.savefig('frame.png')\n",
      "    \n",
      "[NeMo W 2024-07-22 11:16:09 nemo_logging:349] /tmp/ipykernel_1696276/3477953648.py:102: UserWarning: Glyph 2352 (\\N{DEVANAGARI LETTER RA}) missing from current font.\n",
      "      plt.savefig('frame.png')\n",
      "    \n",
      "[NeMo W 2024-07-22 11:16:09 nemo_logging:349] /tmp/ipykernel_1696276/3477953648.py:102: UserWarning: Glyph 2366 (\\N{DEVANAGARI VOWEL SIGN AA}) missing from current font.\n",
      "      plt.savefig('frame.png')\n",
      "    \n",
      "[NeMo W 2024-07-22 11:16:10 nemo_logging:349] /tmp/ipykernel_1696276/3477953648.py:102: UserWarning: Glyph 3120 (\\N{TELUGU LETTER RA}) missing from current font.\n",
      "      plt.savefig('frame.png')\n",
      "    \n",
      "[NeMo W 2024-07-22 11:16:10 nemo_logging:349] /tmp/ipykernel_1696276/3477953648.py:102: UserWarning: Matplotlib currently does not support Telugu natively.\n",
      "      plt.savefig('frame.png')\n",
      "    \n",
      "[NeMo W 2024-07-22 11:16:10 nemo_logging:349] /tmp/ipykernel_1696276/3477953648.py:102: UserWarning: Glyph 3125 (\\N{TELUGU LETTER VA}) missing from current font.\n",
      "      plt.savefig('frame.png')\n",
      "    \n",
      "[NeMo W 2024-07-22 11:16:10 nemo_logging:349] /tmp/ipykernel_1696276/3477953648.py:102: UserWarning: Glyph 3110 (\\N{TELUGU LETTER DA}) missing from current font.\n",
      "      plt.savefig('frame.png')\n",
      "    \n",
      "[NeMo W 2024-07-22 11:16:10 nemo_logging:349] /tmp/ipykernel_1696276/3477953648.py:102: UserWarning: Glyph 2350 (\\N{DEVANAGARI LETTER MA}) missing from current font.\n",
      "      plt.savefig('frame.png')\n",
      "    \n",
      "[NeMo W 2024-07-22 11:16:11 nemo_logging:349] /tmp/ipykernel_1696276/3477953648.py:102: UserWarning: Glyph 3147 (\\N{TELUGU VOWEL SIGN OO}) missing from current font.\n",
      "      plt.savefig('frame.png')\n",
      "    \n",
      "[NeMo W 2024-07-22 11:16:11 nemo_logging:349] /tmp/ipykernel_1696276/3477953648.py:102: UserWarning: Glyph 2489 (\\N{BENGALI LETTER HA}) missing from current font.\n",
      "      plt.savefig('frame.png')\n",
      "    \n",
      "[NeMo W 2024-07-22 11:16:11 nemo_logging:349] /tmp/ipykernel_1696276/3477953648.py:102: UserWarning: Matplotlib currently does not support Bengali natively.\n",
      "      plt.savefig('frame.png')\n",
      "    \n",
      "[NeMo W 2024-07-22 11:16:11 nemo_logging:349] /tmp/ipykernel_1696276/3477953648.py:102: UserWarning: Glyph 2482 (\\N{BENGALI LETTER LA}) missing from current font.\n",
      "      plt.savefig('frame.png')\n",
      "    \n",
      "[NeMo W 2024-07-22 11:16:11 nemo_logging:349] /tmp/ipykernel_1696276/3477953648.py:102: UserWarning: Glyph 3074 (\\N{TELUGU SIGN ANUSVARA}) missing from current font.\n",
      "      plt.savefig('frame.png')\n",
      "    \n",
      "[NeMo W 2024-07-22 11:16:12 nemo_logging:349] /tmp/ipykernel_1696276/3477953648.py:102: UserWarning: Glyph 3093 (\\N{TELUGU LETTER KA}) missing from current font.\n",
      "      plt.savefig('frame.png')\n",
      "    \n",
      "[NeMo W 2024-07-22 11:16:12 nemo_logging:349] /tmp/ipykernel_1696276/3477953648.py:102: UserWarning: Glyph 2480 (\\N{BENGALI LETTER RA}) missing from current font.\n",
      "      plt.savefig('frame.png')\n",
      "    \n",
      "[NeMo W 2024-07-22 11:16:12 nemo_logging:349] /tmp/ipykernel_1696276/3477953648.py:102: UserWarning: Glyph 2368 (\\N{DEVANAGARI VOWEL SIGN II}) missing from current font.\n",
      "      plt.savefig('frame.png')\n",
      "    \n",
      "[NeMo W 2024-07-22 11:16:13 nemo_logging:349] /tmp/ipykernel_1696276/3477953648.py:102: UserWarning: Glyph 3112 (\\N{TELUGU LETTER NA}) missing from current font.\n",
      "      plt.savefig('frame.png')\n",
      "    \n",
      "[NeMo W 2024-07-22 11:16:13 nemo_logging:349] /tmp/ipykernel_1696276/3477953648.py:102: UserWarning: Glyph 3143 (\\N{TELUGU VOWEL SIGN EE}) missing from current font.\n",
      "      plt.savefig('frame.png')\n",
      "    \n",
      "[NeMo W 2024-07-22 11:16:13 nemo_logging:349] /tmp/ipykernel_1696276/3477953648.py:102: UserWarning: Glyph 3122 (\\N{TELUGU LETTER LA}) missing from current font.\n",
      "      plt.savefig('frame.png')\n",
      "    \n",
      "[NeMo W 2024-07-22 11:16:16 nemo_logging:349] /tmp/ipykernel_1696276/3477953648.py:102: UserWarning: Glyph 3134 (\\N{TELUGU VOWEL SIGN AA}) missing from current font.\n",
      "      plt.savefig('frame.png')\n",
      "    \n",
      "[NeMo W 2024-07-22 11:16:16 nemo_logging:349] /tmp/ipykernel_1696276/3477953648.py:102: UserWarning: Glyph 3149 (\\N{TELUGU SIGN VIRAMA}) missing from current font.\n",
      "      plt.savefig('frame.png')\n",
      "    \n",
      "[NeMo W 2024-07-22 11:16:33 nemo_logging:349] /tmp/ipykernel_1696276/3477953648.py:102: UserWarning: Glyph 3098 (\\N{TELUGU LETTER CA}) missing from current font.\n",
      "      plt.savefig('frame.png')\n",
      "    \n",
      "[NeMo W 2024-07-22 11:16:33 nemo_logging:349] /tmp/ipykernel_1696276/3477953648.py:102: UserWarning: Glyph 3128 (\\N{TELUGU LETTER SA}) missing from current font.\n",
      "      plt.savefig('frame.png')\n",
      "    \n",
      "[NeMo W 2024-07-22 11:16:33 nemo_logging:349] /tmp/ipykernel_1696276/3477953648.py:102: UserWarning: Glyph 3137 (\\N{TELUGU VOWEL SIGN U}) missing from current font.\n",
      "      plt.savefig('frame.png')\n",
      "    \n",
      "[NeMo W 2024-07-22 11:16:33 nemo_logging:349] /tmp/ipykernel_1696276/3477953648.py:102: UserWarning: Glyph 2479 (\\N{BENGALI LETTER YA}) missing from current font.\n",
      "      plt.savefig('frame.png')\n",
      "    \n",
      "[NeMo W 2024-07-22 11:16:33 nemo_logging:349] /tmp/ipykernel_1696276/3477953648.py:102: UserWarning: Glyph 2492 (\\N{BENGALI SIGN NUKTA}) missing from current font.\n",
      "      plt.savefig('frame.png')\n",
      "    \n",
      "[NeMo W 2024-07-22 11:16:33 nemo_logging:349] /tmp/ipykernel_1696276/3477953648.py:102: UserWarning: Glyph 3081 (\\N{TELUGU LETTER U}) missing from current font.\n",
      "      plt.savefig('frame.png')\n",
      "    \n",
      "[NeMo W 2024-07-22 11:16:33 nemo_logging:349] /tmp/ipykernel_1696276/3477953648.py:102: UserWarning: Glyph 3135 (\\N{TELUGU VOWEL SIGN I}) missing from current font.\n",
      "      plt.savefig('frame.png')\n",
      "    \n",
      "[NeMo W 2024-07-22 11:16:34 nemo_logging:349] /tmp/ipykernel_1696276/3477953648.py:102: UserWarning: Glyph 3095 (\\N{TELUGU LETTER GA}) missing from current font.\n",
      "      plt.savefig('frame.png')\n",
      "    \n",
      "[NeMo W 2024-07-22 11:16:34 nemo_logging:349] /tmp/ipykernel_1696276/3477953648.py:102: UserWarning: Glyph 3105 (\\N{TELUGU LETTER DDA}) missing from current font.\n",
      "      plt.savefig('frame.png')\n",
      "    \n"
     ]
    },
    {
     "name": "stdout",
     "output_type": "stream",
     "text": [
      "\n",
      "Tokens collected from successive buffers before CTC merge\n",
      "['_', '_', '_', '_', '_', '_', '_', '_', '_', '_', '_', '_', '_', '_', '_', '_', '_', '_', '_', '_', '_', '_', '_', '_', '_', '_', '_', '_', '_', '_', '_', '_', '_', '_', '_', '_', '_', '_', '_', '_', '_', '_', '_', '_', '_', '_', '_', '_', '_', '_', '_', '_', '_', '_', '_', '_', '_', '_', '_', '_', '_', '_', '_', '_', '_', '_', '_', '_', '_', '_', '_', '_', '_', '_', '_', '_', '_', '_', '_', '_', '_', '_', '_', '_', '_', '_', '_', '_', '_', '_', '_', '_', '_', '_', '_', '_', '_', '_', '_', '_', '_', '_', '_', '_', '_', '_', '_', '_', '_', '_', '_', '_', '_', '_', '_', '_', '_', '_', '_', '_', '_', '_', '_', '_', '_', '_', '_', '_', '_', '_', '_', '_', '_', '_', '_', '_', '_', '_', '_', '_', '_', '_', '_', '_', '_', '_', '_', '_', '_', '_', '_', '_', '_', '_', '_', '_', '_', '_', '_', '_', '_', '_', '_', '_', '_', '_', '_', '_', '_', '_', '_', '_', '_', '_', '_', '_', '_', '_', '_', '_', '_', '_', '_', '_', '_', '_', '_', '_', '_', '_', '_', '_', '_', '_', '_', '_', '_', '_', '_', '_', '▁', '▁', '▁', '▁', '▁', '▁', '▁', '▁', '▁', '_', '_', '_', '_', '_', '_', '_', '_', '_', '_', '_', '_', '_', '_', '_', '_', '_', '_', '_', '_', '_', '_', '_', '_', '_', '_', '_', '_', '_', '_', '_', '_', '_', '_', '_', '_', '_', '_', '_', '_', '_', '_', '_', '_', '_', '_', '_', '_', '_', '_', '_', '_', '_', '_', '_', '_', '_', '_', '_', '_', '_', '_', '_', '_', '_', '_', '_', '_', '_', '_', '_', 'w', 'w', 'h', 'h', '_', '_', '▁', '▁', '_', '_', '_', '_', '_', '_', '_', '_', '_', '_', '_', '_', '_', '_', '_', '_', '_', 'go', 'go', 'go', '_', '_', '_', '_', '_', '▁', '▁', '▁', '▁', '▁', '▁', '▁', '▁', '▁', '_', '_', '_', '_', '_', '_', '_', '_', '_', '_', '_', '_', '_', '_', 'w', '_', 'or', 't', 't', '_', '_', 's', 'h', 'i', 'it', '_', '_', '_', '_', '▁from', '▁from', '▁from', '▁the', '▁', '▁', 'T237', '_', '_', '_', '_', 'T148', '▁', '_', '_', '_', 'y', '_', '_', '_', '_', '_', '_', 's', 'to', '_', '_', '_', 'k', '_', '_', '_', '▁', '▁', '_', '_', '_', '_', '_', '_', '_', '_', '_', '_', '_', '_', '_', '_', '_', '_', '_', 're', 'me', 'me', 'm', 'm', 'be', 'be', 'r', '▁', '▁', '▁', '_', '_', '_', '_', '_', '_', 'y', 'y', 'y', 'e', 'ar', '▁', '▁', '_', 'ago', '▁', '▁', '▁', 'T239', '▁', '_', '_', '_', '_', '_', '_', '_', '_', '_', '_', '_', '_', '_', '_', '_', '_', '_', '_', '_', '_', 'it', 'it', '_', 'y', '▁', '▁', 'T239', 'in', '_', '_', '_', '_', '_', '_', '▁fr', '▁fr', '▁fr', 'on', 'on', 't', '_', '▁', '▁', '▁', '▁', '▁', '▁', '▁', '▁', '_', '_', '_', '_', '_', 'a', 'a', 'f', 'ter', 'ter', '▁', '▁', '▁', 'T237', '_', '_', '_', 'T25', 'T25', '▁', 't', 't', '_', 'el', '_', '_', '_', '_', '_', '_', '_', '_', '_', '_', '_', '_', 's', 's', '▁', '▁', 'T239', '▁', '▁', '▁', '▁', '▁', '▁', '▁', '▁', '▁', '▁', '▁', '▁', '▁', '▁', '▁', '▁', '▁', '▁', '▁', '▁', '▁', '▁', '▁', '▁', '▁', '▁', '▁', '▁', '▁', '▁', '▁', '▁', '▁', '▁', '▁', '▁', '▁', '▁', '▁', '▁', '▁', '▁', '▁', '▁', '▁', '▁', '▁', '▁', '▁', '▁', '▁', '▁', '▁', '▁', '▁', '▁', '▁', '▁', '▁', '▁', '▁', '▁', '▁', '▁', '▁', '▁', '▁', '▁', '▁', '▁', '▁', '▁', '▁', '▁', '▁', '▁', '▁', '▁', '▁', '▁', '▁', '▁', '▁', '▁', '▁', '▁', '▁', '▁', '▁', '▁', '▁', '▁', '▁', '▁', '▁', '▁', '▁', '▁', '▁', '▁', '▁', '▁', '▁', '▁', '▁', '▁', '▁', '▁', '▁', '▁', '▁', '▁', '▁', '▁', '▁', '▁', '▁', '▁', '▁', '▁', '▁', '▁', '▁', '▁', '▁', '▁', '▁', '▁', '▁', '▁', '▁', '▁', '▁', '▁', '▁', '▁', '▁', '▁', '▁', '▁', '▁', '▁', '▁', '▁', '▁', '▁', '▁', '▁', '▁', '▁', '▁', '▁', '▁', '▁', '_', '_', '_', '_', '_', '_', '_', '_', '_', '_', '_', '_', '_', '_', '_', '_', '_', '_', '_', '_', '_', '_', '_', '_', '_', '_', '_', '_', '_', '▁', '▁', '▁', 'T237', '_', '_', '_', '_', 'T157', '▁', '▁S', 'ig', 'ig', '_', '_', '_', '_', '_', 're', '_', '_', '_', '_', '_', '_', '_', '▁', '▁', '▁', 'T239', '▁', '▁', '▁', '▁', '▁', '▁', '▁', '▁', '_', 'T237', '_', '_', '_', '_', '_', '_', '_', '_', '_', 'T', '_', '_', '_', '▁', '▁', '▁', '▁', '_', '_', '_', '_', '_', '_', '_', 'ff', 'ff', '_', '_', '_', '_', '_', '_', '_', '_', '_', '_', 'er', '▁', '▁', '_', '_', '_', '_', 'h', '_', '_', '_', '_', '_', '_', 'ta', 'ke', 'ke', '▁', '▁', '▁', '▁', '_', '_', '_', '_', '_', '_', '_', '_', '_', '_', '_', '_', 'io', '_', '_', '_', '_', '_', '▁से', '_', '_', '_', '_', '_', 's', 's', '▁', '▁', '▁', '▁', '▁', '_', '_', '_', '_', '_', '_', '_', '_', '_', '_', '_', '_', '_', '_', '_', 'p', '_', 'ic', 'ic', '_', '_', '▁', '▁', '▁', '▁', '_', '_', '_', '_', '_', '_', '_', '_', '_', '_', '_', '_', '_', '_', '_', '_', '_', '_', '_', '_', '_', '_', '_', '_', '_', '_', '_', '_', '_', '_', '_', 'D', '_', 'is', '_', 'time', 'time', '▁', '▁', '▁', '▁', '▁', '▁', '▁', '▁', '▁', '▁', '▁', '▁', '▁', '▁', '▁', '▁', '▁', '▁', '▁', '▁', '▁', '▁', '▁', '▁', '▁', '▁', '▁', '▁', '▁', '▁', '▁', '▁', '▁', '▁', '▁', '▁', '▁', '▁', '▁', '▁', '▁', '▁', '▁', '▁', '▁', '▁', '▁', '▁', '▁', '▁', '▁', '▁', '▁', '▁', '▁', '▁', '▁', '▁', '▁', '▁', '▁', '▁', '▁', '▁', '▁', '▁', '▁', '▁', '▁', '▁', '▁', '▁', '▁', '▁', '_', '_', '_', '_', '_', '_', '_', '_', '_', '_', '_', '_', '_', '_', '_', '_', '_', '_', '_', '_', '_', '_', '_', '_', '_', '_', '_', '_', '_', '_', '_', '_', '_', '_', '_', '_', '_', '_', '_', '_', '_', '_', '_', '_', '_', '_', '_', '_', '_', '_', '_', '_', '_', '_', '_', '_', '_', '_', '▁ha', '_', '_', '_', '_', 'ing', '_', '▁', '▁', '▁', 'T237', '_', 'T234', '_', 'T57', 'T57', '▁', 'रा', 'as', '_', '_', '_', '_', '_', '_', '_', '▁', '▁', '▁', '▁', '▁', '▁', '_', '_', '_', '_', '_', '_', '_', '_', '_', '_', '_', '_', '_', 'is', '▁', '▁', '▁', '▁', 'a', '_', '_', '_', '_', '_', '_', 'al', 'y', '▁', '▁', '_', '_', '_', '_', '_', 'f', '_', 'ce', 'ce', '_', '_', '_', '_', '_', '_', '_', '_', '_', '_', '_', '_', 'r', '_', '_', '_', '_', '_', '_', '_', '_', '_', '▁', '▁', '▁', '▁', '▁', '▁', '▁', '_', '_', '_', '_', '_', '_', '_', '_', '_', '_', '_', '_', '_', '_', '_', '_', '_', '_', '_', '_', '▁', '▁', '_', '_', '_', '_', '_', '_', '_', '_', '_', '_', '_', '_', '_', '_', '_', '_', '_', '_', '_', '_', 'it', 'y', '▁', '▁', '▁', '_', '_', '_', '_', '_', '_', '_', '_', '_', '_', '_', '_', '_', '_', '_', '_', 'k', '_', '▁', '▁', '▁', '_', '_', '_', '_', '_', '▁', 'ర', 'ర', '_', '_', '_', '▁', '▁', 'T239', '_', '_', '_', '_', '_', 'వ', '_', '_', '_', 'ద', '▁', '▁', '▁', '▁', '▁', '▁', '▁', '▁', '▁', '▁', '▁', '▁', '▁', '▁', '▁', '▁', '▁', '▁', '▁', '▁', '▁', '▁', '▁', '▁', '▁', '▁', '▁', '▁', '▁', '▁', '▁', '▁', '▁', '▁', '▁', '▁', '▁', '▁', '▁', '▁', '▁', '▁', '▁', '▁', '▁', '▁', '▁', '▁', '▁', '▁', '▁', '▁', '▁', '▁', '▁', '▁', '▁', '▁', '▁', '▁', '▁', '▁', 'T237', '_', '_', '_', '_', '_', '_', '_', '_', '_', '_', '_', '_', '_', '_', '_', '_', '_', '_', 'w', '_', '_', 'k', '_', '_', '_', '▁', '▁', '▁', '▁', '▁', '▁', '▁', '▁', '▁', '_', '_', '_', '_', '_', '_', '_', '_', '_', '_', '_', '_', 'm', 'म', '_', '_', '_', '_', '_', '_', '_', 'me', 'me', 'm', 'be', 'r', 'r', '▁', '▁', '_', '_', '_', '_', '_', '_', '_', '_', '_', '▁', '▁', '_', '_', '_', '_', '_', '_', '_', '_', '_', 'a', '▁', '▁', '▁', 'in', '▁the', '▁', '_', '_', '_', 'ga', 'ga', 'me', 'me', '▁', '▁', '_', '_', '_', '_', '_', '_', '_', '_', '_', '_', '_', '▁', '▁', '_', '_', '_', '_', '▁', 'W', 'en', 'en', '_', '_', '▁', '▁', '▁', '▁', '▁', '_', '_', '_', '_', '▁', 'रा', '_', '_', '_', '_', '_', '_', '_', '_', '_', '_', '_', '_', '_', '_', '_', '_', '▁', '▁', '▁', '▁', '▁', '_', '_', '_', '_', '_', 'th', 'th', '_', '▁', '▁', '▁', '▁', '_', '_', '_', '_', '_', '_', 'we', 'we', 'll', '_', '_', '_', '_', '_', '_', '_', '_', '_', '_', '_', '_', '▁', '▁', '▁', '▁', 'T237', '_', '_', '_', '_', 'T120', '_', '▁', '2', '_', '_', '_', '_', '_', '_', '_', '_', '_', '_', '_', '_', '_', '▁', '▁', '▁', '▁', '▁', '▁', '_', '_', '_', '_', '_', '_', '_', '_', '_', '_', '_', '_', '_', '_', '_', '_', '_', '_', '_', '_', '_', '_', '_', '_', '_', '_', '_', '_', '_', '_', '▁', '▁', '▁', '▁', '▁', '▁', '▁', '▁', '_', '_', '_', '_', '_', '_', '_', '_', '_', '_', '_', '_', '_', '_', '_', '_', '_', '_', '_', '_', '_', '_', '_', '_', '_', '▁', '▁', '▁', '_', '_', '_', '_', '_', 'ke', 'qui', '▁', '▁', '▁', '_', '_', 'c', 'le', '_', '_', '▁', '▁', '▁', '_', '_', '_', '_', '_', '_', '▁', '_', '_', '_', '_', '_', '_', '_', '_', '_', '_', '_', '_', '_', '_', '_', '_', '_', '_', '_', '_', '_', '_', '_', '_', '_', '_', '_', '_', '_', '_', '_', '_', '_', '_', '▁', '▁', '▁', '▁', '▁', '▁', '▁', '▁', '▁', '▁', '▁', '▁', '▁', '▁', '▁', '▁', '▁', '_', '_', '_', '_', '_', '_', '_', '_', '_', '_', '_', '_', '_', '_', '_', '_', '_', '_', '_', 'ో', 'ో', '▁', '▁', '▁', '▁', '_', '_', '_', '_', '_', '_', 'che', '_', '_', 'p', '_', 'en', '▁', '▁', '▁', 'T237', '_', '_', '_', '_', '▁', 'হ', '_', 'ল', '_', 'ం', '_', '_', '_', '_', '_', '_', '_', '_', 'క', '_', '_', '_', '_', '_', '_', 'do', '_', '_', '_', '_', '_', '▁', '▁', '▁', '▁', '▁', '_', '_', '_', '_', '_', '_', '_', '_', '_', '_', '_', 'st', 'st', 'র', 'ron', '_', '_', '_', '▁', '_', '_', '_', '_', '_', 'p', '_', '_', '_', '_', 's', '▁', '▁', '_', '_', '_', '_', '_', '_', 'র', 'ో', '_', '_', '_', '_', 'ies', 'ies', '_', '_', '_', 'co', '_', '_', 'ing', '▁', '▁', '_', '_', '_', '_', '_', '_', '▁P', 're', 'is', '_', '_', '▁', '▁', '▁', '▁', '_', '_', '_', 'di', 'di', '_', '_', '_', '_', '_', 'ly', '_', '_', '_', '▁but', '_', '_', '_', '_', '_', '_', 'is', '_', '▁', 'no', 'no', '▁', '▁', '_', '_', '_', '_', '_', '▁I', 'in', 'in', 'ter', 'ter', '_', '_', '_', '_', '▁', '▁', '▁', '▁', '▁', '_', '_', '_', '_', '_', 'ix', 'ix', 's', '▁the', '▁', '▁', '_', '_', '_', '_', '▁', 'F', '_', 'st', '▁', '_', '_', '_', '_', '_', '▁P', 'r', 'री', '_', '_', '_', '▁', '▁', '_', '_', 'or', 'or', 'k', '_', '_', '_', '_', '_', '_', '_', '_', '_', '_', '_', '_', '▁the', '▁the', '▁', '▁', '_', '_', '_', '_', '_', '▁', 'a', 'a', 'ter', 'ter', 'న', 'ే', 'ే', '_', '_', '_', '_', '_', '_', '_', '_', '▁', '▁', '_', '_', '_', '_', '_', '_', '3', '_', '_', '_', '_', '_', '_', '_', '_', '_', '_', '_', '_', '_', '_', '_', '_', '_', '_', '_', '_', '_', '_', '_', '_', '_', '_', '_', '_', '_', '_', 'ల', 'ల', '_', '_', '_', '_', '_', '_', '_', '▁', '▁', '▁', '▁', '▁', '▁', '▁', '▁', '▁', '▁', '_', '_', '_', '_', '_', '_', '_', '_', '_', '_', '_', '_', '_', '_', '_', '_', '_', '_', '_', '_', '_', '_', '_', '_', '_', '_', '_', '_', '_', 'ling', '_', '_', '_', '_', '_', '_', '_', '_', '_', '▁', '_', '_', '_', '_', '_', '_', '_', '▁', '▁', '_', '_', '_', '_', '_', '_', '_', '_', '_', '_', '_', '_', '_', '▁', '▁', '_', '_', '_', '_', 'T57', '▁', 'B', '_', '_', '_', '_', '_', '_', '_', '_', '_', '_', '_', '_', '_', '_', '_', '_', '▁', '▁', '▁', '▁', '▁', '▁', '_', '_', '_', '_', '▁', 'te', '_', 'f', '_', '_', '_', '▁', '▁', '_', '_', '_', '_', '_', '_', '_', '_', '_', '_', '_', '_', '_', '▁', '▁', '▁', '_', '_', '_', '_', '_', '▁', '▁', '▁', '▁', '▁', '_', '_', '_', '_', '_', 'w', 'w', 'in', 'd', 'f', 'u', 'u', 'l', '▁', '_', '_', '_', '_', '_', '_', '▁po', '_', '_', '_', '_', '_', '_', '_', '▁', '▁', '▁', '▁', '▁', '_', '_', '_', '_', '_', '_', '_', '_', '_', '_', '_', '_', '_', '_', '_', '_', '_', '_', '_', '_', '_', '_', '_', '_', '_', '_', '_', '_', '_', '_', '_', '_', '_', '_', '_', '_', '_', '_', '_', '_', '_', '_', '_', '_', '_', 'T237', '_', 'T156', '_', '_', '_', '_', 'T57', '_', '▁', 'ero', '_', '_', '_', '_', 'ba', '_', '_', '_', 'T239', 'T239', '▁', '▁', '▁', '_', '_', '_', '_', '_', '_', '▁', 'k', 'le', 'le', '_', '_', '_', '_', '_', '_', '_', '_', 'vi', 'vi', '_', '_', '_', '_', 'ling', '_', '▁', '▁', '▁', 'a', '▁', '▁', '▁', 'T237', '_', 'T156', '_', 'T57', '▁', '▁', 'N', 'no', '_', '_', '_', '_', '_', '_', '_', 'ia', '_', '_', '▁', '▁', '▁', 'in', 'in', '▁', '_', '_', '_', '_', '_', '_', '_', 'Z', '_', '_', '_', '_', 'w', '_', 'i', '_', '▁', '▁', '▁', '_', '_', '_', 's', 's', 'c', 're', 'a', 'm', '▁', '▁', '▁', '▁', '▁', '▁', '▁', '_', '_', '_', '_', '_', '_', '_', '_', '_', '_', '_', '_', '_', '_', '_', '_', '_', '_', '_', '▁', '▁', '▁', '▁', '▁', '▁', '▁', '▁', '▁', '▁', '▁', '▁', '▁', '▁', '▁', '▁', '▁', '▁', '▁', '▁', '▁', '▁', '▁', '▁', '▁', '▁', '▁', '▁', '▁', '▁', '▁', '▁', '▁', '▁', '▁', '▁', '▁', '▁', '▁', '▁', '▁', '▁', '▁', '▁', '▁', '▁', '▁', '▁', '▁', '▁', '▁', '_', '_', '_', '_', '_', '_', '_', '_', '_', '_', '_', '_', '_', '_', '_', '_', '_', '_', '_', '_', '_', '_', '_', '_', '_', '_', '_', '_', '_', '_', '_', '_', '_', '_', '_', '_', '_', '_', '_', '_', '_', '_', '_', '_', '_', '_', '_', '_', '_', '_', '_', '_', '_', '_', '_', '_', '_', '_', '_', '_', '_', '_', '_', '_', '_', '_', '_', '_', '_', '_', '_', '_', '▁', '▁', '_', '_', 'a', '_', '_', '_', '_', '_', '_', '_', '_', '_', '_', '_', '_', '_', '_', '_', '_', '_', '_', '_', '_', '_', '_', '▁to', '▁', '▁', '▁', 'T237', '_', '_', 'T255', '▁', 'e', 'o', 'o', 'ver', 'ver', '▁', '_', 'tu', '_', 'n', 'n', 'n', '▁the', '▁the', '▁the', '▁', '_', '_', '_', '_', '_', '_', '▁', 'on', 'on', 'f', 'il', 'il', 'd', '_', '_', '_', '_', '_', '_', '_', '_', '_', 's', '_', 's', 's', 'ion', 'ion', '_', '▁', '▁', '▁', '▁', '▁', '▁', '▁', '▁', '▁', '▁', '▁', '▁', '▁', '▁', '▁', '▁', '▁', '▁', '▁', '▁', '▁', '▁', '▁', '▁', '▁', '▁', '▁', '▁', '▁', '▁', '▁', 'T2', '▁', '▁', 'T237', 'T237', '_', '_', '_', '_', 'T255', '▁', '▁', '_', '_', '_', '_', 'ing', '▁', '▁', '▁', '▁', '_', '_', '_', 'st', 'st', 'r', 'en', 'che', 'che', '▁', 'T239', '▁', '▁', '▁', '_', '_', 'in', 'in', '_', '_', '_', '▁', 'ta', 'ta', '_', '_', 'u', 'al', '_', '▁', '_', '_', '_', '_', '_', '_', '_', 'ness', '▁', '_', '_', '_', '_', '_', 'ing', 'ing', '▁', '_', '_', '_', 't', '_', '▁', '_', '_', '_', '_', '_', '_', '_', '_', '_', '_', '_', '_', '_', '_', '_', '_', 'lo', 'c', 'q', 'y', 'y', '▁', '_', '_', '_', '_', 'J', '_', 'm', '_', '_', '_', '_', '▁', '▁', '▁', '▁', '_', '_', '_', '_', '_', '_', '_', '_', '_', '_', '_', '_', '_', '_', '_', '_', '_', '_', '_', '_', '_', '_', '_', '_', '_', '_', '_', '▁', '▁', '▁', '▁', '_', '_', '_', '_', '_', '_', '_', '_', '_', '_', '_', '_', '_', '_', '_', '_', '_', '_', '_', '_', '▁', '▁', '▁', 'T237', '_', '_', 'T156', '_', '_', 'T57', '▁', '_', '_', '_', '_', '_', '_', '_', '_', '_', 'ా', 'ర్', '▁', '▁', 'T239', '▁', '_', '_', '_', '_', '_', '_', '_', '_', '_', '_', '_', '_', '_', '_', '_', '_', 'da', '_', '_', '_', '_', '▁', '▁', '▁', '▁', '▁', '▁', '▁', '▁', '▁', '▁', '▁', '▁', '▁', '▁', '▁', '▁', '▁', '▁', '▁', '▁', '▁', '▁', '▁', '▁', '▁', '▁', '▁', '▁', '▁', '▁', '▁', '▁', '▁', '▁', '▁', '▁', '▁', '▁', '▁', '▁', '▁', '▁', '▁', '▁', '▁', '▁', '▁', '▁', '▁', '▁', '▁', 'T237', 'T237', '_', 'T234', '_', '_', '_', '_', '_', 'T57', '_', '▁', '_', '_', '_', '_', '_', '_', '_', '_', '_', '▁', '▁', 'T239', '▁', '▁', '▁', '_', '_', '_', '_', 'ge', '_', '_', '_', '▁', '▁', '▁', 'T237', '_', '_', '_', '_', '▁', 'p', '_', '_', 'ack', '_', '_', '_', '_', '_', '_', '_', '_', '_', '_', '_', '_', '_', '_', '▁', '▁', '▁', '▁', '_', '_', '_', '_', '_', '_', '_', '_', '_', '_', \"'\", \"'\", \"'\", 's', '_', '_', '_', '_', 'no', 'no', '_', '▁', '▁', '▁', '_', '_', '_', '_', '_', '_', '_', '_', '_', 'p', 'p', '_', '_', '_', '_', '▁', '▁', '▁', '▁', '▁', '▁', '▁', '▁', '▁', '▁', '▁', '▁', '▁', '▁', '▁', '▁', '▁', '▁', '▁', '▁', '▁', '▁', '▁', '▁', '▁', '▁', '▁', '▁', '▁', '▁', '▁', '▁', '▁', '▁', '▁', '▁', '▁', '▁', '▁', '▁', '▁', '▁', '▁', '▁', '▁', '▁', '▁', '▁', '▁', '▁', '▁', '▁', '▁', '▁', '▁', '▁', '▁', '▁', '▁', '▁', '▁', '▁', '▁', '▁', '▁', '▁', '▁', '▁', '▁', '_', '_', '_', '_', '_', '_', '_', '_', '_', '_', '_', '_', '_', '_', '_', '_', '_', '_', '_', '_', '_', '_', '_', '_', '_', '_', '_', '_', '_', '_', '_', '_', '_', '_', '_', '_', '_', '_', '_', '_', '_', '_', '_', '_', '_', '_', '_', '_', '_', '_', '_', '_', '_', '_', '_', '_', '_', '▁', '▁', '▁', '▁', '▁', '▁', '▁', '▁', '▁', '▁', '▁', '▁', '▁', '▁', '▁', '▁', '▁', '▁', '▁', '▁', '▁', '▁', '▁', '▁', '▁', '▁', '▁', '▁', '▁', '▁', '▁', '▁', '▁', '▁', '▁', '▁', '▁', '▁', '▁', '▁', '▁', '▁', '▁', '▁', '▁', '▁', '▁', '▁', '▁', '▁', '▁', '▁', '▁', '▁', '▁', '▁', '▁', '▁', '▁', '▁', '▁', '▁', '▁', '▁', '▁', '▁', '▁', '▁', '▁', '▁', '▁', '▁', '▁', '▁', '▁', '▁', '▁', '▁', '▁', '▁', '▁', '▁', '▁', '▁', '▁', '▁', '▁', '▁', '▁', '▁', '▁', '▁', '▁', '▁', '▁', '▁', '▁', '▁', '▁', '▁', '▁', '▁', '▁', '▁', '▁', '▁', '▁', '▁', '▁', '▁', '▁', '▁', '▁', '▁', '▁', '▁', '▁', '▁', '▁', '▁', '▁', '▁', '▁', '▁', '▁', '▁', '▁', '▁', '▁', '▁', '▁', '▁', '▁', '▁', '▁', '_', '_', '_', '_', '_', '_', '_', '_', '_', '_', '_', '_', '_', '_', '_', '_', '_', '_', '_', '_', '_', '_', '_', '_', '_', '_', '_', '_', '_', '_', '_', '_', '_', '_', '_', '_', '_', '_', '_', '_', '_', '_', '_', '_', '_', '_', '_', '_', '_', '_', '_', '_', '_', '_', '_', '_', '_', '_', '_', '_', '_', '_', '_', '_', '_', '_', '_', '_', '_', 'res', '_', 's', 's', '_', '▁', '▁', '▁', '▁', '▁', '▁', '▁', '_', '_', '_', '▁', '▁', '▁', '_', '_', '▁Lo', '▁Lo', 'k', 'k', '▁', '▁', '▁the', '▁', '_', '_', '_', '_', '_', '_', 'em', 'em', '_', '_', '_', '_', '_', 'ce', 'le', 'le', 'c', 'tion', '▁', '▁', '▁', '▁', '_', '_', '_', 'lo', '_', 'ke', 'et', '_', '_', '_', '_', '_', '_', '_', '_', '_', '_', '_', '_', '_', '_', '_', '_', '_', '_', '_', '_', '_', '_', '_', '_', '_', '_', '_', '_', '_', '_', '_', '_', '_', '_', '_', '_', '_', '_', '_', '_', '_', '_', '_', '_', '_', '_', '▁', '_', '_', '_', '_', '_', '_', '_', '_', '_', '_', '_', 'me', '_', '_', '_', '_', '_', '▁', '▁', '▁', '▁', 'in', '▁the', '▁the', 'm', 'm', '▁', '▁', '_', '_', '_', '_', '_', '_', '_', '_', '_', 'on', 'e', 'e', '_', '▁', '▁', '_', '_', 're', 'as', 'as', 'on', 's', 's', '_', '_', 'w', 'i', 'i', '_', '_', '_', '_', '_', '_', '▁pro', '_', '_', 'm', '_', '_', '_', '_', '_', '_', 'c', '_', '_', '_', '_', '_', '_', '_', '_', '_', '_', '_', '_', '_', 'a', 'ies', '_', '▁', '▁', '▁', 'be', 'be', '_', 'a', 'use', 's', '_', '▁the', '▁the', '▁', '▁', 'T237', '_', '_', '_', 'T57', '▁La', '▁Li', '_', 'ex', 's', 'ing', 'ing', '_', '_', '_', '_', 't', '▁', '▁', '▁to', '▁to', '▁', '_', '_', '_', 'ry', '_', '_', '▁', '▁', '_', '_', 's', 'to', 'to', 'p', '_', '_', '▁', '_', '_', '_', '_', '_', '_', '_', 'h', 'x', '_', '_', '_', '_', '_', '_', '_', '_', '▁', 'f', '_', '_', '_', '_', '_', '_', '▁', '▁', '_', '_', '_', '_', 'm', '▁', 'T237', '_', 'T234', '_', 'T57', '▁', 'e', 'v', 'v', '▁', '▁', '▁', 'T237', '_', '_', '_', '▁', '▁', 'b', 'r', 'r', 'in', 'in', 'e', '▁', '▁', '▁', '_', 't', 'in', '_', '_', '▁', '▁', 'ge', 'ge', 't', 't', '▁', '▁', 'on', 'on', '▁the', '▁the', '▁', '▁', '_', '_', '_', '_', '_', '_', '_', 'bo', '_', '_', '_', '_', '_', '_', '_', '_', '_', '_', '_', '_', '_', '_', '_', '_', '_', '_', '_', '_', '_', '_', '_', '_', '_', '_', '_', '_', '_', '_', '_', '_', '_', '_', '_', '_', '_', '_', '_', '_', '_', '_', '_', '_', '_', '_', '_', '_', '_', '_', '_', '_', '_', '_', '_', '_', '_', '_', '_', '_', '_', '▁', '▁', '_', 'a', 'w', 'a', 'a', 'y', 'y', '_', '▁from', '▁from', '▁from', '▁', '▁', 'T237', '_', 'T234', '_', '_', 'T57', '▁Ma', '_', '_', '_', '_', '_', '_', '_', '_', '_', '▁END', '▁END', '_', '_', '_', '_', '_', '_', '_', '_', '_', '_', '_', '_', '_', '_', '_', '_', '_', '_', '_', '_', '_', '_', '_', '_', '_', '_', '▁', 'C', '_', '_', '_', '_', '▁', '▁', '_', '_', '_', '_', '_', 'ch', 'ic', 'ic', 'k', '_', 's', '_', '_', '_', ',', '_', '_', '_', '_', '_', '_', '_', '_', '_', '_', '_', '_', '_', '_', '_', '_', '_', '_', 'f', 'la', 'la', '_', '_', 'ten', '_', '_', '_', '_', 'b', 'b', 'y', '▁', 'T237', '_', 'T234', 'T234', '_', 'T57', '▁A', '▁A', '_', '_', '_', '_', '_', '_', '_', '_', '_', '_', '_', '_', '_', '▁', '▁', 'T239', '▁', '_', '_', '_', '_', '_', '_', '_', '_', '_', '_', '_', '_', '_', '_', '_', '_', '_', '_', '▁', '▁', '▁ha', '▁ha', '_', '▁', '▁', '▁', 'a', '_', '_', '_', '_', '_', '_', '_', 't', 't', '_', '_', '_', 'be', '_', '_', '_', '_', '_', 'ver', '▁', '_', '_', '_', '_', '_', 'M', '_', 'in', 'ie', '_', '_', '_', '_', '_', '_', '_', '_', 're', '_', 'se', '_', '_', '_', '_', '_', '_', '_', '_', '_', '_', '_', '_', '▁his', '▁', '▁', '_', '_', '_', '_', '_', '_', '_', '_', '_', '_', 'se', 'as', 'as', 'en', 'en', '_', '_', '_', '_', '_', '▁Lo', 'n', 'n', 'g', '_', 'ste', '_', '_', '▁', '▁', '▁', '▁', '▁', 'T237', '_', 'T156', '_', '_', '_', '▁Man', '_', 'ch', 'ch', 'ester', 'ester', '▁', '▁', 'C', 'U', 'n', 'it', 'it', 'it', 'ed', 'ed', '▁', '▁', '▁', 'T239', '▁', '▁', '▁', '▁', '▁', '▁', '▁', '▁', '▁', '▁', '▁', '▁', '▁', '▁', '▁', '▁', '▁', '▁', '▁', '▁', '▁', '▁', '▁', '▁', '▁', '▁', '▁', '▁', '▁', '▁', '▁', '▁', '▁', '▁', '▁', '▁', '▁', '▁', '▁', '▁', '▁', '▁', '▁', '▁', '▁', '▁', '▁', '▁', '▁', '▁', '▁', '▁', '▁', '▁', '▁', '▁', '▁', '▁', '▁', '▁', '▁', '▁', '▁', '▁', '▁', '▁', '▁', '▁', '▁', '▁', '▁', '▁', '▁', '▁', '▁', '▁', '▁', '▁', '▁', '▁', '▁', '▁', '▁', '▁', '▁', 'T2', 'T2', 'T2', '▁', '_', '_', '_', '_', '_', '_', '_', '_', '_', '_', '_', '_', '▁', '▁', 'T237', '_', '_', '_', '_', '_', '_', '_', '_', '_', '_', '_', '_', '_', '_', '_', '_', '_', 'b', '_', '_', '_', '_', '_', '_', '▁', '▁', '▁', 'T237', '_', '_', '_', 'T57', '▁', 'L', '_', 'n', '▁', '▁', 'T239', '▁', '▁', 'von', '▁', 'T237', '_', '_', '_', '_', 'T57', '▁', 'F', '_', '_', '_', '_', '_', '_', '_', '_', '_', '_', '_', '▁', '▁', '▁', '▁', '▁', '▁', '▁', '▁', '▁', '▁', '▁', '▁', '▁', '▁', '▁', '▁', '▁', '▁', '▁', '▁', '▁', '▁', '▁', '▁', '▁', '▁', '▁', '▁', '▁', '▁', '▁', '▁', '▁', '▁', '▁', '▁', '▁', '▁', '▁', '▁', '▁', '▁', '▁', '▁', '▁', '▁', '▁', '▁', '▁', '▁', '▁', '▁', '▁', '▁', '▁', '▁', '▁', '▁', '▁', '▁', '▁', '▁', '▁', '▁', '▁', '▁', '▁', '▁', '▁', '▁', '▁', '▁', '▁', '▁', '▁', '▁', '▁', '▁', '▁', '▁', '▁', '▁', '▁', '▁', '▁', '▁', '▁', '▁', '▁', '▁', '▁', '▁', '▁', '▁', '▁', '▁', '▁', '▁', '▁', '▁', '▁', '▁', '▁', '▁', '▁', '▁', '▁', '▁', '▁', '▁', '▁', '▁', '▁', '▁', '▁', '▁', '▁', '▁', '▁', '▁', '▁', '▁', '▁', '▁', '▁', '▁', '▁', '▁', '▁', '▁', '▁', '▁', '▁', '▁', '▁', '▁', '▁', '▁', '▁', '▁', '▁', '▁', '▁', '▁', '▁', '▁', '▁', '▁', '▁', '▁', '▁', '_', '_', '_', '_', '_', '_', '_', '_', '_', '_', '_', '_', '_', '_', '_', '_', '_', '_', '_', '_', '_', '_', '_', '_', '_', '_', '_', '_', '_', '_', '_', '_', '_', '_', '_', '_', '_', '_', '_', '_', '_', '_', '_', '_', '_', '_', '_', '_', '_', '_', '_', '_', '_', '_', '_', '_', '_', '_', '_', '▁', '▁', '▁', '▁', 'th', 'th', 'th', 'in', 'k', 's', '▁', '▁', '▁', '▁', '▁', 't', 't', 't', 't', 't', '▁', '▁', 'b', 'it', 'it', 'it', '▁', 'di', 'di', 'ff', 'ff', 'er', 'ent', 'ent', 'ly', '_', '_', '_', '_', '_', 'zu', 'zu', '_', '_', '_', '_', '_', '_', '_', '_', '_', '_', '_', '_', '_', '_', '_', '_', '_', '_', '_', '_', '▁the', '▁the', '▁', '_', '_', '_', '_', '_', '▁', '▁', 'c', 'ur', 'che', 'che', '_', '_', '_', '_', '▁', '▁', '▁', '▁', '_', '_', '_', '_', 'p', 'r', 'r', '_', '_', 'di', '_', '_', 'ma', '_', 'ch', '_', '▁', '▁', '▁', '_', 'an', 'an', 'y', 'y', '_', '_', '_', 'b', '_', '_', 'y', '_', '_', '_', 's', '▁', '▁', 'on', '▁the', '▁', '_', '_', '_', '_', '_', '_', 'plan', '_', '_', '_', '_', '_', '_', '_', '_', '_', 'w', 'at', 'at', 'che', 'es', 'es', '▁', '▁', '_', '_', '_', 'f', 'o', 'o', 'o', 't', 't', 'ball', '▁', '▁', '▁', '_', '_', 'no', '_', '_', '_', 'man', 'man', 'y', '▁', '▁', '_', '_', '_', '_', 'c', 'ur', 'che', 'che', 'che', '_', '_', '_', '_', '_', 'w', '_', 'd', '_', '_', '_', '_', '_', '_', '_', '_', '_', '▁ju', '▁ju', '_', 'st', '▁', '▁', '_', '_', '_', '_', '_', 'ca', '_', '_', '_', '_', 'u', '_', 'ie', '▁', '▁', '_', '_', '_', 's', 's', 'w', '_', '_', 't', 's', '_', '▁', '▁', 'b', 'bo', '_', '_', '_', '_', '_', '_', '_', '▁', 'c', 'en', '_', '▁', '▁', 'ba', 'ack', 'ack', 's', '_', '_', '▁for', '▁the', '▁', '▁', '_', '_', '_', '_', '_', '_', '_', '_', '_', '_', '_', '_', '_', '_', '_', '_', '_', '_', 'f', 'f', '_', 'und', '_', '▁', '▁', '▁', '▁', '▁', '▁', '▁', '▁', '▁', '▁', '▁', '▁', '▁', '▁', '▁', '▁', '▁', '▁', '▁', '▁', '▁', '▁', '▁', '▁', '▁', '▁', '▁', '▁', '▁', '▁', '▁', '▁', '▁', '▁', '▁', '▁', '▁', '▁', '▁', '▁', '▁', '▁', '▁', '▁', '▁', '▁', '▁', '▁', '▁', '▁', '▁', '▁', '▁', '▁', '▁', '▁', '▁', '▁', '▁', '▁', '▁', '▁', '▁', '▁', '▁', '▁', '▁', '▁', '▁', '▁', '▁', '▁', '▁', '_', '_', '_', '_', '_', '_', '_', '_', '_', '_', '_', '_', '_', '_', '_', '_', '_', '_', '_', '_', '_', '_', '_', '_', '_', '_', '_', '_', '_', '_', '_', '_', '_', '_', '_', '_', '_', '_', '_', '_', '_', '_', '_', '_', '_', '_', '_', '_', '_', '_', 'me', '_', '_', '_', '_', '▁', '▁', '▁', '_', '_', '_', '_', '_', '_', '_', '_', '_', '_', '_', '_', '_', '_', '_', '▁Man', '_', '_', 'ia', '▁', '▁', '▁', '▁', '▁', '_', '_', '_', '_', '_', 'b', 'b', 'en', '_', '_', '_', '_', '_', '_', '_', '_', '_', '▁so', '▁so', '_', 'ff', 'er', 'er', '_', '▁', '▁', '▁', '▁', '▁', '_', 'w', 'w', 'en', 'en', 'en', '▁', '_', '_', '_', '_', '_', '_', 'Z', '_', '_', '_', '_', 'ieren', '_', '_', '_', '_', '_', '▁po', 's', 's', 's', 's', 's', 's', 'ion', '_', '_', '_', 'ur', '_', '_', '▁', '_', '_', '_', 'go', '_', '_', '▁', '▁', '_', '_', '_', '_', 'ste', '_', '_', '▁', '▁', 'z', 'ig', 'it', 'de', '_', '▁', '_', '_', '_', '_', 'go', '_', '_', '_', '▁', '▁', '_', 'be', 'be', 'be', '_', '_', '_', '_', '_', 'ge', 'ge', '_', 'th', 'th', 'er', '_', '_', '_', '_', '_', '_', '_', '_', '_', '_', '_', '_', '_', '▁with', '▁with', '▁with', '▁with', '▁', '▁', '_', '_', '_', '_', 'w', 'w', 'is', 'is', 'der', '_', '▁', '▁', '▁', '_', '_', '_', 'be', 'be', '_', 'p', '_', '_', 'is', 'is', '_', '▁', '▁', '▁', '_', '_', '_', '_', '_', 'ing', '_', '_', '_', '_', '_', '_', '_', '_', '_', '▁', '▁', '▁', '_', '_', '_', '_', '_', '_', '_', '_', '_', '_', '_', '_', 'h', 'h', 'it', 'it', '_', '▁the', 'm', 'm', '▁', 'on', '▁the', '▁the', '▁', '_', '_', '_', '_', '_', 'bre', 'bre', 'a', 'a', 'k', '_', '▁', '▁', '▁', '_', 'w', 'w', 'it', 'ch', '_', '▁the', '_', '▁', '▁', '_', '_', '_', '_', '_', '_', '_', 'mo', '_', '_', 'an', '_', '▁', '▁', '_', '_', '_', '_', '_', '_', '_', 'b', 'b', 'le', 'le', '▁of', '▁of', '▁of', '_', '_', '_', '_', '_', '_', '_', '▁dur', '_', 'ing', 'ing', '_', '_', '▁', '▁', '▁', '▁', '▁', '▁', '▁', '▁', '▁', '▁', '▁', '▁', '▁', '▁', '▁', '▁', '▁', '▁', '▁', '▁', '▁', '▁', '▁', '▁', '▁', '▁', '▁', '▁', '▁', '▁', '▁', '▁', '▁', '▁', '▁', '▁', '▁', '▁', '▁', '▁', '▁', '▁', '▁', '▁', '▁', '▁', '▁', '▁', '▁', '▁', '▁', '▁', '▁', '▁', '▁', '▁', '▁', '▁', '▁', '▁', '▁', '▁', '▁', '▁', '▁', '▁', '▁', '_', '_', '_', '_', '_', '_', '_', '_', '_', '_', '_', '_', '_', '_', '_', '_', '_', '_', '_', '_', '_', '▁', 'T237', 'T237', '_', '_', '_', '_', '_', 'T57', '_', '_', '_', '_', '▁', '$', '_', '_', '_', '_', '_', '_', '_', '_', '_', '_', '_', '_', '_', '_', '_', '_', '_', 's', '▁', '▁', 'T239', 'T239', '▁', '▁', '▁', '▁', '▁', '▁', '▁', '▁', '▁', '▁', '▁', '▁', '▁', '▁', '▁', '▁', '▁', '▁', '▁', '▁', '▁', '▁', '▁', '▁', '▁', '▁', '▁', '▁', '▁', '▁', '▁', '▁', '▁', '▁', '▁', '▁', '▁', '▁', '▁', '▁', '▁', '▁', '▁', '▁', '▁', '▁', '▁', '▁', '▁', '▁', '▁', '▁', '▁', '▁', '_', '_', '_', '_', '_', '_', '_', '_', '_', '_', '_', '_', '_', '_', '_', '_', '_', '_', 'T2', '▁', '_', '_', '_', '_', '_', '_', '_', '_', '_', '_', '_', '_', '_', 'an', '▁', '▁', '▁', '▁', '▁', 'T237', '_', '_', '_', '_', '_', '_', '_', '_', '_', 'che', '_', '_', '_', '_', '_', '_', '_', 'th', '_', '_', '_', '_', '_', '_', '_', '▁', '▁', '▁', '_', '_', '_', '_', '_', '_', 's', 'p', 'p', 'in', '_', '▁', '_', '_', 'w', 'w', 'a', 'y', '_', '_', '_', '_', '▁from', '▁from', '▁', '▁', 'T237', '_', 'T234', '_', 'T57', '▁', '_', '_', '_', '_', 'minute', 'minute', '_', '▁', 'T239', '▁', '_', '_', '_', '_', '_', '_', '_', '_', '_', '_', '_', '_', '_', '_', '_', '_', '_', '_', '_', '▁', '_', '_', '_', '_', '_', '_', '_', '_', '_', '_', '_', '_', '_', 'w', 'we', 'y', 'y', '▁', '▁', '▁', '▁', '▁', '▁', '▁', '▁', '▁', '▁', '▁', '▁', '▁', '▁', '▁', '▁', '▁', '▁', '▁', '▁', '▁', '▁', '▁', '▁', '▁', '▁', '▁', '▁', '▁', '▁', '▁', '▁', '▁', '▁', '▁', '▁', '▁', '▁', '▁', '▁', '▁', '▁', '▁', '▁', '▁', '▁', '▁', '▁', '▁', '▁', '▁', '▁', '▁', '▁', '▁', '▁', '▁', '▁', '▁', '▁', '▁', '▁', '▁', '▁', '▁', '▁', '▁', '▁', '▁', '▁', '▁', '▁', '▁', '▁', '▁', '▁', '▁', '▁', '▁', '▁', '▁', '▁', '▁', '▁', '▁', '▁', '▁', '▁', '▁', '▁', '▁', '▁', '▁', '▁', '▁', '▁', '▁', '▁', '▁', '▁', '▁', '▁', '▁', '▁', '▁', '▁', '▁', '▁', '▁', '▁', '▁', '▁', '▁', '▁', '▁', '▁', '▁', '▁', '▁', '▁', '▁', '▁', '▁', '▁', '▁', '▁', '_', '_', '_', '_', '_', '_', '_', '_', '_', '_', '_', '_', '_', '_', '_', '_', '_', '_', '_', '_', '_', '_', '_', '_', '_', '_', '_', '_', '_', '_', '_', '_', '_', '_', '_', '_', '_', '_', '_', '_', '_', '_', '_', '_', '_', '_', '▁', '▁', '▁', '▁', '▁', '▁', 'a', '_', '_', '_', '_', '_', '_', 'F', 'a', 'ami', 'il', 'li', 'li', '_', '_', '_', '_', '_', '_', '_', 'at', 'at', 'ack', 'ack', '▁', '▁', '▁', '▁', '▁', 'in', '▁the', '▁the', '▁', '_', '_', '_', '_', '_', '_', 'ly', 'ly', '_', '_', '_', '_', 'st', 'age', 'age', 's', '▁', '▁', '▁of', '▁', '▁', '▁', '_', '_', '_', '_', 'p', 'p', 'r', 'r', '_', 'te', '_', '_', 'ma', 'ma', '▁', '▁', '▁', '▁', 'ver', 'ver', 'y', '▁', '▁', '_', '_', '_', 'ma', 't', 't', 'ch', '_', '▁de', '▁', '▁', '_', '_', '_', '_', 'c', 'it', 'it', 'y', '▁', '▁', '_', '_', 'ga', '_', '_', '_', '_', '_', '_', '_', '_', '_', '_', '_', '_', '_', '_', '_', '_', '_', '_', '_', '_', '_', '_', '_', '_', '_', '_', '_', '_', '_', 'lo', '_', '_', '_', '_', '_', 's', 's', 'co', '_', '_', '_', '_', '_', '_', '_', '_', '_', '_', 'to', '_', 'm', 'ne', '▁', '▁', '▁', '▁', 'as', '▁', '▁', '_', 'we', 'll', '▁', '_', '_', 'ke', 'ke', 'ke', 'y', '▁', '▁', '▁', 'on', '_', '_', '_', '_', '_', '_', '_', '_', '_', '_', '_', '_', 'ver', '_', '▁his', '▁his', '▁', '_', '_', '_', '_', 'r', 'r', 'ig', 'h', 't', '_', 's', 's', 'ho', '_', '_', '_', '▁', '▁', '▁', '_', '_', '_', '_', 'j', 'st', 'st', '▁', '▁', 'h', 'ave', '▁', '▁', '▁', 'a', '_', '_', '_', '▁', '▁', '▁', 'w', 'h', 'e', '▁', '▁', '_', '_', '_', 'ro', 'ro', '_', 'ge', 'r', '_', 'ies', '▁', '▁', '▁to', '▁to', '_', '_', '_', 'ry', '_', '▁', '▁', '_', 's', 'to', 'p', 'p', '_', 'h', 'h', 'i', 'm', '▁', '_', '_', 'ge', 'ge', 't', '▁', '_', 'on', '▁the', '▁the', '▁', '_', '_', '_', 'bo', 'ball', '▁', '▁', '▁', '▁', '_', '_', 'ch', '_', 'k', '▁', '▁', '▁', '_', '_', '_', '▁', '▁', 'in', '▁the', '▁', '_', '_', '_', '_', 'p', 'p', 'ce', '▁of', '▁of', '▁of', '▁the', '▁', '_', '_', '_', '_', '_', '_', 'g', '_', 'me', '_', '_', '▁', '▁', '▁', '▁', '▁', '▁', '▁', '▁', '▁', '▁', '▁', '▁', '▁', '▁', '▁', '▁', '▁', '▁', '▁', '▁', '▁', '▁', '▁', '▁', '▁', '▁', '▁', '▁', '▁', '▁', '▁', '▁', '▁', '▁', '▁', '▁', '▁', '▁', '▁', '▁', '▁', '▁', '▁', '▁', '▁', '▁', '▁', '▁', '▁', '▁', '▁', '▁', '▁', '▁', '▁', '▁', '▁', '▁', '▁', '▁', '▁', '▁', '▁', '▁', '▁', '▁', '▁', '▁', '▁', '▁', '▁', '▁', '▁', '▁', '▁', '▁', '▁', '_', '_', '_', '_', '_', '_', '_', '_', '_', '_', '_', '_', '_', '_', '_', '_', '_', '_', '_', '_', '_', '_', '_', '_', '_', '_', '_', '_', '_', '_', '_', '_', '_', '_', '_', '▁', '▁', '▁', '▁', '▁', '▁', '▁', '▁', 'T237', '_', '_', '_', '_', '_', '_', '_', '▁', '_', '_', '_', '_', '_', '_', '▁', '▁', '▁', '▁', 'T237', '_', '_', '_', '_', '▁', '▁', '_', '_', '_', '_', '_', '_', '_', '▁', '▁', '▁', '▁', '▁', '▁', '▁', '▁', '▁', '▁', '▁', '▁', '▁', '▁', '▁', '▁', '▁', '▁', '▁', '▁', '▁', '▁', '▁', '▁', '▁', '▁', '▁', '▁', '▁', '▁', '▁', '▁', '▁', '▁', '▁', '▁', '▁', '▁', '▁', '▁', '▁', '▁', '▁', '▁', '▁', '▁', '▁', '▁', '▁', '▁', '▁', '▁', '▁', '▁', '▁', '▁', '▁', '▁', '▁', '▁', '▁', '▁', '▁', '▁', '▁', '▁', '▁', '▁', '▁', '▁', '▁', '▁', '▁', '▁', '▁', '▁', '▁', '▁', '▁', '▁', '▁', '▁', '▁', '▁', '▁', '▁', '▁', '▁', '▁', '▁', '▁', '▁', '▁', '▁', '▁', '▁', '▁', '▁', '▁', '▁', '▁', '▁', '▁', '▁', '▁', '▁', '▁', '▁', '▁', '▁', '▁', '▁', '▁', '▁', '▁', '▁', '▁', '▁', '▁', '▁', '▁', '▁', '▁', '▁', '▁', '▁', '▁', '▁', '▁', '▁', '▁', '▁', '▁', '▁', '▁', '▁', '▁', '▁', '▁', '▁', '▁', '▁', '▁', '▁', '▁', '▁', '▁', '▁', '▁', '▁', '▁', '▁', '▁', '▁', '▁', '▁', '▁', '▁', '▁', '▁', '▁', '▁', '▁', '▁', '▁', '▁', '▁', '▁', '▁', '▁', '_', '_', '_', '_', '_', '_', '_', '_', '_', '_', '_', '_', '_', '_', '_', '_', '_', '_', '_', '_', '_', '_', '_', '_', '_', '_', '_', '_', '_', '_', '_', '_', '_', '_', '_', '_', '_', '_', '_', '_', '_', '_', '_', '_', '_', '_', '_', '_', '_', '_', '_', '_', '_', '_', '_', '_', '_', '_', '▁', '_', '_', '_', '_', '_', '_', '_', '_', '▁so', '_', '_', 'va', '▁', '▁', 'T239', '_', '_', '_', '_', 'w', 'w', 'i', 'de', '▁', '▁', '▁', 'on', '▁the', '▁', '▁', '_', '_', '_', '▁', '▁', '▁', '_', 'h', '_', '▁', '▁', '_', '_', '_', '_', 'g', '_', '_', '_', '_', '▁', '▁', '▁', '▁', '▁', '▁', '▁', 'is', 'is', '_', '▁the', '▁the', '_', '_', '_', '_', '_', '_', '_', '▁de', '▁de', '▁de', 'f', 'f', 'a', 'a', 'to', 'r', '_', '_', '▁', '▁', '_', '_', '_', 'le', 'le', 'f', 't', 't', '_', '_', '_', 'w', 'we', 'ing', 'ing', 'ing', '_', '_', '_', 'up', '_', '_', '_', '_', '_', '_', '_', '_', '_', '_', '_', '_', '_', '_', '_', '_', '_', '_', '_', '_', '_', '_', '_', '_', '_', '_', '_', '_', '_', '_', '_', '_', '_', '_', '_', '_', '_', '_', '_', '_', '_', '_', '_', '_', '_', '_', '_', '_', '_', '_', '_', '_', '_', '_', '_', '_', '_', '_', '_', '_', '_', '_', 'us', '_', 's', 'ch', 'en', '_', '▁', '_', '_', '_', '_', '_', '_', '▁for', '_', '_', '_', '_', '▁', '_', '_', '_', '_', '_', '_', '_', '_', '_', 'f', '_', '_', '_', '_', '_', '_', '▁', '▁', '▁', '▁', '▁', '▁', '▁', '▁', '▁', '▁', '▁', '▁', '▁', '▁', '▁', '▁', '▁', '▁', '▁', '▁', '▁', '▁', '▁', '▁', '▁', '▁', '▁', '▁', '▁', '▁', '▁', '▁', '▁', '▁', '▁', '▁', '▁', '▁', '▁', '▁', '▁', '▁', '▁', '▁', '▁', '▁', '▁', '▁', '▁', '▁', '▁', '▁', '▁', '▁', '▁', '▁', '▁', '▁', '▁', '▁', '▁', '▁', '▁', '▁', '▁', '▁', '▁', '▁', '▁', '▁', '▁', '▁', '▁', '▁', '▁', '▁', '▁', '▁', '▁', '▁', '▁', '▁', '▁', '▁', '_', '_', '_', '_', '_', '_', '_', '_', '_', '_', '_', '_', '_', '_', '_', '_', '_', '_', '_', '_', '_', '_', '_', '_', '_', '_', '_', '_', '_', '_', '_', '_', '_', '_', '_', '_', '_', '_', '_', '_', '_', '_', '_', '_', '_', '_', '_', '▁', '▁', 'T239', '_', '▁', '▁', '▁', '▁', 'T237', '_', '_', '_', '_', '_', '_', '_', '_', '_', '_', '_', '_', '_', '_', '_', '_', '_', '_', '▁', '▁', '▁', '▁', '▁', '▁', '▁', '▁', '▁', '▁', '▁', '▁', '▁', '▁', '▁', '▁', '▁', '▁', '▁', '▁', '▁', '▁', '▁', '▁', '▁', '▁', '▁', '▁', '▁', '▁', '▁', '▁', '▁', '▁', '▁', '▁', '▁', '▁', '▁', '▁', '▁', '▁', '▁', '▁', '▁', '▁', '▁', '▁', '▁', '▁', '▁', '▁', '▁', '▁', '▁', '▁', '▁', '▁', '▁', '▁', '▁', '▁', '▁', '▁', '▁', '▁', '▁', '▁', '▁', '▁', '▁', '▁', '▁', '▁', '▁', '▁', '▁', '▁', '▁', '▁', '▁', '▁', '▁', '▁', '▁', '▁', '▁', '▁', '▁', '▁', '▁', '▁', '▁', '▁', '▁', '▁', '▁', '▁', '▁', '▁', '▁', '▁', '▁', '▁', '▁', '▁', '▁', '▁', '▁', '▁', '▁', '▁', '▁', '▁', '▁', '▁', '▁', '▁', '▁', '▁', '▁', '▁', '▁', '▁', '▁', '▁', '▁', '▁', '▁', '▁', '▁', '▁', '▁', '▁', '▁', '▁', '▁', '▁', '▁', '▁', '▁', '▁', '▁', '▁', '▁', '▁', '▁', '▁', '▁', '▁', '▁', '▁', '▁', '▁', '▁', '▁', '▁', '_', '_', '_', '_', '_', '_', '_', '_', '_', '_', '_', '_', '_', '_', '_', '_', '_', '_', '_', '_', '_', '_', '_', '_', '_', '_', '_', '_', '_', '_', '_', '_', '_', '_', '_', '_', '_', '_', '_', '_', '_', '_', '_', '_', '_', '_', '_', '_', '_', '_', '_', '_', '_', '_', '_', '_', '_', '_', '_', '_', '_', '_', '_', '▁', '▁', '▁', '_', '_', '_', '_', '_', '_', '_', 'చ', '_', 'ల', '_', '_', '_', '_', '_', 'స', '_', '_', '_', '_', '_', '_', '_', '_', '_', '_', '_', '_', '_', 'ు', 'ర', '_', '_', '_', '_', '▁', '▁', '▁', '▁', '▁', '▁', '▁', '▁', '▁', '▁', '▁', '_', '_', '_', '_', '_', '_', '_', '_', '_', '_', '_', '_', '_', '_', '_', '_', '_', '_', '_', '_', '_', '_', '▁', '▁', '_', '_', '_', '▁', '▁', '_', '_', '_', '_', '▁', 'ర', 'য', '়', '▁', '▁', '_', 'ఉ', 'ఉ', 'ం', 'ద', 'ో', '▁', '▁', '_', '_', '_', 'వ', '_', '_', 'ని', '_', '_', '_', '_', 'di', '_', 'ci', '_', '_', 'z', '_', '▁', '▁', '▁', '_', '_', '_', '_', 'గ', '_', 'ో', 'ో', '_', '_', '_', '_', '_', '_', 'క', '_', '_', '_', '_', 'గ', '_', 'డ', '▁', '▁', '_', '_', '_', '_', '_', '_', '_', '_', '_', '_', '_', '_', '_', '_', '_', '_', '▁', '▁', '▁', '▁', '▁', '▁', '_', '_', '_', '_', '_', '_', '_', '_', '_', '_', '_', '_', '_', '_', '_', '_', '_', 'స', '_', '_', '▁', '▁', '_', '_', '_', '_', '_', '_', '_', '_', '_', '_', '_', '_', '_', '_', '▁', '▁', '▁', '▁', '_', '_', '_', '_', '▁', '▁', 'e', 'c', 'c', 'c', '_', 's', 'ion', '_', '▁', '▁', '▁', '▁', '_', '_', '_', '_', '_', '_', '_', '_', '_', 'time', 'time', 'time', '_', '_', '_', '▁', '_', '_', '_', '_', '_', '_', 'p', 'ur', '_', '_', 'ch', '_', '_', '_', '_', '_', '_', '_', '_', '_', 's', 's', 'p', '_', '_', '_', 'es', 'ed', '_', '_', '▁', '▁', '▁', '▁', '▁', '▁', '▁', '▁', '▁', '_', '_', '_', 'if', '▁', '▁', '▁', '_', '_', '_', '_', '_', '_', '_', '_', '_', '_', '_', '_', '_', '_', '_', '_', '_', '_', '_', '_', 'do', '_', '▁', '▁', '▁', '▁', '▁', '_', '_', '_', '_', '_', '_', '_', '_', 'em', 'em', '▁', '▁', '▁', '_', '_', '_', '_', '_', '_', 'N', '_', '_', '_', 'ch', '_', '_', '_', '_', 'in', '_', '_', '_', '_', '_', '_', '_', '_', '_', '_', '_', '_', '_', '_', '_', 's', '_', '_', '▁', '▁', '▁', '▁', '▁', '▁', '▁', '▁', '▁', '▁', '▁', '▁', '▁', '▁', '▁', '▁', '▁', '▁', '▁', '▁', '▁', '▁', '▁', '▁', '▁', '▁', '▁', '▁', '_', '_', '_', '_', '_', '_', '_', '_', '_', '_', '_', '_', '_', '_', '_', '_', '_', '_', '_', '_', '_', 'T2', 'T2', '▁', '▁', '_', '_', '_', '_', '_', '_', '_', 'T57', '▁', '_', '_', '_', '_', '_', '_', '_', '_', '_', '_', '_', '_', '_', '_', '_', '_', '_', '_', 's', '_', '_', '_', '_', '_', '_', '_', '_', '_', '_', '▁', '▁', '▁', 'T237', '_', '_', '_', 'T57', '▁', '_', 'b', 'r', '_', 't', 's', '▁', 'T239', '▁', '_', '_', 'mo', 'mo', '_', '_', '_', 'an', 'an', '▁', '▁', '_', '_', '_', '_', '_', '_', '_', 'b', '_', '_', '_', '_', '_', '_', '_', '_', '_', '▁sur', '▁sur', '_', '_', 'f', '_', '_', '_', '▁', '▁', '▁', '▁', '▁', '▁', '▁', '▁', '▁', '▁', '▁', '▁', '▁', '▁', '▁', '▁', '▁', '▁', '▁', '▁', '▁', '▁', '▁', '▁', '▁', '▁', '▁', '_', '_', '_', '_', '_', '_', '_', '_', '_', '_', '_', '_', '_', '_', '_', '_', '▁', '▁', '▁', '▁', '▁', '▁', '▁', '▁', 'T237', '_', 'T234', 'T234', '_', '_', '_', '_', 'T57', '▁', '▁', 'B', '_', '_', '_', '_', '_', '_', '_', '_', '_', '_', '_', '_', '_', '_', '_', '_', '_', '_', '_', '_', '_', 'va', '_', '_', '_', '_', '_', '_', '_', '_', '_', '_', '_', '_', '_', '_', '_', '_', '_', '_', '_', '_', '_', '_', '_', '_', '_', '_', '_', '_', '_', '_', '_', '_', '_', '_', '_', '_', '_', '_', '_', '_', '_', 'th', 'th', 're', 'e', '▁', '_', '_', '_', '_', '_', '_', '▁goal', '▁goal', 's', '▁', '▁', '▁', '▁', 'in', '▁the', '▁la', '▁', 'T237', '_', 'T299', '_', 'T57', '_', '_', '_', '_', '_', '_', 'e', '_', '_', '_', '▁A', '_', '_', '_', '_', '_', '_', '_', '_', '_', '_', '_', '_', '_', '_', '_', '_', '_', '_', '▁', '_', '_', '_', '_', '_', '▁', '_', '_', '_', '_', '_', '_', '_', '_', '_', 'C', '_', '_', '_', '_', '_', 'us', '_', '_', 'ly', 'ly', '_', '_', '_', '_', '▁', '▁', '▁', '_', '_', '_', '_', '_', '_', '_', '_', '_', 'we', 'e', '_', 'ver', 'y', 'y', '▁', '_', '_', '_', 'on', 'on', '▁of', '▁of', '▁the', 'm', 'm', 'm', '▁', '_', '_', '_', '_', '_', '_', 'di', 'f', 'fe', 'le', 'c', 'c', 'te', '_', '_', '_', '_', '▁', '▁', '▁', '▁', '▁', '▁', '▁', '▁', '▁', '▁', '▁', '▁', '▁', '▁', '▁', '▁', '▁', '▁', '▁', '▁', '▁', '▁', '▁', '▁', '▁', '▁', '▁', '▁', '▁', '▁', '▁', '▁', '▁', '▁', '▁', '▁', '▁', '▁', '▁', '▁', '▁', '▁', '▁', '▁', '▁', '▁', '▁', '▁', '▁', '▁', '▁', '▁', '▁', '▁', '▁', '▁', '▁', '▁', '▁', '▁', '▁', '▁', '▁', '▁', '▁', '▁', '▁', '▁', '▁', '▁', '▁', '▁', '▁', '▁', '▁', '▁', '▁', '▁', '▁', '▁', '▁', '▁', '▁', '▁', '▁', '▁', '▁', '▁', '▁', '▁', '▁', '▁', '▁', '▁', '▁', '▁', '▁', '▁', '▁', '▁', '▁', '▁', '▁', '▁', '▁', '▁', '▁', '▁', '▁', '▁', '▁', '▁', '▁', '▁', '▁', '▁', '▁', '▁', '▁', '▁', '▁', '▁', '▁', '▁', '▁', '▁', '▁', '▁', '▁', '▁', '▁', '▁', '▁', '▁', '▁', '▁', '▁', '▁', '▁', '▁', '▁', '▁', '▁', '_', '_', '_', '_', '_', '_', '_', '_', '_', '_', '_', '_', '_', '_', '_', '_', '_', '_', '_', '_', '_', '_', '_', '_', '_', '_', '_', '_', '_', '_', '_', '_', '_', '_', '_', '_', '_', '_', '_', '_', '_', '_', '_', '_', '_', '_', '_', '_', '_', '_', '_', '_', '_', '_', '_', '_', '_', '_', '_', '_', '_', '_', '_', '_', '_', '_', '_', '_', '_', '_', '_', '_', '_', '_', '_', '_', '_', '_', '_', '_', '_', '_', '_', '_', '_', '_', '_', '_', '_', '_', '_', '_', '_', '_', '_', '_', '_', '_', '_', '_', '_', '_', '_', '_', '_', '_', '_', '_', '_', '_', '_', '_', '_', '_', '_', '_', '_', '_', '_', '_', '_', '_', '_', '_', '_', '_', '_', '_', '_', '_', '_', '_', '_', '_', '_', '_', '_', '_', '_', '_', '_', '_', '_', '_', '_', '_', '_', '_', '_', '_', '_', '_', '_', '_', '_', '_', '_', '_', '_', '_', '_', '_', '_', '_', '_', '_', '_', '_', '_', '_', '_', '_', '_', '_', '_', '_', '_', '_', '_', '_', '_', '_', '_', '_', '_', '_', '_', '_', '_', '_', '_', '_', '_', '_', '_', '_', '_', '_', '_', '_', '_', '_', '_', '_', '_', '_', '_', '_', '_', '_', '_', '_', '_', '_', '_', '_', '_', '_', '_', '▁', '▁', '▁', 'T237', '_', '_', 'T255', '_', '_', 'ex', 'p', 'p', 'ur', '_', 'te', '_', '_', '▁', 'T239', '▁', '▁', '▁', '▁', 'T237', '_', '_', '_', '_', '▁', '▁', '_', '_', '_', 'and', 'and', '_', '_', '_', 's', 'ist', 'ste', 'm', '_', '_', '_', '_', '_', '_', '_', '_', '_', '▁P', '_', '_', 'm', '_', '_', 'ent', 's', '▁', '▁', '▁', '_', '_', '_', '_', '_', 'p', 'us', 'us', '_', 'ch', 'en', '_', '_', '_', '_', '_', '▁for', 'w', 'w', 'd', 'd', '▁', '▁', '▁', '_', '_', '_', '_', '_', '_', '_', '_', 'al', 'ti', 'e', '▁', 'T239', '_', '▁de', '▁de', '▁', '_', '_', '_', '_', '_', '_', '_', 'me', 'me', '_', '_', '_', '_', '▁', '▁', '▁', '▁', '▁', '▁', '▁', '▁', '▁', '▁', '▁', '▁', '▁', '▁', '▁', '▁', '▁', '▁', '▁', '▁', '▁', '▁', '▁', '▁', '▁', '▁', '▁', '▁', '▁', '▁', '▁', '▁', '▁', '▁', '▁', '▁', '▁', '▁', '▁', '▁', '▁', '▁', '▁', '▁', '▁', '▁', '▁', '▁', '▁', '▁', '▁', '▁', '▁', '▁', '▁', '▁', '▁', '▁', '▁', '▁', '▁', '▁', '▁', '▁', '▁', '_', '_', '_', '_', '_', '_', '_', '_', '_', '_', '_', '_', '_', '_', '_', '_', '_', '_', '_', '_', '_', '_', '_', '_', '_', '_', '_', '_', '_', '_', '_', '_', '_', '_', '_', '_', '_', '_', '_', '_', '_', '_', '_', '_', '_', '_', '_', '_', '_', '_', '_', '_', '_', '_', '_', '_', '_', '_', '_', '_', '_', '▁', '▁', '▁', '▁', '▁', '▁', '▁', '▁', '▁', '▁', '▁', '▁', '▁', '▁', '▁', '▁', '▁', '▁', '▁', '▁', '▁', '▁', '▁', '▁', '▁', '▁', '▁', '▁', '▁', '▁', '▁', '▁', '▁', '▁', '▁', '▁', '▁', '▁', '▁', '▁', '▁', '▁', '▁', '▁', '▁', '▁', '▁', '▁', '▁', '▁', '▁', '▁', '▁', '▁', '▁', '▁', '▁', '▁', '▁', '▁', '▁', '▁', '▁', '▁', '▁', '▁', '▁', '▁', '▁', '▁', '▁', '▁', '▁', '▁', '▁', '▁', '▁', '▁', '▁', '▁', '▁', '▁', '▁', '▁', '▁', '▁', '▁', '▁', '▁', '▁', '▁', '▁', '▁', '▁', '▁', '▁', '▁', '▁', '▁', '▁', '▁', '▁', '▁', '▁', '▁', '▁', '▁', '▁', '▁', '▁', '▁', '▁', '▁', '▁', '▁', '▁', '▁', '▁', '▁', '▁', '▁', '▁', '▁', '▁', '▁', '▁', '▁', '▁', '▁', '▁', '▁', '▁', '▁', '▁', '▁', '▁', '▁', '▁', '▁', '_', '_', '_', '_', '_', '_', '_', '_', '_', '_', '_', '_', '_', '_', '_', '_', '_', '_', '_', '_', '_', '_', '_', '_', '_', '_', '_', '_', '_', '_', '_', '_', '_', '_', '_', '_', '_', '_', '_', '_', '_', '_', '_', '_', '_', '_', '▁', '▁', '▁', '▁', '▁', '▁', '_', 'T237', '_', '_', '_', '_', '_', '_', '_', '_', '_', '_', '_', '_', '_', '_', '_', '_', '_', '_', '_', '_', '_', '_', '_', '_', '_', '_', '_', '_', '_', '_', '_', '_', '_', '_', '_', '_', '_', '_', '_', '_', '_', '_', '_', '_', '_', '_', '_', '_', '_', '_', '_', '_', '_', '_', '_', '_', '_', '_', '_', 'w', 'w', 'or', 'or', 'k', 'k', 'a', '_', '_', '_', '▁', '▁', '_', '_', '_', '_', '_', '_', '_', '_', '_', '_', '_', '_', '_', '_', '_', '_', '_', '_', '_', '_', '_', '_', '_', '_', '_', '_', '_', '_', '_', '_', '_', '_', '_', '_', '_', '_', '_', '_', '_', '_', '_', '_', '_', '_', '_', '_', '▁', '▁', '_', '_', '_', '_', '_', '_', '▁so', '_', 'ver', '▁', '▁', '▁', '▁', '▁', 'be', 'be', 'be', 'h', 'in', 'in', 'd', 'd', '_', '_', 'm', 'm', '▁', 'T237', '_', '_', '_', '_', 'T57', '▁', '▁', 'w', 'or', 'or', 'k', 'k', '_', '_', '_', '_', '_', '_', '_', '_', '_', '_', '_', '_', '_', '_', '_', '_', '_', '_', '_', '_', '_', '_', '_', '_', '_', '_', '_', '_', '_', '_', '_', '_', '_', '_', '_', '_', '_', '_', '_', '_', 'ch', '_', '_', '_', '_', 't', 't', '▁', '▁', '▁', '▁', 'in', 'in', 'to', 'to', '▁the', '▁the', '▁', '_', '_', '_', '_', '_', '_', 'f', 'f', 'ic', 'k', '_', '_', '_', '_', '_', '_', '_', '_', '_', '_', '_', '_', '_', '_', '_', '_', '_', '_', '_', '_', '_', '_', '_', '_', '_', '_', '_', '_', '_', '_', '_', '_', '_', '_', '_', '_', '_', '_', '_', '_', '_', '_', '_', '_', '_', '_', '_', '_', '_', '_', '_', '_', '_', '_', '_', '_', '_', '_', '_', '_', '_', '_', '_', '_', '_', '_', '_', '_', 'ling', '_', '_', '_', '▁', '_', '_', '_', '_', '_', '_', 'T237', '_', 'T156', '_', '_', 'T57', 'T57', '▁', '_', '_', '_', '_', '_', 'ma', '▁', '▁', 'T239', '_', 'le', 'f', 't', '▁', '▁', '▁', '_', '_', '_', '_', '_', '▁S', '_', '_', '_', '_', '_', '_', '_', \"'\", 's', '_', '_', '_', '_', 'f', 'ir', 'ir', '_', '_', '▁to', '_', '_', 't', '_', '_', '_', '_', '▁ju', '_', 'st', 's', '▁', '▁', '▁', '_', 'le', 't', 't', 't', 'h', 'i', 'm', '▁', 'do', 'w', 'n', '▁', '▁', 'it', 'it', '_', '_', '_', '▁to', 'o', '_', 'k', '_', '_', '_', 'in', 'to', 'to', '▁the', '▁the', '_', '_', '_', '_', '_', 't', '_', 'if', 'ic', '▁', '▁', '▁', 'in', '▁the', '▁', '_', '_', '_', '_', '▁mi', '▁mi', '_', 'le', 'le', '▁the', '▁the', '_', '_', '_', '_', '_', '▁po', '_', '_', '_', 't', '▁', '▁', '▁', '▁', '▁', '▁', '▁', '▁', '▁', '▁', '▁', '▁', '▁', '▁', '▁', '▁', '▁', '▁', '▁', '▁', '▁', '▁', '▁', '▁', '▁', '▁', '▁', '▁', '▁', '▁', '▁', '▁', '▁', '▁', '▁', '▁', '▁', '▁', '▁', '▁', '▁', '▁', '▁', '▁', '▁', '▁', '▁', '▁', '▁', '▁', '▁', '▁', '▁', '▁', '▁', '▁', '▁', '▁', '▁', '▁', '▁', '▁', '▁', '▁', '▁', '▁', '▁', '▁', '▁', '▁', '▁', '▁', '▁', '▁', '▁', '▁', '▁', '▁', '▁', '▁', '▁', '▁', '▁', '▁', '_', '_', '_', '_', '_', '_', '_', '_', '_', '_', '_', '_', '_', '_', '_', '_', '_', '_', '_', '_', '_', '_', '_', '_', '_', '_', '_', '_', '_', '_', '_', '_', '_', '_', '_', '▁', '▁', '▁', '▁', 'T237', '_', '_', '_', '_', '_', 'T157', '▁', 'D', 'D', '_', '_', '_', '_', 'b', '_', '_', '_', '_', '_', 'a', 'a', '▁', '▁', 'T239', '▁', '▁', '▁', '▁', '▁', '▁', '▁', '▁', '▁', '▁', '▁', '▁', '▁', '▁', '▁', '▁', '▁', '▁', '▁', '▁', '▁', '▁', '▁', '▁', '▁', '▁', '▁', '▁', '▁', '▁', '▁', '▁', '▁', '▁', '▁', '▁', '▁', '▁', '▁', '▁', '▁', '▁', '▁', '▁', '▁', '▁', '▁', '▁', '▁', '▁', '▁', '▁', '▁', '▁', '▁', '▁', '▁', '▁', '▁', '▁', '▁', '▁', '▁', '▁', '▁', '▁', '▁', '▁', '▁', '▁', '▁', '▁', '▁', '▁', '▁', '▁', '▁', '▁', '▁', '▁', '▁', '▁', '▁', '▁', '▁', '▁', '▁', '▁', '▁', '▁', '▁', '▁', '▁', '▁', '▁', '▁', '▁', '▁', '▁', '▁', '▁', '▁', '▁', '▁', '▁', '▁', '▁', '▁', '▁', '▁', '▁', '▁', '▁', '▁', '▁', '▁', '▁', '▁', '▁', '▁', '▁', '▁', '▁', '▁', '▁', 'T2', '▁', '▁', '▁', 'T237', '_', 'T156', '_', '_', '_', '_', 'T57', 'T57', '▁', '_', '_', '_', '_', '_', 'ch', 'ch', '_', 'ester', '_', '_', '_', '_', '_', '_', '_', '_', '_', 'ti', 'tic', '_', '▁', '▁', '_', '_', 'ing', 'ing', '▁', '▁', '_', 'no', 'no', 'no', 'w', '▁', '▁', '_', '_', '▁', 'en', 'en', 'ne', '_', '_', '▁the', '▁the', '▁', '_', '_', '_', '_', '_', 'bo', 'bo', 'ball', '_', '▁', '▁', '▁', '▁', '▁', '▁', '▁', '▁', '▁', '▁', '▁', '▁', '▁', '▁', '▁', '▁', '▁', '▁', '▁', '▁', '▁', '▁', '▁', '▁', '▁', '▁', '▁', '▁', '▁', '▁', '▁', '▁', '▁', '▁', '▁', '▁', '▁', '▁', '▁', '▁', '▁', '▁', '▁', '▁', '▁', '▁', '▁', '▁', '▁', '▁', '▁', '▁', '▁', '▁', '▁', '▁', '▁', '▁', '▁', '▁', '▁', '▁', '▁', '▁', '▁', '▁', '▁', '_', '_', '_', '_', '_', '_', '_', '_', '_', '_', '_', '_', '_', '_', '_', '_', '_', '_', '_', '_', '_', '_', '_', '_', '_', '_', 'end', 'y', '_', '_', '_', '_', '_', '_', '_', '_', '_', '_', '_', 'ly', 'ly', '▁', '▁', '▁', 'be', 'be', 'en', '▁', 'ab', 'ab', 'le', '▁to', '_', '_', '_', '_', '▁play', '▁play', '▁play', '_', '_', '_', '_', '_', '_', '_', '_', '▁pas', '▁pas', '_', 's', '_', '_', '_', '_', '_', '_', '_', '_', '_', '_', '_', '_', '_', '_', '_', '_', '_', '_', '_', '_', '_', '_', 'a', 'y', '_', '▁', '▁', '▁', '_', '_', '_', '_', '_', '_', '_', '_', '▁', 'be', 'be', '_', '_', '_', '_', '_', '_', 'ion', '_', '_', '_', '_', '_', '_', '_', '_', '_', '_', '_', '_', '_', '_', '_', '_', '_', '_', '_', '_', '_', '_', '_', '_', '▁', '_', '_', '_', '_', '_', '_', '_', 'O', '_', '_', '_', '_', '_', '_', '_', '_', 'us', '_', '_', '▁Le', '▁Le', '▁Le', '_', '_', '_', '_', '_', 'D', \"'\", 't', 's', '▁', '▁', '▁', 'a', 'ల', 'lo', 'w', 'w', '▁', '▁', 'th', 'os', 'se', '▁', '_', '_', '_', '_', 'ga', 'ga', '_', 'b', '_', 's', '_', '_', '_', '_', '_', '_', 'h', 'h', '_', '_', '_', 'en', '_', '_', '▁', '▁', '▁', '_', '_', '_', '_', '_', '_', '_', '_', '_', '_', '_', '_', '▁', '▁', '_', '_', '_', '_', '_', '_', '_', '_', '_', '_', '_', '_', '_', '_', '_', '_', '_', '_', '_', '_', '_', '_', '_', '_', '_', '_', '_', '_', '_', '_', '_', '_', '_', '_', '_', '_', '_', '_', '_', '_', '_', '_', '_', '_', '_', '_', '_', '_', '_', '_', '_', '_', '_', '_', '_', '_', '_', '_', '_', '_', '_', '_', '_', '_', '_', '_', '_', '_', '▁', '▁', '_', '_', '_', '_', '_', '_', '_', '_', '_', '_', '_', '_', '_', '_', '_', '_', '_', '_', '_', '_', '_', 't', '▁', '▁', '▁', '_', '_', '_', '_', '▁', '▁', 'w', 'or', 'k', 'k', '_', 'no', '_', '_', '_', '_', '▁', 'ke', 'ke', '_', '_', 'f', 'o', 'le', '_', '_', '_', '▁the', '▁', '▁', 'T237', '_', '_', '_', 'T57', '_', '▁', 'F', '_', '_', '_', '_', '_', '_', '_', '_', '_', '▁', '_', '_', '_', '_', '_', '_', '_', '_', '_', '_', '_', '_', '_', '_', '_', '_', '_', '_', '_', '_', '_', '_', '_', '_', '_', '_', '_', '_', '_', '_', '_', '_', '_', '_', '_', '_', '_', '_', '_', '_', '▁', '_', 'T237', '_', '_', '_', '_', '_', '_', '_', '_', 'D', '_', '_', 'b', 'b', 'ro', '_', 'y', '_', '_', 'al', '_', '▁', '▁', '▁', '▁', '▁', '▁', '▁', '▁', '▁', '▁', '▁', '▁', '▁', '▁', '▁', '▁', '▁', '_', '_', '_', '_', '_', '_', '_', '_', '_', '_', '_', '_', '_', '_', '_', '_', '_', '_', '_', '_', '_', '_', '_', '_', '_', '_', '_', '_', '_', '_', '_', '_', '_', '_', '_', '▁', 'T239', '▁', '▁', '▁', 'T237', '_', '_', '_', '_', '_', '_', '▁S', '_', '_', '_', '▁', '▁', 'T239', '▁', '▁', '_', '_', '_', '_', 'k', 'p', 'p', 'te', '_', '_', '_', '_', 'we', 'we', 'y', 'y', '▁', '▁', '▁', 'T237', '_', 'T156', '_', 'T57', 'T57', '▁', '_', '_', '_', 'P', '_', '_', '_', '_', '_', '_', '_', '_', '_', 'lo', '▁', '▁', 'T239', '▁', '▁', '▁', '▁', '▁', '▁', '▁', '▁', '▁', '▁', '▁', '▁', '▁', '▁', '▁', '▁', '▁', '▁', '▁', '▁', '▁', '▁', '▁', '▁', '▁', '▁', '▁', '▁', '▁', '▁', '▁', '▁', '▁', '▁', '▁', '▁', '▁', '▁', '▁', '▁', '▁', '▁', '▁', '▁', '_', '_', '_', '_', '_', '_', '▁', '▁', '▁', '▁', '▁', '▁', '▁', '▁', '▁', '▁', '▁', '▁', '▁', '▁', '▁', 'T2', 'T2', '▁', '_', '_', '_', '_', '_', '_', '_', '_', '_', '_', '_', '_', '_', '_', '_', '_', '_', '_', '_', '_', '_', '_', '_', '_', '_', '_', '_', '_', '_', '_', '_', '_', '_', '_', '_', '_', '_', '_', '_', '_', '_', '_', '_', '_', '_', '_', '_', '_', '_', '_', '_', '_', '_', '_', '_', '_', '_', '_', '_', '_', '_', '_', '_', '_', '▁', '▁', '▁', 'T237', '_', 'T234', '_', 'T57', '_', '▁Par', '▁Par', '_', '_', '_', '_', '_', '_', '_', '▁S', '▁S', 'tar', '_', '▁', '_', '_', '_', '_', '_', '_', '_', '_', '_', '_', '_', '_', '_', '_', '_', '_', '_', '_', '_', '_', 'y', '▁', '▁', '▁', '_', '_', '_', 's', 's', '_', '▁the', '▁the', '▁', '_', '_', 'be', 'be', 'st', 'st', '_', '_', '_', '_', '_', '_', '_', '_', '_', '_', '_', '_', '_', '▁', '▁', '▁', 'T237', '_', '_', '_', '_', '_', '_', '_', '_', '_', '_', '_', '_', '_', '_', '_', 'e', '▁', '▁', '▁', '▁', '▁', '▁', '▁', '▁', '▁', '▁', '▁', '▁', '▁', '▁', '▁', '▁', '▁', '▁', '▁', '▁', '▁', '▁', '▁']\n"
     ]
    }
   ],
   "source": [
    "stride = 4 # 8 for Citrinet\n",
    "asr_decoder = ChunkBufferDecoder(model, stride=stride, chunk_len_in_secs=chunk_len_in_secs, buffer_len_in_secs=buffer_len_in_secs )\n",
    "transcription = asr_decoder.transcribe_buffers(buffer_list, plot=True)"
   ]
  },
  {
   "cell_type": "code",
   "execution_count": 50,
   "metadata": {},
   "outputs": [
    {
     "name": "stdout",
     "output_type": "stream",
     "text": [
      "wh go wortshiit from the T237_T148 ystok remember year ago T239 ity T239in front after T237_T25 tels T239  T237__T157  Sigre T239 T237T ffer htake io सेs pic Distime  haing T237_T234_T57 राas is aaly fcer  ity k  ర T239వద T237_wk mमmember  a in the game   Wen  रा th well T237T120 2   kequi cle   ో chepen T237 হলంకdo stরron ps রోiescoing  Preis dily butis no  Iinter ixs the  Fst  Prरी ork the  aterనే 3ల ling   __T57 B  tef   windful  po T237_T156_T57 erobaT239  kleviling a T237_T156T57 Nnoia in Zwi scream   a to T237T255 eover tun the  onfildssion T2 T237_T255 ing strenche T239 in taual ness ing t locqy Jm   T237_T156_T57 ార్ T239 da T237_T234_T57  T239 ge T237__ pack 'sno p  ress   Lok  the emcelection lokeet me in them one reasonswi promcaies beauses the T237__T57 La Liexsingt  to ry stop hx f m T237_T234T57 ev T237_ brine tin get on the bo away from T237_T234_T57 Ma END C chicks,flatenby T237_T234_T57 A T239   ha atbever Minierese his seasen Longste T237_T156_ Manchester CUnited T239 T2  T237b T237__T57 Ln T239 von T237_T57 F  thinks t bit differentlyzu the  curche prdimach anybys on the planwatchees fotball nomany curchewd just cauie swts bbo cen baacks for the fund me  Mania ben soffer wen Zieren posionur go ste zigitde go begether with wisder bepis ing hit them on the break witch the moan ble of during  T237_T57_ $s T239 T2 an T237cheth spin way from T237_T234_T57 minute T239  wwey  aFaamiilliatack in the lystages  of prtema very match de city galoscotomne as well key onver his rightsho jst have a whe rogeries  tory stophim get on the boball chk  in the pce of the gme  T237  T237_    sova T239wide on the  h g is the defator leftwweingupusschen  for f  T239 T237__  చలసుర    రয় ఉందో వనిdiciz గోకగడ  స   ecsion time purchspesed if do em Nchins T2 _T57 s T237_T57 brts T239 moan b surf  T237_T234_T57 Bvathree  goals in the la T237_T299_T57e A  Cusly weevery on of them diffelecte  T237_T255expurte T239 T237_ andsiststem Pments puschen forwd altie T239 de me   T237worka   sover behindm T237_T57 workcht into the fickling T237_T156_T57 ma T239left  S'sfir tot justs lethim down it tookinto thetific in the  mile the pot  T237_T157 Dba T239 T2 T237_T156_T57 chestertitic ing now  enne the boball endyly been able to play passay  beion Ous LeD'ts aలlow thosse gabshen   t  workno kefole the T237__T57 F  T237_Dbroyal  T239 T237_ S T239 kptewey T237_T156_T57 Plo T239  T2  T237_T234_T57 Par Star y s the best T237e \n"
     ]
    }
   ],
   "source": [
    "# Final transcription after CTC merge\n",
    "print(transcription)\n"
   ]
  },
  {
   "cell_type": "markdown",
   "metadata": {},
   "source": [
    "Time to evaluate our streaming inference on the whole long file that we created."
   ]
  },
  {
   "cell_type": "code",
   "execution_count": 51,
   "metadata": {},
   "outputs": [],
   "source": [
    "def load_tags(file_path):\n",
    "    tag_dict = {}\n",
    "    with open(file_path, 'r') as file:\n",
    "        for line in file:\n",
    "            tag, code = line.strip().split()\n",
    "            tag_dict[code] = tag\n",
    "    return tag_dict\n",
    "tag_dict = load_tags('/external2/datasets/text/synthetic/processed_r3/alltags.txt')"
   ]
  },
  {
   "cell_type": "code",
   "execution_count": 53,
   "metadata": {},
   "outputs": [],
   "source": [
    "# Define a function to map tags to words\n",
    "def map_tags(word, tag_dict):\n",
    "    parts = word.split('_') if '_' in word else word.split('-')\n",
    "    mapped_parts = [tag_dict.get(part, part) for part in parts]\n",
    "    return ' '.join(mapped_parts)"
   ]
  },
  {
   "cell_type": "code",
   "execution_count": 54,
   "metadata": {},
   "outputs": [
    {
     "data": {
      "text/plain": [
       "\"wh go wortshiit from the ENTITY SECTION ystok remember year ago END ity T239in front after ENTITY DURATION tels END ENTITY  TYPE Sigre END T237T ffer htake io सेs pic Distime haing ENTITY PLAYER NAME राas is aaly fcer ity k ర T239వద ENTITY wk mमmember a in the game Wen रा th well T237T120 2 kequi cle ో chepen ENTITY হলంకdo stরron ps রోiescoing Preis dily butis no Iinter ixs the Fst Prरी ork the aterనే 3ల ling   NAME B tef windful po ENTITY TEAM NAME erobaT239 kleviling a ENTITY T156T57 Nnoia in Zwi scream a to T237T255 eover tun the onfildssion TAGGER ENTITY ACTION ing strenche END in taual ness ing t locqy Jm ENTITY TEAM NAME ార్ END da ENTITY PLAYER NAME END ge ENTITY   pack 'sno p ress Lok the emcelection lokeet me in them one reasonswi promcaies beauses the ENTITY  NAME La Liexsingt to ry stop hx f m ENTITY T234T57 ev ENTITY  brine tin get on the bo away from ENTITY PLAYER NAME Ma END C chicks,flatenby ENTITY PLAYER NAME A END ha atbever Minierese his seasen Longste ENTITY TEAM  Manchester CUnited END TAGGER T237b ENTITY  NAME Ln END von ENTITY NAME F thinks t bit differentlyzu the curche prdimach anybys on the planwatchees fotball nomany curchewd just cauie swts bbo cen baacks for the fund me Mania ben soffer wen Zieren posionur go ste zigitde go begether with wisder bepis ing hit them on the break witch the moan ble of during ENTITY NAME  $s END TAGGER an T237cheth spin way from ENTITY PLAYER NAME minute END wwey aFaamiilliatack in the lystages of prtema very match de city galoscotomne as well key onver his rightsho jst have a whe rogeries tory stophim get on the boball chk in the pce of the gme ENTITY ENTITY  sova T239wide on the h g is the defator leftwweingupusschen for f END ENTITY   చలసుర రয় ఉందో వనిdiciz గోకగడ స ecsion time purchspesed if do em Nchins TAGGER  NAME s ENTITY NAME brts END moan b surf ENTITY PLAYER NAME Bvathree goals in the la ENTITY LEAGUE T57e A Cusly weevery on of them diffelecte ENTITY T255expurte END ENTITY  andsiststem Pments puschen forwd altie END de me T237worka sover behindm ENTITY NAME workcht into the fickling ENTITY TEAM NAME ma T239left S'sfir tot justs lethim down it tookinto thetific in the mile the pot ENTITY TYPE Dba END TAGGER ENTITY TEAM NAME chestertitic ing now enne the boball endyly been able to play passay beion Ous LeD'ts aలlow thosse gabshen t workno kefole the ENTITY  NAME F ENTITY Dbroyal END ENTITY  S END kptewey ENTITY TEAM NAME Plo END TAGGER ENTITY PLAYER NAME Par Star y s the best T237e\""
      ]
     },
     "execution_count": 54,
     "metadata": {},
     "output_type": "execute_result"
    }
   ],
   "source": [
    "words = transcription.split()\n",
    "mapped_transcription = ' '.join([map_tags(word, tag_dict) for word in words])\n",
    "mapped_transcription"
   ]
  },
  {
   "cell_type": "code",
   "execution_count": 16,
   "metadata": {},
   "outputs": [
    {
     "ename": "KeyboardInterrupt",
     "evalue": "",
     "output_type": "error",
     "traceback": [
      "\u001b[0;31m---------------------------------------------------------------------------\u001b[0m",
      "\u001b[0;31mKeyboardInterrupt\u001b[0m                         Traceback (most recent call last)",
      "Cell \u001b[0;32mIn[16], line 14\u001b[0m\n\u001b[1;32m     11\u001b[0m     buffer_list\u001b[38;5;241m.\u001b[39mappend(np\u001b[38;5;241m.\u001b[39marray(sampbuffer))\n\u001b[1;32m     13\u001b[0m asr_decoder \u001b[38;5;241m=\u001b[39m ChunkBufferDecoder(model, stride\u001b[38;5;241m=\u001b[39mstride, chunk_len_in_secs\u001b[38;5;241m=\u001b[39mchunk_len_in_secs, buffer_len_in_secs\u001b[38;5;241m=\u001b[39mbuffer_len_in_secs )\n\u001b[0;32m---> 14\u001b[0m transcription \u001b[38;5;241m=\u001b[39m \u001b[43masr_decoder\u001b[49m\u001b[38;5;241;43m.\u001b[39;49m\u001b[43mtranscribe_buffers\u001b[49m\u001b[43m(\u001b[49m\u001b[43mbuffer_list\u001b[49m\u001b[43m,\u001b[49m\u001b[43m \u001b[49m\u001b[43mplot\u001b[49m\u001b[38;5;241;43m=\u001b[39;49m\u001b[38;5;28;43;01mFalse\u001b[39;49;00m\u001b[43m)\u001b[49m\n\u001b[1;32m     15\u001b[0m wer \u001b[38;5;241m=\u001b[39m word_error_rate(hypotheses\u001b[38;5;241m=\u001b[39m[transcription], references\u001b[38;5;241m=\u001b[39m[ref_transcript])\n\u001b[1;32m     17\u001b[0m \u001b[38;5;28mprint\u001b[39m(\u001b[38;5;124mf\u001b[39m\u001b[38;5;124m\"\u001b[39m\u001b[38;5;124mWER: \u001b[39m\u001b[38;5;132;01m{\u001b[39;00m\u001b[38;5;28mround\u001b[39m(wer\u001b[38;5;241m*\u001b[39m\u001b[38;5;241m100\u001b[39m,\u001b[38;5;241m2\u001b[39m)\u001b[38;5;132;01m}\u001b[39;00m\u001b[38;5;124m%\u001b[39m\u001b[38;5;124m\"\u001b[39m)\n",
      "File \u001b[0;32m/external/anaconda3/envs/nemo/lib/python3.10/site-packages/torch/utils/_contextlib.py:115\u001b[0m, in \u001b[0;36mcontext_decorator.<locals>.decorate_context\u001b[0;34m(*args, **kwargs)\u001b[0m\n\u001b[1;32m    112\u001b[0m \u001b[38;5;129m@functools\u001b[39m\u001b[38;5;241m.\u001b[39mwraps(func)\n\u001b[1;32m    113\u001b[0m \u001b[38;5;28;01mdef\u001b[39;00m \u001b[38;5;21mdecorate_context\u001b[39m(\u001b[38;5;241m*\u001b[39margs, \u001b[38;5;241m*\u001b[39m\u001b[38;5;241m*\u001b[39mkwargs):\n\u001b[1;32m    114\u001b[0m     \u001b[38;5;28;01mwith\u001b[39;00m ctx_factory():\n\u001b[0;32m--> 115\u001b[0m         \u001b[38;5;28;01mreturn\u001b[39;00m \u001b[43mfunc\u001b[49m\u001b[43m(\u001b[49m\u001b[38;5;241;43m*\u001b[39;49m\u001b[43margs\u001b[49m\u001b[43m,\u001b[49m\u001b[43m \u001b[49m\u001b[38;5;241;43m*\u001b[39;49m\u001b[38;5;241;43m*\u001b[39;49m\u001b[43mkwargs\u001b[49m\u001b[43m)\u001b[49m\n",
      "Cell \u001b[0;32mIn[11], line 34\u001b[0m, in \u001b[0;36mChunkBufferDecoder.transcribe_buffers\u001b[0;34m(self, buffers, merge, plot)\u001b[0m\n\u001b[1;32m     32\u001b[0m \u001b[38;5;28mself\u001b[39m\u001b[38;5;241m.\u001b[39mbuffers \u001b[38;5;241m=\u001b[39m buffers\n\u001b[1;32m     33\u001b[0m \u001b[38;5;28mself\u001b[39m\u001b[38;5;241m.\u001b[39mdata_layer\u001b[38;5;241m.\u001b[39mset_signal(buffers[:])\n\u001b[0;32m---> 34\u001b[0m \u001b[38;5;28;43mself\u001b[39;49m\u001b[38;5;241;43m.\u001b[39;49m\u001b[43m_get_batch_preds\u001b[49m\u001b[43m(\u001b[49m\u001b[43m)\u001b[49m\n\u001b[1;32m     35\u001b[0m result \u001b[38;5;241m=\u001b[39m \u001b[38;5;28mself\u001b[39m\u001b[38;5;241m.\u001b[39mdecode_final(merge)\n\u001b[1;32m     36\u001b[0m \u001b[38;5;28;01mif\u001b[39;00m plot:\n",
      "Cell \u001b[0;32mIn[11], line 45\u001b[0m, in \u001b[0;36mChunkBufferDecoder._get_batch_preds\u001b[0;34m(self)\u001b[0m\n\u001b[1;32m     43\u001b[0m audio_signal, audio_signal_len \u001b[38;5;241m=\u001b[39m batch\n\u001b[1;32m     44\u001b[0m audio_signal, audio_signal_len \u001b[38;5;241m=\u001b[39m audio_signal\u001b[38;5;241m.\u001b[39mto(device), audio_signal_len\u001b[38;5;241m.\u001b[39mto(device)\n\u001b[0;32m---> 45\u001b[0m log_probs, encoded_len, predictions \u001b[38;5;241m=\u001b[39m \u001b[38;5;28;43mself\u001b[39;49m\u001b[38;5;241;43m.\u001b[39;49m\u001b[43masr_model\u001b[49m\u001b[43m(\u001b[49m\u001b[43minput_signal\u001b[49m\u001b[38;5;241;43m=\u001b[39;49m\u001b[43maudio_signal\u001b[49m\u001b[43m,\u001b[49m\u001b[43m \u001b[49m\u001b[43minput_signal_length\u001b[49m\u001b[38;5;241;43m=\u001b[39;49m\u001b[43maudio_signal_len\u001b[49m\u001b[43m)\u001b[49m\n\u001b[1;32m     46\u001b[0m preds \u001b[38;5;241m=\u001b[39m torch\u001b[38;5;241m.\u001b[39munbind(predictions)\n\u001b[1;32m     47\u001b[0m \u001b[38;5;28;01mfor\u001b[39;00m pred \u001b[38;5;129;01min\u001b[39;00m preds:\n",
      "File \u001b[0;32m/external/anaconda3/envs/nemo/lib/python3.10/site-packages/torch/nn/modules/module.py:1532\u001b[0m, in \u001b[0;36mModule._wrapped_call_impl\u001b[0;34m(self, *args, **kwargs)\u001b[0m\n\u001b[1;32m   1530\u001b[0m     \u001b[38;5;28;01mreturn\u001b[39;00m \u001b[38;5;28mself\u001b[39m\u001b[38;5;241m.\u001b[39m_compiled_call_impl(\u001b[38;5;241m*\u001b[39margs, \u001b[38;5;241m*\u001b[39m\u001b[38;5;241m*\u001b[39mkwargs)  \u001b[38;5;66;03m# type: ignore[misc]\u001b[39;00m\n\u001b[1;32m   1531\u001b[0m \u001b[38;5;28;01melse\u001b[39;00m:\n\u001b[0;32m-> 1532\u001b[0m     \u001b[38;5;28;01mreturn\u001b[39;00m \u001b[38;5;28;43mself\u001b[39;49m\u001b[38;5;241;43m.\u001b[39;49m\u001b[43m_call_impl\u001b[49m\u001b[43m(\u001b[49m\u001b[38;5;241;43m*\u001b[39;49m\u001b[43margs\u001b[49m\u001b[43m,\u001b[49m\u001b[43m \u001b[49m\u001b[38;5;241;43m*\u001b[39;49m\u001b[38;5;241;43m*\u001b[39;49m\u001b[43mkwargs\u001b[49m\u001b[43m)\u001b[49m\n",
      "File \u001b[0;32m/external/anaconda3/envs/nemo/lib/python3.10/site-packages/torch/nn/modules/module.py:1541\u001b[0m, in \u001b[0;36mModule._call_impl\u001b[0;34m(self, *args, **kwargs)\u001b[0m\n\u001b[1;32m   1536\u001b[0m \u001b[38;5;66;03m# If we don't have any hooks, we want to skip the rest of the logic in\u001b[39;00m\n\u001b[1;32m   1537\u001b[0m \u001b[38;5;66;03m# this function, and just call forward.\u001b[39;00m\n\u001b[1;32m   1538\u001b[0m \u001b[38;5;28;01mif\u001b[39;00m \u001b[38;5;129;01mnot\u001b[39;00m (\u001b[38;5;28mself\u001b[39m\u001b[38;5;241m.\u001b[39m_backward_hooks \u001b[38;5;129;01mor\u001b[39;00m \u001b[38;5;28mself\u001b[39m\u001b[38;5;241m.\u001b[39m_backward_pre_hooks \u001b[38;5;129;01mor\u001b[39;00m \u001b[38;5;28mself\u001b[39m\u001b[38;5;241m.\u001b[39m_forward_hooks \u001b[38;5;129;01mor\u001b[39;00m \u001b[38;5;28mself\u001b[39m\u001b[38;5;241m.\u001b[39m_forward_pre_hooks\n\u001b[1;32m   1539\u001b[0m         \u001b[38;5;129;01mor\u001b[39;00m _global_backward_pre_hooks \u001b[38;5;129;01mor\u001b[39;00m _global_backward_hooks\n\u001b[1;32m   1540\u001b[0m         \u001b[38;5;129;01mor\u001b[39;00m _global_forward_hooks \u001b[38;5;129;01mor\u001b[39;00m _global_forward_pre_hooks):\n\u001b[0;32m-> 1541\u001b[0m     \u001b[38;5;28;01mreturn\u001b[39;00m \u001b[43mforward_call\u001b[49m\u001b[43m(\u001b[49m\u001b[38;5;241;43m*\u001b[39;49m\u001b[43margs\u001b[49m\u001b[43m,\u001b[49m\u001b[43m \u001b[49m\u001b[38;5;241;43m*\u001b[39;49m\u001b[38;5;241;43m*\u001b[39;49m\u001b[43mkwargs\u001b[49m\u001b[43m)\u001b[49m\n\u001b[1;32m   1543\u001b[0m \u001b[38;5;28;01mtry\u001b[39;00m:\n\u001b[1;32m   1544\u001b[0m     result \u001b[38;5;241m=\u001b[39m \u001b[38;5;28;01mNone\u001b[39;00m\n",
      "File \u001b[0;32m/external/anaconda3/envs/nemo/lib/python3.10/site-packages/nemo/core/classes/common.py:1098\u001b[0m, in \u001b[0;36mtypecheck.__call__\u001b[0;34m(self, wrapped, instance, args, kwargs)\u001b[0m\n\u001b[1;32m   1095\u001b[0m instance\u001b[38;5;241m.\u001b[39m_validate_input_types(input_types\u001b[38;5;241m=\u001b[39minput_types, ignore_collections\u001b[38;5;241m=\u001b[39m\u001b[38;5;28mself\u001b[39m\u001b[38;5;241m.\u001b[39mignore_collections, \u001b[38;5;241m*\u001b[39m\u001b[38;5;241m*\u001b[39mkwargs)\n\u001b[1;32m   1097\u001b[0m \u001b[38;5;66;03m# Call the method - this can be forward, or any other callable method\u001b[39;00m\n\u001b[0;32m-> 1098\u001b[0m outputs \u001b[38;5;241m=\u001b[39m \u001b[43mwrapped\u001b[49m\u001b[43m(\u001b[49m\u001b[38;5;241;43m*\u001b[39;49m\u001b[43margs\u001b[49m\u001b[43m,\u001b[49m\u001b[43m \u001b[49m\u001b[38;5;241;43m*\u001b[39;49m\u001b[38;5;241;43m*\u001b[39;49m\u001b[43mkwargs\u001b[49m\u001b[43m)\u001b[49m\n\u001b[1;32m   1100\u001b[0m instance\u001b[38;5;241m.\u001b[39m_attach_and_validate_output_types(\n\u001b[1;32m   1101\u001b[0m     output_types\u001b[38;5;241m=\u001b[39moutput_types, ignore_collections\u001b[38;5;241m=\u001b[39m\u001b[38;5;28mself\u001b[39m\u001b[38;5;241m.\u001b[39mignore_collections, out_objects\u001b[38;5;241m=\u001b[39moutputs\n\u001b[1;32m   1102\u001b[0m )\n\u001b[1;32m   1104\u001b[0m \u001b[38;5;28;01mreturn\u001b[39;00m outputs\n",
      "File \u001b[0;32m/external/anaconda3/envs/nemo/lib/python3.10/site-packages/nemo/collections/asr/models/ctc_models.py:564\u001b[0m, in \u001b[0;36mEncDecCTCModel.forward\u001b[0;34m(self, input_signal, input_signal_length, processed_signal, processed_signal_length)\u001b[0m\n\u001b[1;32m    561\u001b[0m \u001b[38;5;28;01mif\u001b[39;00m \u001b[38;5;28mself\u001b[39m\u001b[38;5;241m.\u001b[39mspec_augmentation \u001b[38;5;129;01mis\u001b[39;00m \u001b[38;5;129;01mnot\u001b[39;00m \u001b[38;5;28;01mNone\u001b[39;00m \u001b[38;5;129;01mand\u001b[39;00m \u001b[38;5;28mself\u001b[39m\u001b[38;5;241m.\u001b[39mtraining:\n\u001b[1;32m    562\u001b[0m     processed_signal \u001b[38;5;241m=\u001b[39m \u001b[38;5;28mself\u001b[39m\u001b[38;5;241m.\u001b[39mspec_augmentation(input_spec\u001b[38;5;241m=\u001b[39mprocessed_signal, length\u001b[38;5;241m=\u001b[39mprocessed_signal_length)\n\u001b[0;32m--> 564\u001b[0m encoder_output \u001b[38;5;241m=\u001b[39m \u001b[38;5;28;43mself\u001b[39;49m\u001b[38;5;241;43m.\u001b[39;49m\u001b[43mencoder\u001b[49m\u001b[43m(\u001b[49m\u001b[43maudio_signal\u001b[49m\u001b[38;5;241;43m=\u001b[39;49m\u001b[43mprocessed_signal\u001b[49m\u001b[43m,\u001b[49m\u001b[43m \u001b[49m\u001b[43mlength\u001b[49m\u001b[38;5;241;43m=\u001b[39;49m\u001b[43mprocessed_signal_length\u001b[49m\u001b[43m)\u001b[49m\n\u001b[1;32m    565\u001b[0m encoded \u001b[38;5;241m=\u001b[39m encoder_output[\u001b[38;5;241m0\u001b[39m]\n\u001b[1;32m    566\u001b[0m encoded_len \u001b[38;5;241m=\u001b[39m encoder_output[\u001b[38;5;241m1\u001b[39m]\n",
      "File \u001b[0;32m/external/anaconda3/envs/nemo/lib/python3.10/site-packages/torch/nn/modules/module.py:1532\u001b[0m, in \u001b[0;36mModule._wrapped_call_impl\u001b[0;34m(self, *args, **kwargs)\u001b[0m\n\u001b[1;32m   1530\u001b[0m     \u001b[38;5;28;01mreturn\u001b[39;00m \u001b[38;5;28mself\u001b[39m\u001b[38;5;241m.\u001b[39m_compiled_call_impl(\u001b[38;5;241m*\u001b[39margs, \u001b[38;5;241m*\u001b[39m\u001b[38;5;241m*\u001b[39mkwargs)  \u001b[38;5;66;03m# type: ignore[misc]\u001b[39;00m\n\u001b[1;32m   1531\u001b[0m \u001b[38;5;28;01melse\u001b[39;00m:\n\u001b[0;32m-> 1532\u001b[0m     \u001b[38;5;28;01mreturn\u001b[39;00m \u001b[38;5;28;43mself\u001b[39;49m\u001b[38;5;241;43m.\u001b[39;49m\u001b[43m_call_impl\u001b[49m\u001b[43m(\u001b[49m\u001b[38;5;241;43m*\u001b[39;49m\u001b[43margs\u001b[49m\u001b[43m,\u001b[49m\u001b[43m \u001b[49m\u001b[38;5;241;43m*\u001b[39;49m\u001b[38;5;241;43m*\u001b[39;49m\u001b[43mkwargs\u001b[49m\u001b[43m)\u001b[49m\n",
      "File \u001b[0;32m/external/anaconda3/envs/nemo/lib/python3.10/site-packages/torch/nn/modules/module.py:1541\u001b[0m, in \u001b[0;36mModule._call_impl\u001b[0;34m(self, *args, **kwargs)\u001b[0m\n\u001b[1;32m   1536\u001b[0m \u001b[38;5;66;03m# If we don't have any hooks, we want to skip the rest of the logic in\u001b[39;00m\n\u001b[1;32m   1537\u001b[0m \u001b[38;5;66;03m# this function, and just call forward.\u001b[39;00m\n\u001b[1;32m   1538\u001b[0m \u001b[38;5;28;01mif\u001b[39;00m \u001b[38;5;129;01mnot\u001b[39;00m (\u001b[38;5;28mself\u001b[39m\u001b[38;5;241m.\u001b[39m_backward_hooks \u001b[38;5;129;01mor\u001b[39;00m \u001b[38;5;28mself\u001b[39m\u001b[38;5;241m.\u001b[39m_backward_pre_hooks \u001b[38;5;129;01mor\u001b[39;00m \u001b[38;5;28mself\u001b[39m\u001b[38;5;241m.\u001b[39m_forward_hooks \u001b[38;5;129;01mor\u001b[39;00m \u001b[38;5;28mself\u001b[39m\u001b[38;5;241m.\u001b[39m_forward_pre_hooks\n\u001b[1;32m   1539\u001b[0m         \u001b[38;5;129;01mor\u001b[39;00m _global_backward_pre_hooks \u001b[38;5;129;01mor\u001b[39;00m _global_backward_hooks\n\u001b[1;32m   1540\u001b[0m         \u001b[38;5;129;01mor\u001b[39;00m _global_forward_hooks \u001b[38;5;129;01mor\u001b[39;00m _global_forward_pre_hooks):\n\u001b[0;32m-> 1541\u001b[0m     \u001b[38;5;28;01mreturn\u001b[39;00m \u001b[43mforward_call\u001b[49m\u001b[43m(\u001b[49m\u001b[38;5;241;43m*\u001b[39;49m\u001b[43margs\u001b[49m\u001b[43m,\u001b[49m\u001b[43m \u001b[49m\u001b[38;5;241;43m*\u001b[39;49m\u001b[38;5;241;43m*\u001b[39;49m\u001b[43mkwargs\u001b[49m\u001b[43m)\u001b[49m\n\u001b[1;32m   1543\u001b[0m \u001b[38;5;28;01mtry\u001b[39;00m:\n\u001b[1;32m   1544\u001b[0m     result \u001b[38;5;241m=\u001b[39m \u001b[38;5;28;01mNone\u001b[39;00m\n",
      "File \u001b[0;32m/external/anaconda3/envs/nemo/lib/python3.10/site-packages/nemo/core/classes/common.py:1098\u001b[0m, in \u001b[0;36mtypecheck.__call__\u001b[0;34m(self, wrapped, instance, args, kwargs)\u001b[0m\n\u001b[1;32m   1095\u001b[0m instance\u001b[38;5;241m.\u001b[39m_validate_input_types(input_types\u001b[38;5;241m=\u001b[39minput_types, ignore_collections\u001b[38;5;241m=\u001b[39m\u001b[38;5;28mself\u001b[39m\u001b[38;5;241m.\u001b[39mignore_collections, \u001b[38;5;241m*\u001b[39m\u001b[38;5;241m*\u001b[39mkwargs)\n\u001b[1;32m   1097\u001b[0m \u001b[38;5;66;03m# Call the method - this can be forward, or any other callable method\u001b[39;00m\n\u001b[0;32m-> 1098\u001b[0m outputs \u001b[38;5;241m=\u001b[39m \u001b[43mwrapped\u001b[49m\u001b[43m(\u001b[49m\u001b[38;5;241;43m*\u001b[39;49m\u001b[43margs\u001b[49m\u001b[43m,\u001b[49m\u001b[43m \u001b[49m\u001b[38;5;241;43m*\u001b[39;49m\u001b[38;5;241;43m*\u001b[39;49m\u001b[43mkwargs\u001b[49m\u001b[43m)\u001b[49m\n\u001b[1;32m   1100\u001b[0m instance\u001b[38;5;241m.\u001b[39m_attach_and_validate_output_types(\n\u001b[1;32m   1101\u001b[0m     output_types\u001b[38;5;241m=\u001b[39moutput_types, ignore_collections\u001b[38;5;241m=\u001b[39m\u001b[38;5;28mself\u001b[39m\u001b[38;5;241m.\u001b[39mignore_collections, out_objects\u001b[38;5;241m=\u001b[39moutputs\n\u001b[1;32m   1102\u001b[0m )\n\u001b[1;32m   1104\u001b[0m \u001b[38;5;28;01mreturn\u001b[39;00m outputs\n",
      "File \u001b[0;32m/external/anaconda3/envs/nemo/lib/python3.10/site-packages/nemo/collections/asr/modules/conformer_encoder.py:491\u001b[0m, in \u001b[0;36mConformerEncoder.forward\u001b[0;34m(self, audio_signal, length, cache_last_channel, cache_last_time, cache_last_channel_len)\u001b[0m\n\u001b[1;32m    487\u001b[0m \u001b[38;5;129m@typecheck\u001b[39m()\n\u001b[1;32m    488\u001b[0m \u001b[38;5;28;01mdef\u001b[39;00m \u001b[38;5;21mforward\u001b[39m(\n\u001b[1;32m    489\u001b[0m     \u001b[38;5;28mself\u001b[39m, audio_signal, length, cache_last_channel\u001b[38;5;241m=\u001b[39m\u001b[38;5;28;01mNone\u001b[39;00m, cache_last_time\u001b[38;5;241m=\u001b[39m\u001b[38;5;28;01mNone\u001b[39;00m, cache_last_channel_len\u001b[38;5;241m=\u001b[39m\u001b[38;5;28;01mNone\u001b[39;00m\n\u001b[1;32m    490\u001b[0m ):\n\u001b[0;32m--> 491\u001b[0m     \u001b[38;5;28;01mreturn\u001b[39;00m \u001b[38;5;28;43mself\u001b[39;49m\u001b[38;5;241;43m.\u001b[39;49m\u001b[43mforward_internal\u001b[49m\u001b[43m(\u001b[49m\n\u001b[1;32m    492\u001b[0m \u001b[43m        \u001b[49m\u001b[43maudio_signal\u001b[49m\u001b[43m,\u001b[49m\n\u001b[1;32m    493\u001b[0m \u001b[43m        \u001b[49m\u001b[43mlength\u001b[49m\u001b[43m,\u001b[49m\n\u001b[1;32m    494\u001b[0m \u001b[43m        \u001b[49m\u001b[43mcache_last_channel\u001b[49m\u001b[38;5;241;43m=\u001b[39;49m\u001b[43mcache_last_channel\u001b[49m\u001b[43m,\u001b[49m\n\u001b[1;32m    495\u001b[0m \u001b[43m        \u001b[49m\u001b[43mcache_last_time\u001b[49m\u001b[38;5;241;43m=\u001b[39;49m\u001b[43mcache_last_time\u001b[49m\u001b[43m,\u001b[49m\n\u001b[1;32m    496\u001b[0m \u001b[43m        \u001b[49m\u001b[43mcache_last_channel_len\u001b[49m\u001b[38;5;241;43m=\u001b[39;49m\u001b[43mcache_last_channel_len\u001b[49m\u001b[43m,\u001b[49m\n\u001b[1;32m    497\u001b[0m \u001b[43m    \u001b[49m\u001b[43m)\u001b[49m\n",
      "File \u001b[0;32m/external/anaconda3/envs/nemo/lib/python3.10/site-packages/nemo/collections/asr/modules/conformer_encoder.py:571\u001b[0m, in \u001b[0;36mConformerEncoder.forward_internal\u001b[0;34m(self, audio_signal, length, cache_last_channel, cache_last_time, cache_last_channel_len)\u001b[0m\n\u001b[1;32m    569\u001b[0m     cache_last_channel_cur \u001b[38;5;241m=\u001b[39m \u001b[38;5;28;01mNone\u001b[39;00m\n\u001b[1;32m    570\u001b[0m     cache_last_time_cur \u001b[38;5;241m=\u001b[39m \u001b[38;5;28;01mNone\u001b[39;00m\n\u001b[0;32m--> 571\u001b[0m audio_signal \u001b[38;5;241m=\u001b[39m \u001b[43mlayer\u001b[49m\u001b[43m(\u001b[49m\n\u001b[1;32m    572\u001b[0m \u001b[43m    \u001b[49m\u001b[43mx\u001b[49m\u001b[38;5;241;43m=\u001b[39;49m\u001b[43maudio_signal\u001b[49m\u001b[43m,\u001b[49m\n\u001b[1;32m    573\u001b[0m \u001b[43m    \u001b[49m\u001b[43matt_mask\u001b[49m\u001b[38;5;241;43m=\u001b[39;49m\u001b[43matt_mask\u001b[49m\u001b[43m,\u001b[49m\n\u001b[1;32m    574\u001b[0m \u001b[43m    \u001b[49m\u001b[43mpos_emb\u001b[49m\u001b[38;5;241;43m=\u001b[39;49m\u001b[43mpos_emb\u001b[49m\u001b[43m,\u001b[49m\n\u001b[1;32m    575\u001b[0m \u001b[43m    \u001b[49m\u001b[43mpad_mask\u001b[49m\u001b[38;5;241;43m=\u001b[39;49m\u001b[43mpad_mask\u001b[49m\u001b[43m,\u001b[49m\n\u001b[1;32m    576\u001b[0m \u001b[43m    \u001b[49m\u001b[43mcache_last_channel\u001b[49m\u001b[38;5;241;43m=\u001b[39;49m\u001b[43mcache_last_channel_cur\u001b[49m\u001b[43m,\u001b[49m\n\u001b[1;32m    577\u001b[0m \u001b[43m    \u001b[49m\u001b[43mcache_last_time\u001b[49m\u001b[38;5;241;43m=\u001b[39;49m\u001b[43mcache_last_time_cur\u001b[49m\u001b[43m,\u001b[49m\n\u001b[1;32m    578\u001b[0m \u001b[43m\u001b[49m\u001b[43m)\u001b[49m\n\u001b[1;32m    580\u001b[0m \u001b[38;5;28;01mif\u001b[39;00m cache_last_channel_cur \u001b[38;5;129;01mis\u001b[39;00m \u001b[38;5;129;01mnot\u001b[39;00m \u001b[38;5;28;01mNone\u001b[39;00m:\n\u001b[1;32m    581\u001b[0m     (audio_signal, cache_last_channel_cur, cache_last_time_cur) \u001b[38;5;241m=\u001b[39m audio_signal\n",
      "File \u001b[0;32m/external/anaconda3/envs/nemo/lib/python3.10/site-packages/torch/nn/modules/module.py:1532\u001b[0m, in \u001b[0;36mModule._wrapped_call_impl\u001b[0;34m(self, *args, **kwargs)\u001b[0m\n\u001b[1;32m   1530\u001b[0m     \u001b[38;5;28;01mreturn\u001b[39;00m \u001b[38;5;28mself\u001b[39m\u001b[38;5;241m.\u001b[39m_compiled_call_impl(\u001b[38;5;241m*\u001b[39margs, \u001b[38;5;241m*\u001b[39m\u001b[38;5;241m*\u001b[39mkwargs)  \u001b[38;5;66;03m# type: ignore[misc]\u001b[39;00m\n\u001b[1;32m   1531\u001b[0m \u001b[38;5;28;01melse\u001b[39;00m:\n\u001b[0;32m-> 1532\u001b[0m     \u001b[38;5;28;01mreturn\u001b[39;00m \u001b[38;5;28;43mself\u001b[39;49m\u001b[38;5;241;43m.\u001b[39;49m\u001b[43m_call_impl\u001b[49m\u001b[43m(\u001b[49m\u001b[38;5;241;43m*\u001b[39;49m\u001b[43margs\u001b[49m\u001b[43m,\u001b[49m\u001b[43m \u001b[49m\u001b[38;5;241;43m*\u001b[39;49m\u001b[38;5;241;43m*\u001b[39;49m\u001b[43mkwargs\u001b[49m\u001b[43m)\u001b[49m\n",
      "File \u001b[0;32m/external/anaconda3/envs/nemo/lib/python3.10/site-packages/torch/nn/modules/module.py:1541\u001b[0m, in \u001b[0;36mModule._call_impl\u001b[0;34m(self, *args, **kwargs)\u001b[0m\n\u001b[1;32m   1536\u001b[0m \u001b[38;5;66;03m# If we don't have any hooks, we want to skip the rest of the logic in\u001b[39;00m\n\u001b[1;32m   1537\u001b[0m \u001b[38;5;66;03m# this function, and just call forward.\u001b[39;00m\n\u001b[1;32m   1538\u001b[0m \u001b[38;5;28;01mif\u001b[39;00m \u001b[38;5;129;01mnot\u001b[39;00m (\u001b[38;5;28mself\u001b[39m\u001b[38;5;241m.\u001b[39m_backward_hooks \u001b[38;5;129;01mor\u001b[39;00m \u001b[38;5;28mself\u001b[39m\u001b[38;5;241m.\u001b[39m_backward_pre_hooks \u001b[38;5;129;01mor\u001b[39;00m \u001b[38;5;28mself\u001b[39m\u001b[38;5;241m.\u001b[39m_forward_hooks \u001b[38;5;129;01mor\u001b[39;00m \u001b[38;5;28mself\u001b[39m\u001b[38;5;241m.\u001b[39m_forward_pre_hooks\n\u001b[1;32m   1539\u001b[0m         \u001b[38;5;129;01mor\u001b[39;00m _global_backward_pre_hooks \u001b[38;5;129;01mor\u001b[39;00m _global_backward_hooks\n\u001b[1;32m   1540\u001b[0m         \u001b[38;5;129;01mor\u001b[39;00m _global_forward_hooks \u001b[38;5;129;01mor\u001b[39;00m _global_forward_pre_hooks):\n\u001b[0;32m-> 1541\u001b[0m     \u001b[38;5;28;01mreturn\u001b[39;00m \u001b[43mforward_call\u001b[49m\u001b[43m(\u001b[49m\u001b[38;5;241;43m*\u001b[39;49m\u001b[43margs\u001b[49m\u001b[43m,\u001b[49m\u001b[43m \u001b[49m\u001b[38;5;241;43m*\u001b[39;49m\u001b[38;5;241;43m*\u001b[39;49m\u001b[43mkwargs\u001b[49m\u001b[43m)\u001b[49m\n\u001b[1;32m   1543\u001b[0m \u001b[38;5;28;01mtry\u001b[39;00m:\n\u001b[1;32m   1544\u001b[0m     result \u001b[38;5;241m=\u001b[39m \u001b[38;5;28;01mNone\u001b[39;00m\n",
      "File \u001b[0;32m/external/anaconda3/envs/nemo/lib/python3.10/site-packages/nemo/collections/asr/parts/submodules/conformer_modules.py:187\u001b[0m, in \u001b[0;36mConformerLayer.forward\u001b[0;34m(self, x, att_mask, pos_emb, pad_mask, cache_last_channel, cache_last_time)\u001b[0m\n\u001b[1;32m    184\u001b[0m     residual \u001b[38;5;241m=\u001b[39m pack_ip[\u001b[38;5;124m'\u001b[39m\u001b[38;5;124mx\u001b[39m\u001b[38;5;124m'\u001b[39m]\n\u001b[1;32m    186\u001b[0m x \u001b[38;5;241m=\u001b[39m \u001b[38;5;28mself\u001b[39m\u001b[38;5;241m.\u001b[39mnorm_conv(residual)\n\u001b[0;32m--> 187\u001b[0m x \u001b[38;5;241m=\u001b[39m \u001b[38;5;28;43mself\u001b[39;49m\u001b[38;5;241;43m.\u001b[39;49m\u001b[43mconv\u001b[49m\u001b[43m(\u001b[49m\u001b[43mx\u001b[49m\u001b[43m,\u001b[49m\u001b[43m \u001b[49m\u001b[43mpad_mask\u001b[49m\u001b[38;5;241;43m=\u001b[39;49m\u001b[43mpad_mask\u001b[49m\u001b[43m,\u001b[49m\u001b[43m \u001b[49m\u001b[43mcache\u001b[49m\u001b[38;5;241;43m=\u001b[39;49m\u001b[43mcache_last_time\u001b[49m\u001b[43m)\u001b[49m\n\u001b[1;32m    188\u001b[0m \u001b[38;5;28;01mif\u001b[39;00m cache_last_time \u001b[38;5;129;01mis\u001b[39;00m \u001b[38;5;129;01mnot\u001b[39;00m \u001b[38;5;28;01mNone\u001b[39;00m:\n\u001b[1;32m    189\u001b[0m     (x, cache_last_time) \u001b[38;5;241m=\u001b[39m x\n",
      "File \u001b[0;32m/external/anaconda3/envs/nemo/lib/python3.10/site-packages/torch/nn/modules/module.py:1532\u001b[0m, in \u001b[0;36mModule._wrapped_call_impl\u001b[0;34m(self, *args, **kwargs)\u001b[0m\n\u001b[1;32m   1530\u001b[0m     \u001b[38;5;28;01mreturn\u001b[39;00m \u001b[38;5;28mself\u001b[39m\u001b[38;5;241m.\u001b[39m_compiled_call_impl(\u001b[38;5;241m*\u001b[39margs, \u001b[38;5;241m*\u001b[39m\u001b[38;5;241m*\u001b[39mkwargs)  \u001b[38;5;66;03m# type: ignore[misc]\u001b[39;00m\n\u001b[1;32m   1531\u001b[0m \u001b[38;5;28;01melse\u001b[39;00m:\n\u001b[0;32m-> 1532\u001b[0m     \u001b[38;5;28;01mreturn\u001b[39;00m \u001b[38;5;28;43mself\u001b[39;49m\u001b[38;5;241;43m.\u001b[39;49m\u001b[43m_call_impl\u001b[49m\u001b[43m(\u001b[49m\u001b[38;5;241;43m*\u001b[39;49m\u001b[43margs\u001b[49m\u001b[43m,\u001b[49m\u001b[43m \u001b[49m\u001b[38;5;241;43m*\u001b[39;49m\u001b[38;5;241;43m*\u001b[39;49m\u001b[43mkwargs\u001b[49m\u001b[43m)\u001b[49m\n",
      "File \u001b[0;32m/external/anaconda3/envs/nemo/lib/python3.10/site-packages/torch/nn/modules/module.py:1541\u001b[0m, in \u001b[0;36mModule._call_impl\u001b[0;34m(self, *args, **kwargs)\u001b[0m\n\u001b[1;32m   1536\u001b[0m \u001b[38;5;66;03m# If we don't have any hooks, we want to skip the rest of the logic in\u001b[39;00m\n\u001b[1;32m   1537\u001b[0m \u001b[38;5;66;03m# this function, and just call forward.\u001b[39;00m\n\u001b[1;32m   1538\u001b[0m \u001b[38;5;28;01mif\u001b[39;00m \u001b[38;5;129;01mnot\u001b[39;00m (\u001b[38;5;28mself\u001b[39m\u001b[38;5;241m.\u001b[39m_backward_hooks \u001b[38;5;129;01mor\u001b[39;00m \u001b[38;5;28mself\u001b[39m\u001b[38;5;241m.\u001b[39m_backward_pre_hooks \u001b[38;5;129;01mor\u001b[39;00m \u001b[38;5;28mself\u001b[39m\u001b[38;5;241m.\u001b[39m_forward_hooks \u001b[38;5;129;01mor\u001b[39;00m \u001b[38;5;28mself\u001b[39m\u001b[38;5;241m.\u001b[39m_forward_pre_hooks\n\u001b[1;32m   1539\u001b[0m         \u001b[38;5;129;01mor\u001b[39;00m _global_backward_pre_hooks \u001b[38;5;129;01mor\u001b[39;00m _global_backward_hooks\n\u001b[1;32m   1540\u001b[0m         \u001b[38;5;129;01mor\u001b[39;00m _global_forward_hooks \u001b[38;5;129;01mor\u001b[39;00m _global_forward_pre_hooks):\n\u001b[0;32m-> 1541\u001b[0m     \u001b[38;5;28;01mreturn\u001b[39;00m \u001b[43mforward_call\u001b[49m\u001b[43m(\u001b[49m\u001b[38;5;241;43m*\u001b[39;49m\u001b[43margs\u001b[49m\u001b[43m,\u001b[49m\u001b[43m \u001b[49m\u001b[38;5;241;43m*\u001b[39;49m\u001b[38;5;241;43m*\u001b[39;49m\u001b[43mkwargs\u001b[49m\u001b[43m)\u001b[49m\n\u001b[1;32m   1543\u001b[0m \u001b[38;5;28;01mtry\u001b[39;00m:\n\u001b[1;32m   1544\u001b[0m     result \u001b[38;5;241m=\u001b[39m \u001b[38;5;28;01mNone\u001b[39;00m\n",
      "File \u001b[0;32m/external/anaconda3/envs/nemo/lib/python3.10/site-packages/nemo/collections/asr/parts/submodules/conformer_modules.py:351\u001b[0m, in \u001b[0;36mConformerConvolution.forward\u001b[0;34m(self, x, pad_mask, cache)\u001b[0m\n\u001b[1;32m    348\u001b[0m \u001b[38;5;28;01mif\u001b[39;00m pad_mask \u001b[38;5;129;01mis\u001b[39;00m \u001b[38;5;129;01mnot\u001b[39;00m \u001b[38;5;28;01mNone\u001b[39;00m:\n\u001b[1;32m    349\u001b[0m     x \u001b[38;5;241m=\u001b[39m x\u001b[38;5;241m.\u001b[39mfloat()\u001b[38;5;241m.\u001b[39mmasked_fill(pad_mask\u001b[38;5;241m.\u001b[39munsqueeze(\u001b[38;5;241m1\u001b[39m), \u001b[38;5;241m0.0\u001b[39m)\n\u001b[0;32m--> 351\u001b[0m x \u001b[38;5;241m=\u001b[39m \u001b[38;5;28;43mself\u001b[39;49m\u001b[38;5;241;43m.\u001b[39;49m\u001b[43mdepthwise_conv\u001b[49m(x, cache\u001b[38;5;241m=\u001b[39mcache)\n\u001b[1;32m    352\u001b[0m \u001b[38;5;28;01mif\u001b[39;00m cache \u001b[38;5;129;01mis\u001b[39;00m \u001b[38;5;129;01mnot\u001b[39;00m \u001b[38;5;28;01mNone\u001b[39;00m:\n\u001b[1;32m    353\u001b[0m     x, cache \u001b[38;5;241m=\u001b[39m x\n",
      "File \u001b[0;32m/external/anaconda3/envs/nemo/lib/python3.10/site-packages/torch/nn/modules/module.py:1699\u001b[0m, in \u001b[0;36mModule.__getattr__\u001b[0;34m(self, name)\u001b[0m\n\u001b[1;32m   1697\u001b[0m \u001b[38;5;28;01mif\u001b[39;00m \u001b[38;5;124m'\u001b[39m\u001b[38;5;124m_parameters\u001b[39m\u001b[38;5;124m'\u001b[39m \u001b[38;5;129;01min\u001b[39;00m \u001b[38;5;28mself\u001b[39m\u001b[38;5;241m.\u001b[39m\u001b[38;5;18m__dict__\u001b[39m:\n\u001b[1;32m   1698\u001b[0m     _parameters \u001b[38;5;241m=\u001b[39m \u001b[38;5;28mself\u001b[39m\u001b[38;5;241m.\u001b[39m\u001b[38;5;18m__dict__\u001b[39m[\u001b[38;5;124m'\u001b[39m\u001b[38;5;124m_parameters\u001b[39m\u001b[38;5;124m'\u001b[39m]\n\u001b[0;32m-> 1699\u001b[0m     \u001b[38;5;28;01mif\u001b[39;00m name \u001b[38;5;129;01min\u001b[39;00m _parameters:\n\u001b[1;32m   1700\u001b[0m         \u001b[38;5;28;01mreturn\u001b[39;00m _parameters[name]\n\u001b[1;32m   1701\u001b[0m \u001b[38;5;28;01mif\u001b[39;00m \u001b[38;5;124m'\u001b[39m\u001b[38;5;124m_buffers\u001b[39m\u001b[38;5;124m'\u001b[39m \u001b[38;5;129;01min\u001b[39;00m \u001b[38;5;28mself\u001b[39m\u001b[38;5;241m.\u001b[39m\u001b[38;5;18m__dict__\u001b[39m:\n",
      "\u001b[0;31mKeyboardInterrupt\u001b[0m: "
     ]
    }
   ],
   "source": [
    "# WER calculation\n",
    "from nemo.collections.asr.metrics.wer import word_error_rate\n",
    "# Collect all buffers from the audio file\n",
    "sampbuffer = np.zeros([buffer_len], dtype=np.float32)\n",
    "\n",
    "chunk_reader = AudioChunkIterator(samples, chunk_len_in_secs, sample_rate)\n",
    "buffer_list = []\n",
    "for chunk in chunk_reader:\n",
    "    sampbuffer[:-chunk_len] = sampbuffer[chunk_len:]\n",
    "    sampbuffer[-chunk_len:] = chunk\n",
    "    buffer_list.append(np.array(sampbuffer))\n",
    "\n",
    "asr_decoder = ChunkBufferDecoder(model, stride=stride, chunk_len_in_secs=chunk_len_in_secs, buffer_len_in_secs=buffer_len_in_secs )\n",
    "transcription = asr_decoder.transcribe_buffers(buffer_list, plot=False)\n",
    "wer = word_error_rate(hypotheses=[transcription], references=[ref_transcript])\n",
    "\n",
    "print(f\"WER: {round(wer*100,2)}%\")"
   ]
  }
 ],
 "metadata": {
  "accelerator": "GPU",
  "colab": {
   "collapsed_sections": [],
   "name": "ASR_with_NeMo.ipynb",
   "provenance": [],
   "toc_visible": true
  },
  "kernelspec": {
   "display_name": "Python 3 (ipykernel)",
   "language": "python",
   "name": "python3"
  },
  "language_info": {
   "codemirror_mode": {
    "name": "ipython",
    "version": 3
   },
   "file_extension": ".py",
   "mimetype": "text/x-python",
   "name": "python",
   "nbconvert_exporter": "python",
   "pygments_lexer": "ipython3",
   "version": "3.10.12"
  },
  "pycharm": {
   "stem_cell": {
    "cell_type": "raw",
    "metadata": {
     "collapsed": false
    },
    "source": []
   }
  }
 },
 "nbformat": 4,
 "nbformat_minor": 4
}
