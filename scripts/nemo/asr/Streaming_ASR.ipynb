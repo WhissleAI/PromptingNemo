{
 "cells": [
  {
   "cell_type": "markdown",
   "metadata": {},
   "source": [
    "# Streaming ASR\n",
    "In this tutorial, we will look at one way to use one of NeMo's pretrained Conformer-CTC models for streaming inference. We will first look at some use cases where we may need streaming inference and then we will work towards developing a method for transcribing a long audio file using streaming."
   ]
  },
  {
   "cell_type": "markdown",
   "metadata": {
    "id": "v1Jk9etFlRzf"
   },
   "source": [
    "# Why Stream?\n",
    "Streaming inference may be needed in one of the following scenarios:\n",
    "* Real-time or close to real-time inference for live transcriptions\n",
    "* Offline transcriptions of very long audio\n",
    "\n",
    "In this tutorial, we will mainly focus on streaming for handling long form audio and close to real-time inference with CTC based models. For training ASR models we usually use short segments of audio (<20s) that may be smaller chunks of a long audio that is aligned with the transcriptions and segmented into smaller chunks (see [tools/](https://github.com/NVIDIA/NeMo/tree/main/tools) for some great tools to do this). For running inference on long audio files we are restricted by the available GPU memory that dictates the maximum length of audio that can be transcribed in one inference call. We will take a look at one of the ways to overcome this restriction using NeMo's Conformer-CTC ASR model."
   ]
  },
  {
   "cell_type": "markdown",
   "metadata": {},
   "source": [
    "# Conformer-CTC\n",
    "Conformer-CTC models distributed with NeMo use a combination of self-attention and convolution modules to achieve the best of the two approaches, the self-attention layers can learn the global interaction while the convolutions efficiently capture the local correlations. Use of self-attention layers comes with a cost of increased memory usage at a quadratic rate with the sequence length. That means that transcribing long audio files with Conformer-CTC models needs streaming inference to break up the audio into smaller chunks. We will develop one method to do such inference through the course of this tutorial."
   ]
  },
  {
   "cell_type": "markdown",
   "metadata": {},
   "source": [
    "# Data\n",
    "To demonstrate transcribing a long audio file we will use utterances from the dev-clean set of the [mini Librispeech corpus](https://www.openslr.org/31/).  "
   ]
  },
  {
   "cell_type": "markdown",
   "metadata": {},
   "source": [
    "Let's create a long audio that is about 15 minutes long by concatenating audio from dev-clean  and also create the corresponding concatenated transcript."
   ]
  },
  {
   "cell_type": "code",
   "execution_count": 22,
   "metadata": {},
   "outputs": [
    {
     "name": "stdout",
     "output_type": "stream",
     "text": [
      "Requirement already satisfied: moviepy in /external/anaconda3/envs/nemo/lib/python3.10/site-packages (1.0.3)\n",
      "Requirement already satisfied: decorator<5.0,>=4.0.2 in /external/anaconda3/envs/nemo/lib/python3.10/site-packages (from moviepy) (4.4.2)\n",
      "Requirement already satisfied: tqdm<5.0,>=4.11.2 in /external/anaconda3/envs/nemo/lib/python3.10/site-packages (from moviepy) (4.66.4)\n",
      "Requirement already satisfied: requests<3.0,>=2.8.1 in /external/anaconda3/envs/nemo/lib/python3.10/site-packages (from moviepy) (2.32.3)\n",
      "Requirement already satisfied: proglog<=1.0.0 in /external/anaconda3/envs/nemo/lib/python3.10/site-packages (from moviepy) (0.1.10)\n",
      "Requirement already satisfied: numpy>=1.17.3 in /external/anaconda3/envs/nemo/lib/python3.10/site-packages (from moviepy) (1.22.0)\n",
      "Requirement already satisfied: imageio<3.0,>=2.5 in /external/anaconda3/envs/nemo/lib/python3.10/site-packages (from moviepy) (2.34.2)\n",
      "Requirement already satisfied: imageio-ffmpeg>=0.2.0 in /external/anaconda3/envs/nemo/lib/python3.10/site-packages (from moviepy) (0.5.1)\n",
      "Requirement already satisfied: pillow>=8.3.2 in /external/anaconda3/envs/nemo/lib/python3.10/site-packages (from imageio<3.0,>=2.5->moviepy) (10.4.0)\n",
      "Requirement already satisfied: setuptools in /external/anaconda3/envs/nemo/lib/python3.10/site-packages (from imageio-ffmpeg>=0.2.0->moviepy) (69.5.1)\n",
      "Requirement already satisfied: charset-normalizer<4,>=2 in /external/anaconda3/envs/nemo/lib/python3.10/site-packages (from requests<3.0,>=2.8.1->moviepy) (3.3.2)\n",
      "Requirement already satisfied: idna<4,>=2.5 in /external/anaconda3/envs/nemo/lib/python3.10/site-packages (from requests<3.0,>=2.8.1->moviepy) (3.7)\n",
      "Requirement already satisfied: urllib3<3,>=1.21.1 in /external/anaconda3/envs/nemo/lib/python3.10/site-packages (from requests<3.0,>=2.8.1->moviepy) (2.2.2)\n",
      "Requirement already satisfied: certifi>=2017.4.17 in /external/anaconda3/envs/nemo/lib/python3.10/site-packages (from requests<3.0,>=2.8.1->moviepy) (2024.7.4)\n"
     ]
    }
   ],
   "source": [
    "!pip install moviepy\n"
   ]
  },
  {
   "cell_type": "code",
   "execution_count": 1,
   "metadata": {},
   "outputs": [],
   "source": [
    "# new_duration, ref_transcript = concat_audio(manifest, 15*60)\n",
    "\n",
    "concat_audio_path = \"/external2/datasets/soccer/final.wav\"\n",
    "\n",
    "# !ffmpeg -t {new_duration} -safe 0 -f concat -i concat_file.txt -c copy -t {new_duration} {concat_audio_path} -y\n",
    "# print(\"Finished concatenating audio file!\")"
   ]
  },
  {
   "cell_type": "markdown",
   "metadata": {},
   "source": [
    "# Streaming with CTC based models\n",
    "Now let's try to transcribe the long audio file created above using a conformer-large model."
   ]
  },
  {
   "cell_type": "code",
   "execution_count": 2,
   "metadata": {},
   "outputs": [],
   "source": [
    "import torch\n",
    "import nemo.collections.asr as nemo_asr\n",
    "import contextlib\n",
    "import gc"
   ]
  },
  {
   "cell_type": "code",
   "execution_count": 3,
   "metadata": {},
   "outputs": [],
   "source": [
    "device = 'cpu'"
   ]
  },
  {
   "cell_type": "markdown",
   "metadata": {},
   "source": [
    "We are mainly concerned about decoding on the GPU in this tutorial. CPU decoding may be able to handle longer files but would also not be as fast as GPU decoding. Let's check if we can run transcribe() on the long audio file that we created above."
   ]
  },
  {
   "cell_type": "code",
   "execution_count": 57,
   "metadata": {},
   "outputs": [
    {
     "name": "stdout",
     "output_type": "stream",
     "text": [
      "[NeMo I 2024-07-20 08:42:53 mixins:172] Tokenizer SentencePieceTokenizer initialized with 1600 tokens\n"
     ]
    },
    {
     "name": "stderr",
     "output_type": "stream",
     "text": [
      "[NeMo W 2024-07-20 08:42:53 modelPT:165] If you intend to do training or fine-tuning, please call the ModelPT.setup_training_data() method and provide a valid configuration file to setup the train data loader.\n",
      "    Train config : \n",
      "    manifest_filepath: /home/ksingla/workspace/PromptingNemo/data_v2/synthetic/processed/train.json\n",
      "    sample_rate: 16000\n",
      "    batch_size: 12\n",
      "    shuffle: true\n",
      "    num_workers: 8\n",
      "    pin_memory: true\n",
      "    use_start_end_token: false\n",
      "    trim_silence: false\n",
      "    max_duration: 20.0\n",
      "    min_duration: 0.1\n",
      "    shuffle_n: 2048\n",
      "    is_tarred: false\n",
      "    tarred_audio_filepaths: null\n",
      "    \n",
      "[NeMo W 2024-07-20 08:42:53 modelPT:172] If you intend to do validation, please call the ModelPT.setup_validation_data() or ModelPT.setup_multiple_validation_data() method and provide a valid configuration file to setup the validation data loader(s). \n",
      "    Validation config : \n",
      "    manifest_filepath: /home/ksingla/workspace/PromptingNemo/data_v2/synthetic/processed/valid.json\n",
      "    sample_rate: 16000\n",
      "    batch_size: 12\n",
      "    shuffle: false\n",
      "    num_workers: 8\n",
      "    pin_memory: true\n",
      "    use_start_end_token: false\n",
      "    is_tarred: false\n",
      "    tarred_audio_filepaths: na\n",
      "    \n",
      "[NeMo W 2024-07-20 08:42:53 modelPT:178] Please call the ModelPT.setup_test_data() or ModelPT.setup_multiple_test_data() method and provide a valid configuration file to setup the test data loader(s).\n",
      "    Test config : \n",
      "    manifest_filepath: /home/ksingla/workspace/PromptingNemo/data_v2/synthetic/processed/valid.json\n",
      "    sample_rate: 16000\n",
      "    batch_size: 12\n",
      "    shuffle: false\n",
      "    num_workers: 8\n",
      "    pin_memory: true\n",
      "    use_start_end_token: false\n",
      "    is_tarred: false\n",
      "    tarred_audio_filepaths: na\n",
      "    \n"
     ]
    },
    {
     "name": "stdout",
     "output_type": "stream",
     "text": [
      "[NeMo I 2024-07-20 08:42:53 features:289] PADDING: 0\n",
      "[NeMo I 2024-07-20 08:42:56 save_restore_connector:249] Model EncDecCTCModelBPE was successfully restored from /external2/karan_exp/experiments/finetune-multidomain-alllang-100k-ctc/2024-07-18_00-21-12/checkpoints/finetune-multidomain-alllang-100k-ctc.nemo.\n"
     ]
    }
   ],
   "source": [
    "# Clear up memory\n",
    "torch.cuda.empty_cache()\n",
    "gc.collect()\n",
    "map_location = torch.device('cpu')\n",
    "\n",
    "model = nemo_asr.models.ASRModel.restore_from(\"/external2/karan_exp/experiments/finetune-multidomain-alllang-100k-ctc/2024-07-18_00-21-12/checkpoints/finetune-multidomain-alllang-100k-ctc.nemo\", map_location=map_location)\n",
    "# device = 'cpu'  # You can transcribe even longer samples on the CPU, though it will take much longer !\n",
    "model = model.to(device)"
   ]
  },
  {
   "cell_type": "markdown",
   "metadata": {},
   "source": [
    "The call to transcribe() below should fail with a \"CUDA out of memory\" error when run on a GPU with 32 GB memory."
   ]
  },
  {
   "cell_type": "markdown",
   "metadata": {},
   "source": [
    "# Buffer mechanism for streaming long audio files\n",
    "One way to transcribe long audio with a Conformer-CTC model would be to split the audio into consecutive smaller chunks and running inference on each chunk. Care should be taken to have enough context for audio at either edges for accurate transcription. Let's introduce some terminology here to help us navigate the rest of this tutorial. \n",
    "\n",
    "* Buffer size is the length of audio on which inference is run\n",
    "* Chunk size is the length of new audio that is added to the buffer.\n",
    "\n",
    "An audio buffer is made up of a chunk of audio with some padded audio from previous chunk. In order to make the best predictions with enough context for the beginning and end portions of the buffer, we only collect tokens for the middle portion of the buffer of length equal to the size of each chunk.  \n",
    "\n",
    "Let's suppose that the maximum length of audio that can be transcribed with conformer-large model is 20s, then we can use 20s as the buffer size and use 15s (for example) as the chunk size, so one hour of audio is broken into 240 chunks of 15s each. Let's take a look at a few audio buffers that may be created for this audio."
   ]
  },
  {
   "cell_type": "code",
   "execution_count": 58,
   "metadata": {},
   "outputs": [],
   "source": [
    "# A simple iterator class to return successive chunks of samples\n",
    "class AudioChunkIterator():\n",
    "    def __init__(self, samples, frame_len, sample_rate):\n",
    "        self._samples = samples\n",
    "        self._chunk_len = chunk_len_in_secs*sample_rate\n",
    "        self._start = 0\n",
    "        self.output=True\n",
    "   \n",
    "    def __iter__(self):\n",
    "        return self\n",
    "    \n",
    "    def __next__(self):\n",
    "        if not self.output:\n",
    "            raise StopIteration\n",
    "        last = int(self._start + self._chunk_len)\n",
    "        if last <= len(self._samples):\n",
    "            chunk = self._samples[self._start: last]\n",
    "            self._start = last\n",
    "        else:\n",
    "            chunk = np.zeros([int(self._chunk_len)], dtype='float32')\n",
    "            samp_len = len(self._samples) - self._start\n",
    "            chunk[0:samp_len] = self._samples[self._start:len(self._samples)]\n",
    "            self.output = False\n",
    "   \n",
    "        return chunk"
   ]
  },
  {
   "cell_type": "code",
   "execution_count": 59,
   "metadata": {},
   "outputs": [],
   "source": [
    "# a helper function for extracting samples as a numpy array from the audio file\n",
    "import soundfile as sf\n",
    "def get_samples(audio_file, target_sr=16000):\n",
    "    with sf.SoundFile(audio_file, 'r') as f:\n",
    "        sample_rate = f.samplerate\n",
    "        samples = f.read()\n",
    "        if sample_rate != target_sr:\n",
    "            samples = librosa.core.resample(samples, orig_sr=sample_rate, target_sr=target_sr)\n",
    "        samples = samples.transpose()\n",
    "        return samples\n"
   ]
  },
  {
   "cell_type": "markdown",
   "metadata": {},
   "source": [
    "Let's take a look at each chunk of speech that is used for decoding."
   ]
  },
  {
   "cell_type": "code",
   "execution_count": 60,
   "metadata": {},
   "outputs": [],
   "source": [
    "import matplotlib.pyplot as plt\n",
    "samples = get_samples(concat_audio_path)\n",
    "sample_rate  = model.preprocessor._cfg['sample_rate'] \n",
    "chunk_len_in_secs = 1            \n",
    "chunk_reader = AudioChunkIterator(samples, chunk_len_in_secs, sample_rate)\n",
    "count = 0\n",
    "for chunk in chunk_reader:\n",
    "    count +=1\n",
    "    #plt.plot(chunk)\n",
    "    #plt.show()\n",
    "    if count >= 30:\n",
    "        break\n"
   ]
  },
  {
   "cell_type": "markdown",
   "metadata": {},
   "source": [
    "Now, let's plot the actual buffers at each stage after a new chunk is added to the buffer. Audio buffer can be thought of as a fixed size queue with each incoming chunk added at the end of the buffer and the oldest samples removed from the beginning."
   ]
  },
  {
   "cell_type": "code",
   "execution_count": 61,
   "metadata": {},
   "outputs": [],
   "source": [
    "import numpy as np\n",
    "context_len_in_secs = 1\n",
    "\n",
    "buffer_len_in_secs = chunk_len_in_secs + 2* context_len_in_secs\n",
    "\n",
    "buffer_len = sample_rate*buffer_len_in_secs\n",
    "sampbuffer = np.zeros([buffer_len], dtype=np.float32)\n",
    "\n",
    "chunk_reader = AudioChunkIterator(samples, chunk_len_in_secs, sample_rate)\n",
    "chunk_len = sample_rate*chunk_len_in_secs\n",
    "count = 0\n",
    "for chunk in chunk_reader:\n",
    "    count +=1\n",
    "    sampbuffer[:-chunk_len] = sampbuffer[chunk_len:]\n",
    "    sampbuffer[-chunk_len:] = chunk\n",
    "    #plt.plot(sampbuffer)\n",
    "    #plt.show()\n",
    "    if count >= 30:\n",
    "        break"
   ]
  },
  {
   "cell_type": "markdown",
   "metadata": {},
   "source": [
    "Now that we have a method to split the long audio into smaller chunks, we can now work on transcribing the individual buffers and merging the outputs to get the transcription of the whole audio.\n",
    "First, we implement some helper functions to help load the buffers into the data layer."
   ]
  },
  {
   "cell_type": "code",
   "execution_count": 62,
   "metadata": {},
   "outputs": [],
   "source": [
    "from nemo.core.classes import IterableDataset\n",
    "\n",
    "def speech_collate_fn(batch):\n",
    "    \"\"\"collate batch of audio sig, audio len\n",
    "    Args:\n",
    "        batch (FloatTensor, LongTensor):  A tuple of tuples of signal, signal lengths.\n",
    "        This collate func assumes the signals are 1d torch tensors (i.e. mono audio).\n",
    "    \"\"\"\n",
    "\n",
    "    _, audio_lengths = zip(*batch)\n",
    "\n",
    "    max_audio_len = 0\n",
    "    has_audio = audio_lengths[0] is not None\n",
    "    if has_audio:\n",
    "        max_audio_len = max(audio_lengths).item()\n",
    "   \n",
    "    \n",
    "    audio_signal= []\n",
    "    for sig, sig_len in batch:\n",
    "        if has_audio:\n",
    "            sig_len = sig_len.item()\n",
    "            if sig_len < max_audio_len:\n",
    "                pad = (0, max_audio_len - sig_len)\n",
    "                sig = torch.nn.functional.pad(sig, pad)\n",
    "            audio_signal.append(sig)\n",
    "        \n",
    "    if has_audio:\n",
    "        audio_signal = torch.stack(audio_signal)\n",
    "        audio_lengths = torch.stack(audio_lengths)\n",
    "    else:\n",
    "        audio_signal, audio_lengths = None, None\n",
    "\n",
    "    return audio_signal, audio_lengths\n",
    "\n",
    "# simple data layer to pass audio signal\n",
    "class AudioBuffersDataLayer(IterableDataset):\n",
    "    \n",
    "\n",
    "    def __init__(self):\n",
    "        super().__init__()\n",
    "\n",
    "        \n",
    "    def __iter__(self):\n",
    "        return self\n",
    "    \n",
    "    def __next__(self):\n",
    "        if self._buf_count == len(self.signal) :\n",
    "            raise StopIteration\n",
    "        self._buf_count +=1\n",
    "        return torch.as_tensor(self.signal[self._buf_count-1], dtype=torch.float32), \\\n",
    "               torch.as_tensor(self.signal_shape[0], dtype=torch.int64)\n",
    "        \n",
    "    def set_signal(self, signals):\n",
    "        self.signal = signals\n",
    "        self.signal_shape = self.signal[0].shape\n",
    "        self._buf_count = 0\n",
    "\n",
    "    def __len__(self):\n",
    "        return 1\n",
    "    "
   ]
  },
  {
   "cell_type": "markdown",
   "metadata": {},
   "source": [
    "Next we implement a class that implements transcribing audio buffers and merging the tokens corresponding to a chunk of audio within each buffer. \n",
    "\n",
    "For each buffer, we pick tokens corresponding to one chunk length of audio. The chunk within each buffer is chosen such that there is equal left and right context available to the audio within the chunk.\n",
    "\n",
    "For example, if the chunk size is 1s and buffer size is 3s, we collect tokens corresponding to audio starting from 1s to 2s within each buffer. Conformer-CTC models have a model stride of 4, i.e., a token is produced for every 4 feature vectors in the time domain. MelSpectrogram features are generated once every 10 ms, so a token is produced for every 40 ms of audio.\n",
    "\n",
    "**Note:** The inherent assumption here is that the output tokens from the model are well aligned with corresponding audio segments. This may not always be true for models trained with CTC loss, so this method of streaming inference may not always work with CTC based models. "
   ]
  },
  {
   "cell_type": "code",
   "execution_count": 63,
   "metadata": {},
   "outputs": [],
   "source": [
    "import torch\n",
    "import math\n",
    "import matplotlib.pyplot as plt\n",
    "import cv2\n",
    "import numpy as np\n",
    "from torch.utils.data import DataLoader\n",
    "\n",
    "\n",
    "class ChunkBufferDecoder:\n",
    "\n",
    "    def __init__(self, asr_model, stride, chunk_len_in_secs=1, buffer_len_in_secs=3):\n",
    "        self.asr_model = asr_model\n",
    "        self.asr_model.eval()\n",
    "        self.data_layer = AudioBuffersDataLayer()\n",
    "        self.data_loader = DataLoader(self.data_layer, batch_size=1, collate_fn=speech_collate_fn)\n",
    "        self.buffers = []\n",
    "        self.all_preds = []\n",
    "        self.chunk_len = chunk_len_in_secs\n",
    "        self.buffer_len = buffer_len_in_secs\n",
    "        assert(chunk_len_in_secs <= buffer_len_in_secs)\n",
    "        \n",
    "        feature_stride = asr_model._cfg.preprocessor['window_stride']\n",
    "        self.model_stride_in_secs = feature_stride * stride\n",
    "        self.n_tokens_per_chunk = math.ceil(self.chunk_len / self.model_stride_in_secs)\n",
    "        self.blank_id = len(asr_model.decoder.vocabulary)\n",
    "        self.plot = False\n",
    "        self.frames = []\n",
    "\n",
    "    @torch.no_grad()\n",
    "    def transcribe_buffers(self, buffers, merge=True, plot=False):\n",
    "        self.plot = plot\n",
    "        self.buffers = buffers\n",
    "        self.data_layer.set_signal(buffers[:])\n",
    "        self._get_batch_preds()\n",
    "        result = self.decode_final(merge)\n",
    "        if plot:\n",
    "            self.save_video('output_video.mp4')\n",
    "        return result\n",
    "    \n",
    "    def _get_batch_preds(self):\n",
    "        device = self.asr_model.device\n",
    "        for batch in iter(self.data_loader):\n",
    "            audio_signal, audio_signal_len = batch\n",
    "            audio_signal, audio_signal_len = audio_signal.to(device), audio_signal_len.to(device)\n",
    "            log_probs, encoded_len, predictions = self.asr_model(input_signal=audio_signal, input_signal_length=audio_signal_len)\n",
    "            preds = torch.unbind(predictions)\n",
    "            for pred in preds:\n",
    "                self.all_preds.append(pred.cpu().numpy())\n",
    "    \n",
    "    def decode_final(self, merge=True, extra=0):\n",
    "        self.unmerged = []\n",
    "        self.toks_unmerged = []\n",
    "        delay = math.ceil((self.chunk_len + (self.buffer_len - self.chunk_len) / 2) / self.model_stride_in_secs)\n",
    "        decoded_frames = []\n",
    "        all_toks = []\n",
    "        for pred in self.all_preds:\n",
    "            ids, toks = self._greedy_decoder(pred, self.asr_model.tokenizer)\n",
    "            decoded_frames.append(ids)\n",
    "            all_toks.append(toks)\n",
    "\n",
    "        for decoded in decoded_frames:\n",
    "            self.unmerged += decoded[len(decoded) - 1 - delay:len(decoded) - 1 - delay + self.n_tokens_per_chunk]\n",
    "        if self.plot:\n",
    "            for i, tok in enumerate(all_toks):\n",
    "                self.plot_and_save_frame(self.buffers[i], tok[len(tok) - 1 - delay:len(tok) - 1 - delay + self.n_tokens_per_chunk])\n",
    "            print(\"\\nTokens collected from successive buffers before CTC merge\")\n",
    "            print(self.toks_unmerged)\n",
    "        \n",
    "        if not merge:\n",
    "            return self.unmerged\n",
    "        return self.greedy_merge(self.unmerged)\n",
    "    \n",
    "    def _greedy_decoder(self, preds, tokenizer):\n",
    "        s = []\n",
    "        ids = []\n",
    "        for i in range(preds.shape[0]):\n",
    "            if preds[i] == self.blank_id:\n",
    "                s.append(\"_\")\n",
    "            else:\n",
    "                pred = preds[i]\n",
    "                s.append(tokenizer.ids_to_tokens([pred.item()])[0])\n",
    "            ids.append(preds[i])\n",
    "        return ids, s\n",
    "    \n",
    "    def greedy_merge(self, preds):\n",
    "        decoded_prediction = []\n",
    "        previous = self.blank_id\n",
    "        for p in preds:\n",
    "            if (p != previous or previous == self.blank_id) and p != self.blank_id:\n",
    "                decoded_prediction.append(p.item())\n",
    "            previous = p\n",
    "        hypothesis = self.asr_model.tokenizer.ids_to_text(decoded_prediction)\n",
    "        return hypothesis\n",
    "\n",
    "    def plot_and_save_frame(self, buffer, tokens):\n",
    "        plt.figure()\n",
    "        plt.plot(buffer)\n",
    "        plt.title(' '.join(tokens))\n",
    "        plt.xlabel('Time')\n",
    "        plt.ylabel('Amplitude')\n",
    "        \n",
    "        plt.savefig('frame.png')\n",
    "        plt.close()\n",
    "        \n",
    "        frame = cv2.imread('frame.png')\n",
    "        self.frames.append(frame)\n",
    "        self.toks_unmerged += tokens\n",
    "    \n",
    "    def save_video(self, filename, fps=1):\n",
    "        height, width, _ = self.frames[0].shape\n",
    "        fourcc = cv2.VideoWriter_fourcc(*'mp4v')\n",
    "        video = cv2.VideoWriter(filename, fourcc, fps, (width, height))\n",
    "        for frame in self.frames:\n",
    "            video.write(frame)\n",
    "        video.release()\n"
   ]
  },
  {
   "cell_type": "markdown",
   "metadata": {},
   "source": [
    "To see how this chunk based decoder comes together, let's call the decoder with a few buffers we create from our long audio file.\n",
    "Some interesting experiments to try would be to see how changing sizes of the chunk and the context affects transcription accuracy.  "
   ]
  },
  {
   "cell_type": "code",
   "execution_count": 64,
   "metadata": {},
   "outputs": [],
   "source": [
    "\n",
    "chunk_len_in_secs = 4\n",
    "context_len_in_secs = 2\n",
    "\n",
    "buffer_len_in_secs = chunk_len_in_secs + 2* context_len_in_secs\n",
    "\n",
    "n_buffers = 30\n",
    "\n",
    "buffer_len = sample_rate*buffer_len_in_secs\n",
    "sampbuffer = np.zeros([buffer_len], dtype=np.float32)\n",
    "\n",
    "chunk_reader = AudioChunkIterator(samples, chunk_len_in_secs, sample_rate)\n",
    "chunk_len = sample_rate*chunk_len_in_secs\n",
    "count = 0\n",
    "buffer_list = []\n",
    "for chunk in chunk_reader:\n",
    "    count +=1\n",
    "    sampbuffer[:-chunk_len] = sampbuffer[chunk_len:]\n",
    "    sampbuffer[-chunk_len:] = chunk\n",
    "    buffer_list.append(np.array(sampbuffer))\n",
    "   \n",
    "    if count >= n_buffers:\n",
    "        break\n"
   ]
  },
  {
   "cell_type": "code",
   "execution_count": 65,
   "metadata": {},
   "outputs": [
    {
     "name": "stdout",
     "output_type": "stream",
     "text": [
      "\n",
      "Tokens collected from successive buffers before CTC merge\n",
      "['_', '_', '_', '_', '_', '_', '_', '_', '_', '_', '_', '_', '_', '_', '_', '_', '_', '_', '_', '_', '_', '_', '_', '_', '_', '_', '_', '_', '_', '_', '_', '_', '_', '_', '_', '_', '_', '_', '_', '_', '_', '_', '_', '_', '_', '▁', '▁', '▁', '▁', '▁', '_', 'T79', '_', '_', '_', '_', '▁', '_', '_', '_', '_', '_', '_', '_', '_', '_', '_', '_', '_', '_', '_', '_', '_', '_', '_', '_', '_', '_', '_', '_', '_', '_', '_', '_', '_', '_', '_', '_', '_', '_', '_', '_', '_', '_', '_', '_', '_', '_', '_', '_', '_', '_', '_', '_', '_', '_', '_', '_', '_', '_', '_', '_', '_', '_', '_', '_', '_', '_', '_', '_', '_', '_', '_', '_', '_', '_', '_', '_', '_', '_', '_', '_', '_', '_', '_', '_', '_', '_', '_', '_', '_', '_', '_', '_', '_', '_', '_', '_', '_', '_', '_', '_', '_', '_', '_', '_', '_', '_', '_', '_', '_', '_', '_', '_', '_', '_', '_', '_', '_', '_', '_', '_', '_', '_', '_', '_', '_', '_', '_', '_', '_', '_', '_', '_', '_', '_', '_', '_', '_', '_', '_', '_', '_', '_', '_', '_', '_', '_', '_', '_', '_', '_', '_', '▁', '▁', 'వ', 'ె', 'ె', 'ె', '▁', '▁', '▁', '_', '_', '_', '_', 'ర', 'ర', '_', 'రి', '_', '▁', '▁', '▁', '▁', '▁', 'T79', '_', '_', 'T109', '▁', '▁', 'గ', '_', '_', '_', '_', '▁', '▁', '▁', '▁', '▁', '▁', '▁', '▁', '▁', '▁', '▁', '▁', '▁', '▁', '_', '_', '_', '_', '_', '_', '_', '_', '_', '_', '_', '_', '_', '_', '▁', '▁', '_', 'చ', 'చ', '_', 'క్', 'క్', '▁', 'T107', 'T107', '▁from', '▁from', '▁', '▁', '▁', '▁', 'T79', '_', '_', '_', 'T104', '▁', '▁', 'బ', '_', 'ర', 'री', '▁', '▁', '▁', '_', '_', '_', '_', 'స్', '_', '_', '_', '_', '_', '_', '_', '_', '_', '▁', '▁', '▁', '▁', '▁', '▁', '▁', '▁', '_', '_', '_', '_', '_', '_', '_', '_', '_', '_', 'me', 'me', 'm', 'ber', 'ber', '▁', '▁', '▁', '▁', '▁', '▁', '_', '_', '_', '_', '_', '_', '_', '_', '_', '_', '_', '_', '_', '_', '_', '_', '_', '▁', '▁', '▁', '▁', '▁', '▁', '▁', '▁', '▁', '_', 'T79', '_', '_', '_', '_', '_', '_', '_', '_', '_', 'స', '_', '_', '_', '_', '▁', '▁', 'T107', '▁', 'in', '▁', 'T79', '_', '_', '_', '_', 'T69', '▁', 'F', 'fr', 'fr', '_', 'un', '_', '_', '_', '_', '▁', '▁', '▁', 'T107', '▁', '▁', '▁', 'a', 'a', 'f', 'ter', 'ter', '▁', '▁', 'T79', '_', '_', '_', '_', '▁', '▁', '▁', 'tu', 'tu', '_', 'l', '_', '▁', '▁', '_', '_', '_', '_', '_', '_', '_', '_', 's', 'a', 'a', 'p', '_', '_', '_', '_', '_', '_', '_', '_', '_', '_', '_', '_', '_', '_', '_', '_', '_', '_', '_', '_', '_', '_', '_', '_', '_', '_', '_', '_', '_', '_', '_', '_', '_', '_', '_', '_', '_', '_', '_', '_', '_', '_', '_', '_', '_', '_', '_', '_', '_', '_', '_', '_', '_', '_', '_', '_', '_', '_', '_', '_', '_', '_', '_', '_', '_', '_', '_', '_', '_', '_', '_', '_', '_', '_', '_', '_', '_', '_', '_', '_', '_', '_', '_', '_', '_', '_', '_', '_', '_', '_', '_', '_', '_', '_', '_', '_', '_', '_', '_', '_', '_', '_', '_', '_', '_', '_', '_', '_', '_', '_', '_', '_', '_', '_', '_', '_', '_', '_', '_', '_', '_', '_', '_', '_', '_', '_', '_', '_', '_', '_', '_', '_', '_', '_', '_', '_', '_', '_', '_', '_', '_', '_', '_', '_', '_', '_', '_', '_', '_', '_', '_', '_', '_', '_', '_', '_', '_', '_', '_', '_', '_', '_', '_', '▁', '▁', '_', 'T79', '_', '_', '_', '_', 'T9', '▁', '_', '_', '_', '_', '_', '_', '_', 'ic', 'స్', 'స్', '▁', '▁', 'T107', 'T107', '▁', '▁', '▁', 'T79', '_', '_', '_', '_', '_', '_', '_', '_', '_', '_', '▁', '_', '_', '_', '_', '_', '_', '_', '_', '_', '_', '_', '_', '_', '_', '▁', '▁', '▁', '▁', '▁', '▁', '▁', '▁', '▁', '_', '_', '_', '_', '_', '_', '_', '_', '_', '_', '_', '_', '_', '_', '_', '▁', '▁', '_', '_', '_', '_', '_', 'స్', 'స్', '_', '_', 'ప', 'న', '_', '▁', '_', '_', '_', '_', '_', '_', '_', 'ై', 'క', 'క', '_', '_', '_', '_', '_', '_', 'హ', '_', '_', '_', '_', '▁', '_', 'క', 'క', 'క', 'న', 'న', '_', '_', '_', '_', 'ఫ', '_', '_', 'ట్', 'ట్', '▁', '▁', '▁', '▁', 'T79', '_', '_', '_', 'T104', '▁', 'స', 'ె', 'ె', 'ె', 'ె', 'ె', 'ె', 'న్', 'స్', '▁', '▁', '▁', 'T107', '▁', '▁', '▁', '_', '_', '_', '_', '_', '_', '_', '_', 'ట', '_', '_', 'ం', 'ం', '_', '_', '_', '_', '_', '_', '▁', '▁', '▁', '▁', '▁', '▁', '_', '_', '_', '_', '_', '_', '_', '▁', 'T79', '_', '_', '_', '_', '_', '_', 'ా', 'ా', 'ా', 'ం', 'ం', '_', '_', '_', '_', '_', '_', 'ద', '_', 'స్', 'స్', 'థ', 'ట', 'ా', 'ండి', '_', '▁', '▁', '▁', '▁', '▁', '▁', '▁', '▁', '▁', '_', '_', '_', '_', '_', '▁', '▁', 'మ', '_', '_', '_', '_', '▁', '▁', '▁', '▁', '▁', '▁', '_', '_', '_', '_', '_', '_', 'స', '_', '_', '_', '_', '_', 'ా', 'ా', '_', '_', '▁', '▁', '_', '_', '_', '_', 'మ', '_', 'ి', 'ి', 'య', 'య', 'న్', '▁', '_', '_', '_', '_', '_', '_', '_', 'క', 'క', '_', 'ల', 'ల', 'ై', '_', '_', '_', '_', '_', '_', '_', '_', '_', '_', '▁', '▁', '▁', 'T107', '▁', '▁', '▁', '▁', '▁', '▁', '▁', '▁', '▁', '▁', '▁', '▁', '▁', '▁', '▁', '▁', '▁', '▁', '_', '_', '_', '_', '_', '_', '_', '_', '_', '_', '_', '_', '_', 'మ', 'మ', 'ం', '▁', '▁', '▁', '▁', 'T79', '_', '_', '_', '_', '▁', '_', '_', '_', 'య', '_', '_', 'ని', '▁', '▁', '▁', '▁', '▁', '_', '_', '_', '_', '_', '_', 'ర', 'ర', 'ర', 'ా', 'ష', 'ఫ', 'ఫ', 'వ', 'వ', '్', '్', '▁', '▁', '▁', '_', '_', '_', '_', 'క', 'ి', 'ి', 'ి', 'ి', '_', '_', '_', '_', '_', '_', '_', 'రి', '_', '_', '_', '_', '▁', '▁', '_', '_', '_', '_', '_', '_', '_', '_', '_', 'ల్', '▁', '▁', '▁', 'ఫ', 'o', 'ో', '_', '_', '_', '▁', '▁', 'T107', '▁', '▁', '▁', 'T79', '_', '_', '_', '_', '_', '▁', 'ర', '_', 'ా', '_', '_', '_', '▁', '▁', '▁', '▁', '▁', '▁', '▁', '▁', '▁', '▁', '▁', '▁', '.', '.', '▁', '▁', '▁', '▁', 'T79', '_', '_', '_', '_', 'T104', '▁', 'మ', '_', '_', '_', '_', '_', '_', '_', '_', '_', '_', '_', '_', '_', '_', '_', '_', '_', '_', '_', '_', '_', '_', 'స', 'ి', 'ి', 'ి', '▁', '▁', '▁', '▁', '▁', '_', '▁', '▁', '▁', '_', '_', '_', 'స్', 'ట', 'ా', 'ా', '_', '_', 'ో', '▁', '▁', 'T107', '_', '_', '_', '_', '_', '_', '_', 'ర', 'ర', 'న', 'ని', 'ing', '▁', 'T107', '▁', 'ఉ', 'w', 'వ', 'ద', 'ద', '▁', '▁', '▁', '▁', '▁', '▁', '▁', '▁', 'T79', '_', '_', '_', '_', 'T104', '▁', 'ర', '_', '_', '_', '్', 'స', 'లు', '▁', '▁', '▁', '▁', '▁', '_', '_', '_', '_', '_', '_', '_', '▁', '▁', '▁', '▁', '▁', '▁', 'ని', '▁', '▁', 'T79', 'T79', '_', '_', 'T36', '▁', 'ప', 'ీ', 'ీ', '_', '_', 'ో', 'ో', '_', '_', 'ప', 'ి', '▁', '_', 'య', 'హ', '_', '_', '_', 'న', 'న', '▁', '▁', '▁', '▁', '_', '_', '_', '_', '_', 'ర', '_', '_', '_', '_', 'ా', 'ా', '_', '_', '_', '_', '_', '_', '_', '_', '▁', '▁', '▁', 'T107', '▁', '▁', '▁', '▁', '▁', '.', '.', '.', '▁', 'T79', '_', '_', '_', 'T9', '_', '_', 'స', '_', '_', '్', '▁', '▁', '▁', '▁', '▁', 'T79', '_', '_', 'T104', '▁', '▁', '_', 'ె', 'మ', 'ber', 'ber', 'రి', 'రి', '▁', '▁', '▁', '_', '_', '▁', '▁', '▁', '▁', '▁', '▁', '_', '_', '_', '_', '_', '_', '_', 'య', '▁', '▁', '▁', 'in', '▁', '▁', '_', '_', '▁', '_', '▁', 'ga', 'ై', 'ై', '▁', '▁', '▁', '_', '_', '_', '_', '_', '_', '_', '_', '_', '▁', '▁', '▁', '▁', '_', '_', '_', '▁', '▁', 'w', '_', '_', '_', '_', '_', '_', '_', '▁', '▁', '▁', '_', '_', '_', '_', '_', '_', '_', '▁', '▁', '▁', '_', '_', '_', '_', '_', 'ం', '_', '▁', '▁', '▁', '▁', '▁', 'T79', '_', '_', '_', '▁', '▁', '_', 'in', '▁', '▁', 'r', '_', '_', '_', '_', '_', '_', '_', '_', '_', '_', '_', '_', '_', '_', '_', '_', '_', '_', '_', '_', '▁', '▁', '▁', '▁', '▁', '_', '_', '_', '_', '_', '_', '_', '_', '_', '_', '_', '_', '_', '_', '్', 'ర', 'ో', '_', '_', '_', '_', '_', '_', '_', '▁', '▁', '▁', '▁', '▁', '▁', '▁', '▁', '▁', '▁', '▁', '_', '_', '_', '_', '_', '_', '_', '_', '_', '_', '_', '_', '_', '_', '_', 'ా', 'ా', '_', '_', '_', '_', '_', '_', '_', '_', '▁', '▁', '▁', '▁', '▁', '▁', '▁', '▁', '▁', '▁', '▁', '▁', '▁', '▁', '.', '.', '▁', '▁', '▁', '_', '_', '_', '_', '_', '_', '_', '_', '_', '_', '_', '_', '_', '_', '▁', '▁', '▁', '▁', '_', '_', '_', '_', '_', 'క', 'ీ', 'ీ', '_', '_', '_', 'ఫ', 'ల', 'ై', 'ే', '_', 'ర', '▁', '▁', '▁', '▁', '▁', '_', '_', '_', '_', '_', 'మ', '_', '_', '_', '_', '_', '_', 'మ', '_', 'ై', 'ై', 'ై', '_', '_', '_', '_', '_', '_', '_', '_', '_', '_', '_', '_', '_', '_', '_', '_', '_', '_', '_', '_', '_', '▁', '▁', '▁', '▁', '▁', '▁', '▁', '▁', '▁', '▁', '▁', '▁', '.', '.', '.', '▁', '▁', 'T79', '_', '_', '_', '_', 'T110', '▁', '▁', '_', '_', '_', '_', '_', 'ా', 'ా', '_', '్', 'రి', 'య', 'ో', 'ో', '▁', '▁', '▁', '▁', '_', '_', '_', '_', '_', '_', 'చ', 'ె', 'క్', '్', '_', 'ె', 'న్', 'న్', '▁', '▁', '▁', '_', '_', '_', '_', 'హ', 'ా', 'ల్', '_', 'ం', 'డ', '_', '_', '_', '_', '_', '_', '_', '_', '_', '_', '_', '_', '_', '_', '_', '_', '_', '_', 'ా', 'ా', '_', '_', '▁', '▁', '▁', '▁', '▁', '_', '_', '_', '_', '_', '_', '_', 'స్', 'స్', '_', 'ర', 'ర', '_', '_', '_', '▁', '▁', '_', '_', '_', '_', '_', '_', '్', '_', 'య', 'య', 'ల్', 'స్', '▁', '▁', '_', '_', '_', '_', '_', '_', 'ర', 'ো', '_', '_', '్', 'ర', 'రి', 'స్', '_', '_', 'క', 'ర', 'న', '▁', '▁', '▁', '▁', '_', '_', '_', '_', 'ప', '్', 'ే', 'ే', 'ం', 'న', '▁', '▁', '▁', '▁', '_', '_', '_', '_', '_', '_', '_', '_', '_', '_', '_', 'ీ', '▁', '▁', '▁', '▁', '▁', 'T79', '_', '_', '_', 'T62', '▁', '▁', '_', '_', '_', '▁', '▁', '▁', '▁', '_', '_', '_', '_', 'in', '_', '_', '_', '_', '_', 'ట', 'ట్', '_', '▁', '▁', '_', '_', '_', '_', '_', '_', '_', 'స్', '_', '▁', '▁', '▁', '_', '_', '_', '_', '_', '_', '_', '_', '_', '_', '_', '_', '_', '_', 'ప', '_', 'ీ', 'స', 'స', '▁', '▁', '▁', '_', '_', '_', '_', 'ో', 'ల్', '▁', '▁', '▁', '▁', '▁', '_', '_', '_', 'రి', '▁', '_', 'T107', 'క', '▁', '▁', '▁', '_', '_', '_', '_', '▁', 'a', '_', 'ter', 'ter', '_', '_', '_', '_', '_', '_', '_', '_', '▁', '▁', '▁', 'T79', '_', '_', '_', '_', '_', '▁', 'వ', '_', '_', 'య', 'య', 'య', 'ా', '_', '▁', '▁', '▁', '▁', '_', '_', '_', '_', '_', '_', '_', 'మ', '_', 'ై', '_', '_', '_', '_', '_', '_', '_', '_', '_', '_', '_', '_', '_', '_', '_', '_', '▁', '▁', '▁', 'T107', 'T107', '▁', '▁', '▁', '▁', '▁', '▁', '▁', '▁', '▁', '▁', '▁', '▁', '▁', '_', 'T79', '_', '_', '_', '_', '_', '▁', '▁', '_', '_', '_', '_', '_', '_', '_', '_', 'స', '_', '_', '_', '_', '_', '_', '_', '_', '_', '_', '_', 'ర', '_', 'ం', '▁', '▁', '▁', '_', '_', 'ె', 'ం', 'ం', '_', '_', '▁', '_', '_', '_', '_', '_', '_', '_', '_', 'న', 'ించ', 'ట్', '▁', '▁', '▁', '_', '_', '_', '_', '_', 'బ', 'బ', 'ా', '_', '_', '_', '_', 'ె', 'ె', '▁', '▁', '▁', '▁', 'మ', 'ి', 'న', 'ో', 'లో', 'ా', '▁', '▁', '▁', '_', '_', '_', '_', '_', 'ల', 'స్', 'స్', 'స్', 'ే', 'ే', 'ఫ', 'ఫ', 'ల్', 'ల్', 'ల్', 'ని', '▁', '▁', '▁', '_', '_', '_', 'క', '_', 'ం', '▁', 'చ', 'చ', 'ా', 'చ', '▁', '▁', '▁', '▁', '_', '_', '_', 'మ', 'మ', 'ి', 'స', 'ు', 'ు', '▁', '▁', '_', '_', '_', 'ఉ', 'ఉ', '_', 'న్', '_', '_', 'ఫ', '_', 'ూ', '_', '▁', '▁', '▁', 'T79', '_', '_', '_', '_', '▁', 'ప', '_', '_', '_', '_', '_', '_', '_', '_', '_', '_', '_', '_', '_', '_', '_', '_', '_', '▁', '▁', '▁', '▁', '▁', '▁', '▁', '▁', '▁', '▁', '▁', '▁', '▁', '▁', '▁', '▁', '▁', '▁', '▁', '▁', '▁', '▁', '▁', '▁', '▁', '.', '.', '▁', '▁', '_', '_', '_', '_', '_', '_', '_', '_', '_', '_', '_', '_', '_', '_', '_', '_', '_', 'ba', 'ba', '_', '_', '▁', '▁', '▁', '▁', '▁', '▁', '▁', '▁', '▁', 'T79', '_', '_', '_', 'T104', '▁', 'క్', '_', '_', '_', '_', '▁', '▁', '▁', '▁', '_', '_', '_', '_', '_', '▁', '_', '_', '_', '_', 'ట', 'ి', '▁', '▁', '▁', '▁', '_', '_', '▁', '▁', '▁', '▁', '▁', '▁', '▁', '▁', '_', '_', '_', '_', '_', 'D', '_', '_', '_', '_', 'या', '▁', '▁', '▁', '▁', '▁', '▁', 'T79', '_', '_', '_', 'T62', '▁', '▁', '_', '_', '_', '_', '_', '_', '_', '_', '_', '_', '_', '_', '_', '_', '_', '_', '्', '्', 'र', 'री', '_', '_', 'మ', 'న', '▁', '▁', '▁', '▁', '▁', '_', '_', '_', '▁', 'ర', 'ర', '_', '_', '_', '_', '_', '_', '_', 'श', 'श', 'ो', '_', '▁', '▁', '▁', '▁', '_', '_', '_', '_', '_', '_', '_', 'in', '_', '_', '_', '_', '_', '_', '_', '_', '_', '_', '_', '_', '_', '_', '_', '_', '_', '_', '_', '_', '_', '_', '_', '_', '_', '_', '_', '_', '_', '_', '_', '_', '_', '_', '_', '_', '_', '_', '_', '_', '_', '_', '_', '_', '_', '_', '_', '_', '_', '_', '_', '_', '_', '_', '_', '_', '_', '_', '_', '_', '_', '_', '_', '_', '_', '_', '_', '_', '_', '_', '_', '_', '_', '_', '_', '_', '_', '_', '_', '_', '_', '_', '_', '_', '_', '_', '_', '_', '_', '▁', '▁', '▁', '▁', '▁', '_', '_', '_', 'T79', '_', '_', '_', '_', '_', '_', 'T104', '▁', '_', '_', '_', '_', '_', '_', '_', '_', '_', '_', '_', '_', '_', '_', '_', '_', '_', '_', '_', '_', '_', '_', '_', '▁', '▁', 'T107', 'T107', '▁', '▁', '▁', '▁', 'T79', '_', '_', '_', '_', 'T104', '▁', '2', '_', '_', '_', '_', '_', '_', '_', '_', '_', '_', '_', '_', '_', '▁', '▁', '▁', '▁', '_', '_', '_', '_', '_', '_', '_', '_', '_', '_', '_', 'ఫ', '_', '_', 'ల్', '_', '▁', '▁', '_', '_', '_', '_', '_', '_', 'స', 'స', 'es', '_', '_', '_', '_', '_', '_', '_', '▁', '▁', '▁', '▁', '▁', '▁', '▁', '▁', '▁', '▁', '▁', '▁', '▁', '▁', '▁', '▁', '▁', '▁', '▁', '▁', '▁', '▁', '▁', '.', '.', '.', '▁', '▁', 'T79', '_', '_', '_', '_', 'T9', '▁', '▁', 'స', '_', '_', '_', '_', '_', 'ం', 'గ్', '▁', '▁', '▁', '▁', '_', '_', 'ష', 'r', 'an', 'ਨ', '్', '▁', '▁', 'T107', '▁', '▁', '▁', '_', '_', '_', '_', '▁', 'స', 'ె', 'ం', 'ట్', 'ట', 'ా', '_', '_', '_', '_', 'ో', '_', '_', 'య', 'య', 'ల', 'ర', 'న', 'న', '▁', '▁', '▁', '▁', '_', '_', '_', '_', '_', '_', '_', '_', '_', '_', '_', '_', '_', '▁', '▁', '▁', '▁', 'య', 'స్', 'స్', 'ట', 'త', 'ద', 'ా', 'ా', '▁', '▁', '▁', 'లో', '_', '_', 'క', 'ి', 'ి', '▁', '_', '_', '_', '_', '_', 'చ', 'ం', 'ం', 'ం', '_', '_', '▁', '▁', '▁', '▁', '▁', '▁', 'T79', '_', '_', '_', '_', '▁', '_', '_', '_', '_', '▁', '▁', '_', '_', 'య', 'య', 'య', 'ూ', 'ో', 'న', 'న', 'ె', 'స్', 'స్', '▁', '▁', '▁', '▁', '▁', '▁', '_', '_', '▁', '▁', 'స్', 'స్', 'వ', 'వ', 'ల్', '_', '_', 'బ', 'ా', '_', '_', '_', 'ే', '▁', '▁', '▁', '▁', 'T79', '_', '_', 'T90', '▁', '_', '_', '_', '_', '_', '_', '_', 'రి', 'రి', '_', 'స్', '_', '_', 'స్', 'మ', 'మ', 'ా', 'ా', 'స్', '▁', 'T107', '▁', '▁', '▁', '_', '_', '_', '_', '_', '▁', '_', '_', '_', 'ె', '_', '_', '_', '_', '_', '_', '_', '_', '_', '_', '_', '_', '_', '_', '_', '_', '_', '_', '_', '_', '_', '_', '_', '_', '_', '_', '_', '_', '_', '▁', '▁', '▁', '▁', '▁', '▁', '▁', '▁', '▁', '▁', '▁', '▁', '▁', '▁', '▁', '▁', '▁', '▁', '▁', '▁', '▁', '▁', '▁', '▁', '▁', '▁', '▁', '_', '_', 'T79', '_', '_', '_', '_', '_', '▁', '▁', '_', '_', '_', '_', '_', '_', '_', '_', '_', '_', '_', '_', '_', '_', '_', '_', '_', '_', '_', '_', '_', '_', '_', '_', '_', '_', '_', '▁', '▁', '▁', '_', '_', '_', '_', '_', '_', 'స్', '_', '_', '_', '_', '_', '_', '_', '_', '_', '_', '_', '_', '▁', '▁', '▁', '▁', '▁', '▁', '▁', '▁', '▁', '▁', '_', 'T79', '_', '_', '_', '_', '_', '▁', '_', '_', '_', '_', '_', '_', '_', '_', '▁', '▁', '_', '▁', '▁', '▁', '▁', '▁', '▁', 'T79', '_', '_', '_', '_', '▁', '1', '_', '_', '_', '_', '_', '_', '_', '_', '_', '_', '_', '_', '_', '_', '_', '_', '_', '_', '_', '_', '_', '_', '_', '_', '_', '_', '_', '_', '_', '_', '_', '_', '_', '_', '_', '_', '_', '_', '_', '_', '_', '_', '_', '_', '_', '_', '_', '_', '_', '_', '_', '_', '_', '_', '_', '_', '_', '_', '_', '_', '_', '_', '_', '_', '_', '_', '_', '_', '_', '_', '_', '_', '_', '_', '_', '_', '_', '_', '_', '_', '_', '_', '_', '_', '_', '_', '_', '_', '_', '_', '_', '_', '_', '_', '_', '_', '_', '_', '_', '_', '_', '_', '_', '_', '_', '_', '_', '_', '_', '_', '_', '_', '_', '_', '_', '_', '_', '_', '_', '_', '_', '_', '_', '_', '_', '_', '_', '_', '_', '_', '_', '_', '_', '_', '_', '_', '_', '_', '_', '_', '_', '_', '_', '_', '_', '_', '_', '_', '_', '_', '_', '_', '_', '_', '_', '_', '_', '_', '_', '_', '_', '_', '_']\n"
     ]
    }
   ],
   "source": [
    "stride = 4 # 8 for Citrinet\n",
    "asr_decoder = ChunkBufferDecoder(model, stride=stride, chunk_len_in_secs=chunk_len_in_secs, buffer_len_in_secs=buffer_len_in_secs )\n",
    "transcription = asr_decoder.transcribe_buffers(buffer_list, plot=True)"
   ]
  },
  {
   "cell_type": "code",
   "execution_count": 66,
   "metadata": {},
   "outputs": [
    {
     "name": "stdout",
     "output_type": "stream",
     "text": [
      "T79_  వె రరి T79_T109 గ  చక్ T107 from T79_T104 బరरी స్ member  T79స T107 in T79_T69 Ffrun T107 after T79__ tul sap T79T9 icస్ T107 T79   స్పన ైకహ కనఫట్ T79__T104 సెన్స్ T107 టం  T79ాందస్థటాండి  మ సా మియన్ కలై T107 మం T79 యని రాషఫవ్ కిరి ల్ ఫoో T107 T79_ రా . T79_T104 మసి  స్టాో T107రననిing T107 ఉwవద T79_T104 ర్సలు  ని T79_T36 పీోపి యహన రా T107 . T79_T9స్ T79_T104 ెమberరి  య in   gaై  _ w  ం T79 in r ్రో ా .  కీఫలైేర మమై . T79_T110 ా్రియో చెక్్ెన్ హాల్ండా స్ర ్యల్స్ రো్రరిస్కరన ప్ేంన ీ T79__T62  inటట్ స్ పీస ోల్ రి T107క  ater T79_ వయా మై T107 T79 సరం ెం నించట్ బాె మినోలోా లస్ేఫల్ని కం చాచ మిసు ఉన్ఫూ T79_ ప . ba T79__T104 క్  టి  Dया T79_T62 ्ररीమన  రशो in T79_T104  T107 T79_T104 2 ఫల్ సes . T79_T9 సంగ్ షranਨ్ T107  సెంట్టాోయలరన  యస్టతదా లోకి చం T79_  యూోనెస్ _ స్వల్బాే T79_T90 రిస్స్మాస్ T107  ె T79_  స్ T79__   T79_ 1\n"
     ]
    }
   ],
   "source": [
    "# Final transcription after CTC merge\n",
    "print(transcription)"
   ]
  },
  {
   "cell_type": "markdown",
   "metadata": {},
   "source": [
    "Time to evaluate our streaming inference on the whole long file that we created."
   ]
  },
  {
   "cell_type": "code",
   "execution_count": null,
   "metadata": {},
   "outputs": [],
   "source": [
    "# WER calculation\n",
    "from nemo.collections.asr.metrics.wer import word_error_rate\n",
    "# Collect all buffers from the audio file\n",
    "sampbuffer = np.zeros([buffer_len], dtype=np.float32)\n",
    "\n",
    "chunk_reader = AudioChunkIterator(samples, chunk_len_in_secs, sample_rate)\n",
    "buffer_list = []\n",
    "for chunk in chunk_reader:\n",
    "    sampbuffer[:-chunk_len] = sampbuffer[chunk_len:]\n",
    "    sampbuffer[-chunk_len:] = chunk\n",
    "    buffer_list.append(np.array(sampbuffer))\n",
    "\n",
    "asr_decoder = ChunkBufferDecoder(model, stride=stride, chunk_len_in_secs=chunk_len_in_secs, buffer_len_in_secs=buffer_len_in_secs )\n",
    "transcription = asr_decoder.transcribe_buffers(buffer_list, plot=False)\n",
    "wer = word_error_rate(hypotheses=[transcription], references=[ref_transcript])\n",
    "\n",
    "print(f\"WER: {round(wer*100,2)}%\")"
   ]
  }
 ],
 "metadata": {
  "accelerator": "GPU",
  "colab": {
   "collapsed_sections": [],
   "name": "ASR_with_NeMo.ipynb",
   "provenance": [],
   "toc_visible": true
  },
  "kernelspec": {
   "display_name": "Python 3 (ipykernel)",
   "language": "python",
   "name": "python3"
  },
  "language_info": {
   "codemirror_mode": {
    "name": "ipython",
    "version": 3
   },
   "file_extension": ".py",
   "mimetype": "text/x-python",
   "name": "python",
   "nbconvert_exporter": "python",
   "pygments_lexer": "ipython3",
   "version": "3.10.12"
  },
  "pycharm": {
   "stem_cell": {
    "cell_type": "raw",
    "metadata": {
     "collapsed": false
    },
    "source": []
   }
  }
 },
 "nbformat": 4,
 "nbformat_minor": 4
}
