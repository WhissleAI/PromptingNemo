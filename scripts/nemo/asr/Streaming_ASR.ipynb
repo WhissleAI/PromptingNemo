{
 "cells": [
  {
   "cell_type": "markdown",
   "metadata": {},
   "source": [
    "# Streaming ASR\n",
    "In this tutorial, we will look at one way to use one of NeMo's pretrained Conformer-CTC models for streaming inference. We will first look at some use cases where we may need streaming inference and then we will work towards developing a method for transcribing a long audio file using streaming."
   ]
  },
  {
   "cell_type": "markdown",
   "metadata": {
    "id": "v1Jk9etFlRzf"
   },
   "source": [
    "# Why Stream?\n",
    "Streaming inference may be needed in one of the following scenarios:\n",
    "* Real-time or close to real-time inference for live transcriptions\n",
    "* Offline transcriptions of very long audio\n",
    "\n",
    "In this tutorial, we will mainly focus on streaming for handling long form audio and close to real-time inference with CTC based models. For training ASR models we usually use short segments of audio (<20s) that may be smaller chunks of a long audio that is aligned with the transcriptions and segmented into smaller chunks (see [tools/](https://github.com/NVIDIA/NeMo/tree/main/tools) for some great tools to do this). For running inference on long audio files we are restricted by the available GPU memory that dictates the maximum length of audio that can be transcribed in one inference call. We will take a look at one of the ways to overcome this restriction using NeMo's Conformer-CTC ASR model."
   ]
  },
  {
   "cell_type": "markdown",
   "metadata": {},
   "source": [
    "# Conformer-CTC\n",
    "Conformer-CTC models distributed with NeMo use a combination of self-attention and convolution modules to achieve the best of the two approaches, the self-attention layers can learn the global interaction while the convolutions efficiently capture the local correlations. Use of self-attention layers comes with a cost of increased memory usage at a quadratic rate with the sequence length. That means that transcribing long audio files with Conformer-CTC models needs streaming inference to break up the audio into smaller chunks. We will develop one method to do such inference through the course of this tutorial."
   ]
  },
  {
   "cell_type": "markdown",
   "metadata": {},
   "source": [
    "# Data\n",
    "To demonstrate transcribing a long audio file we will use utterances from the dev-clean set of the [mini Librispeech corpus](https://www.openslr.org/31/).  "
   ]
  },
  {
   "cell_type": "markdown",
   "metadata": {},
   "source": [
    "Let's create a long audio that is about 15 minutes long by concatenating audio from dev-clean  and also create the corresponding concatenated transcript."
   ]
  },
  {
   "cell_type": "code",
   "execution_count": 80,
   "metadata": {},
   "outputs": [
    {
     "name": "stdout",
     "output_type": "stream",
     "text": [
      "Requirement already satisfied: moviepy in /external/anaconda3/envs/nemo/lib/python3.10/site-packages (1.0.3)\n",
      "Requirement already satisfied: decorator<5.0,>=4.0.2 in /external/anaconda3/envs/nemo/lib/python3.10/site-packages (from moviepy) (4.4.2)\n",
      "Requirement already satisfied: tqdm<5.0,>=4.11.2 in /external/anaconda3/envs/nemo/lib/python3.10/site-packages (from moviepy) (4.66.4)\n",
      "Requirement already satisfied: requests<3.0,>=2.8.1 in /external/anaconda3/envs/nemo/lib/python3.10/site-packages (from moviepy) (2.32.3)\n",
      "Requirement already satisfied: proglog<=1.0.0 in /external/anaconda3/envs/nemo/lib/python3.10/site-packages (from moviepy) (0.1.10)\n",
      "Requirement already satisfied: numpy>=1.17.3 in /external/anaconda3/envs/nemo/lib/python3.10/site-packages (from moviepy) (1.22.0)\n",
      "Requirement already satisfied: imageio<3.0,>=2.5 in /external/anaconda3/envs/nemo/lib/python3.10/site-packages (from moviepy) (2.34.2)\n",
      "Requirement already satisfied: imageio-ffmpeg>=0.2.0 in /external/anaconda3/envs/nemo/lib/python3.10/site-packages (from moviepy) (0.5.1)\n",
      "Requirement already satisfied: pillow>=8.3.2 in /external/anaconda3/envs/nemo/lib/python3.10/site-packages (from imageio<3.0,>=2.5->moviepy) (10.4.0)\n",
      "Requirement already satisfied: setuptools in /external/anaconda3/envs/nemo/lib/python3.10/site-packages (from imageio-ffmpeg>=0.2.0->moviepy) (69.5.1)\n",
      "Requirement already satisfied: charset-normalizer<4,>=2 in /external/anaconda3/envs/nemo/lib/python3.10/site-packages (from requests<3.0,>=2.8.1->moviepy) (3.3.2)\n",
      "Requirement already satisfied: idna<4,>=2.5 in /external/anaconda3/envs/nemo/lib/python3.10/site-packages (from requests<3.0,>=2.8.1->moviepy) (3.7)\n",
      "Requirement already satisfied: urllib3<3,>=1.21.1 in /external/anaconda3/envs/nemo/lib/python3.10/site-packages (from requests<3.0,>=2.8.1->moviepy) (2.2.2)\n",
      "Requirement already satisfied: certifi>=2017.4.17 in /external/anaconda3/envs/nemo/lib/python3.10/site-packages (from requests<3.0,>=2.8.1->moviepy) (2024.7.4)\n",
      "Requirement already satisfied: pydub in /external/anaconda3/envs/nemo/lib/python3.10/site-packages (0.25.1)\n",
      "Collecting noisereduce\n",
      "  Downloading noisereduce-3.0.2-py3-none-any.whl.metadata (14 kB)\n",
      "Requirement already satisfied: scipy in /external/anaconda3/envs/nemo/lib/python3.10/site-packages (from noisereduce) (1.11.4)\n",
      "Requirement already satisfied: matplotlib in /external/anaconda3/envs/nemo/lib/python3.10/site-packages (from noisereduce) (3.8.4)\n",
      "Requirement already satisfied: librosa in /external/anaconda3/envs/nemo/lib/python3.10/site-packages (from noisereduce) (0.10.0)\n",
      "Requirement already satisfied: numpy in /external/anaconda3/envs/nemo/lib/python3.10/site-packages (from noisereduce) (1.22.0)\n",
      "Requirement already satisfied: tqdm in /external/anaconda3/envs/nemo/lib/python3.10/site-packages (from noisereduce) (4.66.4)\n",
      "Requirement already satisfied: audioread>=2.1.9 in /external/anaconda3/envs/nemo/lib/python3.10/site-packages (from librosa->noisereduce) (3.0.1)\n",
      "Requirement already satisfied: scikit-learn>=0.20.0 in /external/anaconda3/envs/nemo/lib/python3.10/site-packages (from librosa->noisereduce) (1.5.1)\n",
      "Requirement already satisfied: joblib>=0.14 in /external/anaconda3/envs/nemo/lib/python3.10/site-packages (from librosa->noisereduce) (1.4.2)\n",
      "Requirement already satisfied: decorator>=4.3.0 in /external/anaconda3/envs/nemo/lib/python3.10/site-packages (from librosa->noisereduce) (4.4.2)\n",
      "Requirement already satisfied: numba>=0.51.0 in /external/anaconda3/envs/nemo/lib/python3.10/site-packages (from librosa->noisereduce) (0.60.0)\n",
      "Requirement already satisfied: soundfile>=0.12.1 in /external/anaconda3/envs/nemo/lib/python3.10/site-packages (from librosa->noisereduce) (0.12.1)\n",
      "Requirement already satisfied: pooch>=1.0 in /external/anaconda3/envs/nemo/lib/python3.10/site-packages (from librosa->noisereduce) (1.8.2)\n",
      "Requirement already satisfied: soxr>=0.3.2 in /external/anaconda3/envs/nemo/lib/python3.10/site-packages (from librosa->noisereduce) (0.3.7)\n",
      "Requirement already satisfied: typing-extensions>=4.1.1 in /external/anaconda3/envs/nemo/lib/python3.10/site-packages (from librosa->noisereduce) (4.12.2)\n",
      "Requirement already satisfied: lazy-loader>=0.1 in /external/anaconda3/envs/nemo/lib/python3.10/site-packages (from librosa->noisereduce) (0.4)\n",
      "Requirement already satisfied: msgpack>=1.0 in /external/anaconda3/envs/nemo/lib/python3.10/site-packages (from librosa->noisereduce) (1.0.8)\n",
      "Requirement already satisfied: contourpy>=1.0.1 in /external/anaconda3/envs/nemo/lib/python3.10/site-packages (from matplotlib->noisereduce) (1.2.1)\n",
      "Requirement already satisfied: cycler>=0.10 in /external/anaconda3/envs/nemo/lib/python3.10/site-packages (from matplotlib->noisereduce) (0.12.1)\n",
      "Requirement already satisfied: fonttools>=4.22.0 in /external/anaconda3/envs/nemo/lib/python3.10/site-packages (from matplotlib->noisereduce) (4.53.1)\n",
      "Requirement already satisfied: kiwisolver>=1.3.1 in /external/anaconda3/envs/nemo/lib/python3.10/site-packages (from matplotlib->noisereduce) (1.4.5)\n",
      "Requirement already satisfied: packaging>=20.0 in /external/anaconda3/envs/nemo/lib/python3.10/site-packages (from matplotlib->noisereduce) (24.1)\n",
      "Requirement already satisfied: pillow>=8 in /external/anaconda3/envs/nemo/lib/python3.10/site-packages (from matplotlib->noisereduce) (10.4.0)\n",
      "Requirement already satisfied: pyparsing>=2.3.1 in /external/anaconda3/envs/nemo/lib/python3.10/site-packages (from matplotlib->noisereduce) (3.1.2)\n",
      "Requirement already satisfied: python-dateutil>=2.7 in /external/anaconda3/envs/nemo/lib/python3.10/site-packages (from matplotlib->noisereduce) (2.9.0.post0)\n",
      "Requirement already satisfied: llvmlite<0.44,>=0.43.0dev0 in /external/anaconda3/envs/nemo/lib/python3.10/site-packages (from numba>=0.51.0->librosa->noisereduce) (0.43.0)\n",
      "Requirement already satisfied: platformdirs>=2.5.0 in /external/anaconda3/envs/nemo/lib/python3.10/site-packages (from pooch>=1.0->librosa->noisereduce) (3.10.0)\n",
      "Requirement already satisfied: requests>=2.19.0 in /external/anaconda3/envs/nemo/lib/python3.10/site-packages (from pooch>=1.0->librosa->noisereduce) (2.32.3)\n",
      "Requirement already satisfied: six>=1.5 in /external/anaconda3/envs/nemo/lib/python3.10/site-packages (from python-dateutil>=2.7->matplotlib->noisereduce) (1.16.0)\n",
      "Requirement already satisfied: threadpoolctl>=3.1.0 in /external/anaconda3/envs/nemo/lib/python3.10/site-packages (from scikit-learn>=0.20.0->librosa->noisereduce) (3.5.0)\n",
      "Requirement already satisfied: cffi>=1.0 in /external/anaconda3/envs/nemo/lib/python3.10/site-packages (from soundfile>=0.12.1->librosa->noisereduce) (1.16.0)\n",
      "Requirement already satisfied: pycparser in /external/anaconda3/envs/nemo/lib/python3.10/site-packages (from cffi>=1.0->soundfile>=0.12.1->librosa->noisereduce) (2.21)\n",
      "Requirement already satisfied: charset-normalizer<4,>=2 in /external/anaconda3/envs/nemo/lib/python3.10/site-packages (from requests>=2.19.0->pooch>=1.0->librosa->noisereduce) (3.3.2)\n",
      "Requirement already satisfied: idna<4,>=2.5 in /external/anaconda3/envs/nemo/lib/python3.10/site-packages (from requests>=2.19.0->pooch>=1.0->librosa->noisereduce) (3.7)\n",
      "Requirement already satisfied: urllib3<3,>=1.21.1 in /external/anaconda3/envs/nemo/lib/python3.10/site-packages (from requests>=2.19.0->pooch>=1.0->librosa->noisereduce) (2.2.2)\n",
      "Requirement already satisfied: certifi>=2017.4.17 in /external/anaconda3/envs/nemo/lib/python3.10/site-packages (from requests>=2.19.0->pooch>=1.0->librosa->noisereduce) (2024.7.4)\n",
      "Downloading noisereduce-3.0.2-py3-none-any.whl (22 kB)\n",
      "Installing collected packages: noisereduce\n",
      "Successfully installed noisereduce-3.0.2\n"
     ]
    }
   ],
   "source": [
    "!pip install moviepy\n",
    "!pip install pydub noisereduce\n",
    "\n"
   ]
  },
  {
   "cell_type": "code",
   "execution_count": 24,
   "metadata": {},
   "outputs": [],
   "source": [
    "# new_duration, ref_transcript = concat_audio(manifest, 15*60)\n",
    "\n",
    "concat_audio_path = \"/external2/datasets/soccer/final.wav\"\n",
    "\n",
    "# !ffmpeg -t {new_duration} -safe 0 -f concat -i concat_file.txt -c copy -t {new_duration} {concat_audio_path} -y\n",
    "# print(\"Finished concatenating audio file!\")"
   ]
  },
  {
   "cell_type": "code",
   "execution_count": 83,
   "metadata": {},
   "outputs": [
    {
     "name": "stdout",
     "output_type": "stream",
     "text": [
      "Loading audio file /external2/datasets/soccer/final.wav...\n",
      "Reducing noise...\n",
      "Noise reduction completed.\n",
      "Segmenting audio based on silence...\n",
      "Saving segment 0 to /external2/datasets/soccer/final_chunks/segment_0.wav...\n",
      "Saving segment 1 to /external2/datasets/soccer/final_chunks/segment_1.wav...\n",
      "Saving segment 2 to /external2/datasets/soccer/final_chunks/segment_2.wav...\n",
      "Saving segment 3 to /external2/datasets/soccer/final_chunks/segment_3.wav...\n",
      "Saving segment 4 to /external2/datasets/soccer/final_chunks/segment_4.wav...\n",
      "Saving segment 5 to /external2/datasets/soccer/final_chunks/segment_5.wav...\n",
      "Saving segment 6 to /external2/datasets/soccer/final_chunks/segment_6.wav...\n",
      "Saving segment 7 to /external2/datasets/soccer/final_chunks/segment_7.wav...\n",
      "Saving segment 8 to /external2/datasets/soccer/final_chunks/segment_8.wav...\n",
      "Saving segment 9 to /external2/datasets/soccer/final_chunks/segment_9.wav...\n",
      "Saving segment 10 to /external2/datasets/soccer/final_chunks/segment_10.wav...\n",
      "Saving segment 11 to /external2/datasets/soccer/final_chunks/segment_11.wav...\n",
      "Saving segment 12 to /external2/datasets/soccer/final_chunks/segment_12.wav...\n",
      "Saving segment 13 to /external2/datasets/soccer/final_chunks/segment_13.wav...\n",
      "Saving segment 14 to /external2/datasets/soccer/final_chunks/segment_14.wav...\n",
      "Saving segment 15 to /external2/datasets/soccer/final_chunks/segment_15.wav...\n",
      "Saving segment 16 to /external2/datasets/soccer/final_chunks/segment_16.wav...\n",
      "Saving segment 17 to /external2/datasets/soccer/final_chunks/segment_17.wav...\n",
      "Saving segment 18 to /external2/datasets/soccer/final_chunks/segment_18.wav...\n",
      "Saving segment 19 to /external2/datasets/soccer/final_chunks/segment_19.wav...\n",
      "Saving segment 20 to /external2/datasets/soccer/final_chunks/segment_20.wav...\n",
      "Saving segment 21 to /external2/datasets/soccer/final_chunks/segment_21.wav...\n",
      "Saving segment 22 to /external2/datasets/soccer/final_chunks/segment_22.wav...\n",
      "Saving segment 23 to /external2/datasets/soccer/final_chunks/segment_23.wav...\n",
      "Saving segment 24 to /external2/datasets/soccer/final_chunks/segment_24.wav...\n",
      "Saving segment 25 to /external2/datasets/soccer/final_chunks/segment_25.wav...\n",
      "Saving segment 26 to /external2/datasets/soccer/final_chunks/segment_26.wav...\n",
      "Saving segment 27 to /external2/datasets/soccer/final_chunks/segment_27.wav...\n",
      "Saving segment 28 to /external2/datasets/soccer/final_chunks/segment_28.wav...\n",
      "Saving segment 29 to /external2/datasets/soccer/final_chunks/segment_29.wav...\n",
      "Saving segment 30 to /external2/datasets/soccer/final_chunks/segment_30.wav...\n",
      "Saving segment 31 to /external2/datasets/soccer/final_chunks/segment_31.wav...\n",
      "Saving segment 32 to /external2/datasets/soccer/final_chunks/segment_32.wav...\n",
      "Saving segment 33 to /external2/datasets/soccer/final_chunks/segment_33.wav...\n",
      "Saving segment 34 to /external2/datasets/soccer/final_chunks/segment_34.wav...\n",
      "Saving segment 35 to /external2/datasets/soccer/final_chunks/segment_35.wav...\n",
      "Saving segment 36 to /external2/datasets/soccer/final_chunks/segment_36.wav...\n",
      "Saving segment 37 to /external2/datasets/soccer/final_chunks/segment_37.wav...\n",
      "Saving segment 38 to /external2/datasets/soccer/final_chunks/segment_38.wav...\n",
      "Saving segment 39 to /external2/datasets/soccer/final_chunks/segment_39.wav...\n",
      "Saving segment 40 to /external2/datasets/soccer/final_chunks/segment_40.wav...\n",
      "Saving segment 41 to /external2/datasets/soccer/final_chunks/segment_41.wav...\n",
      "Saving segment 42 to /external2/datasets/soccer/final_chunks/segment_42.wav...\n",
      "Saving segment 43 to /external2/datasets/soccer/final_chunks/segment_43.wav...\n",
      "Saving segment 44 to /external2/datasets/soccer/final_chunks/segment_44.wav...\n",
      "Saving segment 45 to /external2/datasets/soccer/final_chunks/segment_45.wav...\n",
      "Saving segment 46 to /external2/datasets/soccer/final_chunks/segment_46.wav...\n",
      "Saving segment 47 to /external2/datasets/soccer/final_chunks/segment_47.wav...\n",
      "Saving segment 48 to /external2/datasets/soccer/final_chunks/segment_48.wav...\n",
      "Saving segment 49 to /external2/datasets/soccer/final_chunks/segment_49.wav...\n",
      "Saving segment 50 to /external2/datasets/soccer/final_chunks/segment_50.wav...\n",
      "Saving segment 51 to /external2/datasets/soccer/final_chunks/segment_51.wav...\n",
      "Saving segment 52 to /external2/datasets/soccer/final_chunks/segment_52.wav...\n",
      "Saving segment 53 to /external2/datasets/soccer/final_chunks/segment_53.wav...\n",
      "Saving segment 54 to /external2/datasets/soccer/final_chunks/segment_54.wav...\n",
      "Saving segment 55 to /external2/datasets/soccer/final_chunks/segment_55.wav...\n",
      "Saving segment 56 to /external2/datasets/soccer/final_chunks/segment_56.wav...\n",
      "Saving segment 57 to /external2/datasets/soccer/final_chunks/segment_57.wav...\n",
      "Saving segment 58 to /external2/datasets/soccer/final_chunks/segment_58.wav...\n",
      "Saving segment 59 to /external2/datasets/soccer/final_chunks/segment_59.wav...\n",
      "Saving segment 60 to /external2/datasets/soccer/final_chunks/segment_60.wav...\n",
      "Saving segment 61 to /external2/datasets/soccer/final_chunks/segment_61.wav...\n",
      "Saving segment 62 to /external2/datasets/soccer/final_chunks/segment_62.wav...\n",
      "Saving segment 63 to /external2/datasets/soccer/final_chunks/segment_63.wav...\n",
      "Saving segment 64 to /external2/datasets/soccer/final_chunks/segment_64.wav...\n",
      "Saving segment 65 to /external2/datasets/soccer/final_chunks/segment_65.wav...\n",
      "Saving segment 66 to /external2/datasets/soccer/final_chunks/segment_66.wav...\n",
      "Saving segment 67 to /external2/datasets/soccer/final_chunks/segment_67.wav...\n",
      "Saving segment 68 to /external2/datasets/soccer/final_chunks/segment_68.wav...\n",
      "Saving segment 69 to /external2/datasets/soccer/final_chunks/segment_69.wav...\n",
      "Saving segment 70 to /external2/datasets/soccer/final_chunks/segment_70.wav...\n",
      "Saving segment 71 to /external2/datasets/soccer/final_chunks/segment_71.wav...\n",
      "Saving segment 72 to /external2/datasets/soccer/final_chunks/segment_72.wav...\n",
      "Saving segment 73 to /external2/datasets/soccer/final_chunks/segment_73.wav...\n",
      "Saving segment 74 to /external2/datasets/soccer/final_chunks/segment_74.wav...\n",
      "Saving segment 75 to /external2/datasets/soccer/final_chunks/segment_75.wav...\n",
      "Saving segment 76 to /external2/datasets/soccer/final_chunks/segment_76.wav...\n",
      "Saving segment 77 to /external2/datasets/soccer/final_chunks/segment_77.wav...\n",
      "Saving segment 78 to /external2/datasets/soccer/final_chunks/segment_78.wav...\n",
      "Saving segment 79 to /external2/datasets/soccer/final_chunks/segment_79.wav...\n",
      "Saving segment 80 to /external2/datasets/soccer/final_chunks/segment_80.wav...\n",
      "Saving segment 81 to /external2/datasets/soccer/final_chunks/segment_81.wav...\n",
      "Saving segment 82 to /external2/datasets/soccer/final_chunks/segment_82.wav...\n",
      "Saving segment 83 to /external2/datasets/soccer/final_chunks/segment_83.wav...\n",
      "Saving segment 84 to /external2/datasets/soccer/final_chunks/segment_84.wav...\n",
      "Saving segment 85 to /external2/datasets/soccer/final_chunks/segment_85.wav...\n",
      "Saving segment 86 to /external2/datasets/soccer/final_chunks/segment_86.wav...\n",
      "Saving segment 87 to /external2/datasets/soccer/final_chunks/segment_87.wav...\n",
      "Saving segment 88 to /external2/datasets/soccer/final_chunks/segment_88.wav...\n",
      "Saving segment 89 to /external2/datasets/soccer/final_chunks/segment_89.wav...\n",
      "Saving segment 90 to /external2/datasets/soccer/final_chunks/segment_90.wav...\n",
      "Saving segment 91 to /external2/datasets/soccer/final_chunks/segment_91.wav...\n",
      "Saving segment 92 to /external2/datasets/soccer/final_chunks/segment_92.wav...\n",
      "Saving segment 93 to /external2/datasets/soccer/final_chunks/segment_93.wav...\n",
      "Saving segment 94 to /external2/datasets/soccer/final_chunks/segment_94.wav...\n",
      "Saving segment 95 to /external2/datasets/soccer/final_chunks/segment_95.wav...\n",
      "Saving segment 96 to /external2/datasets/soccer/final_chunks/segment_96.wav...\n",
      "Saving segment 97 to /external2/datasets/soccer/final_chunks/segment_97.wav...\n",
      "Saving segment 98 to /external2/datasets/soccer/final_chunks/segment_98.wav...\n",
      "Saving segment 99 to /external2/datasets/soccer/final_chunks/segment_99.wav...\n",
      "Saving segment 100 to /external2/datasets/soccer/final_chunks/segment_100.wav...\n",
      "Saving segment 101 to /external2/datasets/soccer/final_chunks/segment_101.wav...\n",
      "Saving segment 102 to /external2/datasets/soccer/final_chunks/segment_102.wav...\n",
      "Saving segment 103 to /external2/datasets/soccer/final_chunks/segment_103.wav...\n",
      "Saving segment 104 to /external2/datasets/soccer/final_chunks/segment_104.wav...\n",
      "Saving segment 105 to /external2/datasets/soccer/final_chunks/segment_105.wav...\n",
      "Saving segment 106 to /external2/datasets/soccer/final_chunks/segment_106.wav...\n",
      "Saving segment 107 to /external2/datasets/soccer/final_chunks/segment_107.wav...\n",
      "Saving segment 108 to /external2/datasets/soccer/final_chunks/segment_108.wav...\n",
      "Saving segment 109 to /external2/datasets/soccer/final_chunks/segment_109.wav...\n",
      "Saving segment 110 to /external2/datasets/soccer/final_chunks/segment_110.wav...\n",
      "Saving segment 111 to /external2/datasets/soccer/final_chunks/segment_111.wav...\n",
      "Saving segment 112 to /external2/datasets/soccer/final_chunks/segment_112.wav...\n",
      "Saving segment 113 to /external2/datasets/soccer/final_chunks/segment_113.wav...\n",
      "Saving segment 114 to /external2/datasets/soccer/final_chunks/segment_114.wav...\n",
      "Saving segment 115 to /external2/datasets/soccer/final_chunks/segment_115.wav...\n",
      "Saving segment 116 to /external2/datasets/soccer/final_chunks/segment_116.wav...\n",
      "Saving segment 117 to /external2/datasets/soccer/final_chunks/segment_117.wav...\n",
      "Saving segment 118 to /external2/datasets/soccer/final_chunks/segment_118.wav...\n",
      "Saving segment 119 to /external2/datasets/soccer/final_chunks/segment_119.wav...\n",
      "Saving segment 120 to /external2/datasets/soccer/final_chunks/segment_120.wav...\n",
      "Saving segment 121 to /external2/datasets/soccer/final_chunks/segment_121.wav...\n",
      "Saving segment 122 to /external2/datasets/soccer/final_chunks/segment_122.wav...\n",
      "Saving segment 123 to /external2/datasets/soccer/final_chunks/segment_123.wav...\n",
      "Saving segment 124 to /external2/datasets/soccer/final_chunks/segment_124.wav...\n",
      "Saving segment 125 to /external2/datasets/soccer/final_chunks/segment_125.wav...\n",
      "Saving segment 126 to /external2/datasets/soccer/final_chunks/segment_126.wav...\n",
      "Saving segment 127 to /external2/datasets/soccer/final_chunks/segment_127.wav...\n",
      "Saving segment 128 to /external2/datasets/soccer/final_chunks/segment_128.wav...\n",
      "Saving segment 129 to /external2/datasets/soccer/final_chunks/segment_129.wav...\n",
      "Saving segment 130 to /external2/datasets/soccer/final_chunks/segment_130.wav...\n",
      "Saving segment 131 to /external2/datasets/soccer/final_chunks/segment_131.wav...\n",
      "Saving segment 132 to /external2/datasets/soccer/final_chunks/segment_132.wav...\n",
      "Saving segment 133 to /external2/datasets/soccer/final_chunks/segment_133.wav...\n",
      "Saving segment 134 to /external2/datasets/soccer/final_chunks/segment_134.wav...\n",
      "Saving segment 135 to /external2/datasets/soccer/final_chunks/segment_135.wav...\n",
      "Saving segment 136 to /external2/datasets/soccer/final_chunks/segment_136.wav...\n",
      "Saving segment 137 to /external2/datasets/soccer/final_chunks/segment_137.wav...\n",
      "Saving segment 138 to /external2/datasets/soccer/final_chunks/segment_138.wav...\n",
      "Saving segment 139 to /external2/datasets/soccer/final_chunks/segment_139.wav...\n",
      "Saving segment 140 to /external2/datasets/soccer/final_chunks/segment_140.wav...\n",
      "Saving segment 141 to /external2/datasets/soccer/final_chunks/segment_141.wav...\n",
      "Saving segment 142 to /external2/datasets/soccer/final_chunks/segment_142.wav...\n",
      "Saving segment 143 to /external2/datasets/soccer/final_chunks/segment_143.wav...\n",
      "Saving segment 144 to /external2/datasets/soccer/final_chunks/segment_144.wav...\n",
      "Saving segment 145 to /external2/datasets/soccer/final_chunks/segment_145.wav...\n",
      "Saving segment 146 to /external2/datasets/soccer/final_chunks/segment_146.wav...\n",
      "Saving segment 147 to /external2/datasets/soccer/final_chunks/segment_147.wav...\n",
      "Saving segment 148 to /external2/datasets/soccer/final_chunks/segment_148.wav...\n",
      "Saving segment 149 to /external2/datasets/soccer/final_chunks/segment_149.wav...\n",
      "Saving segment 150 to /external2/datasets/soccer/final_chunks/segment_150.wav...\n",
      "Saving segment 151 to /external2/datasets/soccer/final_chunks/segment_151.wav...\n",
      "Saving segment 152 to /external2/datasets/soccer/final_chunks/segment_152.wav...\n",
      "Saving segment 153 to /external2/datasets/soccer/final_chunks/segment_153.wav...\n",
      "Saving segment 154 to /external2/datasets/soccer/final_chunks/segment_154.wav...\n",
      "Saving segment 155 to /external2/datasets/soccer/final_chunks/segment_155.wav...\n",
      "Saving segment 156 to /external2/datasets/soccer/final_chunks/segment_156.wav...\n",
      "Saving segment 157 to /external2/datasets/soccer/final_chunks/segment_157.wav...\n",
      "Saving segment 158 to /external2/datasets/soccer/final_chunks/segment_158.wav...\n",
      "Saving segment 159 to /external2/datasets/soccer/final_chunks/segment_159.wav...\n",
      "Saving segment 160 to /external2/datasets/soccer/final_chunks/segment_160.wav...\n",
      "Saving segment 161 to /external2/datasets/soccer/final_chunks/segment_161.wav...\n",
      "Saving segment 162 to /external2/datasets/soccer/final_chunks/segment_162.wav...\n",
      "Saving segment 163 to /external2/datasets/soccer/final_chunks/segment_163.wav...\n",
      "Saving segment 164 to /external2/datasets/soccer/final_chunks/segment_164.wav...\n",
      "Saving segment 165 to /external2/datasets/soccer/final_chunks/segment_165.wav...\n",
      "Saving segment 166 to /external2/datasets/soccer/final_chunks/segment_166.wav...\n",
      "Saving segment 167 to /external2/datasets/soccer/final_chunks/segment_167.wav...\n",
      "Saving segment 168 to /external2/datasets/soccer/final_chunks/segment_168.wav...\n",
      "Saving segment 169 to /external2/datasets/soccer/final_chunks/segment_169.wav...\n",
      "Saving segment 170 to /external2/datasets/soccer/final_chunks/segment_170.wav...\n",
      "Saving segment 171 to /external2/datasets/soccer/final_chunks/segment_171.wav...\n",
      "Saving segment 172 to /external2/datasets/soccer/final_chunks/segment_172.wav...\n",
      "Saving segment 173 to /external2/datasets/soccer/final_chunks/segment_173.wav...\n",
      "Saving segment 174 to /external2/datasets/soccer/final_chunks/segment_174.wav...\n",
      "Saving segment 175 to /external2/datasets/soccer/final_chunks/segment_175.wav...\n",
      "Saving segment 176 to /external2/datasets/soccer/final_chunks/segment_176.wav...\n",
      "Saving segment 177 to /external2/datasets/soccer/final_chunks/segment_177.wav...\n",
      "Saving segment 178 to /external2/datasets/soccer/final_chunks/segment_178.wav...\n",
      "Saving segment 179 to /external2/datasets/soccer/final_chunks/segment_179.wav...\n",
      "Saving segment 180 to /external2/datasets/soccer/final_chunks/segment_180.wav...\n",
      "Saving segment 181 to /external2/datasets/soccer/final_chunks/segment_181.wav...\n",
      "Saving segment 182 to /external2/datasets/soccer/final_chunks/segment_182.wav...\n",
      "Saving segment 183 to /external2/datasets/soccer/final_chunks/segment_183.wav...\n",
      "Saving segment 184 to /external2/datasets/soccer/final_chunks/segment_184.wav...\n",
      "Saving segment 185 to /external2/datasets/soccer/final_chunks/segment_185.wav...\n",
      "Saving segment 186 to /external2/datasets/soccer/final_chunks/segment_186.wav...\n",
      "Saving segment 187 to /external2/datasets/soccer/final_chunks/segment_187.wav...\n",
      "Saving segment 188 to /external2/datasets/soccer/final_chunks/segment_188.wav...\n",
      "Saving segment 189 to /external2/datasets/soccer/final_chunks/segment_189.wav...\n",
      "Saving segment 190 to /external2/datasets/soccer/final_chunks/segment_190.wav...\n",
      "Saving segment 191 to /external2/datasets/soccer/final_chunks/segment_191.wav...\n",
      "Saving segment 192 to /external2/datasets/soccer/final_chunks/segment_192.wav...\n",
      "Saving segment 193 to /external2/datasets/soccer/final_chunks/segment_193.wav...\n",
      "Saving segment 194 to /external2/datasets/soccer/final_chunks/segment_194.wav...\n",
      "Saving segment 195 to /external2/datasets/soccer/final_chunks/segment_195.wav...\n",
      "Saving segment 196 to /external2/datasets/soccer/final_chunks/segment_196.wav...\n",
      "Saving segment 197 to /external2/datasets/soccer/final_chunks/segment_197.wav...\n",
      "Saving segment 198 to /external2/datasets/soccer/final_chunks/segment_198.wav...\n",
      "Saving segment 199 to /external2/datasets/soccer/final_chunks/segment_199.wav...\n",
      "Saving segment 200 to /external2/datasets/soccer/final_chunks/segment_200.wav...\n",
      "Saving segment 201 to /external2/datasets/soccer/final_chunks/segment_201.wav...\n",
      "Saving segment 202 to /external2/datasets/soccer/final_chunks/segment_202.wav...\n",
      "Saving segment 203 to /external2/datasets/soccer/final_chunks/segment_203.wav...\n",
      "Saving segment 204 to /external2/datasets/soccer/final_chunks/segment_204.wav...\n",
      "Saving segment 205 to /external2/datasets/soccer/final_chunks/segment_205.wav...\n",
      "Saving segment 206 to /external2/datasets/soccer/final_chunks/segment_206.wav...\n",
      "Saving segment 207 to /external2/datasets/soccer/final_chunks/segment_207.wav...\n",
      "Saving segment 208 to /external2/datasets/soccer/final_chunks/segment_208.wav...\n",
      "Saving segment 209 to /external2/datasets/soccer/final_chunks/segment_209.wav...\n",
      "Saving segment 210 to /external2/datasets/soccer/final_chunks/segment_210.wav...\n",
      "Saving segment 211 to /external2/datasets/soccer/final_chunks/segment_211.wav...\n",
      "Saving segment 212 to /external2/datasets/soccer/final_chunks/segment_212.wav...\n",
      "Saving segment 213 to /external2/datasets/soccer/final_chunks/segment_213.wav...\n",
      "Saving segment 214 to /external2/datasets/soccer/final_chunks/segment_214.wav...\n",
      "Saving segment 215 to /external2/datasets/soccer/final_chunks/segment_215.wav...\n",
      "Saving segment 216 to /external2/datasets/soccer/final_chunks/segment_216.wav...\n",
      "Saving segment 217 to /external2/datasets/soccer/final_chunks/segment_217.wav...\n",
      "Saving segment 218 to /external2/datasets/soccer/final_chunks/segment_218.wav...\n",
      "Saving segment 219 to /external2/datasets/soccer/final_chunks/segment_219.wav...\n",
      "Saving segment 220 to /external2/datasets/soccer/final_chunks/segment_220.wav...\n",
      "Saving segment 221 to /external2/datasets/soccer/final_chunks/segment_221.wav...\n",
      "Saving segment 222 to /external2/datasets/soccer/final_chunks/segment_222.wav...\n",
      "Saving segment 223 to /external2/datasets/soccer/final_chunks/segment_223.wav...\n",
      "Saving segment 224 to /external2/datasets/soccer/final_chunks/segment_224.wav...\n",
      "Saving segment 225 to /external2/datasets/soccer/final_chunks/segment_225.wav...\n",
      "Saving segment 226 to /external2/datasets/soccer/final_chunks/segment_226.wav...\n",
      "Saving segment 227 to /external2/datasets/soccer/final_chunks/segment_227.wav...\n",
      "Saving segment 228 to /external2/datasets/soccer/final_chunks/segment_228.wav...\n",
      "Saving segment 229 to /external2/datasets/soccer/final_chunks/segment_229.wav...\n",
      "Saving segment 230 to /external2/datasets/soccer/final_chunks/segment_230.wav...\n",
      "Saving segment 231 to /external2/datasets/soccer/final_chunks/segment_231.wav...\n",
      "Saving segment 232 to /external2/datasets/soccer/final_chunks/segment_232.wav...\n",
      "Saving segment 233 to /external2/datasets/soccer/final_chunks/segment_233.wav...\n",
      "Saving segment 234 to /external2/datasets/soccer/final_chunks/segment_234.wav...\n",
      "Saving segment 235 to /external2/datasets/soccer/final_chunks/segment_235.wav...\n",
      "Saving segment 236 to /external2/datasets/soccer/final_chunks/segment_236.wav...\n",
      "Saving segment 237 to /external2/datasets/soccer/final_chunks/segment_237.wav...\n",
      "Saving segment 238 to /external2/datasets/soccer/final_chunks/segment_238.wav...\n",
      "Saving segment 239 to /external2/datasets/soccer/final_chunks/segment_239.wav...\n",
      "Saving segment 240 to /external2/datasets/soccer/final_chunks/segment_240.wav...\n",
      "Saving segment 241 to /external2/datasets/soccer/final_chunks/segment_241.wav...\n",
      "Saving segment 242 to /external2/datasets/soccer/final_chunks/segment_242.wav...\n",
      "Saving segment 243 to /external2/datasets/soccer/final_chunks/segment_243.wav...\n",
      "Saving segment 244 to /external2/datasets/soccer/final_chunks/segment_244.wav...\n",
      "Saving segment 245 to /external2/datasets/soccer/final_chunks/segment_245.wav...\n",
      "Saving segment 246 to /external2/datasets/soccer/final_chunks/segment_246.wav...\n",
      "Saving segment 247 to /external2/datasets/soccer/final_chunks/segment_247.wav...\n",
      "Saving segment 248 to /external2/datasets/soccer/final_chunks/segment_248.wav...\n",
      "Saving segment 249 to /external2/datasets/soccer/final_chunks/segment_249.wav...\n",
      "Saving segment 250 to /external2/datasets/soccer/final_chunks/segment_250.wav...\n",
      "Saving segment 251 to /external2/datasets/soccer/final_chunks/segment_251.wav...\n",
      "Saving segment 252 to /external2/datasets/soccer/final_chunks/segment_252.wav...\n",
      "Saving segment 253 to /external2/datasets/soccer/final_chunks/segment_253.wav...\n",
      "Saving segment 254 to /external2/datasets/soccer/final_chunks/segment_254.wav...\n",
      "Saving segment 255 to /external2/datasets/soccer/final_chunks/segment_255.wav...\n",
      "Saving segment 256 to /external2/datasets/soccer/final_chunks/segment_256.wav...\n",
      "Saving segment 257 to /external2/datasets/soccer/final_chunks/segment_257.wav...\n",
      "Saving segment 258 to /external2/datasets/soccer/final_chunks/segment_258.wav...\n",
      "Saving segment 259 to /external2/datasets/soccer/final_chunks/segment_259.wav...\n",
      "Saving segment 260 to /external2/datasets/soccer/final_chunks/segment_260.wav...\n",
      "Saving segment 261 to /external2/datasets/soccer/final_chunks/segment_261.wav...\n",
      "Saving segment 262 to /external2/datasets/soccer/final_chunks/segment_262.wav...\n",
      "Saving segment 263 to /external2/datasets/soccer/final_chunks/segment_263.wav...\n",
      "Saving segment 264 to /external2/datasets/soccer/final_chunks/segment_264.wav...\n",
      "Saving segment 265 to /external2/datasets/soccer/final_chunks/segment_265.wav...\n",
      "Saving segment 266 to /external2/datasets/soccer/final_chunks/segment_266.wav...\n",
      "Saving segment 267 to /external2/datasets/soccer/final_chunks/segment_267.wav...\n",
      "Saving segment 268 to /external2/datasets/soccer/final_chunks/segment_268.wav...\n",
      "Saving segment 269 to /external2/datasets/soccer/final_chunks/segment_269.wav...\n",
      "Saving segment 270 to /external2/datasets/soccer/final_chunks/segment_270.wav...\n",
      "Saving segment 271 to /external2/datasets/soccer/final_chunks/segment_271.wav...\n",
      "Saving segment 272 to /external2/datasets/soccer/final_chunks/segment_272.wav...\n",
      "Saving segment 273 to /external2/datasets/soccer/final_chunks/segment_273.wav...\n",
      "Saving segment 274 to /external2/datasets/soccer/final_chunks/segment_274.wav...\n",
      "Saving segment 275 to /external2/datasets/soccer/final_chunks/segment_275.wav...\n",
      "Saving segment 276 to /external2/datasets/soccer/final_chunks/segment_276.wav...\n",
      "Saving segment 277 to /external2/datasets/soccer/final_chunks/segment_277.wav...\n",
      "Saving segment 278 to /external2/datasets/soccer/final_chunks/segment_278.wav...\n",
      "Saving segment 279 to /external2/datasets/soccer/final_chunks/segment_279.wav...\n",
      "Saving segment 280 to /external2/datasets/soccer/final_chunks/segment_280.wav...\n",
      "Saving segment 281 to /external2/datasets/soccer/final_chunks/segment_281.wav...\n",
      "Saving segment 282 to /external2/datasets/soccer/final_chunks/segment_282.wav...\n",
      "Saving segment 283 to /external2/datasets/soccer/final_chunks/segment_283.wav...\n",
      "Saving segment 284 to /external2/datasets/soccer/final_chunks/segment_284.wav...\n",
      "Saving segment 285 to /external2/datasets/soccer/final_chunks/segment_285.wav...\n",
      "Saving segment 286 to /external2/datasets/soccer/final_chunks/segment_286.wav...\n",
      "Saving segment 287 to /external2/datasets/soccer/final_chunks/segment_287.wav...\n",
      "Saving segment 288 to /external2/datasets/soccer/final_chunks/segment_288.wav...\n",
      "Saving segment 289 to /external2/datasets/soccer/final_chunks/segment_289.wav...\n",
      "Saving segment 290 to /external2/datasets/soccer/final_chunks/segment_290.wav...\n",
      "Saving segment 291 to /external2/datasets/soccer/final_chunks/segment_291.wav...\n",
      "Saving segment 292 to /external2/datasets/soccer/final_chunks/segment_292.wav...\n",
      "Saving segment 293 to /external2/datasets/soccer/final_chunks/segment_293.wav...\n",
      "Saving segment 294 to /external2/datasets/soccer/final_chunks/segment_294.wav...\n",
      "Saving segment 295 to /external2/datasets/soccer/final_chunks/segment_295.wav...\n",
      "Saving segment 296 to /external2/datasets/soccer/final_chunks/segment_296.wav...\n",
      "Saving segment 297 to /external2/datasets/soccer/final_chunks/segment_297.wav...\n",
      "Saving segment 298 to /external2/datasets/soccer/final_chunks/segment_298.wav...\n",
      "Saving segment 299 to /external2/datasets/soccer/final_chunks/segment_299.wav...\n",
      "Saving segment 300 to /external2/datasets/soccer/final_chunks/segment_300.wav...\n",
      "Saving segment 301 to /external2/datasets/soccer/final_chunks/segment_301.wav...\n",
      "Saving segment 302 to /external2/datasets/soccer/final_chunks/segment_302.wav...\n",
      "Saving segment 303 to /external2/datasets/soccer/final_chunks/segment_303.wav...\n",
      "Saving segment 304 to /external2/datasets/soccer/final_chunks/segment_304.wav...\n",
      "Saving segment 305 to /external2/datasets/soccer/final_chunks/segment_305.wav...\n",
      "Saving segment 306 to /external2/datasets/soccer/final_chunks/segment_306.wav...\n",
      "Saving segment 307 to /external2/datasets/soccer/final_chunks/segment_307.wav...\n",
      "Saving segment 308 to /external2/datasets/soccer/final_chunks/segment_308.wav...\n",
      "Saving segment 309 to /external2/datasets/soccer/final_chunks/segment_309.wav...\n",
      "Saving segment 310 to /external2/datasets/soccer/final_chunks/segment_310.wav...\n",
      "Saving segment 311 to /external2/datasets/soccer/final_chunks/segment_311.wav...\n",
      "Saving segment 312 to /external2/datasets/soccer/final_chunks/segment_312.wav...\n",
      "Saving segment 313 to /external2/datasets/soccer/final_chunks/segment_313.wav...\n",
      "Saving segment 314 to /external2/datasets/soccer/final_chunks/segment_314.wav...\n",
      "Saving segment 315 to /external2/datasets/soccer/final_chunks/segment_315.wav...\n",
      "Saving segment 316 to /external2/datasets/soccer/final_chunks/segment_316.wav...\n",
      "Saving segment 317 to /external2/datasets/soccer/final_chunks/segment_317.wav...\n",
      "Saving segment 318 to /external2/datasets/soccer/final_chunks/segment_318.wav...\n",
      "Saving segment 319 to /external2/datasets/soccer/final_chunks/segment_319.wav...\n",
      "Saving segment 320 to /external2/datasets/soccer/final_chunks/segment_320.wav...\n",
      "Saving segment 321 to /external2/datasets/soccer/final_chunks/segment_321.wav...\n",
      "Saving segment 322 to /external2/datasets/soccer/final_chunks/segment_322.wav...\n",
      "Saving segment 323 to /external2/datasets/soccer/final_chunks/segment_323.wav...\n",
      "Saving segment 324 to /external2/datasets/soccer/final_chunks/segment_324.wav...\n",
      "Saving segment 325 to /external2/datasets/soccer/final_chunks/segment_325.wav...\n",
      "Saving segment 326 to /external2/datasets/soccer/final_chunks/segment_326.wav...\n",
      "Saving segment 327 to /external2/datasets/soccer/final_chunks/segment_327.wav...\n",
      "Saving segment 328 to /external2/datasets/soccer/final_chunks/segment_328.wav...\n",
      "Saving segment 329 to /external2/datasets/soccer/final_chunks/segment_329.wav...\n",
      "Saving segment 330 to /external2/datasets/soccer/final_chunks/segment_330.wav...\n",
      "Saving segment 331 to /external2/datasets/soccer/final_chunks/segment_331.wav...\n",
      "Saving segment 332 to /external2/datasets/soccer/final_chunks/segment_332.wav...\n",
      "Saving segment 333 to /external2/datasets/soccer/final_chunks/segment_333.wav...\n",
      "Saving segment 334 to /external2/datasets/soccer/final_chunks/segment_334.wav...\n",
      "Saving segment 335 to /external2/datasets/soccer/final_chunks/segment_335.wav...\n",
      "Saving segment 336 to /external2/datasets/soccer/final_chunks/segment_336.wav...\n",
      "Saving segment 337 to /external2/datasets/soccer/final_chunks/segment_337.wav...\n",
      "Saving segment 338 to /external2/datasets/soccer/final_chunks/segment_338.wav...\n",
      "Saving segment 339 to /external2/datasets/soccer/final_chunks/segment_339.wav...\n",
      "Saving segment 340 to /external2/datasets/soccer/final_chunks/segment_340.wav...\n",
      "Saving segment 341 to /external2/datasets/soccer/final_chunks/segment_341.wav...\n",
      "Saving segment 342 to /external2/datasets/soccer/final_chunks/segment_342.wav...\n",
      "Saving segment 343 to /external2/datasets/soccer/final_chunks/segment_343.wav...\n",
      "Saving segment 344 to /external2/datasets/soccer/final_chunks/segment_344.wav...\n",
      "Saving segment 345 to /external2/datasets/soccer/final_chunks/segment_345.wav...\n",
      "Saving segment 346 to /external2/datasets/soccer/final_chunks/segment_346.wav...\n",
      "Saving segment 347 to /external2/datasets/soccer/final_chunks/segment_347.wav...\n",
      "Saving segment 348 to /external2/datasets/soccer/final_chunks/segment_348.wav...\n",
      "Saving segment 349 to /external2/datasets/soccer/final_chunks/segment_349.wav...\n",
      "Saving segment 350 to /external2/datasets/soccer/final_chunks/segment_350.wav...\n",
      "Saving segment 351 to /external2/datasets/soccer/final_chunks/segment_351.wav...\n",
      "Saving segment 352 to /external2/datasets/soccer/final_chunks/segment_352.wav...\n",
      "Saving segment 353 to /external2/datasets/soccer/final_chunks/segment_353.wav...\n",
      "Saving segment 354 to /external2/datasets/soccer/final_chunks/segment_354.wav...\n",
      "Saving segment 355 to /external2/datasets/soccer/final_chunks/segment_355.wav...\n",
      "Saving segment 356 to /external2/datasets/soccer/final_chunks/segment_356.wav...\n",
      "Saving segment 357 to /external2/datasets/soccer/final_chunks/segment_357.wav...\n",
      "Saving segment 358 to /external2/datasets/soccer/final_chunks/segment_358.wav...\n",
      "Saving segment 359 to /external2/datasets/soccer/final_chunks/segment_359.wav...\n",
      "Saving segment 360 to /external2/datasets/soccer/final_chunks/segment_360.wav...\n",
      "Saving segment 361 to /external2/datasets/soccer/final_chunks/segment_361.wav...\n",
      "Saving segment 362 to /external2/datasets/soccer/final_chunks/segment_362.wav...\n",
      "Saving segment 363 to /external2/datasets/soccer/final_chunks/segment_363.wav...\n",
      "Saving segment 364 to /external2/datasets/soccer/final_chunks/segment_364.wav...\n",
      "Saving segment 365 to /external2/datasets/soccer/final_chunks/segment_365.wav...\n",
      "Saving segment 366 to /external2/datasets/soccer/final_chunks/segment_366.wav...\n",
      "Saving segment 367 to /external2/datasets/soccer/final_chunks/segment_367.wav...\n",
      "Saving segment 368 to /external2/datasets/soccer/final_chunks/segment_368.wav...\n",
      "Saving segment 369 to /external2/datasets/soccer/final_chunks/segment_369.wav...\n",
      "Saving segment 370 to /external2/datasets/soccer/final_chunks/segment_370.wav...\n",
      "Saving segment 371 to /external2/datasets/soccer/final_chunks/segment_371.wav...\n",
      "Saving segment 372 to /external2/datasets/soccer/final_chunks/segment_372.wav...\n",
      "Saving segment 373 to /external2/datasets/soccer/final_chunks/segment_373.wav...\n",
      "Saving segment 374 to /external2/datasets/soccer/final_chunks/segment_374.wav...\n",
      "Saving segment 375 to /external2/datasets/soccer/final_chunks/segment_375.wav...\n",
      "Saving segment 376 to /external2/datasets/soccer/final_chunks/segment_376.wav...\n",
      "Saving segment 377 to /external2/datasets/soccer/final_chunks/segment_377.wav...\n",
      "Saving segment 378 to /external2/datasets/soccer/final_chunks/segment_378.wav...\n",
      "Saving segment 379 to /external2/datasets/soccer/final_chunks/segment_379.wav...\n",
      "Saving segment 380 to /external2/datasets/soccer/final_chunks/segment_380.wav...\n",
      "Saving segment 381 to /external2/datasets/soccer/final_chunks/segment_381.wav...\n",
      "Saving segment 382 to /external2/datasets/soccer/final_chunks/segment_382.wav...\n",
      "Saving segment 383 to /external2/datasets/soccer/final_chunks/segment_383.wav...\n",
      "Saving segment 384 to /external2/datasets/soccer/final_chunks/segment_384.wav...\n",
      "Saving segment 385 to /external2/datasets/soccer/final_chunks/segment_385.wav...\n",
      "Saving segment 386 to /external2/datasets/soccer/final_chunks/segment_386.wav...\n",
      "Saving segment 387 to /external2/datasets/soccer/final_chunks/segment_387.wav...\n",
      "Saving segment 388 to /external2/datasets/soccer/final_chunks/segment_388.wav...\n",
      "Saving segment 389 to /external2/datasets/soccer/final_chunks/segment_389.wav...\n",
      "Saving segment 390 to /external2/datasets/soccer/final_chunks/segment_390.wav...\n",
      "Saving segment 391 to /external2/datasets/soccer/final_chunks/segment_391.wav...\n",
      "Saving segment 392 to /external2/datasets/soccer/final_chunks/segment_392.wav...\n",
      "Saving segment 393 to /external2/datasets/soccer/final_chunks/segment_393.wav...\n",
      "Saving segment 394 to /external2/datasets/soccer/final_chunks/segment_394.wav...\n",
      "Saving segment 395 to /external2/datasets/soccer/final_chunks/segment_395.wav...\n",
      "Saving segment 396 to /external2/datasets/soccer/final_chunks/segment_396.wav...\n",
      "Saving segment 397 to /external2/datasets/soccer/final_chunks/segment_397.wav...\n",
      "Saving segment 398 to /external2/datasets/soccer/final_chunks/segment_398.wav...\n",
      "Saving segment 399 to /external2/datasets/soccer/final_chunks/segment_399.wav...\n",
      "Saving segment 400 to /external2/datasets/soccer/final_chunks/segment_400.wav...\n",
      "Saving segment 401 to /external2/datasets/soccer/final_chunks/segment_401.wav...\n",
      "Saving segment 402 to /external2/datasets/soccer/final_chunks/segment_402.wav...\n",
      "Saving segment 403 to /external2/datasets/soccer/final_chunks/segment_403.wav...\n",
      "Saving segment 404 to /external2/datasets/soccer/final_chunks/segment_404.wav...\n",
      "Saving segment 405 to /external2/datasets/soccer/final_chunks/segment_405.wav...\n",
      "Saving segment 406 to /external2/datasets/soccer/final_chunks/segment_406.wav...\n",
      "Saving segment 407 to /external2/datasets/soccer/final_chunks/segment_407.wav...\n",
      "Saving segment 408 to /external2/datasets/soccer/final_chunks/segment_408.wav...\n",
      "Saving segment 409 to /external2/datasets/soccer/final_chunks/segment_409.wav...\n",
      "Saving segment 410 to /external2/datasets/soccer/final_chunks/segment_410.wav...\n",
      "Saving segment 411 to /external2/datasets/soccer/final_chunks/segment_411.wav...\n",
      "Saving segment 412 to /external2/datasets/soccer/final_chunks/segment_412.wav...\n",
      "Saving segment 413 to /external2/datasets/soccer/final_chunks/segment_413.wav...\n",
      "Saving segment 414 to /external2/datasets/soccer/final_chunks/segment_414.wav...\n",
      "Saving segment 415 to /external2/datasets/soccer/final_chunks/segment_415.wav...\n",
      "Saving segment 416 to /external2/datasets/soccer/final_chunks/segment_416.wav...\n",
      "Saving segment 417 to /external2/datasets/soccer/final_chunks/segment_417.wav...\n",
      "Saving segment 418 to /external2/datasets/soccer/final_chunks/segment_418.wav...\n",
      "Saving segment 419 to /external2/datasets/soccer/final_chunks/segment_419.wav...\n",
      "Saving segment 420 to /external2/datasets/soccer/final_chunks/segment_420.wav...\n",
      "Saving segment 421 to /external2/datasets/soccer/final_chunks/segment_421.wav...\n",
      "Saving segment 422 to /external2/datasets/soccer/final_chunks/segment_422.wav...\n",
      "Saving segment 423 to /external2/datasets/soccer/final_chunks/segment_423.wav...\n",
      "Saving segment 424 to /external2/datasets/soccer/final_chunks/segment_424.wav...\n",
      "Saving segment 425 to /external2/datasets/soccer/final_chunks/segment_425.wav...\n",
      "Saving segment 426 to /external2/datasets/soccer/final_chunks/segment_426.wav...\n",
      "Saving segment 427 to /external2/datasets/soccer/final_chunks/segment_427.wav...\n",
      "Saving segment 428 to /external2/datasets/soccer/final_chunks/segment_428.wav...\n",
      "Saving segment 429 to /external2/datasets/soccer/final_chunks/segment_429.wav...\n",
      "Saving segment 430 to /external2/datasets/soccer/final_chunks/segment_430.wav...\n",
      "Saving segment 431 to /external2/datasets/soccer/final_chunks/segment_431.wav...\n",
      "Saving segment 432 to /external2/datasets/soccer/final_chunks/segment_432.wav...\n",
      "Saving segment 433 to /external2/datasets/soccer/final_chunks/segment_433.wav...\n",
      "Saving segment 434 to /external2/datasets/soccer/final_chunks/segment_434.wav...\n",
      "Saving segment 435 to /external2/datasets/soccer/final_chunks/segment_435.wav...\n",
      "Saving segment 436 to /external2/datasets/soccer/final_chunks/segment_436.wav...\n",
      "Saving segment 437 to /external2/datasets/soccer/final_chunks/segment_437.wav...\n",
      "Saving segment 438 to /external2/datasets/soccer/final_chunks/segment_438.wav...\n",
      "Saving segment 439 to /external2/datasets/soccer/final_chunks/segment_439.wav...\n",
      "Saving segment 440 to /external2/datasets/soccer/final_chunks/segment_440.wav...\n",
      "Saving segment 441 to /external2/datasets/soccer/final_chunks/segment_441.wav...\n",
      "Saving segment 442 to /external2/datasets/soccer/final_chunks/segment_442.wav...\n",
      "Saving segment 443 to /external2/datasets/soccer/final_chunks/segment_443.wav...\n",
      "Saving segment 444 to /external2/datasets/soccer/final_chunks/segment_444.wav...\n",
      "Saving segment 445 to /external2/datasets/soccer/final_chunks/segment_445.wav...\n",
      "Saving segment 446 to /external2/datasets/soccer/final_chunks/segment_446.wav...\n",
      "Saving segment 447 to /external2/datasets/soccer/final_chunks/segment_447.wav...\n",
      "Saving segment 448 to /external2/datasets/soccer/final_chunks/segment_448.wav...\n",
      "Saving segment 449 to /external2/datasets/soccer/final_chunks/segment_449.wav...\n",
      "Saving segment 450 to /external2/datasets/soccer/final_chunks/segment_450.wav...\n",
      "Saving segment 451 to /external2/datasets/soccer/final_chunks/segment_451.wav...\n",
      "Saving segment 452 to /external2/datasets/soccer/final_chunks/segment_452.wav...\n",
      "Saving segment 453 to /external2/datasets/soccer/final_chunks/segment_453.wav...\n",
      "Saving segment 454 to /external2/datasets/soccer/final_chunks/segment_454.wav...\n",
      "Saving segment 455 to /external2/datasets/soccer/final_chunks/segment_455.wav...\n",
      "Saving segment 456 to /external2/datasets/soccer/final_chunks/segment_456.wav...\n",
      "Saving segment 457 to /external2/datasets/soccer/final_chunks/segment_457.wav...\n",
      "Saving segment 458 to /external2/datasets/soccer/final_chunks/segment_458.wav...\n",
      "Saving segment 459 to /external2/datasets/soccer/final_chunks/segment_459.wav...\n",
      "Saving segment 460 to /external2/datasets/soccer/final_chunks/segment_460.wav...\n",
      "Saving segment 461 to /external2/datasets/soccer/final_chunks/segment_461.wav...\n",
      "Saving segment 462 to /external2/datasets/soccer/final_chunks/segment_462.wav...\n",
      "Saving segment 463 to /external2/datasets/soccer/final_chunks/segment_463.wav...\n",
      "Saving segment 464 to /external2/datasets/soccer/final_chunks/segment_464.wav...\n",
      "Saving segment 465 to /external2/datasets/soccer/final_chunks/segment_465.wav...\n",
      "Saving segment 466 to /external2/datasets/soccer/final_chunks/segment_466.wav...\n",
      "Saving segment 467 to /external2/datasets/soccer/final_chunks/segment_467.wav...\n",
      "Saving segment 468 to /external2/datasets/soccer/final_chunks/segment_468.wav...\n",
      "Saving segment 469 to /external2/datasets/soccer/final_chunks/segment_469.wav...\n",
      "Saving segment 470 to /external2/datasets/soccer/final_chunks/segment_470.wav...\n",
      "Saving segment 471 to /external2/datasets/soccer/final_chunks/segment_471.wav...\n",
      "Saving segment 472 to /external2/datasets/soccer/final_chunks/segment_472.wav...\n",
      "Saving segment 473 to /external2/datasets/soccer/final_chunks/segment_473.wav...\n",
      "Saving segment 474 to /external2/datasets/soccer/final_chunks/segment_474.wav...\n",
      "Saving segment 475 to /external2/datasets/soccer/final_chunks/segment_475.wav...\n",
      "Saving segment 476 to /external2/datasets/soccer/final_chunks/segment_476.wav...\n",
      "Saving segment 477 to /external2/datasets/soccer/final_chunks/segment_477.wav...\n",
      "Saving segment 478 to /external2/datasets/soccer/final_chunks/segment_478.wav...\n",
      "Saving segment 479 to /external2/datasets/soccer/final_chunks/segment_479.wav...\n",
      "Saving segment 480 to /external2/datasets/soccer/final_chunks/segment_480.wav...\n",
      "Saving segment 481 to /external2/datasets/soccer/final_chunks/segment_481.wav...\n",
      "Saving segment 482 to /external2/datasets/soccer/final_chunks/segment_482.wav...\n",
      "Saving segment 483 to /external2/datasets/soccer/final_chunks/segment_483.wav...\n",
      "Saving segment 484 to /external2/datasets/soccer/final_chunks/segment_484.wav...\n",
      "Saving segment 485 to /external2/datasets/soccer/final_chunks/segment_485.wav...\n",
      "Saving segment 486 to /external2/datasets/soccer/final_chunks/segment_486.wav...\n",
      "Saving segment 487 to /external2/datasets/soccer/final_chunks/segment_487.wav...\n",
      "Saving segment 488 to /external2/datasets/soccer/final_chunks/segment_488.wav...\n",
      "Saving segment 489 to /external2/datasets/soccer/final_chunks/segment_489.wav...\n",
      "Saving segment 490 to /external2/datasets/soccer/final_chunks/segment_490.wav...\n",
      "Saving segment 491 to /external2/datasets/soccer/final_chunks/segment_491.wav...\n",
      "Saving segment 492 to /external2/datasets/soccer/final_chunks/segment_492.wav...\n",
      "Saving segment 493 to /external2/datasets/soccer/final_chunks/segment_493.wav...\n",
      "Saving segment 494 to /external2/datasets/soccer/final_chunks/segment_494.wav...\n",
      "Saving segment 495 to /external2/datasets/soccer/final_chunks/segment_495.wav...\n",
      "Saving segment 496 to /external2/datasets/soccer/final_chunks/segment_496.wav...\n",
      "Saving segment 497 to /external2/datasets/soccer/final_chunks/segment_497.wav...\n",
      "Saving segment 498 to /external2/datasets/soccer/final_chunks/segment_498.wav...\n",
      "Saving segment 499 to /external2/datasets/soccer/final_chunks/segment_499.wav...\n",
      "Saving segment 500 to /external2/datasets/soccer/final_chunks/segment_500.wav...\n",
      "Saving segment 501 to /external2/datasets/soccer/final_chunks/segment_501.wav...\n",
      "Saving segment 502 to /external2/datasets/soccer/final_chunks/segment_502.wav...\n",
      "Saving segment 503 to /external2/datasets/soccer/final_chunks/segment_503.wav...\n",
      "Saving segment 504 to /external2/datasets/soccer/final_chunks/segment_504.wav...\n",
      "Saving segment 505 to /external2/datasets/soccer/final_chunks/segment_505.wav...\n",
      "Saving segment 506 to /external2/datasets/soccer/final_chunks/segment_506.wav...\n",
      "Saving segment 507 to /external2/datasets/soccer/final_chunks/segment_507.wav...\n",
      "Saving segment 508 to /external2/datasets/soccer/final_chunks/segment_508.wav...\n",
      "Saving segment 509 to /external2/datasets/soccer/final_chunks/segment_509.wav...\n",
      "Saving segment 510 to /external2/datasets/soccer/final_chunks/segment_510.wav...\n",
      "Saving segment 511 to /external2/datasets/soccer/final_chunks/segment_511.wav...\n",
      "Saving segment 512 to /external2/datasets/soccer/final_chunks/segment_512.wav...\n",
      "Saving segment 513 to /external2/datasets/soccer/final_chunks/segment_513.wav...\n",
      "Saving segment 514 to /external2/datasets/soccer/final_chunks/segment_514.wav...\n",
      "Saving segment 515 to /external2/datasets/soccer/final_chunks/segment_515.wav...\n",
      "Saving segment 516 to /external2/datasets/soccer/final_chunks/segment_516.wav...\n",
      "Saving segment 517 to /external2/datasets/soccer/final_chunks/segment_517.wav...\n",
      "Saving segment 518 to /external2/datasets/soccer/final_chunks/segment_518.wav...\n",
      "Saving segment 519 to /external2/datasets/soccer/final_chunks/segment_519.wav...\n",
      "Saving segment 520 to /external2/datasets/soccer/final_chunks/segment_520.wav...\n",
      "Saving segment 521 to /external2/datasets/soccer/final_chunks/segment_521.wav...\n",
      "Saving segment 522 to /external2/datasets/soccer/final_chunks/segment_522.wav...\n",
      "Saving segment 523 to /external2/datasets/soccer/final_chunks/segment_523.wav...\n",
      "Saving segment 524 to /external2/datasets/soccer/final_chunks/segment_524.wav...\n",
      "Saving segment 525 to /external2/datasets/soccer/final_chunks/segment_525.wav...\n",
      "Saving segment 526 to /external2/datasets/soccer/final_chunks/segment_526.wav...\n",
      "Saving segment 527 to /external2/datasets/soccer/final_chunks/segment_527.wav...\n",
      "Saving segment 528 to /external2/datasets/soccer/final_chunks/segment_528.wav...\n",
      "Saving segment 529 to /external2/datasets/soccer/final_chunks/segment_529.wav...\n",
      "Saving segment 530 to /external2/datasets/soccer/final_chunks/segment_530.wav...\n",
      "Saving segment 531 to /external2/datasets/soccer/final_chunks/segment_531.wav...\n",
      "Saving segment 532 to /external2/datasets/soccer/final_chunks/segment_532.wav...\n",
      "Saving segment 533 to /external2/datasets/soccer/final_chunks/segment_533.wav...\n",
      "Saving segment 534 to /external2/datasets/soccer/final_chunks/segment_534.wav...\n",
      "Saving segment 535 to /external2/datasets/soccer/final_chunks/segment_535.wav...\n",
      "Saving segment 536 to /external2/datasets/soccer/final_chunks/segment_536.wav...\n",
      "Saving segment 537 to /external2/datasets/soccer/final_chunks/segment_537.wav...\n",
      "Saving segment 538 to /external2/datasets/soccer/final_chunks/segment_538.wav...\n",
      "Saving segment 539 to /external2/datasets/soccer/final_chunks/segment_539.wav...\n",
      "Saving segment 540 to /external2/datasets/soccer/final_chunks/segment_540.wav...\n",
      "Saving segment 541 to /external2/datasets/soccer/final_chunks/segment_541.wav...\n",
      "Saving segment 542 to /external2/datasets/soccer/final_chunks/segment_542.wav...\n",
      "Saving segment 543 to /external2/datasets/soccer/final_chunks/segment_543.wav...\n",
      "Saving segment 544 to /external2/datasets/soccer/final_chunks/segment_544.wav...\n",
      "Saving segment 545 to /external2/datasets/soccer/final_chunks/segment_545.wav...\n",
      "Saving segment 546 to /external2/datasets/soccer/final_chunks/segment_546.wav...\n",
      "Saving segment 547 to /external2/datasets/soccer/final_chunks/segment_547.wav...\n",
      "Saving segment 548 to /external2/datasets/soccer/final_chunks/segment_548.wav...\n",
      "Saving segment 549 to /external2/datasets/soccer/final_chunks/segment_549.wav...\n",
      "Saving segment 550 to /external2/datasets/soccer/final_chunks/segment_550.wav...\n",
      "Saving segment 551 to /external2/datasets/soccer/final_chunks/segment_551.wav...\n",
      "Saving segment 552 to /external2/datasets/soccer/final_chunks/segment_552.wav...\n",
      "Saving segment 553 to /external2/datasets/soccer/final_chunks/segment_553.wav...\n",
      "Saving segment 554 to /external2/datasets/soccer/final_chunks/segment_554.wav...\n",
      "Saving segment 555 to /external2/datasets/soccer/final_chunks/segment_555.wav...\n",
      "Saving segment 556 to /external2/datasets/soccer/final_chunks/segment_556.wav...\n",
      "Saving segment 557 to /external2/datasets/soccer/final_chunks/segment_557.wav...\n",
      "Saving segment 558 to /external2/datasets/soccer/final_chunks/segment_558.wav...\n",
      "Saving segment 559 to /external2/datasets/soccer/final_chunks/segment_559.wav...\n",
      "Saving segment 560 to /external2/datasets/soccer/final_chunks/segment_560.wav...\n",
      "Saving segment 561 to /external2/datasets/soccer/final_chunks/segment_561.wav...\n",
      "Saving segment 562 to /external2/datasets/soccer/final_chunks/segment_562.wav...\n",
      "Saving segment 563 to /external2/datasets/soccer/final_chunks/segment_563.wav...\n",
      "Saving segment 564 to /external2/datasets/soccer/final_chunks/segment_564.wav...\n",
      "Saving segment 565 to /external2/datasets/soccer/final_chunks/segment_565.wav...\n",
      "Saving segment 566 to /external2/datasets/soccer/final_chunks/segment_566.wav...\n",
      "Saving segment 567 to /external2/datasets/soccer/final_chunks/segment_567.wav...\n",
      "Saving segment 568 to /external2/datasets/soccer/final_chunks/segment_568.wav...\n",
      "Saving segment 569 to /external2/datasets/soccer/final_chunks/segment_569.wav...\n",
      "Saving segment 570 to /external2/datasets/soccer/final_chunks/segment_570.wav...\n",
      "Saving segment 571 to /external2/datasets/soccer/final_chunks/segment_571.wav...\n",
      "Saving segment 572 to /external2/datasets/soccer/final_chunks/segment_572.wav...\n",
      "Saving segment 573 to /external2/datasets/soccer/final_chunks/segment_573.wav...\n",
      "Saving segment 574 to /external2/datasets/soccer/final_chunks/segment_574.wav...\n",
      "Saving segment 575 to /external2/datasets/soccer/final_chunks/segment_575.wav...\n",
      "Saving segment 576 to /external2/datasets/soccer/final_chunks/segment_576.wav...\n",
      "Saving segment 577 to /external2/datasets/soccer/final_chunks/segment_577.wav...\n",
      "Saving segment 578 to /external2/datasets/soccer/final_chunks/segment_578.wav...\n",
      "Saving segment 579 to /external2/datasets/soccer/final_chunks/segment_579.wav...\n",
      "Saving segment 580 to /external2/datasets/soccer/final_chunks/segment_580.wav...\n",
      "Saving segment 581 to /external2/datasets/soccer/final_chunks/segment_581.wav...\n",
      "Saving segment 582 to /external2/datasets/soccer/final_chunks/segment_582.wav...\n",
      "Saving segment 583 to /external2/datasets/soccer/final_chunks/segment_583.wav...\n",
      "Saving segment 584 to /external2/datasets/soccer/final_chunks/segment_584.wav...\n",
      "Saving segment 585 to /external2/datasets/soccer/final_chunks/segment_585.wav...\n",
      "Saving segment 586 to /external2/datasets/soccer/final_chunks/segment_586.wav...\n",
      "Saving segment 587 to /external2/datasets/soccer/final_chunks/segment_587.wav...\n",
      "Saving segment 588 to /external2/datasets/soccer/final_chunks/segment_588.wav...\n",
      "Saving segment 589 to /external2/datasets/soccer/final_chunks/segment_589.wav...\n",
      "Saving segment 590 to /external2/datasets/soccer/final_chunks/segment_590.wav...\n",
      "Saving segment 591 to /external2/datasets/soccer/final_chunks/segment_591.wav...\n",
      "Saving segment 592 to /external2/datasets/soccer/final_chunks/segment_592.wav...\n",
      "Saving segment 593 to /external2/datasets/soccer/final_chunks/segment_593.wav...\n",
      "Saving segment 594 to /external2/datasets/soccer/final_chunks/segment_594.wav...\n",
      "Saving segment 595 to /external2/datasets/soccer/final_chunks/segment_595.wav...\n",
      "Saving segment 596 to /external2/datasets/soccer/final_chunks/segment_596.wav...\n",
      "Saving segment 597 to /external2/datasets/soccer/final_chunks/segment_597.wav...\n",
      "Saving segment 598 to /external2/datasets/soccer/final_chunks/segment_598.wav...\n",
      "Saving segment 599 to /external2/datasets/soccer/final_chunks/segment_599.wav...\n",
      "Saving segment 600 to /external2/datasets/soccer/final_chunks/segment_600.wav...\n",
      "Saving segment 601 to /external2/datasets/soccer/final_chunks/segment_601.wav...\n",
      "Saving segment 602 to /external2/datasets/soccer/final_chunks/segment_602.wav...\n",
      "Saving segment 603 to /external2/datasets/soccer/final_chunks/segment_603.wav...\n",
      "Saving segment 604 to /external2/datasets/soccer/final_chunks/segment_604.wav...\n",
      "Saving segment 605 to /external2/datasets/soccer/final_chunks/segment_605.wav...\n",
      "Saving segment 606 to /external2/datasets/soccer/final_chunks/segment_606.wav...\n",
      "Saving segment 607 to /external2/datasets/soccer/final_chunks/segment_607.wav...\n",
      "Saving segment 608 to /external2/datasets/soccer/final_chunks/segment_608.wav...\n",
      "Saving segment 609 to /external2/datasets/soccer/final_chunks/segment_609.wav...\n",
      "Saving segment 610 to /external2/datasets/soccer/final_chunks/segment_610.wav...\n",
      "Saving segment 611 to /external2/datasets/soccer/final_chunks/segment_611.wav...\n",
      "Saving segment 612 to /external2/datasets/soccer/final_chunks/segment_612.wav...\n",
      "Saving segment 613 to /external2/datasets/soccer/final_chunks/segment_613.wav...\n",
      "Saving segment 614 to /external2/datasets/soccer/final_chunks/segment_614.wav...\n",
      "Saving segment 615 to /external2/datasets/soccer/final_chunks/segment_615.wav...\n",
      "Saving segment 616 to /external2/datasets/soccer/final_chunks/segment_616.wav...\n",
      "Saving segment 617 to /external2/datasets/soccer/final_chunks/segment_617.wav...\n",
      "Saving segment 618 to /external2/datasets/soccer/final_chunks/segment_618.wav...\n",
      "Saving segment 619 to /external2/datasets/soccer/final_chunks/segment_619.wav...\n",
      "Saving segment 620 to /external2/datasets/soccer/final_chunks/segment_620.wav...\n",
      "Saving segment 621 to /external2/datasets/soccer/final_chunks/segment_621.wav...\n",
      "Saving segment 622 to /external2/datasets/soccer/final_chunks/segment_622.wav...\n",
      "Saving segment 623 to /external2/datasets/soccer/final_chunks/segment_623.wav...\n",
      "Saving segment 624 to /external2/datasets/soccer/final_chunks/segment_624.wav...\n",
      "Saving segment 625 to /external2/datasets/soccer/final_chunks/segment_625.wav...\n",
      "Saving segment 626 to /external2/datasets/soccer/final_chunks/segment_626.wav...\n",
      "Saving segment 627 to /external2/datasets/soccer/final_chunks/segment_627.wav...\n",
      "Saving segment 628 to /external2/datasets/soccer/final_chunks/segment_628.wav...\n",
      "Saving segment 629 to /external2/datasets/soccer/final_chunks/segment_629.wav...\n",
      "Saving segment 630 to /external2/datasets/soccer/final_chunks/segment_630.wav...\n",
      "Saving segment 631 to /external2/datasets/soccer/final_chunks/segment_631.wav...\n",
      "Saving segment 632 to /external2/datasets/soccer/final_chunks/segment_632.wav...\n",
      "Saving segment 633 to /external2/datasets/soccer/final_chunks/segment_633.wav...\n",
      "Saving segment 634 to /external2/datasets/soccer/final_chunks/segment_634.wav...\n",
      "Saving segment 635 to /external2/datasets/soccer/final_chunks/segment_635.wav...\n",
      "Saving segment 636 to /external2/datasets/soccer/final_chunks/segment_636.wav...\n",
      "Saving segment 637 to /external2/datasets/soccer/final_chunks/segment_637.wav...\n",
      "Saving segment 638 to /external2/datasets/soccer/final_chunks/segment_638.wav...\n",
      "Saving segment 639 to /external2/datasets/soccer/final_chunks/segment_639.wav...\n",
      "Saving segment 640 to /external2/datasets/soccer/final_chunks/segment_640.wav...\n",
      "Saving segment 641 to /external2/datasets/soccer/final_chunks/segment_641.wav...\n",
      "Saving segment 642 to /external2/datasets/soccer/final_chunks/segment_642.wav...\n",
      "Saving segment 643 to /external2/datasets/soccer/final_chunks/segment_643.wav...\n",
      "Saving segment 644 to /external2/datasets/soccer/final_chunks/segment_644.wav...\n",
      "Saving segment 645 to /external2/datasets/soccer/final_chunks/segment_645.wav...\n",
      "Saving segment 646 to /external2/datasets/soccer/final_chunks/segment_646.wav...\n",
      "Saving segment 647 to /external2/datasets/soccer/final_chunks/segment_647.wav...\n",
      "Saving segment 648 to /external2/datasets/soccer/final_chunks/segment_648.wav...\n",
      "Saving segment 649 to /external2/datasets/soccer/final_chunks/segment_649.wav...\n",
      "Saving segment 650 to /external2/datasets/soccer/final_chunks/segment_650.wav...\n",
      "Saving segment 651 to /external2/datasets/soccer/final_chunks/segment_651.wav...\n",
      "Saving segment 652 to /external2/datasets/soccer/final_chunks/segment_652.wav...\n",
      "Saving segment 653 to /external2/datasets/soccer/final_chunks/segment_653.wav...\n",
      "Saving segment 654 to /external2/datasets/soccer/final_chunks/segment_654.wav...\n",
      "Saving segment 655 to /external2/datasets/soccer/final_chunks/segment_655.wav...\n",
      "Saving segment 656 to /external2/datasets/soccer/final_chunks/segment_656.wav...\n",
      "Saving segment 657 to /external2/datasets/soccer/final_chunks/segment_657.wav...\n",
      "Saving segment 658 to /external2/datasets/soccer/final_chunks/segment_658.wav...\n",
      "Saving segment 659 to /external2/datasets/soccer/final_chunks/segment_659.wav...\n",
      "Saving segment 660 to /external2/datasets/soccer/final_chunks/segment_660.wav...\n",
      "Saving segment 661 to /external2/datasets/soccer/final_chunks/segment_661.wav...\n",
      "Saving segment 662 to /external2/datasets/soccer/final_chunks/segment_662.wav...\n",
      "Saving segment 663 to /external2/datasets/soccer/final_chunks/segment_663.wav...\n",
      "Saving segment 664 to /external2/datasets/soccer/final_chunks/segment_664.wav...\n",
      "Saving segment 665 to /external2/datasets/soccer/final_chunks/segment_665.wav...\n",
      "Saving segment 666 to /external2/datasets/soccer/final_chunks/segment_666.wav...\n",
      "Saving segment 667 to /external2/datasets/soccer/final_chunks/segment_667.wav...\n",
      "Saving segment 668 to /external2/datasets/soccer/final_chunks/segment_668.wav...\n",
      "Saving segment 669 to /external2/datasets/soccer/final_chunks/segment_669.wav...\n",
      "Saving segment 670 to /external2/datasets/soccer/final_chunks/segment_670.wav...\n",
      "Saving segment 671 to /external2/datasets/soccer/final_chunks/segment_671.wav...\n",
      "Saving segment 672 to /external2/datasets/soccer/final_chunks/segment_672.wav...\n",
      "Saving segment 673 to /external2/datasets/soccer/final_chunks/segment_673.wav...\n",
      "Saving segment 674 to /external2/datasets/soccer/final_chunks/segment_674.wav...\n",
      "Saving segment 675 to /external2/datasets/soccer/final_chunks/segment_675.wav...\n",
      "Saving segment 676 to /external2/datasets/soccer/final_chunks/segment_676.wav...\n",
      "Saving segment 677 to /external2/datasets/soccer/final_chunks/segment_677.wav...\n",
      "Saving segment 678 to /external2/datasets/soccer/final_chunks/segment_678.wav...\n",
      "Saving segment 679 to /external2/datasets/soccer/final_chunks/segment_679.wav...\n",
      "Saving segment 680 to /external2/datasets/soccer/final_chunks/segment_680.wav...\n",
      "Saving segment 681 to /external2/datasets/soccer/final_chunks/segment_681.wav...\n",
      "Audio segmentation completed.\n",
      "Segmented audio into 682 parts and saved in /external2/datasets/soccer/final_chunks/\n"
     ]
    }
   ],
   "source": [
    "import logging\n",
    "from pydub import AudioSegment\n",
    "from pydub.silence import split_on_silence\n",
    "import noisereduce as nr\n",
    "import numpy as np\n",
    "import os\n",
    "\n",
    "# Configure logging\n",
    "logging.basicConfig(level=logging.INFO, format='%(asctime)s - %(levelname)s - %(message)s')\n",
    "\n",
    "class AudioSegmenter:\n",
    "    def __init__(self, config):\n",
    "        self.config = config\n",
    "\n",
    "    def reduce_noise(self, audio_segment):\n",
    "        logging.info(\"Reducing noise...\")\n",
    "        # Convert pydub AudioSegment to numpy array\n",
    "        samples = np.array(audio_segment.get_array_of_samples())\n",
    "        rate = audio_segment.frame_rate\n",
    "\n",
    "        # Perform noise reduction\n",
    "        reduced_noise = nr.reduce_noise(y=samples, sr=rate)\n",
    "\n",
    "        # Convert numpy array back to pydub AudioSegment\n",
    "        reduced_audio_segment = AudioSegment(\n",
    "            reduced_noise.tobytes(),\n",
    "            frame_rate=rate,\n",
    "            sample_width=samples.dtype.itemsize,\n",
    "            channels=audio_segment.channels\n",
    "        )\n",
    "\n",
    "        logging.info(\"Noise reduction completed.\")\n",
    "        return reduced_audio_segment\n",
    "\n",
    "    def segment_audio(self, audio_file):\n",
    "        logging.info(f\"Loading audio file {audio_file}...\")\n",
    "        audio = AudioSegment.from_file(audio_file, format=\"wav\")\n",
    "        audio = self.reduce_noise(audio)\n",
    "        \n",
    "        # Convert silence length from seconds to milliseconds and ensure they are integers\n",
    "        min_silence_len_ms = int(self.config['min_silence_len'] * 1000)\n",
    "        keep_silence_ms = int(self.config['keep_silence'] * 1000)\n",
    "        \n",
    "        # Split audio based on silence\n",
    "        logging.info(\"Segmenting audio based on silence...\")\n",
    "        segments = split_on_silence(\n",
    "            audio,\n",
    "            min_silence_len=min_silence_len_ms,\n",
    "            silence_thresh=self.config['silence_thresh'],\n",
    "            keep_silence=keep_silence_ms\n",
    "        )\n",
    "        \n",
    "        os.makedirs(self.config['output_path'], exist_ok=True)\n",
    "        segment_files = []\n",
    "        \n",
    "        for i, segment in enumerate(segments):\n",
    "            segment_file = os.path.join(self.config['output_path'], f\"segment_{i}.wav\")\n",
    "            logging.info(f\"Saving segment {i} to {segment_file}...\")\n",
    "            segment.export(segment_file, format=\"wav\")\n",
    "            segment_files.append(segment_file)\n",
    "        \n",
    "        logging.info(\"Audio segmentation completed.\")\n",
    "        return segment_files\n",
    "\n",
    "    def segment_and_save(self, audio_file):\n",
    "        segments = self.segment_audio(audio_file)\n",
    "        logging.info(f\"Segmented audio into {len(segments)} parts and saved in {self.config['output_path']}\")\n",
    "        return segments\n",
    "\n",
    "\n",
    "\n",
    "config = {\n",
    "    'min_silence_len': 2.0,  # Minimum length of silence to be considered a split point in seconds\n",
    "    'silence_thresh': -40,   # Silence threshold in dBFS, change according to your audio level\n",
    "    'keep_silence': 0.5,     # Amount of silence to leave at the beginning and end of each segment in seconds\n",
    "    'seek_step': 20, \n",
    "    'output_path': '/external2/datasets/soccer/final_chunks/'\n",
    "}\n",
    "\n",
    "audio_segmenter = AudioSegmenter(config)\n",
    "audio_file = \"/external2/datasets/soccer/final.wav\"  # Path to your long audio file\n",
    "segments = audio_segmenter.segment_and_save(audio_file)\n"
   ]
  },
  {
   "cell_type": "code",
   "execution_count": 88,
   "metadata": {},
   "outputs": [],
   "source": [
    "# Define a function to map tags to words\n",
    "def map_tags(word, tag_dict):\n",
    "    parts = word.split('_') if '_' in word else word.split('-')\n",
    "    mapped_parts = [tag_dict.get(part, part) for part in parts]\n",
    "    return ' '.join(mapped_parts)\n",
    "\n",
    "# Define a function to transcribe the audio\n",
    "def transcribe(audio_file):\n",
    "    # Load your 16k wav audio file\n",
    "    audio, sample_rate = torchaudio.load(audio_file)\n",
    "\n",
    "    if sample_rate != 16000:\n",
    "        raise ValueError(f\"Expected sample rate of 16000, but got {sample_rate}\")\n",
    "\n",
    "    # Perform transcription\n",
    "    with torch.no_grad():\n",
    "        transcription = model.transcribe([audio_file])[0]\n",
    "\n",
    "    # Map the tags to the corresponding words\n",
    "    print(transcription)\n",
    "    words = transcription.split()\n",
    "    mapped_transcription = ' '.join([map_tags(word, tag_dict) for word in words])\n",
    "\n",
    "    return mapped_transcription"
   ]
  },
  {
   "cell_type": "code",
   "execution_count": 89,
   "metadata": {},
   "outputs": [
    {
     "data": {
      "application/vnd.jupyter.widget-view+json": {
       "model_id": "01ce2b1451de427dbef9dff3390e898e",
       "version_major": 2,
       "version_minor": 0
      },
      "text/plain": [
       "Transcribing:   0%|          | 0/1 [00:00<?, ?it/s]"
      ]
     },
     "metadata": {},
     "output_type": "display_data"
    },
    {
     "name": "stdout",
     "output_type": "stream",
     "text": [
      "T1 T2 T237_T255rb T239 T237_T238 N T239 T237_T203  stem. T111_T35_T209 T0\n",
      "Transcription for segment_104.wav: TASK TAGGER ENTITY T255rb END ENTITY ITEM N END ENTITY INGREDIENT stem. INTENT COOKING STEP EOS\n"
     ]
    },
    {
     "data": {
      "application/vnd.jupyter.widget-view+json": {
       "model_id": "6aea4849f5214049bcd887802dfcd16d",
       "version_major": 2,
       "version_minor": 0
      },
      "text/plain": [
       "Transcribing:   0%|          | 0/1 [00:00<?, ?it/s]"
      ]
     },
     "metadata": {},
     "output_type": "display_data"
    },
    {
     "name": "stdout",
     "output_type": "stream",
     "text": [
      "T1 T2 T237_T255 U T237_  T239 T237 for. T111_T32_T46 T0\n",
      "Transcription for segment_564.wav: TASK TAGGER ENTITY ACTION U ENTITY  END ENTITY for. INTENT CONTROL WORKOUT EOS\n"
     ]
    },
    {
     "data": {
      "application/vnd.jupyter.widget-view+json": {
       "model_id": "33fc8bb2e4374cea8cf4ad119f1185ad",
       "version_major": 2,
       "version_minor": 0
      },
      "text/plain": [
       "Transcribing:   0%|          | 0/1 [00:00<?, ?it/s]"
      ]
     },
     "metadata": {},
     "output_type": "display_data"
    },
    {
     "name": "stdout",
     "output_type": "stream",
     "text": [
      "T1 T2 T237_T255 s_ T237_ _T111_T46 T0\n",
      "Transcription for segment_122.wav: TASK TAGGER ENTITY ACTION s  ENTITY   INTENT WORKOUT EOS\n"
     ]
    },
    {
     "data": {
      "application/vnd.jupyter.widget-view+json": {
       "model_id": "574bdf044394452188b7a1b7a1dd76b4",
       "version_major": 2,
       "version_minor": 0
      },
      "text/plain": [
       "Transcribing:   0%|          | 0/1 [00:00<?, ?it/s]"
      ]
     },
     "metadata": {},
     "output_type": "display_data"
    },
    {
     "name": "stdout",
     "output_type": "stream",
     "text": [
      "T1 T2 T237_T255 T237 T237_T157  T239 _  T239 T111_T6_T55 T0\n",
      "Transcription for segment_495.wav: TASK TAGGER ENTITY ACTION ENTITY ENTITY TYPE END   END INTENT CHECK STATUS EOS\n"
     ]
    },
    {
     "data": {
      "application/vnd.jupyter.widget-view+json": {
       "model_id": "eccfe67266f54e709a2dca5f3b1734d0",
       "version_major": 2,
       "version_minor": 0
      },
      "text/plain": [
       "Transcribing:   0%|          | 0/1 [00:00<?, ?it/s]"
      ]
     },
     "metadata": {},
     "output_type": "display_data"
    },
    {
     "name": "stdout",
     "output_type": "stream",
     "text": [
      "T1 T2 T237_T255 T237_ T111_T32 T0\n",
      "Transcription for segment_511.wav: TASK TAGGER ENTITY ACTION ENTITY  INTENT CONTROL EOS\n"
     ]
    },
    {
     "data": {
      "application/vnd.jupyter.widget-view+json": {
       "model_id": "772b0f277fd24ea3a834a0f5939bddb7",
       "version_major": 2,
       "version_minor": 0
      },
      "text/plain": [
       "Transcribing:   0%|          | 0/1 [00:00<?, ?it/s]"
      ]
     },
     "metadata": {},
     "output_type": "display_data"
    },
    {
     "name": "stdout",
     "output_type": "stream",
     "text": [
      "T1 T2 T237_T255 T237_T201_T157  T239 క T237T239  T239 T237_  T111_T238 T0\n",
      "Transcription for segment_642.wav: TASK TAGGER ENTITY ACTION ENTITY ITINERARY TYPE END క T237T239 END ENTITY  INTENT ITEM EOS\n"
     ]
    },
    {
     "data": {
      "application/vnd.jupyter.widget-view+json": {
       "model_id": "00541dcd95ba41bfb703b5175347e739",
       "version_major": 2,
       "version_minor": 0
      },
      "text/plain": [
       "Transcribing:   0%|          | 0/1 [00:00<?, ?it/s]"
      ]
     },
     "metadata": {},
     "output_type": "display_data"
    },
    {
     "name": "stdout",
     "output_type": "stream",
     "text": [
      "T1 T2 T237_T255 _ _T111_T46 T0\n",
      "Transcription for segment_268.wav: TASK TAGGER ENTITY ACTION    INTENT WORKOUT EOS\n"
     ]
    },
    {
     "data": {
      "application/vnd.jupyter.widget-view+json": {
       "model_id": "292a9cff16fa44bc838955dc95ccf97e",
       "version_major": 2,
       "version_minor": 0
      },
      "text/plain": [
       "Transcribing:   0%|          | 0/1 [00:00<?, ?it/s]"
      ]
     },
     "metadata": {},
     "output_type": "display_data"
    },
    {
     "name": "stdout",
     "output_type": "stream",
     "text": [
      "T1 T2 T237_T255 _T157 ব T239  T237__T157  T237_ T239. T111_T196 T0\n",
      "Transcription for segment_236.wav: TASK TAGGER ENTITY ACTION  TYPE ব END ENTITY  TYPE ENTITY  T239. INTENT TEST EOS\n"
     ]
    },
    {
     "data": {
      "application/vnd.jupyter.widget-view+json": {
       "model_id": "0fab3e2748cc4ac9b2fc518e0e1ca747",
       "version_major": 2,
       "version_minor": 0
      },
      "text/plain": [
       "Transcribing:   0%|          | 0/1 [00:00<?, ?it/s]"
      ]
     },
     "metadata": {},
     "output_type": "display_data"
    },
    {
     "name": "stdout",
     "output_type": "stream",
     "text": [
      "T1 T2 T237 T237_T249  T239  la T237__ro T239. T111_T249_T32 T0\n",
      "Transcription for segment_241.wav: TASK TAGGER ENTITY ENTITY DEVICE END la ENTITY  ro T239. INTENT DEVICE CONTROL EOS\n"
     ]
    },
    {
     "data": {
      "application/vnd.jupyter.widget-view+json": {
       "model_id": "1cf8ab2cfe1946c5b7a1aad6f52edd26",
       "version_major": 2,
       "version_minor": 0
      },
      "text/plain": [
       "Transcribing:   0%|          | 0/1 [00:00<?, ?it/s]"
      ]
     },
     "metadata": {},
     "output_type": "display_data"
    },
    {
     "name": "stdout",
     "output_type": "stream",
     "text": [
      "T1 T2 T237_T255  T237 কषেించ T239  T237T157  T237_T157. T111_T26 T0\n",
      "Transcription for segment_93.wav: TASK TAGGER ENTITY ACTION ENTITY কषেించ END T237T157 ENTITY T157. INTENT ALERTS EOS\n"
     ]
    },
    {
     "data": {
      "application/vnd.jupyter.widget-view+json": {
       "model_id": "d23d54c9fd064bed9cced142f80d5396",
       "version_major": 2,
       "version_minor": 0
      },
      "text/plain": [
       "Transcribing:   0%|          | 0/1 [00:00<?, ?it/s]"
      ]
     },
     "metadata": {},
     "output_type": "display_data"
    },
    {
     "name": "stdout",
     "output_type": "stream",
     "text": [
      "T1 T2 T237_T255 T237_T238 T237_ ्र. T111_T88_T238 T0\n",
      "Transcription for segment_612.wav: TASK TAGGER ENTITY ACTION ENTITY ITEM ENTITY  ्र. INTENT FIND ITEM EOS\n"
     ]
    },
    {
     "data": {
      "application/vnd.jupyter.widget-view+json": {
       "model_id": "ad8af564bf594abe946ce635ad0cf52c",
       "version_major": 2,
       "version_minor": 0
      },
      "text/plain": [
       "Transcribing:   0%|          | 0/1 [00:00<?, ?it/s]"
      ]
     },
     "metadata": {},
     "output_type": "display_data"
    },
    {
     "name": "stdout",
     "output_type": "stream",
     "text": [
      "T1 T2 T237_T234_T57 R T239 T237C  ch   T57 P wind st. T111_T122 T0\n",
      "Transcription for segment_520.wav: TASK TAGGER ENTITY PLAYER NAME R END T237C ch NAME P wind st. INTENT COMMENT EOS\n"
     ]
    },
    {
     "data": {
      "application/vnd.jupyter.widget-view+json": {
       "model_id": "51969cd09c9a414faf31ebda72a82fc8",
       "version_major": 2,
       "version_minor": 0
      },
      "text/plain": [
       "Transcribing:   0%|          | 0/1 [00:00<?, ?it/s]"
      ]
     },
     "metadata": {},
     "output_type": "display_data"
    },
    {
     "name": "stdout",
     "output_type": "stream",
     "text": [
      "T1 T2 T237_  T239 T237T249   T237T157 ब्ल T237. T111_T249_T122 T0\n",
      "Transcription for segment_574.wav: TASK TAGGER ENTITY  END T237T249 T237T157 ब्ल T237. INTENT DEVICE COMMENT EOS\n"
     ]
    },
    {
     "data": {
      "application/vnd.jupyter.widget-view+json": {
       "model_id": "6235229287bf410097662f2b3d366c52",
       "version_major": 2,
       "version_minor": 0
      },
      "text/plain": [
       "Transcribing:   0%|          | 0/1 [00:00<?, ?it/s]"
      ]
     },
     "metadata": {},
     "output_type": "display_data"
    },
    {
     "name": "stdout",
     "output_type": "stream",
     "text": [
      "T1 T2 T237_T234_T57 ప T239 T237_T255 ্రెస్ T239 দవస్టోపోం ాచ జ చి సం. T111_T122 T0\n",
      "Transcription for segment_16.wav: TASK TAGGER ENTITY PLAYER NAME ప END ENTITY ACTION ্రెస్ END দవస్టోపోం ాచ జ చి సం. INTENT COMMENT EOS\n"
     ]
    },
    {
     "data": {
      "application/vnd.jupyter.widget-view+json": {
       "model_id": "fae54b07e9e145d2862bd4f4913621b1",
       "version_major": 2,
       "version_minor": 0
      },
      "text/plain": [
       "Transcribing:   0%|          | 0/1 [00:00<?, ?it/s]"
      ]
     },
     "metadata": {},
     "output_type": "display_data"
    },
    {
     "name": "stdout",
     "output_type": "stream",
     "text": [
      "T1 T2 T237_T255 T237_ _ T0\n",
      "Transcription for segment_205.wav: TASK TAGGER ENTITY ACTION ENTITY    EOS\n"
     ]
    },
    {
     "data": {
      "application/vnd.jupyter.widget-view+json": {
       "model_id": "4e4e877f92854b12ae23f41a13d91c16",
       "version_major": 2,
       "version_minor": 0
      },
      "text/plain": [
       "Transcribing:   0%|          | 0/1 [00:00<?, ?it/s]"
      ]
     },
     "metadata": {},
     "output_type": "display_data"
    },
    {
     "name": "stdout",
     "output_type": "stream",
     "text": [
      "T1 T2 T237_T255 T239T237_ वा   T239. T111_T35_T209 T0\n",
      "Transcription for segment_90.wav: TASK TAGGER ENTITY ACTION T239T237  वा T239. INTENT COOKING STEP EOS\n"
     ]
    },
    {
     "data": {
      "application/vnd.jupyter.widget-view+json": {
       "model_id": "b5657bc608594ab0bbde5d8fa5d4c3d3",
       "version_major": 2,
       "version_minor": 0
      },
      "text/plain": [
       "Transcribing:   0%|          | 0/1 [00:00<?, ?it/s]"
      ]
     },
     "metadata": {},
     "output_type": "display_data"
    },
    {
     "name": "stdout",
     "output_type": "stream",
     "text": [
      "T1 T2 T237_T255 T237ी T239 T237_  ा. T111_T212_T319 T0\n",
      "Transcription for segment_204.wav: TASK TAGGER ENTITY ACTION T237ी END ENTITY  ा. INTENT GET INVENTORY EOS\n"
     ]
    },
    {
     "data": {
      "application/vnd.jupyter.widget-view+json": {
       "model_id": "b265d8747b454d33aca4f63f6ef38e11",
       "version_major": 2,
       "version_minor": 0
      },
      "text/plain": [
       "Transcribing:   0%|          | 0/1 [00:00<?, ?it/s]"
      ]
     },
     "metadata": {},
     "output_type": "display_data"
    },
    {
     "name": "stdout",
     "output_type": "stream",
     "text": [
      "T1 T2 T237_T57 మ       క T237__T157 చ ienం స్ం. T111_T122 T0\n",
      "Transcription for segment_404.wav: TASK TAGGER ENTITY NAME మ క ENTITY  TYPE చ ienం స్ం. INTENT COMMENT EOS\n"
     ]
    },
    {
     "data": {
      "application/vnd.jupyter.widget-view+json": {
       "model_id": "5e388ba9146d406dace02bf2777984e6",
       "version_major": 2,
       "version_minor": 0
      },
      "text/plain": [
       "Transcribing:   0%|          | 0/1 [00:00<?, ?it/s]"
      ]
     },
     "metadata": {},
     "output_type": "display_data"
    },
    {
     "name": "stdout",
     "output_type": "stream",
     "text": [
      "T1 T2 T237_T255  T237_ T239 _T243 T0\n",
      "Transcription for segment_74.wav: TASK TAGGER ENTITY ACTION ENTITY  END  PRICE EOS\n"
     ]
    },
    {
     "data": {
      "application/vnd.jupyter.widget-view+json": {
       "model_id": "f3a6056038e04d19af1b79388541eca4",
       "version_major": 2,
       "version_minor": 0
      },
      "text/plain": [
       "Transcribing:   0%|          | 0/1 [00:00<?, ?it/s]"
      ]
     },
     "metadata": {},
     "output_type": "display_data"
    },
    {
     "name": "stdout",
     "output_type": "stream",
     "text": [
      "T1 T2 T237_T255 che T239 T237_T41_T157? T111_T212_T32 T0\n",
      "Transcription for segment_382.wav: TASK TAGGER ENTITY ACTION che END ENTITY SETTING T157? INTENT GET CONTROL EOS\n"
     ]
    },
    {
     "data": {
      "application/vnd.jupyter.widget-view+json": {
       "model_id": "e5caf5ebb6774ff2b0cd89605bd7e6c1",
       "version_major": 2,
       "version_minor": 0
      },
      "text/plain": [
       "Transcribing:   0%|          | 0/1 [00:00<?, ?it/s]"
      ]
     },
     "metadata": {},
     "output_type": "display_data"
    },
    {
     "name": "stdout",
     "output_type": "stream",
     "text": [
      "T1 T2 T237_T255 T237_T134_T157 च T237_T41_T157 स्ट T239 T237_T249 स्नं् T239  T239वर. T111_T211 T0\n",
      "Transcription for segment_513.wav: TASK TAGGER ENTITY ACTION ENTITY ACCOUNT TYPE च ENTITY SETTING TYPE स्ट END ENTITY DEVICE स्नं् END T239वर. INTENT FUNDS EOS\n"
     ]
    },
    {
     "data": {
      "application/vnd.jupyter.widget-view+json": {
       "model_id": "143d8eae67c048cdbcbd07df5d48b84b",
       "version_major": 2,
       "version_minor": 0
      },
      "text/plain": [
       "Transcribing:   0%|          | 0/1 [00:00<?, ?it/s]"
      ]
     },
     "metadata": {},
     "output_type": "display_data"
    },
    {
     "name": "stdout",
     "output_type": "stream",
     "text": [
      "T1 T2 T237_T255  T237__T157  স T239 T237 T239 from T237_T253 প. T111_T149_T74 T0\n",
      "Transcription for segment_489.wav: TASK TAGGER ENTITY ACTION ENTITY  TYPE স END ENTITY END from ENTITY DESTINATION প. INTENT SET ALERT EOS\n"
     ]
    },
    {
     "data": {
      "application/vnd.jupyter.widget-view+json": {
       "model_id": "f3e43558963b45d4b67324f6878f5f67",
       "version_major": 2,
       "version_minor": 0
      },
      "text/plain": [
       "Transcribing:   0%|          | 0/1 [00:00<?, ?it/s]"
      ]
     },
     "metadata": {},
     "output_type": "display_data"
    },
    {
     "name": "stdout",
     "output_type": "stream",
     "text": [
      "T1 T2 T237_T255 T237 T237_. T111_T32_T46 T0\n",
      "Transcription for segment_593.wav: TASK TAGGER ENTITY ACTION ENTITY ENTITY . INTENT CONTROL WORKOUT EOS\n"
     ]
    },
    {
     "data": {
      "application/vnd.jupyter.widget-view+json": {
       "model_id": "c5a4acd777fa4438a082df8c13491a1e",
       "version_major": 2,
       "version_minor": 0
      },
      "text/plain": [
       "Transcribing:   0%|          | 0/1 [00:00<?, ?it/s]"
      ]
     },
     "metadata": {},
     "output_type": "display_data"
    },
    {
     "name": "stdout",
     "output_type": "stream",
     "text": [
      "T1 T2 T237_T255 Sk T239 T237_T172 two T239 T237_s T239 the T237T256 be. T111_T35_T209 T0\n",
      "Transcription for segment_211.wav: TASK TAGGER ENTITY ACTION Sk END ENTITY QUANTITY two END ENTITY s END the T237T256 be. INTENT COOKING STEP EOS\n"
     ]
    },
    {
     "data": {
      "application/vnd.jupyter.widget-view+json": {
       "model_id": "b2affaa2c0f64cd09b867ec27fe6a61a",
       "version_major": 2,
       "version_minor": 0
      },
      "text/plain": [
       "Transcribing:   0%|          | 0/1 [00:00<?, ?it/s]"
      ]
     },
     "metadata": {},
     "output_type": "display_data"
    },
    {
     "name": "stdout",
     "output_type": "stream",
     "text": [
      "T1 T2 T237_T255 T157 प. T111_T55 T0\n",
      "Transcription for segment_276.wav: TASK TAGGER ENTITY ACTION TYPE प. INTENT STATUS EOS\n"
     ]
    },
    {
     "data": {
      "application/vnd.jupyter.widget-view+json": {
       "model_id": "edb16d78f1ff449382cd793aa1bb0d18",
       "version_major": 2,
       "version_minor": 0
      },
      "text/plain": [
       "Transcribing:   0%|          | 0/1 [00:00<?, ?it/s]"
      ]
     },
     "metadata": {},
     "output_type": "display_data"
    },
    {
     "name": "stdout",
     "output_type": "stream",
     "text": [
      "T1 T2 T237_T255   T239 T237_T157 पन T239 T237_T157 ज. T111_T221_T195 T0\n",
      "Transcription for segment_252.wav: TASK TAGGER ENTITY ACTION END ENTITY TYPE पन END ENTITY TYPE ज. INTENT START REPORT EOS\n"
     ]
    },
    {
     "data": {
      "application/vnd.jupyter.widget-view+json": {
       "model_id": "6318dd4db59d410f8ea5dae90e2fabdc",
       "version_major": 2,
       "version_minor": 0
      },
      "text/plain": [
       "Transcribing:   0%|          | 0/1 [00:00<?, ?it/s]"
      ]
     },
     "metadata": {},
     "output_type": "display_data"
    },
    {
     "name": "stdout",
     "output_type": "stream",
     "text": [
      "T1 T2 T237_T255   T237_ श   T111_T63_T61 T0\n",
      "Transcription for segment_534.wav: TASK TAGGER ENTITY ACTION ENTITY  श INTENT UPDATE LIST EOS\n"
     ]
    },
    {
     "data": {
      "application/vnd.jupyter.widget-view+json": {
       "model_id": "d3ac9f579de849bc846f3e0adc5ff14b",
       "version_major": 2,
       "version_minor": 0
      },
      "text/plain": [
       "Transcribing:   0%|          | 0/1 [00:00<?, ?it/s]"
      ]
     },
     "metadata": {},
     "output_type": "display_data"
    },
    {
     "name": "stdout",
     "output_type": "stream",
     "text": [
      "T1 T2 T237_T156_T57 BT237 T239 T237_T156_T57 Manchester  T239. T111_T122 T0\n",
      "Transcription for segment_279.wav: TASK TAGGER ENTITY TEAM NAME BT237 END ENTITY TEAM NAME Manchester T239. INTENT COMMENT EOS\n"
     ]
    },
    {
     "data": {
      "application/vnd.jupyter.widget-view+json": {
       "model_id": "e3b3a34f9957428e9699e490e1f0b8e2",
       "version_major": 2,
       "version_minor": 0
      },
      "text/plain": [
       "Transcribing:   0%|          | 0/1 [00:00<?, ?it/s]"
      ]
     },
     "metadata": {},
     "output_type": "display_data"
    },
    {
     "name": "stdout",
     "output_type": "stream",
     "text": [
      "T1 T2 T237_T200_T76 J T239 T237_ T239 T237_ ps s T239 T237 T239 T237é T239 T111_T204_T195 T0\n",
      "Transcription for segment_374.wav: TASK TAGGER ENTITY PATIENT INFO J END ENTITY  END ENTITY  ps s END ENTITY END T237é END INTENT SYMPTOM REPORT EOS\n"
     ]
    },
    {
     "data": {
      "application/vnd.jupyter.widget-view+json": {
       "model_id": "bffd37641fc943e39634313d89eea0d1",
       "version_major": 2,
       "version_minor": 0
      },
      "text/plain": [
       "Transcribing:   0%|          | 0/1 [00:00<?, ?it/s]"
      ]
     },
     "metadata": {},
     "output_type": "display_data"
    },
    {
     "name": "stdout",
     "output_type": "stream",
     "text": [
      "T1 T2 T237_T255 T237_ प T239  पोड T239. T111_T247_T196 T0\n",
      "Transcription for segment_521.wav: TASK TAGGER ENTITY ACTION ENTITY  प END पोड T239. INTENT STOP TEST EOS\n"
     ]
    },
    {
     "data": {
      "application/vnd.jupyter.widget-view+json": {
       "model_id": "a43e057e25bb4862937dac8dacf32084",
       "version_major": 2,
       "version_minor": 0
      },
      "text/plain": [
       "Transcribing:   0%|          | 0/1 [00:00<?, ?it/s]"
      ]
     },
     "metadata": {},
     "output_type": "display_data"
    },
    {
     "name": "stdout",
     "output_type": "stream",
     "text": [
      "T1 T2 T237_T255  T237_T41_T157  T237__T157  T239. T111_T32_T196 T0\n",
      "Transcription for segment_52.wav: TASK TAGGER ENTITY ACTION ENTITY SETTING TYPE ENTITY  TYPE T239. INTENT CONTROL TEST EOS\n"
     ]
    },
    {
     "data": {
      "application/vnd.jupyter.widget-view+json": {
       "model_id": "e79c25129a414adcb9c7f8bc5cca7303",
       "version_major": 2,
       "version_minor": 0
      },
      "text/plain": [
       "Transcribing:   0%|          | 0/1 [00:00<?, ?it/s]"
      ]
     },
     "metadata": {},
     "output_type": "display_data"
    },
    {
     "name": "stdout",
     "output_type": "stream",
     "text": [
      "T1 T2 T237_T255  T237__ मन T239. T111_T159_T195 T0\n",
      "Transcription for segment_351.wav: TASK TAGGER ENTITY ACTION ENTITY   मन T239. INTENT SEND REPORT EOS\n"
     ]
    },
    {
     "data": {
      "application/vnd.jupyter.widget-view+json": {
       "model_id": "013bbea03dee4d0e81b1ef26ba6647fa",
       "version_major": 2,
       "version_minor": 0
      },
      "text/plain": [
       "Transcribing:   0%|          | 0/1 [00:00<?, ?it/s]"
      ]
     },
     "metadata": {},
     "output_type": "display_data"
    },
    {
     "name": "stdout",
     "output_type": "stream",
     "text": [
      "T1 T2 T237_T76 ter T239 T237_T255 T237_ T239 T237_s T239 T237_T182ier T239 T111_T204_T195 T0\n",
      "Transcription for segment_654.wav: TASK TAGGER ENTITY INFO ter END ENTITY ACTION ENTITY  END ENTITY s END ENTITY T182ier END INTENT SYMPTOM REPORT EOS\n"
     ]
    },
    {
     "data": {
      "application/vnd.jupyter.widget-view+json": {
       "model_id": "5db126565774422e92d348cfd4eaf396",
       "version_major": 2,
       "version_minor": 0
      },
      "text/plain": [
       "Transcribing:   0%|          | 0/1 [00:00<?, ?it/s]"
      ]
     },
     "metadata": {},
     "output_type": "display_data"
    },
    {
     "name": "stdout",
     "output_type": "stream",
     "text": [
      "T1 T2 I gen T237T255 set T237T157    pro  ackk. T111_T149_T163 T0\n",
      "Transcription for segment_237.wav: TASK TAGGER I gen T237T255 set T237T157 pro ackk. INTENT SET RECIPE EOS\n"
     ]
    },
    {
     "data": {
      "application/vnd.jupyter.widget-view+json": {
       "model_id": "b77c09ff8b60420781113aa10220b2fb",
       "version_major": 2,
       "version_minor": 0
      },
      "text/plain": [
       "Transcribing:   0%|          | 0/1 [00:00<?, ?it/s]"
      ]
     },
     "metadata": {},
     "output_type": "display_data"
    },
    {
     "name": "stdout",
     "output_type": "stream",
     "text": [
      "T1 T2 T237_T255 T237_ _T183 T0\n",
      "Transcription for segment_560.wav: TASK TAGGER ENTITY ACTION ENTITY   MEASUREMENT EOS\n"
     ]
    },
    {
     "data": {
      "application/vnd.jupyter.widget-view+json": {
       "model_id": "3462c0f31b27468885d33395ebdc7f77",
       "version_major": 2,
       "version_minor": 0
      },
      "text/plain": [
       "Transcribing:   0%|          | 0/1 [00:00<?, ?it/s]"
      ]
     },
     "metadata": {},
     "output_type": "display_data"
    },
    {
     "name": "stdout",
     "output_type": "stream",
     "text": [
      "T1 T2 T237_T255  Sve T239 T237_T157  T239 T111_T32_T79 T0\n",
      "Transcription for segment_285.wav: TASK TAGGER ENTITY ACTION Sve END ENTITY TYPE END INTENT CONTROL CONTENT EOS\n"
     ]
    },
    {
     "data": {
      "application/vnd.jupyter.widget-view+json": {
       "model_id": "a0de9988cd32422cb6f25733d987c720",
       "version_major": 2,
       "version_minor": 0
      },
      "text/plain": [
       "Transcribing:   0%|          | 0/1 [00:00<?, ?it/s]"
      ]
     },
     "metadata": {},
     "output_type": "display_data"
    },
    {
     "name": "stdout",
     "output_type": "stream",
     "text": [
      "T1 T2 T237_T255 T237_T157 T111_T134 T0\n",
      "Transcription for segment_215.wav: TASK TAGGER ENTITY ACTION ENTITY TYPE INTENT ACCOUNT EOS\n"
     ]
    },
    {
     "data": {
      "application/vnd.jupyter.widget-view+json": {
       "model_id": "ca5e44d105ed4d459064ebc31653abdb",
       "version_major": 2,
       "version_minor": 0
      },
      "text/plain": [
       "Transcribing:   0%|          | 0/1 [00:00<?, ?it/s]"
      ]
     },
     "metadata": {},
     "output_type": "display_data"
    },
    {
     "name": "stdout",
     "output_type": "stream",
     "text": [
      "T1 T2 T237_T255 T239 _T111_T46 T0\n",
      "Transcription for segment_148.wav: TASK TAGGER ENTITY ACTION END  INTENT WORKOUT EOS\n"
     ]
    },
    {
     "data": {
      "application/vnd.jupyter.widget-view+json": {
       "model_id": "d1f59d0166d54e098332f56116f6b978",
       "version_major": 2,
       "version_minor": 0
      },
      "text/plain": [
       "Transcribing:   0%|          | 0/1 [00:00<?, ?it/s]"
      ]
     },
     "metadata": {},
     "output_type": "display_data"
    },
    {
     "name": "stdout",
     "output_type": "stream",
     "text": [
      "T1 T2 T237_T255  T237T49  T237 ়ా. T111_T35_T90 T0\n",
      "Transcription for segment_544.wav: TASK TAGGER ENTITY ACTION T237T49 ENTITY ়ా. INTENT COOKING AVAILABILITY EOS\n"
     ]
    },
    {
     "data": {
      "application/vnd.jupyter.widget-view+json": {
       "model_id": "348011fc46ee4475b3c55155b50e3bd5",
       "version_major": 2,
       "version_minor": 0
      },
      "text/plain": [
       "Transcribing:   0%|          | 0/1 [00:00<?, ?it/s]"
      ]
     },
     "metadata": {},
     "output_type": "display_data"
    },
    {
     "name": "stdout",
     "output_type": "stream",
     "text": [
      "T1 T2 T237_   সনিকার T237__T157 ెట్ T239  T237__T157  T111_T66 T0\n",
      "Transcription for segment_378.wav: TASK TAGGER ENTITY  সনিকার ENTITY  TYPE ెట్ END ENTITY  TYPE INTENT NEWS EOS\n"
     ]
    },
    {
     "data": {
      "application/vnd.jupyter.widget-view+json": {
       "model_id": "a2beb60b2cad45d6a16a304a1663410a",
       "version_major": 2,
       "version_minor": 0
      },
      "text/plain": [
       "Transcribing:   0%|          | 0/1 [00:00<?, ?it/s]"
      ]
     },
     "metadata": {},
     "output_type": "display_data"
    },
    {
     "name": "stdout",
     "output_type": "stream",
     "text": [
      "T1 T2 T237_T255 T237_T100 T239 T237_T157 से T239 _T111_T211 T0\n",
      "Transcription for segment_24.wav: TASK TAGGER ENTITY ACTION ENTITY AMOUNT END ENTITY TYPE से END  INTENT FUNDS EOS\n"
     ]
    },
    {
     "data": {
      "application/vnd.jupyter.widget-view+json": {
       "model_id": "115b5a19c2134d509d135a6d0ec07be2",
       "version_major": 2,
       "version_minor": 0
      },
      "text/plain": [
       "Transcribing:   0%|          | 0/1 [00:00<?, ?it/s]"
      ]
     },
     "metadata": {},
     "output_type": "display_data"
    },
    {
     "name": "stdout",
     "output_type": "stream",
     "text": [
      "T1 T2 T237_T255 Mi T239 T237_T203 pt T239 pus for. T111_T35_T32 T0\n",
      "Transcription for segment_31.wav: TASK TAGGER ENTITY ACTION Mi END ENTITY INGREDIENT pt END pus for. INTENT COOKING CONTROL EOS\n"
     ]
    },
    {
     "data": {
      "application/vnd.jupyter.widget-view+json": {
       "model_id": "ecc1b047d7cf4476a7c047a9f0968d69",
       "version_major": 2,
       "version_minor": 0
      },
      "text/plain": [
       "Transcribing:   0%|          | 0/1 [00:00<?, ?it/s]"
      ]
     },
     "metadata": {},
     "output_type": "display_data"
    },
    {
     "name": "stdout",
     "output_type": "stream",
     "text": [
      "T1 T2 T237_T255 Send T239 T237_T100 $ T239 t T237_T157  T239. T111_T247_T155 T0\n",
      "Transcription for segment_49.wav: TASK TAGGER ENTITY ACTION Send END ENTITY AMOUNT $ END t ENTITY TYPE T239. INTENT STOP SAMPLE EOS\n"
     ]
    },
    {
     "data": {
      "application/vnd.jupyter.widget-view+json": {
       "model_id": "ae1ba426e9eb4442884ef62eabcb4ddc",
       "version_major": 2,
       "version_minor": 0
      },
      "text/plain": [
       "Transcribing:   0%|          | 0/1 [00:00<?, ?it/s]"
      ]
     },
     "metadata": {},
     "output_type": "display_data"
    },
    {
     "name": "stdout",
     "output_type": "stream",
     "text": [
      "T1 T2 T237_T255 cte T239 T237_T203 pa  cin. T111_T32_T32 T0\n",
      "Transcription for segment_116.wav: TASK TAGGER ENTITY ACTION cte END ENTITY INGREDIENT pa cin. INTENT CONTROL CONTROL EOS\n"
     ]
    },
    {
     "data": {
      "application/vnd.jupyter.widget-view+json": {
       "model_id": "5ce3c927abe24d09b208842f9224bb79",
       "version_major": 2,
       "version_minor": 0
      },
      "text/plain": [
       "Transcribing:   0%|          | 0/1 [00:00<?, ?it/s]"
      ]
     },
     "metadata": {},
     "output_type": "display_data"
    },
    {
     "name": "stdout",
     "output_type": "stream",
     "text": [
      "T1 T2 T237_T255 Bst T239 T237_T214  T239 _ T237 ch. T111_T75_T79 T0\n",
      "Transcription for segment_515.wav: TASK TAGGER ENTITY ACTION Bst END ENTITY TITLE END   ENTITY ch. INTENT MEDIA CONTENT EOS\n"
     ]
    },
    {
     "data": {
      "application/vnd.jupyter.widget-view+json": {
       "model_id": "0324e1b738984316afbf229606ce129a",
       "version_major": 2,
       "version_minor": 0
      },
      "text/plain": [
       "Transcribing:   0%|          | 0/1 [00:00<?, ?it/s]"
      ]
     },
     "metadata": {},
     "output_type": "display_data"
    },
    {
     "name": "stdout",
     "output_type": "stream",
     "text": [
      "T1 T2 T237_T255 Stop T239 T237_T75_T157 Hur T239. T111_T247_T46 T0\n",
      "Transcription for segment_168.wav: TASK TAGGER ENTITY ACTION Stop END ENTITY MEDIA TYPE Hur T239. INTENT STOP WORKOUT EOS\n"
     ]
    },
    {
     "data": {
      "application/vnd.jupyter.widget-view+json": {
       "model_id": "912ec0f100d44f5394c6bed50707642e",
       "version_major": 2,
       "version_minor": 0
      },
      "text/plain": [
       "Transcribing:   0%|          | 0/1 [00:00<?, ?it/s]"
      ]
     },
     "metadata": {},
     "output_type": "display_data"
    },
    {
     "name": "stdout",
     "output_type": "stream",
     "text": [
      "T1 T2 T237_T234_T57  ક ં  ર. T111_T122 T0\n",
      "Transcription for segment_185.wav: TASK TAGGER ENTITY PLAYER NAME ક ં ર. INTENT COMMENT EOS\n"
     ]
    },
    {
     "data": {
      "application/vnd.jupyter.widget-view+json": {
       "model_id": "39a824a70adc43299b69d913325b4112",
       "version_major": 2,
       "version_minor": 0
      },
      "text/plain": [
       "Transcribing:   0%|          | 0/1 [00:00<?, ?it/s]"
      ]
     },
     "metadata": {},
     "output_type": "display_data"
    },
    {
     "name": "stdout",
     "output_type": "stream",
     "text": [
      "T1 T2 T237_T255 U T239 T237_T157 ct T239. T111_T32_T32 T0\n",
      "Transcription for segment_350.wav: TASK TAGGER ENTITY ACTION U END ENTITY TYPE ct T239. INTENT CONTROL CONTROL EOS\n"
     ]
    },
    {
     "data": {
      "application/vnd.jupyter.widget-view+json": {
       "model_id": "62b835b633f14e4f8dc01b465103bb74",
       "version_major": 2,
       "version_minor": 0
      },
      "text/plain": [
       "Transcribing:   0%|          | 0/1 [00:00<?, ?it/s]"
      ]
     },
     "metadata": {},
     "output_type": "display_data"
    },
    {
     "name": "stdout",
     "output_type": "stream",
     "text": [
      "T1 T2 T237_T200_T76 He T239 T237T255 liva  T239 T237  T239 T237  T237_T56  T239 T111_T204_T195 T0\n",
      "Transcription for segment_490.wav: TASK TAGGER ENTITY PATIENT INFO He END T237T255 liva END ENTITY END ENTITY ENTITY TIME END INTENT SYMPTOM REPORT EOS\n"
     ]
    },
    {
     "data": {
      "application/vnd.jupyter.widget-view+json": {
       "model_id": "cf979255bd2349fa86e60e6b862492f2",
       "version_major": 2,
       "version_minor": 0
      },
      "text/plain": [
       "Transcribing:   0%|          | 0/1 [00:00<?, ?it/s]"
      ]
     },
     "metadata": {},
     "output_type": "display_data"
    },
    {
     "name": "stdout",
     "output_type": "stream",
     "text": [
      "T1 T2 T237_T255 T237_ T111_T32 T0\n",
      "Transcription for segment_393.wav: TASK TAGGER ENTITY ACTION ENTITY  INTENT CONTROL EOS\n"
     ]
    },
    {
     "data": {
      "application/vnd.jupyter.widget-view+json": {
       "model_id": "aad55a6cc7594cd0b81c45cf0781a9ac",
       "version_major": 2,
       "version_minor": 0
      },
      "text/plain": [
       "Transcribing:   0%|          | 0/1 [00:00<?, ?it/s]"
      ]
     },
     "metadata": {},
     "output_type": "display_data"
    },
    {
     "name": "stdout",
     "output_type": "stream",
     "text": [
      "T1 T2 T237_T255  T239 T237_  स स T239 T111_T88_T32 T0\n",
      "Transcription for segment_88.wav: TASK TAGGER ENTITY ACTION END ENTITY  स स END INTENT FIND CONTROL EOS\n"
     ]
    },
    {
     "data": {
      "application/vnd.jupyter.widget-view+json": {
       "model_id": "f6c11a0e43d84611a939236a3aa9613c",
       "version_major": 2,
       "version_minor": 0
      },
      "text/plain": [
       "Transcribing:   0%|          | 0/1 [00:00<?, ?it/s]"
      ]
     },
     "metadata": {},
     "output_type": "display_data"
    },
    {
     "name": "stdout",
     "output_type": "stream",
     "text": [
      "T1 T2 T237_T255  T239 the T237_T249   ste T239. T111_T32_T32 T0\n",
      "Transcription for segment_308.wav: TASK TAGGER ENTITY ACTION END the ENTITY DEVICE ste T239. INTENT CONTROL CONTROL EOS\n"
     ]
    },
    {
     "data": {
      "application/vnd.jupyter.widget-view+json": {
       "model_id": "9c25a46536a14fc383c4e8529edf6b17",
       "version_major": 2,
       "version_minor": 0
      },
      "text/plain": [
       "Transcribing:   0%|          | 0/1 [00:00<?, ?it/s]"
      ]
     },
     "metadata": {},
     "output_type": "display_data"
    },
    {
     "name": "stdout",
     "output_type": "stream",
     "text": [
      "T1 T2 T237_T200_T76 J T239 T237_T255    T239 T237_ el T239 T111_T204_T195 T0\n",
      "Transcription for segment_272.wav: TASK TAGGER ENTITY PATIENT INFO J END ENTITY ACTION END ENTITY  el END INTENT SYMPTOM REPORT EOS\n"
     ]
    },
    {
     "data": {
      "application/vnd.jupyter.widget-view+json": {
       "model_id": "7c97b8eacd244fbcae6d156316f97f76",
       "version_major": 2,
       "version_minor": 0
      },
      "text/plain": [
       "Transcribing:   0%|          | 0/1 [00:00<?, ?it/s]"
      ]
     },
     "metadata": {},
     "output_type": "display_data"
    },
    {
     "name": "stdout",
     "output_type": "stream",
     "text": [
      "T1 T2 T237_T255  T239 T237_T157 T239. T111_T195 T0\n",
      "Transcription for segment_334.wav: TASK TAGGER ENTITY ACTION END ENTITY TYPE T239. INTENT REPORT EOS\n"
     ]
    },
    {
     "data": {
      "application/vnd.jupyter.widget-view+json": {
       "model_id": "5b520faca81943cd88885e8c4bc1e6e9",
       "version_major": 2,
       "version_minor": 0
      },
      "text/plain": [
       "Transcribing:   0%|          | 0/1 [00:00<?, ?it/s]"
      ]
     },
     "metadata": {},
     "output_type": "display_data"
    },
    {
     "name": "stdout",
     "output_type": "stream",
     "text": [
      "T1 T2 T237_T255 T157 T239. _T111_T32 T0\n",
      "Transcription for segment_288.wav: TASK TAGGER ENTITY ACTION TYPE T239.  INTENT CONTROL EOS\n"
     ]
    },
    {
     "data": {
      "application/vnd.jupyter.widget-view+json": {
       "model_id": "be46a5dab10047e39337a23ee7de000b",
       "version_major": 2,
       "version_minor": 0
      },
      "text/plain": [
       "Transcribing:   0%|          | 0/1 [00:00<?, ?it/s]"
      ]
     },
     "metadata": {},
     "output_type": "display_data"
    },
    {
     "name": "stdout",
     "output_type": "stream",
     "text": [
      "T1 T2 Whatwi  the T237_T249 roh T239 ch? T111_T212_T55 T0\n",
      "Transcription for segment_23.wav: TASK TAGGER Whatwi the ENTITY DEVICE roh END ch? INTENT GET STATUS EOS\n"
     ]
    },
    {
     "data": {
      "application/vnd.jupyter.widget-view+json": {
       "model_id": "b4a4dc841e8d4c0abb82c56f6f000cdc",
       "version_major": 2,
       "version_minor": 0
      },
      "text/plain": [
       "Transcribing:   0%|          | 0/1 [00:00<?, ?it/s]"
      ]
     },
     "metadata": {},
     "output_type": "display_data"
    },
    {
     "name": "stdout",
     "output_type": "stream",
     "text": [
      "T1 T2 T237_T234_T57 De T239risse pas T237_T234_T57, de roing pas T237_T156_T57 Fis. T111_T122 T0\n",
      "Transcription for segment_469.wav: TASK TAGGER ENTITY PLAYER NAME De T239risse pas ENTITY PLAYER T57, de roing pas ENTITY TEAM NAME Fis. INTENT COMMENT EOS\n"
     ]
    },
    {
     "data": {
      "application/vnd.jupyter.widget-view+json": {
       "model_id": "1d6d7b17c0a84c5cbb37564b4eff9c0d",
       "version_major": 2,
       "version_minor": 0
      },
      "text/plain": [
       "Transcribing:   0%|          | 0/1 [00:00<?, ?it/s]"
      ]
     },
     "metadata": {},
     "output_type": "display_data"
    },
    {
     "name": "stdout",
     "output_type": "stream",
     "text": [
      "T1 T2 T237_T255  T237_   T111_T212_T32 T0\n",
      "Transcription for segment_587.wav: TASK TAGGER ENTITY ACTION ENTITY  INTENT GET CONTROL EOS\n"
     ]
    },
    {
     "data": {
      "application/vnd.jupyter.widget-view+json": {
       "model_id": "8d4f9b3eb69743f79f8d18cc7e9ba795",
       "version_major": 2,
       "version_minor": 0
      },
      "text/plain": [
       "Transcribing:   0%|          | 0/1 [00:00<?, ?it/s]"
      ]
     },
     "metadata": {},
     "output_type": "display_data"
    },
    {
     "name": "stdout",
     "output_type": "stream",
     "text": [
      "T1 T2 T237_T255  T239 T237_T157  T239  T237_T61_T157 শপ  T239 T111_T81_T61 T0\n",
      "Transcription for segment_57.wav: TASK TAGGER ENTITY ACTION END ENTITY TYPE END ENTITY LIST TYPE শপ END INTENT TO LIST EOS\n"
     ]
    },
    {
     "data": {
      "application/vnd.jupyter.widget-view+json": {
       "model_id": "f43bffdfc40044b1a47e8034bd16c6e0",
       "version_major": 2,
       "version_minor": 0
      },
      "text/plain": [
       "Transcribing:   0%|          | 0/1 [00:00<?, ?it/s]"
      ]
     },
     "metadata": {},
     "output_type": "display_data"
    },
    {
     "name": "stdout",
     "output_type": "stream",
     "text": [
      "T1 T2 T237_T255  T237_T101_T32  T239   T111_T32_T101 T0\n",
      "Transcription for segment_70.wav: TASK TAGGER ENTITY ACTION ENTITY PLAYBACK CONTROL END INTENT CONTROL PLAYBACK EOS\n"
     ]
    },
    {
     "data": {
      "application/vnd.jupyter.widget-view+json": {
       "model_id": "27622cec2b724f438683539f7d4c1fb9",
       "version_major": 2,
       "version_minor": 0
      },
      "text/plain": [
       "Transcribing:   0%|          | 0/1 [00:00<?, ?it/s]"
      ]
     },
     "metadata": {},
     "output_type": "display_data"
    },
    {
     "name": "stdout",
     "output_type": "stream",
     "text": [
      "T1 T2 T237_T255 T237_T216_T157  T237_T196_T157   T111_T153_T155 T0\n",
      "Transcription for segment_84.wav: TASK TAGGER ENTITY ACTION ENTITY TRANSACTION TYPE ENTITY TEST TYPE INTENT COLLECT SAMPLE EOS\n"
     ]
    },
    {
     "data": {
      "application/vnd.jupyter.widget-view+json": {
       "model_id": "d3e4dc1b74e24a26ad27e765edf2ce9b",
       "version_major": 2,
       "version_minor": 0
      },
      "text/plain": [
       "Transcribing:   0%|          | 0/1 [00:00<?, ?it/s]"
      ]
     },
     "metadata": {},
     "output_type": "display_data"
    },
    {
     "name": "stdout",
     "output_type": "stream",
     "text": [
      "T1 T2 T237_T255  T239 _  T239 T237__T157T237_T157    T239. T111_T98_T41 T0\n",
      "Transcription for segment_262.wav: TASK TAGGER ENTITY ACTION END   END ENTITY  T157T237 TYPE T239. INTENT CHANGE SETTING EOS\n"
     ]
    },
    {
     "data": {
      "application/vnd.jupyter.widget-view+json": {
       "model_id": "ae4274f5a7b84d5abb575fb1ccfed435",
       "version_major": 2,
       "version_minor": 0
      },
      "text/plain": [
       "Transcribing:   0%|          | 0/1 [00:00<?, ?it/s]"
      ]
     },
     "metadata": {},
     "output_type": "display_data"
    },
    {
     "name": "stdout",
     "output_type": "stream",
     "text": [
      "T1 T2 T237_T255 T237_T201_T157  निी T239 ो T239 T237_T253 नंडवास T239 अत ज T239 T111_T145_T201 T0\n",
      "Transcription for segment_75.wav: TASK TAGGER ENTITY ACTION ENTITY ITINERARY TYPE निी END ो END ENTITY DESTINATION नंडवास END अत ज END INTENT ADD ITINERARY EOS\n"
     ]
    },
    {
     "data": {
      "application/vnd.jupyter.widget-view+json": {
       "model_id": "65bf9c89ba1f4c14875a5a16d05bc248",
       "version_major": 2,
       "version_minor": 0
      },
      "text/plain": [
       "Transcribing:   0%|          | 0/1 [00:00<?, ?it/s]"
      ]
     },
     "metadata": {},
     "output_type": "display_data"
    },
    {
     "name": "stdout",
     "output_type": "stream",
     "text": [
      "T1 T2 T237_T57 వ స్టట్ T239 క  స్్రంస T239 దడ  ్ోి. T111_T122 T0\n",
      "Transcription for segment_8.wav: TASK TAGGER ENTITY NAME వ స్టట్ END క స్్రంస END దడ ్ోి. INTENT COMMENT EOS\n"
     ]
    },
    {
     "data": {
      "application/vnd.jupyter.widget-view+json": {
       "model_id": "0a1d58a597f94436a43f7123c0f3e808",
       "version_major": 2,
       "version_minor": 0
      },
      "text/plain": [
       "Transcribing:   0%|          | 0/1 [00:00<?, ?it/s]"
      ]
     },
     "metadata": {},
     "output_type": "display_data"
    },
    {
     "name": "stdout",
     "output_type": "stream",
     "text": [
      "T1 T2 T237_ _ _T111_T183 T0\n",
      "Transcription for segment_360.wav: TASK TAGGER ENTITY     INTENT MEASUREMENT EOS\n"
     ]
    },
    {
     "data": {
      "application/vnd.jupyter.widget-view+json": {
       "model_id": "f3b6ef80534947898aefe9f66b30aa65",
       "version_major": 2,
       "version_minor": 0
      },
      "text/plain": [
       "Transcribing:   0%|          | 0/1 [00:00<?, ?it/s]"
      ]
     },
     "metadata": {},
     "output_type": "display_data"
    },
    {
     "name": "stdout",
     "output_type": "stream",
     "text": [
      "T1 T2 T237_T255 র চ  অোকল ভ্ T237  T239. T111_T159_T195 T0\n",
      "Transcription for segment_576.wav: TASK TAGGER ENTITY ACTION র চ অোকল ভ্ ENTITY T239. INTENT SEND REPORT EOS\n"
     ]
    },
    {
     "data": {
      "application/vnd.jupyter.widget-view+json": {
       "model_id": "53956933561f42369d2baed2e0c2e4e5",
       "version_major": 2,
       "version_minor": 0
      },
      "text/plain": [
       "Transcribing:   0%|          | 0/1 [00:00<?, ?it/s]"
      ]
     },
     "metadata": {},
     "output_type": "display_data"
    },
    {
     "name": "stdout",
     "output_type": "stream",
     "text": [
      "T1 T2 T237_T255 T237_ _T111_T46 T0\n",
      "Transcription for segment_222.wav: TASK TAGGER ENTITY ACTION ENTITY   INTENT WORKOUT EOS\n"
     ]
    },
    {
     "data": {
      "application/vnd.jupyter.widget-view+json": {
       "model_id": "57545f99c33d45148661c37472778482",
       "version_major": 2,
       "version_minor": 0
      },
      "text/plain": [
       "Transcribing:   0%|          | 0/1 [00:00<?, ?it/s]"
      ]
     },
     "metadata": {},
     "output_type": "display_data"
    },
    {
     "name": "stdout",
     "output_type": "stream",
     "text": [
      "T1 T2 T237_T255  T237_T100  T239 T237__T157. T111_T183 T0\n",
      "Transcription for segment_260.wav: TASK TAGGER ENTITY ACTION ENTITY AMOUNT END ENTITY  T157. INTENT MEASUREMENT EOS\n"
     ]
    },
    {
     "data": {
      "application/vnd.jupyter.widget-view+json": {
       "model_id": "8f13a5e20a274705a70b8ed128fc133b",
       "version_major": 2,
       "version_minor": 0
      },
      "text/plain": [
       "Transcribing:   0%|          | 0/1 [00:00<?, ?it/s]"
      ]
     },
     "metadata": {},
     "output_type": "display_data"
    },
    {
     "name": "stdout",
     "output_type": "stream",
     "text": [
      "T1 T2 T237_T255   _T157 ् T111_T247_T211 T0\n",
      "Transcription for segment_349.wav: TASK TAGGER ENTITY ACTION  TYPE ् INTENT STOP FUNDS EOS\n"
     ]
    },
    {
     "data": {
      "application/vnd.jupyter.widget-view+json": {
       "model_id": "5bb8e647328a4aca8ce33fcf5f7cc7a3",
       "version_major": 2,
       "version_minor": 0
      },
      "text/plain": [
       "Transcribing:   0%|          | 0/1 [00:00<?, ?it/s]"
      ]
     },
     "metadata": {},
     "output_type": "display_data"
    },
    {
     "name": "stdout",
     "output_type": "stream",
     "text": [
      "T1 T2 T237_T255 _ स्ट T237_T157 ॉ. T111_T247_T32 T0\n",
      "Transcription for segment_623.wav: TASK TAGGER ENTITY ACTION   स्ट ENTITY TYPE ॉ. INTENT STOP CONTROL EOS\n"
     ]
    },
    {
     "data": {
      "application/vnd.jupyter.widget-view+json": {
       "model_id": "a864691b59494af9bedbe6d1cd2c7809",
       "version_major": 2,
       "version_minor": 0
      },
      "text/plain": [
       "Transcribing:   0%|          | 0/1 [00:00<?, ?it/s]"
      ]
     },
     "metadata": {},
     "output_type": "display_data"
    },
    {
     "name": "stdout",
     "output_type": "stream",
     "text": [
      "T1 T2 T237_ T237_ k T0\n",
      "Transcription for segment_542.wav: TASK TAGGER ENTITY  ENTITY  k EOS\n"
     ]
    },
    {
     "data": {
      "application/vnd.jupyter.widget-view+json": {
       "model_id": "4c397fd8d021432c8db3b544350be77f",
       "version_major": 2,
       "version_minor": 0
      },
      "text/plain": [
       "Transcribing:   0%|          | 0/1 [00:00<?, ?it/s]"
      ]
     },
     "metadata": {},
     "output_type": "display_data"
    },
    {
     "name": "stdout",
     "output_type": "stream",
     "text": [
      "T1 T2 T237_T255 T239 T111_k T0\n",
      "Transcription for segment_114.wav: TASK TAGGER ENTITY ACTION END INTENT k EOS\n"
     ]
    },
    {
     "data": {
      "application/vnd.jupyter.widget-view+json": {
       "model_id": "55444c720998484c9a5fe61f948c7acd",
       "version_major": 2,
       "version_minor": 0
      },
      "text/plain": [
       "Transcribing:   0%|          | 0/1 [00:00<?, ?it/s]"
      ]
     },
     "metadata": {},
     "output_type": "display_data"
    },
    {
     "name": "stdout",
     "output_type": "stream",
     "text": [
      "T1 T2 T237_T255 T237_T157 _  T111_T111_T46 T0\n",
      "Transcription for segment_327.wav: TASK TAGGER ENTITY ACTION ENTITY TYPE   INTENT INTENT WORKOUT EOS\n"
     ]
    },
    {
     "data": {
      "application/vnd.jupyter.widget-view+json": {
       "model_id": "689bed7dea9b4d0698d6c8642d0f8e2d",
       "version_major": 2,
       "version_minor": 0
      },
      "text/plain": [
       "Transcribing:   0%|          | 0/1 [00:00<?, ?it/s]"
      ]
     },
     "metadata": {},
     "output_type": "display_data"
    },
    {
     "name": "stdout",
     "output_type": "stream",
     "text": [
      "T1 T2 T237_T255 _. T111_T35_T32 T0\n",
      "Transcription for segment_550.wav: TASK TAGGER ENTITY ACTION  . INTENT COOKING CONTROL EOS\n"
     ]
    },
    {
     "data": {
      "application/vnd.jupyter.widget-view+json": {
       "model_id": "0dff95fa8d694cd2885c4e1d7a091198",
       "version_major": 2,
       "version_minor": 0
      },
      "text/plain": [
       "Transcribing:   0%|          | 0/1 [00:00<?, ?it/s]"
      ]
     },
     "metadata": {},
     "output_type": "display_data"
    },
    {
     "name": "stdout",
     "output_type": "stream",
     "text": [
      "T1 T2 T237_T255 Decreaseat T239 T237_T35_T209  spe. T111_T35_T186 T0\n",
      "Transcription for segment_163.wav: TASK TAGGER ENTITY ACTION Decreaseat END ENTITY COOKING STEP spe. INTENT COOKING INTENSITY EOS\n"
     ]
    },
    {
     "data": {
      "application/vnd.jupyter.widget-view+json": {
       "model_id": "eeb1f0e3c6d343e192d338fd0eed616f",
       "version_major": 2,
       "version_minor": 0
      },
      "text/plain": [
       "Transcribing:   0%|          | 0/1 [00:00<?, ?it/s]"
      ]
     },
     "metadata": {},
     "output_type": "display_data"
    },
    {
     "name": "stdout",
     "output_type": "stream",
     "text": [
      "T1 T2 T237_T234_T57 Bg T239  reur croen T237__T57k T239. T111_T213 T0\n",
      "Transcription for segment_164.wav: TASK TAGGER ENTITY PLAYER NAME Bg END reur croen ENTITY  T57k T239. INTENT DECISION EOS\n"
     ]
    },
    {
     "data": {
      "application/vnd.jupyter.widget-view+json": {
       "model_id": "1a6cf4b995074868861e10b78960888b",
       "version_major": 2,
       "version_minor": 0
      },
      "text/plain": [
       "Transcribing:   0%|          | 0/1 [00:00<?, ?it/s]"
      ]
     },
     "metadata": {},
     "output_type": "display_data"
    },
    {
     "name": "stdout",
     "output_type": "stream",
     "text": [
      "T1 T2 T237_T255  T239 T237_ check  T237T100 G T239  T239 T111_T149_T213 T0\n",
      "Transcription for segment_605.wav: TASK TAGGER ENTITY ACTION END ENTITY  check T237T100 G END END INTENT SET DECISION EOS\n"
     ]
    },
    {
     "data": {
      "application/vnd.jupyter.widget-view+json": {
       "model_id": "ccc09e2a935b4291b1cd7fe85787e99d",
       "version_major": 2,
       "version_minor": 0
      },
      "text/plain": [
       "Transcribing:   0%|          | 0/1 [00:00<?, ?it/s]"
      ]
     },
     "metadata": {},
     "output_type": "display_data"
    },
    {
     "name": "stdout",
     "output_type": "stream",
     "text": [
      "T1 T2 T237_T255 T237_ T111_T32 T0\n",
      "Transcription for segment_361.wav: TASK TAGGER ENTITY ACTION ENTITY  INTENT CONTROL EOS\n"
     ]
    },
    {
     "data": {
      "application/vnd.jupyter.widget-view+json": {
       "model_id": "542bfbf5a69048d396dd331c7242af73",
       "version_major": 2,
       "version_minor": 0
      },
      "text/plain": [
       "Transcribing:   0%|          | 0/1 [00:00<?, ?it/s]"
      ]
     },
     "metadata": {},
     "output_type": "display_data"
    },
    {
     "name": "stdout",
     "output_type": "stream",
     "text": [
      "T1 T2 T237_T255 T237_T157 _T111_T41 T0\n",
      "Transcription for segment_40.wav: TASK TAGGER ENTITY ACTION ENTITY TYPE  INTENT SETTING EOS\n"
     ]
    },
    {
     "data": {
      "application/vnd.jupyter.widget-view+json": {
       "model_id": "a093e8c7725343169fdafb0baa6e4487",
       "version_major": 2,
       "version_minor": 0
      },
      "text/plain": [
       "Transcribing:   0%|          | 0/1 [00:00<?, ?it/s]"
      ]
     },
     "metadata": {},
     "output_type": "display_data"
    },
    {
     "name": "stdout",
     "output_type": "stream",
     "text": [
      "T1 T2 T237_T255  T239 s ેस्ट T239  T237 T239 T111_T196_T196 T0\n",
      "Transcription for segment_454.wav: TASK TAGGER ENTITY ACTION END s ેस्ट END ENTITY END INTENT TEST TEST EOS\n"
     ]
    },
    {
     "data": {
      "application/vnd.jupyter.widget-view+json": {
       "model_id": "727f5278cfc64aa989009d40654147e3",
       "version_major": 2,
       "version_minor": 0
      },
      "text/plain": [
       "Transcribing:   0%|          | 0/1 [00:00<?, ?it/s]"
      ]
     },
     "metadata": {},
     "output_type": "display_data"
    },
    {
     "name": "stdout",
     "output_type": "stream",
     "text": [
      "T1 T2 T237_T255 _ सस्टtok T239 T237_T157. T111_T6_T164 T0\n",
      "Transcription for segment_442.wav: TASK TAGGER ENTITY ACTION   सस्टtok END ENTITY T157. INTENT CHECK TIMER EOS\n"
     ]
    },
    {
     "data": {
      "application/vnd.jupyter.widget-view+json": {
       "model_id": "e8ae79f4102d49c4a0003c46a8980cb0",
       "version_major": 2,
       "version_minor": 0
      },
      "text/plain": [
       "Transcribing:   0%|          | 0/1 [00:00<?, ?it/s]"
      ]
     },
     "metadata": {},
     "output_type": "display_data"
    },
    {
     "name": "stdout",
     "output_type": "stream",
     "text": [
      "T1 T2 T237_T255  T237_  T239 T237_T157 शॉపिंगং T239 T111_T81_T61 T0\n",
      "Transcription for segment_231.wav: TASK TAGGER ENTITY ACTION ENTITY  END ENTITY TYPE शॉపिंगং END INTENT TO LIST EOS\n"
     ]
    },
    {
     "data": {
      "application/vnd.jupyter.widget-view+json": {
       "model_id": "5e644e11f16f4737b7ce0c815df0f82b",
       "version_major": 2,
       "version_minor": 0
      },
      "text/plain": [
       "Transcribing:   0%|          | 0/1 [00:00<?, ?it/s]"
      ]
     },
     "metadata": {},
     "output_type": "display_data"
    },
    {
     "name": "stdout",
     "output_type": "stream",
     "text": [
      "T1 T2 T237_T255  T239 T237_T75_T157 T239 T111_T111_T46 T0\n",
      "Transcription for segment_293.wav: TASK TAGGER ENTITY ACTION END ENTITY MEDIA TYPE END INTENT INTENT WORKOUT EOS\n"
     ]
    },
    {
     "data": {
      "application/vnd.jupyter.widget-view+json": {
       "model_id": "927b46aa12864aad910598c1281ee2c5",
       "version_major": 2,
       "version_minor": 0
      },
      "text/plain": [
       "Transcribing:   0%|          | 0/1 [00:00<?, ?it/s]"
      ]
     },
     "metadata": {},
     "output_type": "display_data"
    },
    {
     "name": "stdout",
     "output_type": "stream",
     "text": [
      "T1 T2 T237_T255 T237_ _T111_T46 T0\n",
      "Transcription for segment_309.wav: TASK TAGGER ENTITY ACTION ENTITY   INTENT WORKOUT EOS\n"
     ]
    },
    {
     "data": {
      "application/vnd.jupyter.widget-view+json": {
       "model_id": "142f2b901e434780af8d557d0af86798",
       "version_major": 2,
       "version_minor": 0
      },
      "text/plain": [
       "Transcribing:   0%|          | 0/1 [00:00<?, ?it/s]"
      ]
     },
     "metadata": {},
     "output_type": "display_data"
    },
    {
     "name": "stdout",
     "output_type": "stream",
     "text": [
      "T1 T2 T237_T57  T157 হস T237__T157 প্েয়া  ম ন. T111_T16 T0\n",
      "Transcription for segment_421.wav: TASK TAGGER ENTITY NAME TYPE হস ENTITY  TYPE প্েয়া ম ন. INTENT RESULT EOS\n"
     ]
    },
    {
     "data": {
      "application/vnd.jupyter.widget-view+json": {
       "model_id": "e28fa8c43fec48ec9d7b56897af33c7d",
       "version_major": 2,
       "version_minor": 0
      },
      "text/plain": [
       "Transcribing:   0%|          | 0/1 [00:00<?, ?it/s]"
      ]
     },
     "metadata": {},
     "output_type": "display_data"
    },
    {
     "name": "stdout",
     "output_type": "stream",
     "text": [
      "T1 T2 T237_T255 T237_T157 क T111_T32 T0\n",
      "Transcription for segment_72.wav: TASK TAGGER ENTITY ACTION ENTITY TYPE क INTENT CONTROL EOS\n"
     ]
    },
    {
     "data": {
      "application/vnd.jupyter.widget-view+json": {
       "model_id": "5b6de00ff390460ea87ae219ce1d0d7c",
       "version_major": 2,
       "version_minor": 0
      },
      "text/plain": [
       "Transcribing:   0%|          | 0/1 [00:00<?, ?it/s]"
      ]
     },
     "metadata": {},
     "output_type": "display_data"
    },
    {
     "name": "stdout",
     "output_type": "stream",
     "text": [
      "T1 T2 T237_T255 T237_T134T157 क T239 _T111_T32 T0\n",
      "Transcription for segment_528.wav: TASK TAGGER ENTITY ACTION ENTITY T134T157 क END  INTENT CONTROL EOS\n"
     ]
    },
    {
     "data": {
      "application/vnd.jupyter.widget-view+json": {
       "model_id": "4898b00d2ceb413790cd39ada694ca41",
       "version_major": 2,
       "version_minor": 0
      },
      "text/plain": [
       "Transcribing:   0%|          | 0/1 [00:00<?, ?it/s]"
      ]
     },
     "metadata": {},
     "output_type": "display_data"
    },
    {
     "name": "stdout",
     "output_type": "stream",
     "text": [
      "T1 T2 T237_T255  T237_T157   T239. T111_T247_T164 T0\n",
      "Transcription for segment_217.wav: TASK TAGGER ENTITY ACTION ENTITY TYPE T239. INTENT STOP TIMER EOS\n"
     ]
    },
    {
     "data": {
      "application/vnd.jupyter.widget-view+json": {
       "model_id": "370adbd61a7a4b0fbb7753bf8592aec0",
       "version_major": 2,
       "version_minor": 0
      },
      "text/plain": [
       "Transcribing:   0%|          | 0/1 [00:00<?, ?it/s]"
      ]
     },
     "metadata": {},
     "output_type": "display_data"
    },
    {
     "name": "stdout",
     "output_type": "stream",
     "text": [
      "T1 T2  A  tobe in T237_T255 stots thefileld of beeave. T111_T122 T0\n",
      "Transcription for segment_538.wav: TASK TAGGER A tobe in ENTITY ACTION stots thefileld of beeave. INTENT COMMENT EOS\n"
     ]
    },
    {
     "data": {
      "application/vnd.jupyter.widget-view+json": {
       "model_id": "baa1d8a698af4a609d51a449fae1255a",
       "version_major": 2,
       "version_minor": 0
      },
      "text/plain": [
       "Transcribing:   0%|          | 0/1 [00:00<?, ?it/s]"
      ]
     },
     "metadata": {},
     "output_type": "display_data"
    },
    {
     "name": "stdout",
     "output_type": "stream",
     "text": [
      "T1 T2 T237_T255  _T55 T0\n",
      "Transcription for segment_480.wav: TASK TAGGER ENTITY ACTION  STATUS EOS\n"
     ]
    },
    {
     "data": {
      "application/vnd.jupyter.widget-view+json": {
       "model_id": "6e61ec213a7e4d938f67a51db856da94",
       "version_major": 2,
       "version_minor": 0
      },
      "text/plain": [
       "Transcribing:   0%|          | 0/1 [00:00<?, ?it/s]"
      ]
     },
     "metadata": {},
     "output_type": "display_data"
    },
    {
     "name": "stdout",
     "output_type": "stream",
     "text": [
      "T1 T2 T237_T255 _ T111_T195 T0\n",
      "Transcription for segment_577.wav: TASK TAGGER ENTITY ACTION   INTENT REPORT EOS\n"
     ]
    },
    {
     "data": {
      "application/vnd.jupyter.widget-view+json": {
       "model_id": "b98cbb561c094cf28385f5bb10b7f340",
       "version_major": 2,
       "version_minor": 0
      },
      "text/plain": [
       "Transcribing:   0%|          | 0/1 [00:00<?, ?it/s]"
      ]
     },
     "metadata": {},
     "output_type": "display_data"
    },
    {
     "name": "stdout",
     "output_type": "stream",
     "text": [
      "T1 T2 T237_T255  T237_  T239   T237_T253  T239 T111_T6_T211 T0\n",
      "Transcription for segment_2.wav: TASK TAGGER ENTITY ACTION ENTITY  END ENTITY DESTINATION END INTENT CHECK FUNDS EOS\n"
     ]
    },
    {
     "data": {
      "application/vnd.jupyter.widget-view+json": {
       "model_id": "91a4d46765d24f1aaa021f8d2e822e7c",
       "version_major": 2,
       "version_minor": 0
      },
      "text/plain": [
       "Transcribing:   0%|          | 0/1 [00:00<?, ?it/s]"
      ]
     },
     "metadata": {},
     "output_type": "display_data"
    },
    {
     "name": "stdout",
     "output_type": "stream",
     "text": [
      "T1 T2 T237_T255 ReRéserver T239 une T237_T157 po T237 ok T239 T237_T49  T239 T111_T147 T0\n",
      "Transcription for segment_290.wav: TASK TAGGER ENTITY ACTION ReRéserver END une ENTITY TYPE po ENTITY ok END ENTITY STORE END INTENT BOOK EOS\n"
     ]
    },
    {
     "data": {
      "application/vnd.jupyter.widget-view+json": {
       "model_id": "0ae98380b2c4484eb1d366e4050e1845",
       "version_major": 2,
       "version_minor": 0
      },
      "text/plain": [
       "Transcribing:   0%|          | 0/1 [00:00<?, ?it/s]"
      ]
     },
     "metadata": {},
     "output_type": "display_data"
    },
    {
     "name": "stdout",
     "output_type": "stream",
     "text": [
      "T1 T2 T237_T255 Rete T239 T237_T100 T5 T239 to the T237__T249 f worko. T111_T35_T209 T0\n",
      "Transcription for segment_501.wav: TASK TAGGER ENTITY ACTION Rete END ENTITY AMOUNT COMMAND END to the ENTITY  DEVICE f worko. INTENT COOKING STEP EOS\n"
     ]
    },
    {
     "data": {
      "application/vnd.jupyter.widget-view+json": {
       "model_id": "a429878a112f46ad8620a63305d2943a",
       "version_major": 2,
       "version_minor": 0
      },
      "text/plain": [
       "Transcribing:   0%|          | 0/1 [00:00<?, ?it/s]"
      ]
     },
     "metadata": {},
     "output_type": "display_data"
    },
    {
     "name": "stdout",
     "output_type": "stream",
     "text": [
      "T1 T2 T237_T234_T57 ्ిో T237 पे  T237_T57 ెచ T239. T111_T122 T0\n",
      "Transcription for segment_681.wav: TASK TAGGER ENTITY PLAYER NAME ्ిో ENTITY पे ENTITY NAME ెచ T239. INTENT COMMENT EOS\n"
     ]
    },
    {
     "data": {
      "application/vnd.jupyter.widget-view+json": {
       "model_id": "962381496fc44c5ab2fd3085a271a90a",
       "version_major": 2,
       "version_minor": 0
      },
      "text/plain": [
       "Transcribing:   0%|          | 0/1 [00:00<?, ?it/s]"
      ]
     },
     "metadata": {},
     "output_type": "display_data"
    },
    {
     "name": "stdout",
     "output_type": "stream",
     "text": [
      "T1 T2 T237_T156_T57 ર T237__T255  T239. T111_T16 T0\n",
      "Transcription for segment_620.wav: TASK TAGGER ENTITY TEAM NAME ર ENTITY  ACTION T239. INTENT RESULT EOS\n"
     ]
    },
    {
     "data": {
      "application/vnd.jupyter.widget-view+json": {
       "model_id": "80aee2a863b249cfb58755bbd00ca1c1",
       "version_major": 2,
       "version_minor": 0
      },
      "text/plain": [
       "Transcribing:   0%|          | 0/1 [00:00<?, ?it/s]"
      ]
     },
     "metadata": {},
     "output_type": "display_data"
    },
    {
     "name": "stdout",
     "output_type": "stream",
     "text": [
      "T1 T2 T237_T255 T111_T46 T0\n",
      "Transcription for segment_124.wav: TASK TAGGER ENTITY ACTION INTENT WORKOUT EOS\n"
     ]
    },
    {
     "data": {
      "application/vnd.jupyter.widget-view+json": {
       "model_id": "7f3bef4bae1a4fd98373feaef7bda4ae",
       "version_major": 2,
       "version_minor": 0
      },
      "text/plain": [
       "Transcribing:   0%|          | 0/1 [00:00<?, ?it/s]"
      ]
     },
     "metadata": {},
     "output_type": "display_data"
    },
    {
     "name": "stdout",
     "output_type": "stream",
     "text": [
      "T1 T2 T237_T255 T237_ ि नोज. T111_T98_T319 T0\n",
      "Transcription for segment_627.wav: TASK TAGGER ENTITY ACTION ENTITY  ि नोज. INTENT CHANGE INVENTORY EOS\n"
     ]
    },
    {
     "data": {
      "application/vnd.jupyter.widget-view+json": {
       "model_id": "6018587cbf344dd5ae99d2eb818e407a",
       "version_major": 2,
       "version_minor": 0
      },
      "text/plain": [
       "Transcribing:   0%|          | 0/1 [00:00<?, ?it/s]"
      ]
     },
     "metadata": {},
     "output_type": "display_data"
    },
    {
     "name": "stdout",
     "output_type": "stream",
     "text": [
      "T1 T2 T237_T255 T237_ _T111_T32 T0\n",
      "Transcription for segment_595.wav: TASK TAGGER ENTITY ACTION ENTITY   INTENT CONTROL EOS\n"
     ]
    },
    {
     "data": {
      "application/vnd.jupyter.widget-view+json": {
       "model_id": "1c73b404e8fb426486422bb00eac0c6d",
       "version_major": 2,
       "version_minor": 0
      },
      "text/plain": [
       "Transcribing:   0%|          | 0/1 [00:00<?, ?it/s]"
      ]
     },
     "metadata": {},
     "output_type": "display_data"
    },
    {
     "name": "stdout",
     "output_type": "stream",
     "text": [
      "T1 T2 T237_T255 T237_ T111_T46 T0\n",
      "Transcription for segment_418.wav: TASK TAGGER ENTITY ACTION ENTITY  INTENT WORKOUT EOS\n"
     ]
    },
    {
     "data": {
      "application/vnd.jupyter.widget-view+json": {
       "model_id": "364cb375fc8d4b29ac86103de9c6eca9",
       "version_major": 2,
       "version_minor": 0
      },
      "text/plain": [
       "Transcribing:   0%|          | 0/1 [00:00<?, ?it/s]"
      ]
     },
     "metadata": {},
     "output_type": "display_data"
    },
    {
     "name": "stdout",
     "output_type": "stream",
     "text": [
      "T1 T2 T237_T255 T237_ _T111_T46 T0\n",
      "Transcription for segment_493.wav: TASK TAGGER ENTITY ACTION ENTITY   INTENT WORKOUT EOS\n"
     ]
    },
    {
     "data": {
      "application/vnd.jupyter.widget-view+json": {
       "model_id": "231d0cfc8804486e8c402a540195b474",
       "version_major": 2,
       "version_minor": 0
      },
      "text/plain": [
       "Transcribing:   0%|          | 0/1 [00:00<?, ?it/s]"
      ]
     },
     "metadata": {},
     "output_type": "display_data"
    },
    {
     "name": "stdout",
     "output_type": "stream",
     "text": [
      "T1 T2 T237_T255 T237__  T237_T157  T239 T111_T196 T0\n",
      "Transcription for segment_250.wav: TASK TAGGER ENTITY ACTION ENTITY   ENTITY TYPE END INTENT TEST EOS\n"
     ]
    },
    {
     "data": {
      "application/vnd.jupyter.widget-view+json": {
       "model_id": "e7fb85b933774e7789e49b8aadb80ebd",
       "version_major": 2,
       "version_minor": 0
      },
      "text/plain": [
       "Transcribing:   0%|          | 0/1 [00:00<?, ?it/s]"
      ]
     },
     "metadata": {},
     "output_type": "display_data"
    },
    {
     "name": "stdout",
     "output_type": "stream",
     "text": [
      "T1 T2 T237_T255 T237 _T111_T249 T0\n",
      "Transcription for segment_197.wav: TASK TAGGER ENTITY ACTION ENTITY  INTENT DEVICE EOS\n"
     ]
    },
    {
     "data": {
      "application/vnd.jupyter.widget-view+json": {
       "model_id": "a27e755139734eb1b95c0e6871b992b2",
       "version_major": 2,
       "version_minor": 0
      },
      "text/plain": [
       "Transcribing:   0%|          | 0/1 [00:00<?, ?it/s]"
      ]
     },
     "metadata": {},
     "output_type": "display_data"
    },
    {
     "name": "stdout",
     "output_type": "stream",
     "text": [
      "T1 T2   T239_  T239  T237__T157 _  T239. T111_T212_T55 T0\n",
      "Transcription for segment_617.wav: TASK TAGGER END  END ENTITY  TYPE   T239. INTENT GET STATUS EOS\n"
     ]
    },
    {
     "data": {
      "application/vnd.jupyter.widget-view+json": {
       "model_id": "150f409b332a4536b7a4b0e4043816ff",
       "version_major": 2,
       "version_minor": 0
      },
      "text/plain": [
       "Transcribing:   0%|          | 0/1 [00:00<?, ?it/s]"
      ]
     },
     "metadata": {},
     "output_type": "display_data"
    },
    {
     "name": "stdout",
     "output_type": "stream",
     "text": [
      "T1 T2 T237_T156_T57 P T239  00 T239  pa T237_T234_T57t. T111_T122 T0\n",
      "Transcription for segment_332.wav: TASK TAGGER ENTITY TEAM NAME P END 00 END pa ENTITY PLAYER T57t. INTENT COMMENT EOS\n"
     ]
    },
    {
     "data": {
      "application/vnd.jupyter.widget-view+json": {
       "model_id": "dc0b2445942b4cc4b8927e48a59b0b67",
       "version_major": 2,
       "version_minor": 0
      },
      "text/plain": [
       "Transcribing:   0%|          | 0/1 [00:00<?, ?it/s]"
      ]
     },
     "metadata": {},
     "output_type": "display_data"
    },
    {
     "name": "stdout",
     "output_type": "stream",
     "text": [
      "T1 T2 T237_T255  Setx T239 T237_T157  stder ntsit is tt it. _T35_T77 T0\n",
      "Transcription for segment_39.wav: TASK TAGGER ENTITY ACTION Setx END ENTITY TYPE stder ntsit is tt it.  COOKING EVENT EOS\n"
     ]
    },
    {
     "data": {
      "application/vnd.jupyter.widget-view+json": {
       "model_id": "6ecb2ebc021d4115960c35a48c8d1ef0",
       "version_major": 2,
       "version_minor": 0
      },
      "text/plain": [
       "Transcribing:   0%|          | 0/1 [00:00<?, ?it/s]"
      ]
     },
     "metadata": {},
     "output_type": "display_data"
    },
    {
     "name": "stdout",
     "output_type": "stream",
     "text": [
      "T1 T2 T237_T255 T237_T157 न कॉ्ट T239. T111_T247_T217 T0\n",
      "Transcription for segment_296.wav: TASK TAGGER ENTITY ACTION ENTITY TYPE न कॉ्ट T239. INTENT STOP SESSION EOS\n"
     ]
    },
    {
     "data": {
      "application/vnd.jupyter.widget-view+json": {
       "model_id": "dff49328f01e4fc59af9e3957be54745",
       "version_major": 2,
       "version_minor": 0
      },
      "text/plain": [
       "Transcribing:   0%|          | 0/1 [00:00<?, ?it/s]"
      ]
     },
     "metadata": {},
     "output_type": "display_data"
    },
    {
     "name": "stdout",
     "output_type": "stream",
     "text": [
      "T1 T2 T237_T255. T111_T195 T0\n",
      "Transcription for segment_603.wav: TASK TAGGER ENTITY T255. INTENT REPORT EOS\n"
     ]
    },
    {
     "data": {
      "application/vnd.jupyter.widget-view+json": {
       "model_id": "62093c415a4c4b2aa67831cf847a9621",
       "version_major": 2,
       "version_minor": 0
      },
      "text/plain": [
       "Transcribing:   0%|          | 0/1 [00:00<?, ?it/s]"
      ]
     },
     "metadata": {},
     "output_type": "display_data"
    },
    {
     "name": "stdout",
     "output_type": "stream",
     "text": [
      "T1 T2 T237_T255  T239 _ _. T111_T211 T0\n",
      "Transcription for segment_180.wav: TASK TAGGER ENTITY ACTION END    . INTENT FUNDS EOS\n"
     ]
    },
    {
     "data": {
      "application/vnd.jupyter.widget-view+json": {
       "model_id": "51c0848476d24576930b749aae1a93c4",
       "version_major": 2,
       "version_minor": 0
      },
      "text/plain": [
       "Transcribing:   0%|          | 0/1 [00:00<?, ?it/s]"
      ]
     },
     "metadata": {},
     "output_type": "display_data"
    },
    {
     "name": "stdout",
     "output_type": "stream",
     "text": [
      "T1 T2 T237_T255  T239 T237_  T239 T237_  T239. T111_T55 T0\n",
      "Transcription for segment_59.wav: TASK TAGGER ENTITY ACTION END ENTITY  END ENTITY  T239. INTENT STATUS EOS\n"
     ]
    },
    {
     "data": {
      "application/vnd.jupyter.widget-view+json": {
       "model_id": "bce17d9cf4cb43e5aff11e6468206b71",
       "version_major": 2,
       "version_minor": 0
      },
      "text/plain": [
       "Transcribing:   0%|          | 0/1 [00:00<?, ?it/s]"
      ]
     },
     "metadata": {},
     "output_type": "display_data"
    },
    {
     "name": "stdout",
     "output_type": "stream",
     "text": [
      "T1 T2 T237_T234_T57 DeDpool T239 p  keeping  goal team bring team in. T111_T122 T0\n",
      "Transcription for segment_646.wav: TASK TAGGER ENTITY PLAYER NAME DeDpool END p keeping goal team bring team in. INTENT COMMENT EOS\n"
     ]
    },
    {
     "data": {
      "application/vnd.jupyter.widget-view+json": {
       "model_id": "feb5cbf751c94e0eb640358b692af440",
       "version_major": 2,
       "version_minor": 0
      },
      "text/plain": [
       "Transcribing:   0%|          | 0/1 [00:00<?, ?it/s]"
      ]
     },
     "metadata": {},
     "output_type": "display_data"
    },
    {
     "name": "stdout",
     "output_type": "stream",
     "text": [
      "T1 T2 T237_T234_T57  T239 T237_T255   par. T111_T213 T0\n",
      "Transcription for segment_123.wav: TASK TAGGER ENTITY PLAYER NAME END ENTITY ACTION par. INTENT DECISION EOS\n"
     ]
    },
    {
     "data": {
      "application/vnd.jupyter.widget-view+json": {
       "model_id": "64180094fe6443968744303e6da5bf9a",
       "version_major": 2,
       "version_minor": 0
      },
      "text/plain": [
       "Transcribing:   0%|          | 0/1 [00:00<?, ?it/s]"
      ]
     },
     "metadata": {},
     "output_type": "display_data"
    },
    {
     "name": "stdout",
     "output_type": "stream",
     "text": [
      "T1 T2 T237_T255   T237_ T239 T239 T111_T55 T0\n",
      "Transcription for segment_6.wav: TASK TAGGER ENTITY ACTION ENTITY  END END INTENT STATUS EOS\n"
     ]
    },
    {
     "data": {
      "application/vnd.jupyter.widget-view+json": {
       "model_id": "feca51cbcc4248cd98a895f490e02333",
       "version_major": 2,
       "version_minor": 0
      },
      "text/plain": [
       "Transcribing:   0%|          | 0/1 [00:00<?, ?it/s]"
      ]
     },
     "metadata": {},
     "output_type": "display_data"
    },
    {
     "name": "stdout",
     "output_type": "stream",
     "text": [
      "T1 T2 T237_T255 T237_ _T32_T46 T0\n",
      "Transcription for segment_526.wav: TASK TAGGER ENTITY ACTION ENTITY   CONTROL WORKOUT EOS\n"
     ]
    },
    {
     "data": {
      "application/vnd.jupyter.widget-view+json": {
       "model_id": "212c51a1bd9d4ba797b00db65734d818",
       "version_major": 2,
       "version_minor": 0
      },
      "text/plain": [
       "Transcribing:   0%|          | 0/1 [00:00<?, ?it/s]"
      ]
     },
     "metadata": {},
     "output_type": "display_data"
    },
    {
     "name": "stdout",
     "output_type": "stream",
     "text": [
      "T1 T2 T237_T255 S T239 T237_T217_T157 p T239. T111_T32_T164 T0\n",
      "Transcription for segment_631.wav: TASK TAGGER ENTITY ACTION S END ENTITY SESSION TYPE p T239. INTENT CONTROL TIMER EOS\n"
     ]
    },
    {
     "data": {
      "application/vnd.jupyter.widget-view+json": {
       "model_id": "4c4552d51ee3436e8276f0b40302823b",
       "version_major": 2,
       "version_minor": 0
      },
      "text/plain": [
       "Transcribing:   0%|          | 0/1 [00:00<?, ?it/s]"
      ]
     },
     "metadata": {},
     "output_type": "display_data"
    },
    {
     "name": "stdout",
     "output_type": "stream",
     "text": [
      "T1 T2 T237_T156_T57   T239 T237_T255 v T239 de bror  te. T111_T213 T0\n",
      "Transcription for segment_86.wav: TASK TAGGER ENTITY TEAM NAME END ENTITY ACTION v END de bror te. INTENT DECISION EOS\n"
     ]
    },
    {
     "data": {
      "application/vnd.jupyter.widget-view+json": {
       "model_id": "d261597b65964b4197b7d4556c1bc43b",
       "version_major": 2,
       "version_minor": 0
      },
      "text/plain": [
       "Transcribing:   0%|          | 0/1 [00:00<?, ?it/s]"
      ]
     },
     "metadata": {},
     "output_type": "display_data"
    },
    {
     "name": "stdout",
     "output_type": "stream",
     "text": [
      "T1 T2 T237_T255 T237_  T111_T111_T46 T0\n",
      "Transcription for segment_36.wav: TASK TAGGER ENTITY ACTION ENTITY  INTENT INTENT WORKOUT EOS\n"
     ]
    },
    {
     "data": {
      "application/vnd.jupyter.widget-view+json": {
       "model_id": "9fd9a6a308084e648c1833cc21165336",
       "version_major": 2,
       "version_minor": 0
      },
      "text/plain": [
       "Transcribing:   0%|          | 0/1 [00:00<?, ?it/s]"
      ]
     },
     "metadata": {},
     "output_type": "display_data"
    },
    {
     "name": "stdout",
     "output_type": "stream",
     "text": [
      "T1 T2 T237_T255  T237_ T239 T237__  T239 T237_. T111_T41 T0\n",
      "Transcription for segment_328.wav: TASK TAGGER ENTITY ACTION ENTITY  END ENTITY   END ENTITY . INTENT SETTING EOS\n"
     ]
    },
    {
     "data": {
      "application/vnd.jupyter.widget-view+json": {
       "model_id": "a201ba8db43c40a0bfd4f1a82f1ab980",
       "version_major": 2,
       "version_minor": 0
      },
      "text/plain": [
       "Transcribing:   0%|          | 0/1 [00:00<?, ?it/s]"
      ]
     },
     "metadata": {},
     "output_type": "display_data"
    },
    {
     "name": "stdout",
     "output_type": "stream",
     "text": [
      "T1 T2 T237_T156_T57  T239 একটি T237T255 স্ জ T237_T156_T57 ল. T111_T16 T0\n",
      "Transcription for segment_48.wav: TASK TAGGER ENTITY TEAM NAME END একটি T237T255 স্ জ ENTITY TEAM NAME ল. INTENT RESULT EOS\n"
     ]
    },
    {
     "data": {
      "application/vnd.jupyter.widget-view+json": {
       "model_id": "1563a829dd134c259e4f4e0484af5e21",
       "version_major": 2,
       "version_minor": 0
      },
      "text/plain": [
       "Transcribing:   0%|          | 0/1 [00:00<?, ?it/s]"
      ]
     },
     "metadata": {},
     "output_type": "display_data"
    },
    {
     "name": "stdout",
     "output_type": "stream",
     "text": [
      "T1 T2 T237_T255 A T239 T237_T172  T239 T237_ T239 T237_T49 ix T239 T111_T117 T0\n",
      "Transcription for segment_655.wav: TASK TAGGER ENTITY ACTION A END ENTITY QUANTITY END ENTITY  END ENTITY STORE ix END INTENT PURCHASE EOS\n"
     ]
    },
    {
     "data": {
      "application/vnd.jupyter.widget-view+json": {
       "model_id": "e5e25e1705334eaabe5c6f4c32bf63a0",
       "version_major": 2,
       "version_minor": 0
      },
      "text/plain": [
       "Transcribing:   0%|          | 0/1 [00:00<?, ?it/s]"
      ]
     },
     "metadata": {},
     "output_type": "display_data"
    },
    {
     "name": "stdout",
     "output_type": "stream",
     "text": [
      "T1 T2 T237_T255 T237_T157 _T111_T196 T0\n",
      "Transcription for segment_628.wav: TASK TAGGER ENTITY ACTION ENTITY TYPE  INTENT TEST EOS\n"
     ]
    },
    {
     "data": {
      "application/vnd.jupyter.widget-view+json": {
       "model_id": "081c6ba1cc5a4e678f258ae994d1eb27",
       "version_major": 2,
       "version_minor": 0
      },
      "text/plain": [
       "Transcribing:   0%|          | 0/1 [00:00<?, ?it/s]"
      ]
     },
     "metadata": {},
     "output_type": "display_data"
    },
    {
     "name": "stdout",
     "output_type": "stream",
     "text": [
      "T1 T2 T237_T255 T111_T188_T46 T0\n",
      "Transcription for segment_464.wav: TASK TAGGER ENTITY ACTION INTENT PAUSE WORKOUT EOS\n"
     ]
    },
    {
     "data": {
      "application/vnd.jupyter.widget-view+json": {
       "model_id": "806a32a05f824ae3bdee508c704c12d3",
       "version_major": 2,
       "version_minor": 0
      },
      "text/plain": [
       "Transcribing:   0%|          | 0/1 [00:00<?, ?it/s]"
      ]
     },
     "metadata": {},
     "output_type": "display_data"
    },
    {
     "name": "stdout",
     "output_type": "stream",
     "text": [
      "T1 T2 T237_T255 T237 सुब  ण T239. T111_T88_T32 T0\n",
      "Transcription for segment_610.wav: TASK TAGGER ENTITY ACTION ENTITY सुब ण T239. INTENT FIND CONTROL EOS\n"
     ]
    },
    {
     "data": {
      "application/vnd.jupyter.widget-view+json": {
       "model_id": "bce47908a5ce436194357e45bb83d3b2",
       "version_major": 2,
       "version_minor": 0
      },
      "text/plain": [
       "Transcribing:   0%|          | 0/1 [00:00<?, ?it/s]"
      ]
     },
     "metadata": {},
     "output_type": "display_data"
    },
    {
     "name": "stdout",
     "output_type": "stream",
     "text": [
      "T1 T2 T237_T255  T239 T237__T157   T237__T157 $ _T157. T111_T149_T195 T0\n",
      "Transcription for segment_636.wav: TASK TAGGER ENTITY ACTION END ENTITY  TYPE ENTITY  TYPE $  T157. INTENT SET REPORT EOS\n"
     ]
    },
    {
     "data": {
      "application/vnd.jupyter.widget-view+json": {
       "model_id": "02bc0aade6b346cc9a6fa1334b719e1c",
       "version_major": 2,
       "version_minor": 0
      },
      "text/plain": [
       "Transcribing:   0%|          | 0/1 [00:00<?, ?it/s]"
      ]
     },
     "metadata": {},
     "output_type": "display_data"
    },
    {
     "name": "stdout",
     "output_type": "stream",
     "text": [
      "T1 T2 T237_T156_T57  T239 impt  co. T111_T122 T0\n",
      "Transcription for segment_41.wav: TASK TAGGER ENTITY TEAM NAME END impt co. INTENT COMMENT EOS\n"
     ]
    },
    {
     "data": {
      "application/vnd.jupyter.widget-view+json": {
       "model_id": "ffe5a586423b43daafc8ec22c3f85eee",
       "version_major": 2,
       "version_minor": 0
      },
      "text/plain": [
       "Transcribing:   0%|          | 0/1 [00:00<?, ?it/s]"
      ]
     },
     "metadata": {},
     "output_type": "display_data"
    },
    {
     "name": "stdout",
     "output_type": "stream",
     "text": [
      "T1 T2 T237_T255 Change T239 T237_T100 Cos T239   de T237pa T239 T237_. T111_T35_T261 T0\n",
      "Transcription for segment_219.wav: TASK TAGGER ENTITY ACTION Change END ENTITY AMOUNT Cos END de T237pa END ENTITY . INTENT COOKING CURRENCY EOS\n"
     ]
    },
    {
     "data": {
      "application/vnd.jupyter.widget-view+json": {
       "model_id": "80a1560b192a4292b6758a5bb541ce47",
       "version_major": 2,
       "version_minor": 0
      },
      "text/plain": [
       "Transcribing:   0%|          | 0/1 [00:00<?, ?it/s]"
      ]
     },
     "metadata": {},
     "output_type": "display_data"
    },
    {
     "name": "stdout",
     "output_type": "stream",
     "text": [
      "T1 T2 T237_T255  T239 T237_T203  T239 T237_ ck T239. T111_T35_T209 T0\n",
      "Transcription for segment_582.wav: TASK TAGGER ENTITY ACTION END ENTITY INGREDIENT END ENTITY  ck T239. INTENT COOKING STEP EOS\n"
     ]
    },
    {
     "data": {
      "application/vnd.jupyter.widget-view+json": {
       "model_id": "2c46f79f61c74a009a8a7ff0d4496b7e",
       "version_major": 2,
       "version_minor": 0
      },
      "text/plain": [
       "Transcribing:   0%|          | 0/1 [00:00<?, ?it/s]"
      ]
     },
     "metadata": {},
     "output_type": "display_data"
    },
    {
     "name": "stdout",
     "output_type": "stream",
     "text": [
      "T1 T2 T237_T255 T237_T100 T239 T111_T134 T0\n",
      "Transcription for segment_83.wav: TASK TAGGER ENTITY ACTION ENTITY AMOUNT END INTENT ACCOUNT EOS\n"
     ]
    },
    {
     "data": {
      "application/vnd.jupyter.widget-view+json": {
       "model_id": "5c655b739c89442b9f796a91a0135922",
       "version_major": 2,
       "version_minor": 0
      },
      "text/plain": [
       "Transcribing:   0%|          | 0/1 [00:00<?, ?it/s]"
      ]
     },
     "metadata": {},
     "output_type": "display_data"
    },
    {
     "name": "stdout",
     "output_type": "stream",
     "text": [
      "T1 T2 T237_T255  T239 T237_T50. T111__ T239 une T237 de. T111_T235_T46 T0\n",
      "Transcription for segment_170.wav: TASK TAGGER ENTITY ACTION END ENTITY T50. INTENT   END une ENTITY de. INTENT RESUME WORKOUT EOS\n"
     ]
    },
    {
     "data": {
      "application/vnd.jupyter.widget-view+json": {
       "model_id": "e0805eba8ef343d1b84bb77f55f09136",
       "version_major": 2,
       "version_minor": 0
      },
      "text/plain": [
       "Transcribing:   0%|          | 0/1 [00:00<?, ?it/s]"
      ]
     },
     "metadata": {},
     "output_type": "display_data"
    },
    {
     "name": "stdout",
     "output_type": "stream",
     "text": [
      "T1 T2 T237_T255 Co T239 T237_ chrte T239 T237_  po T239. T111_T134 T0\n",
      "Transcription for segment_472.wav: TASK TAGGER ENTITY ACTION Co END ENTITY  chrte END ENTITY  po T239. INTENT ACCOUNT EOS\n"
     ]
    },
    {
     "data": {
      "application/vnd.jupyter.widget-view+json": {
       "model_id": "cf296021049c4f32972f6e9c6bc80297",
       "version_major": 2,
       "version_minor": 0
      },
      "text/plain": [
       "Transcribing:   0%|          | 0/1 [00:00<?, ?it/s]"
      ]
     },
     "metadata": {},
     "output_type": "display_data"
    },
    {
     "name": "stdout",
     "output_type": "stream",
     "text": [
      "T1 T2 T237_T255 సించండి T239 T237సెక T237_ కకీూస్ ో T111_T90 T0\n",
      "Transcription for segment_496.wav: TASK TAGGER ENTITY ACTION సించండి END T237సెక ENTITY  కకీూస్ ో INTENT AVAILABILITY EOS\n"
     ]
    },
    {
     "data": {
      "application/vnd.jupyter.widget-view+json": {
       "model_id": "5baf53a49f464aba965c2fdfd7d4f07f",
       "version_major": 2,
       "version_minor": 0
      },
      "text/plain": [
       "Transcribing:   0%|          | 0/1 [00:00<?, ?it/s]"
      ]
     },
     "metadata": {},
     "output_type": "display_data"
    },
    {
     "name": "stdout",
     "output_type": "stream",
     "text": [
      "T1 T2 T237_T255 B T239 T237_ T239 T237_ ctembe T239 T111_T249_T249 T0\n",
      "Transcription for segment_92.wav: TASK TAGGER ENTITY ACTION B END ENTITY  END ENTITY  ctembe END INTENT DEVICE DEVICE EOS\n"
     ]
    },
    {
     "data": {
      "application/vnd.jupyter.widget-view+json": {
       "model_id": "c22c7986f25d49119041263b696afddc",
       "version_major": 2,
       "version_minor": 0
      },
      "text/plain": [
       "Transcribing:   0%|          | 0/1 [00:00<?, ?it/s]"
      ]
     },
     "metadata": {},
     "output_type": "display_data"
    },
    {
     "name": "stdout",
     "output_type": "stream",
     "text": [
      "T1 T2 T237_T255 T237_ ro _T111_T32 T0\n",
      "Transcription for segment_313.wav: TASK TAGGER ENTITY ACTION ENTITY  ro  INTENT CONTROL EOS\n"
     ]
    },
    {
     "data": {
      "application/vnd.jupyter.widget-view+json": {
       "model_id": "87d9ba57b1e845908f11c74856ab6db5",
       "version_major": 2,
       "version_minor": 0
      },
      "text/plain": [
       "Transcribing:   0%|          | 0/1 [00:00<?, ?it/s]"
      ]
     },
     "metadata": {},
     "output_type": "display_data"
    },
    {
     "name": "stdout",
     "output_type": "stream",
     "text": [
      "T1 T2 T237_T234_T57 I T239  T239  Pco onp. T111_T122 T0\n",
      "Transcription for segment_145.wav: TASK TAGGER ENTITY PLAYER NAME I END END Pco onp. INTENT COMMENT EOS\n"
     ]
    },
    {
     "data": {
      "application/vnd.jupyter.widget-view+json": {
       "model_id": "0771700586a14435a9b5d076edbe9384",
       "version_major": 2,
       "version_minor": 0
      },
      "text/plain": [
       "Transcribing:   0%|          | 0/1 [00:00<?, ?it/s]"
      ]
     },
     "metadata": {},
     "output_type": "display_data"
    },
    {
     "name": "stdout",
     "output_type": "stream",
     "text": [
      "T1 T2  T237_robm T239 de T237  T237_  स T239. T111_T149_T195 T0\n",
      "Transcription for segment_182.wav: TASK TAGGER ENTITY robm END de ENTITY ENTITY  स T239. INTENT SET REPORT EOS\n"
     ]
    },
    {
     "data": {
      "application/vnd.jupyter.widget-view+json": {
       "model_id": "5afa53a889b44b1683176ea183713985",
       "version_major": 2,
       "version_minor": 0
      },
      "text/plain": [
       "Transcribing:   0%|          | 0/1 [00:00<?, ?it/s]"
      ]
     },
     "metadata": {},
     "output_type": "display_data"
    },
    {
     "name": "stdout",
     "output_type": "stream",
     "text": [
      "T1 T2 T237_T255  T237_T157  T239 T237_T157. T111_T192_T196 T0\n",
      "Transcription for segment_198.wav: TASK TAGGER ENTITY ACTION ENTITY TYPE END ENTITY T157. INTENT INVEST TEST EOS\n"
     ]
    },
    {
     "data": {
      "application/vnd.jupyter.widget-view+json": {
       "model_id": "68300d8c75a243b7a235f443221439dd",
       "version_major": 2,
       "version_minor": 0
      },
      "text/plain": [
       "Transcribing:   0%|          | 0/1 [00:00<?, ?it/s]"
      ]
     },
     "metadata": {},
     "output_type": "display_data"
    },
    {
     "name": "stdout",
     "output_type": "stream",
     "text": [
      "T1 T2 T237_T234_T57 S T239 T237  T237  T239   is  T237_T157 T239. T111_T122 T0\n",
      "Transcription for segment_305.wav: TASK TAGGER ENTITY PLAYER NAME S END ENTITY ENTITY END is ENTITY TYPE T239. INTENT COMMENT EOS\n"
     ]
    },
    {
     "data": {
      "application/vnd.jupyter.widget-view+json": {
       "model_id": "59cbbedaa39a41d0a140c91a14162cca",
       "version_major": 2,
       "version_minor": 0
      },
      "text/plain": [
       "Transcribing:   0%|          | 0/1 [00:00<?, ?it/s]"
      ]
     },
     "metadata": {},
     "output_type": "display_data"
    },
    {
     "name": "stdout",
     "output_type": "stream",
     "text": [
      "T1 T2 T237_T156_T57  appproves the t T237change the on. T111_T122 T0\n",
      "Transcription for segment_302.wav: TASK TAGGER ENTITY TEAM NAME appproves the t T237change the on. INTENT COMMENT EOS\n"
     ]
    },
    {
     "data": {
      "application/vnd.jupyter.widget-view+json": {
       "model_id": "f64527ad4dad42b6b9e25bc6535b5c30",
       "version_major": 2,
       "version_minor": 0
      },
      "text/plain": [
       "Transcribing:   0%|          | 0/1 [00:00<?, ?it/s]"
      ]
     },
     "metadata": {},
     "output_type": "display_data"
    },
    {
     "name": "stdout",
     "output_type": "stream",
     "text": [
      "T1 T2 T237_T255  T239 T237_ k T239 T237_  T237_ te  T239. T111_T211 T0\n",
      "Transcription for segment_38.wav: TASK TAGGER ENTITY ACTION END ENTITY  k END ENTITY  ENTITY  te T239. INTENT FUNDS EOS\n"
     ]
    },
    {
     "data": {
      "application/vnd.jupyter.widget-view+json": {
       "model_id": "799a3b8b37874f44b9e81b522939fa33",
       "version_major": 2,
       "version_minor": 0
      },
      "text/plain": [
       "Transcribing:   0%|          | 0/1 [00:00<?, ?it/s]"
      ]
     },
     "metadata": {},
     "output_type": "display_data"
    },
    {
     "name": "stdout",
     "output_type": "stream",
     "text": [
      "T1 T2 T237_T255 Re T239 T239 T237chque  T111_T238 T0\n",
      "Transcription for segment_147.wav: TASK TAGGER ENTITY ACTION Re END END T237chque INTENT ITEM EOS\n"
     ]
    },
    {
     "data": {
      "application/vnd.jupyter.widget-view+json": {
       "model_id": "21d24dff69e647399790da78e1661a43",
       "version_major": 2,
       "version_minor": 0
      },
      "text/plain": [
       "Transcribing:   0%|          | 0/1 [00:00<?, ?it/s]"
      ]
     },
     "metadata": {},
     "output_type": "display_data"
    },
    {
     "name": "stdout",
     "output_type": "stream",
     "text": [
      "T1 T2 T237_T255  _T6_T55 T0\n",
      "Transcription for segment_581.wav: TASK TAGGER ENTITY ACTION  CHECK STATUS EOS\n"
     ]
    },
    {
     "data": {
      "application/vnd.jupyter.widget-view+json": {
       "model_id": "4b26fa9f34e94f1b9c83fbfa58e8e47e",
       "version_major": 2,
       "version_minor": 0
      },
      "text/plain": [
       "Transcribing:   0%|          | 0/1 [00:00<?, ?it/s]"
      ]
     },
     "metadata": {},
     "output_type": "display_data"
    },
    {
     "name": "stdout",
     "output_type": "stream",
     "text": [
      "T1 T2 T237_T156_T57 ম T239  ল T239  এক T95T157     रం  T237_T156 య फ  మ  ্య T120్. T111_T16 T0\n",
      "Transcription for segment_247.wav: TASK TAGGER ENTITY TEAM NAME ম END ল END এক T95T157 रం ENTITY TEAM య फ మ ্య T120్. INTENT RESULT EOS\n"
     ]
    },
    {
     "data": {
      "application/vnd.jupyter.widget-view+json": {
       "model_id": "a100011d453143b8a9f157df57b25623",
       "version_major": 2,
       "version_minor": 0
      },
      "text/plain": [
       "Transcribing:   0%|          | 0/1 [00:00<?, ?it/s]"
      ]
     },
     "metadata": {},
     "output_type": "display_data"
    },
    {
     "name": "stdout",
     "output_type": "stream",
     "text": [
      "T1 T2 T237T255  T239 T237_T157 t T239 T237__T157 import. T111_T163 T0\n",
      "Transcription for segment_634.wav: TASK TAGGER T237T255 END ENTITY TYPE t END ENTITY  TYPE import. INTENT RECIPE EOS\n"
     ]
    },
    {
     "data": {
      "application/vnd.jupyter.widget-view+json": {
       "model_id": "52221ba4d0524e1c8e404f62e7eea68b",
       "version_major": 2,
       "version_minor": 0
      },
      "text/plain": [
       "Transcribing:   0%|          | 0/1 [00:00<?, ?it/s]"
      ]
     },
     "metadata": {},
     "output_type": "display_data"
    },
    {
     "name": "stdout",
     "output_type": "stream",
     "text": [
      "T1 T2 T237_T255 నా T237_T134_T157 ప. T111_T32_T46 T0\n",
      "Transcription for segment_584.wav: TASK TAGGER ENTITY ACTION నా ENTITY ACCOUNT TYPE ప. INTENT CONTROL WORKOUT EOS\n"
     ]
    },
    {
     "data": {
      "application/vnd.jupyter.widget-view+json": {
       "model_id": "5f3ecadf1c9f4799b9444720eff190fb",
       "version_major": 2,
       "version_minor": 0
      },
      "text/plain": [
       "Transcribing:   0%|          | 0/1 [00:00<?, ?it/s]"
      ]
     },
     "metadata": {},
     "output_type": "display_data"
    },
    {
     "name": "stdout",
     "output_type": "stream",
     "text": [
      "T1 T2 T237_T255 T237_ T239. T111_T211 T0\n",
      "Transcription for segment_600.wav: TASK TAGGER ENTITY ACTION ENTITY  T239. INTENT FUNDS EOS\n"
     ]
    },
    {
     "data": {
      "application/vnd.jupyter.widget-view+json": {
       "model_id": "e0f1f028bacd442abaafa5ebcb3e1af8",
       "version_major": 2,
       "version_minor": 0
      },
      "text/plain": [
       "Transcribing:   0%|          | 0/1 [00:00<?, ?it/s]"
      ]
     },
     "metadata": {},
     "output_type": "display_data"
    },
    {
     "name": "stdout",
     "output_type": "stream",
     "text": [
      "T1 T2 T237_T255 T237_T238 ోకి ాి లను T239 T237 చే T237_ బুక్ T239 T237_T253 లన T239 T111_T147 T0\n",
      "Transcription for segment_67.wav: TASK TAGGER ENTITY ACTION ENTITY ITEM ోకి ాి లను END ENTITY చే ENTITY  బুక్ END ENTITY DESTINATION లన END INTENT BOOK EOS\n"
     ]
    },
    {
     "data": {
      "application/vnd.jupyter.widget-view+json": {
       "model_id": "194b96e05090482d919dea48ad39972b",
       "version_major": 2,
       "version_minor": 0
      },
      "text/plain": [
       "Transcribing:   0%|          | 0/1 [00:00<?, ?it/s]"
      ]
     },
     "metadata": {},
     "output_type": "display_data"
    },
    {
     "name": "stdout",
     "output_type": "stream",
     "text": [
      "T1 T2 T237_T255  T237_ স্ পুন T237_T157  T111_T6_T195 T0\n",
      "Transcription for segment_529.wav: TASK TAGGER ENTITY ACTION ENTITY  স্ পুন ENTITY TYPE INTENT CHECK REPORT EOS\n"
     ]
    },
    {
     "data": {
      "application/vnd.jupyter.widget-view+json": {
       "model_id": "8e05e32afa22436cb6aa7eaa95c8d5b6",
       "version_major": 2,
       "version_minor": 0
      },
      "text/plain": [
       "Transcribing:   0%|          | 0/1 [00:00<?, ?it/s]"
      ]
     },
     "metadata": {},
     "output_type": "display_data"
    },
    {
     "name": "stdout",
     "output_type": "stream",
     "text": [
      "T1 T2 T237_T126_T197 T237_ whent  f. T111_T122 T0\n",
      "Transcription for segment_68.wav: TASK TAGGER ENTITY WEATHER CONDITION ENTITY  whent f. INTENT COMMENT EOS\n"
     ]
    },
    {
     "data": {
      "application/vnd.jupyter.widget-view+json": {
       "model_id": "f4150034be3c42b3ba8d0ef285b1dab4",
       "version_major": 2,
       "version_minor": 0
      },
      "text/plain": [
       "Transcribing:   0%|          | 0/1 [00:00<?, ?it/s]"
      ]
     },
     "metadata": {},
     "output_type": "display_data"
    },
    {
     "name": "stdout",
     "output_type": "stream",
     "text": [
      "T1 T2 T237_T255  T237_T157  T111_T6_T196 T0\n",
      "Transcription for segment_289.wav: TASK TAGGER ENTITY ACTION ENTITY TYPE INTENT CHECK TEST EOS\n"
     ]
    },
    {
     "data": {
      "application/vnd.jupyter.widget-view+json": {
       "model_id": "af176748c4954e8c98bdfa65d763d5c2",
       "version_major": 2,
       "version_minor": 0
      },
      "text/plain": [
       "Transcribing:   0%|          | 0/1 [00:00<?, ?it/s]"
      ]
     },
     "metadata": {},
     "output_type": "display_data"
    },
    {
     "name": "stdout",
     "output_type": "stream",
     "text": [
      "T1 T2 T237_T255 T237_T157 चि्स T239 _  T239. T111_T220_T134 T0\n",
      "Transcription for segment_274.wav: TASK TAGGER ENTITY ACTION ENTITY TYPE चि्स END   T239. INTENT MONITOR ACCOUNT EOS\n"
     ]
    },
    {
     "data": {
      "application/vnd.jupyter.widget-view+json": {
       "model_id": "e2323dbd44b6451c8befc0e644a6c7cf",
       "version_major": 2,
       "version_minor": 0
      },
      "text/plain": [
       "Transcribing:   0%|          | 0/1 [00:00<?, ?it/s]"
      ]
     },
     "metadata": {},
     "output_type": "display_data"
    },
    {
     "name": "stdout",
     "output_type": "stream",
     "text": [
      "T1 T2 T237_  T237_ ফ্র T239 T237  T237  T111_T16 T0\n",
      "Transcription for segment_573.wav: TASK TAGGER ENTITY  ENTITY  ফ্র END ENTITY ENTITY INTENT RESULT EOS\n"
     ]
    },
    {
     "data": {
      "application/vnd.jupyter.widget-view+json": {
       "model_id": "46b59e1841504642938d2427bf174aa6",
       "version_major": 2,
       "version_minor": 0
      },
      "text/plain": [
       "Transcribing:   0%|          | 0/1 [00:00<?, ?it/s]"
      ]
     },
     "metadata": {},
     "output_type": "display_data"
    },
    {
     "name": "stdout",
     "output_type": "stream",
     "text": [
      "T1 T2 T237_T255 T237_T157 T237_ T239 T111_T195 T0\n",
      "Transcription for segment_392.wav: TASK TAGGER ENTITY ACTION ENTITY TYPE ENTITY  END INTENT REPORT EOS\n"
     ]
    },
    {
     "data": {
      "application/vnd.jupyter.widget-view+json": {
       "model_id": "9b46ba436ef545ffb1442b52a8cc8ddf",
       "version_major": 2,
       "version_minor": 0
      },
      "text/plain": [
       "Transcribing:   0%|          | 0/1 [00:00<?, ?it/s]"
      ]
     },
     "metadata": {},
     "output_type": "display_data"
    },
    {
     "name": "stdout",
     "output_type": "stream",
     "text": [
      "T1 T2 T237_ ন T239. T111_T16 T0\n",
      "Transcription for segment_264.wav: TASK TAGGER ENTITY  ন T239. INTENT RESULT EOS\n"
     ]
    },
    {
     "data": {
      "application/vnd.jupyter.widget-view+json": {
       "model_id": "392e9cc35ecb41d287d23f20974ecf2a",
       "version_major": 2,
       "version_minor": 0
      },
      "text/plain": [
       "Transcribing:   0%|          | 0/1 [00:00<?, ?it/s]"
      ]
     },
     "metadata": {},
     "output_type": "display_data"
    },
    {
     "name": "stdout",
     "output_type": "stream",
     "text": [
      "T1 T2 T237__T157  T237 T237__T157  T239 T237__  T111_T98_T196 T0\n",
      "Transcription for segment_477.wav: TASK TAGGER ENTITY  TYPE ENTITY ENTITY  TYPE END ENTITY   INTENT CHANGE TEST EOS\n"
     ]
    },
    {
     "data": {
      "application/vnd.jupyter.widget-view+json": {
       "model_id": "249226e9597f490984ed49c53bfd602a",
       "version_major": 2,
       "version_minor": 0
      },
      "text/plain": [
       "Transcribing:   0%|          | 0/1 [00:00<?, ?it/s]"
      ]
     },
     "metadata": {},
     "output_type": "display_data"
    },
    {
     "name": "stdout",
     "output_type": "stream",
     "text": [
      "T1 T2 T237_T255  T239 T237_T251_T253 ब T239 T237_T182  T239 T111_T104 T0\n",
      "Transcription for segment_169.wav: TASK TAGGER ENTITY ACTION END ENTITY TRANSPORT DESTINATION ब END ENTITY DATE END INTENT ACCOMMODATION EOS\n"
     ]
    },
    {
     "data": {
      "application/vnd.jupyter.widget-view+json": {
       "model_id": "d7e16c12c2044dada9776501a90c7ec7",
       "version_major": 2,
       "version_minor": 0
      },
      "text/plain": [
       "Transcribing:   0%|          | 0/1 [00:00<?, ?it/s]"
      ]
     },
     "metadata": {},
     "output_type": "display_data"
    },
    {
     "name": "stdout",
     "output_type": "stream",
     "text": [
      "T1 T2 T237_T255 T111_T32 T0\n",
      "Transcription for segment_625.wav: TASK TAGGER ENTITY ACTION INTENT CONTROL EOS\n"
     ]
    },
    {
     "data": {
      "application/vnd.jupyter.widget-view+json": {
       "model_id": "8eecf111c8324e069b0f9f52a8092947",
       "version_major": 2,
       "version_minor": 0
      },
      "text/plain": [
       "Transcribing:   0%|          | 0/1 [00:00<?, ?it/s]"
      ]
     },
     "metadata": {},
     "output_type": "display_data"
    },
    {
     "name": "stdout",
     "output_type": "stream",
     "text": [
      "T1 T2 T237_T255 T237T100 T239 _  T239 T111_T238 T0\n",
      "Transcription for segment_624.wav: TASK TAGGER ENTITY ACTION T237T100 END   END INTENT ITEM EOS\n"
     ]
    },
    {
     "data": {
      "application/vnd.jupyter.widget-view+json": {
       "model_id": "60a5f8a01fe5497491f2b752008ba8b5",
       "version_major": 2,
       "version_minor": 0
      },
      "text/plain": [
       "Transcribing:   0%|          | 0/1 [00:00<?, ?it/s]"
      ]
     },
     "metadata": {},
     "output_type": "display_data"
    },
    {
     "name": "stdout",
     "output_type": "stream",
     "text": [
      "T1 T2 T237_T255. T111_T32_T46 T0\n",
      "Transcription for segment_366.wav: TASK TAGGER ENTITY T255. INTENT CONTROL WORKOUT EOS\n"
     ]
    },
    {
     "data": {
      "application/vnd.jupyter.widget-view+json": {
       "model_id": "5dad97be3dba4104a47c01c438bdd85b",
       "version_major": 2,
       "version_minor": 0
      },
      "text/plain": [
       "Transcribing:   0%|          | 0/1 [00:00<?, ?it/s]"
      ]
     },
     "metadata": {},
     "output_type": "display_data"
    },
    {
     "name": "stdout",
     "output_type": "stream",
     "text": [
      "T1 T2 T237_ ्च T239 _ ्नस  ोत. T111_T122 T0\n",
      "Transcription for segment_243.wav: TASK TAGGER ENTITY  ्च END   ्नस ोत. INTENT COMMENT EOS\n"
     ]
    },
    {
     "data": {
      "application/vnd.jupyter.widget-view+json": {
       "model_id": "ab0a89604cc94e72ba4862ceb9bdb5df",
       "version_major": 2,
       "version_minor": 0
      },
      "text/plain": [
       "Transcribing:   0%|          | 0/1 [00:00<?, ?it/s]"
      ]
     },
     "metadata": {},
     "output_type": "display_data"
    },
    {
     "name": "stdout",
     "output_type": "stream",
     "text": [
      "T1 T2 T237_T255 T237_  _  T239. T111_T134 T0\n",
      "Transcription for segment_138.wav: TASK TAGGER ENTITY ACTION ENTITY    T239. INTENT ACCOUNT EOS\n"
     ]
    },
    {
     "data": {
      "application/vnd.jupyter.widget-view+json": {
       "model_id": "7201f513ec024cdda221045e0cfb5525",
       "version_major": 2,
       "version_minor": 0
      },
      "text/plain": [
       "Transcribing:   0%|          | 0/1 [00:00<?, ?it/s]"
      ]
     },
     "metadata": {},
     "output_type": "display_data"
    },
    {
     "name": "stdout",
     "output_type": "stream",
     "text": [
      "T1 T2 T237_T255 p T237_T75_ T239 _T111_T32 T0\n",
      "Transcription for segment_286.wav: TASK TAGGER ENTITY ACTION p ENTITY MEDIA  END  INTENT CONTROL EOS\n"
     ]
    },
    {
     "data": {
      "application/vnd.jupyter.widget-view+json": {
       "model_id": "ef3c2dead5d74888bedce27a110a2709",
       "version_major": 2,
       "version_minor": 0
      },
      "text/plain": [
       "Transcribing:   0%|          | 0/1 [00:00<?, ?it/s]"
      ]
     },
     "metadata": {},
     "output_type": "display_data"
    },
    {
     "name": "stdout",
     "output_type": "stream",
     "text": [
      "T1 T2 Qu T239 une  T239  T239 T237_ cote T239? T111_T176_T55 T0\n",
      "Transcription for segment_499.wav: TASK TAGGER Qu END une END END ENTITY  cote T239? INTENT SEARCH STATUS EOS\n"
     ]
    },
    {
     "data": {
      "application/vnd.jupyter.widget-view+json": {
       "model_id": "0760163138c740858487140f4d35c714",
       "version_major": 2,
       "version_minor": 0
      },
      "text/plain": [
       "Transcribing:   0%|          | 0/1 [00:00<?, ?it/s]"
      ]
     },
     "metadata": {},
     "output_type": "display_data"
    },
    {
     "name": "stdout",
     "output_type": "stream",
     "text": [
      "T1 T2 T237_  T237__T157  T239  T239 T237. T111_T35_T209 T0\n",
      "Transcription for segment_10.wav: TASK TAGGER ENTITY  ENTITY  TYPE END END T237. INTENT COOKING STEP EOS\n"
     ]
    },
    {
     "data": {
      "application/vnd.jupyter.widget-view+json": {
       "model_id": "9539a22e25024076b59c62a641cbb4ea",
       "version_major": 2,
       "version_minor": 0
      },
      "text/plain": [
       "Transcribing:   0%|          | 0/1 [00:00<?, ?it/s]"
      ]
     },
     "metadata": {},
     "output_type": "display_data"
    },
    {
     "name": "stdout",
     "output_type": "stream",
     "text": [
      "T1 T2 T237_T234_T57 ప T239 అం్  ెకవతించ మట్క   వార్ ిందా T237_T156_T57 ్ాపె్ T239. T111_T122 T0\n",
      "Transcription for segment_218.wav: TASK TAGGER ENTITY PLAYER NAME ప END అం్ ెకవతించ మట్క వార్ ిందా ENTITY TEAM NAME ్ాపె్ T239. INTENT COMMENT EOS\n"
     ]
    },
    {
     "data": {
      "application/vnd.jupyter.widget-view+json": {
       "model_id": "97e1d62feffb40678e8341fae9b88d40",
       "version_major": 2,
       "version_minor": 0
      },
      "text/plain": [
       "Transcribing:   0%|          | 0/1 [00:00<?, ?it/s]"
      ]
     },
     "metadata": {},
     "output_type": "display_data"
    },
    {
     "name": "stdout",
     "output_type": "stream",
     "text": [
      "T1 T2 T237_T255 T237_T157 ुक T111_T32 T0\n",
      "Transcription for segment_389.wav: TASK TAGGER ENTITY ACTION ENTITY TYPE ुक INTENT CONTROL EOS\n"
     ]
    },
    {
     "data": {
      "application/vnd.jupyter.widget-view+json": {
       "model_id": "91fe8006388e449a85b97708f860e133",
       "version_major": 2,
       "version_minor": 0
      },
      "text/plain": [
       "Transcribing:   0%|          | 0/1 [00:00<?, ?it/s]"
      ]
     },
     "metadata": {},
     "output_type": "display_data"
    },
    {
     "name": "stdout",
     "output_type": "stream",
     "text": [
      "T1 T2 T237_T255 _ T111_T55 T0\n",
      "Transcription for segment_673.wav: TASK TAGGER ENTITY ACTION   INTENT STATUS EOS\n"
     ]
    },
    {
     "data": {
      "application/vnd.jupyter.widget-view+json": {
       "model_id": "143587edb2764feaa9619ecbf7114565",
       "version_major": 2,
       "version_minor": 0
      },
      "text/plain": [
       "Transcribing:   0%|          | 0/1 [00:00<?, ?it/s]"
      ]
     },
     "metadata": {},
     "output_type": "display_data"
    },
    {
     "name": "stdout",
     "output_type": "stream",
     "text": [
      "T1 T2 T237_T255ie T239 T237_T157  recipetT239 season. T111_T176_T163 T0\n",
      "Transcription for segment_14.wav: TASK TAGGER ENTITY T255ie END ENTITY TYPE recipetT239 season. INTENT SEARCH RECIPE EOS\n"
     ]
    },
    {
     "data": {
      "application/vnd.jupyter.widget-view+json": {
       "model_id": "9944190a09fb41b18a343edceec6d28b",
       "version_major": 2,
       "version_minor": 0
      },
      "text/plain": [
       "Transcribing:   0%|          | 0/1 [00:00<?, ?it/s]"
      ]
     },
     "metadata": {},
     "output_type": "display_data"
    },
    {
     "name": "stdout",
     "output_type": "stream",
     "text": [
      "T1 T2 T237_T255 ho T111_T46_T46 T0\n",
      "Transcription for segment_409.wav: TASK TAGGER ENTITY ACTION ho INTENT WORKOUT WORKOUT EOS\n"
     ]
    },
    {
     "data": {
      "application/vnd.jupyter.widget-view+json": {
       "model_id": "c5b9faa5c20e4d879de2a0060d98251a",
       "version_major": 2,
       "version_minor": 0
      },
      "text/plain": [
       "Transcribing:   0%|          | 0/1 [00:00<?, ?it/s]"
      ]
     },
     "metadata": {},
     "output_type": "display_data"
    },
    {
     "name": "stdout",
     "output_type": "stream",
     "text": [
      "T1 T2 T237_T255  T239  T237_T157. T111_T155 T0\n",
      "Transcription for segment_174.wav: TASK TAGGER ENTITY ACTION END ENTITY T157. INTENT SAMPLE EOS\n"
     ]
    },
    {
     "data": {
      "application/vnd.jupyter.widget-view+json": {
       "model_id": "c1d23ccc936d429ab0d67d1ed70fb3db",
       "version_major": 2,
       "version_minor": 0
      },
      "text/plain": [
       "Transcribing:   0%|          | 0/1 [00:00<?, ?it/s]"
      ]
     },
     "metadata": {},
     "output_type": "display_data"
    },
    {
     "name": "stdout",
     "output_type": "stream",
     "text": [
      "T1 T2 T237_T156_T57 ে T239 স ক এটি T237__T157 টোT239 এ প্র T111_T16 T0\n",
      "Transcription for segment_300.wav: TASK TAGGER ENTITY TEAM NAME ে END স ক এটি ENTITY  TYPE টোT239 এ প্র INTENT RESULT EOS\n"
     ]
    },
    {
     "data": {
      "application/vnd.jupyter.widget-view+json": {
       "model_id": "458ede589868426eb764ebea8a617903",
       "version_major": 2,
       "version_minor": 0
      },
      "text/plain": [
       "Transcribing:   0%|          | 0/1 [00:00<?, ?it/s]"
      ]
     },
     "metadata": {},
     "output_type": "display_data"
    },
    {
     "name": "stdout",
     "output_type": "stream",
     "text": [
      "T1 T2 T237_T255 T237_T157 T111_T46 T0\n",
      "Transcription for segment_103.wav: TASK TAGGER ENTITY ACTION ENTITY TYPE INTENT WORKOUT EOS\n"
     ]
    },
    {
     "data": {
      "application/vnd.jupyter.widget-view+json": {
       "model_id": "56664e90d2804388addddfea289ab3ab",
       "version_major": 2,
       "version_minor": 0
      },
      "text/plain": [
       "Transcribing:   0%|          | 0/1 [00:00<?, ?it/s]"
      ]
     },
     "metadata": {},
     "output_type": "display_data"
    },
    {
     "name": "stdout",
     "output_type": "stream",
     "text": [
      "T1 T2 T237_T156_T57  T239 T237__T255 খत T237  ré হప হ   ্ régulaation. T111_T122 T0\n",
      "Transcription for segment_609.wav: TASK TAGGER ENTITY TEAM NAME END ENTITY  ACTION খत ENTITY ré হప হ ্ régulaation. INTENT COMMENT EOS\n"
     ]
    },
    {
     "data": {
      "application/vnd.jupyter.widget-view+json": {
       "model_id": "d5c573bc43cf40e289d1a69b9c6faca4",
       "version_major": 2,
       "version_minor": 0
      },
      "text/plain": [
       "Transcribing:   0%|          | 0/1 [00:00<?, ?it/s]"
      ]
     },
     "metadata": {},
     "output_type": "display_data"
    },
    {
     "name": "stdout",
     "output_type": "stream",
     "text": [
      "T1 T2 T237_T255 _ _T111_T183 T0\n",
      "Transcription for segment_299.wav: TASK TAGGER ENTITY ACTION    INTENT MEASUREMENT EOS\n"
     ]
    },
    {
     "data": {
      "application/vnd.jupyter.widget-view+json": {
       "model_id": "26e28be04c594eb7bba5a0747be8817f",
       "version_major": 2,
       "version_minor": 0
      },
      "text/plain": [
       "Transcribing:   0%|          | 0/1 [00:00<?, ?it/s]"
      ]
     },
     "metadata": {},
     "output_type": "display_data"
    },
    {
     "name": "stdout",
     "output_type": "stream",
     "text": [
      "T1 T2 T237_T255 కండి T239 ో T237 ఫ చక T111_T243 T0\n",
      "Transcription for segment_136.wav: TASK TAGGER ENTITY ACTION కండి END ో ENTITY ఫ చక INTENT PRICE EOS\n"
     ]
    },
    {
     "data": {
      "application/vnd.jupyter.widget-view+json": {
       "model_id": "20fe3499580e416aa893bb4f671690ad",
       "version_major": 2,
       "version_minor": 0
      },
      "text/plain": [
       "Transcribing:   0%|          | 0/1 [00:00<?, ?it/s]"
      ]
     },
     "metadata": {},
     "output_type": "display_data"
    },
    {
     "name": "stdout",
     "output_type": "stream",
     "text": [
      "T1 T2 T237_T255 T237_T100 T239 _T111_T238 T0\n",
      "Transcription for segment_98.wav: TASK TAGGER ENTITY ACTION ENTITY AMOUNT END  INTENT ITEM EOS\n"
     ]
    },
    {
     "data": {
      "application/vnd.jupyter.widget-view+json": {
       "model_id": "7ea90bb049dd45dc952e6b460850e99d",
       "version_major": 2,
       "version_minor": 0
      },
      "text/plain": [
       "Transcribing:   0%|          | 0/1 [00:00<?, ?it/s]"
      ]
     },
     "metadata": {},
     "output_type": "display_data"
    },
    {
     "name": "stdout",
     "output_type": "stream",
     "text": [
      "T1 T2 T237_T255  Rest T239. T111_T32 T0\n",
      "Transcription for segment_638.wav: TASK TAGGER ENTITY ACTION Rest T239. INTENT CONTROL EOS\n"
     ]
    },
    {
     "data": {
      "application/vnd.jupyter.widget-view+json": {
       "model_id": "d6914b43beac4cd4b6244228dbc013c0",
       "version_major": 2,
       "version_minor": 0
      },
      "text/plain": [
       "Transcribing:   0%|          | 0/1 [00:00<?, ?it/s]"
      ]
     },
     "metadata": {},
     "output_type": "display_data"
    },
    {
     "name": "stdout",
     "output_type": "stream",
     "text": [
      "T1 T2 T237_T255 रिज  T239 T237_T195_T157 র. T111_T159_T196 T0\n",
      "Transcription for segment_191.wav: TASK TAGGER ENTITY ACTION रिज END ENTITY REPORT TYPE র. INTENT SEND TEST EOS\n"
     ]
    },
    {
     "data": {
      "application/vnd.jupyter.widget-view+json": {
       "model_id": "5303ad6c0fcf49d69075cc997184bf71",
       "version_major": 2,
       "version_minor": 0
      },
      "text/plain": [
       "Transcribing:   0%|          | 0/1 [00:00<?, ?it/s]"
      ]
     },
     "metadata": {},
     "output_type": "display_data"
    },
    {
     "name": "stdout",
     "output_type": "stream",
     "text": [
      "T1 T2 T237_T255  T237__T157 ট T237__  T239  T237_T157 వ T237_  iss.T111_T6_T66 T0\n",
      "Transcription for segment_664.wav: TASK TAGGER ENTITY ACTION ENTITY  TYPE ট ENTITY   END ENTITY TYPE వ ENTITY  iss.T111 CHECK NEWS EOS\n"
     ]
    },
    {
     "data": {
      "application/vnd.jupyter.widget-view+json": {
       "model_id": "06ff2f37aade4ed5a5f4aaedd591d4cb",
       "version_major": 2,
       "version_minor": 0
      },
      "text/plain": [
       "Transcribing:   0%|          | 0/1 [00:00<?, ?it/s]"
      ]
     },
     "metadata": {},
     "output_type": "display_data"
    },
    {
     "name": "stdout",
     "output_type": "stream",
     "text": [
      "T1 T2 T255 Noe T237_T157  T237_ bness T237__T157 groity. T111_T358_T209 T0\n",
      "Transcription for segment_95.wav: TASK TAGGER ACTION Noe ENTITY TYPE ENTITY  bness ENTITY  TYPE groity. INTENT RATE STEP EOS\n"
     ]
    },
    {
     "data": {
      "application/vnd.jupyter.widget-view+json": {
       "model_id": "8fa4eabff7d44651baa53b2b84bc5c1b",
       "version_major": 2,
       "version_minor": 0
      },
      "text/plain": [
       "Transcribing:   0%|          | 0/1 [00:00<?, ?it/s]"
      ]
     },
     "metadata": {},
     "output_type": "display_data"
    },
    {
     "name": "stdout",
     "output_type": "stream",
     "text": [
      "T1 T2 T237 T237_T41_T203 degre T239 h the T237__T249bo m. T111_T35_T209 T0\n",
      "Transcription for segment_142.wav: TASK TAGGER ENTITY ENTITY SETTING INGREDIENT degre END h the ENTITY  T249bo m. INTENT COOKING STEP EOS\n"
     ]
    },
    {
     "data": {
      "application/vnd.jupyter.widget-view+json": {
       "model_id": "4663efebe9f84831bcb2c11aa319d7d4",
       "version_major": 2,
       "version_minor": 0
      },
      "text/plain": [
       "Transcribing:   0%|          | 0/1 [00:00<?, ?it/s]"
      ]
     },
     "metadata": {},
     "output_type": "display_data"
    },
    {
     "name": "stdout",
     "output_type": "stream",
     "text": [
      "T1 T2 T237_T255  T239 T237_T157. T111_T204_T195 T0\n",
      "Transcription for segment_658.wav: TASK TAGGER ENTITY ACTION END ENTITY T157. INTENT SYMPTOM REPORT EOS\n"
     ]
    },
    {
     "data": {
      "application/vnd.jupyter.widget-view+json": {
       "model_id": "9b641be6a99d4266986c2e40801f333b",
       "version_major": 2,
       "version_minor": 0
      },
      "text/plain": [
       "Transcribing:   0%|          | 0/1 [00:00<?, ?it/s]"
      ]
     },
     "metadata": {},
     "output_type": "display_data"
    },
    {
     "name": "stdout",
     "output_type": "stream",
     "text": [
      "T1 T2 T237_T255 _ T237_  T111_T32_T32 T0\n",
      "Transcription for segment_359.wav: TASK TAGGER ENTITY ACTION   ENTITY  INTENT CONTROL CONTROL EOS\n"
     ]
    },
    {
     "data": {
      "application/vnd.jupyter.widget-view+json": {
       "model_id": "695fd05b3c18415db7fe13f4aa3a8ff6",
       "version_major": 2,
       "version_minor": 0
      },
      "text/plain": [
       "Transcribing:   0%|          | 0/1 [00:00<?, ?it/s]"
      ]
     },
     "metadata": {},
     "output_type": "display_data"
    },
    {
     "name": "stdout",
     "output_type": "stream",
     "text": [
      "T1 T2 T237_T255 T237_  _  T237   T111_T195 T0\n",
      "Transcription for segment_519.wav: TASK TAGGER ENTITY ACTION ENTITY    ENTITY INTENT REPORT EOS\n"
     ]
    },
    {
     "data": {
      "application/vnd.jupyter.widget-view+json": {
       "model_id": "ea32df6d52bb4a6e862221616a935875",
       "version_major": 2,
       "version_minor": 0
      },
      "text/plain": [
       "Transcribing:   0%|          | 0/1 [00:00<?, ?it/s]"
      ]
     },
     "metadata": {},
     "output_type": "display_data"
    },
    {
     "name": "stdout",
     "output_type": "stream",
     "text": [
      "T1 T2 T237_T255 T237_ T111_T46 T0\n",
      "Transcription for segment_508.wav: TASK TAGGER ENTITY ACTION ENTITY  INTENT WORKOUT EOS\n"
     ]
    },
    {
     "data": {
      "application/vnd.jupyter.widget-view+json": {
       "model_id": "3dce7848b8d94000b1f28a86c223ba15",
       "version_major": 2,
       "version_minor": 0
      },
      "text/plain": [
       "Transcribing:   0%|          | 0/1 [00:00<?, ?it/s]"
      ]
     },
     "metadata": {},
     "output_type": "display_data"
    },
    {
     "name": "stdout",
     "output_type": "stream",
     "text": [
      "T1 T2 T237_ Ten T239 T237t une p p T237 Stock une T237 choprs. T111_T122 T0\n",
      "Transcription for segment_434.wav: TASK TAGGER ENTITY  Ten END T237t une p p ENTITY Stock une ENTITY choprs. INTENT COMMENT EOS\n"
     ]
    },
    {
     "data": {
      "application/vnd.jupyter.widget-view+json": {
       "model_id": "b8074215a2444a778452e27e96993cd3",
       "version_major": 2,
       "version_minor": 0
      },
      "text/plain": [
       "Transcribing:   0%|          | 0/1 [00:00<?, ?it/s]"
      ]
     },
     "metadata": {},
     "output_type": "display_data"
    },
    {
     "name": "stdout",
     "output_type": "stream",
     "text": [
      "T1 T2 T237_T255 T237_  T239 T237_T157  T239. T111_T176_T238 T0\n",
      "Transcription for segment_149.wav: TASK TAGGER ENTITY ACTION ENTITY  END ENTITY TYPE T239. INTENT SEARCH ITEM EOS\n"
     ]
    },
    {
     "data": {
      "application/vnd.jupyter.widget-view+json": {
       "model_id": "50b6048f3036451c91808409c1e3e165",
       "version_major": 2,
       "version_minor": 0
      },
      "text/plain": [
       "Transcribing:   0%|          | 0/1 [00:00<?, ?it/s]"
      ]
     },
     "metadata": {},
     "output_type": "display_data"
    },
    {
     "name": "stdout",
     "output_type": "stream",
     "text": [
      "T1 T2 T237   T237T157. T111_T202 T0\n",
      "Transcription for segment_462.wav: TASK TAGGER ENTITY T237T157. INTENT HIGHLIGHT EOS\n"
     ]
    },
    {
     "data": {
      "application/vnd.jupyter.widget-view+json": {
       "model_id": "ac5adb1a9c1344adb38ba0841e9eb3d7",
       "version_major": 2,
       "version_minor": 0
      },
      "text/plain": [
       "Transcribing:   0%|          | 0/1 [00:00<?, ?it/s]"
      ]
     },
     "metadata": {},
     "output_type": "display_data"
    },
    {
     "name": "stdout",
     "output_type": "stream",
     "text": [
      "T1 T2 T237_T255 T237_ T239 T111_k T0\n",
      "Transcription for segment_414.wav: TASK TAGGER ENTITY ACTION ENTITY  END INTENT k EOS\n"
     ]
    },
    {
     "data": {
      "application/vnd.jupyter.widget-view+json": {
       "model_id": "96e12a2f6a994357bb2f14b6725513c8",
       "version_major": 2,
       "version_minor": 0
      },
      "text/plain": [
       "Transcribing:   0%|          | 0/1 [00:00<?, ?it/s]"
      ]
     },
     "metadata": {},
     "output_type": "display_data"
    },
    {
     "name": "stdout",
     "output_type": "stream",
     "text": [
      "T1 T2 T237_T255  T237_T157  T239  T239 T111_T247_T32 T0\n",
      "Transcription for segment_543.wav: TASK TAGGER ENTITY ACTION ENTITY TYPE END END INTENT STOP CONTROL EOS\n"
     ]
    },
    {
     "data": {
      "application/vnd.jupyter.widget-view+json": {
       "model_id": "8d53c2f2a6cd401180a09b97f70227df",
       "version_major": 2,
       "version_minor": 0
      },
      "text/plain": [
       "Transcribing:   0%|          | 0/1 [00:00<?, ?it/s]"
      ]
     },
     "metadata": {},
     "output_type": "display_data"
    },
    {
     "name": "stdout",
     "output_type": "stream",
     "text": [
      "T1 T2 T237_T255 T237_T195_T157 व ब वरक. T111_T220_T32 T0\n",
      "Transcription for segment_651.wav: TASK TAGGER ENTITY ACTION ENTITY REPORT TYPE व ब वरक. INTENT MONITOR CONTROL EOS\n"
     ]
    },
    {
     "data": {
      "application/vnd.jupyter.widget-view+json": {
       "model_id": "cd17415923d0402b842681414f02b32e",
       "version_major": 2,
       "version_minor": 0
      },
      "text/plain": [
       "Transcribing:   0%|          | 0/1 [00:00<?, ?it/s]"
      ]
     },
     "metadata": {},
     "output_type": "display_data"
    },
    {
     "name": "stdout",
     "output_type": "stream",
     "text": [
      "T1 T2 T237_T255 T237_T157 े T239. T111_T111_T32 T0\n",
      "Transcription for segment_497.wav: TASK TAGGER ENTITY ACTION ENTITY TYPE े T239. INTENT INTENT CONTROL EOS\n"
     ]
    },
    {
     "data": {
      "application/vnd.jupyter.widget-view+json": {
       "model_id": "86bc9a1f095a43d583acffb6b185cce8",
       "version_major": 2,
       "version_minor": 0
      },
      "text/plain": [
       "Transcribing:   0%|          | 0/1 [00:00<?, ?it/s]"
      ]
     },
     "metadata": {},
     "output_type": "display_data"
    },
    {
     "name": "stdout",
     "output_type": "stream",
     "text": [
      "T1 T2 T237_T255 T237_   T237_T253  T239 T237 2 T239 T111_T147 T0\n",
      "Transcription for segment_20.wav: TASK TAGGER ENTITY ACTION ENTITY  ENTITY DESTINATION END ENTITY 2 END INTENT BOOK EOS\n"
     ]
    },
    {
     "data": {
      "application/vnd.jupyter.widget-view+json": {
       "model_id": "6bfb121da2f74827959ae741ec4a3204",
       "version_major": 2,
       "version_minor": 0
      },
      "text/plain": [
       "Transcribing:   0%|          | 0/1 [00:00<?, ?it/s]"
      ]
     },
     "metadata": {},
     "output_type": "display_data"
    },
    {
     "name": "stdout",
     "output_type": "stream",
     "text": [
      "T1 T2 T237_T255 _ _T111_T46 T0\n",
      "Transcription for segment_4.wav: TASK TAGGER ENTITY ACTION    INTENT WORKOUT EOS\n"
     ]
    },
    {
     "data": {
      "application/vnd.jupyter.widget-view+json": {
       "model_id": "825976fbf47d4ed5bcaff9e117bbc311",
       "version_major": 2,
       "version_minor": 0
      },
      "text/plain": [
       "Transcribing:   0%|          | 0/1 [00:00<?, ?it/s]"
      ]
     },
     "metadata": {},
     "output_type": "display_data"
    },
    {
     "name": "stdout",
     "output_type": "stream",
     "text": [
      "T1 T2 T237_ T237__   T237  म T237सु  T111_T35_T76 T0\n",
      "Transcription for segment_269.wav: TASK TAGGER ENTITY  ENTITY   ENTITY म T237सु INTENT COOKING INFO EOS\n"
     ]
    },
    {
     "data": {
      "application/vnd.jupyter.widget-view+json": {
       "model_id": "fc56691fa63847ff8ab4fd9ebbdf8a1c",
       "version_major": 2,
       "version_minor": 0
      },
      "text/plain": [
       "Transcribing:   0%|          | 0/1 [00:00<?, ?it/s]"
      ]
     },
     "metadata": {},
     "output_type": "display_data"
    },
    {
     "name": "stdout",
     "output_type": "stream",
     "text": [
      "T1 T2 T237_T156_T57 Calrot ENDT239 chy T237__T57 C  pbo imbcten big rots in spe  roy. T111_T122 T0\n",
      "Transcription for segment_677.wav: TASK TAGGER ENTITY TEAM NAME Calrot ENDT239 chy ENTITY  NAME C pbo imbcten big rots in spe roy. INTENT COMMENT EOS\n"
     ]
    },
    {
     "data": {
      "application/vnd.jupyter.widget-view+json": {
       "model_id": "81621bd2f7924094b251e9ce226a81ad",
       "version_major": 2,
       "version_minor": 0
      },
      "text/plain": [
       "Transcribing:   0%|          | 0/1 [00:00<?, ?it/s]"
      ]
     },
     "metadata": {},
     "output_type": "display_data"
    },
    {
     "name": "stdout",
     "output_type": "stream",
     "text": [
      "T1 T2 T237_T156_T57 W  T237T57 T57 _ keep       co T237T156. T111_T202 T0\n",
      "Transcription for segment_424.wav: TASK TAGGER ENTITY TEAM NAME W T237T57 NAME   keep co T237T156. INTENT HIGHLIGHT EOS\n"
     ]
    },
    {
     "data": {
      "application/vnd.jupyter.widget-view+json": {
       "model_id": "d7e7a52d50ed4749bc9d573571eb20a5",
       "version_major": 2,
       "version_minor": 0
      },
      "text/plain": [
       "Transcribing:   0%|          | 0/1 [00:00<?, ?it/s]"
      ]
     },
     "metadata": {},
     "output_type": "display_data"
    },
    {
     "name": "stdout",
     "output_type": "stream",
     "text": [
      "T1 T2 T237_T255 _ T239. T111_T247_T5 T0\n",
      "Transcription for segment_32.wav: TASK TAGGER ENTITY ACTION   T239. INTENT STOP COMMAND EOS\n"
     ]
    },
    {
     "data": {
      "application/vnd.jupyter.widget-view+json": {
       "model_id": "dd93b4b9f7d04cb68868f2ac8b7cb53b",
       "version_major": 2,
       "version_minor": 0
      },
      "text/plain": [
       "Transcribing:   0%|          | 0/1 [00:00<?, ?it/s]"
      ]
     },
     "metadata": {},
     "output_type": "display_data"
    },
    {
     "name": "stdout",
     "output_type": "stream",
     "text": [
      "T1 T2 T237_T255  T239 T237_. _T111_T195 T0\n",
      "Transcription for segment_173.wav: TASK TAGGER ENTITY ACTION END ENTITY .  INTENT REPORT EOS\n"
     ]
    },
    {
     "data": {
      "application/vnd.jupyter.widget-view+json": {
       "model_id": "508c547b92534b87a85f45bff05a40ce",
       "version_major": 2,
       "version_minor": 0
      },
      "text/plain": [
       "Transcribing:   0%|          | 0/1 [00:00<?, ?it/s]"
      ]
     },
     "metadata": {},
     "output_type": "display_data"
    },
    {
     "name": "stdout",
     "output_type": "stream",
     "text": [
      "T1 T2 T237_T255 Rere T239 T237_T101_T32  T239. T111_T32_T32 T0\n",
      "Transcription for segment_176.wav: TASK TAGGER ENTITY ACTION Rere END ENTITY PLAYBACK CONTROL T239. INTENT CONTROL CONTROL EOS\n"
     ]
    },
    {
     "data": {
      "application/vnd.jupyter.widget-view+json": {
       "model_id": "fd32e773c7314383b42803e1ffa48844",
       "version_major": 2,
       "version_minor": 0
      },
      "text/plain": [
       "Transcribing:   0%|          | 0/1 [00:00<?, ?it/s]"
      ]
     },
     "metadata": {},
     "output_type": "display_data"
    },
    {
     "name": "stdout",
     "output_type": "stream",
     "text": [
      "T1 T2 T237_T255 _ T239 T111_T32 T0\n",
      "Transcription for segment_594.wav: TASK TAGGER ENTITY ACTION   END INTENT CONTROL EOS\n"
     ]
    },
    {
     "data": {
      "application/vnd.jupyter.widget-view+json": {
       "model_id": "ed61076ca9b144aea065210b7d572ae5",
       "version_major": 2,
       "version_minor": 0
      },
      "text/plain": [
       "Transcribing:   0%|          | 0/1 [00:00<?, ?it/s]"
      ]
     },
     "metadata": {},
     "output_type": "display_data"
    },
    {
     "name": "stdout",
     "output_type": "stream",
     "text": [
      "T1 T2 T237_T255 T237_ _T111_T46 T0\n",
      "Transcription for segment_238.wav: TASK TAGGER ENTITY ACTION ENTITY   INTENT WORKOUT EOS\n"
     ]
    },
    {
     "data": {
      "application/vnd.jupyter.widget-view+json": {
       "model_id": "618a9fb78d704a3181880a42fd4aabbb",
       "version_major": 2,
       "version_minor": 0
      },
      "text/plain": [
       "Transcribing:   0%|          | 0/1 [00:00<?, ?it/s]"
      ]
     },
     "metadata": {},
     "output_type": "display_data"
    },
    {
     "name": "stdout",
     "output_type": "stream",
     "text": [
      "T1 T2 T237_T255 T237 w T237_  T239  wven T239 T237_  plese T111_T209 T0\n",
      "Transcription for segment_402.wav: TASK TAGGER ENTITY ACTION ENTITY w ENTITY  END wven END ENTITY  plese INTENT STEP EOS\n"
     ]
    },
    {
     "data": {
      "application/vnd.jupyter.widget-view+json": {
       "model_id": "5fec42bd667d47ec8aed4e4b56cf50bf",
       "version_major": 2,
       "version_minor": 0
      },
      "text/plain": [
       "Transcribing:   0%|          | 0/1 [00:00<?, ?it/s]"
      ]
     },
     "metadata": {},
     "output_type": "display_data"
    },
    {
     "name": "stdout",
     "output_type": "stream",
     "text": [
      "T1 T2 T237_T255 In T239 T237_   T239 de bod. T111_T122 T0\n",
      "Transcription for segment_50.wav: TASK TAGGER ENTITY ACTION In END ENTITY  END de bod. INTENT COMMENT EOS\n"
     ]
    },
    {
     "data": {
      "application/vnd.jupyter.widget-view+json": {
       "model_id": "541eeae5297e4d7e9eac9b5c3a2e761a",
       "version_major": 2,
       "version_minor": 0
      },
      "text/plain": [
       "Transcribing:   0%|          | 0/1 [00:00<?, ?it/s]"
      ]
     },
     "metadata": {},
     "output_type": "display_data"
    },
    {
     "name": "stdout",
     "output_type": "stream",
     "text": [
      "T1 T2 T237_T255 T237_ T239 _T32_T46 T0\n",
      "Transcription for segment_118.wav: TASK TAGGER ENTITY ACTION ENTITY  END  CONTROL WORKOUT EOS\n"
     ]
    },
    {
     "data": {
      "application/vnd.jupyter.widget-view+json": {
       "model_id": "383210e7327342ebb7be9ef3ae752cae",
       "version_major": 2,
       "version_minor": 0
      },
      "text/plain": [
       "Transcribing:   0%|          | 0/1 [00:00<?, ?it/s]"
      ]
     },
     "metadata": {},
     "output_type": "display_data"
    },
    {
     "name": "stdout",
     "output_type": "stream",
     "text": [
      "T1 T2 T237_T255 k T237_T157 xing test T239. T111_T160_ste T0\n",
      "Transcription for segment_668.wav: TASK TAGGER ENTITY ACTION k ENTITY TYPE xing test T239. INTENT VIEW ste EOS\n"
     ]
    },
    {
     "data": {
      "application/vnd.jupyter.widget-view+json": {
       "model_id": "418abc460ef348dbb8a5a9e09dd6bc19",
       "version_major": 2,
       "version_minor": 0
      },
      "text/plain": [
       "Transcribing:   0%|          | 0/1 [00:00<?, ?it/s]"
      ]
     },
     "metadata": {},
     "output_type": "display_data"
    },
    {
     "name": "stdout",
     "output_type": "stream",
     "text": [
      "T1 T2 T237_T156_T57 বసప শয T237__  ার కించ T237_ প্ষ  T237_T120. T111_T122 T0\n",
      "Transcription for segment_195.wav: TASK TAGGER ENTITY TEAM NAME বసప শয ENTITY   ার కించ ENTITY  প্ষ ENTITY T120. INTENT COMMENT EOS\n"
     ]
    },
    {
     "data": {
      "application/vnd.jupyter.widget-view+json": {
       "model_id": "708d6cef032b45c0abf1ff6cc770eda0",
       "version_major": 2,
       "version_minor": 0
      },
      "text/plain": [
       "Transcribing:   0%|          | 0/1 [00:00<?, ?it/s]"
      ]
     },
     "metadata": {},
     "output_type": "display_data"
    },
    {
     "name": "stdout",
     "output_type": "stream",
     "text": [
      "T1 T2 T237_T234_ Ro T239 T237_ i T239 T111_T122 T0\n",
      "Transcription for segment_295.wav: TASK TAGGER ENTITY PLAYER  Ro END ENTITY  i END INTENT COMMENT EOS\n"
     ]
    },
    {
     "data": {
      "application/vnd.jupyter.widget-view+json": {
       "model_id": "e3e81e4d0660419e8210f1a7502281af",
       "version_major": 2,
       "version_minor": 0
      },
      "text/plain": [
       "Transcribing:   0%|          | 0/1 [00:00<?, ?it/s]"
      ]
     },
     "metadata": {},
     "output_type": "display_data"
    },
    {
     "name": "stdout",
     "output_type": "stream",
     "text": [
      "T1 T2 T237_T255 T237_T157 T239 _ ्. T111_T159_T195 T0\n",
      "Transcription for segment_25.wav: TASK TAGGER ENTITY ACTION ENTITY TYPE END   ्. INTENT SEND REPORT EOS\n"
     ]
    },
    {
     "data": {
      "application/vnd.jupyter.widget-view+json": {
       "model_id": "eac5aacddffd47a8b11ced5c59c2f90a",
       "version_major": 2,
       "version_minor": 0
      },
      "text/plain": [
       "Transcribing:   0%|          | 0/1 [00:00<?, ?it/s]"
      ]
     },
     "metadata": {},
     "output_type": "display_data"
    },
    {
     "name": "stdout",
     "output_type": "stream",
     "text": [
      "T1 T2 T237_T255 _ T111_T196 T0\n",
      "Transcription for segment_665.wav: TASK TAGGER ENTITY ACTION   INTENT TEST EOS\n"
     ]
    },
    {
     "data": {
      "application/vnd.jupyter.widget-view+json": {
       "model_id": "7d7e5f4d392143bba721c35dfbef86ae",
       "version_major": 2,
       "version_minor": 0
      },
      "text/plain": [
       "Transcribing:   0%|          | 0/1 [00:00<?, ?it/s]"
      ]
     },
     "metadata": {},
     "output_type": "display_data"
    },
    {
     "name": "stdout",
     "output_type": "stream",
     "text": [
      "T1 T2 T237_T255 ચા _. T111_T88_T256 T0\n",
      "Transcription for segment_553.wav: TASK TAGGER ENTITY ACTION ચા  . INTENT FIND LOCATION EOS\n"
     ]
    },
    {
     "data": {
      "application/vnd.jupyter.widget-view+json": {
       "model_id": "f9889b8372364c6da3c84f91bde768ca",
       "version_major": 2,
       "version_minor": 0
      },
      "text/plain": [
       "Transcribing:   0%|          | 0/1 [00:00<?, ?it/s]"
      ]
     },
     "metadata": {},
     "output_type": "display_data"
    },
    {
     "name": "stdout",
     "output_type": "stream",
     "text": [
      "T1 T2 T237_T156_T57  T239 T237_ స్ T239  T237_ T237T120 3  T237. T111_T16 T0\n",
      "Transcription for segment_601.wav: TASK TAGGER ENTITY TEAM NAME END ENTITY  స్ END ENTITY  T237T120 3 T237. INTENT RESULT EOS\n"
     ]
    },
    {
     "data": {
      "application/vnd.jupyter.widget-view+json": {
       "model_id": "9f5dcddf2ee74ed7972476d683fc5819",
       "version_major": 2,
       "version_minor": 0
      },
      "text/plain": [
       "Transcribing:   0%|          | 0/1 [00:00<?, ?it/s]"
      ]
     },
     "metadata": {},
     "output_type": "display_data"
    },
    {
     "name": "stdout",
     "output_type": "stream",
     "text": [
      "T1 T2 T237_T255   T237__T157 ট T237_T157 স্ T111_T195 T0\n",
      "Transcription for segment_533.wav: TASK TAGGER ENTITY ACTION ENTITY  TYPE ট ENTITY TYPE স্ INTENT REPORT EOS\n"
     ]
    },
    {
     "data": {
      "application/vnd.jupyter.widget-view+json": {
       "model_id": "79d5faa3e72d46e19cd2bfba2f837376",
       "version_major": 2,
       "version_minor": 0
      },
      "text/plain": [
       "Transcribing:   0%|          | 0/1 [00:00<?, ?it/s]"
      ]
     },
     "metadata": {},
     "output_type": "display_data"
    },
    {
     "name": "stdout",
     "output_type": "stream",
     "text": [
      "T1 T2 T237_T255  T239 T237_T100 $ T237  T239   T239 T111_T61 T0\n",
      "Transcription for segment_618.wav: TASK TAGGER ENTITY ACTION END ENTITY AMOUNT $ ENTITY END END INTENT LIST EOS\n"
     ]
    },
    {
     "data": {
      "application/vnd.jupyter.widget-view+json": {
       "model_id": "00879539593d40309b616e12ca1cd44b",
       "version_major": 2,
       "version_minor": 0
      },
      "text/plain": [
       "Transcribing:   0%|          | 0/1 [00:00<?, ?it/s]"
      ]
     },
     "metadata": {},
     "output_type": "display_data"
    },
    {
     "name": "stdout",
     "output_type": "stream",
     "text": [
      "T1 T2 T237_T255 T237_T49 सोरची  शववाा T237_T253 ं्ी T239  लाजीला T237 फरी T239 T111_T128_T103_T76 T0\n",
      "Transcription for segment_345.wav: TASK TAGGER ENTITY ACTION ENTITY STORE सोरची शववाा ENTITY DESTINATION ं्ी END लाजीला ENTITY फरी END INTENT REMOVE NUTRITIONAL INFO EOS\n"
     ]
    },
    {
     "data": {
      "application/vnd.jupyter.widget-view+json": {
       "model_id": "c20cf8d609a148fdb00e42207aae1154",
       "version_major": 2,
       "version_minor": 0
      },
      "text/plain": [
       "Transcribing:   0%|          | 0/1 [00:00<?, ?it/s]"
      ]
     },
     "metadata": {},
     "output_type": "display_data"
    },
    {
     "name": "stdout",
     "output_type": "stream",
     "text": [
      "T1 T2 T237_T234_T57 কে  T237T255 প্  প্রন T239 এ  স স্্  মন. T111_T122 T0\n",
      "Transcription for segment_259.wav: TASK TAGGER ENTITY PLAYER NAME কে T237T255 প্ প্রন END এ স স্্ মন. INTENT COMMENT EOS\n"
     ]
    },
    {
     "data": {
      "application/vnd.jupyter.widget-view+json": {
       "model_id": "68edd228a5504c2595972dd0ed7e7a7e",
       "version_major": 2,
       "version_minor": 0
      },
      "text/plain": [
       "Transcribing:   0%|          | 0/1 [00:00<?, ?it/s]"
      ]
     },
     "metadata": {},
     "output_type": "display_data"
    },
    {
     "name": "stdout",
     "output_type": "stream",
     "text": [
      "T1 T2 T237_T255  T237__  T111_T211 T0\n",
      "Transcription for segment_585.wav: TASK TAGGER ENTITY ACTION ENTITY   INTENT FUNDS EOS\n"
     ]
    },
    {
     "data": {
      "application/vnd.jupyter.widget-view+json": {
       "model_id": "a4b602732e694ec89ebae0eb4325f5dc",
       "version_major": 2,
       "version_minor": 0
      },
      "text/plain": [
       "Transcribing:   0%|          | 0/1 [00:00<?, ?it/s]"
      ]
     },
     "metadata": {},
     "output_type": "display_data"
    },
    {
     "name": "stdout",
     "output_type": "stream",
     "text": [
      "T1 T2 T237_T255 T237_ T239 T111_T243 T0\n",
      "Transcription for segment_27.wav: TASK TAGGER ENTITY ACTION ENTITY  END INTENT PRICE EOS\n"
     ]
    },
    {
     "data": {
      "application/vnd.jupyter.widget-view+json": {
       "model_id": "f57d5ffb4d1b44539b65b23e28bcea35",
       "version_major": 2,
       "version_minor": 0
      },
      "text/plain": [
       "Transcribing:   0%|          | 0/1 [00:00<?, ?it/s]"
      ]
     },
     "metadata": {},
     "output_type": "display_data"
    },
    {
     "name": "stdout",
     "output_type": "stream",
     "text": [
      "T1 T2 T237_T255  T239 T237_T203 s T239 T237_T203  T239 ing. T111_T35_T209 T0\n",
      "Transcription for segment_51.wav: TASK TAGGER ENTITY ACTION END ENTITY INGREDIENT s END ENTITY INGREDIENT END ing. INTENT COOKING STEP EOS\n"
     ]
    },
    {
     "data": {
      "application/vnd.jupyter.widget-view+json": {
       "model_id": "3bfcb0cac91448deb6e42bdf4428845f",
       "version_major": 2,
       "version_minor": 0
      },
      "text/plain": [
       "Transcribing:   0%|          | 0/1 [00:00<?, ?it/s]"
      ]
     },
     "metadata": {},
     "output_type": "display_data"
    },
    {
     "name": "stdout",
     "output_type": "stream",
     "text": [
      "T1 T2 T237_T255  _ T237__T157  T239. T111_T192_T211 T0\n",
      "Transcription for segment_358.wav: TASK TAGGER ENTITY ACTION   ENTITY  TYPE T239. INTENT INVEST FUNDS EOS\n"
     ]
    },
    {
     "data": {
      "application/vnd.jupyter.widget-view+json": {
       "model_id": "85e9008460d442be93a8e9abeedaf645",
       "version_major": 2,
       "version_minor": 0
      },
      "text/plain": [
       "Transcribing:   0%|          | 0/1 [00:00<?, ?it/s]"
      ]
     },
     "metadata": {},
     "output_type": "display_data"
    },
    {
     "name": "stdout",
     "output_type": "stream",
     "text": [
      "T1 T2 T237_T255 W T239 T237_T50  cool. T111_T209 T0\n",
      "Transcription for segment_604.wav: TASK TAGGER ENTITY ACTION W END ENTITY PLAN cool. INTENT STEP EOS\n"
     ]
    },
    {
     "data": {
      "application/vnd.jupyter.widget-view+json": {
       "model_id": "5827280a10084afd831476eafedccfc9",
       "version_major": 2,
       "version_minor": 0
      },
      "text/plain": [
       "Transcribing:   0%|          | 0/1 [00:00<?, ?it/s]"
      ]
     },
     "metadata": {},
     "output_type": "display_data"
    },
    {
     "name": "stdout",
     "output_type": "stream",
     "text": [
      "T1 T2  T237_T203  T239 T237T203 for the T163f chas _T209 T0\n",
      "Transcription for segment_666.wav: TASK TAGGER ENTITY INGREDIENT END T237T203 for the T163f chas  STEP EOS\n"
     ]
    },
    {
     "data": {
      "application/vnd.jupyter.widget-view+json": {
       "model_id": "f1cd190b26834616b49fcda09a6f970c",
       "version_major": 2,
       "version_minor": 0
      },
      "text/plain": [
       "Transcribing:   0%|          | 0/1 [00:00<?, ?it/s]"
      ]
     },
     "metadata": {},
     "output_type": "display_data"
    },
    {
     "name": "stdout",
     "output_type": "stream",
     "text": [
      "T1 T2 T237_T255 T237_T157 व T239  T237_   T239. T111_T6_T55 T0\n",
      "Transcription for segment_616.wav: TASK TAGGER ENTITY ACTION ENTITY TYPE व END ENTITY  T239. INTENT CHECK STATUS EOS\n"
     ]
    },
    {
     "data": {
      "application/vnd.jupyter.widget-view+json": {
       "model_id": "f1f9e1f059c44f1c9491e0103670d41c",
       "version_major": 2,
       "version_minor": 0
      },
      "text/plain": [
       "Transcribing:   0%|          | 0/1 [00:00<?, ?it/s]"
      ]
     },
     "metadata": {},
     "output_type": "display_data"
    },
    {
     "name": "stdout",
     "output_type": "stream",
     "text": [
      "T1 T2 T237_T255 T237_T157  T239 T237_T157  T239. T111_T206_T134 T0\n",
      "Transcription for segment_137.wav: TASK TAGGER ENTITY ACTION ENTITY TYPE END ENTITY TYPE T239. INTENT PAY ACCOUNT EOS\n"
     ]
    },
    {
     "data": {
      "application/vnd.jupyter.widget-view+json": {
       "model_id": "39e9558c6e004702ae6e55ee1d02b0e2",
       "version_major": 2,
       "version_minor": 0
      },
      "text/plain": [
       "Transcribing:   0%|          | 0/1 [00:00<?, ?it/s]"
      ]
     },
     "metadata": {},
     "output_type": "display_data"
    },
    {
     "name": "stdout",
     "output_type": "stream",
     "text": [
      "T1 T2 T237_T255 T237_ _T111_T46 T0\n",
      "Transcription for segment_395.wav: TASK TAGGER ENTITY ACTION ENTITY   INTENT WORKOUT EOS\n"
     ]
    },
    {
     "data": {
      "application/vnd.jupyter.widget-view+json": {
       "model_id": "b6237f96045745ca86e70667025ee080",
       "version_major": 2,
       "version_minor": 0
      },
      "text/plain": [
       "Transcribing:   0%|          | 0/1 [00:00<?, ?it/s]"
      ]
     },
     "metadata": {},
     "output_type": "display_data"
    },
    {
     "name": "stdout",
     "output_type": "stream",
     "text": [
      "T1 T2 T237_T255  T239 T237 स्टర్ T239 T237_  T237_T49  T239 T111_T238_T243 T0\n",
      "Transcription for segment_663.wav: TASK TAGGER ENTITY ACTION END ENTITY स्टర్ END ENTITY  ENTITY STORE END INTENT ITEM PRICE EOS\n"
     ]
    },
    {
     "data": {
      "application/vnd.jupyter.widget-view+json": {
       "model_id": "01e6880fba3d41a89b02dbd419519d95",
       "version_major": 2,
       "version_minor": 0
      },
      "text/plain": [
       "Transcribing:   0%|          | 0/1 [00:00<?, ?it/s]"
      ]
     },
     "metadata": {},
     "output_type": "display_data"
    },
    {
     "name": "stdout",
     "output_type": "stream",
     "text": [
      "T1 T2 T237_T255 T237_ T239 T111_T32 T0\n",
      "Transcription for segment_483.wav: TASK TAGGER ENTITY ACTION ENTITY  END INTENT CONTROL EOS\n"
     ]
    },
    {
     "data": {
      "application/vnd.jupyter.widget-view+json": {
       "model_id": "7a2d95e4b9274cec8ab3dad6e21e5ad8",
       "version_major": 2,
       "version_minor": 0
      },
      "text/plain": [
       "Transcribing:   0%|          | 0/1 [00:00<?, ?it/s]"
      ]
     },
     "metadata": {},
     "output_type": "display_data"
    },
    {
     "name": "stdout",
     "output_type": "stream",
     "text": [
      "T1 T2 T237_T255   T239. T111_T46 T0\n",
      "Transcription for segment_37.wav: TASK TAGGER ENTITY ACTION T239. INTENT WORKOUT EOS\n"
     ]
    },
    {
     "data": {
      "application/vnd.jupyter.widget-view+json": {
       "model_id": "a6096f5df48a490bb62dece20717a6f1",
       "version_major": 2,
       "version_minor": 0
      },
      "text/plain": [
       "Transcribing:   0%|          | 0/1 [00:00<?, ?it/s]"
      ]
     },
     "metadata": {},
     "output_type": "display_data"
    },
    {
     "name": "stdout",
     "output_type": "stream",
     "text": [
      "T1 T2 T237_T255 T237_ T239 _T111_T209 T0\n",
      "Transcription for segment_152.wav: TASK TAGGER ENTITY ACTION ENTITY  END  INTENT STEP EOS\n"
     ]
    },
    {
     "data": {
      "application/vnd.jupyter.widget-view+json": {
       "model_id": "85bf72fab4db4855a70450e8e70c94a5",
       "version_major": 2,
       "version_minor": 0
      },
      "text/plain": [
       "Transcribing:   0%|          | 0/1 [00:00<?, ?it/s]"
      ]
     },
     "metadata": {},
     "output_type": "display_data"
    },
    {
     "name": "stdout",
     "output_type": "stream",
     "text": [
      "T1 T2 T237_ _ _T183 T0\n",
      "Transcription for segment_29.wav: TASK TAGGER ENTITY     MEASUREMENT EOS\n"
     ]
    },
    {
     "data": {
      "application/vnd.jupyter.widget-view+json": {
       "model_id": "09b2fd2fe0514a4f865beee3f408bc9c",
       "version_major": 2,
       "version_minor": 0
      },
      "text/plain": [
       "Transcribing:   0%|          | 0/1 [00:00<?, ?it/s]"
      ]
     },
     "metadata": {},
     "output_type": "display_data"
    },
    {
     "name": "stdout",
     "output_type": "stream",
     "text": [
      "T1 T2 T237_T255 T237_T49 फरू T239 T237_T238  T239 T237T243 T111_T88_T238 T0\n",
      "Transcription for segment_548.wav: TASK TAGGER ENTITY ACTION ENTITY STORE फरू END ENTITY ITEM END T237T243 INTENT FIND ITEM EOS\n"
     ]
    },
    {
     "data": {
      "application/vnd.jupyter.widget-view+json": {
       "model_id": "c0a89bf91e274be8bb4fdfb7fcdadae2",
       "version_major": 2,
       "version_minor": 0
      },
      "text/plain": [
       "Transcribing:   0%|          | 0/1 [00:00<?, ?it/s]"
      ]
     },
     "metadata": {},
     "output_type": "display_data"
    },
    {
     "name": "stdout",
     "output_type": "stream",
     "text": [
      "T1 T2 T237_T255 ok T239 T237_ bo T239  T239 for T237_as on T237_ T239 T111_T476_T209 T0\n",
      "Transcription for segment_64.wav: TASK TAGGER ENTITY ACTION ok END ENTITY  bo END END for ENTITY as on ENTITY  END INTENT COOK STEP EOS\n"
     ]
    },
    {
     "data": {
      "application/vnd.jupyter.widget-view+json": {
       "model_id": "6d96db6206184987af710d824b3fcec1",
       "version_major": 2,
       "version_minor": 0
      },
      "text/plain": [
       "Transcribing:   0%|          | 0/1 [00:00<?, ?it/s]"
      ]
     },
     "metadata": {},
     "output_type": "display_data"
    },
    {
     "name": "stdout",
     "output_type": "stream",
     "text": [
      "T1 T2 T237_T255  T237_T157  T239 T237. T111_T176_T195 T0\n",
      "Transcription for segment_212.wav: TASK TAGGER ENTITY ACTION ENTITY TYPE END T237. INTENT SEARCH REPORT EOS\n"
     ]
    },
    {
     "data": {
      "application/vnd.jupyter.widget-view+json": {
       "model_id": "cc0983697b1d45079413c37ebe4f1b8a",
       "version_major": 2,
       "version_minor": 0
      },
      "text/plain": [
       "Transcribing:   0%|          | 0/1 [00:00<?, ?it/s]"
      ]
     },
     "metadata": {},
     "output_type": "display_data"
    },
    {
     "name": "stdout",
     "output_type": "stream",
     "text": [
      "T1 T2 T237_T234_T57 AG T239cat T239 _s surr  on the wlicrining. T111_T122 T0\n",
      "Transcription for segment_675.wav: TASK TAGGER ENTITY PLAYER NAME AG T239cat END  s surr on the wlicrining. INTENT COMMENT EOS\n"
     ]
    },
    {
     "data": {
      "application/vnd.jupyter.widget-view+json": {
       "model_id": "60fc0c2d2fa64d448ca05498c476106c",
       "version_major": 2,
       "version_minor": 0
      },
      "text/plain": [
       "Transcribing:   0%|          | 0/1 [00:00<?, ?it/s]"
      ]
     },
     "metadata": {},
     "output_type": "display_data"
    },
    {
     "name": "stdout",
     "output_type": "stream",
     "text": [
      "T1 T2 T237_T255 T237_ _ T239 _T220_T134 T0\n",
      "Transcription for segment_58.wav: TASK TAGGER ENTITY ACTION ENTITY    END  MONITOR ACCOUNT EOS\n"
     ]
    },
    {
     "data": {
      "application/vnd.jupyter.widget-view+json": {
       "model_id": "d03bd8801f3f48fdb85649e8ed212604",
       "version_major": 2,
       "version_minor": 0
      },
      "text/plain": [
       "Transcribing:   0%|          | 0/1 [00:00<?, ?it/s]"
      ]
     },
     "metadata": {},
     "output_type": "display_data"
    },
    {
     "name": "stdout",
     "output_type": "stream",
     "text": [
      "T1 T2 T237_T255  T239 __  T237__  T111_T32_T46 T0\n",
      "Transcription for segment_494.wav: TASK TAGGER ENTITY ACTION END    ENTITY   INTENT CONTROL WORKOUT EOS\n"
     ]
    },
    {
     "data": {
      "application/vnd.jupyter.widget-view+json": {
       "model_id": "c036278263d044938dc64a5b5913f2a6",
       "version_major": 2,
       "version_minor": 0
      },
      "text/plain": [
       "Transcribing:   0%|          | 0/1 [00:00<?, ?it/s]"
      ]
     },
     "metadata": {},
     "output_type": "display_data"
    },
    {
     "name": "stdout",
     "output_type": "stream",
     "text": [
      "T1 T2  T237_  T239 T237 T237. T111_T35_T209 T0\n",
      "Transcription for segment_443.wav: TASK TAGGER ENTITY  END ENTITY T237. INTENT COOKING STEP EOS\n"
     ]
    },
    {
     "data": {
      "application/vnd.jupyter.widget-view+json": {
       "model_id": "e6e077a4d03840bda7a82aaccea542fd",
       "version_major": 2,
       "version_minor": 0
      },
      "text/plain": [
       "Transcribing:   0%|          | 0/1 [00:00<?, ?it/s]"
      ]
     },
     "metadata": {},
     "output_type": "display_data"
    },
    {
     "name": "stdout",
     "output_type": "stream",
     "text": [
      "T1 T2 T237_T255  T239 ro. T111_T154_T32 T0\n",
      "Transcription for segment_314.wav: TASK TAGGER ENTITY ACTION END ro. INTENT PLAY CONTROL EOS\n"
     ]
    },
    {
     "data": {
      "application/vnd.jupyter.widget-view+json": {
       "model_id": "2bbf5bac448543f5a9d6a3320a18469e",
       "version_major": 2,
       "version_minor": 0
      },
      "text/plain": [
       "Transcribing:   0%|          | 0/1 [00:00<?, ?it/s]"
      ]
     },
     "metadata": {},
     "output_type": "display_data"
    },
    {
     "name": "stdout",
     "output_type": "stream",
     "text": [
      "T1 T2 T237_T255 খ T237 গ্োেন T237 স্রা T237_ ন্ লি T239 T111_T74 T0\n",
      "Transcription for segment_590.wav: TASK TAGGER ENTITY ACTION খ ENTITY গ্োেন ENTITY স্রা ENTITY  ন্ লি END INTENT ALERT EOS\n"
     ]
    },
    {
     "data": {
      "application/vnd.jupyter.widget-view+json": {
       "model_id": "527df5cbc26a42bcb358a53071b1b66b",
       "version_major": 2,
       "version_minor": 0
      },
      "text/plain": [
       "Transcribing:   0%|          | 0/1 [00:00<?, ?it/s]"
      ]
     },
     "metadata": {},
     "output_type": "display_data"
    },
    {
     "name": "stdout",
     "output_type": "stream",
     "text": [
      "T1 T2 T237_T255 T237_T157. T111_T247_T46 T0\n",
      "Transcription for segment_210.wav: TASK TAGGER ENTITY ACTION ENTITY T157. INTENT STOP WORKOUT EOS\n"
     ]
    },
    {
     "data": {
      "application/vnd.jupyter.widget-view+json": {
       "model_id": "e01318f060d3407d9980eee8a016c638",
       "version_major": 2,
       "version_minor": 0
      },
      "text/plain": [
       "Transcribing:   0%|          | 0/1 [00:00<?, ?it/s]"
      ]
     },
     "metadata": {},
     "output_type": "display_data"
    },
    {
     "name": "stdout",
     "output_type": "stream",
     "text": [
      "T1 T2 T237_T255  प T237_. T111_T212_T55 T0\n",
      "Transcription for segment_557.wav: TASK TAGGER ENTITY ACTION प ENTITY . INTENT GET STATUS EOS\n"
     ]
    },
    {
     "data": {
      "application/vnd.jupyter.widget-view+json": {
       "model_id": "0e3f0d8531af455eb2d7e1bbd50bf98d",
       "version_major": 2,
       "version_minor": 0
      },
      "text/plain": [
       "Transcribing:   0%|          | 0/1 [00:00<?, ?it/s]"
      ]
     },
     "metadata": {},
     "output_type": "display_data"
    },
    {
     "name": "stdout",
     "output_type": "stream",
     "text": [
      "T1 T2 T237_T255 S Set T237_T134_T157 traation T239    time wk. T111_T149_T41 T0\n",
      "Transcription for segment_551.wav: TASK TAGGER ENTITY ACTION S Set ENTITY ACCOUNT TYPE traation END time wk. INTENT SET SETTING EOS\n"
     ]
    },
    {
     "data": {
      "application/vnd.jupyter.widget-view+json": {
       "model_id": "6782b79603324607bad4fd27495cebb2",
       "version_major": 2,
       "version_minor": 0
      },
      "text/plain": [
       "Transcribing:   0%|          | 0/1 [00:00<?, ?it/s]"
      ]
     },
     "metadata": {},
     "output_type": "display_data"
    },
    {
     "name": "stdout",
     "output_type": "stream",
     "text": [
      "T1 T2 T237_T255 T237_T75_ स्ट T239 T111_T211 T0\n",
      "Transcription for segment_111.wav: TASK TAGGER ENTITY ACTION ENTITY MEDIA  स्ट END INTENT FUNDS EOS\n"
     ]
    },
    {
     "data": {
      "application/vnd.jupyter.widget-view+json": {
       "model_id": "a38f154d36544335997e526bd582ab85",
       "version_major": 2,
       "version_minor": 0
      },
      "text/plain": [
       "Transcribing:   0%|          | 0/1 [00:00<?, ?it/s]"
      ]
     },
     "metadata": {},
     "output_type": "display_data"
    },
    {
     "name": "stdout",
     "output_type": "stream",
     "text": [
      "T1 T2 T237_T255 T237_ T237_ बी  हइिंग ा T111_T200_T76 T0\n",
      "Transcription for segment_614.wav: TASK TAGGER ENTITY ACTION ENTITY  ENTITY  बी हइिंग ा INTENT PATIENT INFO EOS\n"
     ]
    },
    {
     "data": {
      "application/vnd.jupyter.widget-view+json": {
       "model_id": "b79f362872bf45058c985dde4cb72dcb",
       "version_major": 2,
       "version_minor": 0
      },
      "text/plain": [
       "Transcribing:   0%|          | 0/1 [00:00<?, ?it/s]"
      ]
     },
     "metadata": {},
     "output_type": "display_data"
    },
    {
     "name": "stdout",
     "output_type": "stream",
     "text": [
      "T1 T2 T237_T255 T237_T157. T111_T247_T196 T0\n",
      "Transcription for segment_588.wav: TASK TAGGER ENTITY ACTION ENTITY T157. INTENT STOP TEST EOS\n"
     ]
    },
    {
     "data": {
      "application/vnd.jupyter.widget-view+json": {
       "model_id": "ba244225259c4f8aa01953f00143b850",
       "version_major": 2,
       "version_minor": 0
      },
      "text/plain": [
       "Transcribing:   0%|          | 0/1 [00:00<?, ?it/s]"
      ]
     },
     "metadata": {},
     "output_type": "display_data"
    },
    {
     "name": "stdout",
     "output_type": "stream",
     "text": [
      "T1 T2 T237_T255 রনি T237__T157  T239. T111_T196 T0\n",
      "Transcription for segment_406.wav: TASK TAGGER ENTITY ACTION রনি ENTITY  TYPE T239. INTENT TEST EOS\n"
     ]
    },
    {
     "data": {
      "application/vnd.jupyter.widget-view+json": {
       "model_id": "d0073b7e5dd54f0da271ff9dc70f42c9",
       "version_major": 2,
       "version_minor": 0
      },
      "text/plain": [
       "Transcribing:   0%|          | 0/1 [00:00<?, ?it/s]"
      ]
     },
     "metadata": {},
     "output_type": "display_data"
    },
    {
     "name": "stdout",
     "output_type": "stream",
     "text": [
      "T1 T2 T237_T255  T237_  T111_T46_T46 T0\n",
      "Transcription for segment_258.wav: TASK TAGGER ENTITY ACTION ENTITY  INTENT WORKOUT WORKOUT EOS\n"
     ]
    },
    {
     "data": {
      "application/vnd.jupyter.widget-view+json": {
       "model_id": "223becc98fce488186e47245051c3789",
       "version_major": 2,
       "version_minor": 0
      },
      "text/plain": [
       "Transcribing:   0%|          | 0/1 [00:00<?, ?it/s]"
      ]
     },
     "metadata": {},
     "output_type": "display_data"
    },
    {
     "name": "stdout",
     "output_type": "stream",
     "text": [
      "T1 T2 T237_T255 T237_ _T32 T0\n",
      "Transcription for segment_298.wav: TASK TAGGER ENTITY ACTION ENTITY   CONTROL EOS\n"
     ]
    },
    {
     "data": {
      "application/vnd.jupyter.widget-view+json": {
       "model_id": "9def85c21c8746b7a9ec0a640b9fe951",
       "version_major": 2,
       "version_minor": 0
      },
      "text/plain": [
       "Transcribing:   0%|          | 0/1 [00:00<?, ?it/s]"
      ]
     },
     "metadata": {},
     "output_type": "display_data"
    },
    {
     "name": "stdout",
     "output_type": "stream",
     "text": [
      "T1 T2 T237_T76  T239 T237_T203  T239 incredibly well loanic. T111_T209 T0\n",
      "Transcription for segment_130.wav: TASK TAGGER ENTITY INFO END ENTITY INGREDIENT END incredibly well loanic. INTENT STEP EOS\n"
     ]
    },
    {
     "data": {
      "application/vnd.jupyter.widget-view+json": {
       "model_id": "d0ef2d8354664fe4947f9ab793ae7b21",
       "version_major": 2,
       "version_minor": 0
      },
      "text/plain": [
       "Transcribing:   0%|          | 0/1 [00:00<?, ?it/s]"
      ]
     },
     "metadata": {},
     "output_type": "display_data"
    },
    {
     "name": "stdout",
     "output_type": "stream",
     "text": [
      "T1 T2 T237_T255  ં _T249_T32 T0\n",
      "Transcription for segment_315.wav: TASK TAGGER ENTITY ACTION ં  DEVICE CONTROL EOS\n"
     ]
    },
    {
     "data": {
      "application/vnd.jupyter.widget-view+json": {
       "model_id": "56a4cc8e2e5e4fff8ac3d8bfac8c652a",
       "version_major": 2,
       "version_minor": 0
      },
      "text/plain": [
       "Transcribing:   0%|          | 0/1 [00:00<?, ?it/s]"
      ]
     },
     "metadata": {},
     "output_type": "display_data"
    },
    {
     "name": "stdout",
     "output_type": "stream",
     "text": [
      "T1 T2 T237_T255 T237_ T111_T211 T0\n",
      "Transcription for segment_453.wav: TASK TAGGER ENTITY ACTION ENTITY  INTENT FUNDS EOS\n"
     ]
    },
    {
     "data": {
      "application/vnd.jupyter.widget-view+json": {
       "model_id": "02226bc261674fcf9ba0bdeb3300f275",
       "version_major": 2,
       "version_minor": 0
      },
      "text/plain": [
       "Transcribing:   0%|          | 0/1 [00:00<?, ?it/s]"
      ]
     },
     "metadata": {},
     "output_type": "display_data"
    },
    {
     "name": "stdout",
     "output_type": "stream",
     "text": [
      "T1 T2 T255 A  ch T239 in the T237_T249 wricce T239 T239 to T237 s. T111_T35_T209 T0\n",
      "Transcription for segment_352.wav: TASK TAGGER ACTION A ch END in the ENTITY DEVICE wricce END END to ENTITY s. INTENT COOKING STEP EOS\n"
     ]
    },
    {
     "data": {
      "application/vnd.jupyter.widget-view+json": {
       "model_id": "d7f7e23621fe495eb330e4d95c228bb5",
       "version_major": 2,
       "version_minor": 0
      },
      "text/plain": [
       "Transcribing:   0%|          | 0/1 [00:00<?, ?it/s]"
      ]
     },
     "metadata": {},
     "output_type": "display_data"
    },
    {
     "name": "stdout",
     "output_type": "stream",
     "text": [
      "T1 T2 T237_T255 హ స్క సపం కోని _T49 పోల్క T239 మాిస్ T239 లా్డండి T239 T111_T243 T0\n",
      "Transcription for segment_440.wav: TASK TAGGER ENTITY ACTION హ స్క సపం కోని  STORE పోల్క END మాిస్ END లా్డండి END INTENT PRICE EOS\n"
     ]
    },
    {
     "data": {
      "application/vnd.jupyter.widget-view+json": {
       "model_id": "6f406ee7e14c411d98de109de32dd631",
       "version_major": 2,
       "version_minor": 0
      },
      "text/plain": [
       "Transcribing:   0%|          | 0/1 [00:00<?, ?it/s]"
      ]
     },
     "metadata": {},
     "output_type": "display_data"
    },
    {
     "name": "stdout",
     "output_type": "stream",
     "text": [
      "T1 T2 T237_T255  T237  T237_ স ্র্  T239 T237_T182  স  T239 T111_T149_T74 T0\n",
      "Transcription for segment_342.wav: TASK TAGGER ENTITY ACTION ENTITY ENTITY  স ্র্ END ENTITY DATE স END INTENT SET ALERT EOS\n"
     ]
    },
    {
     "data": {
      "application/vnd.jupyter.widget-view+json": {
       "model_id": "69cce15006fa401e98d384de019a096e",
       "version_major": 2,
       "version_minor": 0
      },
      "text/plain": [
       "Transcribing:   0%|          | 0/1 [00:00<?, ?it/s]"
      ]
     },
     "metadata": {},
     "output_type": "display_data"
    },
    {
     "name": "stdout",
     "output_type": "stream",
     "text": [
      "T1 T2 T237_T255 T237__T157 ্ল  T239  T239  T239 T111_T6_T55 T0\n",
      "Transcription for segment_452.wav: TASK TAGGER ENTITY ACTION ENTITY  TYPE ্ল END END END INTENT CHECK STATUS EOS\n"
     ]
    },
    {
     "data": {
      "application/vnd.jupyter.widget-view+json": {
       "model_id": "ebc5257df44e459d92f9377daded8f74",
       "version_major": 2,
       "version_minor": 0
      },
      "text/plain": [
       "Transcribing:   0%|          | 0/1 [00:00<?, ?it/s]"
      ]
     },
     "metadata": {},
     "output_type": "display_data"
    },
    {
     "name": "stdout",
     "output_type": "stream",
     "text": [
      "T1 T2 T237_T255  T239 T237_T75_T157  T239 T111_T63_T32 T0\n",
      "Transcription for segment_13.wav: TASK TAGGER ENTITY ACTION END ENTITY MEDIA TYPE END INTENT UPDATE CONTROL EOS\n"
     ]
    },
    {
     "data": {
      "application/vnd.jupyter.widget-view+json": {
       "model_id": "eac7415655b249fb8269e1b1c7354b4b",
       "version_major": 2,
       "version_minor": 0
      },
      "text/plain": [
       "Transcribing:   0%|          | 0/1 [00:00<?, ?it/s]"
      ]
     },
     "metadata": {},
     "output_type": "display_data"
    },
    {
     "name": "stdout",
     "output_type": "stream",
     "text": [
      "T1 T2 T237_T255 T237_    T111_T75_T79 T0\n",
      "Transcription for segment_512.wav: TASK TAGGER ENTITY ACTION ENTITY  INTENT MEDIA CONTENT EOS\n"
     ]
    },
    {
     "data": {
      "application/vnd.jupyter.widget-view+json": {
       "model_id": "c1565461cc9647f8a357a70185f6b4e6",
       "version_major": 2,
       "version_minor": 0
      },
      "text/plain": [
       "Transcribing:   0%|          | 0/1 [00:00<?, ?it/s]"
      ]
     },
     "metadata": {},
     "output_type": "display_data"
    },
    {
     "name": "stdout",
     "output_type": "stream",
     "text": [
      "T1 T2 T237_T255  T237_T157  T237  T239  T111_T55 T0\n",
      "Transcription for segment_11.wav: TASK TAGGER ENTITY ACTION ENTITY TYPE ENTITY END INTENT STATUS EOS\n"
     ]
    },
    {
     "data": {
      "application/vnd.jupyter.widget-view+json": {
       "model_id": "24cd8bfebd914cbfb40f660c84e5b114",
       "version_major": 2,
       "version_minor": 0
      },
      "text/plain": [
       "Transcribing:   0%|          | 0/1 [00:00<?, ?it/s]"
      ]
     },
     "metadata": {},
     "output_type": "display_data"
    },
    {
     "name": "stdout",
     "output_type": "stream",
     "text": [
      "T1 T2 T237_T255 T237_ _ स्ट T239 T111_T211 T0\n",
      "Transcription for segment_3.wav: TASK TAGGER ENTITY ACTION ENTITY    स्ट END INTENT FUNDS EOS\n"
     ]
    },
    {
     "data": {
      "application/vnd.jupyter.widget-view+json": {
       "model_id": "e76fbe8788df4c4fad68f686f1ac80e7",
       "version_major": 2,
       "version_minor": 0
      },
      "text/plain": [
       "Transcribing:   0%|          | 0/1 [00:00<?, ?it/s]"
      ]
     },
     "metadata": {},
     "output_type": "display_data"
    },
    {
     "name": "stdout",
     "output_type": "stream",
     "text": [
      "T1 T2 T237_T234_T57  T239 k w  T120 _T57    ve. T111_T122 T0\n",
      "Transcription for segment_397.wav: TASK TAGGER ENTITY PLAYER NAME END k w SCORE  NAME ve. INTENT COMMENT EOS\n"
     ]
    },
    {
     "data": {
      "application/vnd.jupyter.widget-view+json": {
       "model_id": "8ec295393e9c4b8f93ba87026c0b8059",
       "version_major": 2,
       "version_minor": 0
      },
      "text/plain": [
       "Transcribing:   0%|          | 0/1 [00:00<?, ?it/s]"
      ]
     },
     "metadata": {},
     "output_type": "display_data"
    },
    {
     "name": "stdout",
     "output_type": "stream",
     "text": [
      "T1 T2 T237_T255 T237_ T239 _T111_T134 T0\n",
      "Transcription for segment_621.wav: TASK TAGGER ENTITY ACTION ENTITY  END  INTENT ACCOUNT EOS\n"
     ]
    },
    {
     "data": {
      "application/vnd.jupyter.widget-view+json": {
       "model_id": "31eef671e826434fbb115e375e90921d",
       "version_major": 2,
       "version_minor": 0
      },
      "text/plain": [
       "Transcribing:   0%|          | 0/1 [00:00<?, ?it/s]"
      ]
     },
     "metadata": {},
     "output_type": "display_data"
    },
    {
     "name": "stdout",
     "output_type": "stream",
     "text": [
      "T1 T2 T237_T255  T239. _T111_T195 T0\n",
      "Transcription for segment_220.wav: TASK TAGGER ENTITY ACTION T239.  INTENT REPORT EOS\n"
     ]
    },
    {
     "data": {
      "application/vnd.jupyter.widget-view+json": {
       "model_id": "108fed1881ea4594a1f4d7e91da80e03",
       "version_major": 2,
       "version_minor": 0
      },
      "text/plain": [
       "Transcribing:   0%|          | 0/1 [00:00<?, ?it/s]"
      ]
     },
     "metadata": {},
     "output_type": "display_data"
    },
    {
     "name": "stdout",
     "output_type": "stream",
     "text": [
      "T1 T2 T237_T76  T237_T157 অ কর T237_T157  T239 T237  T239. T111_T12 T0\n",
      "Transcription for segment_657.wav: TASK TAGGER ENTITY INFO ENTITY TYPE অ কর ENTITY TYPE END ENTITY T239. INTENT GOAL EOS\n"
     ]
    },
    {
     "data": {
      "application/vnd.jupyter.widget-view+json": {
       "model_id": "985e54103fbb4ac38a43c0bb87e37be8",
       "version_major": 2,
       "version_minor": 0
      },
      "text/plain": [
       "Transcribing:   0%|          | 0/1 [00:00<?, ?it/s]"
      ]
     },
     "metadata": {},
     "output_type": "display_data"
    },
    {
     "name": "stdout",
     "output_type": "stream",
     "text": [
      "T1 T2 T237_T255  T239 T237_ sck. T111_T249_T32 T0\n",
      "Transcription for segment_337.wav: TASK TAGGER ENTITY ACTION END ENTITY  sck. INTENT DEVICE CONTROL EOS\n"
     ]
    },
    {
     "data": {
      "application/vnd.jupyter.widget-view+json": {
       "model_id": "72cfbe1f722140dda071aeb746152c2b",
       "version_major": 2,
       "version_minor": 0
      },
      "text/plain": [
       "Transcribing:   0%|          | 0/1 [00:00<?, ?it/s]"
      ]
     },
     "metadata": {},
     "output_type": "display_data"
    },
    {
     "name": "stdout",
     "output_type": "stream",
     "text": [
      "T1 T2 T237_T157 T237T100  T239  T237 _  T239. T111_T16 T0\n",
      "Transcription for segment_458.wav: TASK TAGGER ENTITY TYPE T237T100 END ENTITY   T239. INTENT RESULT EOS\n"
     ]
    },
    {
     "data": {
      "application/vnd.jupyter.widget-view+json": {
       "model_id": "c34a175608a94d4a8268e0a31be1ee6e",
       "version_major": 2,
       "version_minor": 0
      },
      "text/plain": [
       "Transcribing:   0%|          | 0/1 [00:00<?, ?it/s]"
      ]
     },
     "metadata": {},
     "output_type": "display_data"
    },
    {
     "name": "stdout",
     "output_type": "stream",
     "text": [
      "T1 T2 T237_T255   T239. T111_T159_T32 T0\n",
      "Transcription for segment_592.wav: TASK TAGGER ENTITY ACTION T239. INTENT SEND CONTROL EOS\n"
     ]
    },
    {
     "data": {
      "application/vnd.jupyter.widget-view+json": {
       "model_id": "b14d29786df94fe68ac8851ec1802b71",
       "version_major": 2,
       "version_minor": 0
      },
      "text/plain": [
       "Transcribing:   0%|          | 0/1 [00:00<?, ?it/s]"
      ]
     },
     "metadata": {},
     "output_type": "display_data"
    },
    {
     "name": "stdout",
     "output_type": "stream",
     "text": [
      "T1 T2 T237_T255 స T237_T157. T111_T196 T0\n",
      "Transcription for segment_438.wav: TASK TAGGER ENTITY ACTION స ENTITY T157. INTENT TEST EOS\n"
     ]
    },
    {
     "data": {
      "application/vnd.jupyter.widget-view+json": {
       "model_id": "952950b003454471bd4f25a926941835",
       "version_major": 2,
       "version_minor": 0
      },
      "text/plain": [
       "Transcribing:   0%|          | 0/1 [00:00<?, ?it/s]"
      ]
     },
     "metadata": {},
     "output_type": "display_data"
    },
    {
     "name": "stdout",
     "output_type": "stream",
     "text": [
      "T1 T2 T237_T255 _ T111_T188_T46 T0\n",
      "Transcription for segment_394.wav: TASK TAGGER ENTITY ACTION   INTENT PAUSE WORKOUT EOS\n"
     ]
    },
    {
     "data": {
      "application/vnd.jupyter.widget-view+json": {
       "model_id": "53329152f6d64778b895b557e204825a",
       "version_major": 2,
       "version_minor": 0
      },
      "text/plain": [
       "Transcribing:   0%|          | 0/1 [00:00<?, ?it/s]"
      ]
     },
     "metadata": {},
     "output_type": "display_data"
    },
    {
     "name": "stdout",
     "output_type": "stream",
     "text": [
      "T1 T2 T237_T255 T237_ T237_ ु ch _T111_T46 T0\n",
      "Transcription for segment_223.wav: TASK TAGGER ENTITY ACTION ENTITY  ENTITY  ु ch  INTENT WORKOUT EOS\n"
     ]
    },
    {
     "data": {
      "application/vnd.jupyter.widget-view+json": {
       "model_id": "98a90edcde5f4b42b8f93ede2d59349b",
       "version_major": 2,
       "version_minor": 0
      },
      "text/plain": [
       "Transcribing:   0%|          | 0/1 [00:00<?, ?it/s]"
      ]
     },
     "metadata": {},
     "output_type": "display_data"
    },
    {
     "name": "stdout",
     "output_type": "stream",
     "text": [
      "T1 T2 T237_T255 T237_ T111_T32 T0\n",
      "Transcription for segment_318.wav: TASK TAGGER ENTITY ACTION ENTITY  INTENT CONTROL EOS\n"
     ]
    },
    {
     "data": {
      "application/vnd.jupyter.widget-view+json": {
       "model_id": "8fed8f2ca00943689a5f28d8845f3340",
       "version_major": 2,
       "version_minor": 0
      },
      "text/plain": [
       "Transcribing:   0%|          | 0/1 [00:00<?, ?it/s]"
      ]
     },
     "metadata": {},
     "output_type": "display_data"
    },
    {
     "name": "stdout",
     "output_type": "stream",
     "text": [
      "T1 T2 T237_T255 T237_ _ T0\n",
      "Transcription for segment_340.wav: TASK TAGGER ENTITY ACTION ENTITY    EOS\n"
     ]
    },
    {
     "data": {
      "application/vnd.jupyter.widget-view+json": {
       "model_id": "3b6b5755251a4108992e1758a0651b8e",
       "version_major": 2,
       "version_minor": 0
      },
      "text/plain": [
       "Transcribing:   0%|          | 0/1 [00:00<?, ?it/s]"
      ]
     },
     "metadata": {},
     "output_type": "display_data"
    },
    {
     "name": "stdout",
     "output_type": "stream",
     "text": [
      "T1 T2 T237_T255 T237_ T239 T111_T211 T0\n",
      "Transcription for segment_120.wav: TASK TAGGER ENTITY ACTION ENTITY  END INTENT FUNDS EOS\n"
     ]
    },
    {
     "data": {
      "application/vnd.jupyter.widget-view+json": {
       "model_id": "d16f9829d6534b44b49a94c30d65b1f2",
       "version_major": 2,
       "version_minor": 0
      },
      "text/plain": [
       "Transcribing:   0%|          | 0/1 [00:00<?, ?it/s]"
      ]
     },
     "metadata": {},
     "output_type": "display_data"
    },
    {
     "name": "stdout",
     "output_type": "stream",
     "text": [
      "T1 T2 T255 T237_T157  T239 T237. T111_T247_T32 T0\n",
      "Transcription for segment_127.wav: TASK TAGGER ACTION ENTITY TYPE END T237. INTENT STOP CONTROL EOS\n"
     ]
    },
    {
     "data": {
      "application/vnd.jupyter.widget-view+json": {
       "model_id": "5ad7f48a422b490da7d30855f380aca3",
       "version_major": 2,
       "version_minor": 0
      },
      "text/plain": [
       "Transcribing:   0%|          | 0/1 [00:00<?, ?it/s]"
      ]
     },
     "metadata": {},
     "output_type": "display_data"
    },
    {
     "name": "stdout",
     "output_type": "stream",
     "text": [
      "T1 T2 T237_T255 Lest T239 T237_T75_T157  so. T111_T32_T32 T0\n",
      "Transcription for segment_110.wav: TASK TAGGER ENTITY ACTION Lest END ENTITY MEDIA TYPE so. INTENT CONTROL CONTROL EOS\n"
     ]
    },
    {
     "data": {
      "application/vnd.jupyter.widget-view+json": {
       "model_id": "f9a3afad57ac4861871c94835b640c5f",
       "version_major": 2,
       "version_minor": 0
      },
      "text/plain": [
       "Transcribing:   0%|          | 0/1 [00:00<?, ?it/s]"
      ]
     },
     "metadata": {},
     "output_type": "display_data"
    },
    {
     "name": "stdout",
     "output_type": "stream",
     "text": [
      "T1 T2 T237_T255 Reserre T239 T237_T75_T209. T111_T101 T0\n",
      "Transcription for segment_226.wav: TASK TAGGER ENTITY ACTION Reserre END ENTITY MEDIA T209. INTENT PLAYBACK EOS\n"
     ]
    },
    {
     "data": {
      "application/vnd.jupyter.widget-view+json": {
       "model_id": "d6290e2752f2416a9d2080c28674857d",
       "version_major": 2,
       "version_minor": 0
      },
      "text/plain": [
       "Transcribing:   0%|          | 0/1 [00:00<?, ?it/s]"
      ]
     },
     "metadata": {},
     "output_type": "display_data"
    },
    {
     "name": "stdout",
     "output_type": "stream",
     "text": [
      "T1 T2 T237_T255 T237_T216_ न _T111_T134 T0\n",
      "Transcription for segment_670.wav: TASK TAGGER ENTITY ACTION ENTITY TRANSACTION  न  INTENT ACCOUNT EOS\n"
     ]
    },
    {
     "data": {
      "application/vnd.jupyter.widget-view+json": {
       "model_id": "c7511a51b9ad45c597a44efe8400dce5",
       "version_major": 2,
       "version_minor": 0
      },
      "text/plain": [
       "Transcribing:   0%|          | 0/1 [00:00<?, ?it/s]"
      ]
     },
     "metadata": {},
     "output_type": "display_data"
    },
    {
     "name": "stdout",
     "output_type": "stream",
     "text": [
      "T1 T2 T237_T255 _ _ _ T239 _T55 T0\n",
      "Transcription for segment_102.wav: TASK TAGGER ENTITY ACTION       END  STATUS EOS\n"
     ]
    },
    {
     "data": {
      "application/vnd.jupyter.widget-view+json": {
       "model_id": "35fd698f13a8481f94eb8a21a0da4a41",
       "version_major": 2,
       "version_minor": 0
      },
      "text/plain": [
       "Transcribing:   0%|          | 0/1 [00:00<?, ?it/s]"
      ]
     },
     "metadata": {},
     "output_type": "display_data"
    },
    {
     "name": "stdout",
     "output_type": "stream",
     "text": [
      "T1 T2 T237_T200_T76  T237_T255  T237_T255  T239े  T237_  T239 T237T56  T239 T111_T149_T195 T0\n",
      "Transcription for segment_140.wav: TASK TAGGER ENTITY PATIENT INFO ENTITY ACTION ENTITY ACTION T239े ENTITY  END T237T56 END INTENT SET REPORT EOS\n"
     ]
    },
    {
     "data": {
      "application/vnd.jupyter.widget-view+json": {
       "model_id": "ba51f7c4d237468eb8f1cba724a51b08",
       "version_major": 2,
       "version_minor": 0
      },
      "text/plain": [
       "Transcribing:   0%|          | 0/1 [00:00<?, ?it/s]"
      ]
     },
     "metadata": {},
     "output_type": "display_data"
    },
    {
     "name": "stdout",
     "output_type": "stream",
     "text": [
      "T1 T2 T237_T255  _. T111_T46_T46 T0\n",
      "Transcription for segment_294.wav: TASK TAGGER ENTITY ACTION  . INTENT WORKOUT WORKOUT EOS\n"
     ]
    },
    {
     "data": {
      "application/vnd.jupyter.widget-view+json": {
       "model_id": "21d6cba5c60c4f6dac30caabe682bcb0",
       "version_major": 2,
       "version_minor": 0
      },
      "text/plain": [
       "Transcribing:   0%|          | 0/1 [00:00<?, ?it/s]"
      ]
     },
     "metadata": {},
     "output_type": "display_data"
    },
    {
     "name": "stdout",
     "output_type": "stream",
     "text": [
      "T1 T2 T237_T255 ুন T239 T237_T157 ্ে T237_  T239 T111_T6_T6 T0\n",
      "Transcription for segment_461.wav: TASK TAGGER ENTITY ACTION ুন END ENTITY TYPE ্ে ENTITY  END INTENT CHECK CHECK EOS\n"
     ]
    },
    {
     "data": {
      "application/vnd.jupyter.widget-view+json": {
       "model_id": "6adbd87b6f5e4c50ac75bb55c17308f3",
       "version_major": 2,
       "version_minor": 0
      },
      "text/plain": [
       "Transcribing:   0%|          | 0/1 [00:00<?, ?it/s]"
      ]
     },
     "metadata": {},
     "output_type": "display_data"
    },
    {
     "name": "stdout",
     "output_type": "stream",
     "text": [
      "T1 T2 T237_T255tiie T111_ T0\n",
      "Transcription for segment_669.wav: TASK TAGGER ENTITY T255tiie INTENT  EOS\n"
     ]
    },
    {
     "data": {
      "application/vnd.jupyter.widget-view+json": {
       "model_id": "b6598f3688ca45c3ad39028c95025095",
       "version_major": 2,
       "version_minor": 0
      },
      "text/plain": [
       "Transcribing:   0%|          | 0/1 [00:00<?, ?it/s]"
      ]
     },
     "metadata": {},
     "output_type": "display_data"
    },
    {
     "name": "stdout",
     "output_type": "stream",
     "text": [
      "T1 T2 T237_T255 T237T46_T157  _ s. T111_T32_T46 T0\n",
      "Transcription for segment_94.wav: TASK TAGGER ENTITY ACTION T237T46 TYPE   s. INTENT CONTROL WORKOUT EOS\n"
     ]
    },
    {
     "data": {
      "application/vnd.jupyter.widget-view+json": {
       "model_id": "0f5b6246ef594cc199a538f66a2ab442",
       "version_major": 2,
       "version_minor": 0
      },
      "text/plain": [
       "Transcribing:   0%|          | 0/1 [00:00<?, ?it/s]"
      ]
     },
     "metadata": {},
     "output_type": "display_data"
    },
    {
     "name": "stdout",
     "output_type": "stream",
     "text": [
      "T1 T2 T237_T255  T239 T237_ s T239. T111_T46 T0\n",
      "Transcription for segment_386.wav: TASK TAGGER ENTITY ACTION END ENTITY  s T239. INTENT WORKOUT EOS\n"
     ]
    },
    {
     "data": {
      "application/vnd.jupyter.widget-view+json": {
       "model_id": "c2d58ee421bd45468101889e181becd3",
       "version_major": 2,
       "version_minor": 0
      },
      "text/plain": [
       "Transcribing:   0%|          | 0/1 [00:00<?, ?it/s]"
      ]
     },
     "metadata": {},
     "output_type": "display_data"
    },
    {
     "name": "stdout",
     "output_type": "stream",
     "text": [
      "T1 T2 T237__T157 Re T239 T237_T157  T239 T237_T100   T237__. T111_T195_T66 T0\n",
      "Transcription for segment_446.wav: TASK TAGGER ENTITY  TYPE Re END ENTITY TYPE END ENTITY AMOUNT ENTITY  . INTENT REPORT NEWS EOS\n"
     ]
    },
    {
     "data": {
      "application/vnd.jupyter.widget-view+json": {
       "model_id": "183789ff939d44cb800d48846b0896fc",
       "version_major": 2,
       "version_minor": 0
      },
      "text/plain": [
       "Transcribing:   0%|          | 0/1 [00:00<?, ?it/s]"
      ]
     },
     "metadata": {},
     "output_type": "display_data"
    },
    {
     "name": "stdout",
     "output_type": "stream",
     "text": [
      "T1 T2 T237_T255  T239 T237_ स्ट T237 Me  T239. T111_T6_T319 T0\n",
      "Transcription for segment_549.wav: TASK TAGGER ENTITY ACTION END ENTITY  स्ट ENTITY Me T239. INTENT CHECK INVENTORY EOS\n"
     ]
    },
    {
     "data": {
      "application/vnd.jupyter.widget-view+json": {
       "model_id": "66e480113f6b48eba4e384a3b28b773d",
       "version_major": 2,
       "version_minor": 0
      },
      "text/plain": [
       "Transcribing:   0%|          | 0/1 [00:00<?, ?it/s]"
      ]
     },
     "metadata": {},
     "output_type": "display_data"
    },
    {
     "name": "stdout",
     "output_type": "stream",
     "text": [
      "T1 T2 T237_T255   T239 T237_T157  T111_T196 T0\n",
      "Transcription for segment_648.wav: TASK TAGGER ENTITY ACTION END ENTITY TYPE INTENT TEST EOS\n"
     ]
    },
    {
     "data": {
      "application/vnd.jupyter.widget-view+json": {
       "model_id": "744362dddf2140199830b920c1e78ba1",
       "version_major": 2,
       "version_minor": 0
      },
      "text/plain": [
       "Transcribing:   0%|          | 0/1 [00:00<?, ?it/s]"
      ]
     },
     "metadata": {},
     "output_type": "display_data"
    },
    {
     "name": "stdout",
     "output_type": "stream",
     "text": [
      "T1 T2 T237_T255 _ _T111_T79 T0\n",
      "Transcription for segment_85.wav: TASK TAGGER ENTITY ACTION    INTENT CONTENT EOS\n"
     ]
    },
    {
     "data": {
      "application/vnd.jupyter.widget-view+json": {
       "model_id": "b553671f5587431f96fb4449d261fb2f",
       "version_major": 2,
       "version_minor": 0
      },
      "text/plain": [
       "Transcribing:   0%|          | 0/1 [00:00<?, ?it/s]"
      ]
     },
     "metadata": {},
     "output_type": "display_data"
    },
    {
     "name": "stdout",
     "output_type": "stream",
     "text": [
      "T1 T2 T237_T255 T237_ T111_T46 T0\n",
      "Transcription for segment_54.wav: TASK TAGGER ENTITY ACTION ENTITY  INTENT WORKOUT EOS\n"
     ]
    },
    {
     "data": {
      "application/vnd.jupyter.widget-view+json": {
       "model_id": "f70aebde1bf44eb6892ce31c810e9114",
       "version_major": 2,
       "version_minor": 0
      },
      "text/plain": [
       "Transcribing:   0%|          | 0/1 [00:00<?, ?it/s]"
      ]
     },
     "metadata": {},
     "output_type": "display_data"
    },
    {
     "name": "stdout",
     "output_type": "stream",
     "text": [
      "T1 T2 T237_T255 Re T239 T237_T100  T239 T237_T253 T239. T111_T211 T0\n",
      "Transcription for segment_455.wav: TASK TAGGER ENTITY ACTION Re END ENTITY AMOUNT END ENTITY DESTINATION T239. INTENT FUNDS EOS\n"
     ]
    },
    {
     "data": {
      "application/vnd.jupyter.widget-view+json": {
       "model_id": "40bf45487eee42c483ab38f359a53caa",
       "version_major": 2,
       "version_minor": 0
      },
      "text/plain": [
       "Transcribing:   0%|          | 0/1 [00:00<?, ?it/s]"
      ]
     },
     "metadata": {},
     "output_type": "display_data"
    },
    {
     "name": "stdout",
     "output_type": "stream",
     "text": [
      "T1 T2 T237_T255 T237_T46_ T111_T111_T46 T0\n",
      "Transcription for segment_385.wav: TASK TAGGER ENTITY ACTION ENTITY WORKOUT  INTENT INTENT WORKOUT EOS\n"
     ]
    },
    {
     "data": {
      "application/vnd.jupyter.widget-view+json": {
       "model_id": "7cc8696cb1c64fb480d08d24f4cf1a0e",
       "version_major": 2,
       "version_minor": 0
      },
      "text/plain": [
       "Transcribing:   0%|          | 0/1 [00:00<?, ?it/s]"
      ]
     },
     "metadata": {},
     "output_type": "display_data"
    },
    {
     "name": "stdout",
     "output_type": "stream",
     "text": [
      "T1 T2 T237_T200_T76 T237_T200_T76  fan T239. T111_T200_T333 T0\n",
      "Transcription for segment_154.wav: TASK TAGGER ENTITY PATIENT INFO ENTITY PATIENT INFO fan T239. INTENT PATIENT APPOINTMENT EOS\n"
     ]
    },
    {
     "data": {
      "application/vnd.jupyter.widget-view+json": {
       "model_id": "f76af02a60dd41c5a444f03199283ddb",
       "version_major": 2,
       "version_minor": 0
      },
      "text/plain": [
       "Transcribing:   0%|          | 0/1 [00:00<?, ?it/s]"
      ]
     },
     "metadata": {},
     "output_type": "display_data"
    },
    {
     "name": "stdout",
     "output_type": "stream",
     "text": [
      "T1 T2 T237_T255  T237_ स्ट T237_  T237_T157 स्ट T111_T63_T155 T0\n",
      "Transcription for segment_457.wav: TASK TAGGER ENTITY ACTION ENTITY  स्ट ENTITY  ENTITY TYPE स्ट INTENT UPDATE SAMPLE EOS\n"
     ]
    },
    {
     "data": {
      "application/vnd.jupyter.widget-view+json": {
       "model_id": "5e6d7f36fc6c487c8968bb9c0891f9b3",
       "version_major": 2,
       "version_minor": 0
      },
      "text/plain": [
       "Transcribing:   0%|          | 0/1 [00:00<?, ?it/s]"
      ]
     },
     "metadata": {},
     "output_type": "display_data"
    },
    {
     "name": "stdout",
     "output_type": "stream",
     "text": [
      "T1 T2 T237_ T237_T157  T239 T237__. T111_T63_T195 T0\n",
      "Transcription for segment_384.wav: TASK TAGGER ENTITY  ENTITY TYPE END ENTITY  . INTENT UPDATE REPORT EOS\n"
     ]
    },
    {
     "data": {
      "application/vnd.jupyter.widget-view+json": {
       "model_id": "0dc07159e6b74fda90906173732f704d",
       "version_major": 2,
       "version_minor": 0
      },
      "text/plain": [
       "Transcribing:   0%|          | 0/1 [00:00<?, ?it/s]"
      ]
     },
     "metadata": {},
     "output_type": "display_data"
    },
    {
     "name": "stdout",
     "output_type": "stream",
     "text": [
      "T1 T2 T237_T255 go T239 T237_watT239 from T237_T49_T148 the berystok remember aayar ago T239City T239in front ter T237_T25 twwellend T239 T111_T122 T0\n",
      "Transcription for segment_0.wav: TASK TAGGER ENTITY ACTION go END ENTITY watT239 from ENTITY STORE SECTION the berystok remember aayar ago T239City T239in front ter ENTITY DURATION twwellend END INTENT COMMENT EOS\n"
     ]
    },
    {
     "data": {
      "application/vnd.jupyter.widget-view+json": {
       "model_id": "9b8d0ae2c8ff454491577b4bb5870347",
       "version_major": 2,
       "version_minor": 0
      },
      "text/plain": [
       "Transcribing:   0%|          | 0/1 [00:00<?, ?it/s]"
      ]
     },
     "metadata": {},
     "output_type": "display_data"
    },
    {
     "name": "stdout",
     "output_type": "stream",
     "text": [
      "T1 T2 T237_T255 T237_ _T32 T0\n",
      "Transcription for segment_316.wav: TASK TAGGER ENTITY ACTION ENTITY   CONTROL EOS\n"
     ]
    },
    {
     "data": {
      "application/vnd.jupyter.widget-view+json": {
       "model_id": "fb3bd10f053a41d892f89f90ce64a2b3",
       "version_major": 2,
       "version_minor": 0
      },
      "text/plain": [
       "Transcribing:   0%|          | 0/1 [00:00<?, ?it/s]"
      ]
     },
     "metadata": {},
     "output_type": "display_data"
    },
    {
     "name": "stdout",
     "output_type": "stream",
     "text": [
      "T1 T2 T237_T255 T237_. T111_T188_T46 T0\n",
      "Transcription for segment_207.wav: TASK TAGGER ENTITY ACTION ENTITY . INTENT PAUSE WORKOUT EOS\n"
     ]
    },
    {
     "data": {
      "application/vnd.jupyter.widget-view+json": {
       "model_id": "d5a2f35b0ad54c77ac20667cea77f292",
       "version_major": 2,
       "version_minor": 0
      },
      "text/plain": [
       "Transcribing:   0%|          | 0/1 [00:00<?, ?it/s]"
      ]
     },
     "metadata": {},
     "output_type": "display_data"
    },
    {
     "name": "stdout",
     "output_type": "stream",
     "text": [
      "T1 T2 T237_T255 ter T239 les T237_T100  T239coms T239 T237_T238 ch T239 chp  specrs T239 T111_T88_T155 T0\n",
      "Transcription for segment_319.wav: TASK TAGGER ENTITY ACTION ter END les ENTITY AMOUNT T239coms END ENTITY ITEM ch END chp specrs END INTENT FIND SAMPLE EOS\n"
     ]
    },
    {
     "data": {
      "application/vnd.jupyter.widget-view+json": {
       "model_id": "bcbafd7b2bbc4bd7968c2f6b3dc7ecdc",
       "version_major": 2,
       "version_minor": 0
      },
      "text/plain": [
       "Transcribing:   0%|          | 0/1 [00:00<?, ?it/s]"
      ]
     },
     "metadata": {},
     "output_type": "display_data"
    },
    {
     "name": "stdout",
     "output_type": "stream",
     "text": [
      "T1 T2  T157  T237__T157. T111_T35_T195 T0\n",
      "Transcription for segment_487.wav: TASK TAGGER TYPE ENTITY  T157. INTENT COOKING REPORT EOS\n"
     ]
    },
    {
     "data": {
      "application/vnd.jupyter.widget-view+json": {
       "model_id": "706892c8ea7945a58429634beecffc46",
       "version_major": 2,
       "version_minor": 0
      },
      "text/plain": [
       "Transcribing:   0%|          | 0/1 [00:00<?, ?it/s]"
      ]
     },
     "metadata": {},
     "output_type": "display_data"
    },
    {
     "name": "stdout",
     "output_type": "stream",
     "text": [
      "T1 T237_r T237__T157  T239 T237_  _T6_T55 T0\n",
      "Transcription for segment_407.wav: TASK ENTITY r ENTITY  TYPE END ENTITY   CHECK STATUS EOS\n"
     ]
    },
    {
     "data": {
      "application/vnd.jupyter.widget-view+json": {
       "model_id": "89329af26fdc44a5b5abf038410ac78e",
       "version_major": 2,
       "version_minor": 0
      },
      "text/plain": [
       "Transcribing:   0%|          | 0/1 [00:00<?, ?it/s]"
      ]
     },
     "metadata": {},
     "output_type": "display_data"
    },
    {
     "name": "stdout",
     "output_type": "stream",
     "text": [
      "T1 T2 T237_T255   ર T111_T98_T76 T0\n",
      "Transcription for segment_28.wav: TASK TAGGER ENTITY ACTION ર INTENT CHANGE INFO EOS\n"
     ]
    },
    {
     "data": {
      "application/vnd.jupyter.widget-view+json": {
       "model_id": "c5f1fe7db12a4f3abc69fb2856617b9a",
       "version_major": 2,
       "version_minor": 0
      },
      "text/plain": [
       "Transcribing:   0%|          | 0/1 [00:00<?, ?it/s]"
      ]
     },
     "metadata": {},
     "output_type": "display_data"
    },
    {
     "name": "stdout",
     "output_type": "stream",
     "text": [
      "T1 T2 T237_T255 p T239 T111_k T0\n",
      "Transcription for segment_518.wav: TASK TAGGER ENTITY ACTION p END INTENT k EOS\n"
     ]
    },
    {
     "data": {
      "application/vnd.jupyter.widget-view+json": {
       "model_id": "41131f299b53481889f580d3fdf350fe",
       "version_major": 2,
       "version_minor": 0
      },
      "text/plain": [
       "Transcribing:   0%|          | 0/1 [00:00<?, ?it/s]"
      ]
     },
     "metadata": {},
     "output_type": "display_data"
    },
    {
     "name": "stdout",
     "output_type": "stream",
     "text": [
      "T1 T2 T237_ _ T111_ T0\n",
      "Transcription for segment_263.wav: TASK TAGGER ENTITY    INTENT  EOS\n"
     ]
    },
    {
     "data": {
      "application/vnd.jupyter.widget-view+json": {
       "model_id": "6e308d464ab147fe96813dd07d96e252",
       "version_major": 2,
       "version_minor": 0
      },
      "text/plain": [
       "Transcribing:   0%|          | 0/1 [00:00<?, ?it/s]"
      ]
     },
     "metadata": {},
     "output_type": "display_data"
    },
    {
     "name": "stdout",
     "output_type": "stream",
     "text": [
      "T1 T2 T237_T255  T239 T237_   T239 t T239. T111_T35_T209 T0\n",
      "Transcription for segment_432.wav: TASK TAGGER ENTITY ACTION END ENTITY  END t T239. INTENT COOKING STEP EOS\n"
     ]
    },
    {
     "data": {
      "application/vnd.jupyter.widget-view+json": {
       "model_id": "fd8a60736fbf4b26b5ca821e321711c1",
       "version_major": 2,
       "version_minor": 0
      },
      "text/plain": [
       "Transcribing:   0%|          | 0/1 [00:00<?, ?it/s]"
      ]
     },
     "metadata": {},
     "output_type": "display_data"
    },
    {
     "name": "stdout",
     "output_type": "stream",
     "text": [
      "T1 T2 T237_T255 R T239  the T237_T203 list. T111_T63_T61 T0\n",
      "Transcription for segment_292.wav: TASK TAGGER ENTITY ACTION R END the ENTITY INGREDIENT list. INTENT UPDATE LIST EOS\n"
     ]
    },
    {
     "data": {
      "application/vnd.jupyter.widget-view+json": {
       "model_id": "af526013c63f4e4facca39d6f40a78c7",
       "version_major": 2,
       "version_minor": 0
      },
      "text/plain": [
       "Transcribing:   0%|          | 0/1 [00:00<?, ?it/s]"
      ]
     },
     "metadata": {},
     "output_type": "display_data"
    },
    {
     "name": "stdout",
     "output_type": "stream",
     "text": [
      "T1 T2 T237_T255 T237_  T111_T188_T46 T0\n",
      "Transcription for segment_611.wav: TASK TAGGER ENTITY ACTION ENTITY  INTENT PAUSE WORKOUT EOS\n"
     ]
    },
    {
     "data": {
      "application/vnd.jupyter.widget-view+json": {
       "model_id": "16bfbefd397b40aba27d52110a02c748",
       "version_major": 2,
       "version_minor": 0
      },
      "text/plain": [
       "Transcribing:   0%|          | 0/1 [00:00<?, ?it/s]"
      ]
     },
     "metadata": {},
     "output_type": "display_data"
    },
    {
     "name": "stdout",
     "output_type": "stream",
     "text": [
      "T1 T2 T237_T255 Re Playliste T239 T237_T203  T239 a coma chp T239. T111_T75_T32 T0\n",
      "Transcription for segment_303.wav: TASK TAGGER ENTITY ACTION Re Playliste END ENTITY INGREDIENT END a coma chp T239. INTENT MEDIA CONTROL EOS\n"
     ]
    },
    {
     "data": {
      "application/vnd.jupyter.widget-view+json": {
       "model_id": "44af49b3aba9440ea694c25d7668e709",
       "version_major": 2,
       "version_minor": 0
      },
      "text/plain": [
       "Transcribing:   0%|          | 0/1 [00:00<?, ?it/s]"
      ]
     },
     "metadata": {},
     "output_type": "display_data"
    },
    {
     "name": "stdout",
     "output_type": "stream",
     "text": [
      "T1 T2 T237_T255 T237_ T239 _T111_T46 T0\n",
      "Transcription for segment_19.wav: TASK TAGGER ENTITY ACTION ENTITY  END  INTENT WORKOUT EOS\n"
     ]
    },
    {
     "data": {
      "application/vnd.jupyter.widget-view+json": {
       "model_id": "017883aa750b4a73ae9367feda4f0bc4",
       "version_major": 2,
       "version_minor": 0
      },
      "text/plain": [
       "Transcribing:   0%|          | 0/1 [00:00<?, ?it/s]"
      ]
     },
     "metadata": {},
     "output_type": "display_data"
    },
    {
     "name": "stdout",
     "output_type": "stream",
     "text": [
      "T1 T2 T237_T255 _ _T111_T32 T0\n",
      "Transcription for segment_545.wav: TASK TAGGER ENTITY ACTION    INTENT CONTROL EOS\n"
     ]
    },
    {
     "data": {
      "application/vnd.jupyter.widget-view+json": {
       "model_id": "de6a8a8b08e34d02a3379f224b827ced",
       "version_major": 2,
       "version_minor": 0
      },
      "text/plain": [
       "Transcribing:   0%|          | 0/1 [00:00<?, ?it/s]"
      ]
     },
     "metadata": {},
     "output_type": "display_data"
    },
    {
     "name": "stdout",
     "output_type": "stream",
     "text": [
      "T1 T2 T237_T255  ररन   र्प T237_ ्स्टान T239 ष. T111_T195_T66 T0\n",
      "Transcription for segment_199.wav: TASK TAGGER ENTITY ACTION ररन र्प ENTITY  ्स्टान END ष. INTENT REPORT NEWS EOS\n"
     ]
    },
    {
     "data": {
      "application/vnd.jupyter.widget-view+json": {
       "model_id": "800eb6d1a6d242ce930bc5f69a36b4b2",
       "version_major": 2,
       "version_minor": 0
      },
      "text/plain": [
       "Transcribing:   0%|          | 0/1 [00:00<?, ?it/s]"
      ]
     },
     "metadata": {},
     "output_type": "display_data"
    },
    {
     "name": "stdout",
     "output_type": "stream",
     "text": [
      "T1 T2 T237_T255  T239 T237__ s T239  T237__  T239. T111_T195 T0\n",
      "Transcription for segment_466.wav: TASK TAGGER ENTITY ACTION END ENTITY   s END ENTITY   T239. INTENT REPORT EOS\n"
     ]
    },
    {
     "data": {
      "application/vnd.jupyter.widget-view+json": {
       "model_id": "7bc05fd9ecef46388bf47b072bec119c",
       "version_major": 2,
       "version_minor": 0
      },
      "text/plain": [
       "Transcribing:   0%|          | 0/1 [00:00<?, ?it/s]"
      ]
     },
     "metadata": {},
     "output_type": "display_data"
    },
    {
     "name": "stdout",
     "output_type": "stream",
     "text": [
      "T1 T2 T237_T255 _ _T111_T46 T0\n",
      "Transcription for segment_357.wav: TASK TAGGER ENTITY ACTION    INTENT WORKOUT EOS\n"
     ]
    },
    {
     "data": {
      "application/vnd.jupyter.widget-view+json": {
       "model_id": "c8cfb5398bb0412aaaeb74341c8d3203",
       "version_major": 2,
       "version_minor": 0
      },
      "text/plain": [
       "Transcribing:   0%|          | 0/1 [00:00<?, ?it/s]"
      ]
     },
     "metadata": {},
     "output_type": "display_data"
    },
    {
     "name": "stdout",
     "output_type": "stream",
     "text": [
      "T1 T2 T237_T255 T237_ __  T239 T237__  T239 T111_T196 T0\n",
      "Transcription for segment_277.wav: TASK TAGGER ENTITY ACTION ENTITY     END ENTITY   END INTENT TEST EOS\n"
     ]
    },
    {
     "data": {
      "application/vnd.jupyter.widget-view+json": {
       "model_id": "797f8cad03a94cd19a45f7e02232ef39",
       "version_major": 2,
       "version_minor": 0
      },
      "text/plain": [
       "Transcribing:   0%|          | 0/1 [00:00<?, ?it/s]"
      ]
     },
     "metadata": {},
     "output_type": "display_data"
    },
    {
     "name": "stdout",
     "output_type": "stream",
     "text": [
      "T1 T2 T237__T57 ho T237_T234_  Heal run time wellen T237_T234_T57 Tes co. T111_T122 T0\n",
      "Transcription for segment_186.wav: TASK TAGGER ENTITY  NAME ho ENTITY PLAYER  Heal run time wellen ENTITY PLAYER NAME Tes co. INTENT COMMENT EOS\n"
     ]
    },
    {
     "data": {
      "application/vnd.jupyter.widget-view+json": {
       "model_id": "49c3241c25d741cbb8551371c2c2040d",
       "version_major": 2,
       "version_minor": 0
      },
      "text/plain": [
       "Transcribing:   0%|          | 0/1 [00:00<?, ?it/s]"
      ]
     },
     "metadata": {},
     "output_type": "display_data"
    },
    {
     "name": "stdout",
     "output_type": "stream",
     "text": [
      "T1 T2 T237_T255  T239 T237_T157   T239 T237__T157. T111_T35_T32 T0\n",
      "Transcription for segment_121.wav: TASK TAGGER ENTITY ACTION END ENTITY TYPE END ENTITY  T157. INTENT COOKING CONTROL EOS\n"
     ]
    },
    {
     "data": {
      "application/vnd.jupyter.widget-view+json": {
       "model_id": "1867ee093a9f425e9300bdfffee0feca",
       "version_major": 2,
       "version_minor": 0
      },
      "text/plain": [
       "Transcribing:   0%|          | 0/1 [00:00<?, ?it/s]"
      ]
     },
     "metadata": {},
     "output_type": "display_data"
    },
    {
     "name": "stdout",
     "output_type": "stream",
     "text": [
      "T1 T2 T237_T255 T237_T155 स _. T111_T196 T0\n",
      "Transcription for segment_369.wav: TASK TAGGER ENTITY ACTION ENTITY SAMPLE स  . INTENT TEST EOS\n"
     ]
    },
    {
     "data": {
      "application/vnd.jupyter.widget-view+json": {
       "model_id": "437b20eee7d9420caf9ced27ebe047d0",
       "version_major": 2,
       "version_minor": 0
      },
      "text/plain": [
       "Transcribing:   0%|          | 0/1 [00:00<?, ?it/s]"
      ]
     },
     "metadata": {},
     "output_type": "display_data"
    },
    {
     "name": "stdout",
     "output_type": "stream",
     "text": [
      "T1 T2 T237_T255 T237_  T237_T249  T239  T239. T111_T249 T0\n",
      "Transcription for segment_214.wav: TASK TAGGER ENTITY ACTION ENTITY  ENTITY DEVICE END T239. INTENT DEVICE EOS\n"
     ]
    },
    {
     "data": {
      "application/vnd.jupyter.widget-view+json": {
       "model_id": "fbab671681d94cad8838d62b0dc26718",
       "version_major": 2,
       "version_minor": 0
      },
      "text/plain": [
       "Transcribing:   0%|          | 0/1 [00:00<?, ?it/s]"
      ]
     },
     "metadata": {},
     "output_type": "display_data"
    },
    {
     "name": "stdout",
     "output_type": "stream",
     "text": [
      "T1 T2 T237_T255    T237_T156_T253T157 ల T239 ి T239 ్ T239 T111_T74 T0\n",
      "Transcription for segment_280.wav: TASK TAGGER ENTITY ACTION ENTITY TEAM T253T157 ల END ి END ్ END INTENT ALERT EOS\n"
     ]
    },
    {
     "data": {
      "application/vnd.jupyter.widget-view+json": {
       "model_id": "46b78d48e47d46ce914f4437d925c5df",
       "version_major": 2,
       "version_minor": 0
      },
      "text/plain": [
       "Transcribing:   0%|          | 0/1 [00:00<?, ?it/s]"
      ]
     },
     "metadata": {},
     "output_type": "display_data"
    },
    {
     "name": "stdout",
     "output_type": "stream",
     "text": [
      "T1 T2 T237_T255 స్   T237__T157  T239. T111_T247_T196 T0\n",
      "Transcription for segment_475.wav: TASK TAGGER ENTITY ACTION స్ ENTITY  TYPE T239. INTENT STOP TEST EOS\n"
     ]
    },
    {
     "data": {
      "application/vnd.jupyter.widget-view+json": {
       "model_id": "04ad561ddfcd4aa2b6cd7053048e3e33",
       "version_major": 2,
       "version_minor": 0
      },
      "text/plain": [
       "Transcribing:   0%|          | 0/1 [00:00<?, ?it/s]"
      ]
     },
     "metadata": {},
     "output_type": "display_data"
    },
    {
     "name": "stdout",
     "output_type": "stream",
     "text": [
      "T1 T2 T237_T255 Mett T239 T237T172  T239  T239  une f. T111_T35_T209 T0\n",
      "Transcription for segment_431.wav: TASK TAGGER ENTITY ACTION Mett END T237T172 END END une f. INTENT COOKING STEP EOS\n"
     ]
    },
    {
     "data": {
      "application/vnd.jupyter.widget-view+json": {
       "model_id": "babf12acdfdf4393966d1666d857ef25",
       "version_major": 2,
       "version_minor": 0
      },
      "text/plain": [
       "Transcribing:   0%|          | 0/1 [00:00<?, ?it/s]"
      ]
     },
     "metadata": {},
     "output_type": "display_data"
    },
    {
     "name": "stdout",
     "output_type": "stream",
     "text": [
      "T1 T2 T237_T255  T239 T237_T100 00 T239  T111_T211 T0\n",
      "Transcription for segment_119.wav: TASK TAGGER ENTITY ACTION END ENTITY AMOUNT 00 END INTENT FUNDS EOS\n"
     ]
    },
    {
     "data": {
      "application/vnd.jupyter.widget-view+json": {
       "model_id": "b81a176594fc4465ac33268886db1f3e",
       "version_major": 2,
       "version_minor": 0
      },
      "text/plain": [
       "Transcribing:   0%|          | 0/1 [00:00<?, ?it/s]"
      ]
     },
     "metadata": {},
     "output_type": "display_data"
    },
    {
     "name": "stdout",
     "output_type": "stream",
     "text": [
      "T1 T2 T237_T255 T237_T157 T111_T46 T0\n",
      "Transcription for segment_583.wav: TASK TAGGER ENTITY ACTION ENTITY TYPE INTENT WORKOUT EOS\n"
     ]
    },
    {
     "data": {
      "application/vnd.jupyter.widget-view+json": {
       "model_id": "35989341e7194e86969b35527d06e759",
       "version_major": 2,
       "version_minor": 0
      },
      "text/plain": [
       "Transcribing:   0%|          | 0/1 [00:00<?, ?it/s]"
      ]
     },
     "metadata": {},
     "output_type": "display_data"
    },
    {
     "name": "stdout",
     "output_type": "stream",
     "text": [
      "T1 T2 T237_T255 _ T111_T32 T0\n",
      "Transcription for segment_62.wav: TASK TAGGER ENTITY ACTION   INTENT CONTROL EOS\n"
     ]
    },
    {
     "data": {
      "application/vnd.jupyter.widget-view+json": {
       "model_id": "351ccde1fdf24eca978e19545accbd53",
       "version_major": 2,
       "version_minor": 0
      },
      "text/plain": [
       "Transcribing:   0%|          | 0/1 [00:00<?, ?it/s]"
      ]
     },
     "metadata": {},
     "output_type": "display_data"
    },
    {
     "name": "stdout",
     "output_type": "stream",
     "text": [
      "T1 T2 T237_T255  T237   T239   T237__T157  খ T111_T159_T195 T0\n",
      "Transcription for segment_9.wav: TASK TAGGER ENTITY ACTION ENTITY END ENTITY  TYPE খ INTENT SEND REPORT EOS\n"
     ]
    },
    {
     "data": {
      "application/vnd.jupyter.widget-view+json": {
       "model_id": "4e899d977c8a48dbb22bd6f28728a14a",
       "version_major": 2,
       "version_minor": 0
      },
      "text/plain": [
       "Transcribing:   0%|          | 0/1 [00:00<?, ?it/s]"
      ]
     },
     "metadata": {},
     "output_type": "display_data"
    },
    {
     "name": "stdout",
     "output_type": "stream",
     "text": [
      "T1 T2 T237_T255  T239 ్  T239 _T157 T239 T239 _T196 T0\n",
      "Transcription for segment_514.wav: TASK TAGGER ENTITY ACTION END ్ END  TYPE END END  TEST EOS\n"
     ]
    },
    {
     "data": {
      "application/vnd.jupyter.widget-view+json": {
       "model_id": "38376bd476bf41f3a9f6153ba4db9da4",
       "version_major": 2,
       "version_minor": 0
      },
      "text/plain": [
       "Transcribing:   0%|          | 0/1 [00:00<?, ?it/s]"
      ]
     },
     "metadata": {},
     "output_type": "display_data"
    },
    {
     "name": "stdout",
     "output_type": "stream",
     "text": [
      "T1 T2 T237_T255  T239 T111_T111_T46 T0\n",
      "Transcription for segment_482.wav: TASK TAGGER ENTITY ACTION END INTENT INTENT WORKOUT EOS\n"
     ]
    },
    {
     "data": {
      "application/vnd.jupyter.widget-view+json": {
       "model_id": "69dd5ac4f0784b1ebb6624ab47536479",
       "version_major": 2,
       "version_minor": 0
      },
      "text/plain": [
       "Transcribing:   0%|          | 0/1 [00:00<?, ?it/s]"
      ]
     },
     "metadata": {},
     "output_type": "display_data"
    },
    {
     "name": "stdout",
     "output_type": "stream",
     "text": [
      "T1 T2 T237_T255 S T239 T237_ T239 T237_T157 Crf T239 T239. T111_T192_T211 T0\n",
      "Transcription for segment_99.wav: TASK TAGGER ENTITY ACTION S END ENTITY  END ENTITY TYPE Crf END T239. INTENT INVEST FUNDS EOS\n"
     ]
    },
    {
     "data": {
      "application/vnd.jupyter.widget-view+json": {
       "model_id": "d0a376306eca4f089131a4efa9b25dcf",
       "version_major": 2,
       "version_minor": 0
      },
      "text/plain": [
       "Transcribing:   0%|          | 0/1 [00:00<?, ?it/s]"
      ]
     },
     "metadata": {},
     "output_type": "display_data"
    },
    {
     "name": "stdout",
     "output_type": "stream",
     "text": [
      "T1 T2 T237_T255  T237_ k T239 T111_T188_T46 T0\n",
      "Transcription for segment_221.wav: TASK TAGGER ENTITY ACTION ENTITY  k END INTENT PAUSE WORKOUT EOS\n"
     ]
    },
    {
     "data": {
      "application/vnd.jupyter.widget-view+json": {
       "model_id": "45518e667acc4aae86e8843c92fbdf35",
       "version_major": 2,
       "version_minor": 0
      },
      "text/plain": [
       "Transcribing:   0%|          | 0/1 [00:00<?, ?it/s]"
      ]
     },
     "metadata": {},
     "output_type": "display_data"
    },
    {
     "name": "stdout",
     "output_type": "stream",
     "text": [
      "T1 T2 T237_T255 _  _T111_T32 T0\n",
      "Transcription for segment_73.wav: TASK TAGGER ENTITY ACTION    INTENT CONTROL EOS\n"
     ]
    },
    {
     "data": {
      "application/vnd.jupyter.widget-view+json": {
       "model_id": "bb1f526910904ba5b16c2893a9561955",
       "version_major": 2,
       "version_minor": 0
      },
      "text/plain": [
       "Transcribing:   0%|          | 0/1 [00:00<?, ?it/s]"
      ]
     },
     "metadata": {},
     "output_type": "display_data"
    },
    {
     "name": "stdout",
     "output_type": "stream",
     "text": [
      "T1 T2 T237_T255 T237_ T239 T111_T32 T0\n",
      "Transcription for segment_596.wav: TASK TAGGER ENTITY ACTION ENTITY  END INTENT CONTROL EOS\n"
     ]
    },
    {
     "data": {
      "application/vnd.jupyter.widget-view+json": {
       "model_id": "473a80c1cfff487ab2051509767cd915",
       "version_major": 2,
       "version_minor": 0
      },
      "text/plain": [
       "Transcribing:   0%|          | 0/1 [00:00<?, ?it/s]"
      ]
     },
     "metadata": {},
     "output_type": "display_data"
    },
    {
     "name": "stdout",
     "output_type": "stream",
     "text": [
      "T1 T2 T237_T255 క్ షరా  ⁇ ికెట్ం  ం అ్య ప్ట్ం. T111_T35_T209 T0\n",
      "Transcription for segment_233.wav: TASK TAGGER ENTITY ACTION క్ షరా ⁇ ికెట్ం ం అ్య ప్ట్ం. INTENT COOKING STEP EOS\n"
     ]
    },
    {
     "data": {
      "application/vnd.jupyter.widget-view+json": {
       "model_id": "1b92807a25d84ee2bb687bba3cc786df",
       "version_major": 2,
       "version_minor": 0
      },
      "text/plain": [
       "Transcribing:   0%|          | 0/1 [00:00<?, ?it/s]"
      ]
     },
     "metadata": {},
     "output_type": "display_data"
    },
    {
     "name": "stdout",
     "output_type": "stream",
     "text": [
      "T1 T2 T237_T255  T239 the T237_T35_T209 cor T239. _T249_T32 T0\n",
      "Transcription for segment_481.wav: TASK TAGGER ENTITY ACTION END the ENTITY COOKING STEP cor T239.  DEVICE CONTROL EOS\n"
     ]
    },
    {
     "data": {
      "application/vnd.jupyter.widget-view+json": {
       "model_id": "dd81a2a846944e45bc99b0c122091151",
       "version_major": 2,
       "version_minor": 0
      },
      "text/plain": [
       "Transcribing:   0%|          | 0/1 [00:00<?, ?it/s]"
      ]
     },
     "metadata": {},
     "output_type": "display_data"
    },
    {
     "name": "stdout",
     "output_type": "stream",
     "text": [
      "T1 T2 T237  T237__ न फ T239 T237_  फ. T111_T122 T0\n",
      "Transcription for segment_283.wav: TASK TAGGER ENTITY ENTITY   न फ END ENTITY  फ. INTENT COMMENT EOS\n"
     ]
    },
    {
     "data": {
      "application/vnd.jupyter.widget-view+json": {
       "model_id": "d12cc9b3ec5e4f188efa9a4d6ab02a40",
       "version_major": 2,
       "version_minor": 0
      },
      "text/plain": [
       "Transcribing:   0%|          | 0/1 [00:00<?, ?it/s]"
      ]
     },
     "metadata": {},
     "output_type": "display_data"
    },
    {
     "name": "stdout",
     "output_type": "stream",
     "text": [
      "T1 T2 T237_T255 s T239 T237_ T239. T111_T32_T32 T0\n",
      "Transcription for segment_547.wav: TASK TAGGER ENTITY ACTION s END ENTITY  T239. INTENT CONTROL CONTROL EOS\n"
     ]
    },
    {
     "data": {
      "application/vnd.jupyter.widget-view+json": {
       "model_id": "bc2aaffaceab4f3188132b6bb4bec981",
       "version_major": 2,
       "version_minor": 0
      },
      "text/plain": [
       "Transcribing:   0%|          | 0/1 [00:00<?, ?it/s]"
      ]
     },
     "metadata": {},
     "output_type": "display_data"
    },
    {
     "name": "stdout",
     "output_type": "stream",
     "text": [
      "T1 T2 T237__ ম  নছি T237__T57 ন ন T239 এস করুন  স্পরন স্ত T111_T202 T0\n",
      "Transcription for segment_465.wav: TASK TAGGER ENTITY   ম নছি ENTITY  NAME ন ন END এস করুন স্পরন স্ত INTENT HIGHLIGHT EOS\n"
     ]
    },
    {
     "data": {
      "application/vnd.jupyter.widget-view+json": {
       "model_id": "b413106666624b17a3705a35716d2c00",
       "version_major": 2,
       "version_minor": 0
      },
      "text/plain": [
       "Transcribing:   0%|          | 0/1 [00:00<?, ?it/s]"
      ]
     },
     "metadata": {},
     "output_type": "display_data"
    },
    {
     "name": "stdout",
     "output_type": "stream",
     "text": [
      "T1 T2 T237_T57   T239  T237T120 $ T239. T111_T202 T0\n",
      "Transcription for segment_555.wav: TASK TAGGER ENTITY NAME END T237T120 $ T239. INTENT HIGHLIGHT EOS\n"
     ]
    },
    {
     "data": {
      "application/vnd.jupyter.widget-view+json": {
       "model_id": "b5771e646f3b42e6abcec282f5b98e1e",
       "version_major": 2,
       "version_minor": 0
      },
      "text/plain": [
       "Transcribing:   0%|          | 0/1 [00:00<?, ?it/s]"
      ]
     },
     "metadata": {},
     "output_type": "display_data"
    },
    {
     "name": "stdout",
     "output_type": "stream",
     "text": [
      "T1 T2 T237_T255 C T239 T237_T203  ros _T188_T46 T0\n",
      "Transcription for segment_341.wav: TASK TAGGER ENTITY ACTION C END ENTITY INGREDIENT ros  PAUSE WORKOUT EOS\n"
     ]
    },
    {
     "data": {
      "application/vnd.jupyter.widget-view+json": {
       "model_id": "dec1cc63b0f1468cb49af4b2cacadd0b",
       "version_major": 2,
       "version_minor": 0
      },
      "text/plain": [
       "Transcribing:   0%|          | 0/1 [00:00<?, ?it/s]"
      ]
     },
     "metadata": {},
     "output_type": "display_data"
    },
    {
     "name": "stdout",
     "output_type": "stream",
     "text": [
      "T1 T2 T237_T255  T239 T237_  T239  T237 T237_. T111_T209 T0\n",
      "Transcription for segment_79.wav: TASK TAGGER ENTITY ACTION END ENTITY  END ENTITY ENTITY . INTENT STEP EOS\n"
     ]
    },
    {
     "data": {
      "application/vnd.jupyter.widget-view+json": {
       "model_id": "bb4beb51d2224cd48cf0bfe1586ec0f8",
       "version_major": 2,
       "version_minor": 0
      },
      "text/plain": [
       "Transcribing:   0%|          | 0/1 [00:00<?, ?it/s]"
      ]
     },
     "metadata": {},
     "output_type": "display_data"
    },
    {
     "name": "stdout",
     "output_type": "stream",
     "text": [
      "T1 T2 T237_T255 _ T111_T46 T0\n",
      "Transcription for segment_106.wav: TASK TAGGER ENTITY ACTION   INTENT WORKOUT EOS\n"
     ]
    },
    {
     "data": {
      "application/vnd.jupyter.widget-view+json": {
       "model_id": "fb2950d9ab2446609b3c443bccbc1187",
       "version_major": 2,
       "version_minor": 0
      },
      "text/plain": [
       "Transcribing:   0%|          | 0/1 [00:00<?, ?it/s]"
      ]
     },
     "metadata": {},
     "output_type": "display_data"
    },
    {
     "name": "stdout",
     "output_type": "stream",
     "text": [
      "T1 T2 T237_T255 Meser T239 T237_ on T239. T111_T35_T209 T0\n",
      "Transcription for segment_166.wav: TASK TAGGER ENTITY ACTION Meser END ENTITY  on T239. INTENT COOKING STEP EOS\n"
     ]
    },
    {
     "data": {
      "application/vnd.jupyter.widget-view+json": {
       "model_id": "1aa5d44bc1f4495ea5dddc7767e940d4",
       "version_major": 2,
       "version_minor": 0
      },
      "text/plain": [
       "Transcribing:   0%|          | 0/1 [00:00<?, ?it/s]"
      ]
     },
     "metadata": {},
     "output_type": "display_data"
    },
    {
     "name": "stdout",
     "output_type": "stream",
     "text": [
      "T1 T2 T237_T255T57  T237 Tస్ T239 f. T111_T35_T122 T0\n",
      "Transcription for segment_96.wav: TASK TAGGER ENTITY T255T57 ENTITY Tస్ END f. INTENT COOKING COMMENT EOS\n"
     ]
    },
    {
     "data": {
      "application/vnd.jupyter.widget-view+json": {
       "model_id": "662bacc91c0d41829c8bf23ace8652d7",
       "version_major": 2,
       "version_minor": 0
      },
      "text/plain": [
       "Transcribing:   0%|          | 0/1 [00:00<?, ?it/s]"
      ]
     },
     "metadata": {},
     "output_type": "display_data"
    },
    {
     "name": "stdout",
     "output_type": "stream",
     "text": [
      "T1 T2 T237_T255 _ _T55 T0\n",
      "Transcription for segment_662.wav: TASK TAGGER ENTITY ACTION    STATUS EOS\n"
     ]
    },
    {
     "data": {
      "application/vnd.jupyter.widget-view+json": {
       "model_id": "e3fd572334704808abdb9dbc696cee0d",
       "version_major": 2,
       "version_minor": 0
      },
      "text/plain": [
       "Transcribing:   0%|          | 0/1 [00:00<?, ?it/s]"
      ]
     },
     "metadata": {},
     "output_type": "display_data"
    },
    {
     "name": "stdout",
     "output_type": "stream",
     "text": [
      "T1 T2 _  T237_T255  T239 ch reming r T111_T122 T0\n",
      "Transcription for segment_635.wav: TASK TAGGER   ENTITY ACTION END ch reming r INTENT COMMENT EOS\n"
     ]
    },
    {
     "data": {
      "application/vnd.jupyter.widget-view+json": {
       "model_id": "2e099079ab7e4eacbeabb711a17e9e1e",
       "version_major": 2,
       "version_minor": 0
      },
      "text/plain": [
       "Transcribing:   0%|          | 0/1 [00:00<?, ?it/s]"
      ]
     },
     "metadata": {},
     "output_type": "display_data"
    },
    {
     "name": "stdout",
     "output_type": "stream",
     "text": [
      "T1 T2 T237_T255  T239 T237_ T239 T237_T196_T157  T239 ం. T111_T159_T195 T0\n",
      "Transcription for segment_69.wav: TASK TAGGER ENTITY ACTION END ENTITY  END ENTITY TEST TYPE END ం. INTENT SEND REPORT EOS\n"
     ]
    },
    {
     "data": {
      "application/vnd.jupyter.widget-view+json": {
       "model_id": "e8f988443bf04a4da072ff9475ea97a4",
       "version_major": 2,
       "version_minor": 0
      },
      "text/plain": [
       "Transcribing:   0%|          | 0/1 [00:00<?, ?it/s]"
      ]
     },
     "metadata": {},
     "output_type": "display_data"
    },
    {
     "name": "stdout",
     "output_type": "stream",
     "text": [
      "T1 T2 T237_T255 T237_T157 _. T111_T134 T0\n",
      "Transcription for segment_441.wav: TASK TAGGER ENTITY ACTION ENTITY TYPE  . INTENT ACCOUNT EOS\n"
     ]
    },
    {
     "data": {
      "application/vnd.jupyter.widget-view+json": {
       "model_id": "d5c07381cbeb431d83254cf4083602b9",
       "version_major": 2,
       "version_minor": 0
      },
      "text/plain": [
       "Transcribing:   0%|          | 0/1 [00:00<?, ?it/s]"
      ]
     },
     "metadata": {},
     "output_type": "display_data"
    },
    {
     "name": "stdout",
     "output_type": "stream",
     "text": [
      "T1 T2 T237_T255 T237_T203  T239    T239. T111_T249_T32 T0\n",
      "Transcription for segment_239.wav: TASK TAGGER ENTITY ACTION ENTITY INGREDIENT END T239. INTENT DEVICE CONTROL EOS\n"
     ]
    },
    {
     "data": {
      "application/vnd.jupyter.widget-view+json": {
       "model_id": "5860523e9d6241f19e177dfc826df4ef",
       "version_major": 2,
       "version_minor": 0
      },
      "text/plain": [
       "Transcribing:   0%|          | 0/1 [00:00<?, ?it/s]"
      ]
     },
     "metadata": {},
     "output_type": "display_data"
    },
    {
     "name": "stdout",
     "output_type": "stream",
     "text": [
      "T1 T2 T237_T234_T57 M  T255 pos find T237_T156T57 F T237_tion   comfer. T111_T122 T0\n",
      "Transcription for segment_246.wav: TASK TAGGER ENTITY PLAYER NAME M ACTION pos find ENTITY T156T57 F ENTITY tion comfer. INTENT COMMENT EOS\n"
     ]
    },
    {
     "data": {
      "application/vnd.jupyter.widget-view+json": {
       "model_id": "5c221c0746a64d5bbba5f9eb1bd989ad",
       "version_major": 2,
       "version_minor": 0
      },
      "text/plain": [
       "Transcribing:   0%|          | 0/1 [00:00<?, ?it/s]"
      ]
     },
     "metadata": {},
     "output_type": "display_data"
    },
    {
     "name": "stdout",
     "output_type": "stream",
     "text": [
      "T1 T2 T237_T255 T237_ _T46 T0\n",
      "Transcription for segment_159.wav: TASK TAGGER ENTITY ACTION ENTITY   WORKOUT EOS\n"
     ]
    },
    {
     "data": {
      "application/vnd.jupyter.widget-view+json": {
       "model_id": "c3a5f4520e174e69903316f3c19379fc",
       "version_major": 2,
       "version_minor": 0
      },
      "text/plain": [
       "Transcribing:   0%|          | 0/1 [00:00<?, ?it/s]"
      ]
     },
     "metadata": {},
     "output_type": "display_data"
    },
    {
     "name": "stdout",
     "output_type": "stream",
     "text": [
      "T1 T2 T237_T255 _T100  T239 T237_. T111_T211 T0\n",
      "Transcription for segment_485.wav: TASK TAGGER ENTITY ACTION  AMOUNT END ENTITY . INTENT FUNDS EOS\n"
     ]
    },
    {
     "data": {
      "application/vnd.jupyter.widget-view+json": {
       "model_id": "2251424125064b78a347ffd57b4c2869",
       "version_major": 2,
       "version_minor": 0
      },
      "text/plain": [
       "Transcribing:   0%|          | 0/1 [00:00<?, ?it/s]"
      ]
     },
     "metadata": {},
     "output_type": "display_data"
    },
    {
     "name": "stdout",
     "output_type": "stream",
     "text": [
      "T1 T2 ండి T237_ క ంద్ యో T237__T148 మసెట్ చం T111_T35_T209 T0\n",
      "Transcription for segment_413.wav: TASK TAGGER ండి ENTITY  క ంద్ యో ENTITY  SECTION మసెట్ చం INTENT COOKING STEP EOS\n"
     ]
    },
    {
     "data": {
      "application/vnd.jupyter.widget-view+json": {
       "model_id": "114658e6aaf842d1938d4807b2a8e291",
       "version_major": 2,
       "version_minor": 0
      },
      "text/plain": [
       "Transcribing:   0%|          | 0/1 [00:00<?, ?it/s]"
      ]
     },
     "metadata": {},
     "output_type": "display_data"
    },
    {
     "name": "stdout",
     "output_type": "stream",
     "text": [
      "T1 T2 T237_T255 T237_క _ ించ T239. _T111_T211 T0\n",
      "Transcription for segment_537.wav: TASK TAGGER ENTITY ACTION ENTITY క   ించ T239.  INTENT FUNDS EOS\n"
     ]
    },
    {
     "data": {
      "application/vnd.jupyter.widget-view+json": {
       "model_id": "aeec4122cf2541c4a68c6c94b8b723f9",
       "version_major": 2,
       "version_minor": 0
      },
      "text/plain": [
       "Transcribing:   0%|          | 0/1 [00:00<?, ?it/s]"
      ]
     },
     "metadata": {},
     "output_type": "display_data"
    },
    {
     "name": "stdout",
     "output_type": "stream",
     "text": [
      "T1 T2 T237_T255 T237_T134T157 k T239 T111_T134 T0\n",
      "Transcription for segment_532.wav: TASK TAGGER ENTITY ACTION ENTITY T134T157 k END INTENT ACCOUNT EOS\n"
     ]
    },
    {
     "data": {
      "application/vnd.jupyter.widget-view+json": {
       "model_id": "f60e4bfdc2c24529b321e632695d4e07",
       "version_major": 2,
       "version_minor": 0
      },
      "text/plain": [
       "Transcribing:   0%|          | 0/1 [00:00<?, ?it/s]"
      ]
     },
     "metadata": {},
     "output_type": "display_data"
    },
    {
     "name": "stdout",
     "output_type": "stream",
     "text": [
      "T1 T2 T237_T255 T237_ T239 _T32_T46 T0\n",
      "Transcription for segment_82.wav: TASK TAGGER ENTITY ACTION ENTITY  END  CONTROL WORKOUT EOS\n"
     ]
    },
    {
     "data": {
      "application/vnd.jupyter.widget-view+json": {
       "model_id": "48d23b7f9458414591afc58ad706abfe",
       "version_major": 2,
       "version_minor": 0
      },
      "text/plain": [
       "Transcribing:   0%|          | 0/1 [00:00<?, ?it/s]"
      ]
     },
     "metadata": {},
     "output_type": "display_data"
    },
    {
     "name": "stdout",
     "output_type": "stream",
     "text": [
      "T1 T2 T237_T255 z T239 Sie die T237_T41_T249 B T239 T237_  T239. T111_T32_T32 T0\n",
      "Transcription for segment_326.wav: TASK TAGGER ENTITY ACTION z END Sie die ENTITY SETTING DEVICE B END ENTITY  T239. INTENT CONTROL CONTROL EOS\n"
     ]
    },
    {
     "data": {
      "application/vnd.jupyter.widget-view+json": {
       "model_id": "2de330486a6546c8a71e9928eaea3dfb",
       "version_major": 2,
       "version_minor": 0
      },
      "text/plain": [
       "Transcribing:   0%|          | 0/1 [00:00<?, ?it/s]"
      ]
     },
     "metadata": {},
     "output_type": "display_data"
    },
    {
     "name": "stdout",
     "output_type": "stream",
     "text": [
      "T1 T2 T237_T255  wethe season. T111_T160_T122 T0\n",
      "Transcription for segment_571.wav: TASK TAGGER ENTITY ACTION wethe season. INTENT VIEW COMMENT EOS\n"
     ]
    },
    {
     "data": {
      "application/vnd.jupyter.widget-view+json": {
       "model_id": "258c961cb5b44d91b0e3a1faf63e41ac",
       "version_major": 2,
       "version_minor": 0
      },
      "text/plain": [
       "Transcribing:   0%|          | 0/1 [00:00<?, ?it/s]"
      ]
     },
     "metadata": {},
     "output_type": "display_data"
    },
    {
     "name": "stdout",
     "output_type": "stream",
     "text": [
      "T1 T2 T237_T255 T239 _T111_k T0\n",
      "Transcription for segment_348.wav: TASK TAGGER ENTITY ACTION END  INTENT k EOS\n"
     ]
    },
    {
     "data": {
      "application/vnd.jupyter.widget-view+json": {
       "model_id": "383948a6195047ddafa349798135473f",
       "version_major": 2,
       "version_minor": 0
      },
      "text/plain": [
       "Transcribing:   0%|          | 0/1 [00:00<?, ?it/s]"
      ]
     },
     "metadata": {},
     "output_type": "display_data"
    },
    {
     "name": "stdout",
     "output_type": "stream",
     "text": [
      "T1 T2 T237_T255  T237_T249 st T239 toto. T111_T211 T0\n",
      "Transcription for segment_448.wav: TASK TAGGER ENTITY ACTION ENTITY DEVICE st END toto. INTENT FUNDS EOS\n"
     ]
    },
    {
     "data": {
      "application/vnd.jupyter.widget-view+json": {
       "model_id": "08cae746877d4fbeb018e490f9c74b56",
       "version_major": 2,
       "version_minor": 0
      },
      "text/plain": [
       "Transcribing:   0%|          | 0/1 [00:00<?, ?it/s]"
      ]
     },
     "metadata": {},
     "output_type": "display_data"
    },
    {
     "name": "stdout",
     "output_type": "stream",
     "text": [
      "T1 T2 T237T234T57 Hae ping T237_T234_T57 Ben T239 the pas quiis position. T111_T122 T0\n",
      "Transcription for segment_108.wav: TASK TAGGER T237T234T57 Hae ping ENTITY PLAYER NAME Ben END the pas quiis position. INTENT COMMENT EOS\n"
     ]
    },
    {
     "data": {
      "application/vnd.jupyter.widget-view+json": {
       "model_id": "abc66e22d30d4e7ba609a01e5ca356fa",
       "version_major": 2,
       "version_minor": 0
      },
      "text/plain": [
       "Transcribing:   0%|          | 0/1 [00:00<?, ?it/s]"
      ]
     },
     "metadata": {},
     "output_type": "display_data"
    },
    {
     "name": "stdout",
     "output_type": "stream",
     "text": [
      "T1 T2  T237_      T111_T55 T0\n",
      "Transcription for segment_353.wav: TASK TAGGER ENTITY  INTENT STATUS EOS\n"
     ]
    },
    {
     "data": {
      "application/vnd.jupyter.widget-view+json": {
       "model_id": "2220b891d87e412bb5c885f5d01c832f",
       "version_major": 2,
       "version_minor": 0
      },
      "text/plain": [
       "Transcribing:   0%|          | 0/1 [00:00<?, ?it/s]"
      ]
     },
     "metadata": {},
     "output_type": "display_data"
    },
    {
     "name": "stdout",
     "output_type": "stream",
     "text": [
      "T1 T2 T237_T255 m T111_ T0\n",
      "Transcription for segment_270.wav: TASK TAGGER ENTITY ACTION m INTENT  EOS\n"
     ]
    },
    {
     "data": {
      "application/vnd.jupyter.widget-view+json": {
       "model_id": "7b8c25d274af4bac90e560c1401bf862",
       "version_major": 2,
       "version_minor": 0
      },
      "text/plain": [
       "Transcribing:   0%|          | 0/1 [00:00<?, ?it/s]"
      ]
     },
     "metadata": {},
     "output_type": "display_data"
    },
    {
     "name": "stdout",
     "output_type": "stream",
     "text": [
      "T1 T2 T237_T57  T239 the T237 roun T239 in the  po of the m    s for the ts the. T111_T122 T0\n",
      "Transcription for segment_175.wav: TASK TAGGER ENTITY NAME END the ENTITY roun END in the po of the m s for the ts the. INTENT COMMENT EOS\n"
     ]
    },
    {
     "data": {
      "application/vnd.jupyter.widget-view+json": {
       "model_id": "75b9548888d040cfb58d26e7b51dce9e",
       "version_major": 2,
       "version_minor": 0
      },
      "text/plain": [
       "Transcribing:   0%|          | 0/1 [00:00<?, ?it/s]"
      ]
     },
     "metadata": {},
     "output_type": "display_data"
    },
    {
     "name": "stdout",
     "output_type": "stream",
     "text": [
      "T1 T2 T237_T234_T57  T237T255   T239   g ch. T111_T122 T0\n",
      "Transcription for segment_370.wav: TASK TAGGER ENTITY PLAYER NAME T237T255 END g ch. INTENT COMMENT EOS\n"
     ]
    },
    {
     "data": {
      "application/vnd.jupyter.widget-view+json": {
       "model_id": "c5bbeca881c0481385f976eb3367cbfc",
       "version_major": 2,
       "version_minor": 0
      },
      "text/plain": [
       "Transcribing:   0%|          | 0/1 [00:00<?, ?it/s]"
      ]
     },
     "metadata": {},
     "output_type": "display_data"
    },
    {
     "name": "stdout",
     "output_type": "stream",
     "text": [
      "T1 T2 T237_T255   T237   నవ  से T237__  T239    స  T239  T237  చేయ T237ససీenం T239 ్రోం  মনన్ స    T239. T111_T196 T0\n",
      "Transcription for segment_647.wav: TASK TAGGER ENTITY ACTION ENTITY నవ से ENTITY   END స END ENTITY చేయ T237ససీenం END ్రోం মনన్ స T239. INTENT TEST EOS\n"
     ]
    },
    {
     "data": {
      "application/vnd.jupyter.widget-view+json": {
       "model_id": "7ff71735abcb456c9142e935d7857e5c",
       "version_major": 2,
       "version_minor": 0
      },
      "text/plain": [
       "Transcribing:   0%|          | 0/1 [00:00<?, ?it/s]"
      ]
     },
     "metadata": {},
     "output_type": "display_data"
    },
    {
     "name": "stdout",
     "output_type": "stream",
     "text": [
      "T1 T2 ह_T255 T237_T157  T237_T157  स T239 T111_T319 T0\n",
      "Transcription for segment_423.wav: TASK TAGGER ह ACTION ENTITY TYPE ENTITY TYPE स END INTENT INVENTORY EOS\n"
     ]
    },
    {
     "data": {
      "application/vnd.jupyter.widget-view+json": {
       "model_id": "c3d0225f09d1476bae9dedc63e4a0b3c",
       "version_major": 2,
       "version_minor": 0
      },
      "text/plain": [
       "Transcribing:   0%|          | 0/1 [00:00<?, ?it/s]"
      ]
     },
     "metadata": {},
     "output_type": "display_data"
    },
    {
     "name": "stdout",
     "output_type": "stream",
     "text": [
      "T1 T2 T237_T156_T57 সেস্ T239 এক T237__T120 প্রাT237 T237__T120  রু. T111_T16 T0\n",
      "Transcription for segment_240.wav: TASK TAGGER ENTITY TEAM NAME সেস্ END এক ENTITY  SCORE প্রাT237 ENTITY  SCORE রু. INTENT RESULT EOS\n"
     ]
    },
    {
     "data": {
      "application/vnd.jupyter.widget-view+json": {
       "model_id": "e30b532769334154b47bc44bcfee5487",
       "version_major": 2,
       "version_minor": 0
      },
      "text/plain": [
       "Transcribing:   0%|          | 0/1 [00:00<?, ?it/s]"
      ]
     },
     "metadata": {},
     "output_type": "display_data"
    },
    {
     "name": "stdout",
     "output_type": "stream",
     "text": [
      "T1 T2 T237_T255  T237_T157. T111_T32_T196 T0\n",
      "Transcription for segment_216.wav: TASK TAGGER ENTITY ACTION ENTITY T157. INTENT CONTROL TEST EOS\n"
     ]
    },
    {
     "data": {
      "application/vnd.jupyter.widget-view+json": {
       "model_id": "f2296035f4984507b026622dddd72abe",
       "version_major": 2,
       "version_minor": 0
      },
      "text/plain": [
       "Transcribing:   0%|          | 0/1 [00:00<?, ?it/s]"
      ]
     },
     "metadata": {},
     "output_type": "display_data"
    },
    {
     "name": "stdout",
     "output_type": "stream",
     "text": [
      "T1 T2 T237_T255 Core T239 T237_T172 ix T239 T237_T238  T239 T237_T182is T239 T111_T117 T0\n",
      "Transcription for segment_325.wav: TASK TAGGER ENTITY ACTION Core END ENTITY QUANTITY ix END ENTITY ITEM END ENTITY T182is END INTENT PURCHASE EOS\n"
     ]
    },
    {
     "data": {
      "application/vnd.jupyter.widget-view+json": {
       "model_id": "5a37b47b55fc46a68a1506798e873c91",
       "version_major": 2,
       "version_minor": 0
      },
      "text/plain": [
       "Transcribing:   0%|          | 0/1 [00:00<?, ?it/s]"
      ]
     },
     "metadata": {},
     "output_type": "display_data"
    },
    {
     "name": "stdout",
     "output_type": "stream",
     "text": [
      "T1 T2 T237_T255 C T239 _T238 chk T239 T237_ T237_T238  T237_T49 T239 T111_T6_T55 T0\n",
      "Transcription for segment_141.wav: TASK TAGGER ENTITY ACTION C END  ITEM chk END ENTITY  ENTITY ITEM ENTITY STORE END INTENT CHECK STATUS EOS\n"
     ]
    },
    {
     "data": {
      "application/vnd.jupyter.widget-view+json": {
       "model_id": "e5c24b1cf1664642b0f27048655618af",
       "version_major": 2,
       "version_minor": 0
      },
      "text/plain": [
       "Transcribing:   0%|          | 0/1 [00:00<?, ?it/s]"
      ]
     },
     "metadata": {},
     "output_type": "display_data"
    },
    {
     "name": "stdout",
     "output_type": "stream",
     "text": [
      "T1 T2 T237_T255  క్ష _ ెట్ర _ T239 T239 T111_T221_T196 T0\n",
      "Transcription for segment_265.wav: TASK TAGGER ENTITY ACTION క్ష   ెట్ర   END END INTENT START TEST EOS\n"
     ]
    },
    {
     "data": {
      "application/vnd.jupyter.widget-view+json": {
       "model_id": "719f2987b42f428f96d10b2a5fe08d01",
       "version_major": 2,
       "version_minor": 0
      },
      "text/plain": [
       "Transcribing:   0%|          | 0/1 [00:00<?, ?it/s]"
      ]
     },
     "metadata": {},
     "output_type": "display_data"
    },
    {
     "name": "stdout",
     "output_type": "stream",
     "text": [
      "T1 T2  T237_T251_T157 র T239  T237_T253 ব T239? T111_T6_T147 T0\n",
      "Transcription for segment_471.wav: TASK TAGGER ENTITY TRANSPORT TYPE র END ENTITY DESTINATION ব T239? INTENT CHECK BOOK EOS\n"
     ]
    },
    {
     "data": {
      "application/vnd.jupyter.widget-view+json": {
       "model_id": "e7932fb8729140699027ed256338fcd7",
       "version_major": 2,
       "version_minor": 0
      },
      "text/plain": [
       "Transcribing:   0%|          | 0/1 [00:00<?, ?it/s]"
      ]
     },
     "metadata": {},
     "output_type": "display_data"
    },
    {
     "name": "stdout",
     "output_type": "stream",
     "text": [
      "T1 T2 T237T156 A T239 T120 T237_T156_T57 C P T237_T156_T57wor. T111_T16 T0\n",
      "Transcription for segment_506.wav: TASK TAGGER T237T156 A END SCORE ENTITY TEAM NAME C P ENTITY TEAM T57wor. INTENT RESULT EOS\n"
     ]
    },
    {
     "data": {
      "application/vnd.jupyter.widget-view+json": {
       "model_id": "4559a97a66224a908302d95f29e438da",
       "version_major": 2,
       "version_minor": 0
      },
      "text/plain": [
       "Transcribing:   0%|          | 0/1 [00:00<?, ?it/s]"
      ]
     },
     "metadata": {},
     "output_type": "display_data"
    },
    {
     "name": "stdout",
     "output_type": "stream",
     "text": [
      "T1 T2 _  T237_T157  T239 T237__. T111_T98_T41 T0\n",
      "Transcription for segment_275.wav: TASK TAGGER   ENTITY TYPE END ENTITY  . INTENT CHANGE SETTING EOS\n"
     ]
    },
    {
     "data": {
      "application/vnd.jupyter.widget-view+json": {
       "model_id": "4fdfc92c19dd4bda8c4f5b1d53bce077",
       "version_major": 2,
       "version_minor": 0
      },
      "text/plain": [
       "Transcribing:   0%|          | 0/1 [00:00<?, ?it/s]"
      ]
     },
     "metadata": {},
     "output_type": "display_data"
    },
    {
     "name": "stdout",
     "output_type": "stream",
     "text": [
      "T1 T2 T237_T255 A T237_  T239 T237_. T111_T32 T0\n",
      "Transcription for segment_105.wav: TASK TAGGER ENTITY ACTION A ENTITY  END ENTITY . INTENT CONTROL EOS\n"
     ]
    },
    {
     "data": {
      "application/vnd.jupyter.widget-view+json": {
       "model_id": "23ed2f57d7bb4684b51737bcfa103451",
       "version_major": 2,
       "version_minor": 0
      },
      "text/plain": [
       "Transcribing:   0%|          | 0/1 [00:00<?, ?it/s]"
      ]
     },
     "metadata": {},
     "output_type": "display_data"
    },
    {
     "name": "stdout",
     "output_type": "stream",
     "text": [
      "T1 T2 T237_T255  T239 T237_T157 sr. T111_T32_T46 T0\n",
      "Transcription for segment_317.wav: TASK TAGGER ENTITY ACTION END ENTITY TYPE sr. INTENT CONTROL WORKOUT EOS\n"
     ]
    },
    {
     "data": {
      "application/vnd.jupyter.widget-view+json": {
       "model_id": "fe67e998d684461abf9d8eada5bb07ef",
       "version_major": 2,
       "version_minor": 0
      },
      "text/plain": [
       "Transcribing:   0%|          | 0/1 [00:00<?, ?it/s]"
      ]
     },
     "metadata": {},
     "output_type": "display_data"
    },
    {
     "name": "stdout",
     "output_type": "stream",
     "text": [
      "T1 T2 T237_T255 _ _. T111_T188_T134 T0\n",
      "Transcription for segment_44.wav: TASK TAGGER ENTITY ACTION    . INTENT PAUSE ACCOUNT EOS\n"
     ]
    },
    {
     "data": {
      "application/vnd.jupyter.widget-view+json": {
       "model_id": "e12cf6f67efd461aadabdd5c866f03c2",
       "version_major": 2,
       "version_minor": 0
      },
      "text/plain": [
       "Transcribing:   0%|          | 0/1 [00:00<?, ?it/s]"
      ]
     },
     "metadata": {},
     "output_type": "display_data"
    },
    {
     "name": "stdout",
     "output_type": "stream",
     "text": [
      "T1 T2 T237_T255 Pur T239 T237_T203  T239 the  T239. T111_T32_T32 T0\n",
      "Transcription for segment_312.wav: TASK TAGGER ENTITY ACTION Pur END ENTITY INGREDIENT END the T239. INTENT CONTROL CONTROL EOS\n"
     ]
    },
    {
     "data": {
      "application/vnd.jupyter.widget-view+json": {
       "model_id": "c34324d9bd8d4a4ebbf9a42cff73b6f7",
       "version_major": 2,
       "version_minor": 0
      },
      "text/plain": [
       "Transcribing:   0%|          | 0/1 [00:00<?, ?it/s]"
      ]
     },
     "metadata": {},
     "output_type": "display_data"
    },
    {
     "name": "stdout",
     "output_type": "stream",
     "text": [
      "T1 T2 T237_T255 T237_ T239 _T111_T46 T0\n",
      "Transcription for segment_415.wav: TASK TAGGER ENTITY ACTION ENTITY  END  INTENT WORKOUT EOS\n"
     ]
    },
    {
     "data": {
      "application/vnd.jupyter.widget-view+json": {
       "model_id": "05117832cab1466a9875b5c4f8144c0e",
       "version_major": 2,
       "version_minor": 0
      },
      "text/plain": [
       "Transcribing:   0%|          | 0/1 [00:00<?, ?it/s]"
      ]
     },
     "metadata": {},
     "output_type": "display_data"
    },
    {
     "name": "stdout",
     "output_type": "stream",
     "text": [
      "T1 T2 T237__T255  T237_T157  T237  T239 T111_T35_T209 T0\n",
      "Transcription for segment_228.wav: TASK TAGGER ENTITY  ACTION ENTITY TYPE ENTITY END INTENT COOKING STEP EOS\n"
     ]
    },
    {
     "data": {
      "application/vnd.jupyter.widget-view+json": {
       "model_id": "37de078b947a4e1aac1fb6c8964a126f",
       "version_major": 2,
       "version_minor": 0
      },
      "text/plain": [
       "Transcribing:   0%|          | 0/1 [00:00<?, ?it/s]"
      ]
     },
     "metadata": {},
     "output_type": "display_data"
    },
    {
     "name": "stdout",
     "output_type": "stream",
     "text": [
      "T1 T2 T237_T255 D Gee T237_T214  T239 in. T111_T122 T0\n",
      "Transcription for segment_659.wav: TASK TAGGER ENTITY ACTION D Gee ENTITY TITLE END in. INTENT COMMENT EOS\n"
     ]
    },
    {
     "data": {
      "application/vnd.jupyter.widget-view+json": {
       "model_id": "0422be366eeb4fd98788b1725c2bc742",
       "version_major": 2,
       "version_minor": 0
      },
      "text/plain": [
       "Transcribing:   0%|          | 0/1 [00:00<?, ?it/s]"
      ]
     },
     "metadata": {},
     "output_type": "display_data"
    },
    {
     "name": "stdout",
     "output_type": "stream",
     "text": [
      "T1 T2 T237_T255 T237_ _T111_T169 T0\n",
      "Transcription for segment_229.wav: TASK TAGGER ENTITY ACTION ENTITY   INTENT SAVE EOS\n"
     ]
    },
    {
     "data": {
      "application/vnd.jupyter.widget-view+json": {
       "model_id": "4b1864c49ca74aef8708caf59ff482e2",
       "version_major": 2,
       "version_minor": 0
      },
      "text/plain": [
       "Transcribing:   0%|          | 0/1 [00:00<?, ?it/s]"
      ]
     },
     "metadata": {},
     "output_type": "display_data"
    },
    {
     "name": "stdout",
     "output_type": "stream",
     "text": [
      "T1 T2 T237_T255  T239 T237_T157 Cco T239 for T237_T41_T157  T239. T111_T149_T155 T0\n",
      "Transcription for segment_530.wav: TASK TAGGER ENTITY ACTION END ENTITY TYPE Cco END for ENTITY SETTING TYPE T239. INTENT SET SAMPLE EOS\n"
     ]
    },
    {
     "data": {
      "application/vnd.jupyter.widget-view+json": {
       "model_id": "155f74a396fe4b3aa5037b8a50ef59eb",
       "version_major": 2,
       "version_minor": 0
      },
      "text/plain": [
       "Transcribing:   0%|          | 0/1 [00:00<?, ?it/s]"
      ]
     },
     "metadata": {},
     "output_type": "display_data"
    },
    {
     "name": "stdout",
     "output_type": "stream",
     "text": [
      "T1 T2 T237_T255 _ _T111_T32 T0\n",
      "Transcription for segment_81.wav: TASK TAGGER ENTITY ACTION    INTENT CONTROL EOS\n"
     ]
    },
    {
     "data": {
      "application/vnd.jupyter.widget-view+json": {
       "model_id": "5e02ef1c7f6447ecafb574f4c83f6c8c",
       "version_major": 2,
       "version_minor": 0
      },
      "text/plain": [
       "Transcribing:   0%|          | 0/1 [00:00<?, ?it/s]"
      ]
     },
     "metadata": {},
     "output_type": "display_data"
    },
    {
     "name": "stdout",
     "output_type": "stream",
     "text": [
      "T1 T2 T237_T255 T237_T134_T157  T237_T157 चा. T111_T220_T216 T0\n",
      "Transcription for segment_504.wav: TASK TAGGER ENTITY ACTION ENTITY ACCOUNT TYPE ENTITY TYPE चा. INTENT MONITOR TRANSACTION EOS\n"
     ]
    },
    {
     "data": {
      "application/vnd.jupyter.widget-view+json": {
       "model_id": "acc926b93aee4527b188b4b0a50c4bf3",
       "version_major": 2,
       "version_minor": 0
      },
      "text/plain": [
       "Transcribing:   0%|          | 0/1 [00:00<?, ?it/s]"
      ]
     },
     "metadata": {},
     "output_type": "display_data"
    },
    {
     "name": "stdout",
     "output_type": "stream",
     "text": [
      "T1 T2 T237_T255  যে T237প্ি ল  বx্ T111_T213 T0\n",
      "Transcription for segment_445.wav: TASK TAGGER ENTITY ACTION যে T237প্ি ল বx্ INTENT DECISION EOS\n"
     ]
    },
    {
     "data": {
      "application/vnd.jupyter.widget-view+json": {
       "model_id": "fbee26530b7e4fce8be9e4701ef1facf",
       "version_major": 2,
       "version_minor": 0
      },
      "text/plain": [
       "Transcribing:   0%|          | 0/1 [00:00<?, ?it/s]"
      ]
     },
     "metadata": {},
     "output_type": "display_data"
    },
    {
     "name": "stdout",
     "output_type": "stream",
     "text": [
      "T1 T2 T237_T255  T239 T237_  T239 T111_T88_T238 T0\n",
      "Transcription for segment_575.wav: TASK TAGGER ENTITY ACTION END ENTITY  END INTENT FIND ITEM EOS\n"
     ]
    },
    {
     "data": {
      "application/vnd.jupyter.widget-view+json": {
       "model_id": "48818bad14084c5ebd0d96ee8fce48ba",
       "version_major": 2,
       "version_minor": 0
      },
      "text/plain": [
       "Transcribing:   0%|          | 0/1 [00:00<?, ?it/s]"
      ]
     },
     "metadata": {},
     "output_type": "display_data"
    },
    {
     "name": "stdout",
     "output_type": "stream",
     "text": [
      "T1 T2   T237  T237  T111_T195 T0\n",
      "Transcription for segment_591.wav: TASK TAGGER ENTITY ENTITY INTENT REPORT EOS\n"
     ]
    },
    {
     "data": {
      "application/vnd.jupyter.widget-view+json": {
       "model_id": "74136d5204ee43df8f22b864e4ef9c66",
       "version_major": 2,
       "version_minor": 0
      },
      "text/plain": [
       "Transcribing:   0%|          | 0/1 [00:00<?, ?it/s]"
      ]
     },
     "metadata": {},
     "output_type": "display_data"
    },
    {
     "name": "stdout",
     "output_type": "stream",
     "text": [
      "T1 T2 T237_T255 T237_ T239 _T111_T211 T0\n",
      "Transcription for segment_273.wav: TASK TAGGER ENTITY ACTION ENTITY  END  INTENT FUNDS EOS\n"
     ]
    },
    {
     "data": {
      "application/vnd.jupyter.widget-view+json": {
       "model_id": "33b26c28ab3c4520af0f76c801cda72a",
       "version_major": 2,
       "version_minor": 0
      },
      "text/plain": [
       "Transcribing:   0%|          | 0/1 [00:00<?, ?it/s]"
      ]
     },
     "metadata": {},
     "output_type": "display_data"
    },
    {
     "name": "stdout",
     "output_type": "stream",
     "text": [
      "T1 T2 T237_T255 T238्र T239 T237_T238 मండి T239 T237_T49_T49 फन ् T239 T237_T238 ब् ब स T239 T111_T238_T90 T0\n",
      "Transcription for segment_245.wav: TASK TAGGER ENTITY ACTION T238्र END ENTITY ITEM मండి END ENTITY STORE STORE फन ् END ENTITY ITEM ब् ब स END INTENT ITEM AVAILABILITY EOS\n"
     ]
    },
    {
     "data": {
      "application/vnd.jupyter.widget-view+json": {
       "model_id": "e922127417ec4f6a9144570ae970d698",
       "version_major": 2,
       "version_minor": 0
      },
      "text/plain": [
       "Transcribing:   0%|          | 0/1 [00:00<?, ?it/s]"
      ]
     },
     "metadata": {},
     "output_type": "display_data"
    },
    {
     "name": "stdout",
     "output_type": "stream",
     "text": [
      "T1 T2 T237_T255 T237_T157 T239. _T111_T46 T0\n",
      "Transcription for segment_641.wav: TASK TAGGER ENTITY ACTION ENTITY TYPE T239.  INTENT WORKOUT EOS\n"
     ]
    },
    {
     "data": {
      "application/vnd.jupyter.widget-view+json": {
       "model_id": "ef8c9bdc5c394e5281a918e0c2579ad6",
       "version_major": 2,
       "version_minor": 0
      },
      "text/plain": [
       "Transcribing:   0%|          | 0/1 [00:00<?, ?it/s]"
      ]
     },
     "metadata": {},
     "output_type": "display_data"
    },
    {
     "name": "stdout",
     "output_type": "stream",
     "text": [
      "T1 T2 T237_  T239 T237__T157. T111_T98_T41 T0\n",
      "Transcription for segment_640.wav: TASK TAGGER ENTITY  END ENTITY  T157. INTENT CHANGE SETTING EOS\n"
     ]
    },
    {
     "data": {
      "application/vnd.jupyter.widget-view+json": {
       "model_id": "258279623dea44aaa69c3f46612bd198",
       "version_major": 2,
       "version_minor": 0
      },
      "text/plain": [
       "Transcribing:   0%|          | 0/1 [00:00<?, ?it/s]"
      ]
     },
     "metadata": {},
     "output_type": "display_data"
    },
    {
     "name": "stdout",
     "output_type": "stream",
     "text": [
      "T1 T2 T237_T255 B T237_  T239 T237  _T35_T32 T0\n",
      "Transcription for segment_563.wav: TASK TAGGER ENTITY ACTION B ENTITY  END ENTITY  COOKING CONTROL EOS\n"
     ]
    },
    {
     "data": {
      "application/vnd.jupyter.widget-view+json": {
       "model_id": "72750068ccf849a8b7daa5c20d86b272",
       "version_major": 2,
       "version_minor": 0
      },
      "text/plain": [
       "Transcribing:   0%|          | 0/1 [00:00<?, ?it/s]"
      ]
     },
     "metadata": {},
     "output_type": "display_data"
    },
    {
     "name": "stdout",
     "output_type": "stream",
     "text": [
      "T1 T2 T237_T255 T237_T251_T157 ট্ T239 T237_T253 ఖ  T239 T237_ T237_T253  T239   T253Yయ T239 T111_T55 T0\n",
      "Transcription for segment_679.wav: TASK TAGGER ENTITY ACTION ENTITY TRANSPORT TYPE ট্ END ENTITY DESTINATION ఖ END ENTITY  ENTITY DESTINATION END T253Yయ END INTENT STATUS EOS\n"
     ]
    },
    {
     "data": {
      "application/vnd.jupyter.widget-view+json": {
       "model_id": "f071d5994506458aab61f4e367059076",
       "version_major": 2,
       "version_minor": 0
      },
      "text/plain": [
       "Transcribing:   0%|          | 0/1 [00:00<?, ?it/s]"
      ]
     },
     "metadata": {},
     "output_type": "display_data"
    },
    {
     "name": "stdout",
     "output_type": "stream",
     "text": [
      "T1 T2 T237_T255 T237_ _ _T111_T183 T0\n",
      "Transcription for segment_500.wav: TASK TAGGER ENTITY ACTION ENTITY     INTENT MEASUREMENT EOS\n"
     ]
    },
    {
     "data": {
      "application/vnd.jupyter.widget-view+json": {
       "model_id": "5268701289de414dad0318f0a9d8d6d9",
       "version_major": 2,
       "version_minor": 0
      },
      "text/plain": [
       "Transcribing:   0%|          | 0/1 [00:00<?, ?it/s]"
      ]
     },
     "metadata": {},
     "output_type": "display_data"
    },
    {
     "name": "stdout",
     "output_type": "stream",
     "text": [
      "T1 T2 T237_T255 T237_ _T111_T240 T0\n",
      "Transcription for segment_607.wav: TASK TAGGER ENTITY ACTION ENTITY   INTENT INVESTMENT EOS\n"
     ]
    },
    {
     "data": {
      "application/vnd.jupyter.widget-view+json": {
       "model_id": "f692ba65d157452d8ea95f486c089b72",
       "version_major": 2,
       "version_minor": 0
      },
      "text/plain": [
       "Transcribing:   0%|          | 0/1 [00:00<?, ?it/s]"
      ]
     },
     "metadata": {},
     "output_type": "display_data"
    },
    {
     "name": "stdout",
     "output_type": "stream",
     "text": [
      "T1 T2 T237_T255 Stop T239 T237_T75_T157 H T239ur team. T111_T247_T5 T0\n",
      "Transcription for segment_224.wav: TASK TAGGER ENTITY ACTION Stop END ENTITY MEDIA TYPE H T239ur team. INTENT STOP COMMAND EOS\n"
     ]
    },
    {
     "data": {
      "application/vnd.jupyter.widget-view+json": {
       "model_id": "2c0cba2d5da84a3e8a075126adf3d10f",
       "version_major": 2,
       "version_minor": 0
      },
      "text/plain": [
       "Transcribing:   0%|          | 0/1 [00:00<?, ?it/s]"
      ]
     },
     "metadata": {},
     "output_type": "display_data"
    },
    {
     "name": "stdout",
     "output_type": "stream",
     "text": [
      "T1 T2 T237_T255  T239 T237_T249  _ on T239 _T32 T0\n",
      "Transcription for segment_112.wav: TASK TAGGER ENTITY ACTION END ENTITY DEVICE   on END  CONTROL EOS\n"
     ]
    },
    {
     "data": {
      "application/vnd.jupyter.widget-view+json": {
       "model_id": "98dc67fb7dc34dc898a43d5ddba454d3",
       "version_major": 2,
       "version_minor": 0
      },
      "text/plain": [
       "Transcribing:   0%|          | 0/1 [00:00<?, ?it/s]"
      ]
     },
     "metadata": {},
     "output_type": "display_data"
    },
    {
     "name": "stdout",
     "output_type": "stream",
     "text": [
      "T1 T2 T237_T255 S T239 T237_T255 e T239 the spectatoor chas  the  goall. T111_T202 T0\n",
      "Transcription for segment_46.wav: TASK TAGGER ENTITY ACTION S END ENTITY ACTION e END the spectatoor chas the goall. INTENT HIGHLIGHT EOS\n"
     ]
    },
    {
     "data": {
      "application/vnd.jupyter.widget-view+json": {
       "model_id": "7dd9f307b86646aaae54f787fe1e0363",
       "version_major": 2,
       "version_minor": 0
      },
      "text/plain": [
       "Transcribing:   0%|          | 0/1 [00:00<?, ?it/s]"
      ]
     },
     "metadata": {},
     "output_type": "display_data"
    },
    {
     "name": "stdout",
     "output_type": "stream",
     "text": [
      "T1 T2 T237_T255 re T239 T237_  T239. T111_T32_T32 T0\n",
      "Transcription for segment_71.wav: TASK TAGGER ENTITY ACTION re END ENTITY  T239. INTENT CONTROL CONTROL EOS\n"
     ]
    },
    {
     "data": {
      "application/vnd.jupyter.widget-view+json": {
       "model_id": "455951d770674b02ac6463dc09f96b7a",
       "version_major": 2,
       "version_minor": 0
      },
      "text/plain": [
       "Transcribing:   0%|          | 0/1 [00:00<?, ?it/s]"
      ]
     },
     "metadata": {},
     "output_type": "display_data"
    },
    {
     "name": "stdout",
     "output_type": "stream",
     "text": [
      "T1 T2 T237_ T237 ং T239 ండి T237 ুন T237_ র T237_T253 তমন T239. T111_T35_T209 T0\n",
      "Transcription for segment_177.wav: TASK TAGGER ENTITY  ENTITY ং END ండి ENTITY ুন ENTITY  র ENTITY DESTINATION তমন T239. INTENT COOKING STEP EOS\n"
     ]
    },
    {
     "data": {
      "application/vnd.jupyter.widget-view+json": {
       "model_id": "60f9caaafbc54a1eaa9fd902ed52d6a5",
       "version_major": 2,
       "version_minor": 0
      },
      "text/plain": [
       "Transcribing:   0%|          | 0/1 [00:00<?, ?it/s]"
      ]
     },
     "metadata": {},
     "output_type": "display_data"
    },
    {
     "name": "stdout",
     "output_type": "stream",
     "text": [
      "T1 T2 T237T255 ise T239 the T237_T157  des  T239 T237 T239 insistce. T111_T35_T209 T0\n",
      "Transcription for segment_597.wav: TASK TAGGER T237T255 ise END the ENTITY TYPE des END ENTITY END insistce. INTENT COOKING STEP EOS\n"
     ]
    },
    {
     "data": {
      "application/vnd.jupyter.widget-view+json": {
       "model_id": "959aeeaa76554bf1afccf36190f858ce",
       "version_major": 2,
       "version_minor": 0
      },
      "text/plain": [
       "Transcribing:   0%|          | 0/1 [00:00<?, ?it/s]"
      ]
     },
     "metadata": {},
     "output_type": "display_data"
    },
    {
     "name": "stdout",
     "output_type": "stream",
     "text": [
      "T1 T2 T237_T255  T239 T237_  T239    une T237_ lomb. T111_T35_T209 T0\n",
      "Transcription for segment_113.wav: TASK TAGGER ENTITY ACTION END ENTITY  END une ENTITY  lomb. INTENT COOKING STEP EOS\n"
     ]
    },
    {
     "data": {
      "application/vnd.jupyter.widget-view+json": {
       "model_id": "a8c948d99ef1495fba3ad7023264e8c0",
       "version_major": 2,
       "version_minor": 0
      },
      "text/plain": [
       "Transcribing:   0%|          | 0/1 [00:00<?, ?it/s]"
      ]
     },
     "metadata": {},
     "output_type": "display_data"
    },
    {
     "name": "stdout",
     "output_type": "stream",
     "text": [
      "T1 T2 T237_T234_T57 C T239 cspeation y T237_T234_T57 De with wahT57 l. T111_T122 T0\n",
      "Transcription for segment_566.wav: TASK TAGGER ENTITY PLAYER NAME C END cspeation y ENTITY PLAYER NAME De with wahT57 l. INTENT COMMENT EOS\n"
     ]
    },
    {
     "data": {
      "application/vnd.jupyter.widget-view+json": {
       "model_id": "9bf36619c9934585ada3172b31ba3112",
       "version_major": 2,
       "version_minor": 0
      },
      "text/plain": [
       "Transcribing:   0%|          | 0/1 [00:00<?, ?it/s]"
      ]
     },
     "metadata": {},
     "output_type": "display_data"
    },
    {
     "name": "stdout",
     "output_type": "stream",
     "text": [
      "T1 T2 il  apter room. T111_T249_T32 T0\n",
      "Transcription for segment_478.wav: TASK TAGGER il apter room. INTENT DEVICE CONTROL EOS\n"
     ]
    },
    {
     "data": {
      "application/vnd.jupyter.widget-view+json": {
       "model_id": "b5977097fed94f9fa89d8f6d2556f714",
       "version_major": 2,
       "version_minor": 0
      },
      "text/plain": [
       "Transcribing:   0%|          | 0/1 [00:00<?, ?it/s]"
      ]
     },
     "metadata": {},
     "output_type": "display_data"
    },
    {
     "name": "stdout",
     "output_type": "stream",
     "text": [
      "T1 T2 T237_T255 T111_T46 T0\n",
      "Transcription for segment_160.wav: TASK TAGGER ENTITY ACTION INTENT WORKOUT EOS\n"
     ]
    },
    {
     "data": {
      "application/vnd.jupyter.widget-view+json": {
       "model_id": "3c28649fdbde4c54af741ade33236646",
       "version_major": 2,
       "version_minor": 0
      },
      "text/plain": [
       "Transcribing:   0%|          | 0/1 [00:00<?, ?it/s]"
      ]
     },
     "metadata": {},
     "output_type": "display_data"
    },
    {
     "name": "stdout",
     "output_type": "stream",
     "text": [
      "T1 T2 T237_T255  T237_T157   T239    T239. T111_T35_T209 T0\n",
      "Transcription for segment_307.wav: TASK TAGGER ENTITY ACTION ENTITY TYPE END T239. INTENT COOKING STEP EOS\n"
     ]
    },
    {
     "data": {
      "application/vnd.jupyter.widget-view+json": {
       "model_id": "776e8c456003439b9526cd656257db00",
       "version_major": 2,
       "version_minor": 0
      },
      "text/plain": [
       "Transcribing:   0%|          | 0/1 [00:00<?, ?it/s]"
      ]
     },
     "metadata": {},
     "output_type": "display_data"
    },
    {
     "ename": "KeyboardInterrupt",
     "evalue": "",
     "output_type": "error",
     "traceback": [
      "\u001b[0;31m---------------------------------------------------------------------------\u001b[0m",
      "\u001b[0;31mKeyboardInterrupt\u001b[0m                         Traceback (most recent call last)",
      "Cell \u001b[0;32mIn[89], line 6\u001b[0m\n\u001b[1;32m      4\u001b[0m \u001b[38;5;28;01mfor\u001b[39;00m segment_file \u001b[38;5;129;01min\u001b[39;00m os\u001b[38;5;241m.\u001b[39mlistdir(segments_folder):\n\u001b[1;32m      5\u001b[0m     segment_path \u001b[38;5;241m=\u001b[39m os\u001b[38;5;241m.\u001b[39mpath\u001b[38;5;241m.\u001b[39mjoin(segments_folder, segment_file)\n\u001b[0;32m----> 6\u001b[0m     \u001b[38;5;28mprint\u001b[39m(\u001b[38;5;124mf\u001b[39m\u001b[38;5;124m\"\u001b[39m\u001b[38;5;124mTranscription for \u001b[39m\u001b[38;5;132;01m{\u001b[39;00msegment_file\u001b[38;5;132;01m}\u001b[39;00m\u001b[38;5;124m: \u001b[39m\u001b[38;5;132;01m{\u001b[39;00mtranscribe(segment_path)\u001b[38;5;132;01m}\u001b[39;00m\u001b[38;5;124m\"\u001b[39m)\n",
      "Cell \u001b[0;32mIn[88], line 17\u001b[0m, in \u001b[0;36mtranscribe\u001b[0;34m(audio_file)\u001b[0m\n\u001b[1;32m     15\u001b[0m \u001b[38;5;66;03m# Perform transcription\u001b[39;00m\n\u001b[1;32m     16\u001b[0m \u001b[38;5;28;01mwith\u001b[39;00m torch\u001b[38;5;241m.\u001b[39mno_grad():\n\u001b[0;32m---> 17\u001b[0m     transcription \u001b[38;5;241m=\u001b[39m \u001b[43mmodel\u001b[49m\u001b[38;5;241;43m.\u001b[39;49m\u001b[43mtranscribe\u001b[49m\u001b[43m(\u001b[49m\u001b[43m[\u001b[49m\u001b[43maudio_file\u001b[49m\u001b[43m]\u001b[49m\u001b[43m)\u001b[49m[\u001b[38;5;241m0\u001b[39m]\n\u001b[1;32m     19\u001b[0m \u001b[38;5;66;03m# Map the tags to the corresponding words\u001b[39;00m\n\u001b[1;32m     20\u001b[0m \u001b[38;5;28mprint\u001b[39m(transcription)\n",
      "File \u001b[0;32m/external/anaconda3/envs/nemo/lib/python3.10/site-packages/torch/utils/_contextlib.py:115\u001b[0m, in \u001b[0;36mcontext_decorator.<locals>.decorate_context\u001b[0;34m(*args, **kwargs)\u001b[0m\n\u001b[1;32m    112\u001b[0m \u001b[38;5;129m@functools\u001b[39m\u001b[38;5;241m.\u001b[39mwraps(func)\n\u001b[1;32m    113\u001b[0m \u001b[38;5;28;01mdef\u001b[39;00m \u001b[38;5;21mdecorate_context\u001b[39m(\u001b[38;5;241m*\u001b[39margs, \u001b[38;5;241m*\u001b[39m\u001b[38;5;241m*\u001b[39mkwargs):\n\u001b[1;32m    114\u001b[0m     \u001b[38;5;28;01mwith\u001b[39;00m ctx_factory():\n\u001b[0;32m--> 115\u001b[0m         \u001b[38;5;28;01mreturn\u001b[39;00m \u001b[43mfunc\u001b[49m\u001b[43m(\u001b[49m\u001b[38;5;241;43m*\u001b[39;49m\u001b[43margs\u001b[49m\u001b[43m,\u001b[49m\u001b[43m \u001b[49m\u001b[38;5;241;43m*\u001b[39;49m\u001b[38;5;241;43m*\u001b[39;49m\u001b[43mkwargs\u001b[49m\u001b[43m)\u001b[49m\n",
      "File \u001b[0;32m/external/anaconda3/envs/nemo/lib/python3.10/site-packages/nemo/collections/asr/models/ctc_models.py:202\u001b[0m, in \u001b[0;36mEncDecCTCModel.transcribe\u001b[0;34m(self, paths2audio_files, batch_size, logprobs, return_hypotheses, num_workers, channel_selector, augmentor, verbose)\u001b[0m\n\u001b[1;32m    200\u001b[0m temporary_datalayer \u001b[38;5;241m=\u001b[39m \u001b[38;5;28mself\u001b[39m\u001b[38;5;241m.\u001b[39m_setup_transcribe_dataloader(config)\n\u001b[1;32m    201\u001b[0m \u001b[38;5;28;01mfor\u001b[39;00m test_batch \u001b[38;5;129;01min\u001b[39;00m tqdm(temporary_datalayer, desc\u001b[38;5;241m=\u001b[39m\u001b[38;5;124m\"\u001b[39m\u001b[38;5;124mTranscribing\u001b[39m\u001b[38;5;124m\"\u001b[39m, disable\u001b[38;5;241m=\u001b[39m\u001b[38;5;129;01mnot\u001b[39;00m verbose):\n\u001b[0;32m--> 202\u001b[0m     logits, logits_len, greedy_predictions \u001b[38;5;241m=\u001b[39m \u001b[38;5;28;43mself\u001b[39;49m\u001b[38;5;241;43m.\u001b[39;49m\u001b[43mforward\u001b[49m\u001b[43m(\u001b[49m\n\u001b[1;32m    203\u001b[0m \u001b[43m        \u001b[49m\u001b[43minput_signal\u001b[49m\u001b[38;5;241;43m=\u001b[39;49m\u001b[43mtest_batch\u001b[49m\u001b[43m[\u001b[49m\u001b[38;5;241;43m0\u001b[39;49m\u001b[43m]\u001b[49m\u001b[38;5;241;43m.\u001b[39;49m\u001b[43mto\u001b[49m\u001b[43m(\u001b[49m\u001b[43mdevice\u001b[49m\u001b[43m)\u001b[49m\u001b[43m,\u001b[49m\u001b[43m \u001b[49m\u001b[43minput_signal_length\u001b[49m\u001b[38;5;241;43m=\u001b[39;49m\u001b[43mtest_batch\u001b[49m\u001b[43m[\u001b[49m\u001b[38;5;241;43m1\u001b[39;49m\u001b[43m]\u001b[49m\u001b[38;5;241;43m.\u001b[39;49m\u001b[43mto\u001b[49m\u001b[43m(\u001b[49m\u001b[43mdevice\u001b[49m\u001b[43m)\u001b[49m\n\u001b[1;32m    204\u001b[0m \u001b[43m    \u001b[49m\u001b[43m)\u001b[49m\n\u001b[1;32m    206\u001b[0m     \u001b[38;5;28;01mif\u001b[39;00m logprobs:\n\u001b[1;32m    207\u001b[0m         \u001b[38;5;66;03m# dump log probs per file\u001b[39;00m\n\u001b[1;32m    208\u001b[0m         \u001b[38;5;28;01mfor\u001b[39;00m idx \u001b[38;5;129;01min\u001b[39;00m \u001b[38;5;28mrange\u001b[39m(logits\u001b[38;5;241m.\u001b[39mshape[\u001b[38;5;241m0\u001b[39m]):\n",
      "File \u001b[0;32m/external/anaconda3/envs/nemo/lib/python3.10/site-packages/nemo/core/classes/common.py:1098\u001b[0m, in \u001b[0;36mtypecheck.__call__\u001b[0;34m(self, wrapped, instance, args, kwargs)\u001b[0m\n\u001b[1;32m   1095\u001b[0m instance\u001b[38;5;241m.\u001b[39m_validate_input_types(input_types\u001b[38;5;241m=\u001b[39minput_types, ignore_collections\u001b[38;5;241m=\u001b[39m\u001b[38;5;28mself\u001b[39m\u001b[38;5;241m.\u001b[39mignore_collections, \u001b[38;5;241m*\u001b[39m\u001b[38;5;241m*\u001b[39mkwargs)\n\u001b[1;32m   1097\u001b[0m \u001b[38;5;66;03m# Call the method - this can be forward, or any other callable method\u001b[39;00m\n\u001b[0;32m-> 1098\u001b[0m outputs \u001b[38;5;241m=\u001b[39m \u001b[43mwrapped\u001b[49m\u001b[43m(\u001b[49m\u001b[38;5;241;43m*\u001b[39;49m\u001b[43margs\u001b[49m\u001b[43m,\u001b[49m\u001b[43m \u001b[49m\u001b[38;5;241;43m*\u001b[39;49m\u001b[38;5;241;43m*\u001b[39;49m\u001b[43mkwargs\u001b[49m\u001b[43m)\u001b[49m\n\u001b[1;32m   1100\u001b[0m instance\u001b[38;5;241m.\u001b[39m_attach_and_validate_output_types(\n\u001b[1;32m   1101\u001b[0m     output_types\u001b[38;5;241m=\u001b[39moutput_types, ignore_collections\u001b[38;5;241m=\u001b[39m\u001b[38;5;28mself\u001b[39m\u001b[38;5;241m.\u001b[39mignore_collections, out_objects\u001b[38;5;241m=\u001b[39moutputs\n\u001b[1;32m   1102\u001b[0m )\n\u001b[1;32m   1104\u001b[0m \u001b[38;5;28;01mreturn\u001b[39;00m outputs\n",
      "File \u001b[0;32m/external/anaconda3/envs/nemo/lib/python3.10/site-packages/nemo/collections/asr/models/ctc_models.py:564\u001b[0m, in \u001b[0;36mEncDecCTCModel.forward\u001b[0;34m(self, input_signal, input_signal_length, processed_signal, processed_signal_length)\u001b[0m\n\u001b[1;32m    561\u001b[0m \u001b[38;5;28;01mif\u001b[39;00m \u001b[38;5;28mself\u001b[39m\u001b[38;5;241m.\u001b[39mspec_augmentation \u001b[38;5;129;01mis\u001b[39;00m \u001b[38;5;129;01mnot\u001b[39;00m \u001b[38;5;28;01mNone\u001b[39;00m \u001b[38;5;129;01mand\u001b[39;00m \u001b[38;5;28mself\u001b[39m\u001b[38;5;241m.\u001b[39mtraining:\n\u001b[1;32m    562\u001b[0m     processed_signal \u001b[38;5;241m=\u001b[39m \u001b[38;5;28mself\u001b[39m\u001b[38;5;241m.\u001b[39mspec_augmentation(input_spec\u001b[38;5;241m=\u001b[39mprocessed_signal, length\u001b[38;5;241m=\u001b[39mprocessed_signal_length)\n\u001b[0;32m--> 564\u001b[0m encoder_output \u001b[38;5;241m=\u001b[39m \u001b[38;5;28;43mself\u001b[39;49m\u001b[38;5;241;43m.\u001b[39;49m\u001b[43mencoder\u001b[49m\u001b[43m(\u001b[49m\u001b[43maudio_signal\u001b[49m\u001b[38;5;241;43m=\u001b[39;49m\u001b[43mprocessed_signal\u001b[49m\u001b[43m,\u001b[49m\u001b[43m \u001b[49m\u001b[43mlength\u001b[49m\u001b[38;5;241;43m=\u001b[39;49m\u001b[43mprocessed_signal_length\u001b[49m\u001b[43m)\u001b[49m\n\u001b[1;32m    565\u001b[0m encoded \u001b[38;5;241m=\u001b[39m encoder_output[\u001b[38;5;241m0\u001b[39m]\n\u001b[1;32m    566\u001b[0m encoded_len \u001b[38;5;241m=\u001b[39m encoder_output[\u001b[38;5;241m1\u001b[39m]\n",
      "File \u001b[0;32m/external/anaconda3/envs/nemo/lib/python3.10/site-packages/torch/nn/modules/module.py:1532\u001b[0m, in \u001b[0;36mModule._wrapped_call_impl\u001b[0;34m(self, *args, **kwargs)\u001b[0m\n\u001b[1;32m   1530\u001b[0m     \u001b[38;5;28;01mreturn\u001b[39;00m \u001b[38;5;28mself\u001b[39m\u001b[38;5;241m.\u001b[39m_compiled_call_impl(\u001b[38;5;241m*\u001b[39margs, \u001b[38;5;241m*\u001b[39m\u001b[38;5;241m*\u001b[39mkwargs)  \u001b[38;5;66;03m# type: ignore[misc]\u001b[39;00m\n\u001b[1;32m   1531\u001b[0m \u001b[38;5;28;01melse\u001b[39;00m:\n\u001b[0;32m-> 1532\u001b[0m     \u001b[38;5;28;01mreturn\u001b[39;00m \u001b[38;5;28;43mself\u001b[39;49m\u001b[38;5;241;43m.\u001b[39;49m\u001b[43m_call_impl\u001b[49m\u001b[43m(\u001b[49m\u001b[38;5;241;43m*\u001b[39;49m\u001b[43margs\u001b[49m\u001b[43m,\u001b[49m\u001b[43m \u001b[49m\u001b[38;5;241;43m*\u001b[39;49m\u001b[38;5;241;43m*\u001b[39;49m\u001b[43mkwargs\u001b[49m\u001b[43m)\u001b[49m\n",
      "File \u001b[0;32m/external/anaconda3/envs/nemo/lib/python3.10/site-packages/torch/nn/modules/module.py:1541\u001b[0m, in \u001b[0;36mModule._call_impl\u001b[0;34m(self, *args, **kwargs)\u001b[0m\n\u001b[1;32m   1536\u001b[0m \u001b[38;5;66;03m# If we don't have any hooks, we want to skip the rest of the logic in\u001b[39;00m\n\u001b[1;32m   1537\u001b[0m \u001b[38;5;66;03m# this function, and just call forward.\u001b[39;00m\n\u001b[1;32m   1538\u001b[0m \u001b[38;5;28;01mif\u001b[39;00m \u001b[38;5;129;01mnot\u001b[39;00m (\u001b[38;5;28mself\u001b[39m\u001b[38;5;241m.\u001b[39m_backward_hooks \u001b[38;5;129;01mor\u001b[39;00m \u001b[38;5;28mself\u001b[39m\u001b[38;5;241m.\u001b[39m_backward_pre_hooks \u001b[38;5;129;01mor\u001b[39;00m \u001b[38;5;28mself\u001b[39m\u001b[38;5;241m.\u001b[39m_forward_hooks \u001b[38;5;129;01mor\u001b[39;00m \u001b[38;5;28mself\u001b[39m\u001b[38;5;241m.\u001b[39m_forward_pre_hooks\n\u001b[1;32m   1539\u001b[0m         \u001b[38;5;129;01mor\u001b[39;00m _global_backward_pre_hooks \u001b[38;5;129;01mor\u001b[39;00m _global_backward_hooks\n\u001b[1;32m   1540\u001b[0m         \u001b[38;5;129;01mor\u001b[39;00m _global_forward_hooks \u001b[38;5;129;01mor\u001b[39;00m _global_forward_pre_hooks):\n\u001b[0;32m-> 1541\u001b[0m     \u001b[38;5;28;01mreturn\u001b[39;00m \u001b[43mforward_call\u001b[49m\u001b[43m(\u001b[49m\u001b[38;5;241;43m*\u001b[39;49m\u001b[43margs\u001b[49m\u001b[43m,\u001b[49m\u001b[43m \u001b[49m\u001b[38;5;241;43m*\u001b[39;49m\u001b[38;5;241;43m*\u001b[39;49m\u001b[43mkwargs\u001b[49m\u001b[43m)\u001b[49m\n\u001b[1;32m   1543\u001b[0m \u001b[38;5;28;01mtry\u001b[39;00m:\n\u001b[1;32m   1544\u001b[0m     result \u001b[38;5;241m=\u001b[39m \u001b[38;5;28;01mNone\u001b[39;00m\n",
      "File \u001b[0;32m/external/anaconda3/envs/nemo/lib/python3.10/site-packages/nemo/core/classes/common.py:1098\u001b[0m, in \u001b[0;36mtypecheck.__call__\u001b[0;34m(self, wrapped, instance, args, kwargs)\u001b[0m\n\u001b[1;32m   1095\u001b[0m instance\u001b[38;5;241m.\u001b[39m_validate_input_types(input_types\u001b[38;5;241m=\u001b[39minput_types, ignore_collections\u001b[38;5;241m=\u001b[39m\u001b[38;5;28mself\u001b[39m\u001b[38;5;241m.\u001b[39mignore_collections, \u001b[38;5;241m*\u001b[39m\u001b[38;5;241m*\u001b[39mkwargs)\n\u001b[1;32m   1097\u001b[0m \u001b[38;5;66;03m# Call the method - this can be forward, or any other callable method\u001b[39;00m\n\u001b[0;32m-> 1098\u001b[0m outputs \u001b[38;5;241m=\u001b[39m \u001b[43mwrapped\u001b[49m\u001b[43m(\u001b[49m\u001b[38;5;241;43m*\u001b[39;49m\u001b[43margs\u001b[49m\u001b[43m,\u001b[49m\u001b[43m \u001b[49m\u001b[38;5;241;43m*\u001b[39;49m\u001b[38;5;241;43m*\u001b[39;49m\u001b[43mkwargs\u001b[49m\u001b[43m)\u001b[49m\n\u001b[1;32m   1100\u001b[0m instance\u001b[38;5;241m.\u001b[39m_attach_and_validate_output_types(\n\u001b[1;32m   1101\u001b[0m     output_types\u001b[38;5;241m=\u001b[39moutput_types, ignore_collections\u001b[38;5;241m=\u001b[39m\u001b[38;5;28mself\u001b[39m\u001b[38;5;241m.\u001b[39mignore_collections, out_objects\u001b[38;5;241m=\u001b[39moutputs\n\u001b[1;32m   1102\u001b[0m )\n\u001b[1;32m   1104\u001b[0m \u001b[38;5;28;01mreturn\u001b[39;00m outputs\n",
      "File \u001b[0;32m/external/anaconda3/envs/nemo/lib/python3.10/site-packages/nemo/collections/asr/modules/conformer_encoder.py:491\u001b[0m, in \u001b[0;36mConformerEncoder.forward\u001b[0;34m(self, audio_signal, length, cache_last_channel, cache_last_time, cache_last_channel_len)\u001b[0m\n\u001b[1;32m    487\u001b[0m \u001b[38;5;129m@typecheck\u001b[39m()\n\u001b[1;32m    488\u001b[0m \u001b[38;5;28;01mdef\u001b[39;00m \u001b[38;5;21mforward\u001b[39m(\n\u001b[1;32m    489\u001b[0m     \u001b[38;5;28mself\u001b[39m, audio_signal, length, cache_last_channel\u001b[38;5;241m=\u001b[39m\u001b[38;5;28;01mNone\u001b[39;00m, cache_last_time\u001b[38;5;241m=\u001b[39m\u001b[38;5;28;01mNone\u001b[39;00m, cache_last_channel_len\u001b[38;5;241m=\u001b[39m\u001b[38;5;28;01mNone\u001b[39;00m\n\u001b[1;32m    490\u001b[0m ):\n\u001b[0;32m--> 491\u001b[0m     \u001b[38;5;28;01mreturn\u001b[39;00m \u001b[38;5;28;43mself\u001b[39;49m\u001b[38;5;241;43m.\u001b[39;49m\u001b[43mforward_internal\u001b[49m\u001b[43m(\u001b[49m\n\u001b[1;32m    492\u001b[0m \u001b[43m        \u001b[49m\u001b[43maudio_signal\u001b[49m\u001b[43m,\u001b[49m\n\u001b[1;32m    493\u001b[0m \u001b[43m        \u001b[49m\u001b[43mlength\u001b[49m\u001b[43m,\u001b[49m\n\u001b[1;32m    494\u001b[0m \u001b[43m        \u001b[49m\u001b[43mcache_last_channel\u001b[49m\u001b[38;5;241;43m=\u001b[39;49m\u001b[43mcache_last_channel\u001b[49m\u001b[43m,\u001b[49m\n\u001b[1;32m    495\u001b[0m \u001b[43m        \u001b[49m\u001b[43mcache_last_time\u001b[49m\u001b[38;5;241;43m=\u001b[39;49m\u001b[43mcache_last_time\u001b[49m\u001b[43m,\u001b[49m\n\u001b[1;32m    496\u001b[0m \u001b[43m        \u001b[49m\u001b[43mcache_last_channel_len\u001b[49m\u001b[38;5;241;43m=\u001b[39;49m\u001b[43mcache_last_channel_len\u001b[49m\u001b[43m,\u001b[49m\n\u001b[1;32m    497\u001b[0m \u001b[43m    \u001b[49m\u001b[43m)\u001b[49m\n",
      "File \u001b[0;32m/external/anaconda3/envs/nemo/lib/python3.10/site-packages/nemo/collections/asr/modules/conformer_encoder.py:571\u001b[0m, in \u001b[0;36mConformerEncoder.forward_internal\u001b[0;34m(self, audio_signal, length, cache_last_channel, cache_last_time, cache_last_channel_len)\u001b[0m\n\u001b[1;32m    569\u001b[0m     cache_last_channel_cur \u001b[38;5;241m=\u001b[39m \u001b[38;5;28;01mNone\u001b[39;00m\n\u001b[1;32m    570\u001b[0m     cache_last_time_cur \u001b[38;5;241m=\u001b[39m \u001b[38;5;28;01mNone\u001b[39;00m\n\u001b[0;32m--> 571\u001b[0m audio_signal \u001b[38;5;241m=\u001b[39m \u001b[43mlayer\u001b[49m\u001b[43m(\u001b[49m\n\u001b[1;32m    572\u001b[0m \u001b[43m    \u001b[49m\u001b[43mx\u001b[49m\u001b[38;5;241;43m=\u001b[39;49m\u001b[43maudio_signal\u001b[49m\u001b[43m,\u001b[49m\n\u001b[1;32m    573\u001b[0m \u001b[43m    \u001b[49m\u001b[43matt_mask\u001b[49m\u001b[38;5;241;43m=\u001b[39;49m\u001b[43matt_mask\u001b[49m\u001b[43m,\u001b[49m\n\u001b[1;32m    574\u001b[0m \u001b[43m    \u001b[49m\u001b[43mpos_emb\u001b[49m\u001b[38;5;241;43m=\u001b[39;49m\u001b[43mpos_emb\u001b[49m\u001b[43m,\u001b[49m\n\u001b[1;32m    575\u001b[0m \u001b[43m    \u001b[49m\u001b[43mpad_mask\u001b[49m\u001b[38;5;241;43m=\u001b[39;49m\u001b[43mpad_mask\u001b[49m\u001b[43m,\u001b[49m\n\u001b[1;32m    576\u001b[0m \u001b[43m    \u001b[49m\u001b[43mcache_last_channel\u001b[49m\u001b[38;5;241;43m=\u001b[39;49m\u001b[43mcache_last_channel_cur\u001b[49m\u001b[43m,\u001b[49m\n\u001b[1;32m    577\u001b[0m \u001b[43m    \u001b[49m\u001b[43mcache_last_time\u001b[49m\u001b[38;5;241;43m=\u001b[39;49m\u001b[43mcache_last_time_cur\u001b[49m\u001b[43m,\u001b[49m\n\u001b[1;32m    578\u001b[0m \u001b[43m\u001b[49m\u001b[43m)\u001b[49m\n\u001b[1;32m    580\u001b[0m \u001b[38;5;28;01mif\u001b[39;00m cache_last_channel_cur \u001b[38;5;129;01mis\u001b[39;00m \u001b[38;5;129;01mnot\u001b[39;00m \u001b[38;5;28;01mNone\u001b[39;00m:\n\u001b[1;32m    581\u001b[0m     (audio_signal, cache_last_channel_cur, cache_last_time_cur) \u001b[38;5;241m=\u001b[39m audio_signal\n",
      "File \u001b[0;32m/external/anaconda3/envs/nemo/lib/python3.10/site-packages/torch/nn/modules/module.py:1532\u001b[0m, in \u001b[0;36mModule._wrapped_call_impl\u001b[0;34m(self, *args, **kwargs)\u001b[0m\n\u001b[1;32m   1530\u001b[0m     \u001b[38;5;28;01mreturn\u001b[39;00m \u001b[38;5;28mself\u001b[39m\u001b[38;5;241m.\u001b[39m_compiled_call_impl(\u001b[38;5;241m*\u001b[39margs, \u001b[38;5;241m*\u001b[39m\u001b[38;5;241m*\u001b[39mkwargs)  \u001b[38;5;66;03m# type: ignore[misc]\u001b[39;00m\n\u001b[1;32m   1531\u001b[0m \u001b[38;5;28;01melse\u001b[39;00m:\n\u001b[0;32m-> 1532\u001b[0m     \u001b[38;5;28;01mreturn\u001b[39;00m \u001b[38;5;28;43mself\u001b[39;49m\u001b[38;5;241;43m.\u001b[39;49m\u001b[43m_call_impl\u001b[49m\u001b[43m(\u001b[49m\u001b[38;5;241;43m*\u001b[39;49m\u001b[43margs\u001b[49m\u001b[43m,\u001b[49m\u001b[43m \u001b[49m\u001b[38;5;241;43m*\u001b[39;49m\u001b[38;5;241;43m*\u001b[39;49m\u001b[43mkwargs\u001b[49m\u001b[43m)\u001b[49m\n",
      "File \u001b[0;32m/external/anaconda3/envs/nemo/lib/python3.10/site-packages/torch/nn/modules/module.py:1541\u001b[0m, in \u001b[0;36mModule._call_impl\u001b[0;34m(self, *args, **kwargs)\u001b[0m\n\u001b[1;32m   1536\u001b[0m \u001b[38;5;66;03m# If we don't have any hooks, we want to skip the rest of the logic in\u001b[39;00m\n\u001b[1;32m   1537\u001b[0m \u001b[38;5;66;03m# this function, and just call forward.\u001b[39;00m\n\u001b[1;32m   1538\u001b[0m \u001b[38;5;28;01mif\u001b[39;00m \u001b[38;5;129;01mnot\u001b[39;00m (\u001b[38;5;28mself\u001b[39m\u001b[38;5;241m.\u001b[39m_backward_hooks \u001b[38;5;129;01mor\u001b[39;00m \u001b[38;5;28mself\u001b[39m\u001b[38;5;241m.\u001b[39m_backward_pre_hooks \u001b[38;5;129;01mor\u001b[39;00m \u001b[38;5;28mself\u001b[39m\u001b[38;5;241m.\u001b[39m_forward_hooks \u001b[38;5;129;01mor\u001b[39;00m \u001b[38;5;28mself\u001b[39m\u001b[38;5;241m.\u001b[39m_forward_pre_hooks\n\u001b[1;32m   1539\u001b[0m         \u001b[38;5;129;01mor\u001b[39;00m _global_backward_pre_hooks \u001b[38;5;129;01mor\u001b[39;00m _global_backward_hooks\n\u001b[1;32m   1540\u001b[0m         \u001b[38;5;129;01mor\u001b[39;00m _global_forward_hooks \u001b[38;5;129;01mor\u001b[39;00m _global_forward_pre_hooks):\n\u001b[0;32m-> 1541\u001b[0m     \u001b[38;5;28;01mreturn\u001b[39;00m \u001b[43mforward_call\u001b[49m\u001b[43m(\u001b[49m\u001b[38;5;241;43m*\u001b[39;49m\u001b[43margs\u001b[49m\u001b[43m,\u001b[49m\u001b[43m \u001b[49m\u001b[38;5;241;43m*\u001b[39;49m\u001b[38;5;241;43m*\u001b[39;49m\u001b[43mkwargs\u001b[49m\u001b[43m)\u001b[49m\n\u001b[1;32m   1543\u001b[0m \u001b[38;5;28;01mtry\u001b[39;00m:\n\u001b[1;32m   1544\u001b[0m     result \u001b[38;5;241m=\u001b[39m \u001b[38;5;28;01mNone\u001b[39;00m\n",
      "File \u001b[0;32m/external/anaconda3/envs/nemo/lib/python3.10/site-packages/nemo/collections/asr/parts/submodules/conformer_modules.py:187\u001b[0m, in \u001b[0;36mConformerLayer.forward\u001b[0;34m(self, x, att_mask, pos_emb, pad_mask, cache_last_channel, cache_last_time)\u001b[0m\n\u001b[1;32m    184\u001b[0m     residual \u001b[38;5;241m=\u001b[39m pack_ip[\u001b[38;5;124m'\u001b[39m\u001b[38;5;124mx\u001b[39m\u001b[38;5;124m'\u001b[39m]\n\u001b[1;32m    186\u001b[0m x \u001b[38;5;241m=\u001b[39m \u001b[38;5;28mself\u001b[39m\u001b[38;5;241m.\u001b[39mnorm_conv(residual)\n\u001b[0;32m--> 187\u001b[0m x \u001b[38;5;241m=\u001b[39m \u001b[38;5;28;43mself\u001b[39;49m\u001b[38;5;241;43m.\u001b[39;49m\u001b[43mconv\u001b[49m\u001b[43m(\u001b[49m\u001b[43mx\u001b[49m\u001b[43m,\u001b[49m\u001b[43m \u001b[49m\u001b[43mpad_mask\u001b[49m\u001b[38;5;241;43m=\u001b[39;49m\u001b[43mpad_mask\u001b[49m\u001b[43m,\u001b[49m\u001b[43m \u001b[49m\u001b[43mcache\u001b[49m\u001b[38;5;241;43m=\u001b[39;49m\u001b[43mcache_last_time\u001b[49m\u001b[43m)\u001b[49m\n\u001b[1;32m    188\u001b[0m \u001b[38;5;28;01mif\u001b[39;00m cache_last_time \u001b[38;5;129;01mis\u001b[39;00m \u001b[38;5;129;01mnot\u001b[39;00m \u001b[38;5;28;01mNone\u001b[39;00m:\n\u001b[1;32m    189\u001b[0m     (x, cache_last_time) \u001b[38;5;241m=\u001b[39m x\n",
      "File \u001b[0;32m/external/anaconda3/envs/nemo/lib/python3.10/site-packages/torch/nn/modules/module.py:1532\u001b[0m, in \u001b[0;36mModule._wrapped_call_impl\u001b[0;34m(self, *args, **kwargs)\u001b[0m\n\u001b[1;32m   1530\u001b[0m     \u001b[38;5;28;01mreturn\u001b[39;00m \u001b[38;5;28mself\u001b[39m\u001b[38;5;241m.\u001b[39m_compiled_call_impl(\u001b[38;5;241m*\u001b[39margs, \u001b[38;5;241m*\u001b[39m\u001b[38;5;241m*\u001b[39mkwargs)  \u001b[38;5;66;03m# type: ignore[misc]\u001b[39;00m\n\u001b[1;32m   1531\u001b[0m \u001b[38;5;28;01melse\u001b[39;00m:\n\u001b[0;32m-> 1532\u001b[0m     \u001b[38;5;28;01mreturn\u001b[39;00m \u001b[38;5;28;43mself\u001b[39;49m\u001b[38;5;241;43m.\u001b[39;49m\u001b[43m_call_impl\u001b[49m\u001b[43m(\u001b[49m\u001b[38;5;241;43m*\u001b[39;49m\u001b[43margs\u001b[49m\u001b[43m,\u001b[49m\u001b[43m \u001b[49m\u001b[38;5;241;43m*\u001b[39;49m\u001b[38;5;241;43m*\u001b[39;49m\u001b[43mkwargs\u001b[49m\u001b[43m)\u001b[49m\n",
      "File \u001b[0;32m/external/anaconda3/envs/nemo/lib/python3.10/site-packages/torch/nn/modules/module.py:1541\u001b[0m, in \u001b[0;36mModule._call_impl\u001b[0;34m(self, *args, **kwargs)\u001b[0m\n\u001b[1;32m   1536\u001b[0m \u001b[38;5;66;03m# If we don't have any hooks, we want to skip the rest of the logic in\u001b[39;00m\n\u001b[1;32m   1537\u001b[0m \u001b[38;5;66;03m# this function, and just call forward.\u001b[39;00m\n\u001b[1;32m   1538\u001b[0m \u001b[38;5;28;01mif\u001b[39;00m \u001b[38;5;129;01mnot\u001b[39;00m (\u001b[38;5;28mself\u001b[39m\u001b[38;5;241m.\u001b[39m_backward_hooks \u001b[38;5;129;01mor\u001b[39;00m \u001b[38;5;28mself\u001b[39m\u001b[38;5;241m.\u001b[39m_backward_pre_hooks \u001b[38;5;129;01mor\u001b[39;00m \u001b[38;5;28mself\u001b[39m\u001b[38;5;241m.\u001b[39m_forward_hooks \u001b[38;5;129;01mor\u001b[39;00m \u001b[38;5;28mself\u001b[39m\u001b[38;5;241m.\u001b[39m_forward_pre_hooks\n\u001b[1;32m   1539\u001b[0m         \u001b[38;5;129;01mor\u001b[39;00m _global_backward_pre_hooks \u001b[38;5;129;01mor\u001b[39;00m _global_backward_hooks\n\u001b[1;32m   1540\u001b[0m         \u001b[38;5;129;01mor\u001b[39;00m _global_forward_hooks \u001b[38;5;129;01mor\u001b[39;00m _global_forward_pre_hooks):\n\u001b[0;32m-> 1541\u001b[0m     \u001b[38;5;28;01mreturn\u001b[39;00m \u001b[43mforward_call\u001b[49m\u001b[43m(\u001b[49m\u001b[38;5;241;43m*\u001b[39;49m\u001b[43margs\u001b[49m\u001b[43m,\u001b[49m\u001b[43m \u001b[49m\u001b[38;5;241;43m*\u001b[39;49m\u001b[38;5;241;43m*\u001b[39;49m\u001b[43mkwargs\u001b[49m\u001b[43m)\u001b[49m\n\u001b[1;32m   1543\u001b[0m \u001b[38;5;28;01mtry\u001b[39;00m:\n\u001b[1;32m   1544\u001b[0m     result \u001b[38;5;241m=\u001b[39m \u001b[38;5;28;01mNone\u001b[39;00m\n",
      "File \u001b[0;32m/external/anaconda3/envs/nemo/lib/python3.10/site-packages/nemo/collections/asr/parts/submodules/conformer_modules.py:351\u001b[0m, in \u001b[0;36mConformerConvolution.forward\u001b[0;34m(self, x, pad_mask, cache)\u001b[0m\n\u001b[1;32m    348\u001b[0m \u001b[38;5;28;01mif\u001b[39;00m pad_mask \u001b[38;5;129;01mis\u001b[39;00m \u001b[38;5;129;01mnot\u001b[39;00m \u001b[38;5;28;01mNone\u001b[39;00m:\n\u001b[1;32m    349\u001b[0m     x \u001b[38;5;241m=\u001b[39m x\u001b[38;5;241m.\u001b[39mfloat()\u001b[38;5;241m.\u001b[39mmasked_fill(pad_mask\u001b[38;5;241m.\u001b[39munsqueeze(\u001b[38;5;241m1\u001b[39m), \u001b[38;5;241m0.0\u001b[39m)\n\u001b[0;32m--> 351\u001b[0m x \u001b[38;5;241m=\u001b[39m \u001b[38;5;28;43mself\u001b[39;49m\u001b[38;5;241;43m.\u001b[39;49m\u001b[43mdepthwise_conv\u001b[49m\u001b[43m(\u001b[49m\u001b[43mx\u001b[49m\u001b[43m,\u001b[49m\u001b[43m \u001b[49m\u001b[43mcache\u001b[49m\u001b[38;5;241;43m=\u001b[39;49m\u001b[43mcache\u001b[49m\u001b[43m)\u001b[49m\n\u001b[1;32m    352\u001b[0m \u001b[38;5;28;01mif\u001b[39;00m cache \u001b[38;5;129;01mis\u001b[39;00m \u001b[38;5;129;01mnot\u001b[39;00m \u001b[38;5;28;01mNone\u001b[39;00m:\n\u001b[1;32m    353\u001b[0m     x, cache \u001b[38;5;241m=\u001b[39m x\n",
      "File \u001b[0;32m/external/anaconda3/envs/nemo/lib/python3.10/site-packages/torch/nn/modules/module.py:1532\u001b[0m, in \u001b[0;36mModule._wrapped_call_impl\u001b[0;34m(self, *args, **kwargs)\u001b[0m\n\u001b[1;32m   1530\u001b[0m     \u001b[38;5;28;01mreturn\u001b[39;00m \u001b[38;5;28mself\u001b[39m\u001b[38;5;241m.\u001b[39m_compiled_call_impl(\u001b[38;5;241m*\u001b[39margs, \u001b[38;5;241m*\u001b[39m\u001b[38;5;241m*\u001b[39mkwargs)  \u001b[38;5;66;03m# type: ignore[misc]\u001b[39;00m\n\u001b[1;32m   1531\u001b[0m \u001b[38;5;28;01melse\u001b[39;00m:\n\u001b[0;32m-> 1532\u001b[0m     \u001b[38;5;28;01mreturn\u001b[39;00m \u001b[38;5;28;43mself\u001b[39;49m\u001b[38;5;241;43m.\u001b[39;49m\u001b[43m_call_impl\u001b[49m\u001b[43m(\u001b[49m\u001b[38;5;241;43m*\u001b[39;49m\u001b[43margs\u001b[49m\u001b[43m,\u001b[49m\u001b[43m \u001b[49m\u001b[38;5;241;43m*\u001b[39;49m\u001b[38;5;241;43m*\u001b[39;49m\u001b[43mkwargs\u001b[49m\u001b[43m)\u001b[49m\n",
      "File \u001b[0;32m/external/anaconda3/envs/nemo/lib/python3.10/site-packages/torch/nn/modules/module.py:1541\u001b[0m, in \u001b[0;36mModule._call_impl\u001b[0;34m(self, *args, **kwargs)\u001b[0m\n\u001b[1;32m   1536\u001b[0m \u001b[38;5;66;03m# If we don't have any hooks, we want to skip the rest of the logic in\u001b[39;00m\n\u001b[1;32m   1537\u001b[0m \u001b[38;5;66;03m# this function, and just call forward.\u001b[39;00m\n\u001b[1;32m   1538\u001b[0m \u001b[38;5;28;01mif\u001b[39;00m \u001b[38;5;129;01mnot\u001b[39;00m (\u001b[38;5;28mself\u001b[39m\u001b[38;5;241m.\u001b[39m_backward_hooks \u001b[38;5;129;01mor\u001b[39;00m \u001b[38;5;28mself\u001b[39m\u001b[38;5;241m.\u001b[39m_backward_pre_hooks \u001b[38;5;129;01mor\u001b[39;00m \u001b[38;5;28mself\u001b[39m\u001b[38;5;241m.\u001b[39m_forward_hooks \u001b[38;5;129;01mor\u001b[39;00m \u001b[38;5;28mself\u001b[39m\u001b[38;5;241m.\u001b[39m_forward_pre_hooks\n\u001b[1;32m   1539\u001b[0m         \u001b[38;5;129;01mor\u001b[39;00m _global_backward_pre_hooks \u001b[38;5;129;01mor\u001b[39;00m _global_backward_hooks\n\u001b[1;32m   1540\u001b[0m         \u001b[38;5;129;01mor\u001b[39;00m _global_forward_hooks \u001b[38;5;129;01mor\u001b[39;00m _global_forward_pre_hooks):\n\u001b[0;32m-> 1541\u001b[0m     \u001b[38;5;28;01mreturn\u001b[39;00m \u001b[43mforward_call\u001b[49m\u001b[43m(\u001b[49m\u001b[38;5;241;43m*\u001b[39;49m\u001b[43margs\u001b[49m\u001b[43m,\u001b[49m\u001b[43m \u001b[49m\u001b[38;5;241;43m*\u001b[39;49m\u001b[38;5;241;43m*\u001b[39;49m\u001b[43mkwargs\u001b[49m\u001b[43m)\u001b[49m\n\u001b[1;32m   1543\u001b[0m \u001b[38;5;28;01mtry\u001b[39;00m:\n\u001b[1;32m   1544\u001b[0m     result \u001b[38;5;241m=\u001b[39m \u001b[38;5;28;01mNone\u001b[39;00m\n",
      "File \u001b[0;32m/external/anaconda3/envs/nemo/lib/python3.10/site-packages/nemo/collections/asr/parts/submodules/causal_convs.py:145\u001b[0m, in \u001b[0;36mCausalConv1D.forward\u001b[0;34m(self, x, cache)\u001b[0m\n\u001b[1;32m    144\u001b[0m \u001b[38;5;28;01mdef\u001b[39;00m \u001b[38;5;21mforward\u001b[39m(\u001b[38;5;28mself\u001b[39m, x, cache\u001b[38;5;241m=\u001b[39m\u001b[38;5;28;01mNone\u001b[39;00m):\n\u001b[0;32m--> 145\u001b[0m     x, cache \u001b[38;5;241m=\u001b[39m \u001b[38;5;28;43mself\u001b[39;49m\u001b[38;5;241;43m.\u001b[39;49m\u001b[43mupdate_cache\u001b[49m\u001b[43m(\u001b[49m\u001b[43mx\u001b[49m\u001b[43m,\u001b[49m\u001b[43m \u001b[49m\u001b[43mcache\u001b[49m\u001b[38;5;241;43m=\u001b[39;49m\u001b[43mcache\u001b[49m\u001b[43m)\u001b[49m\n\u001b[1;32m    146\u001b[0m     x \u001b[38;5;241m=\u001b[39m \u001b[38;5;28msuper\u001b[39m()\u001b[38;5;241m.\u001b[39mforward(x)\n\u001b[1;32m    147\u001b[0m     \u001b[38;5;28;01mif\u001b[39;00m cache \u001b[38;5;129;01mis\u001b[39;00m \u001b[38;5;28;01mNone\u001b[39;00m:\n",
      "File \u001b[0;32m/external/anaconda3/envs/nemo/lib/python3.10/site-packages/nemo/collections/asr/parts/submodules/causal_convs.py:132\u001b[0m, in \u001b[0;36mCausalConv1D.update_cache\u001b[0;34m(self, x, cache)\u001b[0m\n\u001b[1;32m    130\u001b[0m \u001b[38;5;28;01mdef\u001b[39;00m \u001b[38;5;21mupdate_cache\u001b[39m(\u001b[38;5;28mself\u001b[39m, x, cache\u001b[38;5;241m=\u001b[39m\u001b[38;5;28;01mNone\u001b[39;00m):\n\u001b[1;32m    131\u001b[0m     \u001b[38;5;28;01mif\u001b[39;00m cache \u001b[38;5;129;01mis\u001b[39;00m \u001b[38;5;28;01mNone\u001b[39;00m:\n\u001b[0;32m--> 132\u001b[0m         new_x \u001b[38;5;241m=\u001b[39m \u001b[43mF\u001b[49m\u001b[38;5;241;43m.\u001b[39;49m\u001b[43mpad\u001b[49m\u001b[43m(\u001b[49m\u001b[43mx\u001b[49m\u001b[43m,\u001b[49m\u001b[43m \u001b[49m\u001b[43mpad\u001b[49m\u001b[38;5;241;43m=\u001b[39;49m\u001b[43m(\u001b[49m\u001b[38;5;28;43mself\u001b[39;49m\u001b[38;5;241;43m.\u001b[39;49m\u001b[43m_left_padding\u001b[49m\u001b[43m,\u001b[49m\u001b[43m \u001b[49m\u001b[38;5;28;43mself\u001b[39;49m\u001b[38;5;241;43m.\u001b[39;49m\u001b[43m_right_padding\u001b[49m\u001b[43m)\u001b[49m\u001b[43m)\u001b[49m\n\u001b[1;32m    133\u001b[0m         next_cache \u001b[38;5;241m=\u001b[39m cache\n\u001b[1;32m    134\u001b[0m     \u001b[38;5;28;01melse\u001b[39;00m:\n",
      "File \u001b[0;32m/external/anaconda3/envs/nemo/lib/python3.10/site-packages/torch/nn/functional.py:4522\u001b[0m, in \u001b[0;36mpad\u001b[0;34m(input, pad, mode, value)\u001b[0m\n\u001b[1;32m   4515\u001b[0m         \u001b[38;5;28;01mif\u001b[39;00m mode \u001b[38;5;241m==\u001b[39m \u001b[38;5;124m'\u001b[39m\u001b[38;5;124mreplicate\u001b[39m\u001b[38;5;124m'\u001b[39m:\n\u001b[1;32m   4516\u001b[0m             \u001b[38;5;66;03m# Use slow decomp whose backward will be in terms of index_put.\u001b[39;00m\n\u001b[1;32m   4517\u001b[0m             \u001b[38;5;66;03m# importlib is required because the import cannot be top level\u001b[39;00m\n\u001b[1;32m   4518\u001b[0m             \u001b[38;5;66;03m# (cycle) and cannot be nested (TS doesn't support)\u001b[39;00m\n\u001b[1;32m   4519\u001b[0m             \u001b[38;5;28;01mreturn\u001b[39;00m importlib\u001b[38;5;241m.\u001b[39mimport_module(\u001b[38;5;124m'\u001b[39m\u001b[38;5;124mtorch._decomp.decompositions\u001b[39m\u001b[38;5;124m'\u001b[39m)\u001b[38;5;241m.\u001b[39m_replication_pad(\n\u001b[1;32m   4520\u001b[0m                 \u001b[38;5;28minput\u001b[39m, pad\n\u001b[1;32m   4521\u001b[0m             )\n\u001b[0;32m-> 4522\u001b[0m \u001b[38;5;28;01mreturn\u001b[39;00m \u001b[43mtorch\u001b[49m\u001b[38;5;241;43m.\u001b[39;49m\u001b[43m_C\u001b[49m\u001b[38;5;241;43m.\u001b[39;49m\u001b[43m_nn\u001b[49m\u001b[38;5;241;43m.\u001b[39;49m\u001b[43mpad\u001b[49m\u001b[43m(\u001b[49m\u001b[38;5;28;43minput\u001b[39;49m\u001b[43m,\u001b[49m\u001b[43m \u001b[49m\u001b[43mpad\u001b[49m\u001b[43m,\u001b[49m\u001b[43m \u001b[49m\u001b[43mmode\u001b[49m\u001b[43m,\u001b[49m\u001b[43m \u001b[49m\u001b[43mvalue\u001b[49m\u001b[43m)\u001b[49m\n",
      "\u001b[0;31mKeyboardInterrupt\u001b[0m: "
     ]
    }
   ],
   "source": [
    "import torchaudio\n",
    "\n",
    "segments_folder = \"/external2/datasets/soccer/final_chunks/\"\n",
    "for segment_file in os.listdir(segments_folder):\n",
    "    segment_path = os.path.join(segments_folder, segment_file)\n",
    "    print(f\"Transcription for {segment_file}: {transcribe(segment_path)}\")\n",
    "# Transcribe your audio file\n",
    "# audio_file = '/external2/datasets/LibriSpeech/test-converted-wav/1089-134686-0018.wav'\n",
    "# print(f\"Transcription: {transcribe(audio_file)}\")"
   ]
  },
  {
   "cell_type": "markdown",
   "metadata": {},
   "source": [
    "# Streaming with CTC based models\n",
    "Now let's try to transcribe the long audio file created above using a conformer-large model."
   ]
  },
  {
   "cell_type": "code",
   "execution_count": 25,
   "metadata": {},
   "outputs": [],
   "source": [
    "import torch\n",
    "import nemo.collections.asr as nemo_asr\n",
    "import contextlib\n",
    "import gc"
   ]
  },
  {
   "cell_type": "code",
   "execution_count": 26,
   "metadata": {},
   "outputs": [],
   "source": [
    "device = 'cpu'"
   ]
  },
  {
   "cell_type": "markdown",
   "metadata": {},
   "source": [
    "We are mainly concerned about decoding on the GPU in this tutorial. CPU decoding may be able to handle longer files but would also not be as fast as GPU decoding. Let's check if we can run transcribe() on the long audio file that we created above."
   ]
  },
  {
   "cell_type": "code",
   "execution_count": 55,
   "metadata": {},
   "outputs": [
    {
     "name": "stdout",
     "output_type": "stream",
     "text": [
      "[NeMo I 2024-07-22 17:17:33 mixins:172] Tokenizer SentencePieceTokenizer initialized with 2500 tokens\n"
     ]
    },
    {
     "name": "stderr",
     "output_type": "stream",
     "text": [
      "[NeMo W 2024-07-22 17:17:33 modelPT:165] If you intend to do training or fine-tuning, please call the ModelPT.setup_training_data() method and provide a valid configuration file to setup the train data loader.\n",
      "    Train config : \n",
      "    manifest_filepath: /external2/datasets/text/synthetic/processed_r3/train.json\n",
      "    sample_rate: 16000\n",
      "    batch_size: 16\n",
      "    shuffle: true\n",
      "    num_workers: 8\n",
      "    pin_memory: true\n",
      "    use_start_end_token: false\n",
      "    trim_silence: false\n",
      "    max_duration: 20.0\n",
      "    min_duration: 0.1\n",
      "    shuffle_n: 2048\n",
      "    is_tarred: false\n",
      "    tarred_audio_filepaths: null\n",
      "    \n",
      "[NeMo W 2024-07-22 17:17:33 modelPT:172] If you intend to do validation, please call the ModelPT.setup_validation_data() or ModelPT.setup_multiple_validation_data() method and provide a valid configuration file to setup the validation data loader(s). \n",
      "    Validation config : \n",
      "    manifest_filepath: /external2/datasets/text/synthetic/processed_r3/valid.json\n",
      "    sample_rate: 16000\n",
      "    batch_size: 16\n",
      "    shuffle: false\n",
      "    num_workers: 8\n",
      "    pin_memory: true\n",
      "    use_start_end_token: false\n",
      "    is_tarred: false\n",
      "    tarred_audio_filepaths: na\n",
      "    \n",
      "[NeMo W 2024-07-22 17:17:33 modelPT:178] Please call the ModelPT.setup_test_data() or ModelPT.setup_multiple_test_data() method and provide a valid configuration file to setup the test data loader(s).\n",
      "    Test config : \n",
      "    manifest_filepath: /external2/datasets/text/synthetic/processed_r3/valid.json\n",
      "    sample_rate: 16000\n",
      "    batch_size: 16\n",
      "    shuffle: false\n",
      "    num_workers: 8\n",
      "    pin_memory: true\n",
      "    use_start_end_token: false\n",
      "    is_tarred: false\n",
      "    tarred_audio_filepaths: na\n",
      "    \n"
     ]
    },
    {
     "name": "stdout",
     "output_type": "stream",
     "text": [
      "[NeMo I 2024-07-22 17:17:33 features:289] PADDING: 0\n",
      "[NeMo I 2024-07-22 17:17:35 save_restore_connector:249] Model EncDecCTCModelBPE was successfully restored from /external2/karan_exp/experiments/finetune-alllang-130k-ctc-r3/2024-07-22_01-37-14/checkpoints/finetune-alllang-130k-ctc-r3.nemo.\n"
     ]
    }
   ],
   "source": [
    "# Clear up memory\n",
    "torch.cuda.empty_cache()\n",
    "gc.collect()\n",
    "map_location = torch.device('cpu')\n",
    "\n",
    "model = nemo_asr.models.ASRModel.restore_from(\"/external2/karan_exp/experiments/finetune-alllang-130k-ctc-r3/2024-07-22_01-37-14/checkpoints/finetune-alllang-130k-ctc-r3.nemo\", map_location=map_location)\n",
    "# device = 'cpu'  # You can transcribe even longer samples on the CPU, though it will take much longer !\n",
    "model = model.to(device)"
   ]
  },
  {
   "cell_type": "markdown",
   "metadata": {},
   "source": [
    "The call to transcribe() below should fail with a \"CUDA out of memory\" error when run on a GPU with 32 GB memory."
   ]
  },
  {
   "cell_type": "markdown",
   "metadata": {},
   "source": [
    "# Buffer mechanism for streaming long audio files\n",
    "One way to transcribe long audio with a Conformer-CTC model would be to split the audio into consecutive smaller chunks and running inference on each chunk. Care should be taken to have enough context for audio at either edges for accurate transcription. Let's introduce some terminology here to help us navigate the rest of this tutorial. \n",
    "\n",
    "* Buffer size is the length of audio on which inference is run\n",
    "* Chunk size is the length of new audio that is added to the buffer.\n",
    "\n",
    "An audio buffer is made up of a chunk of audio with some padded audio from previous chunk. In order to make the best predictions with enough context for the beginning and end portions of the buffer, we only collect tokens for the middle portion of the buffer of length equal to the size of each chunk.  \n",
    "\n",
    "Let's suppose that the maximum length of audio that can be transcribed with conformer-large model is 20s, then we can use 20s as the buffer size and use 15s (for example) as the chunk size, so one hour of audio is broken into 240 chunks of 15s each. Let's take a look at a few audio buffers that may be created for this audio."
   ]
  },
  {
   "cell_type": "code",
   "execution_count": 28,
   "metadata": {},
   "outputs": [],
   "source": [
    "# A simple iterator class to return successive chunks of samples\n",
    "class AudioChunkIterator():\n",
    "    def __init__(self, samples, frame_len, sample_rate):\n",
    "        self._samples = samples\n",
    "        self._chunk_len = chunk_len_in_secs*sample_rate\n",
    "        self._start = 0\n",
    "        self.output=True\n",
    "   \n",
    "    def __iter__(self):\n",
    "        return self\n",
    "    \n",
    "    def __next__(self):\n",
    "        if not self.output:\n",
    "            raise StopIteration\n",
    "        last = int(self._start + self._chunk_len)\n",
    "        if last <= len(self._samples):\n",
    "            chunk = self._samples[self._start: last]\n",
    "            self._start = last\n",
    "        else:\n",
    "            chunk = np.zeros([int(self._chunk_len)], dtype='float32')\n",
    "            samp_len = len(self._samples) - self._start\n",
    "            chunk[0:samp_len] = self._samples[self._start:len(self._samples)]\n",
    "            self.output = False\n",
    "   \n",
    "        return chunk"
   ]
  },
  {
   "cell_type": "code",
   "execution_count": 38,
   "metadata": {},
   "outputs": [],
   "source": [
    "# a helper function for extracting samples as a numpy array from the audio file\n",
    "import soundfile as sf\n",
    "def get_samples(audio_file, target_sr=16000):\n",
    "    with sf.SoundFile(audio_file, 'r') as f:\n",
    "        sample_rate = f.samplerate\n",
    "        samples = f.read()\n",
    "        if sample_rate != target_sr:\n",
    "            samples = librosa.core.resample(samples, orig_sr=sample_rate, target_sr=target_sr)\n",
    "        samples = samples.transpose()\n",
    "        return samples\n"
   ]
  },
  {
   "cell_type": "markdown",
   "metadata": {},
   "source": [
    "Let's take a look at each chunk of speech that is used for decoding."
   ]
  },
  {
   "cell_type": "code",
   "execution_count": 70,
   "metadata": {},
   "outputs": [],
   "source": [
    "import matplotlib.pyplot as plt\n",
    "samples = get_samples(concat_audio_path)\n",
    "sample_rate  = model.preprocessor._cfg['sample_rate'] \n",
    "chunk_len_in_secs = 4           \n",
    "chunk_reader = AudioChunkIterator(samples, chunk_len_in_secs, sample_rate)\n",
    "count = 0\n",
    "for chunk in chunk_reader:\n",
    "    count +=1\n",
    "    #plt.plot(chunk)\n",
    "    #plt.show()\n",
    "    if count >= 100:\n",
    "        break\n"
   ]
  },
  {
   "cell_type": "markdown",
   "metadata": {},
   "source": [
    "Now, let's plot the actual buffers at each stage after a new chunk is added to the buffer. Audio buffer can be thought of as a fixed size queue with each incoming chunk added at the end of the buffer and the oldest samples removed from the beginning."
   ]
  },
  {
   "cell_type": "code",
   "execution_count": 71,
   "metadata": {},
   "outputs": [],
   "source": [
    "import numpy as np\n",
    "context_len_in_secs = 5\n",
    "\n",
    "buffer_len_in_secs = chunk_len_in_secs + 2* context_len_in_secs\n",
    "\n",
    "buffer_len = sample_rate*buffer_len_in_secs\n",
    "sampbuffer = np.zeros([buffer_len], dtype=np.float32)\n",
    "\n",
    "chunk_reader = AudioChunkIterator(samples, chunk_len_in_secs, sample_rate)\n",
    "chunk_len = sample_rate*chunk_len_in_secs\n",
    "count = 0\n",
    "for chunk in chunk_reader:\n",
    "    count +=1\n",
    "    sampbuffer[:-chunk_len] = sampbuffer[chunk_len:]\n",
    "    sampbuffer[-chunk_len:] = chunk\n",
    "    #plt.plot(sampbuffer)\n",
    "    #plt.show()\n",
    "    if count >= 100:\n",
    "        break"
   ]
  },
  {
   "cell_type": "markdown",
   "metadata": {},
   "source": [
    "Now that we have a method to split the long audio into smaller chunks, we can now work on transcribing the individual buffers and merging the outputs to get the transcription of the whole audio.\n",
    "First, we implement some helper functions to help load the buffers into the data layer."
   ]
  },
  {
   "cell_type": "code",
   "execution_count": 42,
   "metadata": {},
   "outputs": [],
   "source": [
    "from nemo.core.classes import IterableDataset\n",
    "\n",
    "def speech_collate_fn(batch):\n",
    "    \"\"\"collate batch of audio sig, audio len\n",
    "    Args:\n",
    "        batch (FloatTensor, LongTensor):  A tuple of tuples of signal, signal lengths.\n",
    "        This collate func assumes the signals are 1d torch tensors (i.e. mono audio).\n",
    "    \"\"\"\n",
    "\n",
    "    _, audio_lengths = zip(*batch)\n",
    "\n",
    "    max_audio_len = 0\n",
    "    has_audio = audio_lengths[0] is not None\n",
    "    if has_audio:\n",
    "        max_audio_len = max(audio_lengths).item()\n",
    "   \n",
    "    \n",
    "    audio_signal= []\n",
    "    for sig, sig_len in batch:\n",
    "        if has_audio:\n",
    "            sig_len = sig_len.item()\n",
    "            if sig_len < max_audio_len:\n",
    "                pad = (0, max_audio_len - sig_len)\n",
    "                sig = torch.nn.functional.pad(sig, pad)\n",
    "            audio_signal.append(sig)\n",
    "        \n",
    "    if has_audio:\n",
    "        audio_signal = torch.stack(audio_signal)\n",
    "        audio_lengths = torch.stack(audio_lengths)\n",
    "    else:\n",
    "        audio_signal, audio_lengths = None, None\n",
    "\n",
    "    return audio_signal, audio_lengths\n",
    "\n",
    "# simple data layer to pass audio signal\n",
    "class AudioBuffersDataLayer(IterableDataset):\n",
    "    \n",
    "\n",
    "    def __init__(self):\n",
    "        super().__init__()\n",
    "\n",
    "        \n",
    "    def __iter__(self):\n",
    "        return self\n",
    "    \n",
    "    def __next__(self):\n",
    "        if self._buf_count == len(self.signal) :\n",
    "            raise StopIteration\n",
    "        self._buf_count +=1\n",
    "        return torch.as_tensor(self.signal[self._buf_count-1], dtype=torch.float32), \\\n",
    "               torch.as_tensor(self.signal_shape[0], dtype=torch.int64)\n",
    "        \n",
    "    def set_signal(self, signals):\n",
    "        self.signal = signals\n",
    "        self.signal_shape = self.signal[0].shape\n",
    "        self._buf_count = 0\n",
    "\n",
    "    def __len__(self):\n",
    "        return 1\n",
    "    "
   ]
  },
  {
   "cell_type": "markdown",
   "metadata": {},
   "source": [
    "Next we implement a class that implements transcribing audio buffers and merging the tokens corresponding to a chunk of audio within each buffer. \n",
    "\n",
    "For each buffer, we pick tokens corresponding to one chunk length of audio. The chunk within each buffer is chosen such that there is equal left and right context available to the audio within the chunk.\n",
    "\n",
    "For example, if the chunk size is 1s and buffer size is 3s, we collect tokens corresponding to audio starting from 1s to 2s within each buffer. Conformer-CTC models have a model stride of 4, i.e., a token is produced for every 4 feature vectors in the time domain. MelSpectrogram features are generated once every 10 ms, so a token is produced for every 40 ms of audio.\n",
    "\n",
    "**Note:** The inherent assumption here is that the output tokens from the model are well aligned with corresponding audio segments. This may not always be true for models trained with CTC loss, so this method of streaming inference may not always work with CTC based models. "
   ]
  },
  {
   "cell_type": "code",
   "execution_count": 43,
   "metadata": {},
   "outputs": [],
   "source": [
    "import torch\n",
    "import math\n",
    "import matplotlib.pyplot as plt\n",
    "import cv2\n",
    "import numpy as np\n",
    "from torch.utils.data import DataLoader\n",
    "\n",
    "\n",
    "class ChunkBufferDecoder:\n",
    "\n",
    "    def __init__(self, asr_model, stride, chunk_len_in_secs=1, buffer_len_in_secs=3):\n",
    "        self.asr_model = asr_model\n",
    "        self.asr_model.eval()\n",
    "        self.data_layer = AudioBuffersDataLayer()\n",
    "        self.data_loader = DataLoader(self.data_layer, batch_size=1, collate_fn=speech_collate_fn)\n",
    "        self.buffers = []\n",
    "        self.all_preds = []\n",
    "        self.chunk_len = chunk_len_in_secs\n",
    "        self.buffer_len = buffer_len_in_secs\n",
    "        assert(chunk_len_in_secs <= buffer_len_in_secs)\n",
    "        \n",
    "        feature_stride = asr_model._cfg.preprocessor['window_stride']\n",
    "        self.model_stride_in_secs = feature_stride * stride\n",
    "        self.n_tokens_per_chunk = math.ceil(self.chunk_len / self.model_stride_in_secs)\n",
    "        self.blank_id = len(asr_model.decoder.vocabulary)\n",
    "        self.plot = False\n",
    "        self.frames = []\n",
    "\n",
    "    @torch.no_grad()\n",
    "    def transcribe_buffers(self, buffers, merge=True, plot=False):\n",
    "        self.plot = plot\n",
    "        self.buffers = buffers\n",
    "        self.data_layer.set_signal(buffers[:])\n",
    "        self._get_batch_preds()\n",
    "        result = self.decode_final(merge)\n",
    "        if plot:\n",
    "            self.save_video('output_video.mp4')\n",
    "        return result\n",
    "    \n",
    "    def _get_batch_preds(self):\n",
    "        device = self.asr_model.device\n",
    "        for batch in iter(self.data_loader):\n",
    "            audio_signal, audio_signal_len = batch\n",
    "            audio_signal, audio_signal_len = audio_signal.to(device), audio_signal_len.to(device)\n",
    "            log_probs, encoded_len, predictions = self.asr_model(input_signal=audio_signal, input_signal_length=audio_signal_len)\n",
    "            preds = torch.unbind(predictions)\n",
    "            for pred in preds:\n",
    "                self.all_preds.append(pred.cpu().numpy())\n",
    "    \n",
    "    def decode_final(self, merge=True, extra=0):\n",
    "        self.unmerged = []\n",
    "        self.toks_unmerged = []\n",
    "        delay = math.ceil((self.chunk_len + (self.buffer_len - self.chunk_len) / 2) / self.model_stride_in_secs)\n",
    "        decoded_frames = []\n",
    "        all_toks = []\n",
    "        for pred in self.all_preds:\n",
    "            ids, toks = self._greedy_decoder(pred, self.asr_model.tokenizer)\n",
    "            decoded_frames.append(ids)\n",
    "            all_toks.append(toks)\n",
    "\n",
    "        for decoded in decoded_frames:\n",
    "            self.unmerged += decoded[len(decoded) - 1 - delay:len(decoded) - 1 - delay + self.n_tokens_per_chunk]\n",
    "        if self.plot:\n",
    "            for i, tok in enumerate(all_toks):\n",
    "                self.plot_and_save_frame(self.buffers[i], tok[len(tok) - 1 - delay:len(tok) - 1 - delay + self.n_tokens_per_chunk])\n",
    "            print(\"\\nTokens collected from successive buffers before CTC merge\")\n",
    "            print(self.toks_unmerged)\n",
    "        \n",
    "        if not merge:\n",
    "            return self.unmerged\n",
    "        return self.greedy_merge(self.unmerged)\n",
    "    \n",
    "    def _greedy_decoder(self, preds, tokenizer):\n",
    "        s = []\n",
    "        ids = []\n",
    "        for i in range(preds.shape[0]):\n",
    "            if preds[i] == self.blank_id:\n",
    "                s.append(\"_\")\n",
    "            else:\n",
    "                pred = preds[i]\n",
    "                s.append(tokenizer.ids_to_tokens([pred.item()])[0])\n",
    "            ids.append(preds[i])\n",
    "        return ids, s\n",
    "    \n",
    "    def greedy_merge(self, preds):\n",
    "        decoded_prediction = []\n",
    "        previous = self.blank_id\n",
    "        for p in preds:\n",
    "            if (p != previous or previous == self.blank_id) and p != self.blank_id:\n",
    "                decoded_prediction.append(p.item())\n",
    "            previous = p\n",
    "        hypothesis = self.asr_model.tokenizer.ids_to_text(decoded_prediction)\n",
    "        return hypothesis\n",
    "\n",
    "    def plot_and_save_frame(self, buffer, tokens):\n",
    "        plt.figure()\n",
    "        plt.plot(buffer)\n",
    "        plt.title(' '.join(tokens))\n",
    "        plt.xlabel('Time')\n",
    "        plt.ylabel('Amplitude')\n",
    "        \n",
    "        plt.savefig('frame.png')\n",
    "        plt.close()\n",
    "        \n",
    "        frame = cv2.imread('frame.png')\n",
    "        self.frames.append(frame)\n",
    "        self.toks_unmerged += tokens\n",
    "    \n",
    "    def save_video(self, filename, fps=1):\n",
    "        height, width, _ = self.frames[0].shape\n",
    "        fourcc = cv2.VideoWriter_fourcc(*'mp4v')\n",
    "        video = cv2.VideoWriter(filename, fourcc, fps, (width, height))\n",
    "        for frame in self.frames:\n",
    "            video.write(frame)\n",
    "        video.release()\n"
   ]
  },
  {
   "cell_type": "markdown",
   "metadata": {},
   "source": [
    "To see how this chunk based decoder comes together, let's call the decoder with a few buffers we create from our long audio file.\n",
    "Some interesting experiments to try would be to see how changing sizes of the chunk and the context affects transcription accuracy.  "
   ]
  },
  {
   "cell_type": "code",
   "execution_count": 72,
   "metadata": {},
   "outputs": [],
   "source": [
    "\n",
    "chunk_len_in_secs = 4\n",
    "context_len_in_secs = 5\n",
    "\n",
    "buffer_len_in_secs = chunk_len_in_secs + 2* context_len_in_secs\n",
    "\n",
    "n_buffers = 100\n",
    "\n",
    "buffer_len = sample_rate*buffer_len_in_secs\n",
    "sampbuffer = np.zeros([buffer_len], dtype=np.float32)\n",
    "\n",
    "chunk_reader = AudioChunkIterator(samples, chunk_len_in_secs, sample_rate)\n",
    "chunk_len = sample_rate*chunk_len_in_secs\n",
    "count = 0\n",
    "buffer_list = []\n",
    "for chunk in chunk_reader:\n",
    "    count +=1\n",
    "    sampbuffer[:-chunk_len] = sampbuffer[chunk_len:]\n",
    "    sampbuffer[-chunk_len:] = chunk\n",
    "    buffer_list.append(np.array(sampbuffer))\n",
    "   \n",
    "    if count >= n_buffers:\n",
    "        break\n"
   ]
  },
  {
   "cell_type": "code",
   "execution_count": 73,
   "metadata": {},
   "outputs": [
    {
     "name": "stderr",
     "output_type": "stream",
     "text": [
      "[NeMo W 2024-07-22 17:23:13 nemo_logging:349] /tmp/ipykernel_1696276/3477953648.py:102: UserWarning: Glyph 3120 (\\N{TELUGU LETTER RA}) missing from current font.\n",
      "      plt.savefig('frame.png')\n",
      "    \n",
      "[NeMo W 2024-07-22 17:23:13 nemo_logging:349] /tmp/ipykernel_1696276/3477953648.py:102: UserWarning: Matplotlib currently does not support Telugu natively.\n",
      "      plt.savefig('frame.png')\n",
      "    \n",
      "[NeMo W 2024-07-22 17:23:13 nemo_logging:349] /tmp/ipykernel_1696276/3477953648.py:102: UserWarning: Glyph 3110 (\\N{TELUGU LETTER DA}) missing from current font.\n",
      "      plt.savefig('frame.png')\n",
      "    \n",
      "[NeMo W 2024-07-22 17:23:15 nemo_logging:349] /tmp/ipykernel_1696276/3477953648.py:102: UserWarning: Glyph 3147 (\\N{TELUGU VOWEL SIGN OO}) missing from current font.\n",
      "      plt.savefig('frame.png')\n",
      "    \n",
      "[NeMo W 2024-07-22 17:23:15 nemo_logging:349] /tmp/ipykernel_1696276/3477953648.py:102: UserWarning: Glyph 2489 (\\N{BENGALI LETTER HA}) missing from current font.\n",
      "      plt.savefig('frame.png')\n",
      "    \n",
      "[NeMo W 2024-07-22 17:23:15 nemo_logging:349] /tmp/ipykernel_1696276/3477953648.py:102: UserWarning: Matplotlib currently does not support Bengali natively.\n",
      "      plt.savefig('frame.png')\n",
      "    \n",
      "[NeMo W 2024-07-22 17:23:15 nemo_logging:349] /tmp/ipykernel_1696276/3477953648.py:102: UserWarning: Glyph 3122 (\\N{TELUGU LETTER LA}) missing from current font.\n",
      "      plt.savefig('frame.png')\n",
      "    \n",
      "[NeMo W 2024-07-22 17:23:15 nemo_logging:349] /tmp/ipykernel_1696276/3477953648.py:102: UserWarning: Glyph 3149 (\\N{TELUGU SIGN VIRAMA}) missing from current font.\n",
      "      plt.savefig('frame.png')\n",
      "    \n",
      "[NeMo W 2024-07-22 17:23:15 nemo_logging:349] /tmp/ipykernel_1696276/3477953648.py:102: UserWarning: Glyph 3074 (\\N{TELUGU SIGN ANUSVARA}) missing from current font.\n",
      "      plt.savefig('frame.png')\n",
      "    \n",
      "[NeMo W 2024-07-22 17:23:15 nemo_logging:349] /tmp/ipykernel_1696276/3477953648.py:102: UserWarning: Glyph 2480 (\\N{BENGALI LETTER RA}) missing from current font.\n",
      "      plt.savefig('frame.png')\n",
      "    \n",
      "[NeMo W 2024-07-22 17:23:16 nemo_logging:349] /tmp/ipykernel_1696276/3477953648.py:102: UserWarning: Glyph 2352 (\\N{DEVANAGARI LETTER RA}) missing from current font.\n",
      "      plt.savefig('frame.png')\n",
      "    \n",
      "[NeMo W 2024-07-22 17:23:16 nemo_logging:349] /tmp/ipykernel_1696276/3477953648.py:102: UserWarning: Matplotlib currently does not support Devanagari natively.\n",
      "      plt.savefig('frame.png')\n",
      "    \n",
      "[NeMo W 2024-07-22 17:23:16 nemo_logging:349] /tmp/ipykernel_1696276/3477953648.py:102: UserWarning: Glyph 2368 (\\N{DEVANAGARI VOWEL SIGN II}) missing from current font.\n",
      "      plt.savefig('frame.png')\n",
      "    \n",
      "[NeMo W 2024-07-22 17:23:16 nemo_logging:349] /tmp/ipykernel_1696276/3477953648.py:102: UserWarning: Glyph 3112 (\\N{TELUGU LETTER NA}) missing from current font.\n",
      "      plt.savefig('frame.png')\n",
      "    \n",
      "[NeMo W 2024-07-22 17:23:16 nemo_logging:349] /tmp/ipykernel_1696276/3477953648.py:102: UserWarning: Glyph 3143 (\\N{TELUGU VOWEL SIGN EE}) missing from current font.\n",
      "      plt.savefig('frame.png')\n",
      "    \n",
      "[NeMo W 2024-07-22 17:23:16 nemo_logging:349] /tmp/ipykernel_1696276/3477953648.py:102: UserWarning: Glyph 2503 (\\N{BENGALI VOWEL SIGN E}) missing from current font.\n",
      "      plt.savefig('frame.png')\n",
      "    \n",
      "[NeMo W 2024-07-22 17:23:18 nemo_logging:349] /tmp/ipykernel_1696276/3477953648.py:102: UserWarning: Glyph 2357 (\\N{DEVANAGARI LETTER VA}) missing from current font.\n",
      "      plt.savefig('frame.png')\n",
      "    \n",
      "[NeMo W 2024-07-22 17:23:18 nemo_logging:349] /tmp/ipykernel_1696276/3477953648.py:102: UserWarning: Glyph 2366 (\\N{DEVANAGARI VOWEL SIGN AA}) missing from current font.\n",
      "      plt.savefig('frame.png')\n",
      "    \n",
      "[NeMo W 2024-07-22 17:23:38 nemo_logging:349] /tmp/ipykernel_1696276/3477953648.py:102: UserWarning: Glyph 3098 (\\N{TELUGU LETTER CA}) missing from current font.\n",
      "      plt.savefig('frame.png')\n",
      "    \n",
      "[NeMo W 2024-07-22 17:23:38 nemo_logging:349] /tmp/ipykernel_1696276/3477953648.py:102: UserWarning: Glyph 2492 (\\N{BENGALI SIGN NUKTA}) missing from current font.\n",
      "      plt.savefig('frame.png')\n",
      "    \n",
      "[NeMo W 2024-07-22 17:23:38 nemo_logging:349] /tmp/ipykernel_1696276/3477953648.py:102: UserWarning: Glyph 2439 (\\N{BENGALI LETTER I}) missing from current font.\n",
      "      plt.savefig('frame.png')\n",
      "    \n",
      "[NeMo W 2024-07-22 17:23:38 nemo_logging:349] /tmp/ipykernel_1696276/3477953648.py:102: UserWarning: Glyph 3081 (\\N{TELUGU LETTER U}) missing from current font.\n",
      "      plt.savefig('frame.png')\n",
      "    \n",
      "[NeMo W 2024-07-22 17:23:38 nemo_logging:349] /tmp/ipykernel_1696276/3477953648.py:102: UserWarning: Glyph 3125 (\\N{TELUGU LETTER VA}) missing from current font.\n",
      "      plt.savefig('frame.png')\n",
      "    \n",
      "[NeMo W 2024-07-22 17:23:38 nemo_logging:349] /tmp/ipykernel_1696276/3477953648.py:102: UserWarning: Glyph 3135 (\\N{TELUGU VOWEL SIGN I}) missing from current font.\n",
      "      plt.savefig('frame.png')\n",
      "    \n",
      "[NeMo W 2024-07-22 17:23:39 nemo_logging:349] /tmp/ipykernel_1696276/3477953648.py:102: UserWarning: Glyph 3095 (\\N{TELUGU LETTER GA}) missing from current font.\n",
      "      plt.savefig('frame.png')\n",
      "    \n",
      "[NeMo W 2024-07-22 17:23:39 nemo_logging:349] /tmp/ipykernel_1696276/3477953648.py:102: UserWarning: Glyph 3093 (\\N{TELUGU LETTER KA}) missing from current font.\n",
      "      plt.savefig('frame.png')\n",
      "    \n",
      "[NeMo W 2024-07-22 17:23:39 nemo_logging:349] /tmp/ipykernel_1696276/3477953648.py:102: UserWarning: Glyph 3128 (\\N{TELUGU LETTER SA}) missing from current font.\n",
      "      plt.savefig('frame.png')\n",
      "    \n",
      "[NeMo W 2024-07-22 17:23:39 nemo_logging:349] /tmp/ipykernel_1696276/3477953648.py:102: UserWarning: Glyph 3134 (\\N{TELUGU VOWEL SIGN AA}) missing from current font.\n",
      "      plt.savefig('frame.png')\n",
      "    \n"
     ]
    },
    {
     "name": "stdout",
     "output_type": "stream",
     "text": [
      "\n",
      "Tokens collected from successive buffers before CTC merge\n",
      "['_', '_', '_', '_', '_', '_', '_', '_', '_', '_', '_', '_', '_', '_', '_', '_', '_', '_', '_', '_', '_', '_', '_', '_', '_', '_', '_', '_', '_', '_', '_', '_', '_', '_', '_', '_', '_', '_', '_', '_', '_', '_', '_', '_', '_', '_', '_', '_', '_', '_', '_', '_', '_', '_', '_', '_', '_', '_', '_', '_', '_', '_', '_', '_', '_', '_', '_', '_', '_', '_', '_', '_', '_', '_', '_', '_', '_', '_', '_', '_', '_', '_', '_', '_', '_', '_', '_', '_', '_', '_', '_', '_', '_', '_', '_', '_', '_', '_', '_', '_', '_', '_', '_', '_', '_', '_', '_', '_', '_', '_', '_', '_', '_', '_', '_', '_', '_', '_', '_', '_', '_', '_', '_', '_', '_', '_', '_', '_', '_', '_', '_', '_', '_', '_', '_', '_', '_', '_', '_', '_', '_', '_', '_', '_', '_', '_', '_', '_', '_', '_', '_', '_', '_', '_', '_', '_', '_', '_', '_', '_', '_', '_', '_', '_', '_', '_', '_', '_', '_', '_', '_', '_', '_', '_', '_', '_', '_', '_', '_', '_', '_', '_', '_', '_', '_', '_', '_', '_', '_', '_', '_', '_', '_', '_', '_', '_', '_', '_', '_', '_', '▁', '▁', '▁', '▁', '▁', '▁', '▁', '▁', '▁', '▁', '▁', '▁', '▁', '▁', '▁', '▁', '▁', '_', '_', '_', '_', '_', '_', '_', '_', '_', '_', '_', '_', '_', '_', '_', '_', '_', '_', '_', '_', '_', '_', '_', '_', '_', '_', '_', '_', '_', '_', '_', '_', '_', '_', '_', '_', '_', '_', '_', '_', '_', '_', '_', '_', '_', '_', '_', '_', '_', '_', '_', '_', '_', '_', '_', '_', '_', '_', '_', '_', '_', '_', '_', '_', 'w', 'h', 'h', '_', '_', '▁', '▁', '_', '_', '_', '_', '_', '_', 're', '_', '_', 'd', 'y', '_', '_', '_', '_', '_', '_', 'go', 'go', '_', '_', '_', '_', '_', '▁', '▁', '▁', '▁', '▁', '▁', '▁', '▁', '_', '_', '_', '_', '_', '_', '_', '_', '_', '_', '_', '_', '_', '_', '_', '_', 'w', 'w', 'or', 'or', 't', '_', 's', 'h', 'h', 'it', 'it', '_', '▁', '_', 'T239', '▁from', '▁from', '▁from', '▁the', '▁', '▁', 'T237', '_', 'T299', '_', '_', 'T256', '▁', 'ver', '_', 'y', 'y', '_', '_', '_', '_', '_', '_', 's', 'to', 'to', '_', 'c', 'k', 'k', '_', '_', '_', '▁', '▁', '_', '_', '_', '▁', '▁', '_', '_', '_', '_', '_', '_', '_', '_', '_', '_', '_', 're', 're', 'me', 'm', 'm', 'be', 'be', 'r', 'r', '▁', '▁', '▁', '_', '_', '_', '_', '_', 'y', 'y', 'y', 'e', 'ar', '▁', '▁', 'ago', 'ago', '▁', '▁', '▁', 'T239', '_', '_', '_', '_', '_', '_', '_', '_', '_', '_', '_', '_', '_', '_', '_', '_', '_', '_', '_', '_', '_', 'C', 'it', 'it', 'y', 'y', '▁', 'T239', '_', '_', '_', '_', '_', '_', '_', '▁fr', '▁fr', 'on', 'on', 't', 't', '_', '▁', '▁', '▁', '▁', '▁', '▁', '▁', '_', '_', '_', '_', '_', '_', 'a', 'f', 'f', 'ter', 'ter', '▁', '▁', '▁', 'T237', '_', '_', '_', 'T25', 'T25', '▁', 't', 'w', '_', 'el', '_', '_', '_', '_', '_', '_', '_', '_', '▁sec', '_', '_', 'end', 's', 's', '▁', '▁', 'T239', '▁', '▁', '▁', '▁', '▁', '▁', '▁', '▁', '▁', '▁', '▁', '▁', '▁', '▁', '▁', '▁', '▁', '▁', '▁', '▁', '▁', '▁', '▁', '▁', '▁', '▁', '▁', '▁', '▁', '▁', '▁', '▁', '▁', '▁', '▁', '▁', '▁', '▁', '▁', '▁', '▁', '▁', '▁', '▁', '▁', '▁', '▁', '▁', '▁', '▁', '▁', '▁', '▁', '▁', '▁', '▁', '▁', '▁', '▁', '▁', '▁', '▁', '▁', '▁', '▁', '▁', '▁', '▁', '▁', '▁', '▁', '▁', '▁', '▁', '▁', '▁', '▁', '▁', '▁', '▁', '▁', '▁', '▁', '▁', '▁', '▁', '▁', '▁', '▁', '▁', '▁', '▁', '▁', '▁', '▁', '▁', '▁', '▁', '▁', '▁', '▁', '▁', '▁', '▁', '▁', '▁', '▁', '▁', '▁', '▁', '▁', '▁', '▁', '▁', '▁', '▁', '▁', '▁', '▁', '▁', '▁', '▁', '▁', '▁', '▁', '▁', '▁', '▁', '▁', '▁', '▁', '▁', '▁', '▁', '▁', '▁', '▁', '▁', '▁', '▁', '▁', '▁', '▁', '▁', '▁', '▁', '▁', '▁', '▁', '▁', '▁', '▁', '▁', '_', '_', '_', '_', '_', '_', '_', '_', '_', '_', '_', '_', '_', '_', '_', '_', '_', '_', '_', '_', '_', '_', '_', '_', '_', '_', '_', '_', '_', '_', '_', '▁', '▁', '_', '_', '_', '_', '_', '_', '_', '▁S', 'ig', 'ig', '_', '_', '_', '_', '_', '_', 're', '_', '_', '_', '_', '_', '_', '_', '▁', '▁', '▁', '▁', '▁', '▁', '▁', '▁', '▁', '▁', '▁', '_', 'T237', '_', '_', '_', '_', '_', '_', '_', '_', '_', '_', '_', '_', '_', '▁', '▁', '▁', '▁', '_', '_', '_', '_', '_', '▁S', '_', 'ff', 'ff', 'ff', '_', '_', '_', '_', '_', 't', '_', 'i', '_', 'er', '▁', '▁', '_', '_', '_', '_', '_', '_', '_', '_', '_', '_', 'te', 'ta', 'ke', 'ke', '▁', '▁', '▁', '▁', '_', '_', '_', '_', '_', '_', '_', '_', 'er', '_', '_', '_', '_', '_', '_', '_', '_', '_', '_', '_', '_', '_', '_', 'end', 's', 's', '_', '▁', '▁', '▁', '▁', '_', '_', '_', '_', '_', '_', '_', '_', '_', '_', '_', 'T', '_', 'm', 'p', 'p', '_', 'ic', '_', '_', '_', '_', '▁for', '_', '_', '_', '_', '_', '_', '_', '_', '_', '_', '_', '_', '_', '_', '_', '_', '_', '_', '_', 't', '_', '_', '_', '_', '_', '▁', '▁', '▁', '_', '_', '_', '_', 'th', 'is', 'is', '_', 'time', 'time', '▁', '▁', '▁', '▁', '▁', '▁', '▁', '▁', '▁', '▁', '▁', '▁', '▁', '▁', '▁', '▁', '▁', '▁', '▁', '▁', '▁', '▁', '▁', '▁', '▁', '▁', '▁', '▁', '▁', '▁', '▁', '▁', '▁', '▁', '▁', '▁', '▁', '▁', '▁', '▁', '▁', '▁', '▁', '▁', '▁', '▁', '▁', '▁', '▁', '▁', '▁', '▁', '▁', '▁', '▁', '▁', '▁', '▁', '▁', '▁', '▁', '▁', '▁', '▁', '▁', '▁', '▁', '▁', '▁', '▁', '▁', '▁', '▁', '▁', '▁', '▁', '▁', '▁', '▁', '▁', '▁', '▁', '▁', '_', '_', '_', '_', '_', '_', '_', '_', '_', '_', '_', '_', '_', '_', '_', '_', '_', '_', '_', '_', '_', '_', '_', '_', '_', '_', '_', '_', '_', '_', '_', '_', '_', '_', '_', '_', '_', '_', '_', '_', '_', '_', '▁', '▁', 'be', '▁', '_', '_', '_', '_', '▁ha', '_', 't', '_', '_', 'ing', '_', '▁for', '▁', '▁', 'T237', '_', 'T234', '_', 'T57', 'T57', '▁', 'R', 'as', 'h', '_', 'f', '_', '_', 'd', '▁END', '▁END', '▁', '▁', '▁', '_', '_', '_', '_', '_', '_', '_', '_', '_', '_', '_', 'est', '_', '_', '_', '▁', '▁', '▁', '▁', 'a', 'a', 'a', '_', '_', '_', 're', 'al', 'al', 'y', '▁', '_', '_', '_', '_', '_', 'f', '▁for', '_', 'ce', '_', '_', '_', '▁for', '▁', '▁', '_', '_', '_', '_', '_', '_', '_', '_', 'r', '_', 'un', '_', '_', '_', '_', '_', '▁', '▁', '_', '_', '_', '_', '_', '_', '_', '_', '_', '_', '_', '_', '_', '_', '_', '_', '_', '_', '_', '_', '_', '_', '_', '_', '_', '_', '_', '▁', '_', '_', '_', '_', '_', '_', '_', '_', '_', '_', '_', '_', '_', '_', '_', '_', '_', '_', 'ci', 'it', 'it', 'y', '▁', '▁', '▁', '▁', '_', '_', '_', '_', '_', '_', '_', '_', '_', '_', '_', '_', '_', 'w', '_', '_', '_', '▁', '▁', '▁', '_', '_', '_', '_', 'r', '▁', 'ర', '_', '_', '_', '_', '▁', 'T239', 'T239', '_', '_', '_', '_', '_', '_', '_', '_', 'ద', '▁', '▁', '▁', 'T239', '▁', '▁', '▁', '▁', '▁', '▁', '▁', '▁', '▁', '▁', '▁', '▁', '▁', '▁', '▁', '▁', '▁', '▁', '▁', '▁', '▁', '▁', '▁', '▁', '▁', '▁', '▁', '▁', '▁', '▁', '▁', '▁', '▁', '▁', '▁', '▁', '▁', '▁', '▁', '▁', '▁', '▁', '▁', '▁', '▁', '▁', '▁', '▁', '▁', '▁', '▁', '▁', '▁', '▁', '▁', '▁', '▁', '▁', '▁', '▁', '▁', '▁', '▁', '▁', '▁', '▁', '▁', '▁', '▁', '▁', '▁', '▁', '▁', '▁', '▁', '▁', '▁', '▁', 'w', 'or', 'k', 'k', 'a', '_', '_', '▁', '▁', '▁', '▁', '▁', '▁', '▁', '▁', '▁', '_', '_', '_', '_', '_', '_', '_', '_', '_', '_', '_', '_', 'm', '_', '_', '_', '▁', '_', '_', '_', '_', '_', 'me', 'm', 'm', 'be', 'r', '_', '▁', '_', '_', '_', '_', '_', '_', '_', '_', '_', '▁', '▁', '_', '_', '_', '_', '_', '_', '_', '_', '_', 'a', '▁', 'T239', '▁', 'in', '▁the', '▁', '_', '_', 'ga', 'ga', 'me', 'me', '▁', '▁', '▁', 'T237', '_', 'T156', '_', 'T57', '▁A', '▁A', '_', '_', 'ti', '_', '▁', '▁', '▁', '_', '_', '_', '_', 'W', 'en', '_', '_', '_', '_', '▁', '▁', '▁', '▁', 'T237', '_', '_', 'T57', '▁', 'R', 'as', '_', '_', '▁', '▁', '▁', '▁', 'W', '_', 'ent', '▁', '_', '_', '_', '_', ',', '▁', '▁', '▁', '▁', '▁', '▁', '_', '_', '_', '_', 'th', 'th', 're', '▁', '▁', '▁', '▁', '▁', '_', '_', '_', '_', '_', 'we', 'll', 'll', '_', '_', '_', '_', '_', '_', '_', '_', '_', '_', '_', '▁', '▁', '▁', 'T237', '_', '_', '_', '_', '_', 'T120', '▁', 'D', '_', '_', '_', '_', 'B', '_', '_', '_', '_', '_', '_', '_', '_', '_', '▁', '▁', 'T239', '▁', '▁', '▁', '_', '_', '_', '_', '_', '_', '_', '_', '_', '_', '_', '_', '_', '_', '_', '_', '_', '_', '_', '_', '_', '_', '_', '_', '_', '_', '_', '_', '_', '_', '_', '▁', '▁', '▁', '▁', '▁', '_', '_', '_', '_', '_', '_', '_', '_', '_', '_', '_', '_', '_', '_', '_', '_', '_', '_', '_', '_', '_', '_', '_', '_', '_', '_', '_', '_', '▁', '▁', '_', '_', '_', '_', '_', 'ke', 'ke', 'qui', '▁', '▁', '_', '_', 'c', 'c', 'le', '_', '_', '▁', '▁', '▁', '_', '_', '_', '_', '_', '_', '_', '_', '_', '_', '_', '_', '_', '_', '_', '_', '_', '_', '_', '_', '_', '_', '_', '_', '_', '_', '_', '_', '_', '_', '_', '_', '_', '_', '_', '_', '_', '_', '_', '_', '▁', '▁', '▁', '▁', '▁', '▁', '▁', '▁', '▁', '▁', '▁', '▁', '▁', '▁', '▁', '▁', '▁', '▁', '_', '_', '_', '_', '_', '_', '_', '_', '_', '_', '_', '_', '_', '_', '_', '_', '_', '_', '_', 'ో', 'ో', '_', '▁', '▁', '▁', '_', '_', '_', '_', '_', 'che', '_', 'i', '_', '_', '_', 'en', '▁', '▁', '▁', 'T237', '_', 'T37', '_', '_', 'T57', '▁', 'হ', '_', 'ల్', 'and', 'ం', '_', '_', '_', '_', '_', '_', '_', 'st', '_', '_', '_', '_', '_', '_', 'do', 'do', '_', '_', 'n', '_', '_', '▁', '▁', '▁', '▁', '▁', '_', '_', '_', '_', '_', '_', '_', '_', '_', '_', 'st', 'st', 'র', 'র', '_', '_', '_', '▁', '_', '_', '_', '_', '_', 'p', '_', '_', '_', 'les', '_', '▁', '▁', '_', '_', '_', '_', '_', '_', 'র', 'ో', '_', '_', '_', '_', 'ies', 'ies', '_', '_', '_', '_', '_', '_', 'ing', '▁', '▁', '▁', '_', '_', '_', '_', '_', '▁P', '_', '_', '_', '_', '_', '▁', '▁', '▁', '▁', '▁', '_', 'di', 'di', '_', '_', '_', '_', '_', 'ly', '_', '_', '_', '▁but', '_', '_', '_', '_', '_', '_', 'is', 'is', '▁', 'no', 'no', 'no', '▁', '▁', '_', '_', '_', '_', '_', 'in', 'in', '_', 'ter', '_', '_', '_', '_', '▁', '▁', '▁', '▁', '▁', '_', '_', '_', '_', '_', 'ix', 'ix', 's', '▁the', '▁the', '▁', '_', '_', '_', '_', '▁', 'F', '_', 'st', '▁', '_', '_', '_', '_', '_', '▁P', '_', 'री', '_', '_', '_', '▁', '▁', '▁', 'w', 'or', 'k', '▁', '_', '_', '_', '_', '_', '_', '_', '_', '_', '_', '▁', '_', '_', '▁the', '▁', '▁', '_', '_', '_', '_', '_', '▁', 'a', 'a', 'ter', 'ter', 'న', 'ే', 'ে', '_', '_', '_', '_', '_', '_', '_', '▁', '▁', '_', '_', '_', '_', '_', '_', '▁', 'B', '_', '_', '_', '_', '_', '_', '_', '_', '_', '_', '_', '_', '_', '_', '_', '_', '_', '_', '_', '_', '_', '_', '_', '_', '_', '_', '_', '_', '_', '_', '_', '_', '_', '_', '_', '_', '_', '▁', '▁', '▁', '▁', '▁', '▁', '▁', '▁', '▁', '▁', '▁', '_', '_', '_', '_', '_', '_', '_', '_', '_', '_', '_', '_', '_', '_', '_', '_', '_', '_', '_', '_', '_', '_', '_', '_', '_', '_', '_', '_', '_', '_', 'ling', '_', '▁', 'T239', '_', '_', '_', '_', '_', '_', '▁', '▁', '▁', '_', '_', '_', '_', '_', '_', '_', '_', '_', '_', '_', '_', '_', '_', '_', '_', '_', '_', '_', '▁', 'der', '▁', 'T237', '_', 'T156', '_', 'T57', 'T57', 'B', '_', '_', '_', '_', '_', '_', '_', '_', '_', '_', '_', '_', '_', '_', '_', '_', '▁', '▁', '▁', '▁', '▁', 'is', '▁', '▁', '_', '_', '_', '▁', '_', 'f', 'f', '_', '_', '_', '▁', '_', '_', '_', '_', '_', '▁con', 'un', '_', '_', 'ta', 'act', 'act', '▁', '▁', '▁', '_', '_', '_', '_', '_', '_', '▁', '▁', '▁', '▁', '▁', '▁', '_', '_', '_', '_', 'w', 'w', 'in', 'd', 'f', 'u', 'u', 'l', '▁', '_', '_', '_', '_', '_', '_', '_', 'o', '_', '_', '_', 'in', 'in', '▁', '▁', '▁', '▁', '▁', '▁', '▁', '▁', '▁', '▁', '▁', '▁', '▁', '▁', '▁', '▁', '▁', '_', '_', '_', '_', '_', '_', '_', '_', '_', '_', '_', '_', '_', '_', '_', '_', '_', '_', '_', '_', '_', '_', '_', '_', '_', '_', '_', '_', '_', '_', '_', '_', '_', '▁', 'T237', '_', 'T156', '_', '_', '_', '_', 'T57', 'T57', '▁', 'G', '_', '_', '_', '_', 'ba', '_', '_', '_', '_', '▁', '▁', '▁', '▁', '▁', '_', '_', '_', '_', '_', '▁', 'c', 'le', 'le', '_', '_', '_', '_', '_', '_', 'no', '_', 'vi', 'vi', '_', '_', '_', '_', 'ling', '_', '▁', '▁', '▁', 'a', 'ga', '▁', '▁', 'T237', '_', '_', '_', 'T57', '▁', '▁', 'N', 'no', '_', '_', '_', '_', '_', '_', '_', '_', '_', '_', '_', '▁', '▁', '▁', 'in', '_', '_', '_', '_', '_', '_', '_', '_', 'Z', '_', '_', '_', '_', 'वा', '_', '_', '_', '▁', '▁', '▁', '▁', '_', '_', 's', 's', 'c', 're', 're', 'm', 'm', '▁', '▁', '▁', '▁', '▁', '▁', '_', '_', '▁', '▁', '▁', '▁', '▁', '▁', '▁', '▁', '▁', '▁', '▁', '▁', '▁', '▁', '▁', '▁', '▁', '▁', '▁', '▁', '▁', '▁', '▁', '▁', '▁', '▁', '▁', '▁', '▁', '▁', '▁', '▁', '▁', '▁', '▁', '▁', '▁', '▁', '▁', '▁', '▁', '▁', '▁', '▁', '▁', '▁', '▁', '▁', '▁', '▁', '▁', '▁', '▁', '▁', '▁', '▁', '▁', '▁', '▁', '▁', '▁', '▁', '▁', '▁', '_', '_', '_', '_', '_', '_', '_', '_', '_', '_', '_', '_', '_', '_', '_', '_', '_', '_', '_', '_', '_', '_', '_', '_', '_', '_', '_', '_', '_', '_', '_', '_', '_', '_', '_', '_', '_', '_', '_', '_', '_', '_', '_', '_', '_', '_', '_', '_', '_', '_', '_', '_', '_', '_', '_', '_', '_', '_', '_', '_', '_', '_', '_', '_', '_', '_', '_', '_', '_', '_', '_', '_', '_', '_', '_', '_', '▁', '▁', '_', '_', 'a', '_', '_', '▁', '▁', '_', '_', '_', '_', '_', '_', '_', '_', '_', '_', '_', '_', '_', '_', '_', '_', '_', '_', '▁to', '▁', '▁', '▁', '_', '_', '_', '_', '_', 'e', 'o', 'ver', 'ver', '▁', '_', '_', 'tu', 'tu', 'r', 'n', 'n', '▁', '▁the', '▁the', '▁the', '▁', '_', '_', '_', '_', '_', '▁', 'on', 'on', 'f', 'il', 'il', 'd', '_', '_', '_', '_', '_', '_', '_', '_', '_', '_', '_', '_', 's', 'ion', 'ion', '▁', '▁', '▁', '▁', '▁', '▁', '▁', '▁', '▁', '▁', '▁', '▁', '▁', '▁', '▁', '▁', '▁', '▁', '▁', '▁', '▁', '▁', '▁', '▁', '▁', '▁', '▁', '▁', '▁', '▁', '▁', 'T2', 'T2', '▁', '▁', 'T237', '_', 'T234', '_', '_', '_', 'T57', '▁', '▁S', '_', '_', '_', 'ing', 'ing', '▁', '▁', 'T239', '▁', '_', '_', '▁', '▁', 'st', 'r', 'en', 'che', 'che', '▁', 'T239', '▁', '▁', '▁', '_', '_', 'in', 'in', '_', '_', '_', '▁', '▁', 't', '_', '_', 'q', '_', '_', '_', '_', '_', '_', '_', '_', '_', 'ness', '▁', '▁', '_', '_', '_', '_', '_', '_', 'ing', '▁', '_', '_', '_', 't', '_', '▁', '_', '_', '_', '_', '_', '_', '_', 'ste', '_', '_', 'at', '_', '_', '_', '_', '_', '_', 'lo', 'c', 'ke', 'y', '▁', '▁', '_', '_', 'j', 'j', '_', 'm', 'p', '_', '_', '▁', '▁', '▁', '▁', '_', '_', '_', '_', '_', '_', '_', '_', '_', '_', '▁', 'T237', '_', 'T156', '_', '_', 'T57', 'T57', '▁', '_', '_', '_', '_', 'ur', '_', '_', '_', '_', 'ing', '▁', 'T239', '▁', '▁', '_', '_', '_', '_', '_', 'we', 'll', '▁', '▁', '▁', '_', 'b', 'ball', 'ball', '_', '_', 'w', 'a', 'y', '▁', '▁', 'T237', '_', 'T95', '_', '_', 'T157', '▁La', '_', '_', '_', '_', 'ry', 'ry', '▁', '_', '_', '_', 's', 's', 'm', 'art', 'art', '_', '▁', '▁', '_', '_', '_', '_', '_', '_', '_', '_', '_', 'ic', '_', '_', '_', '_', '_', 'da', '_', '_', '_', '_', '▁', '▁', '▁', '▁', '▁', '▁', '▁', '▁', '▁', '▁', '▁', '▁', '▁', '▁', '▁', '▁', '▁', '▁', '▁', '▁', '▁', '▁', '▁', '▁', '▁', '▁', '▁', '▁', '▁', '▁', '▁', '▁', '▁', '▁', '▁', '▁', '▁', '▁', '▁', '▁', '▁', '▁', '▁', '▁', '▁', '▁', '▁', '▁', '▁', '▁', '▁', '▁', 'T237', '_', 'T234', '_', '_', '_', '_', 'T57', '▁', '▁', '_', '_', '_', '_', '_', '_', '_', '_', '_', '_', '_', '▁', '▁', 'T239', '▁', '▁', '▁', '▁', '▁', '_', 'ge', '_', '_', '▁', '▁', '▁', '▁', 'T237', '_', '_', '_', '_', '▁', 'p', 'p', '_', 'ack', '_', 'co', '_', '_', '_', '_', '_', '_', '_', '_', '_', '_', '_', '▁', '▁', '▁', '▁', '▁', '▁', '_', '_', '_', '_', '_', '_', '_', '_', 't', \"'\", \"'\", 's', 's', '▁', '_', '_', '_', 'no', 'no', '_', '▁', '▁', '▁', '▁', '_', '_', '_', '_', '_', '_', '_', '_', 'p', 'p', '_', '_', '_', '_', '▁', '▁', '▁', '▁', '▁', '▁', '▁', '▁', '▁', '▁', '▁', '▁', '▁', '▁', '▁', '▁', '▁', '▁', '▁', '▁', '▁', '▁', '▁', '▁', '▁', '▁', '▁', '▁', '▁', '▁', '▁', '▁', '▁', '▁', '▁', '▁', '▁', '▁', '▁', '▁', '▁', '▁', '▁', '▁', '▁', '▁', '▁', '▁', '▁', '▁', '▁', '▁', '▁', '▁', '▁', '▁', '▁', '▁', '▁', '▁', '▁', '▁', '▁', '▁', '▁', '▁', '▁', '▁', '▁', '▁', '▁', '▁', '_', '_', '_', '_', '_', '_', '_', '_', '_', '_', '_', '_', '_', '_', '_', '_', '_', '_', '_', '_', '_', '_', '_', '_', '_', '_', '_', '_', '_', '_', '_', '_', '_', '_', '_', '_', '_', '_', '_', '_', '_', '_', '_', '_', '_', '_', '_', '_', '_', '_', '_', '_', '▁', '▁', '▁', '▁', '▁', '▁', '▁', '▁', '▁', '▁', '▁', '▁', '▁', '▁', '▁', '▁', '▁', '▁', '▁', '▁', '▁', '▁', '▁', '▁', '▁', '▁', '▁', '▁', '▁', '▁', '▁', '▁', '▁', '▁', '▁', '▁', '▁', '▁', '▁', '▁', '▁', '▁', '▁', '▁', '▁', '▁', '▁', '▁', '▁', '▁', '▁', '▁', '▁', '▁', '▁', '▁', '▁', '▁', '▁', '▁', '▁', '▁', '▁', '▁', '▁', '▁', '▁', '▁', '▁', '▁', '▁', '▁', '▁', '▁', '▁', '▁', '▁', '▁', '▁', '▁', '▁', '▁', '▁', '▁', '▁', '▁', '▁', '▁', '▁', '▁', '▁', '▁', '▁', '▁', '▁', '▁', '▁', '▁', '▁', '▁', '▁', '▁', '▁', '▁', '▁', '▁', '▁', '▁', '▁', '▁', '▁', '▁', '▁', '▁', '▁', '▁', '▁', '▁', '▁', '▁', '▁', '▁', '▁', '▁', '▁', '▁', '▁', '▁', '▁', '▁', '▁', '▁', '▁', '_', '_', '_', '_', '_', '_', '_', '_', '_', '_', '_', '_', '_', '_', '_', '_', '_', '_', '_', '_', '_', '_', '_', '_', '_', '_', '_', '_', '_', '_', '_', '_', '_', '_', '_', '_', '_', '_', '_', '_', '_', '_', '_', '_', '_', '_', '_', '_', '_', '_', '_', '_', '_', '_', '_', '_', '_', '▁', '_', '_', '_', '_', '_', '_', '_', '_', '_', '_', '_', '_', '_', '_', '_', 'res', '_', 's', 's', '▁', '▁', '▁', '▁', '▁', '▁', '▁', '▁', '▁', 'er', '▁', '▁', '▁', '▁', '▁', '_', '▁Lo', '▁Lo', 'k', 'k', '_', '_', '▁the', '▁', '_', '_', '_', '_', '_', '_', 'em', 'em', 'me', '_', '_', '_', '_', 'ce', 'le', 'c', 'c', 'tion', '▁', '▁', '▁', '▁', '▁', '_', '_', 'lo', 'ke', 'ke', 'et', '_', '_', '_', '_', '_', '_', '_', '_', '_', '_', '_', '_', '_', '_', '_', '_', '_', '_', '_', '_', '_', '_', '_', '_', '_', '_', '_', '_', '_', '_', '_', '_', '_', '_', '_', '_', '_', '_', '_', '_', '_', '_', '_', '_', '_', '_', '▁', '_', '_', '_', '_', '_', '_', '_', '_', '_', '_', '_', 'me', '_', '_', '_', '_', '_', '▁', '▁', '▁', 'in', 'in', '▁the', '▁the', '_', 'm', 'm', '_', '▁', '_', '_', '_', '_', '_', '_', '_', '_', 'on', 'on', 'e', '_', '▁the', '▁', '_', '_', 're', 'as', 'as', 'on', 's', '_', '_', 'w', 'w', 'i', 'i', '_', '_', '_', '_', '_', '_', '▁pro', '_', '_', 'm', 'ly', '_', '_', '_', '_', 'c', '_', '_', '_', '_', '_', '_', '_', '_', '_', '_', '_', '_', '_', '_', 'a', 'ies', 'es', '▁', '▁', '▁', '▁', 'be', 'be', 'a', 'use', 's', '▁of', '▁the', '▁the', '▁the', '▁', 'T237', '_', 'T299', '_', 'T57', '▁La', '▁Li', '_', 'ex', 's', 'ing', 'ing', '_', '_', '_', '_', 't', '▁', 'T239', '▁to', '▁to', '▁', '_', '_', 't', 'ry', '_', '▁', '▁', '▁', '_', '_', 's', 'to', 'to', 'p', '_', '▁the', '▁the', '_', '_', '_', '_', '_', '_', '_', 'h', 'x', 's', '_', '_', '_', '_', '_', '_', '_', '▁', 'F', '_', '_', '_', '_', '_', '_', '▁', ',', '▁', '▁', '_', 'm', 'm', '▁', 'T237', '_', 'T234', '_', 'T57', '▁', 'e', 'v', 'v', '▁', '▁', '▁', 'T237', '_', '_', 'T57', '▁', 'B', 'b', 'r', 'u', 'in', 'y', '▁', '▁', '▁', '▁', '_', 't', 'ry', 'ing', '▁', '▁', '▁', 'ge', 'ge', 't', 't', '▁', '▁', 'on', 'on', '▁the', '_', '_', '_', '_', '_', '_', '_', '_', '_', '_', 'ho', '_', '_', '_', '_', '_', '_', '_', '_', '_', '_', '_', '_', '_', '_', '_', '_', '_', '_', '_', '_', '_', '_', '_', '_', '_', '_', '_', '_', '_', '_', '_', '_', '_', '_', '_', '_', '_', '_', '_', '_', '_', '_', '_', '_', '_', '_', '_', '_', '_', '_', '_', '_', '_', '_', '_', '_', '_', 'r', '_', '_', '▁', '▁', '_', '_', 'w', 'w', 'a', 'a', 'y', 'y', '_', '▁from', '▁from', '▁from', '▁', '▁', 'T237', '_', 'T234', '_', 'T57', 'T57', '▁Ma', '_', '_', '_', '_', '_', '_', '_', '_', '▁END', '▁END', '▁END', '_', '_', '_', '_', '_', '_', '_', '_', '_', '_', '_', '_', '_', '_', '_', '_', '_', '_', '_', '_', '_', '_', '_', '_', '_', '_', '▁', 'C', '_', '_', '_', '_', '▁', '▁', '_', '_', '_', '_', '_', 'ch', 'ic', 'k', 'k', '_', 's', '_', '▁END', ',', ',', '_', '_', '_', '_', '_', '_', '_', '_', '_', '_', '_', '_', '_', '_', '_', '_', '_', '_', 'f', 'la', '_', '_', 'ten', 'ten', '_', '_', '_', '_', 'b', 'b', '_', '▁', 'T237', '_', 'T234', '_', '_', 'T57', '▁A', '▁A', '_', '_', '_', '_', '_', '_', '_', 'b', '_', '_', '_', '_', '_', '▁', '▁', '▁', '▁', '_', '_', '_', '_', '_', '_', '_', '_', '_', '_', '_', '_', '_', '_', '_', '_', '_', '_', '_', '▁', '▁ha', '▁ha', '▁', '▁', '▁', '▁', 'a', '_', '_', '_', '_', '_', 't', 't', 't', 't', '_', '_', '_', '_', '_', '_', '_', '_', '_', 'ver', 'ver', '_', '_', '_', '_', '_', 'M', '_', 'in', 'ie', 'ie', '▁', '_', '_', '_', '_', '_', '_', 're', '_', 'se', '_', '_', '_', '_', '_', 'in', '_', '_', '_', '_', '_', '_', '▁his', '▁', '▁', '_', '_', '_', '_', '_', '_', '_', '_', '_', '_', 'se', 'as', 'as', 'en', 'en', '_', '_', '_', '_', '_', '▁Lo', 'ung', 'n', 'g', '_', 'ste', 'tar', '_', '▁', '▁', '▁', '▁', '▁', '_', '_', 'T156', '_', '_', '_', '▁Man', '▁Man', 'ch', 'ch', 'ester', 'ester', '▁', '▁', 'U', 'U', 'n', 'it', 'it', 'it', 'ed', 'ed', '▁', '▁', '▁', 'T239', '▁', '▁', '▁', '▁', '▁', '▁', '▁', '▁', '▁', '▁', '▁', '▁', '▁', '▁', '▁', '▁', '▁', '▁', '▁', '▁', '▁', '▁', '▁', '▁', '▁', '▁', '▁', '▁', '▁', '▁', '▁', '▁', '▁', '▁', '▁', '▁', '▁', '▁', '▁', '▁', '▁', '▁', '▁', '▁', '▁', '▁', '▁', '▁', '▁', '▁', '▁', '▁', '▁', '▁', '▁', '▁', '▁', '▁', '▁', '▁', '▁', '▁', '▁', '▁', '▁', '▁', '▁', '▁', '▁', '▁', '▁', '▁', '▁', '▁', '▁', '▁', '_', '_', '_', '▁', '▁', '▁', '▁', '▁', 'T2', '▁', '▁', '_', '_', '_', '_', '_', '_', '_', '_', '_', '_', '_', '_', '_', '_', '▁', '▁', '_', '_', '_', '_', '_', '_', '_', '_', '▁', '▁', '▁', 'T237', '_', '_', '_', '_', '_', '_', 'b', 'b', 'le', 't', '_', 'ter', '_', '_', '▁', '▁', '▁', 'T237', '_', '_', '_', '_', '▁Lo', 'ndo', 'n', 'n', '▁', 'T239', 'T239', '▁', 'von', '▁', 'T237', '_', 'T234', '_', '_', 'T57', '▁', 'F', '_', '_', '_', '_', '_', '_', '_', '_', '_', '_', '_', '▁', '▁', '▁', '▁', '▁', '▁', '▁', '▁', '▁', '▁', '▁', '▁', '▁', '▁', '▁', '▁', '▁', '▁', '▁', '▁', '▁', '▁', '▁', '▁', '▁', '▁', '▁', '▁', '▁', '▁', '▁', '▁', '▁', '▁', '▁', '▁', '▁', '▁', '▁', '▁', '▁', '▁', '▁', '▁', '▁', '▁', '▁', '▁', '▁', '▁', '▁', '▁', '▁', '▁', '▁', '▁', '▁', '▁', '▁', '▁', '▁', '▁', '▁', '▁', '▁', '▁', '▁', '▁', '▁', '▁', '▁', '▁', '▁', '▁', '▁', '▁', '▁', '▁', '▁', '▁', '▁', '▁', '▁', '▁', '▁', '▁', '▁', '▁', '▁', '▁', '▁', '▁', '▁', '▁', '▁', '▁', '▁', '▁', '▁', '▁', '▁', '▁', '▁', '▁', '▁', '▁', '▁', '▁', '▁', '▁', '▁', '▁', '▁', '▁', '▁', '▁', '▁', '▁', '▁', '▁', '▁', '▁', '▁', '▁', '▁', '▁', '▁', '▁', '▁', '▁', '▁', '▁', '▁', '▁', '▁', '▁', '▁', '▁', '▁', '▁', '▁', '▁', '▁', '▁', '▁', '▁', '▁', '▁', '▁', '▁', '_', '_', '_', '_', '_', '_', '_', '_', '_', '_', '_', '_', '_', '_', '_', '_', '_', '_', '_', '_', '_', '_', '_', '_', '_', '_', '_', '_', '_', '_', '_', '_', '_', '_', '_', '_', '_', '_', '_', '_', '_', '_', '_', '▁', '_', '_', '_', '_', '_', '_', '_', '_', '_', '_', '_', '_', '_', '_', '_', 'la', '▁', '▁', '▁', '▁', 'th', 'th', 'th', 'in', 'k', 's', '▁', '▁', '▁', '▁', '▁', 't', 't', 't', 't', 't', '▁', '▁', 'b', 'b', 'it', 'it', '▁', 'di', 'di', 'ff', 'ff', 'er', 'ent', 'ent', 'ly', '_', '_', '_', '_', '_', 'zu', '_', '_', '_', '_', '_', '_', '_', '_', '_', '_', '_', '_', '_', '_', '_', '_', '_', '_', '_', '_', '_', '▁the', '▁the', '▁', '▁', '_', '_', '_', '_', '▁', '▁', 'c', 'ur', 'che', 'che', '_', '_', '▁', '▁', '▁', '▁', '▁', '▁', '_', '_', '_', 'p', 'p', 'r', '_', '_', '_', '_', '_', '_', 'ma', 'ch', 'ch', '_', '▁', '▁', '_', '_', 'an', 'an', 'y', 'y', 'y', '_', 'b', 'b', '_', 'd', 'y', '_', '_', '_', 's', '▁', '▁', 'on', 'on', '▁the', '▁', '_', '_', '_', '_', '_', 'plan', '_', '_', '_', '_', '_', '▁', '▁', '▁', '_', 'w', 'at', 'at', 'che', 'es', 'es', '▁', '▁', '_', '_', 'f', 'f', 'o', 'o', 'o', 't', 't', 'ball', ',', '▁', '▁', '_', '_', 'no', 'n', '_', '_', 'man', 'man', 'y', 'y', '▁', '_', '_', '_', '_', 'c', 'ur', 'che', 'che', 'che', 's', '_', '_', '_', '_', '▁with', '▁with', 'd', '_', '_', '_', '_', '_', '_', '_', '_', '_', '_', '▁ju', '_', 'st', 'st', '▁', '▁', '_', '_', '_', '_', '_', 'ca', '_', '_', 'u', 'u', 'al', 'y', '▁', '▁', '_', '_', '_', 's', 's', 'w', '_', 'p', 't', '_', '_', '▁', '▁', '_', 'bo', 'bo', 'th', '▁', '_', '_', '_', '_', '_', 'c', 'en', '_', '▁', '▁', 'ba', 'ack', 'ack', 's', '_', '_', '▁for', '▁the', '▁', '▁', '_', '_', '_', '_', '_', '_', '_', 'ff', '_', '_', '_', '_', '_', '_', '_', '_', '_', '_', 'f', 'f', 'in', '_', '▁', '▁', '▁', '▁', '▁', '▁', '▁', '▁', '▁', '▁', '▁', '▁', '▁', '▁', '▁', '▁', '▁', '▁', '▁', '▁', '▁', '▁', '▁', '▁', '▁', '▁', '▁', '▁', '▁', '▁', '▁', '▁', '▁', '▁', '▁', '▁', '▁', '▁', '▁', '▁', '▁', '▁', '▁', '▁', '▁', '▁', '▁', '▁', '▁', '▁', '▁', '▁', '▁', '▁', '▁', '▁', '▁', '▁', '▁', '▁', '▁', '▁', '▁', '▁', '▁', '▁', '_', '_', '_', '_', '_', '_', '_', '_', '_', '_', '_', '_', '_', '_', '_', '▁', '▁', '▁', '▁', 'T237', '_', '_', '_', '_', '_', '_', '_', '_', '_', '▁', 'T239', '_', '_', '_', '_', '_', '_', '_', '_', '_', '_', '_', '_', '_', '_', '_', '_', '_', '_', '▁', '_', '_', '_', '_', '_', '_', '_', '_', 'me', '_', '_', '_', '_', '▁', '▁', '▁', 'T237', '_', '_', '_', '_', '_', 'T', '_', '_', '_', '_', '_', '_', '_', '_', '_', '_', '_', 'y', 'al', '▁', '▁', '▁', '▁', '_', '_', '_', '_', '_', '_', 'b', 'b', 'en', '_', '_', '_', '_', '_', '_', '_', '_', '▁so', '▁so', '_', 'ff', 'ff', 'er', '_', '▁', '▁', '▁', '▁', '▁', '▁', 'w', 'w', 'en', 'en', '▁', '▁', '_', '_', '_', '_', '_', '_', 'Z', '_', '_', '_', '_', 'ieren', '_', '_', '_', '_', '_', '▁po', 's', 's', 's', 's', 's', 's', 'ion', '_', '_', '_', 'b', 'ur', '_', '_', '▁', '▁', '▁', 'go', '_', '▁', '▁', '▁', '▁', '_', '_', '_', 'sta', '_', '▁', '▁', '▁', 'z', 'e', 'it', 'de', 'et', '▁', '▁', '▁', '_', '_', 'go', '_', '_', '_', '▁', '▁', '_', '_', 'be', '_', '_', '_', '_', '_', '_', 'ge', 'ge', '_', 'th', 'th', 'er', '_', '_', '_', '_', '_', '_', '_', '_', '_', '_', '_', '_', '_', '▁with', '▁with', '▁with', '▁with', '▁', '▁', '▁', '_', '_', 'w', 'w', 'i', 'is', 'de', '_', '▁', '▁', '▁', '▁', '_', '_', '▁', 'be', '▁', '_', 'p', '_', 'un', 'is', 'h', '_', '▁', '▁', '▁', '▁', '_', '_', '_', '_', 'ing', '_', '_', '_', '_', '_', '_', '_', '_', '_', '▁', '▁', '▁', '▁', '_', '_', '_', '_', '_', '_', '_', '_', '_', '_', '_', 'h', 'h', 'it', 'it', '_', '▁the', 'm', 'm', '▁', 'on', '▁the', '▁the', '▁', '_', '_', '_', '_', '_', 'bre', 'bre', 'a', 'a', 'k', '_', '▁', '▁', '▁', '_', 'w', 'w', 'it', 'ch', '_', '_', '_', '_', 'm', '▁', '_', '_', '_', '_', '_', '_', 'mo', '_', '_', 'an', '_', '▁', '▁', '_', '_', '_', '_', '_', '_', 'ab', 'ab', 'b', 'le', 'le', '▁of', '▁of', '▁of', '_', '_', '_', '_', '_', '_', '_', '▁dur', '_', 'ing', 'ing', '_', '▁', '▁', '▁', '▁', '▁', '▁', '▁', '▁', '▁', '▁', '▁', '▁', '▁', '▁', '▁', '▁', '▁', '▁', '▁', '▁', '▁', '▁', '▁', '▁', '▁', '▁', '▁', '▁', '▁', '▁', '▁', '▁', '▁', '▁', '▁', '▁', '▁', '▁', '▁', '▁', '▁', '▁', '▁', '▁', '▁', '▁', '▁', '▁', '▁', '▁', '▁', '▁', '▁', '▁', '▁', '▁', '▁', '▁', '▁', '▁', '▁', '▁', '▁', '▁', '▁', '▁', '▁', '_', '_', '_', '_', '_', '_', '_', '_', '_', '_', '_', '_', '_', '_', '_', '_', '_', '_', '_', '_', '_', '_', '_', '_', '_', '_', '_', '_', '_', '_', 'T57', '_', '_', '_', '_', '_', '_', '_', '_', '_', '_', '_', '_', '_', '_', '_', '_', '_', '_', '_', '_', 'on', '_', 's', '▁', '▁', '▁', 'T239', '▁', '▁', '▁', '▁', '▁', '▁', '▁', '▁', '▁', '▁', '▁', '▁', '▁', '▁', '▁', '▁', '▁', '▁', '▁', '▁', '▁', '▁', '▁', '▁', '▁', '▁', '▁', '▁', '▁', '▁', '▁', '▁', '▁', '▁', '▁', '▁', '▁', '▁', '▁', '▁', '▁', '▁', '▁', '▁', '▁', '▁', '▁', '▁', '▁', '▁', '▁', '▁', '▁', '_', '_', '_', '_', '_', '_', '_', '_', '_', '_', '_', '_', '_', '_', '_', '_', '_', '_', '_', '_', '_', 'T237', '_', 'T234', '_', '_', '_', '_', '_', '_', '_', '_', '_', '_', '_', '_', '▁', '▁', '▁', '▁', '▁', '_', '_', '_', '_', '_', '_', 'h', '_', 't', 'ch', 'che', '▁', '▁', '_', '_', '_', '_', '_', 'th', '_', '_', '_', 'k', '_', '_', '_', '▁', '▁', '▁', '_', '_', '_', '_', '_', '_', 's', 'p', 'p', 'in', '▁', '▁', '_', 'w', 'w', 'a', 'y', 'y', '_', '_', '_', '_', '▁from', '▁from', '▁', '▁', 'T237', '_', 'T234', '_', '_', 'T57', '▁', '▁Man', '_', '_', 'minute', 'minute', '▁END', '▁END', 'T239', '▁', '_', '_', '_', '_', '_', '_', '_', '_', '_', '_', '_', '_', '_', '_', '_', '_', '_', '_', '_', '_', '_', '_', '_', '_', '_', '_', '_', '_', '_', '_', '_', '_', 'w', 'w', 'a', 'y', '▁', '▁', '▁', '▁', '▁', '▁', '▁', '▁', '▁', '▁', '▁', '▁', '▁', '▁', '▁', '▁', '▁', '▁', '▁', '▁', '▁', '▁', '▁', '▁', '▁', '▁', '▁', '▁', '▁', '▁', '▁', '▁', '▁', '▁', '▁', '▁', '▁', '▁', '▁', '▁', '▁', '▁', '▁', '▁', '▁', '▁', '▁', '▁', '▁', '▁', '▁', '▁', '▁', '▁', '▁', '▁', '▁', '▁', '▁', '▁', '▁', '▁', '▁', '▁', '▁', '▁', '▁', '▁', '▁', '▁', '▁', '▁', '▁', '▁', '▁', '▁', '▁', '▁', '▁', '▁', '▁', '▁', '▁', '▁', '▁', '▁', '▁', '▁', '▁', '▁', '▁', '▁', '▁', '▁', '▁', '▁', '▁', '▁', '▁', '▁', '▁', '▁', '▁', '▁', '▁', '▁', '▁', '▁', '▁', '▁', '▁', '▁', '▁', '▁', '▁', '▁', '▁', '▁', '▁', '▁', '▁', '▁', '▁', '▁', '▁', '▁', '_', '_', '_', '_', '_', '_', '_', '_', '_', '_', '_', '_', '_', '_', '_', '_', '_', '_', '_', '_', '_', '_', '_', '_', '_', '_', '_', '_', '_', '_', '_', '_', '_', '_', '_', '_', '_', '_', '_', '_', '_', '_', '_', '_', '_', '_', '_', '▁', '▁', '▁', '▁', '▁', 'a', '_', '_', '_', '_', '_', '▁', '_', 'F', 'a', 'ami', 'il', 'li', 'li', '_', '_', '_', '_', '_', '_', 'at', 't', 'ack', 'ack', '▁', '▁', '▁', '▁', '▁', '_', '▁the', '▁the', '_', '_', '_', '_', '_', '_', '_', 'ly', 'ly', '_', '_', '_', '_', '_', 'st', '_', 'age', 's', 's', '▁', '▁', '▁', '▁', '▁', '▁', '_', '_', '_', 'p', 'p', 'r', 'r', '_', 'te', '_', '_', 'ma', 'ma', '▁', '▁', '▁', '▁', 'ver', 'ver', 'y', 'y', '▁', '_', '_', '_', '_', 'ma', 't', 'ch', 'ch', '_', '▁de', '▁', '_', '_', '_', '_', 'C', 'it', 'it', 'y', '▁', '▁', '_', 'ga', 'ga', 'an', '_', '_', '▁', '.', '_', 'T237', '_', '_', '_', '_', 'T57', '_', '_', '_', '_', '_', '_', '_', '_', '_', '_', '_', '_', '_', '_', '_', '_', 'lo', '_', '_', '_', '_', '_', '_', '_', 's', 's', 'co', '_', '_', '_', '_', '_', '_', '_', '_', '_', '▁to', '_', 'm', 'ne', '▁', '▁', '▁', '▁', 'as', '▁', '▁', 'we', 'll', 'll', '▁', '_', '_', '_', 'ke', 'ke', 'y', '▁', '▁', '▁', '▁', '_', '_', '_', '_', '_', '_', '_', '_', '_', '_', '_', '_', 'ver', '_', '▁his', '▁his', '▁', '_', '_', '_', '_', 'r', 'r', 'ig', 'h', 't', '_', 's', 's', 'ho', 'ho', '_', '_', '▁', '▁', '_', '_', '_', '_', '_', 'j', 'st', 'st', '▁', '▁', '▁ha', 'ave', 'ave', '▁', '▁', 'a', '_', '_', '_', '▁', '▁', '▁', '▁', 'h', 'e', '▁', '▁', '_', '_', '_', 'ro', 'ro', '_', '_', 'r', 'ies', 'ies', '▁', '▁', '▁to', '▁to', '▁', '_', '_', 'ry', 'ing', '▁', '▁', '_', 's', 'to', 'p', 'p', 'p', 'h', 'h', 'i', 'm', '▁', '▁', '_', 'ge', 'ge', 't', '▁', '_', 'on', 'on', '▁the', '▁the', '▁', '_', '_', 'bo', 'ball', '▁', '▁', '▁', '▁', '_', '_', 'ch', 'ic', 'k', '_', '▁', '_', 'ta', '_', '_', 'ing', '▁', 'in', '▁the', '▁the', '_', '_', '_', '_', 'pa', 'pa', 'ce', '▁of', '▁of', '▁of', '▁the', '▁', '_', '_', '_', '_', '_', '_', 'ga', '_', 'me', '_', '_', '▁', '▁', '▁', '▁', '▁', '▁', '▁', '▁', '▁', '▁', '▁', '▁', '▁', '▁', '▁', '▁', '▁', '▁', '▁', '▁', '▁', '▁', '▁', '▁', '▁', '▁', '▁', '▁', '▁', '▁', '▁', '▁', '▁', '▁', '▁', '▁', '▁', '▁', '▁', '▁', '▁', '▁', '▁', '▁', '▁', '▁', '▁', '▁', '▁', '▁', '▁', '▁', '▁', '▁', '▁', '▁', '▁', '▁', '▁', '▁', '▁', '▁', '▁', '▁', '▁', '▁', '▁', '▁', '▁', '▁', '▁', '▁', '▁', '▁', '▁', '▁', '▁', '▁', '_', '_', '_', '_', '_', '_', '_', '_', '_', '_', '_', '_', '_', '_', '_', '_', '_', '_', '_', '_', '_', '_', '_', '_', '_', '_', '_', '_', '_', '_', '_', '_', '_', '_', '_', '_', '▁', '▁', '▁', '▁', '▁', '_', '_', '_', '_', '_', '_', '_', '_', '_', '_', '_', '_', '_', '_', '_', '▁', '▁', '▁', '▁', '▁', 'T237', '_', '_', '_', '_', '▁', '▁', '_', '_', '_', '_', '_', '_', '_', '▁', '▁', '▁', '▁', '▁', '▁', '▁', '▁', '▁', '▁', '▁', '▁', '▁', '▁', '▁', '▁', '▁', '▁', '▁', '▁', '▁', '▁', '▁', '▁', '▁', '▁', '▁', '▁', '▁', '▁', '▁', '▁', '▁', '▁', '▁', '▁', '▁', '▁', '▁', '▁', '▁', '▁', '▁', '▁', '▁', '▁', '▁', '▁', '▁', '▁', '▁', '▁', '▁', '▁', '▁', '▁', '▁', '▁', '▁', '▁', '▁', '▁', '▁', '▁', '▁', '▁', '▁', '▁', '▁', '▁', '▁', '▁', '▁', '▁', '▁', '▁', '▁', '▁', '▁', '▁', '▁', '▁', '▁', '▁', '▁', '▁', '▁', '▁', '▁', '▁', '▁', '▁', '▁', '▁', '▁', '▁', '▁', '▁', '▁', '▁', '▁', '▁', '▁', '▁', '▁', '▁', '▁', '▁', '▁', '▁', '▁', '▁', '▁', '▁', '▁', '▁', '▁', '▁', '▁', '▁', '▁', '▁', '▁', '▁', '▁', '▁', '▁', '▁', '▁', '▁', '▁', '▁', '▁', '▁', '▁', '▁', '▁', '▁', '▁', '▁', '▁', '▁', '▁', '▁', '▁', '▁', '▁', '▁', '▁', '▁', '▁', '▁', '▁', '▁', '▁', '▁', '▁', '▁', '▁', '▁', '▁', '▁', '▁', '▁', '▁', '▁', '_', '_', '_', '_', '_', '_', '_', '_', '_', '_', '_', '_', '_', '_', '_', '_', '_', '_', '_', '_', '_', '_', '_', '_', '_', '_', '_', '_', '_', '_', '_', '_', '_', '_', '_', '_', '_', '_', '_', '_', '_', '_', '_', '_', '_', '_', '_', '_', '_', '_', '_', '_', '_', '_', '_', '_', '_', '_', '_', '_', '_', '_', '_', '_', '_', '_', '_', '_', '_', '_', '_', '▁so', '_', '_', 'va', '_', '▁', 'T239', '_', '_', '_', '_', 'w', 'w', 'i', 'de', '▁', '▁', '▁', 'on', 'on', '▁', '▁', '_', '_', '_', '_', '▁', '▁', '_', 'h', 't', '▁', '▁', '_', '_', '_', '_', '_', 'Qu', '_', '_', '_', '_', '_', '▁', '▁', '▁', '▁', '_', 'is', 'is', '_', '▁the', '▁the', '_', '_', '_', '_', '_', '_', '_', '_', '▁de', '▁de', 'f', 'f', 'a', 'act', 'to', 'r', '_', '▁', '▁', '▁', '_', '_', '_', 'le', 'le', 'f', 't', 't', '_', '_', '_', 'we', 'we', 'ing', 'ing', 'ing', '_', '▁', '_', 'up', '_', '▁', '▁', '▁', '▁', '▁', '▁', '▁', '▁', '▁', '▁', '▁', '▁', '▁', '▁', '▁', '▁', '▁', '▁', '▁', '▁', '▁', '▁', '▁', '▁', '▁', '▁', '▁', '_', '_', '_', '_', '_', '_', '_', '_', '_', '_', '_', '_', '_', '_', '_', '_', '_', '_', '_', '_', '_', '_', '_', '_', '_', '_', '_', '_', '_', '_', '_', '_', '_', '_', 'us', '_', 's', 'ch', '_', '_', '▁', '_', '_', '_', '_', '_', '_', '▁for', '_', '_', '_', '_', '▁', '_', '_', '_', '_', '_', '_', '_', '_', 'p', '_', '_', '_', '_', '_', '_', '▁', '▁', '▁', '▁', '▁', '▁', '▁', '▁', '▁', '▁', '▁', '▁', '▁', '▁', '▁', '▁', '▁', '▁', '▁', '▁', '▁', '▁', '▁', '▁', '▁', '▁', '▁', '▁', '▁', '▁', '▁', '▁', '▁', '▁', '▁', '▁', '▁', '▁', '▁', '▁', '▁', '▁', '▁', '▁', '▁', '▁', '▁', '▁', '▁', '▁', '▁', '▁', '▁', '▁', '▁', '▁', '▁', '▁', '▁', '▁', '▁', '▁', '▁', '▁', '▁', '▁', '▁', '▁', '▁', '▁', '▁', '▁', '▁', '▁', '▁', '▁', '▁', '▁', '▁', '▁', '▁', '▁', '▁', '▁', '▁', '_', '_', '_', '_', '_', '_', '_', '_', '_', '_', '_', '_', '_', '_', '_', '_', '_', '_', '_', '_', '_', '_', '_', '_', '_', '_', '_', '_', '_', '_', '_', '_', '_', '_', '_', '_', '_', '_', '_', '_', '_', '_', '_', '_', '_', '_', '_', '▁', '_', '_', '_', '_', '_', '▁', '_', 'T237', '_', '_', '_', '_', '_', '_', '_', '_', '_', '_', '_', '_', '_', '_', '_', '_', '_', '_', '▁', '▁', '▁', '▁', '▁', '▁', '▁', '▁', '▁', '▁', '▁', '▁', '▁', '▁', '▁', '▁', '▁', '▁', '▁', '▁', '▁', '▁', '▁', '▁', '▁', '▁', '▁', '▁', '▁', '▁', '▁', '▁', '▁', '▁', '▁', '▁', '▁', '▁', '▁', '▁', '▁', '▁', '▁', '▁', '▁', '▁', '▁', '▁', '▁', '▁', '▁', '▁', '▁', '▁', '▁', '▁', '▁', '▁', '▁', '▁', '▁', '▁', '▁', '▁', '▁', '▁', '▁', '▁', '▁', '▁', '▁', '▁', '▁', '▁', '▁', '▁', '▁', '▁', '▁', '▁', '▁', '▁', '▁', '▁', '▁', '▁', '▁', '▁', '▁', '▁', '▁', '▁', '▁', '▁', '▁', '▁', '▁', '▁', '▁', '▁', '▁', '▁', '▁', '▁', '▁', '▁', '▁', '▁', '▁', '▁', '▁', '▁', '▁', '▁', '▁', '▁', '▁', '▁', '▁', '▁', '▁', '▁', '▁', '▁', '▁', '▁', '▁', '▁', '▁', '▁', '▁', '▁', '▁', '▁', '▁', '▁', '▁', '▁', '▁', '▁', '▁', '▁', '▁', '▁', '▁', '▁', '▁', '▁', '▁', '▁', '▁', '▁', '▁', '▁', '▁', '▁', '_', '_', '_', '_', '_', '_', '_', '_', '_', '_', '_', '_', '_', '_', '_', '_', '_', '_', '_', '_', '_', '_', '_', '_', '_', '_', '_', '_', '_', '_', '_', '_', '_', '_', '_', '_', '_', '_', '_', '_', '_', '_', '_', '_', '_', '_', '_', '_', '_', '_', '_', '_', '_', '_', '_', '_', '_', '_', '_', '_', '_', '_', '_', '_', '▁', '▁', '▁', '_', '_', '_', '_', '_', '_', '_', 'చ', '_', '_', '_', '_', '_', '_', '_', '_', '_', '_', '_', '_', '_', '_', '_', '_', '_', '_', '_', '_', '_', 'ర', '_', '_', '_', '_', '▁', '▁', '▁', '▁', '▁', '▁', '▁', '▁', '▁', '▁', '_', '_', '_', '_', '_', '_', '_', '_', '_', '_', '_', '_', '_', '_', '_', '_', '_', '_', '_', '_', '_', '_', '_', '_', '▁', '▁', '▁', '_', '_', '_', '▁', '▁', '_', '_', '_', '▁', '▁', '়', 'ই', '▁', '▁', '_', '_', 'ఉ', 'ం', 'ద', 'ో', '▁', '▁', '▁', '_', '_', '_', 'వ', '_', 'న్', 'ని', '_', '_', '_', '_', '_', 'ci', 'ci', '_', 'z', '▁', '▁', '▁', '▁', '_', '_', '_', 'గ', 'ో', 'ో', 'ో', '_', '_', '_', '_', '_', '_', '_', 'క', '_', '_', '_', '▁', '_', '_', '_', 'der', '▁', '_', '_', '_', '_', '_', '_', '_', '_', '_', '_', '_', '_', '▁', '▁', '▁', '▁', '▁', '▁', '▁', '▁', '▁', '_', '_', '_', '_', '_', '_', '_', '_', '_', '_', '_', '_', '_', '_', '_', '_', '_', '_', 'స', 'స', '_', '_', '▁', '_', '_', '_', '_', '_', '_', '_', '_', '_', '_', '_', '_', '_', '_', 'నా', '▁', '▁', '▁', '▁', '_', '_', '_', '_', '▁', 'e', 'c', 'c', 'c', '_', 's', 'ion', '_', '▁', '▁', '▁', '▁', '_', '_', '_', '_', 's', '▁', '▁', '_', '_', 'time', 'time', 'time', '_', '_', '▁', '▁', '_', '_', '_', '_', '_', '_', 'p', 'ur', '_', '_', '_', '_', '_', '_', '_', '_', '_', '_', '_', '_', 's', 's', '_', '_', '_', '_', 'es', 'ed', '_', '_', '▁', '▁', '▁', '▁', '▁', '▁', '▁', '▁', '▁', '▁', '_', '_', '▁', '▁', '▁', '▁', '▁', '_', '_', '_', '_', '_', '_', '_', '_', '_', '_', '_', 'go', '_', '_', '_', '_', '_', '_', '_', 'do', '_', '▁', '▁', '▁', '▁', '▁', '▁', '▁', '▁', '▁', '_', '_', '_', '_', '_', 'em', 'm', '▁', '▁', '_', '_', '_', '_', '_', '_', 'N', '_', 'ch', 'ch', 'ch', '_', 'ester', '_', '_', 'in', '_', '_', '_', '_', '_', '_', '_', '_', '_', '_', '_', 'di', '_', '_', '_', 's', '_', '▁', '▁', '▁', '▁', '▁', '▁', '▁', '▁', '▁', '▁', '▁', '▁', '▁', '▁', '▁', '▁', '▁', '▁', '▁', '▁', '▁', '▁', '▁', '▁', '▁', '▁', '▁', '▁', '▁', '▁', '▁', '▁', '▁', '▁', '▁', '▁', '▁', '▁', '▁', '▁', '▁', '▁', '▁', '▁', '▁', '▁', '▁', '▁', '▁', '▁', 'T2', 'T2', '▁', '▁', '▁', 'T237', '_', 'T156', '_', '_', '_', 'T57', '▁', '_', '_', '_', '_', '_', '_', '_', '_', '_', '_', '_', '_', '_', '_', '_', '_', '_', '▁', '▁', '▁', '_', '_', '_', '_', '_', '_', '_', '_', '_', '▁', '▁', '▁', 'T237', '_', 'T234', '_', '_', 'T57', '▁', 'b', 'b', 'r', 't', 't', 's', '▁', 'T239', '▁', 'mo', 'mo', 've', '_', '▁', '▁', 'an', 'an', '_', '_', '_', '_', '_', '_', '_', '_', 'b', 'b', '_', '_', '_', '_', '_', '_', '_', '_', '_', '▁sur', '▁sur', '_', '_', '_', '_', '_', '▁', '▁', '▁', '▁', '▁', '▁', '▁', '▁', '▁', '▁', '▁', '▁', '▁', '▁', '▁', '▁', '▁', '▁', '▁', '▁', '▁', '▁', '▁', '▁', '▁', '▁', '▁', '▁', '▁', '▁', '▁', '▁', '▁', '▁', '▁', '▁', '▁', '▁', '▁', '▁', '▁', '▁', '▁', '▁', '▁', '▁', '▁', '▁', '▁', '▁', 'T2', '▁', '▁', '▁', 'T237', '_', 'T156', '_', '_', '_', '_', 'T57', '▁', '_', 'B', '_', '_', '_', '_', '_', '_', '_', '_', '_', '_', '_', '_', '_', '_', '_', '_', '_', '_', '_', 'va', 'va', '_', '_', '_', '_', '_', '_', '_', '_', '_', '_', '_', '_', '_', '_', '_', '_', '_', '_', '_', '_', '_', '_', '_', '_', '_', '_', '_', '_', '_', '_', '_', '_', '_', '_', '_', '_', '_', '_', '_', '_', '_', 'th', 'th', 're', 'e', '▁', '_', '_', '_', '_', '_', '_', '▁goal', '▁goal', 's', '▁', '▁', '▁', '▁', 'in', '_', '▁la', '▁', 'T237', '_', 'T299', '_', 'T57', '_', '▁La', '_', '_', '_', '_', '_', '_', '_', '_', '▁A', '_', '_', '_', '_', '_', '_', '_', '_', '_', '_', '_', '_', '_', '_', '_', '_', '_', '_', '_', '_', '_', '_', '_', '_', '_', '_', '_', '_', '_', '_', '_', '_', '_', '_', 'C', '_', '_', '_', '_', '_', 'us', '_', '_', '_', 'ly', '_', '_', '_', '_', '▁', '▁', '▁', '▁', '_', '_', '_', '_', '_', '_', '_', '_', '_', 'e', '_', 'ver', 'ver', 'y', 'y', '_', '_', '_', 'on', 'on', '▁of', '▁of', '▁of', 'm', 'm', 'm', '▁', '▁', '_', '_', '_', '_', '_', 'di', 'f', 'fe', 'le', 'c', 'c', 'te', '_', '_', '_', '_', 'm', '▁', '▁', '▁', '▁', '▁', '▁', '▁', '▁', '▁', '▁', '▁', '▁', '▁', '▁', '▁', '▁', '▁', '▁', '▁', '▁', '▁', '▁', '▁', '▁', '▁', '▁', '▁', '▁', '▁', '▁', '▁', '▁', '▁', '▁', '▁', '▁', '▁', '▁', '▁', '▁', '▁', '▁', '▁', '▁', '▁', '▁', '▁', '▁', '▁', '▁', '▁', '▁', '▁', '▁', '▁', '▁', '▁', '▁', '▁', '▁', '▁', '▁', '▁', '▁', '▁', '▁', '▁', '▁', '▁', '▁', '▁', '▁', '▁', '▁', '▁', '▁', '▁', '▁', '▁', '▁', '▁', '▁', '▁', '▁', '▁', '▁', '▁', '▁', '▁', '▁', '▁', '▁', '▁', '▁', '▁', '▁', '▁', '▁', '▁', '▁', '▁', '▁', '▁', '▁', '▁', '▁', '▁', '▁', '▁', '▁', '▁', '▁', '▁', '▁', '▁', '▁', '▁', '▁', '▁', '▁', '▁', '▁', '▁', '▁', '▁', '▁', '▁', '▁', '▁', '▁', '▁', '▁', '▁', '▁', '▁', '▁', '▁', '▁', '▁', '▁', '▁', '▁', '_', '_', '_', '_', '_', '_', '_', '_', '_', '_', '_', '_', '_', '_', '_', '_', '_', '_', '_', '_', '_', '_', '_', '_', '_', '_', '_', '_', '_', '_', '_', '_', '_', '_', '_', '_', '_', '_', '_', '_', '_', '_', '_', '_', '_', '_', '_', '_', '_', '_', '_', '_', '_', '_', '_', '_', '_', '_', '_', '_', '_', '_', '_', '_', '_', '_', '_', '_', '_', '_', '_', '_', '_', '_', '_', '_', '_', '_', '_', '_', '_', '_', '_', '_', '_', '_', '_', '_', '_', '_', '_', '_', '_', '_', '_', '_', '_', '_', '_', '_', '_', '_', '_', '_', '_', '_', '_', '_', '_', '_', '_', '_', '_', '_', '_', '_', '_', '_', '_', '_', '_', '_', '_', '_', '_', '_', '_', '_', '_', '_', '_', '_', '_', '_', '_', '_', '_', '_', '_', '_', '_', '_', '_', '_', '_', '_', '_', '_', '_', '_', '_', '_', '_', '_', '_', '_', '_', '_', '_', '_', '_', '_', '_', '_', '_', '_', '_', '_', '_', '_', '_', '_', '_', '_', '_', '_', '_', '_', '_', '_', '_', '_', '_', '_', '_', '_', '_', '_', '_', '_', '_', '_', '_', '_', '_', '_', '_', '_', '_', '_', '_', '_', '_', '_', '_', '_', '_', '_', '_', '_', '_', '_', '_', '_', '_', '_', '_', '_', '_', '▁', '▁', '▁', 'T237', '_', '_', 'T255', '_', '_', 'ex', 's', 'p', '_', '_', 'z', '_', '_', '▁', '▁', 'T239', '▁', '▁', '▁', 'T237', '_', '_', '_', '_', '_', '▁', '_', '_', 'and', 'and', 'and', '_', '_', '_', '▁S', 'y', 'ste', 'm', 'ma', '▁', '▁', '_', '_', '_', '_', '_', '_', '_', '▁P', '_', '_', '_', '_', 'ent', 's', '▁', '▁', '▁', '_', '_', '_', '_', '_', 'p', 'us', 'us', 's', 'ch', 'en', '_', '_', '_', '_', '▁for', '▁for', 'w', 'w', 'd', 'd', '▁', '▁', '▁', '_', '_', '_', '_', '_', '_', '_', '_', '_', 'ti', 'e', '▁', '_', '_', '▁de', 'm', '▁', '_', '_', '_', '_', '_', '_', '_', '▁Me', 'me', '_', '_', '_', '▁', '▁', '▁', '▁', '▁', '▁', '▁', '▁', '▁', '▁', '▁', '▁', '▁', '▁', '▁', '▁', '▁', '▁', '▁', '▁', '▁', '▁', '▁', '▁', '▁', '▁', '▁', '▁', '▁', '▁', '▁', '▁', '▁', '▁', '▁', '▁', '▁', '▁', '▁', '▁', '▁', '▁', '▁', '▁', '▁', '▁', '▁', '▁', '▁', '▁', '▁', '▁', '▁', '▁', '▁', '▁', '▁', '▁', '▁', '▁', '▁', '▁', '▁', '▁', '▁', '▁', '_', '_', '_', '_', '_', '_', '_', '_', '_', '_', '_', '_', '_', '_', '_', '_', '_', '_', '_', '_', '_', '_', '_', '_', '_', '_', '_', '_', '_', '_', '_', '_', '_', '_', '_', '_', '_', '_', '▁', '_', '_', '_', '_', '_', '_', '_', '_', '_', '_', '▁', '_', '_', '_', '_', '_', '_', '_', '_', '_', '▁', '_', '_', '_', '_', '_', '_', '▁', '▁', '▁', '▁', '▁', '▁', '▁', '▁', '▁', '▁', '▁', '▁', '▁', '▁', '▁', '▁', '▁', '▁', '▁', '▁', '▁', '▁', '▁', '▁', '▁', '▁', '▁', '▁', '▁', '▁', '▁', '▁', '▁', '▁', '▁', '▁', '▁', '▁', '▁', '▁', '▁', '▁', '▁', '▁', '▁', '▁', '▁', '▁', '▁', '▁', '▁', '▁', '▁', '▁', '▁', '▁', '▁', '▁', '▁', '▁', '▁', '▁', '▁', '▁', '▁', '▁', '▁', '▁', '▁', '▁', '▁', '▁', '▁', '▁', '▁', '▁', '▁', '▁', '▁', '▁', '▁', '▁', '▁', '▁', '▁', '▁', '▁', '▁', '▁', '▁', '▁', '▁', '▁', '▁', '▁', '▁', '▁', '▁', '▁', '▁', '▁', '▁', '▁', '▁', '▁', '▁', '▁', '▁', '▁', '▁', '▁', '▁', '▁', '▁', '▁', '▁', '▁', '▁', '▁', '▁', '▁', '▁', '▁', '▁', '▁', '▁', '▁', '▁', '▁', '▁', '▁', '▁', '▁', '▁', '_', '_', '_', '_', '_', '_', '_', '_', '_', '_', '_', '_', '_', '_', '_', '_', '_', '_', '_', '_', '_', '_', '_', '_', '_', '_', '_', '_', '_', '_', '_', '_', '_', '_', '_', '_', '_', '_', '_', '_', '_', '_', '_', '_', '_', '▁', '▁', '▁', '▁', '_', '_', '_', '_', '_', '_', '_', '_', '_', '_', '_', '_', '_', '_', '_', '_', '_', '_', '_', '_', '_', '_', '_', '_', '_', '_', '_', '_', '_', '_', '_', '_', '_', '_', '_', '_', '_', '_', '_', '_', '_', '_', '_', '_', '_', '_', '_', '_', '_', '_', '_', '_', '_', '_', '_', '_', '_', '_', '_', '_', '_', '_', '_', '_', '_', 'w', 'or', 'or', 'k', 'k', 'a', '_', '_', '_', '_', '_', '▁', '_', '_', '_', '_', '_', '_', '_', '_', '_', '_', '_', '_', '_', '_', '_', '_', '_', '_', '_', '_', '_', '_', '_', '_', '_', '_', '_', '_', '_', '_', '_', '_', '_', '_', '_', '_', '_', '_', '_', '_', '_', '_', '_', '_', '_', '▁', '▁', '_', '_', '_', '_', '_', '_', '_', '_', 'ver', 'ver', '▁', '▁', '▁', '▁', 'be', 'be', 'be', 'h', 'in', 'd', 'd', '_', '_', '_', 'm', 'm', 'm', 'T237', '_', '_', '_', '_', '_', 'T57', '▁', 'w', 'or', 'or', '_', '_', '_', '_', '_', '_', '_', '_', '_', '_', '_', '_', '_', '_', '_', '_', '_', '_', '_', '_', '_', '_', '_', '_', '_', '_', '_', '_', '_', '_', '_', '_', '_', '_', '_', '_', '_', '_', '_', '_', '_', 's', 'ch', 'r', '_', '_', 'it', 't', 'd', '▁', '▁', '▁', '▁', 'in', 'in', 'to', 'to', '▁the', '▁the', '▁', '_', '_', '_', '_', '_', '▁', 'f', 'ic', 'ic', 'k', '_', '_', '_', '_', '_', '_', '_', '_', '_', '_', '_', '_', '_', '_', '_', '_', '_', '_', '_', '_', '_', '_', '_', '_', '_', '_', '_', '_', '_', '_', '_', '_', '_', '_', '_', '_', '_', '_', '_', '_', '_', '_', '_', '_', '_', '_', '_', '_', '_', '_', '_', '▁', '_', '_', '_', '_', '_', '_', '_', '_', '_', '_', '_', '_', '_', '_', '_', '_', 'ling', '_', '_', '_', '▁', '▁', '▁', '▁', 'T237', '_', 'T156', 'T156', '_', '_', 'T57', 'T57', '_', '_', '_', '_', '_', '_', '_', '_', '_', '▁', 'T239', 'T239', '▁', 'a', 'f', 't', '▁', '▁', '▁', 'T237', '_', 'T156', '_', 'T57', '▁S', '▁S', '_', '_', '_', '_', '_', '_', '▁his', 's', '_', '_', '_', '_', 'f', 'ir', 'st', '_', '_', '▁to', '▁to', '_', 't', 's', '_', '_', '_', '▁ju', '_', 'st', 's', '▁', '▁', '▁', '_', '▁Le', 't', 't', 't', 'h', 'i', 'm', '▁', 'do', 'do', 'w', 'n', '▁', 'it', 'it', '▁', '_', '_', '▁to', '▁to', '_', 'k', '_', '_', '_', 'in', 'in', 'to', 'to', '▁the', '▁', '_', '_', '_', '_', 'tra', '_', 'if', 'if', '▁', '▁', '▁', 'in', '▁the', '▁', '_', '_', '_', '_', '▁mi', '▁mi', '_', 'le', '_', '▁the', '▁the', '_', '_', '_', '_', '_', '▁po', '_', '_', '_', '▁', '▁', '▁', '▁', '▁', '▁', '▁', '▁', '▁', '▁', '▁', '▁', '▁', '▁', '▁', '▁', '▁', '▁', '▁', '▁', '▁', '▁', '▁', '▁', '▁', '▁', '▁', '▁', '▁', '▁', '▁', '▁', '▁', '▁', '▁', '▁', '▁', '▁', '▁', '▁', '▁', '▁', '▁', '▁', '▁', '▁', '▁', '▁', '▁', '▁', '▁', '▁', '▁', '▁', '▁', '▁', '▁', '▁', '▁', '▁', '▁', '▁', '▁', '▁', '▁', '▁', '▁', '▁', '▁', '▁', '▁', '▁', '▁', '▁', '▁', '▁', '▁', '▁', '▁', '▁', '▁', '▁', '▁', '▁', '▁', '_', '_', '_', '_', '_', '_', '_', '_', '_', '_', '_', '_', '_', '_', '_', '_', '_', '_', '_', '_', '_', '_', '_', '_', '_', '_', '_', '_', '_', '_', '_', '_', '_', '_', '▁', '▁', '▁', '▁', 'T237', '_', '_', '_', '_', '_', '_', 'T157', '▁', 'D', '_', '_', '_', '_', '_', 'b', '_', '_', '_', '_', '_', 'a', 'a', '▁', '▁', 'T239', '▁', '▁', '▁', '▁', '▁', '▁', '▁', '▁', '▁', '▁', '▁', '▁', '▁', '▁', '▁', '▁', '▁', '▁', '▁', '▁', '▁', '▁', '▁', '▁', '▁', '▁', '▁', '▁', '▁', '▁', '▁', '▁', '▁', '▁', '▁', '▁', '▁', '▁', '▁', '▁', '▁', '▁', '▁', '▁', '▁', '▁', '▁', '▁', '▁', '▁', '▁', '▁', '▁', '▁', '▁', '▁', '▁', '▁', '▁', '▁', '▁', '▁', '▁', '▁', '▁', '▁', '▁', '▁', '▁', '▁', '▁', '▁', '▁', '▁', '▁', '▁', '▁', '▁', '▁', '▁', '▁', '▁', '▁', '▁', '▁', '▁', '▁', '▁', '▁', '▁', '▁', '▁', '▁', '▁', '▁', '▁', '▁', '▁', '▁', '▁', '▁', '▁', '▁', '▁', '▁', '▁', '▁', '▁', '▁', '▁', '▁', '▁', '▁', '▁', '▁', '▁', '▁', '▁', '▁', '▁', '▁', '▁', '▁', '▁', '▁', '▁', '▁', '▁', 'T237', '_', 'T156', '_', '_', '_', '_', 'T57', 'T57', '_', '_', '_', '_', '_', '_', '_', '_', 'ch', 'ch', 'ester', 'ester', 'ester', 'ester', '_', '_', '_', '_', '_', 'tic', 'tic', '▁', '▁', '▁', 'T239', '_', '_', 'ing', 'ing', '▁', '▁', '_', '_', 'no', 'no', '_', '_', '_', '_', '_', '_', 'en', 'en', 'ne', '_', '_', '▁the', '▁the', '▁', '_', '_', '_', '_', '_', 'bo', 'ball', '_', '▁', '▁', '▁', '▁', '▁', '▁', '▁', '▁', '▁', '▁', '▁', '▁', '▁', '▁', '▁', '▁', '▁', '▁', '▁', '▁', '▁', '▁', '▁', '▁', '▁', '▁', '▁', '▁', '▁', '▁', '▁', '▁', '▁', '▁', '▁', '▁', '▁', '▁', '▁', '▁', '▁', '▁', '▁', '▁', '▁', '▁', '▁', '▁', '▁', '▁', '▁', '▁', '▁', '▁', '▁', '▁', '▁', '▁', '▁', '▁', '▁', '▁', '▁', '▁', '▁', '▁', '▁', '▁', '_', '_', '_', '_', '_', '_', '_', '_', '_', '_', '_', '_', '_', '_', '_', '_', '_', '_', '_', '_', '_', '_', '_', '_', '_', '_', '_', '_', '▁', '▁', '▁', '_', '_', '_', '_', '_', '_', '_', '_', 'ly', 'ly', '▁', '▁', '▁', 'be', 'be', 'en', '▁', 'ab', 'ab', 'le', '_', '_', '_', '_', '_', '▁play', '▁play', '▁play', '_', '_', '_', '_', '_', '_', '_', '_', '▁pas', '▁pas', 's', 's', '_', '_', '▁', '▁', '_', 'T237', '_', 'T156', '_', '_', 'T57', '_', '_', '_', '_', '_', '_', '_', '_', '_', '_', '_', '_', 'y', '_', '▁', '▁', '▁', '▁', '▁', '▁', '_', '_', '_', '_', '_', '_', 'be', 'be', '_', '_', '_', '_', '_', '_', 'ion', '▁', '▁', '▁', '▁', '_', '_', '_', '_', '_', '_', '_', '_', '_', '_', '_', '_', '_', '_', '_', '_', '_', '_', '_', '▁', '▁', '_', 'T237', '_', 'T156', '_', 'T57', '▁', 'O', '_', '▁Barcelon', '_', '_', '_', '_', '_', 'us', '_', '_', '_', '_', '▁Le', '▁Le', '_', '_', '_', '_', '_', 't', \"'\", 't', 's', '▁', '▁', '▁', '▁', 'a', 'lo', 'w', 'w', '▁', '▁', 'th', 'os', 'se', 'se', '_', '_', '_', '_', 'ga', 'ga', '_', 'b', '_', 's', '_', '_', '_', '_', '_', '_', '_', 'h', '_', '_', '_', 'en', '_', '▁', '▁', '▁', '_', '_', '_', '_', '_', '_', '_', '_', '_', '_', '_', '▁', '_', '▁', '▁', '_', '_', '_', '_', '_', '_', '_', '_', '_', '_', '_', '_', '_', '_', '_', '_', '_', '_', '_', '_', '_', '_', '_', '_', '_', '_', '_', '_', '_', '_', '_', '_', '_', '_', '_', '_', '_', '_', '_', '_', '_', '_', '_', '_', '_', '_', '_', '_', '_', '_', '_', '_', '_', '_', '_', '_', '_', '_', '_', '_', '_', '_', '_', '_', '_', '_', '_', '_', '_', '▁', '_', '_', '_', '_', '_', '_', '_', '_', '_', 'ne', '▁', '▁', '_', '_', '_', '_', '_', 'M', 'in', '_', 'et', '▁', '▁', '▁', '_', '_', '_', '_', '_', '▁', '▁', 'w', 'k', 'k', '▁', '▁', '▁', '▁', '_', '_', '_', '_', 'ke', 'ke', '_', '_', 'f', 'vo', 'le', '_', '_', '_', '▁the', '▁the', '▁', 'T237', '_', '_', '_', '_', 'T57', '▁', 'F', '_', '_', '_', '_', '_', '_', '_', '_', '_', '▁', '▁', 'T239', '_', '_', '_', '_', '_', '_', '_', '_', '_', '_', '_', '_', '_', '_', '_', '_', '_', '_', '_', '_', '_', '_', '_', '_', '_', '_', '_', '_', '_', '_', '_', '_', '_', '_', '_', '_', '_', '_', '_', '_', '_', '_', '_', '_', '_', '_', '_', 'D', '_', '_', '_', 'b', 'b', 'ro', '_', 'y', '_', '_', '_', '▁', '▁', '▁', '▁', '▁', '▁', '▁', '▁', '▁', '▁', '▁', '▁', '▁', '▁', '▁', '▁', '▁', '▁', '▁', '▁', '▁', '▁', '_', '_', '_', '_', '_', '_', '_', '_', '_', '_', '_', '_', '_', '_', '_', '_', '_', '_', '_', '_', '_', '_', '_', '_', '_', '_', '_', '_', '_', '_', '_', '_', '_', '▁', '▁', '▁', '_', '_', '_', '_', '_', '_', '_', 's', 'ho', 'ho', '_', '_', '_', '▁', '▁', 'T239', '▁', '▁', '_', '_', '_', 'k', 'p', 'p', 'te', 'ter', '_', '_', '_', 'we', 'we', 'y', 'y', '▁', '▁', '▁', '▁', 'T237', '_', 'T156', '_', 'T57', '▁', 'N', '_', '_', '_', 'P', '_', '_', '_', '_', '_', '_', '_', 'la', '▁', '▁', 'T239', '▁', '▁', '▁', '▁', '▁', '▁', '▁', '▁', '▁', '▁', '▁', '▁', '▁', '▁', '▁', '▁', '▁', '▁', '▁', '▁', '▁', '▁', '▁', '▁', '▁', '▁', '▁', '▁', '▁', '▁', '▁', '▁', '▁', '▁', '▁', '▁', '▁', '▁', '▁', '▁', '▁', '▁', '▁', '▁', '_', '_', '_', '_', '_', '_', '_', '▁', '▁', '▁', '▁', '▁', '▁', '▁', '▁', '▁', '▁', '▁', '▁', '▁', '▁', 'T2', 'T2', 'T2', '▁', '▁', 'T237', '_', 'T234', '_', '_', '_', 'T57', '_', '_', '_', '_', '_', '_', '_', '_', '_', '_', '_', '_', '_', '_', '_', '_', '_', '_', '_', '_', '_', '_', '_', '_', '_', '_', '_', '_', '_', '_', '_', '_', '_', '_', '_', '_', '_', '_', '_', '_', '_', '_', '_', '_', '_', '_', '_', '_', '_', '_', '_', 'N', '_', '_', '_', '_', '_', '▁', '▁', 'T237', '_', '_', '_', '_', 'T57', '_', '▁P', '_', '_', '_', '_', '_', '_', '_', '_', 'tar', 'tar', '▁', '▁', '_', '_', '_', '_', '_', '_', '_', '_', '_', '_', '_', '_', '_', '_', '_', '_', '_', '_', '_', '_', 'y', '▁', '▁', '▁', '▁', '_', 's', 's', 'st', '_', '▁the', '▁the', '▁', '_', '_', '_', '_', '_', 'st', 'st', '_', '_', '_', '_', '_', '_', '_', '_', '_', '▁', '_', '_', '▁', '▁', '_', '_', '_', '_', '_', '_', '_', '_', '_', '_', '_', '_', '_', '_', '_', '_', '_', '▁', '▁', '▁', '▁', '▁', '▁', '▁', '▁', '▁', '▁', '▁', '▁', '▁', '▁', '▁', '▁', '▁', '▁', '▁', '▁', '▁', '▁', '▁', '▁']\n"
     ]
    }
   ],
   "source": [
    "stride = 4 # 8 for Citrinet\n",
    "asr_decoder = ChunkBufferDecoder(model, stride=stride, chunk_len_in_secs=chunk_len_in_secs, buffer_len_in_secs=buffer_len_in_secs )\n",
    "transcription = asr_decoder.transcribe_buffers(buffer_list, plot=True)"
   ]
  },
  {
   "cell_type": "code",
   "execution_count": 74,
   "metadata": {},
   "outputs": [
    {
     "name": "stdout",
     "output_type": "stream",
     "text": [
      "wh redygo wortshit T239 from the T237_T299_T256 verystock  remember year ago T239City T239 front after T237_T25 twel secends T239   Sigre T237  Sfftier tetake erends Tmpic fort thistime  be  hating for T237_T234_T57 Rashfd END est arealy f force for run  ciity w r ర T239ద T239 worka m member  a T239 in the game T237_T156_T57 Ati Wen T237_T57 Ras Went , thre well T237_T120 DB T239   kequi cle  ో cheien T237_T37_T57 হల్andంstdon stর ples রోiesing  P dily butis no inter ixs the  Fst  Pरी work   the  aterనేে  B ling T239  der T237_T156_T57B is  f  conuntaact  windful oin  T237_T156_T57 Gba  clenoviling aga T237T57 Nno inZवा screm   a  to eover turn  the  onfildsion T2 T237_T234_T57  Sing T239  strenche T239 in tqness ing t steatlockey jmp  T237_T156_T57 uring T239 well bballway T237_T95_T157 Lary smart icda T237_T234_T57  T239 ge T237__ packco t's no p   ress er  Lok the emmecelection lokeet me in them one the reasonswi promlycaieses beauses of the T237_T299_T57 La Liexsingt T239 to try stop thehxs F , m T237_T234_T57 ev T237_T57 Bbruiny trying get on thehor way from T237_T234_T57 Ma END C chicks END,flatenb T237_T234_T57 Ab   ha atverMinie resein his seasen Loungngstetar _T156_ Manchester United T239  T2   T237bletter T237_ London T239 von T237_T234_T57 F _ la thinks t bit differentlyzu the  curche prmach anybdys on the plan watchees fotball, nonmany curches withd just caualy swpt both cen baacks for the fffin  T237_ T239 me T237Tyal ben soffer wen Zieren posionbur go sta zeitdeet go begether with wiisde  be punish ing hit them on the break witchm moan abble of during T57ons T239 T237T234 htchche thk spin way from T237_T234_T57  Manminute ENDT239 way  a Faamiilliattack  thelystages prtema very match de City gaan .T237T57losco tomne as well key ver his rightsho jst  haave a he rories  to rying stophim get on the boball chick taing in thepace of the game   T237__   sova T239wide on  ht Qu is the defaacttor leftweing up ussch  for p   T237  చర    ়ই ఉందో వన్నిciz గోక der  స నా  ecsion s time pursesed  godo emm Nchesterindis T2 T237_T156_T57   T237_T234T57 brts T239 move anb sur T2 T237_T156_T57 Bvathree  goals in la T237_T299_T57 La ACusly everyon ofm diffelectem  T237T255exspz T239 T237 and Systemma  Pents pusschen forwd tie  dem  Meme      worka  ver behindmT237__T57 worschrittd into the  fick ling T237_T156_T57 T239 aft T237_T156T57 S hissfirst tots justs  Lethim down it  tokinto the traif in the  mile the po  T237_T157 Dba T239 T237_T156_T57chestertic T239ing noenne the boball  ly been able play pass T237_T156_T57y beion _ T237_T156_T57 O Barcelonus Let'ts alow thossegabshen    ne Minet  wk kefvole the T237_T57 F T239Dbroy  sho T239 kpteterwey T237_T156_T57 NPla T239  T2 T237_T234T57N T237__T57 Ptar y sst the st   \n"
     ]
    }
   ],
   "source": [
    "# Final transcription after CTC merge\n",
    "print(transcription)\n"
   ]
  },
  {
   "cell_type": "markdown",
   "metadata": {},
   "source": [
    "Time to evaluate our streaming inference on the whole long file that we created."
   ]
  },
  {
   "cell_type": "code",
   "execution_count": 75,
   "metadata": {},
   "outputs": [],
   "source": [
    "def load_tags(file_path):\n",
    "    tag_dict = {}\n",
    "    with open(file_path, 'r') as file:\n",
    "        for line in file:\n",
    "            tag, code = line.strip().split()\n",
    "            tag_dict[code] = tag\n",
    "    return tag_dict\n",
    "tag_dict = load_tags('/external2/datasets/text/synthetic/processed_r3/alltags.txt')"
   ]
  },
  {
   "cell_type": "code",
   "execution_count": 76,
   "metadata": {},
   "outputs": [],
   "source": [
    "# Define a function to map tags to words\n",
    "def map_tags(word, tag_dict):\n",
    "    parts = word.split('_') if '_' in word else word.split('-')\n",
    "    mapped_parts = [tag_dict.get(part, part) for part in parts]\n",
    "    return ' '.join(mapped_parts)"
   ]
  },
  {
   "cell_type": "code",
   "execution_count": 77,
   "metadata": {},
   "outputs": [
    {
     "data": {
      "text/plain": [
       "\"wh redygo wortshit END from the ENTITY LEAGUE LOCATION verystock remember year ago T239City END front after ENTITY DURATION twel secends END Sigre ENTITY Sfftier tetake erends Tmpic fort thistime be hating for ENTITY PLAYER NAME Rashfd END est arealy f force for run ciity w r ర T239ద END worka m member a END in the game ENTITY TEAM NAME Ati Wen ENTITY NAME Ras Went , thre well ENTITY SCORE DB END kequi cle ో cheien ENTITY STATISTIC NAME হల్andంstdon stর ples রోiesing P dily butis no inter ixs the Fst Pरी work the aterనేে B ling END der ENTITY TEAM T57B is f conuntaact windful oin ENTITY TEAM NAME Gba clenoviling aga T237T57 Nno inZवा screm a to eover turn the onfildsion TAGGER ENTITY PLAYER NAME Sing END strenche END in tqness ing t steatlockey jmp ENTITY TEAM NAME uring END well bballway ENTITY MATCH TYPE Lary smart icda ENTITY PLAYER NAME END ge ENTITY   packco t's no p ress er Lok the emmecelection lokeet me in them one the reasonswi promlycaieses beauses of the ENTITY LEAGUE NAME La Liexsingt END to try stop thehxs F , m ENTITY PLAYER NAME ev ENTITY NAME Bbruiny trying get on thehor way from ENTITY PLAYER NAME Ma END C chicks END,flatenb ENTITY PLAYER NAME Ab ha atverMinie resein his seasen Loungngstetar  TEAM  Manchester United END TAGGER T237bletter ENTITY  London END von ENTITY PLAYER NAME F   la thinks t bit differentlyzu the curche prmach anybdys on the plan watchees fotball, nonmany curches withd just caualy swpt both cen baacks for the fffin ENTITY  END me T237Tyal ben soffer wen Zieren posionbur go sta zeitdeet go begether with wiisde be punish ing hit them on the break witchm moan abble of during T57ons END T237T234 htchche thk spin way from ENTITY PLAYER NAME Manminute ENDT239 way a Faamiilliattack thelystages prtema very match de City gaan .T237T57losco tomne as well key ver his rightsho jst haave a he rories to rying stophim get on the boball chick taing in thepace of the game ENTITY   sova T239wide on ht Qu is the defaacttor leftweing up ussch for p ENTITY చర ়ই ఉందో వన్నిciz గోక der స నా ecsion s time pursesed godo emm Nchesterindis TAGGER ENTITY TEAM NAME ENTITY T234T57 brts END move anb sur TAGGER ENTITY TEAM NAME Bvathree goals in la ENTITY LEAGUE NAME La ACusly everyon ofm diffelectem T237T255exspz END ENTITY and Systemma Pents pusschen forwd tie dem Meme worka ver behindmT237  NAME worschrittd into the fick ling ENTITY TEAM NAME END aft ENTITY T156T57 S hissfirst tots justs Lethim down it tokinto the traif in the mile the po ENTITY TYPE Dba END ENTITY TEAM T57chestertic T239ing noenne the boball ly been able play pass ENTITY TEAM T57y beion   ENTITY TEAM NAME O Barcelonus Let'ts alow thossegabshen ne Minet wk kefvole the ENTITY NAME F T239Dbroy sho END kpteterwey ENTITY TEAM NAME NPla END TAGGER ENTITY T234T57N ENTITY  NAME Ptar y sst the st\""
      ]
     },
     "execution_count": 77,
     "metadata": {},
     "output_type": "execute_result"
    }
   ],
   "source": [
    "words = transcription.split()\n",
    "mapped_transcription = ' '.join([map_tags(word, tag_dict) for word in words])\n",
    "mapped_transcription"
   ]
  },
  {
   "cell_type": "code",
   "execution_count": 16,
   "metadata": {},
   "outputs": [
    {
     "ename": "KeyboardInterrupt",
     "evalue": "",
     "output_type": "error",
     "traceback": [
      "\u001b[0;31m---------------------------------------------------------------------------\u001b[0m",
      "\u001b[0;31mKeyboardInterrupt\u001b[0m                         Traceback (most recent call last)",
      "Cell \u001b[0;32mIn[16], line 14\u001b[0m\n\u001b[1;32m     11\u001b[0m     buffer_list\u001b[38;5;241m.\u001b[39mappend(np\u001b[38;5;241m.\u001b[39marray(sampbuffer))\n\u001b[1;32m     13\u001b[0m asr_decoder \u001b[38;5;241m=\u001b[39m ChunkBufferDecoder(model, stride\u001b[38;5;241m=\u001b[39mstride, chunk_len_in_secs\u001b[38;5;241m=\u001b[39mchunk_len_in_secs, buffer_len_in_secs\u001b[38;5;241m=\u001b[39mbuffer_len_in_secs )\n\u001b[0;32m---> 14\u001b[0m transcription \u001b[38;5;241m=\u001b[39m \u001b[43masr_decoder\u001b[49m\u001b[38;5;241;43m.\u001b[39;49m\u001b[43mtranscribe_buffers\u001b[49m\u001b[43m(\u001b[49m\u001b[43mbuffer_list\u001b[49m\u001b[43m,\u001b[49m\u001b[43m \u001b[49m\u001b[43mplot\u001b[49m\u001b[38;5;241;43m=\u001b[39;49m\u001b[38;5;28;43;01mFalse\u001b[39;49;00m\u001b[43m)\u001b[49m\n\u001b[1;32m     15\u001b[0m wer \u001b[38;5;241m=\u001b[39m word_error_rate(hypotheses\u001b[38;5;241m=\u001b[39m[transcription], references\u001b[38;5;241m=\u001b[39m[ref_transcript])\n\u001b[1;32m     17\u001b[0m \u001b[38;5;28mprint\u001b[39m(\u001b[38;5;124mf\u001b[39m\u001b[38;5;124m\"\u001b[39m\u001b[38;5;124mWER: \u001b[39m\u001b[38;5;132;01m{\u001b[39;00m\u001b[38;5;28mround\u001b[39m(wer\u001b[38;5;241m*\u001b[39m\u001b[38;5;241m100\u001b[39m,\u001b[38;5;241m2\u001b[39m)\u001b[38;5;132;01m}\u001b[39;00m\u001b[38;5;124m%\u001b[39m\u001b[38;5;124m\"\u001b[39m)\n",
      "File \u001b[0;32m/external/anaconda3/envs/nemo/lib/python3.10/site-packages/torch/utils/_contextlib.py:115\u001b[0m, in \u001b[0;36mcontext_decorator.<locals>.decorate_context\u001b[0;34m(*args, **kwargs)\u001b[0m\n\u001b[1;32m    112\u001b[0m \u001b[38;5;129m@functools\u001b[39m\u001b[38;5;241m.\u001b[39mwraps(func)\n\u001b[1;32m    113\u001b[0m \u001b[38;5;28;01mdef\u001b[39;00m \u001b[38;5;21mdecorate_context\u001b[39m(\u001b[38;5;241m*\u001b[39margs, \u001b[38;5;241m*\u001b[39m\u001b[38;5;241m*\u001b[39mkwargs):\n\u001b[1;32m    114\u001b[0m     \u001b[38;5;28;01mwith\u001b[39;00m ctx_factory():\n\u001b[0;32m--> 115\u001b[0m         \u001b[38;5;28;01mreturn\u001b[39;00m \u001b[43mfunc\u001b[49m\u001b[43m(\u001b[49m\u001b[38;5;241;43m*\u001b[39;49m\u001b[43margs\u001b[49m\u001b[43m,\u001b[49m\u001b[43m \u001b[49m\u001b[38;5;241;43m*\u001b[39;49m\u001b[38;5;241;43m*\u001b[39;49m\u001b[43mkwargs\u001b[49m\u001b[43m)\u001b[49m\n",
      "Cell \u001b[0;32mIn[11], line 34\u001b[0m, in \u001b[0;36mChunkBufferDecoder.transcribe_buffers\u001b[0;34m(self, buffers, merge, plot)\u001b[0m\n\u001b[1;32m     32\u001b[0m \u001b[38;5;28mself\u001b[39m\u001b[38;5;241m.\u001b[39mbuffers \u001b[38;5;241m=\u001b[39m buffers\n\u001b[1;32m     33\u001b[0m \u001b[38;5;28mself\u001b[39m\u001b[38;5;241m.\u001b[39mdata_layer\u001b[38;5;241m.\u001b[39mset_signal(buffers[:])\n\u001b[0;32m---> 34\u001b[0m \u001b[38;5;28;43mself\u001b[39;49m\u001b[38;5;241;43m.\u001b[39;49m\u001b[43m_get_batch_preds\u001b[49m\u001b[43m(\u001b[49m\u001b[43m)\u001b[49m\n\u001b[1;32m     35\u001b[0m result \u001b[38;5;241m=\u001b[39m \u001b[38;5;28mself\u001b[39m\u001b[38;5;241m.\u001b[39mdecode_final(merge)\n\u001b[1;32m     36\u001b[0m \u001b[38;5;28;01mif\u001b[39;00m plot:\n",
      "Cell \u001b[0;32mIn[11], line 45\u001b[0m, in \u001b[0;36mChunkBufferDecoder._get_batch_preds\u001b[0;34m(self)\u001b[0m\n\u001b[1;32m     43\u001b[0m audio_signal, audio_signal_len \u001b[38;5;241m=\u001b[39m batch\n\u001b[1;32m     44\u001b[0m audio_signal, audio_signal_len \u001b[38;5;241m=\u001b[39m audio_signal\u001b[38;5;241m.\u001b[39mto(device), audio_signal_len\u001b[38;5;241m.\u001b[39mto(device)\n\u001b[0;32m---> 45\u001b[0m log_probs, encoded_len, predictions \u001b[38;5;241m=\u001b[39m \u001b[38;5;28;43mself\u001b[39;49m\u001b[38;5;241;43m.\u001b[39;49m\u001b[43masr_model\u001b[49m\u001b[43m(\u001b[49m\u001b[43minput_signal\u001b[49m\u001b[38;5;241;43m=\u001b[39;49m\u001b[43maudio_signal\u001b[49m\u001b[43m,\u001b[49m\u001b[43m \u001b[49m\u001b[43minput_signal_length\u001b[49m\u001b[38;5;241;43m=\u001b[39;49m\u001b[43maudio_signal_len\u001b[49m\u001b[43m)\u001b[49m\n\u001b[1;32m     46\u001b[0m preds \u001b[38;5;241m=\u001b[39m torch\u001b[38;5;241m.\u001b[39munbind(predictions)\n\u001b[1;32m     47\u001b[0m \u001b[38;5;28;01mfor\u001b[39;00m pred \u001b[38;5;129;01min\u001b[39;00m preds:\n",
      "File \u001b[0;32m/external/anaconda3/envs/nemo/lib/python3.10/site-packages/torch/nn/modules/module.py:1532\u001b[0m, in \u001b[0;36mModule._wrapped_call_impl\u001b[0;34m(self, *args, **kwargs)\u001b[0m\n\u001b[1;32m   1530\u001b[0m     \u001b[38;5;28;01mreturn\u001b[39;00m \u001b[38;5;28mself\u001b[39m\u001b[38;5;241m.\u001b[39m_compiled_call_impl(\u001b[38;5;241m*\u001b[39margs, \u001b[38;5;241m*\u001b[39m\u001b[38;5;241m*\u001b[39mkwargs)  \u001b[38;5;66;03m# type: ignore[misc]\u001b[39;00m\n\u001b[1;32m   1531\u001b[0m \u001b[38;5;28;01melse\u001b[39;00m:\n\u001b[0;32m-> 1532\u001b[0m     \u001b[38;5;28;01mreturn\u001b[39;00m \u001b[38;5;28;43mself\u001b[39;49m\u001b[38;5;241;43m.\u001b[39;49m\u001b[43m_call_impl\u001b[49m\u001b[43m(\u001b[49m\u001b[38;5;241;43m*\u001b[39;49m\u001b[43margs\u001b[49m\u001b[43m,\u001b[49m\u001b[43m \u001b[49m\u001b[38;5;241;43m*\u001b[39;49m\u001b[38;5;241;43m*\u001b[39;49m\u001b[43mkwargs\u001b[49m\u001b[43m)\u001b[49m\n",
      "File \u001b[0;32m/external/anaconda3/envs/nemo/lib/python3.10/site-packages/torch/nn/modules/module.py:1541\u001b[0m, in \u001b[0;36mModule._call_impl\u001b[0;34m(self, *args, **kwargs)\u001b[0m\n\u001b[1;32m   1536\u001b[0m \u001b[38;5;66;03m# If we don't have any hooks, we want to skip the rest of the logic in\u001b[39;00m\n\u001b[1;32m   1537\u001b[0m \u001b[38;5;66;03m# this function, and just call forward.\u001b[39;00m\n\u001b[1;32m   1538\u001b[0m \u001b[38;5;28;01mif\u001b[39;00m \u001b[38;5;129;01mnot\u001b[39;00m (\u001b[38;5;28mself\u001b[39m\u001b[38;5;241m.\u001b[39m_backward_hooks \u001b[38;5;129;01mor\u001b[39;00m \u001b[38;5;28mself\u001b[39m\u001b[38;5;241m.\u001b[39m_backward_pre_hooks \u001b[38;5;129;01mor\u001b[39;00m \u001b[38;5;28mself\u001b[39m\u001b[38;5;241m.\u001b[39m_forward_hooks \u001b[38;5;129;01mor\u001b[39;00m \u001b[38;5;28mself\u001b[39m\u001b[38;5;241m.\u001b[39m_forward_pre_hooks\n\u001b[1;32m   1539\u001b[0m         \u001b[38;5;129;01mor\u001b[39;00m _global_backward_pre_hooks \u001b[38;5;129;01mor\u001b[39;00m _global_backward_hooks\n\u001b[1;32m   1540\u001b[0m         \u001b[38;5;129;01mor\u001b[39;00m _global_forward_hooks \u001b[38;5;129;01mor\u001b[39;00m _global_forward_pre_hooks):\n\u001b[0;32m-> 1541\u001b[0m     \u001b[38;5;28;01mreturn\u001b[39;00m \u001b[43mforward_call\u001b[49m\u001b[43m(\u001b[49m\u001b[38;5;241;43m*\u001b[39;49m\u001b[43margs\u001b[49m\u001b[43m,\u001b[49m\u001b[43m \u001b[49m\u001b[38;5;241;43m*\u001b[39;49m\u001b[38;5;241;43m*\u001b[39;49m\u001b[43mkwargs\u001b[49m\u001b[43m)\u001b[49m\n\u001b[1;32m   1543\u001b[0m \u001b[38;5;28;01mtry\u001b[39;00m:\n\u001b[1;32m   1544\u001b[0m     result \u001b[38;5;241m=\u001b[39m \u001b[38;5;28;01mNone\u001b[39;00m\n",
      "File \u001b[0;32m/external/anaconda3/envs/nemo/lib/python3.10/site-packages/nemo/core/classes/common.py:1098\u001b[0m, in \u001b[0;36mtypecheck.__call__\u001b[0;34m(self, wrapped, instance, args, kwargs)\u001b[0m\n\u001b[1;32m   1095\u001b[0m instance\u001b[38;5;241m.\u001b[39m_validate_input_types(input_types\u001b[38;5;241m=\u001b[39minput_types, ignore_collections\u001b[38;5;241m=\u001b[39m\u001b[38;5;28mself\u001b[39m\u001b[38;5;241m.\u001b[39mignore_collections, \u001b[38;5;241m*\u001b[39m\u001b[38;5;241m*\u001b[39mkwargs)\n\u001b[1;32m   1097\u001b[0m \u001b[38;5;66;03m# Call the method - this can be forward, or any other callable method\u001b[39;00m\n\u001b[0;32m-> 1098\u001b[0m outputs \u001b[38;5;241m=\u001b[39m \u001b[43mwrapped\u001b[49m\u001b[43m(\u001b[49m\u001b[38;5;241;43m*\u001b[39;49m\u001b[43margs\u001b[49m\u001b[43m,\u001b[49m\u001b[43m \u001b[49m\u001b[38;5;241;43m*\u001b[39;49m\u001b[38;5;241;43m*\u001b[39;49m\u001b[43mkwargs\u001b[49m\u001b[43m)\u001b[49m\n\u001b[1;32m   1100\u001b[0m instance\u001b[38;5;241m.\u001b[39m_attach_and_validate_output_types(\n\u001b[1;32m   1101\u001b[0m     output_types\u001b[38;5;241m=\u001b[39moutput_types, ignore_collections\u001b[38;5;241m=\u001b[39m\u001b[38;5;28mself\u001b[39m\u001b[38;5;241m.\u001b[39mignore_collections, out_objects\u001b[38;5;241m=\u001b[39moutputs\n\u001b[1;32m   1102\u001b[0m )\n\u001b[1;32m   1104\u001b[0m \u001b[38;5;28;01mreturn\u001b[39;00m outputs\n",
      "File \u001b[0;32m/external/anaconda3/envs/nemo/lib/python3.10/site-packages/nemo/collections/asr/models/ctc_models.py:564\u001b[0m, in \u001b[0;36mEncDecCTCModel.forward\u001b[0;34m(self, input_signal, input_signal_length, processed_signal, processed_signal_length)\u001b[0m\n\u001b[1;32m    561\u001b[0m \u001b[38;5;28;01mif\u001b[39;00m \u001b[38;5;28mself\u001b[39m\u001b[38;5;241m.\u001b[39mspec_augmentation \u001b[38;5;129;01mis\u001b[39;00m \u001b[38;5;129;01mnot\u001b[39;00m \u001b[38;5;28;01mNone\u001b[39;00m \u001b[38;5;129;01mand\u001b[39;00m \u001b[38;5;28mself\u001b[39m\u001b[38;5;241m.\u001b[39mtraining:\n\u001b[1;32m    562\u001b[0m     processed_signal \u001b[38;5;241m=\u001b[39m \u001b[38;5;28mself\u001b[39m\u001b[38;5;241m.\u001b[39mspec_augmentation(input_spec\u001b[38;5;241m=\u001b[39mprocessed_signal, length\u001b[38;5;241m=\u001b[39mprocessed_signal_length)\n\u001b[0;32m--> 564\u001b[0m encoder_output \u001b[38;5;241m=\u001b[39m \u001b[38;5;28;43mself\u001b[39;49m\u001b[38;5;241;43m.\u001b[39;49m\u001b[43mencoder\u001b[49m\u001b[43m(\u001b[49m\u001b[43maudio_signal\u001b[49m\u001b[38;5;241;43m=\u001b[39;49m\u001b[43mprocessed_signal\u001b[49m\u001b[43m,\u001b[49m\u001b[43m \u001b[49m\u001b[43mlength\u001b[49m\u001b[38;5;241;43m=\u001b[39;49m\u001b[43mprocessed_signal_length\u001b[49m\u001b[43m)\u001b[49m\n\u001b[1;32m    565\u001b[0m encoded \u001b[38;5;241m=\u001b[39m encoder_output[\u001b[38;5;241m0\u001b[39m]\n\u001b[1;32m    566\u001b[0m encoded_len \u001b[38;5;241m=\u001b[39m encoder_output[\u001b[38;5;241m1\u001b[39m]\n",
      "File \u001b[0;32m/external/anaconda3/envs/nemo/lib/python3.10/site-packages/torch/nn/modules/module.py:1532\u001b[0m, in \u001b[0;36mModule._wrapped_call_impl\u001b[0;34m(self, *args, **kwargs)\u001b[0m\n\u001b[1;32m   1530\u001b[0m     \u001b[38;5;28;01mreturn\u001b[39;00m \u001b[38;5;28mself\u001b[39m\u001b[38;5;241m.\u001b[39m_compiled_call_impl(\u001b[38;5;241m*\u001b[39margs, \u001b[38;5;241m*\u001b[39m\u001b[38;5;241m*\u001b[39mkwargs)  \u001b[38;5;66;03m# type: ignore[misc]\u001b[39;00m\n\u001b[1;32m   1531\u001b[0m \u001b[38;5;28;01melse\u001b[39;00m:\n\u001b[0;32m-> 1532\u001b[0m     \u001b[38;5;28;01mreturn\u001b[39;00m \u001b[38;5;28;43mself\u001b[39;49m\u001b[38;5;241;43m.\u001b[39;49m\u001b[43m_call_impl\u001b[49m\u001b[43m(\u001b[49m\u001b[38;5;241;43m*\u001b[39;49m\u001b[43margs\u001b[49m\u001b[43m,\u001b[49m\u001b[43m \u001b[49m\u001b[38;5;241;43m*\u001b[39;49m\u001b[38;5;241;43m*\u001b[39;49m\u001b[43mkwargs\u001b[49m\u001b[43m)\u001b[49m\n",
      "File \u001b[0;32m/external/anaconda3/envs/nemo/lib/python3.10/site-packages/torch/nn/modules/module.py:1541\u001b[0m, in \u001b[0;36mModule._call_impl\u001b[0;34m(self, *args, **kwargs)\u001b[0m\n\u001b[1;32m   1536\u001b[0m \u001b[38;5;66;03m# If we don't have any hooks, we want to skip the rest of the logic in\u001b[39;00m\n\u001b[1;32m   1537\u001b[0m \u001b[38;5;66;03m# this function, and just call forward.\u001b[39;00m\n\u001b[1;32m   1538\u001b[0m \u001b[38;5;28;01mif\u001b[39;00m \u001b[38;5;129;01mnot\u001b[39;00m (\u001b[38;5;28mself\u001b[39m\u001b[38;5;241m.\u001b[39m_backward_hooks \u001b[38;5;129;01mor\u001b[39;00m \u001b[38;5;28mself\u001b[39m\u001b[38;5;241m.\u001b[39m_backward_pre_hooks \u001b[38;5;129;01mor\u001b[39;00m \u001b[38;5;28mself\u001b[39m\u001b[38;5;241m.\u001b[39m_forward_hooks \u001b[38;5;129;01mor\u001b[39;00m \u001b[38;5;28mself\u001b[39m\u001b[38;5;241m.\u001b[39m_forward_pre_hooks\n\u001b[1;32m   1539\u001b[0m         \u001b[38;5;129;01mor\u001b[39;00m _global_backward_pre_hooks \u001b[38;5;129;01mor\u001b[39;00m _global_backward_hooks\n\u001b[1;32m   1540\u001b[0m         \u001b[38;5;129;01mor\u001b[39;00m _global_forward_hooks \u001b[38;5;129;01mor\u001b[39;00m _global_forward_pre_hooks):\n\u001b[0;32m-> 1541\u001b[0m     \u001b[38;5;28;01mreturn\u001b[39;00m \u001b[43mforward_call\u001b[49m\u001b[43m(\u001b[49m\u001b[38;5;241;43m*\u001b[39;49m\u001b[43margs\u001b[49m\u001b[43m,\u001b[49m\u001b[43m \u001b[49m\u001b[38;5;241;43m*\u001b[39;49m\u001b[38;5;241;43m*\u001b[39;49m\u001b[43mkwargs\u001b[49m\u001b[43m)\u001b[49m\n\u001b[1;32m   1543\u001b[0m \u001b[38;5;28;01mtry\u001b[39;00m:\n\u001b[1;32m   1544\u001b[0m     result \u001b[38;5;241m=\u001b[39m \u001b[38;5;28;01mNone\u001b[39;00m\n",
      "File \u001b[0;32m/external/anaconda3/envs/nemo/lib/python3.10/site-packages/nemo/core/classes/common.py:1098\u001b[0m, in \u001b[0;36mtypecheck.__call__\u001b[0;34m(self, wrapped, instance, args, kwargs)\u001b[0m\n\u001b[1;32m   1095\u001b[0m instance\u001b[38;5;241m.\u001b[39m_validate_input_types(input_types\u001b[38;5;241m=\u001b[39minput_types, ignore_collections\u001b[38;5;241m=\u001b[39m\u001b[38;5;28mself\u001b[39m\u001b[38;5;241m.\u001b[39mignore_collections, \u001b[38;5;241m*\u001b[39m\u001b[38;5;241m*\u001b[39mkwargs)\n\u001b[1;32m   1097\u001b[0m \u001b[38;5;66;03m# Call the method - this can be forward, or any other callable method\u001b[39;00m\n\u001b[0;32m-> 1098\u001b[0m outputs \u001b[38;5;241m=\u001b[39m \u001b[43mwrapped\u001b[49m\u001b[43m(\u001b[49m\u001b[38;5;241;43m*\u001b[39;49m\u001b[43margs\u001b[49m\u001b[43m,\u001b[49m\u001b[43m \u001b[49m\u001b[38;5;241;43m*\u001b[39;49m\u001b[38;5;241;43m*\u001b[39;49m\u001b[43mkwargs\u001b[49m\u001b[43m)\u001b[49m\n\u001b[1;32m   1100\u001b[0m instance\u001b[38;5;241m.\u001b[39m_attach_and_validate_output_types(\n\u001b[1;32m   1101\u001b[0m     output_types\u001b[38;5;241m=\u001b[39moutput_types, ignore_collections\u001b[38;5;241m=\u001b[39m\u001b[38;5;28mself\u001b[39m\u001b[38;5;241m.\u001b[39mignore_collections, out_objects\u001b[38;5;241m=\u001b[39moutputs\n\u001b[1;32m   1102\u001b[0m )\n\u001b[1;32m   1104\u001b[0m \u001b[38;5;28;01mreturn\u001b[39;00m outputs\n",
      "File \u001b[0;32m/external/anaconda3/envs/nemo/lib/python3.10/site-packages/nemo/collections/asr/modules/conformer_encoder.py:491\u001b[0m, in \u001b[0;36mConformerEncoder.forward\u001b[0;34m(self, audio_signal, length, cache_last_channel, cache_last_time, cache_last_channel_len)\u001b[0m\n\u001b[1;32m    487\u001b[0m \u001b[38;5;129m@typecheck\u001b[39m()\n\u001b[1;32m    488\u001b[0m \u001b[38;5;28;01mdef\u001b[39;00m \u001b[38;5;21mforward\u001b[39m(\n\u001b[1;32m    489\u001b[0m     \u001b[38;5;28mself\u001b[39m, audio_signal, length, cache_last_channel\u001b[38;5;241m=\u001b[39m\u001b[38;5;28;01mNone\u001b[39;00m, cache_last_time\u001b[38;5;241m=\u001b[39m\u001b[38;5;28;01mNone\u001b[39;00m, cache_last_channel_len\u001b[38;5;241m=\u001b[39m\u001b[38;5;28;01mNone\u001b[39;00m\n\u001b[1;32m    490\u001b[0m ):\n\u001b[0;32m--> 491\u001b[0m     \u001b[38;5;28;01mreturn\u001b[39;00m \u001b[38;5;28;43mself\u001b[39;49m\u001b[38;5;241;43m.\u001b[39;49m\u001b[43mforward_internal\u001b[49m\u001b[43m(\u001b[49m\n\u001b[1;32m    492\u001b[0m \u001b[43m        \u001b[49m\u001b[43maudio_signal\u001b[49m\u001b[43m,\u001b[49m\n\u001b[1;32m    493\u001b[0m \u001b[43m        \u001b[49m\u001b[43mlength\u001b[49m\u001b[43m,\u001b[49m\n\u001b[1;32m    494\u001b[0m \u001b[43m        \u001b[49m\u001b[43mcache_last_channel\u001b[49m\u001b[38;5;241;43m=\u001b[39;49m\u001b[43mcache_last_channel\u001b[49m\u001b[43m,\u001b[49m\n\u001b[1;32m    495\u001b[0m \u001b[43m        \u001b[49m\u001b[43mcache_last_time\u001b[49m\u001b[38;5;241;43m=\u001b[39;49m\u001b[43mcache_last_time\u001b[49m\u001b[43m,\u001b[49m\n\u001b[1;32m    496\u001b[0m \u001b[43m        \u001b[49m\u001b[43mcache_last_channel_len\u001b[49m\u001b[38;5;241;43m=\u001b[39;49m\u001b[43mcache_last_channel_len\u001b[49m\u001b[43m,\u001b[49m\n\u001b[1;32m    497\u001b[0m \u001b[43m    \u001b[49m\u001b[43m)\u001b[49m\n",
      "File \u001b[0;32m/external/anaconda3/envs/nemo/lib/python3.10/site-packages/nemo/collections/asr/modules/conformer_encoder.py:571\u001b[0m, in \u001b[0;36mConformerEncoder.forward_internal\u001b[0;34m(self, audio_signal, length, cache_last_channel, cache_last_time, cache_last_channel_len)\u001b[0m\n\u001b[1;32m    569\u001b[0m     cache_last_channel_cur \u001b[38;5;241m=\u001b[39m \u001b[38;5;28;01mNone\u001b[39;00m\n\u001b[1;32m    570\u001b[0m     cache_last_time_cur \u001b[38;5;241m=\u001b[39m \u001b[38;5;28;01mNone\u001b[39;00m\n\u001b[0;32m--> 571\u001b[0m audio_signal \u001b[38;5;241m=\u001b[39m \u001b[43mlayer\u001b[49m\u001b[43m(\u001b[49m\n\u001b[1;32m    572\u001b[0m \u001b[43m    \u001b[49m\u001b[43mx\u001b[49m\u001b[38;5;241;43m=\u001b[39;49m\u001b[43maudio_signal\u001b[49m\u001b[43m,\u001b[49m\n\u001b[1;32m    573\u001b[0m \u001b[43m    \u001b[49m\u001b[43matt_mask\u001b[49m\u001b[38;5;241;43m=\u001b[39;49m\u001b[43matt_mask\u001b[49m\u001b[43m,\u001b[49m\n\u001b[1;32m    574\u001b[0m \u001b[43m    \u001b[49m\u001b[43mpos_emb\u001b[49m\u001b[38;5;241;43m=\u001b[39;49m\u001b[43mpos_emb\u001b[49m\u001b[43m,\u001b[49m\n\u001b[1;32m    575\u001b[0m \u001b[43m    \u001b[49m\u001b[43mpad_mask\u001b[49m\u001b[38;5;241;43m=\u001b[39;49m\u001b[43mpad_mask\u001b[49m\u001b[43m,\u001b[49m\n\u001b[1;32m    576\u001b[0m \u001b[43m    \u001b[49m\u001b[43mcache_last_channel\u001b[49m\u001b[38;5;241;43m=\u001b[39;49m\u001b[43mcache_last_channel_cur\u001b[49m\u001b[43m,\u001b[49m\n\u001b[1;32m    577\u001b[0m \u001b[43m    \u001b[49m\u001b[43mcache_last_time\u001b[49m\u001b[38;5;241;43m=\u001b[39;49m\u001b[43mcache_last_time_cur\u001b[49m\u001b[43m,\u001b[49m\n\u001b[1;32m    578\u001b[0m \u001b[43m\u001b[49m\u001b[43m)\u001b[49m\n\u001b[1;32m    580\u001b[0m \u001b[38;5;28;01mif\u001b[39;00m cache_last_channel_cur \u001b[38;5;129;01mis\u001b[39;00m \u001b[38;5;129;01mnot\u001b[39;00m \u001b[38;5;28;01mNone\u001b[39;00m:\n\u001b[1;32m    581\u001b[0m     (audio_signal, cache_last_channel_cur, cache_last_time_cur) \u001b[38;5;241m=\u001b[39m audio_signal\n",
      "File \u001b[0;32m/external/anaconda3/envs/nemo/lib/python3.10/site-packages/torch/nn/modules/module.py:1532\u001b[0m, in \u001b[0;36mModule._wrapped_call_impl\u001b[0;34m(self, *args, **kwargs)\u001b[0m\n\u001b[1;32m   1530\u001b[0m     \u001b[38;5;28;01mreturn\u001b[39;00m \u001b[38;5;28mself\u001b[39m\u001b[38;5;241m.\u001b[39m_compiled_call_impl(\u001b[38;5;241m*\u001b[39margs, \u001b[38;5;241m*\u001b[39m\u001b[38;5;241m*\u001b[39mkwargs)  \u001b[38;5;66;03m# type: ignore[misc]\u001b[39;00m\n\u001b[1;32m   1531\u001b[0m \u001b[38;5;28;01melse\u001b[39;00m:\n\u001b[0;32m-> 1532\u001b[0m     \u001b[38;5;28;01mreturn\u001b[39;00m \u001b[38;5;28;43mself\u001b[39;49m\u001b[38;5;241;43m.\u001b[39;49m\u001b[43m_call_impl\u001b[49m\u001b[43m(\u001b[49m\u001b[38;5;241;43m*\u001b[39;49m\u001b[43margs\u001b[49m\u001b[43m,\u001b[49m\u001b[43m \u001b[49m\u001b[38;5;241;43m*\u001b[39;49m\u001b[38;5;241;43m*\u001b[39;49m\u001b[43mkwargs\u001b[49m\u001b[43m)\u001b[49m\n",
      "File \u001b[0;32m/external/anaconda3/envs/nemo/lib/python3.10/site-packages/torch/nn/modules/module.py:1541\u001b[0m, in \u001b[0;36mModule._call_impl\u001b[0;34m(self, *args, **kwargs)\u001b[0m\n\u001b[1;32m   1536\u001b[0m \u001b[38;5;66;03m# If we don't have any hooks, we want to skip the rest of the logic in\u001b[39;00m\n\u001b[1;32m   1537\u001b[0m \u001b[38;5;66;03m# this function, and just call forward.\u001b[39;00m\n\u001b[1;32m   1538\u001b[0m \u001b[38;5;28;01mif\u001b[39;00m \u001b[38;5;129;01mnot\u001b[39;00m (\u001b[38;5;28mself\u001b[39m\u001b[38;5;241m.\u001b[39m_backward_hooks \u001b[38;5;129;01mor\u001b[39;00m \u001b[38;5;28mself\u001b[39m\u001b[38;5;241m.\u001b[39m_backward_pre_hooks \u001b[38;5;129;01mor\u001b[39;00m \u001b[38;5;28mself\u001b[39m\u001b[38;5;241m.\u001b[39m_forward_hooks \u001b[38;5;129;01mor\u001b[39;00m \u001b[38;5;28mself\u001b[39m\u001b[38;5;241m.\u001b[39m_forward_pre_hooks\n\u001b[1;32m   1539\u001b[0m         \u001b[38;5;129;01mor\u001b[39;00m _global_backward_pre_hooks \u001b[38;5;129;01mor\u001b[39;00m _global_backward_hooks\n\u001b[1;32m   1540\u001b[0m         \u001b[38;5;129;01mor\u001b[39;00m _global_forward_hooks \u001b[38;5;129;01mor\u001b[39;00m _global_forward_pre_hooks):\n\u001b[0;32m-> 1541\u001b[0m     \u001b[38;5;28;01mreturn\u001b[39;00m \u001b[43mforward_call\u001b[49m\u001b[43m(\u001b[49m\u001b[38;5;241;43m*\u001b[39;49m\u001b[43margs\u001b[49m\u001b[43m,\u001b[49m\u001b[43m \u001b[49m\u001b[38;5;241;43m*\u001b[39;49m\u001b[38;5;241;43m*\u001b[39;49m\u001b[43mkwargs\u001b[49m\u001b[43m)\u001b[49m\n\u001b[1;32m   1543\u001b[0m \u001b[38;5;28;01mtry\u001b[39;00m:\n\u001b[1;32m   1544\u001b[0m     result \u001b[38;5;241m=\u001b[39m \u001b[38;5;28;01mNone\u001b[39;00m\n",
      "File \u001b[0;32m/external/anaconda3/envs/nemo/lib/python3.10/site-packages/nemo/collections/asr/parts/submodules/conformer_modules.py:187\u001b[0m, in \u001b[0;36mConformerLayer.forward\u001b[0;34m(self, x, att_mask, pos_emb, pad_mask, cache_last_channel, cache_last_time)\u001b[0m\n\u001b[1;32m    184\u001b[0m     residual \u001b[38;5;241m=\u001b[39m pack_ip[\u001b[38;5;124m'\u001b[39m\u001b[38;5;124mx\u001b[39m\u001b[38;5;124m'\u001b[39m]\n\u001b[1;32m    186\u001b[0m x \u001b[38;5;241m=\u001b[39m \u001b[38;5;28mself\u001b[39m\u001b[38;5;241m.\u001b[39mnorm_conv(residual)\n\u001b[0;32m--> 187\u001b[0m x \u001b[38;5;241m=\u001b[39m \u001b[38;5;28;43mself\u001b[39;49m\u001b[38;5;241;43m.\u001b[39;49m\u001b[43mconv\u001b[49m\u001b[43m(\u001b[49m\u001b[43mx\u001b[49m\u001b[43m,\u001b[49m\u001b[43m \u001b[49m\u001b[43mpad_mask\u001b[49m\u001b[38;5;241;43m=\u001b[39;49m\u001b[43mpad_mask\u001b[49m\u001b[43m,\u001b[49m\u001b[43m \u001b[49m\u001b[43mcache\u001b[49m\u001b[38;5;241;43m=\u001b[39;49m\u001b[43mcache_last_time\u001b[49m\u001b[43m)\u001b[49m\n\u001b[1;32m    188\u001b[0m \u001b[38;5;28;01mif\u001b[39;00m cache_last_time \u001b[38;5;129;01mis\u001b[39;00m \u001b[38;5;129;01mnot\u001b[39;00m \u001b[38;5;28;01mNone\u001b[39;00m:\n\u001b[1;32m    189\u001b[0m     (x, cache_last_time) \u001b[38;5;241m=\u001b[39m x\n",
      "File \u001b[0;32m/external/anaconda3/envs/nemo/lib/python3.10/site-packages/torch/nn/modules/module.py:1532\u001b[0m, in \u001b[0;36mModule._wrapped_call_impl\u001b[0;34m(self, *args, **kwargs)\u001b[0m\n\u001b[1;32m   1530\u001b[0m     \u001b[38;5;28;01mreturn\u001b[39;00m \u001b[38;5;28mself\u001b[39m\u001b[38;5;241m.\u001b[39m_compiled_call_impl(\u001b[38;5;241m*\u001b[39margs, \u001b[38;5;241m*\u001b[39m\u001b[38;5;241m*\u001b[39mkwargs)  \u001b[38;5;66;03m# type: ignore[misc]\u001b[39;00m\n\u001b[1;32m   1531\u001b[0m \u001b[38;5;28;01melse\u001b[39;00m:\n\u001b[0;32m-> 1532\u001b[0m     \u001b[38;5;28;01mreturn\u001b[39;00m \u001b[38;5;28;43mself\u001b[39;49m\u001b[38;5;241;43m.\u001b[39;49m\u001b[43m_call_impl\u001b[49m\u001b[43m(\u001b[49m\u001b[38;5;241;43m*\u001b[39;49m\u001b[43margs\u001b[49m\u001b[43m,\u001b[49m\u001b[43m \u001b[49m\u001b[38;5;241;43m*\u001b[39;49m\u001b[38;5;241;43m*\u001b[39;49m\u001b[43mkwargs\u001b[49m\u001b[43m)\u001b[49m\n",
      "File \u001b[0;32m/external/anaconda3/envs/nemo/lib/python3.10/site-packages/torch/nn/modules/module.py:1541\u001b[0m, in \u001b[0;36mModule._call_impl\u001b[0;34m(self, *args, **kwargs)\u001b[0m\n\u001b[1;32m   1536\u001b[0m \u001b[38;5;66;03m# If we don't have any hooks, we want to skip the rest of the logic in\u001b[39;00m\n\u001b[1;32m   1537\u001b[0m \u001b[38;5;66;03m# this function, and just call forward.\u001b[39;00m\n\u001b[1;32m   1538\u001b[0m \u001b[38;5;28;01mif\u001b[39;00m \u001b[38;5;129;01mnot\u001b[39;00m (\u001b[38;5;28mself\u001b[39m\u001b[38;5;241m.\u001b[39m_backward_hooks \u001b[38;5;129;01mor\u001b[39;00m \u001b[38;5;28mself\u001b[39m\u001b[38;5;241m.\u001b[39m_backward_pre_hooks \u001b[38;5;129;01mor\u001b[39;00m \u001b[38;5;28mself\u001b[39m\u001b[38;5;241m.\u001b[39m_forward_hooks \u001b[38;5;129;01mor\u001b[39;00m \u001b[38;5;28mself\u001b[39m\u001b[38;5;241m.\u001b[39m_forward_pre_hooks\n\u001b[1;32m   1539\u001b[0m         \u001b[38;5;129;01mor\u001b[39;00m _global_backward_pre_hooks \u001b[38;5;129;01mor\u001b[39;00m _global_backward_hooks\n\u001b[1;32m   1540\u001b[0m         \u001b[38;5;129;01mor\u001b[39;00m _global_forward_hooks \u001b[38;5;129;01mor\u001b[39;00m _global_forward_pre_hooks):\n\u001b[0;32m-> 1541\u001b[0m     \u001b[38;5;28;01mreturn\u001b[39;00m \u001b[43mforward_call\u001b[49m\u001b[43m(\u001b[49m\u001b[38;5;241;43m*\u001b[39;49m\u001b[43margs\u001b[49m\u001b[43m,\u001b[49m\u001b[43m \u001b[49m\u001b[38;5;241;43m*\u001b[39;49m\u001b[38;5;241;43m*\u001b[39;49m\u001b[43mkwargs\u001b[49m\u001b[43m)\u001b[49m\n\u001b[1;32m   1543\u001b[0m \u001b[38;5;28;01mtry\u001b[39;00m:\n\u001b[1;32m   1544\u001b[0m     result \u001b[38;5;241m=\u001b[39m \u001b[38;5;28;01mNone\u001b[39;00m\n",
      "File \u001b[0;32m/external/anaconda3/envs/nemo/lib/python3.10/site-packages/nemo/collections/asr/parts/submodules/conformer_modules.py:351\u001b[0m, in \u001b[0;36mConformerConvolution.forward\u001b[0;34m(self, x, pad_mask, cache)\u001b[0m\n\u001b[1;32m    348\u001b[0m \u001b[38;5;28;01mif\u001b[39;00m pad_mask \u001b[38;5;129;01mis\u001b[39;00m \u001b[38;5;129;01mnot\u001b[39;00m \u001b[38;5;28;01mNone\u001b[39;00m:\n\u001b[1;32m    349\u001b[0m     x \u001b[38;5;241m=\u001b[39m x\u001b[38;5;241m.\u001b[39mfloat()\u001b[38;5;241m.\u001b[39mmasked_fill(pad_mask\u001b[38;5;241m.\u001b[39munsqueeze(\u001b[38;5;241m1\u001b[39m), \u001b[38;5;241m0.0\u001b[39m)\n\u001b[0;32m--> 351\u001b[0m x \u001b[38;5;241m=\u001b[39m \u001b[38;5;28;43mself\u001b[39;49m\u001b[38;5;241;43m.\u001b[39;49m\u001b[43mdepthwise_conv\u001b[49m(x, cache\u001b[38;5;241m=\u001b[39mcache)\n\u001b[1;32m    352\u001b[0m \u001b[38;5;28;01mif\u001b[39;00m cache \u001b[38;5;129;01mis\u001b[39;00m \u001b[38;5;129;01mnot\u001b[39;00m \u001b[38;5;28;01mNone\u001b[39;00m:\n\u001b[1;32m    353\u001b[0m     x, cache \u001b[38;5;241m=\u001b[39m x\n",
      "File \u001b[0;32m/external/anaconda3/envs/nemo/lib/python3.10/site-packages/torch/nn/modules/module.py:1699\u001b[0m, in \u001b[0;36mModule.__getattr__\u001b[0;34m(self, name)\u001b[0m\n\u001b[1;32m   1697\u001b[0m \u001b[38;5;28;01mif\u001b[39;00m \u001b[38;5;124m'\u001b[39m\u001b[38;5;124m_parameters\u001b[39m\u001b[38;5;124m'\u001b[39m \u001b[38;5;129;01min\u001b[39;00m \u001b[38;5;28mself\u001b[39m\u001b[38;5;241m.\u001b[39m\u001b[38;5;18m__dict__\u001b[39m:\n\u001b[1;32m   1698\u001b[0m     _parameters \u001b[38;5;241m=\u001b[39m \u001b[38;5;28mself\u001b[39m\u001b[38;5;241m.\u001b[39m\u001b[38;5;18m__dict__\u001b[39m[\u001b[38;5;124m'\u001b[39m\u001b[38;5;124m_parameters\u001b[39m\u001b[38;5;124m'\u001b[39m]\n\u001b[0;32m-> 1699\u001b[0m     \u001b[38;5;28;01mif\u001b[39;00m name \u001b[38;5;129;01min\u001b[39;00m _parameters:\n\u001b[1;32m   1700\u001b[0m         \u001b[38;5;28;01mreturn\u001b[39;00m _parameters[name]\n\u001b[1;32m   1701\u001b[0m \u001b[38;5;28;01mif\u001b[39;00m \u001b[38;5;124m'\u001b[39m\u001b[38;5;124m_buffers\u001b[39m\u001b[38;5;124m'\u001b[39m \u001b[38;5;129;01min\u001b[39;00m \u001b[38;5;28mself\u001b[39m\u001b[38;5;241m.\u001b[39m\u001b[38;5;18m__dict__\u001b[39m:\n",
      "\u001b[0;31mKeyboardInterrupt\u001b[0m: "
     ]
    }
   ],
   "source": [
    "# WER calculation\n",
    "from nemo.collections.asr.metrics.wer import word_error_rate\n",
    "# Collect all buffers from the audio file\n",
    "sampbuffer = np.zeros([buffer_len], dtype=np.float32)\n",
    "\n",
    "chunk_reader = AudioChunkIterator(samples, chunk_len_in_secs, sample_rate)\n",
    "buffer_list = []\n",
    "for chunk in chunk_reader:\n",
    "    sampbuffer[:-chunk_len] = sampbuffer[chunk_len:]\n",
    "    sampbuffer[-chunk_len:] = chunk\n",
    "    buffer_list.append(np.array(sampbuffer))\n",
    "\n",
    "asr_decoder = ChunkBufferDecoder(model, stride=stride, chunk_len_in_secs=chunk_len_in_secs, buffer_len_in_secs=buffer_len_in_secs )\n",
    "transcription = asr_decoder.transcribe_buffers(buffer_list, plot=False)\n",
    "wer = word_error_rate(hypotheses=[transcription], references=[ref_transcript])\n",
    "\n",
    "print(f\"WER: {round(wer*100,2)}%\")"
   ]
  }
 ],
 "metadata": {
  "accelerator": "GPU",
  "colab": {
   "collapsed_sections": [],
   "name": "ASR_with_NeMo.ipynb",
   "provenance": [],
   "toc_visible": true
  },
  "kernelspec": {
   "display_name": "Python 3 (ipykernel)",
   "language": "python",
   "name": "python3"
  },
  "language_info": {
   "codemirror_mode": {
    "name": "ipython",
    "version": 3
   },
   "file_extension": ".py",
   "mimetype": "text/x-python",
   "name": "python",
   "nbconvert_exporter": "python",
   "pygments_lexer": "ipython3",
   "version": "3.10.12"
  },
  "pycharm": {
   "stem_cell": {
    "cell_type": "raw",
    "metadata": {
     "collapsed": false
    },
    "source": []
   }
  }
 },
 "nbformat": 4,
 "nbformat_minor": 4
}
