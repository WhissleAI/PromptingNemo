{
 "cells": [
  {
   "cell_type": "code",
   "execution_count": null,
   "metadata": {},
   "outputs": [],
   "source": [
    "import torchaudio\n"
   ]
  },
  {
   "cell_type": "code",
   "execution_count": null,
   "metadata": {},
   "outputs": [],
   "source": [
    "def load_tags(file_path):\n",
    "    tag_dict = {}\n",
    "    with open(file_path, 'r') as file:\n",
    "        for line in file:\n",
    "            tag, code = line.strip().split()\n",
    "            tag_dict[code] = tag\n",
    "    return tag_dict"
   ]
  },
  {
   "cell_type": "code",
   "execution_count": null,
   "metadata": {},
   "outputs": [],
   "source": [
    "tag_dict = load_tags('/home/ksingla/workspace/PromptingNemo/data_v2/synthetic/processed/alltags_uniq.txt')"
   ]
  },
  {
   "cell_type": "code",
   "execution_count": null,
   "metadata": {},
   "outputs": [],
   "source": [
    "import nemo\n",
    "import torch\n",
    "import nemo.collections.asr as nemo_asr\n",
    "\n",
    "map_location = torch.device('cpu')\n",
    "\n",
    "asr_model = nemo_asr.models.ASRModel.restore_from(\"/external2/karan_exp/experiments/finetune-multidomain-alllang-100k-ctc/2024-07-18_00-21-12/checkpoints/finetune-multidomain-alllang-100k-ctc.nemo\", map_location=map_location)\n",
    "# Set the model to evaluation mode\n",
    "\n",
    "asr_model.eval()"
   ]
  },
  {
   "cell_type": "code",
   "execution_count": null,
   "metadata": {},
   "outputs": [],
   "source": []
  },
  {
   "cell_type": "code",
   "execution_count": null,
   "metadata": {},
   "outputs": [],
   "source": [
    "# Define a function to map tags to words\n",
    "def map_tags(word, tag_dict):\n",
    "    parts = word.split('_') if '_' in word else word.split('-')\n",
    "    mapped_parts = [tag_dict.get(part, part) for part in parts]\n",
    "    return ' '.join(mapped_parts)\n",
    "\n",
    "# Define a function to transcribe the audio\n",
    "def transcribe(audio_file):\n",
    "    # Load your 16k wav audio file\n",
    "    audio, sample_rate = torchaudio.load(audio_file)\n",
    "\n",
    "    if sample_rate != 16000:\n",
    "        raise ValueError(f\"Expected sample rate of 16000, but got {sample_rate}\")\n",
    "\n",
    "    # Perform transcription\n",
    "    with torch.no_grad():\n",
    "        transcription = asr_model.transcribe([audio_file])[0]\n",
    "\n",
    "    # Map the tags to the corresponding words\n",
    "    print(transcription)\n",
    "    words = transcription.split()\n",
    "    mapped_transcription = ' '.join([map_tags(word, tag_dict) for word in words])\n",
    "\n",
    "    return mapped_transcription"
   ]
  },
  {
   "cell_type": "code",
   "execution_count": null,
   "metadata": {},
   "outputs": [],
   "source": [
    "# Transcribe your audio file\n",
    "audio_file = '/external2/datasets/LibriSpeech/test-converted-wav/1089-134686-0032.wav'\n",
    "print(f\"Transcription: {transcribe(audio_file)}\")\n"
   ]
  },
  {
   "cell_type": "code",
   "execution_count": null,
   "metadata": {},
   "outputs": [],
   "source": [
    "from IPython.display import Audio\n",
    "\n",
    "#audio_file = '/external2/datasets/LibriSpeech/test-converted-wav/1089-134686-0023.wav'\n",
    "Audio(audio_file)"
   ]
  },
  {
   "cell_type": "code",
   "execution_count": null,
   "metadata": {},
   "outputs": [],
   "source": [
    "Transcription: DOMAIN SOCCER HIGHLIGHTS ENTITY PLAYER  was END the screment END of the ENTITY DEVICE ukaristu instuted underter the2o speies of bread and wine if jeeseuse cricet be presvanentt body and blood sol and divnity in the bread alonan and in theT813 wine a loan. INTENT ANALYSIS COMMENT"
   ]
  },
  {
   "cell_type": "code",
   "execution_count": null,
   "metadata": {},
   "outputs": [],
   "source": [
    "from google.cloud import texttospeech\n",
    "import os\n",
    "\n",
    "# Set up your Google Cloud credentials\n",
    "os.environ[\"GOOGLE_APPLICATION_CREDENTIALS\"] = \"/home/ksingla/workspace/medical-ner/keys/google-tts-key.json\"\n",
    "\n",
    "def list_available_voices():\n",
    "    # Initialize the Text-to-Speech client\n",
    "    client = texttospeech.TextToSpeechClient()\n",
    "\n",
    "    # Performs the list voices request\n",
    "    response = client.list_voices()\n",
    "\n",
    "    # Initialize a dictionary to store voices by language code\n",
    "    voice_dict = {\n",
    "        'EN': [], 'ES': [], 'FR': [], 'DE': [], 'IT': [], 'PT': [], 'NL': [], 'SV': []\n",
    "    }\n",
    "\n",
    "    # Define the language code mapping\n",
    "    language_mapping = {\n",
    "        'EN': 'en', 'ES': 'es', 'FR': 'fr', 'DE': 'de',\n",
    "        'IT': 'it', 'PT': 'pt', 'NL': 'nl', 'SV': 'sv'\n",
    "    }\n",
    "\n",
    "    # Populate the dictionary with available voices\n",
    "    for voice in response.voices:\n",
    "        for language_code in voice.language_codes:\n",
    "            for key, value in language_mapping.items():\n",
    "                if language_code.startswith(value):\n",
    "                    voice_dict[key].append(voice.name)\n",
    "\n",
    "    return voice_dict\n",
    "\n",
    "# List all available voices\n",
    "voices = list_available_voices()"
   ]
  },
  {
   "cell_type": "code",
   "execution_count": null,
   "metadata": {},
   "outputs": [],
   "source": [
    "voices"
   ]
  },
  {
   "cell_type": "code",
   "execution_count": null,
   "metadata": {},
   "outputs": [],
   "source": [
    "from langdetect import detect, detect_langs\n",
    "\n",
    "# Sample sentence\n",
    "sentence = \"나는 몸살이 나 오늘 아침 있어요\"\n",
    "\n",
    "# Detect language\n",
    "language = detect(sentence)\n",
    "\n",
    "# Detect language probabilities\n",
    "languages = detect_langs(sentence)\n",
    "\n",
    "print(f\"The detected language is: {language}\")\n",
    "print(f\"Language probabilities: {languages}\")\n"
   ]
  }
 ],
 "metadata": {
  "kernelspec": {
   "display_name": "nemo",
   "language": "python",
   "name": "python3"
  },
  "language_info": {
   "codemirror_mode": {
    "name": "ipython",
    "version": 3
   },
   "file_extension": ".py",
   "mimetype": "text/x-python",
   "name": "python",
   "nbconvert_exporter": "python",
   "pygments_lexer": "ipython3",
   "version": "3.10.12"
  }
 },
 "nbformat": 4,
 "nbformat_minor": 2
}
