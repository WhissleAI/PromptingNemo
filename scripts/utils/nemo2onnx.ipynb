{
 "cells": [
  {
   "cell_type": "code",
   "execution_count": 1,
   "metadata": {},
   "outputs": [
    {
     "name": "stdout",
     "output_type": "stream",
     "text": [
      "[NeMo I 2024-07-05 06:55:47 mixins:172] Tokenizer SentencePieceTokenizer initialized with 128 tokens\n"
     ]
    },
    {
     "name": "stderr",
     "output_type": "stream",
     "text": [
      "[NeMo W 2024-07-05 06:55:47 modelPT:165] If you intend to do training or fine-tuning, please call the ModelPT.setup_training_data() method and provide a valid configuration file to setup the train data loader.\n",
      "    Train config : \n",
      "    manifest_filepath: ../../data/hindi_normalized/filtered_hindi_v1_manifest.json\n",
      "    sample_rate: 16000\n",
      "    batch_size: 24\n",
      "    shuffle: true\n",
      "    num_workers: 16\n",
      "    pin_memory: true\n",
      "    use_start_end_token: false\n",
      "    trim_silence: false\n",
      "    max_duration: 30\n",
      "    min_duration: 0.1\n",
      "    is_tarred: false\n",
      "    tarred_audio_filepaths: null\n",
      "    shuffle_n: 2048\n",
      "    bucketing_strategy: synced_randomized\n",
      "    bucketing_batch_size: 8\n",
      "    \n",
      "[NeMo W 2024-07-05 06:55:47 modelPT:172] If you intend to do validation, please call the ModelPT.setup_validation_data() or ModelPT.setup_multiple_validation_data() method and provide a valid configuration file to setup the validation data loader(s). \n",
      "    Validation config : \n",
      "    manifest_filepath: /root/ekstep/nemo_exp/vakyansh-nemo-experimentation/data/hindi_normalized/stt_valid_manifest.json\n",
      "    sample_rate: 16000\n",
      "    batch_size: 1\n",
      "    max_duration: 30\n",
      "    shuffle: false\n",
      "    num_workers: 8\n",
      "    pin_memory: true\n",
      "    use_start_end_token: false\n",
      "    \n",
      "[NeMo W 2024-07-05 06:55:47 modelPT:178] Please call the ModelPT.setup_test_data() or ModelPT.setup_multiple_test_data() method and provide a valid configuration file to setup the test data loader(s).\n",
      "    Test config : \n",
      "    manifest_filepath: ../../data/tarini_manifest.json\n",
      "    sample_rate: 16000\n",
      "    batch_size: 4\n",
      "    shuffle: false\n",
      "    num_workers: 8\n",
      "    pin_memory: true\n",
      "    use_start_end_token: false\n",
      "    \n"
     ]
    },
    {
     "name": "stdout",
     "output_type": "stream",
     "text": [
      "[NeMo I 2024-07-05 06:55:47 features:289] PADDING: 0\n",
      "[NeMo I 2024-07-05 06:55:48 save_restore_connector:249] Model EncDecCTCModelBPE was successfully restored from /external/ksingla/models/hf/stt/stt_hi_conformer_ctc_large.nemo.\n"
     ]
    },
    {
     "name": "stderr",
     "output_type": "stream",
     "text": [
      "[NeMo W 2024-07-05 06:55:49 nemo_logging:349] /external/svanga/demo/nemo_env/lib/python3.10/site-packages/torch/nn/modules/conv.py:456: UserWarning: Applied workaround for CuDNN issue, install nvrtc.so (Triggered internally at /opt/conda/conda-bld/pytorch_1716905971132/work/aten/src/ATen/native/cudnn/Conv_v8.cpp:84.)\n",
      "      return F.conv2d(input, weight, bias, self.stride,\n",
      "    \n",
      "[NeMo W 2024-07-05 06:55:49 nemo_logging:349] /external/svanga/demo/nemo_env/lib/python3.10/site-packages/torch/onnx/utils.py:2098: UserWarning: No names were found for specified dynamic axes of provided input.Automatically generated names will be applied to each dynamic axes of input audio_signal\n",
      "      warnings.warn(\n",
      "    \n",
      "[NeMo W 2024-07-05 06:55:49 nemo_logging:349] /external/svanga/demo/nemo_env/lib/python3.10/site-packages/torch/onnx/utils.py:2098: UserWarning: No names were found for specified dynamic axes of provided input.Automatically generated names will be applied to each dynamic axes of input length\n",
      "      warnings.warn(\n",
      "    \n",
      "[NeMo W 2024-07-05 06:55:49 nemo_logging:349] /external/svanga/demo/nemo_env/lib/python3.10/site-packages/torch/onnx/utils.py:2098: UserWarning: No names were found for specified dynamic axes of provided input.Automatically generated names will be applied to each dynamic axes of input logprobs\n",
      "      warnings.warn(\n",
      "    \n",
      "[NeMo W 2024-07-05 06:55:49 nemo_logging:349] /external/svanga/demo/nemo_env/lib/python3.10/site-packages/nemo/collections/asr/modules/conformer_encoder.py:659: TracerWarning: Converting a tensor to a Python boolean might cause the trace to be incorrect. We can't record the data flow of Python values, so this value will be treated as a constant in the future. This means that the trace might not generalize to other inputs!\n",
      "      if seq_length > self.max_audio_length:\n",
      "    \n",
      "[NeMo W 2024-07-05 06:55:50 nemo_logging:349] /external/svanga/demo/nemo_env/lib/python3.10/site-packages/torch/onnx/symbolic_opset9.py:2174: FutureWarning: 'torch.onnx.symbolic_opset9._cast_Bool' is deprecated in version 2.0 and will be removed in the future. Please Avoid using this function and create a Cast node instead.\n",
      "      return fn(g, to_cast_func(g, input, False), to_cast_func(g, other, False))\n",
      "    \n",
      "[NeMo W 2024-07-05 06:55:50 nemo_logging:349] /external/svanga/demo/nemo_env/lib/python3.10/site-packages/torch/onnx/_internal/jit_utils.py:307: UserWarning: Constant folding - Only steps=1 can be constant folded for opset >= 10 onnx::Slice op. Constant folding not applied. (Triggered internally at /opt/conda/conda-bld/pytorch_1716905971132/work/torch/csrc/jit/passes/onnx/constant_fold.cpp:179.)\n",
      "      _C._jit_pass_onnx_node_shape_type_inference(node, params_dict, opset_version)\n",
      "    \n",
      "[NeMo W 2024-07-05 06:55:58 nemo_logging:349] /external/svanga/demo/nemo_env/lib/python3.10/site-packages/torch/onnx/utils.py:702: UserWarning: Constant folding - Only steps=1 can be constant folded for opset >= 10 onnx::Slice op. Constant folding not applied. (Triggered internally at /opt/conda/conda-bld/pytorch_1716905971132/work/torch/csrc/jit/passes/onnx/constant_fold.cpp:179.)\n",
      "      _C._jit_pass_onnx_graph_shape_type_inference(\n",
      "    \n",
      "[NeMo W 2024-07-05 06:56:01 nemo_logging:349] /external/svanga/demo/nemo_env/lib/python3.10/site-packages/torch/onnx/utils.py:1208: UserWarning: Constant folding - Only steps=1 can be constant folded for opset >= 10 onnx::Slice op. Constant folding not applied. (Triggered internally at /opt/conda/conda-bld/pytorch_1716905971132/work/torch/csrc/jit/passes/onnx/constant_fold.cpp:179.)\n",
      "      _C._jit_pass_onnx_graph_shape_type_inference(\n",
      "    \n"
     ]
    },
    {
     "name": "stdout",
     "output_type": "stream",
     "text": [
      "[NeMo I 2024-07-05 06:56:04 exportable:131] Successfully exported EncDecCTCModelBPE to /external2/artifacts/whissle/model_shelf/HI_conformer_ctc_large/model.onnx\n"
     ]
    }
   ],
   "source": [
    "from nemo.collections.asr.models import ASRModel\n",
    "import torch\n",
    "from pathlib import Path\n",
    "import os\n",
    "import tarfile \n",
    "import glob\n",
    "import shutil\n",
    "\n",
    "\n",
    "nemo_model_path = '/external/ksingla/models/hf/stt/stt_hi_conformer_ctc_large.nemo'\n",
    "model_shelf =  \"/external2/artifacts/whissle/model_shelf\"\n",
    "save_directory = Path(model_shelf) / \"HI_conformer_ctc_large\"\n",
    "\n",
    "os.makedirs(save_directory)\n",
    "\n",
    "device = 'cuda' if torch.cuda.is_available() else 'cpu'\n",
    "\n",
    "nemo_model = ASRModel.restore_from(nemo_model_path, map_location=device)\n",
    "\n",
    "config = {\n",
    "    \"task\": \"speech_recognition\",\n",
    "    \"sample_rate\": 16000,\n",
    "    \"encoder.onnx\": \"model.onnx\",\n",
    "    \"tokenizer.model\": \"tokenizer/tokenizer.model\",\n",
    "    \"onnx.intra_op_num_threads\": 1,\n",
    "    \"preprocessor\": nemo_model.cfg['preprocessor']\n",
    "}\n",
    "\n",
    "nemo_model.export(save_directory/\"model.onnx\")\n",
    "nemo_archive = tarfile.open(nemo_model_path) \n",
    "nemo_archive.extractall(save_directory/\"extract\") \n",
    "\n"
   ]
  },
  {
   "cell_type": "code",
   "execution_count": 7,
   "metadata": {},
   "outputs": [
    {
     "data": {
      "text/plain": [
       "PosixPath('/external2/artifacts/whissle/model_shelf/HI_conformer_ctc_large/tokenizer/tokenizer.model')"
      ]
     },
     "execution_count": 7,
     "metadata": {},
     "output_type": "execute_result"
    }
   ],
   "source": [
    "os.makedirs(save_directory/\"tokenizer\")\n",
    "tokenizer_model_path = glob.glob(str(save_directory) + \"/extract/*tokenizer.model\")[0]\n",
    "shutil.copy(tokenizer_model_path, save_directory/\"tokenizer/tokenizer.model\")\n",
    "\n"
   ]
  },
  {
   "cell_type": "code",
   "execution_count": 11,
   "metadata": {},
   "outputs": [],
   "source": [
    "shutil.rmtree(save_directory/\"extract\")"
   ]
  },
  {
   "cell_type": "code",
   "execution_count": 12,
   "metadata": {},
   "outputs": [],
   "source": [
    "\n",
    "# Convert dictionary to plain text format\n",
    "config_text = \"\\n\".join(f\"{key}={value}\" for key, value in config.items()) + \"\\n\"\n",
    "\n",
    "# Write the plain text to magic.txt\n",
    "magic_file = open(save_directory / \"magic.txt\",'w')\n",
    "magic_file.write(config_text)\n",
    "magic_file.close()\n"
   ]
  },
  {
   "cell_type": "code",
   "execution_count": 16,
   "metadata": {},
   "outputs": [
    {
     "data": {
      "text/plain": [
       "{'task': 'speech_recognition',\n",
       " 'sample_rate': 16000,\n",
       " 'encoder.onnx': 'model.onnx',\n",
       " 'tokenizer.model': 'tokenizer/tokenizer.model',\n",
       " 'onnx.intra_op_num_threads': 1,\n",
       " 'preprocessor': {'_target_': 'nemo.collections.asr.modules.AudioToMelSpectrogramPreprocessor', 'sample_rate': 16000, 'normalize': 'per_feature', 'window_size': 0.025, 'window_stride': 0.01, 'window': 'hann', 'features': 80, 'n_fft': 512, 'log': True, 'frame_splicing': 1, 'dither': 1e-05, 'pad_to': 0, 'pad_value': 0.0}}"
      ]
     },
     "execution_count": 16,
     "metadata": {},
     "output_type": "execute_result"
    }
   ],
   "source": [
    "config"
   ]
  },
  {
   "cell_type": "code",
   "execution_count": 19,
   "metadata": {},
   "outputs": [
    {
     "ename": "AttributeError",
     "evalue": "module 'yaml' has no attribute 'dumps'",
     "output_type": "error",
     "traceback": [
      "\u001b[0;31m---------------------------------------------------------------------------\u001b[0m",
      "\u001b[0;31mAttributeError\u001b[0m                            Traceback (most recent call last)",
      "Cell \u001b[0;32mIn[19], line 1\u001b[0m\n\u001b[0;32m----> 1\u001b[0m \u001b[43myaml\u001b[49m\u001b[38;5;241;43m.\u001b[39;49m\u001b[43mdumps\u001b[49m(config)\n",
      "\u001b[0;31mAttributeError\u001b[0m: module 'yaml' has no attribute 'dumps'"
     ]
    }
   ],
   "source": [
    "yaml.dumps(config)"
   ]
  },
  {
   "cell_type": "code",
   "execution_count": 28,
   "metadata": {},
   "outputs": [],
   "source": [
    "config['preprocessor'] = dict(config['preprocessor'])"
   ]
  },
  {
   "cell_type": "code",
   "execution_count": 29,
   "metadata": {},
   "outputs": [],
   "source": [
    "import yaml\n",
    "yaml_string = yaml.dump(config, default_flow_style=False)\n",
    "# with open(save_directory/\"magic.yaml\", 'w+') as f:\n",
    "#     yaml.dump(yaml.load(config), f, default_flow_style=False, allow_unicode=True)"
   ]
  },
  {
   "cell_type": "code",
   "execution_count": 30,
   "metadata": {},
   "outputs": [
    {
     "data": {
      "text/plain": [
       "'encoder.onnx: model.onnx\\nonnx.intra_op_num_threads: 1\\npreprocessor:\\n  _target_: nemo.collections.asr.modules.AudioToMelSpectrogramPreprocessor\\n  dither: 1.0e-05\\n  features: 80\\n  frame_splicing: 1\\n  log: true\\n  n_fft: 512\\n  normalize: per_feature\\n  pad_to: 0\\n  pad_value: 0.0\\n  sample_rate: 16000\\n  window: hann\\n  window_size: 0.025\\n  window_stride: 0.01\\nsample_rate: 16000\\ntask: speech_recognition\\ntokenizer.model: tokenizer/tokenizer.model\\n'"
      ]
     },
     "execution_count": 30,
     "metadata": {},
     "output_type": "execute_result"
    }
   ],
   "source": [
    "yaml_string"
   ]
  },
  {
   "cell_type": "code",
   "execution_count": null,
   "metadata": {},
   "outputs": [],
   "source": []
  }
 ],
 "metadata": {
  "kernelspec": {
   "display_name": "Python 3",
   "language": "python",
   "name": "python3"
  },
  "language_info": {
   "codemirror_mode": {
    "name": "ipython",
    "version": 3
   },
   "file_extension": ".py",
   "mimetype": "text/x-python",
   "name": "python",
   "nbconvert_exporter": "python",
   "pygments_lexer": "ipython3",
   "version": "3.10.14"
  }
 },
 "nbformat": 4,
 "nbformat_minor": 2
}
