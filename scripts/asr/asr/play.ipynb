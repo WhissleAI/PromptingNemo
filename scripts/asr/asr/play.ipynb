{
 "cells": [
  {
   "cell_type": "code",
   "execution_count": 9,
   "metadata": {},
   "outputs": [
    {
     "name": "stdout",
     "output_type": "stream",
     "text": [
      "[NeMo I 2024-08-06 02:40:28 mixins:170] Tokenizer SentencePieceTokenizer initialized with 1024 tokens\n"
     ]
    },
    {
     "name": "stderr",
     "output_type": "stream",
     "text": [
      "[NeMo W 2024-08-06 02:40:29 modelPT:161] If you intend to do training or fine-tuning, please call the ModelPT.setup_training_data() method and provide a valid configuration file to setup the train data loader.\n",
      "    Train config : \n",
      "    manifest_filepath: /external2/datasets/slurp/train-slurp-tagged.json\n",
      "    sample_rate: 16000\n",
      "    batch_size: 16\n",
      "    shuffle: true\n",
      "    num_workers: 8\n",
      "    pin_memory: true\n",
      "    use_start_end_token: false\n",
      "    trim_silence: false\n",
      "    max_duration: 20.0\n",
      "    min_duration: 0.1\n",
      "    shuffle_n: 2048\n",
      "    is_tarred: false\n",
      "    tarred_audio_filepaths: null\n",
      "    \n",
      "[NeMo W 2024-08-06 02:40:29 modelPT:168] If you intend to do validation, please call the ModelPT.setup_validation_data() or ModelPT.setup_multiple_validation_data() method and provide a valid configuration file to setup the validation data loader(s). \n",
      "    Validation config : \n",
      "    manifest_filepath: /external2/datasets/slurp/devel-slurp-tagged.json\n",
      "    sample_rate: 16000\n",
      "    batch_size: 16\n",
      "    shuffle: false\n",
      "    num_workers: 8\n",
      "    pin_memory: true\n",
      "    use_start_end_token: false\n",
      "    is_tarred: false\n",
      "    tarred_audio_filepaths: na\n",
      "    \n",
      "[NeMo W 2024-08-06 02:40:29 modelPT:174] Please call the ModelPT.setup_test_data() or ModelPT.setup_multiple_test_data() method and provide a valid configuration file to setup the test data loader(s).\n",
      "    Test config : \n",
      "    manifest_filepath: /external2/datasets/slurp/devel-slurp-tagged.json\n",
      "    sample_rate: 16000\n",
      "    batch_size: 16\n",
      "    shuffle: false\n",
      "    num_workers: 8\n",
      "    pin_memory: true\n",
      "    use_start_end_token: false\n",
      "    is_tarred: false\n",
      "    tarred_audio_filepaths: na\n",
      "    \n"
     ]
    },
    {
     "name": "stdout",
     "output_type": "stream",
     "text": [
      "[NeMo I 2024-08-06 02:40:29 features:289] PADDING: 0\n",
      "[NeMo I 2024-08-06 02:40:29 adapter_mixins:607] Finished setup of adapter : 'LinearAdapter'. Enabled: True.\n",
      "[NeMo I 2024-08-06 02:40:29 adapter_mixins:607] Finished setup of adapter : 'BottleneckAdapter'. Enabled: True.\n",
      "[NeMo I 2024-08-06 02:40:30 adapter_mixins:607] Finished setup of adapter : 'AttentionAdapter'. Enabled: True.\n",
      "[NeMo I 2024-08-06 02:40:32 save_restore_connector:249] Model EncDecCTCModelBPE was successfully restored from /root/.cache/huggingface/hub/models--WhissleAI--speech-tagger_en_slurp-iot/snapshots/caa26aa030e667efb7ae0a9ce1953c0ec0314dc6/speech-tagger_en_slurp-iot.nemo.\n"
     ]
    },
    {
     "data": {
      "application/vnd.jupyter.widget-view+json": {
       "model_id": "2b99341b3a0241d78548382895388a4e",
       "version_major": 2,
       "version_minor": 0
      },
      "text/plain": [
       "Transcribing:   0%|          | 0/1 [00:00<?, ?it/s]"
      ]
     },
     "metadata": {},
     "output_type": "display_data"
    },
    {
     "name": "stdout",
     "output_type": "stream",
     "text": [
      "Transcription: news of the upriing in ENTITY-PLACE_NAME prague END was well receivedd in the ENTITY-PLACE_NAMEch countryside END. INTENT-NEWS_QUERY SAD\n"
     ]
    }
   ],
   "source": [
    "import torch\n",
    "import nemo.collections.asr as nemo_asr\n",
    "\n",
    "# Step 1: Initialize the ASR model from Hugging Face\n",
    "model_name = 'WhissleAI/speech-tagger_en_slurp-iot'  # Example model\n",
    "asr_model = nemo_asr.models.EncDecCTCModel.from_pretrained(model_name)\n",
    "\n",
    "# Step 4: Transcribe the audio\n",
    "transcription = asr_model.transcribe(paths2audio_files=['/external2/datasets/english/wav/common_voice_en_34390690.wav'])\n",
    "print(f'Transcription: {transcription[0]}')\n"
   ]
  }
 ],
 "metadata": {
  "kernelspec": {
   "display_name": "nemo_env",
   "language": "python",
   "name": "python3"
  },
  "language_info": {
   "codemirror_mode": {
    "name": "ipython",
    "version": 3
   },
   "file_extension": ".py",
   "mimetype": "text/x-python",
   "name": "python",
   "nbconvert_exporter": "python",
   "pygments_lexer": "ipython3",
   "version": "3.10.14"
  }
 },
 "nbformat": 4,
 "nbformat_minor": 2
}
