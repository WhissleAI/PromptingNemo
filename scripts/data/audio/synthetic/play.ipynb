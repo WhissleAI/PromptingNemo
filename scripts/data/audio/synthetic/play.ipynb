{
 "cells": [
  {
   "cell_type": "code",
   "execution_count": 1,
   "metadata": {},
   "outputs": [
    {
     "name": "stdout",
     "output_type": "stream",
     "text": [
      "ENTITY_WEATHER_CONDITION hot END INTENT_SMALL_TALK\n",
      "ENTITY_SUBJECT time END INTENT_UNCERTAINTY\n",
      "ENTITY_MEAL lunch END INTENT_QUESTION\n",
      "ENTITY_EMOTION happy END INTENT_FEELING\n",
      "ENTITY_TIME tomorrow END INTENT_QUESTION\n",
      "ENTITY_SOUND noise END INTENT_STATEMENT\n",
      "ENTITY_TASK anything END INTENT_OFFER_HELP\n",
      "ENTITY_PERSON Alex END INTENT_GREETING\n",
      "ENTITY_WEATHER_CONDITION rainy END INTENT_SMALL_TALK\n"
     ]
    }
   ],
   "source": [
    "import re\n",
    "\n",
    "def clean_sentence(sentence):\n",
    "    # Extract ENTITY and INTENT\n",
    "    entities = re.findall(r'ENTITY_[A-Z_]+ \\w+ END', sentence)\n",
    "    intent = re.search(r'INTENT_[A-Z_]+', sentence)\n",
    "    \n",
    "    # Join the extracted parts\n",
    "    cleaned_sentence = ' '.join(entities)\n",
    "    if intent:\n",
    "        cleaned_sentence += ' ' + intent.group()\n",
    "    \n",
    "    return cleaned_sentence\n",
    "\n",
    "# Example sentences\n",
    "sentences = [\n",
    "    \"LANG_EN I can't believe how ENTITY_WEATHER_CONDITION hot END it is outside! INTENT_SMALL_TALK\",\n",
    "    \"LANG_EN I'm not sure if I have enough ENTITY_SUBJECT time END to finish this project. INTENT_UNCERTAINTY\",\n",
    "    \"LANG_EN What do you feel like having for ENTITY_MEAL lunch END today? INTENT_QUESTION\",\n",
    "    \"LANG_EN I'm feeling really ENTITY_EMOTION happy END about the news! INTENT_FEELING\",\n",
    "    \"LANG_EN What time should we meet ENTITY_TIME tomorrow END? INTENT_QUESTION\",\n",
    "    \"LANG_EN I thought I heard a strange ENTITY_SOUND noise END coming from the basement. INTENT_STATEMENT\",\n",
    "    \"LANG_EN Do you need help with ENTITY_TASK anything END around the house? INTENT_OFFER_HELP\",\n",
    "    \"LANG_EN Hey there, ENTITY_PERSON Alex END, how's it going? INTENT_GREETING\",\n",
    "    \"LANG_EN Can you believe how ENTITY_WEATHER_CONDITION rainy END it's been this week? INTENT_SMALL_TALK\",\n",
    "    \"LANG_EN ENTITY_ACTION Update END the ENTITY_PATIENT_INFO contact information END for ENTITY_PATIENT_INFO patient 123 END. INTENT_UPDATE_PATIENT_INFO\"\n",
    "]\n",
    "\n",
    "# Clean each sentence\n",
    "cleaned_sentences = [clean_sentence(sentence) for sentence in sentences]\n",
    "\n",
    "# Print cleaned sentences\n",
    "for cleaned in cleaned_sentences:\n",
    "    print(cleaned)"
   ]
  }
 ],
 "metadata": {
  "kernelspec": {
   "display_name": "nemo",
   "language": "python",
   "name": "python3"
  },
  "language_info": {
   "codemirror_mode": {
    "name": "ipython",
    "version": 3
   },
   "file_extension": ".py",
   "mimetype": "text/x-python",
   "name": "python",
   "nbconvert_exporter": "python",
   "pygments_lexer": "ipython3",
   "version": "3.10.12"
  }
 },
 "nbformat": 4,
 "nbformat_minor": 2
}
