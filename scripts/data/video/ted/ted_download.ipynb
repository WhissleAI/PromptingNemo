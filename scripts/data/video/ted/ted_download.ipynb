{
 "cells": [
  {
   "cell_type": "code",
   "execution_count": 1,
   "metadata": {},
   "outputs": [],
   "source": [
    "import requests\n",
    "from bs4 import BeautifulSoup\n",
    "import yt_dlp\n",
    "\n",
    "def get_ted_talk_links():\n",
    "    url = 'https://www.ted.com/talks'\n",
    "    response = requests.get(url)\n",
    "    soup = BeautifulSoup(response.text, 'html.parser')\n",
    "    \n",
    "    links = []\n",
    "    for a in soup.find_all('a', class_='ga-link'):\n",
    "        link = a['href']\n",
    "        if link.startswith('/talks/'):\n",
    "            full_link = f\"https://www.ted.com{link}\"\n",
    "            links.append(full_link)\n",
    "    \n",
    "    return links\n",
    "\n",
    "def download_video(video_url):\n",
    "    ydl_opts = {\n",
    "        'outtmpl': '%(title)s.%(ext)s',\n",
    "        'format': 'best',\n",
    "    }\n",
    "    with yt_dlp.YoutubeDL(ydl_opts) as ydl:\n",
    "        ydl.download([video_url])\n",
    "\n",
    "if __name__ == '__main__':\n",
    "    ted_talk_links = get_ted_talk_links()\n",
    "    for link in ted_talk_links:\n",
    "        print(f\"Downloading: {link}\")\n",
    "        download_video(link)\n"
   ]
  }
 ],
 "metadata": {
  "kernelspec": {
   "display_name": "nemo",
   "language": "python",
   "name": "python3"
  },
  "language_info": {
   "codemirror_mode": {
    "name": "ipython",
    "version": 3
   },
   "file_extension": ".py",
   "mimetype": "text/x-python",
   "name": "python",
   "nbconvert_exporter": "python",
   "pygments_lexer": "ipython3",
   "version": "3.10.12"
  }
 },
 "nbformat": 4,
 "nbformat_minor": 2
}
